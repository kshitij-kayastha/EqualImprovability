{
 "cells": [
  {
   "cell_type": "code",
   "execution_count": 35,
   "metadata": {},
   "outputs": [],
   "source": [
    "import torch\n",
    "import pickle\n",
    "import warnings\n",
    "import numpy as np\n",
    "import pandas as pd\n",
    "import plotly.express as px\n",
    "from copy import deepcopy\n",
    "from tqdm import tqdm\n",
    "\n",
    "\n",
    "from model import LR\n",
    "from data import FairnessDataset, SyntheticDataset, GermanDataset, IncomeDataset\n",
    "from ei_effort import Optimal_Effort, PGD_Effort\n",
    "from ei_utils import *\n",
    "from ei_model_test import EIModel, fair_batch_proxy, covariance_proxy\n",
    "\n",
    "# warnings.filterwarnings('ignore')"
   ]
  },
  {
   "cell_type": "code",
   "execution_count": 36,
   "metadata": {},
   "outputs": [],
   "source": [
    "def get_wandb(model):\n",
    "    for module in model.layers:\n",
    "        if hasattr(module, 'weight'):\n",
    "            weights = module.weight.data[0]\n",
    "        if hasattr(module, 'bias'):\n",
    "            bias = module.bias.data\n",
    "            \n",
    "    theta = torch.cat((weights, bias), 0)\n",
    "    return theta.numpy().round(2)"
   ]
  },
  {
   "cell_type": "code",
   "execution_count": 37,
   "metadata": {},
   "outputs": [],
   "source": [
    "# dataset = SyntheticDataset(seed=0)\n",
    "dataset = GermanDataset(seed=0)\n",
    "# dataset = IncomeDataset(seed=1)"
   ]
  },
  {
   "cell_type": "code",
   "execution_count": 38,
   "metadata": {},
   "outputs": [],
   "source": [
    "def append_res(d, lamb, train_alpha, alpha, acc, fair_loss, ei, ei_model):\n",
    "    d['lambda'].append(lamb)\n",
    "    d['train_alpha'].append(train_alpha)\n",
    "    d['alpha'].append(alpha)\n",
    "    d['accuracy'].append(acc)\n",
    "    d['loss'].append(1-acc)\n",
    "    d['fair_loss'].append(fair_loss)\n",
    "    d['ei_disparity'].append(ei)\n",
    "    d['ei_model'].append(ei_model)"
   ]
  },
  {
   "cell_type": "code",
   "execution_count": 39,
   "metadata": {},
   "outputs": [],
   "source": [
    "def model_runner(dataset: FairnessDataset, hp: dict, results: dict):\n",
    "    tau = 0.5\n",
    "    \n",
    "    if hp['optimal_effort']:\n",
    "        effort = Optimal_Effort(hp['delta'])\n",
    "    else:\n",
    "        effort = PGD_Effort(hp['delta'])\n",
    "    \n",
    "    if hp['robust_training']:\n",
    "        train_alpha = hp['alpha']\n",
    "    else:\n",
    "        train_alpha = 0.\n",
    "    \n",
    "    train_tensors, val_tensors, test_tensors = dataset.tensor(z_blind=hp['z_blind'])\n",
    "    train_dataset = FairnessDataset(*train_tensors, dataset.imp_feats)\n",
    "    val_dataset = FairnessDataset(*val_tensors, dataset.imp_feats)\n",
    "    test_dataset = FairnessDataset(*test_tensors, dataset.imp_feats)\n",
    "    \n",
    "    model = LR(num_features=train_dataset.X.shape[1])\n",
    "    ei_model = EIModel(\n",
    "        model = model,\n",
    "        proxy = hp['proxy'],\n",
    "        effort = effort,\n",
    "        tau = tau,\n",
    "        warm_start = True)\n",
    "    \n",
    "    ei_model.train(\n",
    "        train_dataset,\n",
    "        lamb=hp['lambda'],\n",
    "        alpha=train_alpha,\n",
    "        lr=hp['learning_rate'],\n",
    "        n_epochs=hp['n_epochs'],\n",
    "        batch_size=1024,\n",
    "        abstol=hp['pga_abstol']\n",
    "        )\n",
    "    \n",
    "    Y_hat, Y_hat_max, fair_loss = ei_model.predict(test_dataset, alpha=hp['alpha'], abstol=hp['pga_abstol'])\n",
    "    accuracy, ei_disparity = model_performance(test_dataset.Y.detach().numpy(), test_dataset.Z.detach().numpy(), Y_hat, Y_hat_max, tau)\n",
    "    append_res(results, hp['lambda'], train_alpha, hp['alpha'], accuracy, fair_loss.item(), ei_disparity, ei_model)"
   ]
  },
  {
   "cell_type": "code",
   "execution_count": 40,
   "metadata": {},
   "outputs": [],
   "source": [
    "def run_tradeoff(dataset, hyper_params):\n",
    "    hp = hyper_params.copy()\n",
    "    results = pd.DataFrame()\n",
    "    \n",
    "    results = {'lambda': [], 'train_alpha': [], 'alpha': [], 'accuracy': [], 'loss': [], 'fair_loss': [], 'ei_disparity': [], 'ei_model': []}\n",
    "    for robust_training in hyper_params['robust_training']:\n",
    "        for delta in hyper_params['delta']:\n",
    "            for lamb in hyper_params['lambda']:\n",
    "                for alpha in hyper_params['alpha']:\n",
    "                    hp['robust_training'] = robust_training\n",
    "                    hp['delta'] = delta\n",
    "                    hp['lambda'] = lamb\n",
    "                    hp['alpha'] = alpha\n",
    "                \n",
    "                    model_runner(dataset, hp, results)\n",
    "    \n",
    "    return results"
   ]
  },
  {
   "cell_type": "code",
   "execution_count": 41,
   "metadata": {},
   "outputs": [
    {
     "name": "stderr",
     "output_type": "stream",
     "text": [
      "Training [alpha=0.00; lambda=1.00; delta=1.00]: 100%|\u001b[38;2;0;145;255m██████████\u001b[0m| 200/200 [00:11<00:00, 17.66epochs/s]\n",
      "Training [alpha=0.00; lambda=1.00; delta=1.00]: 100%|\u001b[38;2;0;145;255m██████████\u001b[0m| 200/200 [00:11<00:00, 17.16epochs/s]\n",
      "Training [alpha=0.00; lambda=1.00; delta=1.00]:  41%|\u001b[38;2;0;145;255m████      \u001b[0m| 82/200 [00:05<00:07, 16.27epochs/s]\n"
     ]
    },
    {
     "ename": "KeyboardInterrupt",
     "evalue": "",
     "output_type": "error",
     "traceback": [
      "\u001b[0;31m---------------------------------------------------------------------------\u001b[0m",
      "\u001b[0;31mKeyboardInterrupt\u001b[0m                         Traceback (most recent call last)",
      "Cell \u001b[0;32mIn[41], line 16\u001b[0m\n\u001b[1;32m     13\u001b[0m hyper_params[\u001b[38;5;124m'\u001b[39m\u001b[38;5;124mrobust_training\u001b[39m\u001b[38;5;124m'\u001b[39m] \u001b[38;5;241m=\u001b[39m [\u001b[38;5;28;01mFalse\u001b[39;00m, \u001b[38;5;28;01mTrue\u001b[39;00m]\n\u001b[1;32m     15\u001b[0m \u001b[38;5;66;03m# Run tradeoffs\u001b[39;00m\n\u001b[0;32m---> 16\u001b[0m results \u001b[38;5;241m=\u001b[39m \u001b[43mrun_tradeoff\u001b[49m\u001b[43m(\u001b[49m\u001b[43mdataset\u001b[49m\u001b[43m,\u001b[49m\u001b[43m \u001b[49m\u001b[43mhyper_params\u001b[49m\u001b[43m)\u001b[49m\n",
      "Cell \u001b[0;32mIn[40], line 15\u001b[0m, in \u001b[0;36mrun_tradeoff\u001b[0;34m(dataset, hyper_params)\u001b[0m\n\u001b[1;32m     12\u001b[0m                 hp[\u001b[38;5;124m'\u001b[39m\u001b[38;5;124mlambda\u001b[39m\u001b[38;5;124m'\u001b[39m] \u001b[38;5;241m=\u001b[39m lamb\n\u001b[1;32m     13\u001b[0m                 hp[\u001b[38;5;124m'\u001b[39m\u001b[38;5;124malpha\u001b[39m\u001b[38;5;124m'\u001b[39m] \u001b[38;5;241m=\u001b[39m alpha\n\u001b[0;32m---> 15\u001b[0m                 \u001b[43mmodel_runner\u001b[49m\u001b[43m(\u001b[49m\u001b[43mdataset\u001b[49m\u001b[43m,\u001b[49m\u001b[43m \u001b[49m\u001b[43mhp\u001b[49m\u001b[43m,\u001b[49m\u001b[43m \u001b[49m\u001b[43mresults\u001b[49m\u001b[43m)\u001b[49m\n\u001b[1;32m     17\u001b[0m \u001b[38;5;28;01mreturn\u001b[39;00m results\n",
      "Cell \u001b[0;32mIn[39], line 27\u001b[0m, in \u001b[0;36mmodel_runner\u001b[0;34m(dataset, hp, results)\u001b[0m\n\u001b[1;32m     19\u001b[0m model \u001b[38;5;241m=\u001b[39m LR(num_features\u001b[38;5;241m=\u001b[39mtrain_dataset\u001b[38;5;241m.\u001b[39mX\u001b[38;5;241m.\u001b[39mshape[\u001b[38;5;241m1\u001b[39m])\n\u001b[1;32m     20\u001b[0m ei_model \u001b[38;5;241m=\u001b[39m EIModel(\n\u001b[1;32m     21\u001b[0m     model \u001b[38;5;241m=\u001b[39m model,\n\u001b[1;32m     22\u001b[0m     proxy \u001b[38;5;241m=\u001b[39m hp[\u001b[38;5;124m'\u001b[39m\u001b[38;5;124mproxy\u001b[39m\u001b[38;5;124m'\u001b[39m],\n\u001b[1;32m     23\u001b[0m     effort \u001b[38;5;241m=\u001b[39m effort,\n\u001b[1;32m     24\u001b[0m     tau \u001b[38;5;241m=\u001b[39m tau,\n\u001b[1;32m     25\u001b[0m     warm_start \u001b[38;5;241m=\u001b[39m \u001b[38;5;28;01mTrue\u001b[39;00m)\n\u001b[0;32m---> 27\u001b[0m \u001b[43mei_model\u001b[49m\u001b[38;5;241;43m.\u001b[39;49m\u001b[43mtrain\u001b[49m\u001b[43m(\u001b[49m\n\u001b[1;32m     28\u001b[0m \u001b[43m    \u001b[49m\u001b[43mtrain_dataset\u001b[49m\u001b[43m,\u001b[49m\n\u001b[1;32m     29\u001b[0m \u001b[43m    \u001b[49m\u001b[43mlamb\u001b[49m\u001b[38;5;241;43m=\u001b[39;49m\u001b[43mhp\u001b[49m\u001b[43m[\u001b[49m\u001b[38;5;124;43m'\u001b[39;49m\u001b[38;5;124;43mlambda\u001b[39;49m\u001b[38;5;124;43m'\u001b[39;49m\u001b[43m]\u001b[49m\u001b[43m,\u001b[49m\n\u001b[1;32m     30\u001b[0m \u001b[43m    \u001b[49m\u001b[43malpha\u001b[49m\u001b[38;5;241;43m=\u001b[39;49m\u001b[43mtrain_alpha\u001b[49m\u001b[43m,\u001b[49m\n\u001b[1;32m     31\u001b[0m \u001b[43m    \u001b[49m\u001b[43mlr\u001b[49m\u001b[38;5;241;43m=\u001b[39;49m\u001b[43mhp\u001b[49m\u001b[43m[\u001b[49m\u001b[38;5;124;43m'\u001b[39;49m\u001b[38;5;124;43mlearning_rate\u001b[39;49m\u001b[38;5;124;43m'\u001b[39;49m\u001b[43m]\u001b[49m\u001b[43m,\u001b[49m\n\u001b[1;32m     32\u001b[0m \u001b[43m    \u001b[49m\u001b[43mn_epochs\u001b[49m\u001b[38;5;241;43m=\u001b[39;49m\u001b[43mhp\u001b[49m\u001b[43m[\u001b[49m\u001b[38;5;124;43m'\u001b[39;49m\u001b[38;5;124;43mn_epochs\u001b[39;49m\u001b[38;5;124;43m'\u001b[39;49m\u001b[43m]\u001b[49m\u001b[43m,\u001b[49m\n\u001b[1;32m     33\u001b[0m \u001b[43m    \u001b[49m\u001b[43mbatch_size\u001b[49m\u001b[38;5;241;43m=\u001b[39;49m\u001b[38;5;241;43m1024\u001b[39;49m\u001b[43m,\u001b[49m\n\u001b[1;32m     34\u001b[0m \u001b[43m    \u001b[49m\u001b[43mabstol\u001b[49m\u001b[38;5;241;43m=\u001b[39;49m\u001b[43mhp\u001b[49m\u001b[43m[\u001b[49m\u001b[38;5;124;43m'\u001b[39;49m\u001b[38;5;124;43mpga_abstol\u001b[39;49m\u001b[38;5;124;43m'\u001b[39;49m\u001b[43m]\u001b[49m\n\u001b[1;32m     35\u001b[0m \u001b[43m    \u001b[49m\u001b[43m)\u001b[49m\n\u001b[1;32m     37\u001b[0m Y_hat, Y_hat_max, fair_loss \u001b[38;5;241m=\u001b[39m ei_model\u001b[38;5;241m.\u001b[39mpredict(test_dataset, alpha\u001b[38;5;241m=\u001b[39mhp[\u001b[38;5;124m'\u001b[39m\u001b[38;5;124malpha\u001b[39m\u001b[38;5;124m'\u001b[39m], abstol\u001b[38;5;241m=\u001b[39mhp[\u001b[38;5;124m'\u001b[39m\u001b[38;5;124mpga_abstol\u001b[39m\u001b[38;5;124m'\u001b[39m])\n\u001b[1;32m     38\u001b[0m accuracy, ei_disparity \u001b[38;5;241m=\u001b[39m model_performance(test_dataset\u001b[38;5;241m.\u001b[39mY\u001b[38;5;241m.\u001b[39mdetach()\u001b[38;5;241m.\u001b[39mnumpy(), test_dataset\u001b[38;5;241m.\u001b[39mZ\u001b[38;5;241m.\u001b[39mdetach()\u001b[38;5;241m.\u001b[39mnumpy(), Y_hat, Y_hat_max, tau)\n",
      "File \u001b[0;32m~/School/PhD/Research/EqualImprovability/src/ei_model_test.py:101\u001b[0m, in \u001b[0;36mEIModel.train\u001b[0;34m(self, dataset, lamb, alpha, lr, n_epochs, batch_size, abstol)\u001b[0m\n\u001b[1;32m     98\u001b[0m batch_pred_losses \u001b[38;5;241m=\u001b[39m []\n\u001b[1;32m     99\u001b[0m batch_fair_losses \u001b[38;5;241m=\u001b[39m []\n\u001b[0;32m--> 101\u001b[0m \u001b[43m\u001b[49m\u001b[38;5;28;43;01mfor\u001b[39;49;00m\u001b[43m \u001b[49m\u001b[43m_\u001b[49m\u001b[43m,\u001b[49m\u001b[43m \u001b[49m\u001b[43m(\u001b[49m\u001b[43mX_batch\u001b[49m\u001b[43m,\u001b[49m\u001b[43m \u001b[49m\u001b[43mY_batch\u001b[49m\u001b[43m,\u001b[49m\u001b[43m \u001b[49m\u001b[43mZ_batch\u001b[49m\u001b[43m)\u001b[49m\u001b[43m \u001b[49m\u001b[38;5;129;43;01min\u001b[39;49;00m\u001b[43m \u001b[49m\u001b[38;5;28;43menumerate\u001b[39;49m\u001b[43m(\u001b[49m\u001b[43mdata_loader\u001b[49m\u001b[43m)\u001b[49m\u001b[43m:\u001b[49m\n\u001b[1;32m    102\u001b[0m \u001b[43m    \u001b[49m\u001b[43mY_hat\u001b[49m\u001b[43m \u001b[49m\u001b[38;5;241;43m=\u001b[39;49m\u001b[43m \u001b[49m\u001b[38;5;28;43mself\u001b[39;49m\u001b[38;5;241;43m.\u001b[39;49m\u001b[43mmodel\u001b[49m\u001b[43m(\u001b[49m\u001b[43mX_batch\u001b[49m\u001b[43m)\u001b[49m\u001b[38;5;241;43m.\u001b[39;49m\u001b[43mreshape\u001b[49m\u001b[43m(\u001b[49m\u001b[38;5;241;43m-\u001b[39;49m\u001b[38;5;241;43m1\u001b[39;49m\u001b[43m)\u001b[49m\n\u001b[1;32m    104\u001b[0m \u001b[43m    \u001b[49m\u001b[43mbatch_loss\u001b[49m\u001b[43m \u001b[49m\u001b[38;5;241;43m=\u001b[39;49m\u001b[43m \u001b[49m\u001b[38;5;241;43m0.\u001b[39;49m\n",
      "File \u001b[0;32m~/School/PhD/Research/EqualImprovability/.env/lib/python3.11/site-packages/torch/utils/data/dataloader.py:631\u001b[0m, in \u001b[0;36m_BaseDataLoaderIter.__next__\u001b[0;34m(self)\u001b[0m\n\u001b[1;32m    628\u001b[0m \u001b[38;5;28;01mif\u001b[39;00m \u001b[38;5;28mself\u001b[39m\u001b[38;5;241m.\u001b[39m_sampler_iter \u001b[38;5;129;01mis\u001b[39;00m \u001b[38;5;28;01mNone\u001b[39;00m:\n\u001b[1;32m    629\u001b[0m     \u001b[38;5;66;03m# TODO(https://github.com/pytorch/pytorch/issues/76750)\u001b[39;00m\n\u001b[1;32m    630\u001b[0m     \u001b[38;5;28mself\u001b[39m\u001b[38;5;241m.\u001b[39m_reset()  \u001b[38;5;66;03m# type: ignore[call-arg]\u001b[39;00m\n\u001b[0;32m--> 631\u001b[0m data \u001b[38;5;241m=\u001b[39m \u001b[38;5;28;43mself\u001b[39;49m\u001b[38;5;241;43m.\u001b[39;49m\u001b[43m_next_data\u001b[49m\u001b[43m(\u001b[49m\u001b[43m)\u001b[49m\n\u001b[1;32m    632\u001b[0m \u001b[38;5;28mself\u001b[39m\u001b[38;5;241m.\u001b[39m_num_yielded \u001b[38;5;241m+\u001b[39m\u001b[38;5;241m=\u001b[39m \u001b[38;5;241m1\u001b[39m\n\u001b[1;32m    633\u001b[0m \u001b[38;5;28;01mif\u001b[39;00m \u001b[38;5;28mself\u001b[39m\u001b[38;5;241m.\u001b[39m_dataset_kind \u001b[38;5;241m==\u001b[39m _DatasetKind\u001b[38;5;241m.\u001b[39mIterable \u001b[38;5;129;01mand\u001b[39;00m \\\n\u001b[1;32m    634\u001b[0m         \u001b[38;5;28mself\u001b[39m\u001b[38;5;241m.\u001b[39m_IterableDataset_len_called \u001b[38;5;129;01mis\u001b[39;00m \u001b[38;5;129;01mnot\u001b[39;00m \u001b[38;5;28;01mNone\u001b[39;00m \u001b[38;5;129;01mand\u001b[39;00m \\\n\u001b[1;32m    635\u001b[0m         \u001b[38;5;28mself\u001b[39m\u001b[38;5;241m.\u001b[39m_num_yielded \u001b[38;5;241m>\u001b[39m \u001b[38;5;28mself\u001b[39m\u001b[38;5;241m.\u001b[39m_IterableDataset_len_called:\n",
      "File \u001b[0;32m~/School/PhD/Research/EqualImprovability/.env/lib/python3.11/site-packages/torch/utils/data/dataloader.py:675\u001b[0m, in \u001b[0;36m_SingleProcessDataLoaderIter._next_data\u001b[0;34m(self)\u001b[0m\n\u001b[1;32m    673\u001b[0m \u001b[38;5;28;01mdef\u001b[39;00m \u001b[38;5;21m_next_data\u001b[39m(\u001b[38;5;28mself\u001b[39m):\n\u001b[1;32m    674\u001b[0m     index \u001b[38;5;241m=\u001b[39m \u001b[38;5;28mself\u001b[39m\u001b[38;5;241m.\u001b[39m_next_index()  \u001b[38;5;66;03m# may raise StopIteration\u001b[39;00m\n\u001b[0;32m--> 675\u001b[0m     data \u001b[38;5;241m=\u001b[39m \u001b[38;5;28;43mself\u001b[39;49m\u001b[38;5;241;43m.\u001b[39;49m\u001b[43m_dataset_fetcher\u001b[49m\u001b[38;5;241;43m.\u001b[39;49m\u001b[43mfetch\u001b[49m\u001b[43m(\u001b[49m\u001b[43mindex\u001b[49m\u001b[43m)\u001b[49m  \u001b[38;5;66;03m# may raise StopIteration\u001b[39;00m\n\u001b[1;32m    676\u001b[0m     \u001b[38;5;28;01mif\u001b[39;00m \u001b[38;5;28mself\u001b[39m\u001b[38;5;241m.\u001b[39m_pin_memory:\n\u001b[1;32m    677\u001b[0m         data \u001b[38;5;241m=\u001b[39m _utils\u001b[38;5;241m.\u001b[39mpin_memory\u001b[38;5;241m.\u001b[39mpin_memory(data, \u001b[38;5;28mself\u001b[39m\u001b[38;5;241m.\u001b[39m_pin_memory_device)\n",
      "File \u001b[0;32m~/School/PhD/Research/EqualImprovability/.env/lib/python3.11/site-packages/torch/utils/data/_utils/fetch.py:51\u001b[0m, in \u001b[0;36m_MapDatasetFetcher.fetch\u001b[0;34m(self, possibly_batched_index)\u001b[0m\n\u001b[1;32m     49\u001b[0m         data \u001b[38;5;241m=\u001b[39m \u001b[38;5;28mself\u001b[39m\u001b[38;5;241m.\u001b[39mdataset\u001b[38;5;241m.\u001b[39m__getitems__(possibly_batched_index)\n\u001b[1;32m     50\u001b[0m     \u001b[38;5;28;01melse\u001b[39;00m:\n\u001b[0;32m---> 51\u001b[0m         data \u001b[38;5;241m=\u001b[39m \u001b[43m[\u001b[49m\u001b[38;5;28;43mself\u001b[39;49m\u001b[38;5;241;43m.\u001b[39;49m\u001b[43mdataset\u001b[49m\u001b[43m[\u001b[49m\u001b[43midx\u001b[49m\u001b[43m]\u001b[49m\u001b[43m \u001b[49m\u001b[38;5;28;43;01mfor\u001b[39;49;00m\u001b[43m \u001b[49m\u001b[43midx\u001b[49m\u001b[43m \u001b[49m\u001b[38;5;129;43;01min\u001b[39;49;00m\u001b[43m \u001b[49m\u001b[43mpossibly_batched_index\u001b[49m\u001b[43m]\u001b[49m\n\u001b[1;32m     52\u001b[0m \u001b[38;5;28;01melse\u001b[39;00m:\n\u001b[1;32m     53\u001b[0m     data \u001b[38;5;241m=\u001b[39m \u001b[38;5;28mself\u001b[39m\u001b[38;5;241m.\u001b[39mdataset[possibly_batched_index]\n",
      "File \u001b[0;32m~/School/PhD/Research/EqualImprovability/.env/lib/python3.11/site-packages/torch/utils/data/_utils/fetch.py:51\u001b[0m, in \u001b[0;36m<listcomp>\u001b[0;34m(.0)\u001b[0m\n\u001b[1;32m     49\u001b[0m         data \u001b[38;5;241m=\u001b[39m \u001b[38;5;28mself\u001b[39m\u001b[38;5;241m.\u001b[39mdataset\u001b[38;5;241m.\u001b[39m__getitems__(possibly_batched_index)\n\u001b[1;32m     50\u001b[0m     \u001b[38;5;28;01melse\u001b[39;00m:\n\u001b[0;32m---> 51\u001b[0m         data \u001b[38;5;241m=\u001b[39m [\u001b[38;5;28mself\u001b[39m\u001b[38;5;241m.\u001b[39mdataset[idx] \u001b[38;5;28;01mfor\u001b[39;00m idx \u001b[38;5;129;01min\u001b[39;00m possibly_batched_index]\n\u001b[1;32m     52\u001b[0m \u001b[38;5;28;01melse\u001b[39;00m:\n\u001b[1;32m     53\u001b[0m     data \u001b[38;5;241m=\u001b[39m \u001b[38;5;28mself\u001b[39m\u001b[38;5;241m.\u001b[39mdataset[possibly_batched_index]\n",
      "\u001b[0;31mKeyboardInterrupt\u001b[0m: "
     ]
    }
   ],
   "source": [
    "torch.manual_seed(0)\n",
    "# Hyperparameters\n",
    "hyper_params = {}\n",
    "hyper_params['lambda'] = [1.]\n",
    "hyper_params['delta'] = [1.] # synthetic is 0.5\n",
    "hyper_params['alpha'] = [0.5]\n",
    "hyper_params['learning_rate'] = 0.01\n",
    "hyper_params['n_epochs'] = 200\n",
    "hyper_params['proxy'] = covariance_proxy\n",
    "hyper_params['pga_abstol'] = 1e-7\n",
    "hyper_params['z_blind'] = False\n",
    "hyper_params['optimal_effort'] = True\n",
    "hyper_params['robust_training'] = [False, True]\n",
    "\n",
    "# Run tradeoffs\n",
    "results = run_tradeoff(dataset, hyper_params)"
   ]
  },
  {
   "cell_type": "code",
   "execution_count": 15,
   "metadata": {},
   "outputs": [
    {
     "data": {
      "text/html": [
       "<div>\n",
       "<style scoped>\n",
       "    .dataframe tbody tr th:only-of-type {\n",
       "        vertical-align: middle;\n",
       "    }\n",
       "\n",
       "    .dataframe tbody tr th {\n",
       "        vertical-align: top;\n",
       "    }\n",
       "\n",
       "    .dataframe thead th {\n",
       "        text-align: right;\n",
       "    }\n",
       "</style>\n",
       "<table border=\"1\" class=\"dataframe\">\n",
       "  <thead>\n",
       "    <tr style=\"text-align: right;\">\n",
       "      <th></th>\n",
       "      <th>lambda</th>\n",
       "      <th>train_alpha</th>\n",
       "      <th>alpha</th>\n",
       "      <th>accuracy</th>\n",
       "      <th>loss</th>\n",
       "      <th>fair_loss</th>\n",
       "      <th>ei_disparity</th>\n",
       "      <th>ei_model</th>\n",
       "    </tr>\n",
       "  </thead>\n",
       "  <tbody>\n",
       "    <tr>\n",
       "      <th>0</th>\n",
       "      <td>0.8</td>\n",
       "      <td>0.0</td>\n",
       "      <td>0.0</td>\n",
       "      <td>0.730</td>\n",
       "      <td>0.270</td>\n",
       "      <td>0.000095</td>\n",
       "      <td>0.041667</td>\n",
       "      <td>&lt;ei_model_test.EIModel object at 0x287e1c510&gt;</td>\n",
       "    </tr>\n",
       "    <tr>\n",
       "      <th>1</th>\n",
       "      <td>0.8</td>\n",
       "      <td>0.0</td>\n",
       "      <td>0.0</td>\n",
       "      <td>0.725</td>\n",
       "      <td>0.275</td>\n",
       "      <td>0.000019</td>\n",
       "      <td>0.046757</td>\n",
       "      <td>&lt;ei_model_test.EIModel object at 0x28f627c50&gt;</td>\n",
       "    </tr>\n",
       "    <tr>\n",
       "      <th>2</th>\n",
       "      <td>0.8</td>\n",
       "      <td>0.0</td>\n",
       "      <td>0.1</td>\n",
       "      <td>0.735</td>\n",
       "      <td>0.265</td>\n",
       "      <td>0.001279</td>\n",
       "      <td>0.285908</td>\n",
       "      <td>&lt;ei_model_test.EIModel object at 0x28f624910&gt;</td>\n",
       "    </tr>\n",
       "    <tr>\n",
       "      <th>3</th>\n",
       "      <td>0.8</td>\n",
       "      <td>0.1</td>\n",
       "      <td>0.1</td>\n",
       "      <td>0.715</td>\n",
       "      <td>0.285</td>\n",
       "      <td>0.001298</td>\n",
       "      <td>0.202634</td>\n",
       "      <td>&lt;ei_model_test.EIModel object at 0x287e48850&gt;</td>\n",
       "    </tr>\n",
       "    <tr>\n",
       "      <th>4</th>\n",
       "      <td>0.8</td>\n",
       "      <td>0.0</td>\n",
       "      <td>0.5</td>\n",
       "      <td>0.755</td>\n",
       "      <td>0.245</td>\n",
       "      <td>0.009398</td>\n",
       "      <td>0.307588</td>\n",
       "      <td>&lt;ei_model_test.EIModel object at 0x28f610d90&gt;</td>\n",
       "    </tr>\n",
       "    <tr>\n",
       "      <th>5</th>\n",
       "      <td>0.8</td>\n",
       "      <td>0.5</td>\n",
       "      <td>0.5</td>\n",
       "      <td>0.715</td>\n",
       "      <td>0.285</td>\n",
       "      <td>0.008445</td>\n",
       "      <td>0.333333</td>\n",
       "      <td>&lt;ei_model_test.EIModel object at 0x17e4ed6d0&gt;</td>\n",
       "    </tr>\n",
       "    <tr>\n",
       "      <th>6</th>\n",
       "      <td>0.8</td>\n",
       "      <td>0.0</td>\n",
       "      <td>1.5</td>\n",
       "      <td>0.730</td>\n",
       "      <td>0.270</td>\n",
       "      <td>0.024988</td>\n",
       "      <td>0.456522</td>\n",
       "      <td>&lt;ei_model_test.EIModel object at 0x287e4add0&gt;</td>\n",
       "    </tr>\n",
       "    <tr>\n",
       "      <th>7</th>\n",
       "      <td>0.8</td>\n",
       "      <td>1.5</td>\n",
       "      <td>1.5</td>\n",
       "      <td>0.725</td>\n",
       "      <td>0.275</td>\n",
       "      <td>0.028035</td>\n",
       "      <td>0.460638</td>\n",
       "      <td>&lt;ei_model_test.EIModel object at 0x28f6138d0&gt;</td>\n",
       "    </tr>\n",
       "    <tr>\n",
       "      <th>8</th>\n",
       "      <td>0.8</td>\n",
       "      <td>0.0</td>\n",
       "      <td>5.0</td>\n",
       "      <td>0.715</td>\n",
       "      <td>0.285</td>\n",
       "      <td>0.039882</td>\n",
       "      <td>0.487805</td>\n",
       "      <td>&lt;ei_model_test.EIModel object at 0x17e4f5550&gt;</td>\n",
       "    </tr>\n",
       "    <tr>\n",
       "      <th>9</th>\n",
       "      <td>0.8</td>\n",
       "      <td>5.0</td>\n",
       "      <td>5.0</td>\n",
       "      <td>0.735</td>\n",
       "      <td>0.265</td>\n",
       "      <td>0.041934</td>\n",
       "      <td>0.449921</td>\n",
       "      <td>&lt;ei_model_test.EIModel object at 0x1758f4550&gt;</td>\n",
       "    </tr>\n",
       "  </tbody>\n",
       "</table>\n",
       "</div>"
      ],
      "text/plain": [
       "   lambda  train_alpha  alpha  accuracy   loss  fair_loss  ei_disparity  \\\n",
       "0     0.8          0.0    0.0     0.730  0.270   0.000095      0.041667   \n",
       "1     0.8          0.0    0.0     0.725  0.275   0.000019      0.046757   \n",
       "2     0.8          0.0    0.1     0.735  0.265   0.001279      0.285908   \n",
       "3     0.8          0.1    0.1     0.715  0.285   0.001298      0.202634   \n",
       "4     0.8          0.0    0.5     0.755  0.245   0.009398      0.307588   \n",
       "5     0.8          0.5    0.5     0.715  0.285   0.008445      0.333333   \n",
       "6     0.8          0.0    1.5     0.730  0.270   0.024988      0.456522   \n",
       "7     0.8          1.5    1.5     0.725  0.275   0.028035      0.460638   \n",
       "8     0.8          0.0    5.0     0.715  0.285   0.039882      0.487805   \n",
       "9     0.8          5.0    5.0     0.735  0.265   0.041934      0.449921   \n",
       "\n",
       "                                        ei_model  \n",
       "0  <ei_model_test.EIModel object at 0x287e1c510>  \n",
       "1  <ei_model_test.EIModel object at 0x28f627c50>  \n",
       "2  <ei_model_test.EIModel object at 0x28f624910>  \n",
       "3  <ei_model_test.EIModel object at 0x287e48850>  \n",
       "4  <ei_model_test.EIModel object at 0x28f610d90>  \n",
       "5  <ei_model_test.EIModel object at 0x17e4ed6d0>  \n",
       "6  <ei_model_test.EIModel object at 0x287e4add0>  \n",
       "7  <ei_model_test.EIModel object at 0x28f6138d0>  \n",
       "8  <ei_model_test.EIModel object at 0x17e4f5550>  \n",
       "9  <ei_model_test.EIModel object at 0x1758f4550>  "
      ]
     },
     "execution_count": 15,
     "metadata": {},
     "output_type": "execute_result"
    }
   ],
   "source": [
    "df = pd.DataFrame(results).dropna()\n",
    "# df[['model', 'model_adv']] = df[['model', 'model_adv']].map(get_wandb)\n",
    "df.sort_values(['lambda', 'alpha']).reset_index(drop=True)"
   ]
  },
  {
   "cell_type": "code",
   "execution_count": 34,
   "metadata": {},
   "outputs": [
    {
     "data": {
      "text/html": [
       "<div>\n",
       "<style scoped>\n",
       "    .dataframe tbody tr th:only-of-type {\n",
       "        vertical-align: middle;\n",
       "    }\n",
       "\n",
       "    .dataframe tbody tr th {\n",
       "        vertical-align: top;\n",
       "    }\n",
       "\n",
       "    .dataframe thead th {\n",
       "        text-align: right;\n",
       "    }\n",
       "</style>\n",
       "<table border=\"1\" class=\"dataframe\">\n",
       "  <thead>\n",
       "    <tr style=\"text-align: right;\">\n",
       "      <th></th>\n",
       "      <th>lambda</th>\n",
       "      <th>train_alpha</th>\n",
       "      <th>alpha</th>\n",
       "      <th>accuracy</th>\n",
       "      <th>loss</th>\n",
       "      <th>fair_loss</th>\n",
       "      <th>ei_disparity</th>\n",
       "      <th>ei_model</th>\n",
       "    </tr>\n",
       "  </thead>\n",
       "  <tbody>\n",
       "    <tr>\n",
       "      <th>0</th>\n",
       "      <td>1.0</td>\n",
       "      <td>0.0</td>\n",
       "      <td>0.0</td>\n",
       "      <td>0.39275</td>\n",
       "      <td>0.60725</td>\n",
       "      <td>NaN</td>\n",
       "      <td>0.00000</td>\n",
       "      <td>&lt;ei_model_test.EIModel object at 0x2990ce250&gt;</td>\n",
       "    </tr>\n",
       "    <tr>\n",
       "      <th>1</th>\n",
       "      <td>1.0</td>\n",
       "      <td>0.0</td>\n",
       "      <td>0.0</td>\n",
       "      <td>0.39275</td>\n",
       "      <td>0.60725</td>\n",
       "      <td>NaN</td>\n",
       "      <td>0.00000</td>\n",
       "      <td>&lt;ei_model_test.EIModel object at 0x298e4fb10&gt;</td>\n",
       "    </tr>\n",
       "    <tr>\n",
       "      <th>2</th>\n",
       "      <td>1.0</td>\n",
       "      <td>0.0</td>\n",
       "      <td>0.5</td>\n",
       "      <td>0.66100</td>\n",
       "      <td>0.33900</td>\n",
       "      <td>8.386072e-16</td>\n",
       "      <td>0.43335</td>\n",
       "      <td>&lt;ei_model_test.EIModel object at 0x28f627090&gt;</td>\n",
       "    </tr>\n",
       "    <tr>\n",
       "      <th>3</th>\n",
       "      <td>1.0</td>\n",
       "      <td>0.5</td>\n",
       "      <td>0.5</td>\n",
       "      <td>0.39275</td>\n",
       "      <td>0.60725</td>\n",
       "      <td>NaN</td>\n",
       "      <td>0.00000</td>\n",
       "      <td>&lt;ei_model_test.EIModel object at 0x299065d10&gt;</td>\n",
       "    </tr>\n",
       "    <tr>\n",
       "      <th>4</th>\n",
       "      <td>1.0</td>\n",
       "      <td>0.0</td>\n",
       "      <td>5.0</td>\n",
       "      <td>0.39275</td>\n",
       "      <td>0.60725</td>\n",
       "      <td>NaN</td>\n",
       "      <td>0.00000</td>\n",
       "      <td>&lt;ei_model_test.EIModel object at 0x28f651750&gt;</td>\n",
       "    </tr>\n",
       "    <tr>\n",
       "      <th>5</th>\n",
       "      <td>1.0</td>\n",
       "      <td>5.0</td>\n",
       "      <td>5.0</td>\n",
       "      <td>0.39275</td>\n",
       "      <td>0.60725</td>\n",
       "      <td>NaN</td>\n",
       "      <td>0.00000</td>\n",
       "      <td>&lt;ei_model_test.EIModel object at 0x287c763d0&gt;</td>\n",
       "    </tr>\n",
       "  </tbody>\n",
       "</table>\n",
       "</div>"
      ],
      "text/plain": [
       "   lambda  train_alpha  alpha  accuracy     loss     fair_loss  ei_disparity  \\\n",
       "0     1.0          0.0    0.0   0.39275  0.60725           NaN       0.00000   \n",
       "1     1.0          0.0    0.0   0.39275  0.60725           NaN       0.00000   \n",
       "2     1.0          0.0    0.5   0.66100  0.33900  8.386072e-16       0.43335   \n",
       "3     1.0          0.5    0.5   0.39275  0.60725           NaN       0.00000   \n",
       "4     1.0          0.0    5.0   0.39275  0.60725           NaN       0.00000   \n",
       "5     1.0          5.0    5.0   0.39275  0.60725           NaN       0.00000   \n",
       "\n",
       "                                        ei_model  \n",
       "0  <ei_model_test.EIModel object at 0x2990ce250>  \n",
       "1  <ei_model_test.EIModel object at 0x298e4fb10>  \n",
       "2  <ei_model_test.EIModel object at 0x28f627090>  \n",
       "3  <ei_model_test.EIModel object at 0x299065d10>  \n",
       "4  <ei_model_test.EIModel object at 0x28f651750>  \n",
       "5  <ei_model_test.EIModel object at 0x287c763d0>  "
      ]
     },
     "execution_count": 34,
     "metadata": {},
     "output_type": "execute_result"
    }
   ],
   "source": [
    "df = pd.DataFrame(results)\n",
    "# df[['model', 'model_adv']] = df[['model', 'model_adv']].map(get_wandb)\n",
    "df.sort_values(['lambda', 'alpha']).reset_index(drop=True)"
   ]
  },
  {
   "cell_type": "code",
   "execution_count": 27,
   "metadata": {},
   "outputs": [
    {
     "data": {
      "application/vnd.plotly.v1+json": {
       "config": {
        "plotlyServerURL": "https://plot.ly"
       },
       "data": [
        {
         "hovertemplate": "index=%{x}<br>f_loss=%{y}<extra></extra>",
         "legendgroup": "",
         "marker": {
          "color": "#636efa",
          "symbol": "circle"
         },
         "mode": "markers",
         "name": "",
         "orientation": "v",
         "showlegend": false,
         "type": "scatter",
         "x": [
          0,
          1,
          2,
          3,
          4,
          5,
          6,
          7,
          8,
          9,
          10,
          11,
          12,
          13,
          14,
          15,
          16,
          17,
          18,
          19,
          20,
          21,
          22,
          23,
          24,
          25,
          26,
          27,
          28,
          29,
          30,
          31,
          32,
          33,
          34,
          35,
          36,
          37,
          38,
          39,
          40,
          41,
          42,
          43,
          44,
          45,
          46,
          47,
          48,
          49,
          50,
          51,
          52,
          53,
          54,
          55,
          56,
          57,
          58,
          59,
          60,
          61,
          62,
          63,
          64,
          65,
          66,
          67,
          68,
          69,
          70,
          71,
          72,
          73,
          74,
          75,
          76,
          77,
          78,
          79,
          80,
          81,
          82,
          83,
          84,
          85,
          86,
          87,
          88,
          89,
          90,
          91,
          92,
          93,
          94,
          95,
          96,
          97,
          98,
          99,
          100,
          101,
          102,
          103,
          104,
          105,
          106,
          107,
          108,
          109,
          110,
          111,
          112,
          113,
          114,
          115,
          116,
          117,
          118,
          119,
          120,
          121,
          122,
          123,
          124,
          125,
          126,
          127,
          128,
          129,
          130,
          131,
          132,
          133,
          134,
          135,
          136,
          137,
          138,
          139,
          140,
          141,
          142,
          143,
          144,
          145,
          146,
          147,
          148,
          149,
          150,
          151,
          152,
          153,
          154,
          155,
          156,
          157,
          158,
          159,
          160,
          161,
          162,
          163,
          164,
          165,
          166,
          167,
          168,
          169,
          170,
          171,
          172,
          173,
          174,
          175,
          176,
          177,
          178,
          179,
          180,
          181,
          182,
          183,
          184,
          185,
          186,
          187,
          188,
          189,
          190,
          191,
          192,
          193,
          194,
          195,
          196,
          197,
          198,
          199,
          200,
          201,
          202,
          203,
          204,
          205,
          206,
          207,
          208,
          209,
          210,
          211,
          212,
          213,
          214,
          215,
          216,
          217,
          218,
          219,
          220,
          221,
          222,
          223,
          224,
          225,
          226,
          227,
          228,
          229,
          230,
          231,
          232,
          233,
          234,
          235,
          236,
          237,
          238,
          239,
          240,
          241,
          242,
          243,
          244,
          245,
          246,
          247,
          248,
          249,
          250,
          251,
          252,
          253,
          254,
          255,
          256,
          257,
          258,
          259,
          260,
          261,
          262,
          263,
          264,
          265,
          266,
          267,
          268,
          269,
          270,
          271,
          272,
          273,
          274,
          275,
          276,
          277,
          278,
          279,
          280,
          281,
          282,
          283,
          284,
          285,
          286,
          287,
          288,
          289,
          290,
          291,
          292,
          293,
          294,
          295,
          296,
          297,
          298,
          299,
          300,
          301,
          302,
          303,
          304,
          305,
          306,
          307,
          308,
          309,
          310,
          311,
          312,
          313,
          314,
          315,
          316,
          317,
          318,
          319,
          320,
          321,
          322,
          323,
          324,
          325,
          326,
          327,
          328,
          329,
          330,
          331,
          332,
          333,
          334,
          335,
          336,
          337,
          338,
          339,
          340,
          341,
          342,
          343,
          344,
          345,
          346,
          347,
          348,
          349,
          350,
          351,
          352,
          353,
          354,
          355,
          356,
          357,
          358,
          359,
          360,
          361,
          362,
          363,
          364,
          365,
          366,
          367,
          368,
          369,
          370,
          371,
          372,
          373,
          374,
          375,
          376,
          377,
          378,
          379,
          380,
          381,
          382,
          383,
          384,
          385,
          386,
          387,
          388,
          389,
          390,
          391,
          392,
          393,
          394,
          395,
          396,
          397,
          398,
          399,
          400,
          401,
          402,
          403,
          404,
          405,
          406,
          407,
          408,
          409,
          410,
          411,
          412,
          413,
          414,
          415,
          416,
          417,
          418,
          419,
          420,
          421,
          422,
          423,
          424,
          425,
          426,
          427,
          428,
          429,
          430,
          431,
          432,
          433,
          434,
          435,
          436,
          437,
          438,
          439,
          440,
          441,
          442,
          443,
          444,
          445,
          446,
          447,
          448,
          449,
          450,
          451,
          452,
          453,
          454,
          455,
          456,
          457,
          458,
          459,
          460,
          461,
          462,
          463,
          464,
          465,
          466,
          467,
          468,
          469,
          470,
          471,
          472,
          473,
          474,
          475,
          476,
          477,
          478,
          479,
          480,
          481,
          482,
          483,
          484,
          485,
          486,
          487,
          488,
          489,
          490,
          491,
          492,
          493,
          494,
          495,
          496,
          497,
          498,
          499
         ],
         "xaxis": "x",
         "y": [
          0.000027271411454421468,
          0.000016202448023250327,
          0.000009924610822054092,
          0.00000991660726867849,
          0.000004307262770453235,
          1.7573016464211832e-7,
          0.0000015439773051184602,
          0.000001199762095893675,
          0.000003926598310499685,
          0.0000028935144200659124,
          0.0000024825535547279287,
          0.0000014088652733335039,
          0.000002698589241845184,
          0.000005802482064609649,
          0.000005725946721213404,
          0.000014334599654830527,
          0.000013751149708696175,
          0.00001105526553146774,
          0.000004841298959945561,
          0.0000010241694781143451,
          8.531207962292342e-10,
          5.449772970678168e-7,
          0.0000017320523966191104,
          0.0000030244468689488713,
          0.0000041541820792190265,
          0.000005006570518162334,
          0.0000055501513998024166,
          0.000005834771400259342,
          0.0000058677210290625226,
          0.00000569152280149865,
          0.000005362132469599601,
          0.000004933279342367314,
          0.000004451335826161085,
          0.000003952802217099816,
          0.0000034639092518773396,
          0.000003001619234055397,
          0.000002575387043179944,
          0.000002189124870710657,
          0.0000018429863075652975,
          0.0000015348807664850028,
          0.0000012616206959137344,
          0.000001019754108710913,
          8.061291509875446e-7,
          6.18279671016353e-7,
          4.546349714473763e-7,
          3.1462118954550533e-7,
          1.9863882982917858e-7,
          1.0787209703266853e-7,
          4.391089092337097e-8,
          8.121654460069294e-9,
          7.773321986093151e-10,
          2.0025462177386544e-8,
          6.09267090112553e-8,
          1.1496464935589756e-7,
          1.7053962153568136e-7,
          2.1450695442126744e-7,
          2.3524394521245995e-7,
          2.261303251316349e-7,
          1.8825586778348224e-7,
          1.3101369233936566e-7,
          6.992201662114894e-8,
          2.2032894619883336e-8,
          5.391387336572961e-10,
          1.0122172433568721e-8,
          4.491507255011129e-8,
          9.006094359165218e-8,
          1.2688239792169043e-7,
          1.394445234836894e-7,
          1.2179586406091403e-7,
          8.12159157703718e-8,
          3.575173934677878e-8,
          5.412491788092666e-9,
          2.0527732846886693e-9,
          2.2341449579244e-8,
          4.943334985796355e-8,
          6.357689130709332e-8,
          5.519404311371545e-8,
          3.087244238031417e-8,
          7.640121424401514e-9,
          1.3975580415159783e-10,
          1.0523643290127893e-8,
          2.8111077909898086e-8,
          3.827914696330481e-8,
          3.347170363099394e-8,
          1.8053146533247855e-8,
          3.8543093161536035e-9,
          2.8246027738987323e-10,
          7.09938952070388e-9,
          6.174801114866568e-8,
          5.037512806893574e-8,
          2.2083312956056034e-8,
          1.8460846185064383e-9,
          4.201052394847693e-9,
          2.202441073961836e-8,
          3.581812890729452e-8,
          3.257551384194812e-8,
          1.6361179078216992e-8,
          1.268534433052082e-8,
          6.706699196001864e-9,
          2.2820499268050298e-8,
          2.974009838396796e-8,
          2.0724993277099202e-8,
          6.013485709388533e-9,
          2.6339219000304226e-11,
          2.4235754736423587e-8,
          3.167562923067635e-8,
          5.953916470957665e-9,
          9.61930424203672e-10,
          3.7008562880913587e-10,
          3.426240846593487e-9,
          5.796974900107443e-9,
          4.707679135407261e-9,
          1.6312129424989052e-9,
          3.3674642935244137e-12,
          1.1805433297595869e-9,
          3.2813378680884853e-9,
          3.719627272857906e-9,
          2.1161550289860998e-9,
          3.477102217264161e-10,
          1.2866444021319978e-10,
          5.369680047828673e-11,
          1.5277139553404595e-9,
          1.773459934462096e-9,
          9.279974566567262e-10,
          1.0352222412635115e-9,
          5.235075706266912e-10,
          2.2075836714208208e-9,
          4.213025039945251e-9,
          3.6305929373980916e-9,
          6.013094883128289e-11,
          2.596604264937241e-9,
          2.6606474801127433e-9,
          6.798926005524564e-11,
          1.2127724380306404e-9,
          2.76324796377736e-10,
          2.905015950016576e-10,
          1.5067061487350486e-10,
          1.3321892478046493e-9,
          2.2778103847542752e-9,
          2.5364418898554675e-10,
          2.5966626626683365e-9,
          1.9854912158834281e-10,
          7.560330139710913e-11,
          9.525836786039577e-10,
          5.687616488891933e-10,
          4.2318731852120095e-11,
          9.361231234628065e-11,
          3.2623634349526753e-10,
          2.056040754316868e-10,
          5.845919668484578e-12,
          4.616156346060052e-10,
          6.192062834697865e-11,
          4.188620283951394e-10,
          9.136322809411013e-10,
          1.205838900952827e-10,
          1.7543733132896477e-10,
          3.874859044739054e-10,
          1.9071867696229816e-10,
          2.729381720634194e-10,
          1.5557957699918745e-10,
          2.53691539997547e-10,
          2.149780770066556e-10,
          2.2743763816723828e-10,
          1.2193541731875257e-9,
          5.0800808004680675e-9,
          1.2214810496402606e-8,
          2.02446450714433e-8,
          1.0638018244080172e-9,
          1.196642163137085e-8,
          7.0852848033098326e-9,
          3.5129434916569835e-9,
          1.2953512040780879e-8,
          4.612421022898161e-8,
          5.888691312350147e-9,
          1.4681199367316822e-8,
          3.511368751318855e-9,
          5.167879990608526e-8,
          2.418577693674706e-8,
          1.0475881495608519e-8,
          1.899301160790401e-8,
          1.392466408844939e-8,
          2.197104054246779e-9,
          3.1540043909927817e-9,
          3.939966131127903e-9,
          3.827552941260137e-9,
          1.059776044698424e-9,
          6.211364200758851e-10,
          1.7532808538334166e-10,
          5.809870362583069e-10,
          5.804207781068271e-9,
          7.768445609013241e-11,
          1.6572165861816757e-8,
          4.837365175092145e-9,
          2.092295737707306e-12,
          1.1712892877824288e-9,
          1.811952032859665e-9,
          1.0063303523821787e-9,
          7.081125907859587e-9,
          7.202842766673712e-9,
          1.2854768360881508e-9,
          1.675593708228007e-8,
          1.6671167202275683e-7,
          3.005481232776219e-7,
          9.604102402249737e-9,
          1.8080117403229679e-9,
          2.1459754862007685e-8,
          7.928581879923513e-8,
          1.1798473309454494e-7,
          2.3287173078756496e-8,
          2.855587766248391e-8,
          8.200108680966878e-8,
          4.3649069425555354e-7,
          5.3835446323091674e-8,
          1.0962951790816078e-7,
          3.180659859935986e-7,
          1.467656858267219e-7,
          2.134815417775826e-7,
          1.1592194226750507e-7,
          1.356891488057954e-7,
          3.689416550045621e-9,
          3.394928782540774e-8,
          2.2958440126785717e-7,
          5.877918152208395e-10,
          2.6699692057263746e-7,
          6.500327458525135e-7,
          2.830402081599459e-7,
          2.0790194810160756e-7,
          4.107268480879611e-8,
          7.192721795945545e-8,
          1.4619507737734239e-7,
          1.972955487872241e-7,
          1.9875118084655696e-7,
          7.655490463776005e-8,
          1.3374762630746773e-8,
          1.4501190470639358e-8,
          1.2334533394664504e-8,
          3.6781006684805106e-8,
          8.251628003108635e-8,
          4.667060338192641e-8,
          1.2483225120263342e-8,
          2.5796296654334583e-7,
          1.940285869750369e-7,
          3.150822180941759e-7,
          6.070956715120701e-8,
          2.4922579555664015e-8,
          1.9215654845083918e-8,
          1.6865145724409558e-8,
          6.852840073179323e-8,
          6.999923840567135e-8,
          6.045335965154663e-8,
          1.811148209185376e-8,
          2.9039696869403997e-8,
          5.790961488116864e-9,
          1.2996931308961734e-9,
          6.618228631793954e-9,
          8.05324962271925e-9,
          2.327339709840004e-11,
          1.903814883519317e-9,
          1.625734036281301e-8,
          1.1022680013184072e-7,
          7.646521638093873e-9,
          1.3575216506467314e-8,
          1.2685305250670353e-7,
          7.645862609706455e-8,
          1.620710037286699e-7,
          2.252877067121517e-7,
          2.501176084024337e-7,
          1.91183346487378e-7,
          3.580696983362941e-8,
          1.147839689963348e-8,
          1.0595675092872625e-7,
          3.6439093520357346e-8,
          1.0849171161453341e-7,
          2.313941962484023e-7,
          1.025063234294521e-8,
          1.3771553142305493e-7,
          1.3736618598159112e-7,
          2.848736357918824e-7,
          1.8718769467795937e-7,
          6.782946115890809e-8,
          2.7776461686279674e-10,
          2.0325923344444163e-7,
          9.431148839667003e-8,
          2.0109277443225437e-7,
          6.798327945034544e-8,
          0,
          0,
          0,
          0,
          0,
          0,
          0,
          0,
          0,
          0,
          0,
          0,
          0,
          0,
          0,
          0,
          0,
          0,
          0,
          0,
          0,
          0,
          0,
          0,
          0,
          0,
          0,
          0,
          0,
          0,
          0,
          0,
          2.7957511861131934e-8,
          1.568425922471306e-8,
          2.8928057727029e-9,
          7.868054652249157e-9,
          3.660434799712675e-8,
          1.7909165705987107e-8,
          1.9327876799035693e-10,
          0,
          0,
          0,
          0,
          0,
          0,
          0,
          0,
          0,
          0,
          0,
          0,
          0,
          0,
          0,
          0,
          0,
          0,
          0,
          0,
          1.9692956154671037e-9,
          1.975163921308365e-10,
          4.5564666623088e-11,
          4.0364805942161297e-10,
          4.095695657624354e-11,
          3.413895166559655e-9,
          1.8670869295078774e-8,
          5.372326228325619e-8,
          1.1177477432511296e-7,
          4.4909093804834654e-11,
          1.6437223848697613e-7,
          2.9705807946811547e-7,
          1.4363637035330612e-7,
          6.217843462330563e-10,
          6.774304495138495e-8,
          2.7431157789692406e-8,
          2.256524567201268e-8,
          2.1192233745637168e-8,
          2.0861870453359188e-8,
          4.101730510797097e-8,
          4.483428060232664e-14,
          3.955726413096272e-8,
          8.211313939909815e-8,
          4.367833739138405e-8,
          5.518415169269986e-10,
          1.9700220121876555e-8,
          3.162100625786479e-8,
          4.365103123404879e-8,
          1.6908369815382684e-8,
          1.7610006786128451e-9,
          2.919417951829928e-8,
          3.666684378345053e-8,
          1.0672904338093758e-8,
          1.2524373760314234e-9,
          2.0776141695932893e-8,
          2.758264550095646e-8,
          9.482305607377839e-9,
          2.42449255116739e-10,
          1.1348300077429485e-8,
          1.6320793605473227e-8,
          5.539019909406306e-9,
          2.806818388823018e-10,
          8.37747826665236e-9,
          9.665328981611765e-9,
          5.2916386827916995e-9,
          5.827339343488988e-14,
          4.0823850966376085e-9,
          7.176908844996888e-9,
          3.0096476422158958e-9,
          1.555191912749887e-11,
          3.1068467798434085e-9,
          5.173087735954596e-9,
          2.1826698226590224e-9,
          2.788437016010281e-12,
          1.9057591060800405e-9,
          3.1479918671806217e-9,
          1.2166589957729457e-9,
          2.136603047264707e-11,
          1.264854332383436e-9,
          1.3776916274466089e-9,
          6.679808373100116e-10,
          2.552705789804488e-11,
          2.605794191534727e-10,
          8.609337132092776e-10,
          7.57701679177103e-10,
          3.528509984196404e-10,
          1.2230337576024652e-10,
          1.7071866142970293e-9,
          1.364592661090569e-9,
          6.507967081903487e-11,
          8.702915610392381e-10,
          9.873601936050136e-10,
          6.092394921886068e-10,
          2.530140853773677e-11,
          9.424274693969892e-10,
          7.034676730022227e-10,
          4.080827342711757e-11,
          2.0764732988620693e-10,
          4.833808908699666e-10,
          2.3946000737851136e-10,
          7.922473788113393e-11,
          1.444328424221597e-11,
          5.677837366935279e-11,
          1.5570152112065472e-10,
          1.0875360507978105e-11,
          4.955248451149474e-12,
          3.3566184554079115e-11,
          4.558164262702391e-11,
          6.371218223139019e-12,
          2.53606909778048e-11,
          4.4645717678371e-11,
          3.568238413076408e-11,
          1.611982908267251e-10,
          1.7466338098071077e-10,
          6.000407948292263e-10,
          6.258880913545539e-11,
          1.0526514555853073e-11,
          5.614273629328537e-11,
          8.877235752047241e-11,
          7.816280955807997e-11,
          5.890745248364471e-13,
          1.7830142917674152e-10,
          3.17360498991448e-10,
          1.037357374479575e-12,
          4.5250403424290653e-10,
          6.279599618075338e-10,
          1.0780936560150778e-10,
          1.5742162347981425e-12,
          1.9656404282031303e-10,
          6.76753861283963e-11,
          8.80265915714773e-10,
          2.4496764616799283e-9,
          0,
          7.947044411427129e-11,
          7.622753983582697e-9,
          0,
          0,
          2.0339273376634992e-8,
          8.358748360137724e-9,
          1.978337937913466e-9,
          4.213978499478799e-9,
          7.315144046060595e-10,
          1.609229527410605e-9,
          7.423634151848546e-9,
          2.2754576001204896e-9,
          3.2070959221641715e-9,
          6.630216375924647e-10,
          1.1617020678755807e-9,
          6.054297507773754e-9,
          1.2235944479854766e-9,
          2.6083730730874777e-9,
          5.777856526556491e-10,
          9.61253210363111e-9,
          9.95939553050107e-10,
          4.210007897853529e-9,
          1.9351158175862082e-10,
          8.655234751131502e-9,
          1.0326195010179617e-8,
          7.761570941511309e-9,
          1.461934462376746e-9,
          2.0875145362309055e-11,
          2.7901210231107143e-9,
          8.957034558498833e-10,
          7.589899264637268e-10,
          2.4916533281071906e-9,
          3.5334923875751656e-10,
          1.9762123049105185e-9,
          5.3289570672854225e-11,
          7.37615135637526e-10,
          2.7212578856961045e-9,
          2.3765691636867814e-9,
          1.5121381924387833e-9,
          1.0618334683742958e-10,
          3.594292561064777e-13,
          5.726554785923099e-10,
          6.404290431305526e-10
         ],
         "yaxis": "y"
        }
       ],
       "layout": {
        "legend": {
         "tracegroupgap": 0
        },
        "margin": {
         "t": 60
        },
        "template": {
         "data": {
          "bar": [
           {
            "error_x": {
             "color": "#2a3f5f"
            },
            "error_y": {
             "color": "#2a3f5f"
            },
            "marker": {
             "line": {
              "color": "#E5ECF6",
              "width": 0.5
             },
             "pattern": {
              "fillmode": "overlay",
              "size": 10,
              "solidity": 0.2
             }
            },
            "type": "bar"
           }
          ],
          "barpolar": [
           {
            "marker": {
             "line": {
              "color": "#E5ECF6",
              "width": 0.5
             },
             "pattern": {
              "fillmode": "overlay",
              "size": 10,
              "solidity": 0.2
             }
            },
            "type": "barpolar"
           }
          ],
          "carpet": [
           {
            "aaxis": {
             "endlinecolor": "#2a3f5f",
             "gridcolor": "white",
             "linecolor": "white",
             "minorgridcolor": "white",
             "startlinecolor": "#2a3f5f"
            },
            "baxis": {
             "endlinecolor": "#2a3f5f",
             "gridcolor": "white",
             "linecolor": "white",
             "minorgridcolor": "white",
             "startlinecolor": "#2a3f5f"
            },
            "type": "carpet"
           }
          ],
          "choropleth": [
           {
            "colorbar": {
             "outlinewidth": 0,
             "ticks": ""
            },
            "type": "choropleth"
           }
          ],
          "contour": [
           {
            "colorbar": {
             "outlinewidth": 0,
             "ticks": ""
            },
            "colorscale": [
             [
              0,
              "#0d0887"
             ],
             [
              0.1111111111111111,
              "#46039f"
             ],
             [
              0.2222222222222222,
              "#7201a8"
             ],
             [
              0.3333333333333333,
              "#9c179e"
             ],
             [
              0.4444444444444444,
              "#bd3786"
             ],
             [
              0.5555555555555556,
              "#d8576b"
             ],
             [
              0.6666666666666666,
              "#ed7953"
             ],
             [
              0.7777777777777778,
              "#fb9f3a"
             ],
             [
              0.8888888888888888,
              "#fdca26"
             ],
             [
              1,
              "#f0f921"
             ]
            ],
            "type": "contour"
           }
          ],
          "contourcarpet": [
           {
            "colorbar": {
             "outlinewidth": 0,
             "ticks": ""
            },
            "type": "contourcarpet"
           }
          ],
          "heatmap": [
           {
            "colorbar": {
             "outlinewidth": 0,
             "ticks": ""
            },
            "colorscale": [
             [
              0,
              "#0d0887"
             ],
             [
              0.1111111111111111,
              "#46039f"
             ],
             [
              0.2222222222222222,
              "#7201a8"
             ],
             [
              0.3333333333333333,
              "#9c179e"
             ],
             [
              0.4444444444444444,
              "#bd3786"
             ],
             [
              0.5555555555555556,
              "#d8576b"
             ],
             [
              0.6666666666666666,
              "#ed7953"
             ],
             [
              0.7777777777777778,
              "#fb9f3a"
             ],
             [
              0.8888888888888888,
              "#fdca26"
             ],
             [
              1,
              "#f0f921"
             ]
            ],
            "type": "heatmap"
           }
          ],
          "heatmapgl": [
           {
            "colorbar": {
             "outlinewidth": 0,
             "ticks": ""
            },
            "colorscale": [
             [
              0,
              "#0d0887"
             ],
             [
              0.1111111111111111,
              "#46039f"
             ],
             [
              0.2222222222222222,
              "#7201a8"
             ],
             [
              0.3333333333333333,
              "#9c179e"
             ],
             [
              0.4444444444444444,
              "#bd3786"
             ],
             [
              0.5555555555555556,
              "#d8576b"
             ],
             [
              0.6666666666666666,
              "#ed7953"
             ],
             [
              0.7777777777777778,
              "#fb9f3a"
             ],
             [
              0.8888888888888888,
              "#fdca26"
             ],
             [
              1,
              "#f0f921"
             ]
            ],
            "type": "heatmapgl"
           }
          ],
          "histogram": [
           {
            "marker": {
             "pattern": {
              "fillmode": "overlay",
              "size": 10,
              "solidity": 0.2
             }
            },
            "type": "histogram"
           }
          ],
          "histogram2d": [
           {
            "colorbar": {
             "outlinewidth": 0,
             "ticks": ""
            },
            "colorscale": [
             [
              0,
              "#0d0887"
             ],
             [
              0.1111111111111111,
              "#46039f"
             ],
             [
              0.2222222222222222,
              "#7201a8"
             ],
             [
              0.3333333333333333,
              "#9c179e"
             ],
             [
              0.4444444444444444,
              "#bd3786"
             ],
             [
              0.5555555555555556,
              "#d8576b"
             ],
             [
              0.6666666666666666,
              "#ed7953"
             ],
             [
              0.7777777777777778,
              "#fb9f3a"
             ],
             [
              0.8888888888888888,
              "#fdca26"
             ],
             [
              1,
              "#f0f921"
             ]
            ],
            "type": "histogram2d"
           }
          ],
          "histogram2dcontour": [
           {
            "colorbar": {
             "outlinewidth": 0,
             "ticks": ""
            },
            "colorscale": [
             [
              0,
              "#0d0887"
             ],
             [
              0.1111111111111111,
              "#46039f"
             ],
             [
              0.2222222222222222,
              "#7201a8"
             ],
             [
              0.3333333333333333,
              "#9c179e"
             ],
             [
              0.4444444444444444,
              "#bd3786"
             ],
             [
              0.5555555555555556,
              "#d8576b"
             ],
             [
              0.6666666666666666,
              "#ed7953"
             ],
             [
              0.7777777777777778,
              "#fb9f3a"
             ],
             [
              0.8888888888888888,
              "#fdca26"
             ],
             [
              1,
              "#f0f921"
             ]
            ],
            "type": "histogram2dcontour"
           }
          ],
          "mesh3d": [
           {
            "colorbar": {
             "outlinewidth": 0,
             "ticks": ""
            },
            "type": "mesh3d"
           }
          ],
          "parcoords": [
           {
            "line": {
             "colorbar": {
              "outlinewidth": 0,
              "ticks": ""
             }
            },
            "type": "parcoords"
           }
          ],
          "pie": [
           {
            "automargin": true,
            "type": "pie"
           }
          ],
          "scatter": [
           {
            "fillpattern": {
             "fillmode": "overlay",
             "size": 10,
             "solidity": 0.2
            },
            "type": "scatter"
           }
          ],
          "scatter3d": [
           {
            "line": {
             "colorbar": {
              "outlinewidth": 0,
              "ticks": ""
             }
            },
            "marker": {
             "colorbar": {
              "outlinewidth": 0,
              "ticks": ""
             }
            },
            "type": "scatter3d"
           }
          ],
          "scattercarpet": [
           {
            "marker": {
             "colorbar": {
              "outlinewidth": 0,
              "ticks": ""
             }
            },
            "type": "scattercarpet"
           }
          ],
          "scattergeo": [
           {
            "marker": {
             "colorbar": {
              "outlinewidth": 0,
              "ticks": ""
             }
            },
            "type": "scattergeo"
           }
          ],
          "scattergl": [
           {
            "marker": {
             "colorbar": {
              "outlinewidth": 0,
              "ticks": ""
             }
            },
            "type": "scattergl"
           }
          ],
          "scattermapbox": [
           {
            "marker": {
             "colorbar": {
              "outlinewidth": 0,
              "ticks": ""
             }
            },
            "type": "scattermapbox"
           }
          ],
          "scatterpolar": [
           {
            "marker": {
             "colorbar": {
              "outlinewidth": 0,
              "ticks": ""
             }
            },
            "type": "scatterpolar"
           }
          ],
          "scatterpolargl": [
           {
            "marker": {
             "colorbar": {
              "outlinewidth": 0,
              "ticks": ""
             }
            },
            "type": "scatterpolargl"
           }
          ],
          "scatterternary": [
           {
            "marker": {
             "colorbar": {
              "outlinewidth": 0,
              "ticks": ""
             }
            },
            "type": "scatterternary"
           }
          ],
          "surface": [
           {
            "colorbar": {
             "outlinewidth": 0,
             "ticks": ""
            },
            "colorscale": [
             [
              0,
              "#0d0887"
             ],
             [
              0.1111111111111111,
              "#46039f"
             ],
             [
              0.2222222222222222,
              "#7201a8"
             ],
             [
              0.3333333333333333,
              "#9c179e"
             ],
             [
              0.4444444444444444,
              "#bd3786"
             ],
             [
              0.5555555555555556,
              "#d8576b"
             ],
             [
              0.6666666666666666,
              "#ed7953"
             ],
             [
              0.7777777777777778,
              "#fb9f3a"
             ],
             [
              0.8888888888888888,
              "#fdca26"
             ],
             [
              1,
              "#f0f921"
             ]
            ],
            "type": "surface"
           }
          ],
          "table": [
           {
            "cells": {
             "fill": {
              "color": "#EBF0F8"
             },
             "line": {
              "color": "white"
             }
            },
            "header": {
             "fill": {
              "color": "#C8D4E3"
             },
             "line": {
              "color": "white"
             }
            },
            "type": "table"
           }
          ]
         },
         "layout": {
          "annotationdefaults": {
           "arrowcolor": "#2a3f5f",
           "arrowhead": 0,
           "arrowwidth": 1
          },
          "autotypenumbers": "strict",
          "coloraxis": {
           "colorbar": {
            "outlinewidth": 0,
            "ticks": ""
           }
          },
          "colorscale": {
           "diverging": [
            [
             0,
             "#8e0152"
            ],
            [
             0.1,
             "#c51b7d"
            ],
            [
             0.2,
             "#de77ae"
            ],
            [
             0.3,
             "#f1b6da"
            ],
            [
             0.4,
             "#fde0ef"
            ],
            [
             0.5,
             "#f7f7f7"
            ],
            [
             0.6,
             "#e6f5d0"
            ],
            [
             0.7,
             "#b8e186"
            ],
            [
             0.8,
             "#7fbc41"
            ],
            [
             0.9,
             "#4d9221"
            ],
            [
             1,
             "#276419"
            ]
           ],
           "sequential": [
            [
             0,
             "#0d0887"
            ],
            [
             0.1111111111111111,
             "#46039f"
            ],
            [
             0.2222222222222222,
             "#7201a8"
            ],
            [
             0.3333333333333333,
             "#9c179e"
            ],
            [
             0.4444444444444444,
             "#bd3786"
            ],
            [
             0.5555555555555556,
             "#d8576b"
            ],
            [
             0.6666666666666666,
             "#ed7953"
            ],
            [
             0.7777777777777778,
             "#fb9f3a"
            ],
            [
             0.8888888888888888,
             "#fdca26"
            ],
            [
             1,
             "#f0f921"
            ]
           ],
           "sequentialminus": [
            [
             0,
             "#0d0887"
            ],
            [
             0.1111111111111111,
             "#46039f"
            ],
            [
             0.2222222222222222,
             "#7201a8"
            ],
            [
             0.3333333333333333,
             "#9c179e"
            ],
            [
             0.4444444444444444,
             "#bd3786"
            ],
            [
             0.5555555555555556,
             "#d8576b"
            ],
            [
             0.6666666666666666,
             "#ed7953"
            ],
            [
             0.7777777777777778,
             "#fb9f3a"
            ],
            [
             0.8888888888888888,
             "#fdca26"
            ],
            [
             1,
             "#f0f921"
            ]
           ]
          },
          "colorway": [
           "#636efa",
           "#EF553B",
           "#00cc96",
           "#ab63fa",
           "#FFA15A",
           "#19d3f3",
           "#FF6692",
           "#B6E880",
           "#FF97FF",
           "#FECB52"
          ],
          "font": {
           "color": "#2a3f5f"
          },
          "geo": {
           "bgcolor": "white",
           "lakecolor": "white",
           "landcolor": "#E5ECF6",
           "showlakes": true,
           "showland": true,
           "subunitcolor": "white"
          },
          "hoverlabel": {
           "align": "left"
          },
          "hovermode": "closest",
          "mapbox": {
           "style": "light"
          },
          "paper_bgcolor": "white",
          "plot_bgcolor": "#E5ECF6",
          "polar": {
           "angularaxis": {
            "gridcolor": "white",
            "linecolor": "white",
            "ticks": ""
           },
           "bgcolor": "#E5ECF6",
           "radialaxis": {
            "gridcolor": "white",
            "linecolor": "white",
            "ticks": ""
           }
          },
          "scene": {
           "xaxis": {
            "backgroundcolor": "#E5ECF6",
            "gridcolor": "white",
            "gridwidth": 2,
            "linecolor": "white",
            "showbackground": true,
            "ticks": "",
            "zerolinecolor": "white"
           },
           "yaxis": {
            "backgroundcolor": "#E5ECF6",
            "gridcolor": "white",
            "gridwidth": 2,
            "linecolor": "white",
            "showbackground": true,
            "ticks": "",
            "zerolinecolor": "white"
           },
           "zaxis": {
            "backgroundcolor": "#E5ECF6",
            "gridcolor": "white",
            "gridwidth": 2,
            "linecolor": "white",
            "showbackground": true,
            "ticks": "",
            "zerolinecolor": "white"
           }
          },
          "shapedefaults": {
           "line": {
            "color": "#2a3f5f"
           }
          },
          "ternary": {
           "aaxis": {
            "gridcolor": "white",
            "linecolor": "white",
            "ticks": ""
           },
           "baxis": {
            "gridcolor": "white",
            "linecolor": "white",
            "ticks": ""
           },
           "bgcolor": "#E5ECF6",
           "caxis": {
            "gridcolor": "white",
            "linecolor": "white",
            "ticks": ""
           }
          },
          "title": {
           "x": 0.05
          },
          "xaxis": {
           "automargin": true,
           "gridcolor": "white",
           "linecolor": "white",
           "ticks": "",
           "title": {
            "standoff": 15
           },
           "zerolinecolor": "white",
           "zerolinewidth": 2
          },
          "yaxis": {
           "automargin": true,
           "gridcolor": "white",
           "linecolor": "white",
           "ticks": "",
           "title": {
            "standoff": 15
           },
           "zerolinecolor": "white",
           "zerolinewidth": 2
          }
         }
        },
        "xaxis": {
         "anchor": "y",
         "domain": [
          0,
          1
         ],
         "title": {
          "text": "index"
         }
        },
        "yaxis": {
         "anchor": "x",
         "domain": [
          0,
          1
         ],
         "title": {
          "text": "f_loss"
         }
        }
       }
      }
     },
     "metadata": {},
     "output_type": "display_data"
    },
    {
     "data": {
      "application/vnd.plotly.v1+json": {
       "config": {
        "plotlyServerURL": "https://plot.ly"
       },
       "data": [
        {
         "hovertemplate": "index=%{x}<br>f_loss=%{y}<extra></extra>",
         "legendgroup": "",
         "marker": {
          "color": "#636efa",
          "symbol": "circle"
         },
         "mode": "markers",
         "name": "",
         "orientation": "v",
         "showlegend": false,
         "type": "scatter",
         "x": [
          0,
          1,
          2,
          3,
          4,
          5,
          6,
          7,
          8,
          9,
          10,
          11,
          12,
          13,
          14,
          15,
          16,
          17,
          18,
          19,
          20,
          21,
          22,
          23,
          24,
          25,
          26,
          27,
          28,
          29,
          30,
          31,
          32,
          33,
          34,
          35,
          36,
          37,
          38,
          39,
          40,
          41,
          42,
          43,
          44,
          45,
          46,
          47,
          48,
          49,
          50,
          51,
          52,
          53,
          54,
          55,
          56,
          57,
          58,
          59,
          60,
          61,
          62,
          63,
          64,
          65,
          66,
          67,
          68,
          69,
          70,
          71,
          72,
          73,
          74,
          75,
          76,
          77,
          78,
          79,
          80,
          81,
          82,
          83,
          84,
          85,
          86,
          87,
          88,
          89,
          90,
          91,
          92,
          93,
          94,
          95,
          96,
          97,
          98,
          99,
          100,
          101,
          102,
          103,
          104,
          105,
          106,
          107,
          108,
          109,
          110,
          111,
          112,
          113,
          114,
          115,
          116,
          117,
          118,
          119,
          120,
          121,
          122,
          123,
          124,
          125,
          126,
          127,
          128,
          129,
          130,
          131,
          132,
          133,
          134,
          135,
          136,
          137,
          138,
          139,
          140,
          141,
          142,
          143,
          144,
          145,
          146,
          147,
          148,
          149,
          150,
          151,
          152,
          153,
          154,
          155,
          156,
          157,
          158,
          159,
          160,
          161,
          162,
          163,
          164,
          165,
          166,
          167,
          168,
          169,
          170,
          171,
          172,
          173,
          174,
          175,
          176,
          177,
          178,
          179,
          180,
          181,
          182,
          183,
          184,
          185,
          186,
          187,
          188,
          189,
          190,
          191,
          192,
          193,
          194,
          195,
          196,
          197,
          198,
          199,
          200,
          201,
          202,
          203,
          204,
          205,
          206,
          207,
          208,
          209,
          210,
          211,
          212,
          213,
          214,
          215,
          216,
          217,
          218,
          219,
          220,
          221,
          222,
          223,
          224,
          225,
          226,
          227,
          228,
          229,
          230,
          231,
          232,
          233,
          234,
          235,
          236,
          237,
          238,
          239,
          240,
          241,
          242,
          243,
          244,
          245,
          246,
          247,
          248,
          249,
          250,
          251,
          252,
          253,
          254,
          255,
          256,
          257,
          258,
          259,
          260,
          261,
          262,
          263,
          264,
          265,
          266,
          267,
          268,
          269,
          270,
          271,
          272,
          273,
          274,
          275,
          276,
          277,
          278,
          279,
          280,
          281,
          282,
          283,
          284,
          285,
          286,
          287,
          288,
          289,
          290,
          291,
          292,
          293,
          294,
          295,
          296,
          297,
          298,
          299,
          300,
          301,
          302,
          303,
          304,
          305,
          306,
          307,
          308,
          309,
          310,
          311,
          312,
          313,
          314,
          315,
          316,
          317,
          318,
          319,
          320,
          321,
          322,
          323,
          324,
          325,
          326,
          327,
          328,
          329,
          330,
          331,
          332,
          333,
          334,
          335,
          336,
          337,
          338,
          339,
          340,
          341,
          342,
          343,
          344,
          345,
          346,
          347,
          348,
          349,
          350,
          351,
          352,
          353,
          354,
          355,
          356,
          357,
          358,
          359,
          360,
          361,
          362,
          363,
          364,
          365,
          366,
          367,
          368,
          369,
          370,
          371,
          372,
          373,
          374,
          375,
          376,
          377,
          378,
          379,
          380,
          381,
          382,
          383,
          384,
          385,
          386,
          387,
          388,
          389,
          390,
          391,
          392,
          393,
          394,
          395,
          396,
          397,
          398,
          399,
          400,
          401,
          402,
          403,
          404,
          405,
          406,
          407,
          408,
          409,
          410,
          411,
          412,
          413,
          414,
          415,
          416,
          417,
          418,
          419,
          420,
          421,
          422,
          423,
          424,
          425,
          426,
          427,
          428,
          429,
          430,
          431,
          432,
          433,
          434,
          435,
          436,
          437,
          438,
          439,
          440,
          441,
          442,
          443,
          444,
          445,
          446,
          447,
          448,
          449,
          450,
          451,
          452,
          453,
          454,
          455,
          456,
          457,
          458,
          459,
          460,
          461,
          462,
          463,
          464,
          465,
          466,
          467,
          468,
          469,
          470,
          471,
          472,
          473,
          474,
          475,
          476,
          477,
          478,
          479,
          480,
          481,
          482,
          483,
          484,
          485,
          486,
          487,
          488,
          489,
          490,
          491,
          492,
          493,
          494,
          495,
          496,
          497,
          498,
          499
         ],
         "xaxis": "x",
         "y": [
          0.0000013719179605686804,
          1.7081180914146898e-9,
          3.0452571309069754e-7,
          0.000001102619989978848,
          0.000001363273554488842,
          0.0000019453336790320463,
          9.764777360032895e-7,
          0.000002908150236180518,
          1.3341163196400885e-7,
          2.3583642416724615e-7,
          6.4837530544537e-7,
          0.000002291842520207865,
          2.3647002578286447e-8,
          0.0000031588760975864716,
          0.0000018681719211599557,
          1.0327775612495316e-7,
          6.784042625440634e-7,
          1.5368652839242714e-7,
          4.2876300199168327e-7,
          6.476889211626258e-7,
          1.1216594764107413e-8,
          0.000003686621994347661,
          0.000005866969786438858,
          7.328705464715313e-7,
          1.9507456272549462e-7,
          9.78396087703004e-7,
          0.0000036935414300387492,
          6.702636028421693e-7,
          0.0000019885676465491997,
          0.000008335322490893304,
          0.0000015989598978194408,
          0.0000034335603231738787,
          0.0000012428916988938,
          0.000004570419605443021,
          0.0000010359295856687822,
          0.0000045538326958194375,
          0.0000019146862086927285,
          0.000003254565854149405,
          3.03841289905904e-8,
          0,
          0,
          0,
          0,
          0,
          0,
          0,
          0,
          0,
          0,
          0,
          0,
          0,
          0,
          0,
          0,
          0,
          0,
          0,
          0,
          0,
          0,
          0,
          0,
          0,
          0,
          0,
          0,
          0,
          0,
          0,
          0,
          0,
          0,
          0,
          0,
          0,
          0,
          0,
          0,
          0,
          0,
          0,
          0,
          0,
          0,
          0,
          0,
          0,
          0,
          0,
          0,
          0,
          0,
          0,
          0,
          0,
          0,
          0,
          0,
          0,
          0,
          0,
          0,
          0,
          0,
          0,
          0,
          0,
          0,
          0,
          0,
          0,
          0,
          0,
          0,
          0,
          0,
          0,
          0,
          0,
          0,
          0,
          0,
          0,
          0,
          0,
          0,
          0,
          0,
          0,
          0,
          0,
          0,
          0,
          0,
          0,
          0,
          0,
          0,
          0,
          0,
          0,
          0,
          0,
          0,
          0,
          0,
          0,
          0,
          0,
          0,
          0,
          0,
          0,
          0,
          0,
          0,
          0,
          0,
          0,
          0,
          0,
          0,
          0,
          0,
          0,
          0,
          0,
          0,
          0,
          0,
          0,
          0,
          0,
          0,
          0,
          0,
          0,
          0,
          0,
          0,
          0,
          0,
          0,
          0,
          0,
          0,
          0,
          0,
          0,
          0,
          0,
          0,
          0,
          0,
          0,
          0,
          0,
          0,
          0,
          0,
          0,
          0,
          0,
          0,
          0,
          0,
          0,
          0,
          0,
          0,
          0,
          0,
          0,
          0,
          0,
          0,
          0,
          0,
          0,
          0,
          0,
          0,
          0,
          0,
          0,
          0,
          0,
          0,
          0,
          0,
          0,
          0,
          0,
          0,
          0,
          0,
          0,
          0,
          0,
          0,
          0,
          0,
          0,
          0,
          0,
          0,
          0,
          0,
          0,
          0,
          0,
          0,
          0,
          0,
          0,
          0,
          0,
          0,
          0,
          0,
          0,
          0,
          0,
          0,
          0,
          0,
          0,
          0,
          0,
          0,
          0,
          0,
          0,
          0,
          0,
          0,
          0,
          0,
          0,
          0,
          0,
          0,
          0,
          0,
          0,
          0,
          0,
          0,
          0,
          0,
          0,
          0,
          0,
          0,
          0,
          0,
          0,
          0,
          0,
          0,
          0,
          0,
          0,
          0,
          0,
          0,
          0,
          0,
          0,
          0,
          0,
          0,
          0,
          0,
          0,
          0,
          0,
          0,
          0,
          0,
          0,
          0,
          0,
          0,
          0,
          0,
          0,
          0,
          0,
          0,
          0,
          0,
          0,
          0,
          0,
          0,
          0,
          0,
          0,
          0,
          0,
          0,
          0,
          0,
          0,
          0,
          0,
          0,
          0,
          0,
          0,
          0,
          0,
          0,
          0,
          0,
          0,
          0,
          0,
          0,
          0,
          0,
          0,
          0,
          0,
          0,
          0,
          0,
          0,
          0,
          0,
          0,
          0,
          0,
          0,
          0,
          0,
          0,
          0,
          0,
          0,
          0,
          0,
          0,
          0,
          0,
          0,
          0,
          0,
          0,
          0,
          0,
          0,
          0,
          0,
          0,
          0,
          0,
          0,
          0,
          0,
          0,
          0,
          0,
          0,
          0,
          0,
          0,
          0,
          0,
          0,
          0,
          0,
          0,
          0,
          0,
          0,
          0,
          0,
          0,
          0,
          0,
          0,
          0,
          0,
          0,
          0,
          0,
          0,
          0,
          0,
          0,
          0,
          0,
          0,
          0,
          0,
          0,
          0,
          0,
          0,
          0,
          0,
          0,
          0,
          0,
          0,
          0,
          0,
          0,
          0,
          0,
          0,
          0,
          0,
          0,
          0,
          0,
          0,
          0,
          0,
          0,
          0,
          0,
          0,
          0,
          0,
          0,
          0,
          0,
          0,
          0,
          0,
          0,
          0,
          0,
          0,
          0,
          0,
          0,
          0,
          0,
          0,
          0,
          0,
          0,
          0,
          0,
          0,
          0,
          0,
          0,
          0,
          0,
          0,
          0,
          0,
          0,
          0
         ],
         "yaxis": "y"
        }
       ],
       "layout": {
        "legend": {
         "tracegroupgap": 0
        },
        "margin": {
         "t": 60
        },
        "template": {
         "data": {
          "bar": [
           {
            "error_x": {
             "color": "#2a3f5f"
            },
            "error_y": {
             "color": "#2a3f5f"
            },
            "marker": {
             "line": {
              "color": "#E5ECF6",
              "width": 0.5
             },
             "pattern": {
              "fillmode": "overlay",
              "size": 10,
              "solidity": 0.2
             }
            },
            "type": "bar"
           }
          ],
          "barpolar": [
           {
            "marker": {
             "line": {
              "color": "#E5ECF6",
              "width": 0.5
             },
             "pattern": {
              "fillmode": "overlay",
              "size": 10,
              "solidity": 0.2
             }
            },
            "type": "barpolar"
           }
          ],
          "carpet": [
           {
            "aaxis": {
             "endlinecolor": "#2a3f5f",
             "gridcolor": "white",
             "linecolor": "white",
             "minorgridcolor": "white",
             "startlinecolor": "#2a3f5f"
            },
            "baxis": {
             "endlinecolor": "#2a3f5f",
             "gridcolor": "white",
             "linecolor": "white",
             "minorgridcolor": "white",
             "startlinecolor": "#2a3f5f"
            },
            "type": "carpet"
           }
          ],
          "choropleth": [
           {
            "colorbar": {
             "outlinewidth": 0,
             "ticks": ""
            },
            "type": "choropleth"
           }
          ],
          "contour": [
           {
            "colorbar": {
             "outlinewidth": 0,
             "ticks": ""
            },
            "colorscale": [
             [
              0,
              "#0d0887"
             ],
             [
              0.1111111111111111,
              "#46039f"
             ],
             [
              0.2222222222222222,
              "#7201a8"
             ],
             [
              0.3333333333333333,
              "#9c179e"
             ],
             [
              0.4444444444444444,
              "#bd3786"
             ],
             [
              0.5555555555555556,
              "#d8576b"
             ],
             [
              0.6666666666666666,
              "#ed7953"
             ],
             [
              0.7777777777777778,
              "#fb9f3a"
             ],
             [
              0.8888888888888888,
              "#fdca26"
             ],
             [
              1,
              "#f0f921"
             ]
            ],
            "type": "contour"
           }
          ],
          "contourcarpet": [
           {
            "colorbar": {
             "outlinewidth": 0,
             "ticks": ""
            },
            "type": "contourcarpet"
           }
          ],
          "heatmap": [
           {
            "colorbar": {
             "outlinewidth": 0,
             "ticks": ""
            },
            "colorscale": [
             [
              0,
              "#0d0887"
             ],
             [
              0.1111111111111111,
              "#46039f"
             ],
             [
              0.2222222222222222,
              "#7201a8"
             ],
             [
              0.3333333333333333,
              "#9c179e"
             ],
             [
              0.4444444444444444,
              "#bd3786"
             ],
             [
              0.5555555555555556,
              "#d8576b"
             ],
             [
              0.6666666666666666,
              "#ed7953"
             ],
             [
              0.7777777777777778,
              "#fb9f3a"
             ],
             [
              0.8888888888888888,
              "#fdca26"
             ],
             [
              1,
              "#f0f921"
             ]
            ],
            "type": "heatmap"
           }
          ],
          "heatmapgl": [
           {
            "colorbar": {
             "outlinewidth": 0,
             "ticks": ""
            },
            "colorscale": [
             [
              0,
              "#0d0887"
             ],
             [
              0.1111111111111111,
              "#46039f"
             ],
             [
              0.2222222222222222,
              "#7201a8"
             ],
             [
              0.3333333333333333,
              "#9c179e"
             ],
             [
              0.4444444444444444,
              "#bd3786"
             ],
             [
              0.5555555555555556,
              "#d8576b"
             ],
             [
              0.6666666666666666,
              "#ed7953"
             ],
             [
              0.7777777777777778,
              "#fb9f3a"
             ],
             [
              0.8888888888888888,
              "#fdca26"
             ],
             [
              1,
              "#f0f921"
             ]
            ],
            "type": "heatmapgl"
           }
          ],
          "histogram": [
           {
            "marker": {
             "pattern": {
              "fillmode": "overlay",
              "size": 10,
              "solidity": 0.2
             }
            },
            "type": "histogram"
           }
          ],
          "histogram2d": [
           {
            "colorbar": {
             "outlinewidth": 0,
             "ticks": ""
            },
            "colorscale": [
             [
              0,
              "#0d0887"
             ],
             [
              0.1111111111111111,
              "#46039f"
             ],
             [
              0.2222222222222222,
              "#7201a8"
             ],
             [
              0.3333333333333333,
              "#9c179e"
             ],
             [
              0.4444444444444444,
              "#bd3786"
             ],
             [
              0.5555555555555556,
              "#d8576b"
             ],
             [
              0.6666666666666666,
              "#ed7953"
             ],
             [
              0.7777777777777778,
              "#fb9f3a"
             ],
             [
              0.8888888888888888,
              "#fdca26"
             ],
             [
              1,
              "#f0f921"
             ]
            ],
            "type": "histogram2d"
           }
          ],
          "histogram2dcontour": [
           {
            "colorbar": {
             "outlinewidth": 0,
             "ticks": ""
            },
            "colorscale": [
             [
              0,
              "#0d0887"
             ],
             [
              0.1111111111111111,
              "#46039f"
             ],
             [
              0.2222222222222222,
              "#7201a8"
             ],
             [
              0.3333333333333333,
              "#9c179e"
             ],
             [
              0.4444444444444444,
              "#bd3786"
             ],
             [
              0.5555555555555556,
              "#d8576b"
             ],
             [
              0.6666666666666666,
              "#ed7953"
             ],
             [
              0.7777777777777778,
              "#fb9f3a"
             ],
             [
              0.8888888888888888,
              "#fdca26"
             ],
             [
              1,
              "#f0f921"
             ]
            ],
            "type": "histogram2dcontour"
           }
          ],
          "mesh3d": [
           {
            "colorbar": {
             "outlinewidth": 0,
             "ticks": ""
            },
            "type": "mesh3d"
           }
          ],
          "parcoords": [
           {
            "line": {
             "colorbar": {
              "outlinewidth": 0,
              "ticks": ""
             }
            },
            "type": "parcoords"
           }
          ],
          "pie": [
           {
            "automargin": true,
            "type": "pie"
           }
          ],
          "scatter": [
           {
            "fillpattern": {
             "fillmode": "overlay",
             "size": 10,
             "solidity": 0.2
            },
            "type": "scatter"
           }
          ],
          "scatter3d": [
           {
            "line": {
             "colorbar": {
              "outlinewidth": 0,
              "ticks": ""
             }
            },
            "marker": {
             "colorbar": {
              "outlinewidth": 0,
              "ticks": ""
             }
            },
            "type": "scatter3d"
           }
          ],
          "scattercarpet": [
           {
            "marker": {
             "colorbar": {
              "outlinewidth": 0,
              "ticks": ""
             }
            },
            "type": "scattercarpet"
           }
          ],
          "scattergeo": [
           {
            "marker": {
             "colorbar": {
              "outlinewidth": 0,
              "ticks": ""
             }
            },
            "type": "scattergeo"
           }
          ],
          "scattergl": [
           {
            "marker": {
             "colorbar": {
              "outlinewidth": 0,
              "ticks": ""
             }
            },
            "type": "scattergl"
           }
          ],
          "scattermapbox": [
           {
            "marker": {
             "colorbar": {
              "outlinewidth": 0,
              "ticks": ""
             }
            },
            "type": "scattermapbox"
           }
          ],
          "scatterpolar": [
           {
            "marker": {
             "colorbar": {
              "outlinewidth": 0,
              "ticks": ""
             }
            },
            "type": "scatterpolar"
           }
          ],
          "scatterpolargl": [
           {
            "marker": {
             "colorbar": {
              "outlinewidth": 0,
              "ticks": ""
             }
            },
            "type": "scatterpolargl"
           }
          ],
          "scatterternary": [
           {
            "marker": {
             "colorbar": {
              "outlinewidth": 0,
              "ticks": ""
             }
            },
            "type": "scatterternary"
           }
          ],
          "surface": [
           {
            "colorbar": {
             "outlinewidth": 0,
             "ticks": ""
            },
            "colorscale": [
             [
              0,
              "#0d0887"
             ],
             [
              0.1111111111111111,
              "#46039f"
             ],
             [
              0.2222222222222222,
              "#7201a8"
             ],
             [
              0.3333333333333333,
              "#9c179e"
             ],
             [
              0.4444444444444444,
              "#bd3786"
             ],
             [
              0.5555555555555556,
              "#d8576b"
             ],
             [
              0.6666666666666666,
              "#ed7953"
             ],
             [
              0.7777777777777778,
              "#fb9f3a"
             ],
             [
              0.8888888888888888,
              "#fdca26"
             ],
             [
              1,
              "#f0f921"
             ]
            ],
            "type": "surface"
           }
          ],
          "table": [
           {
            "cells": {
             "fill": {
              "color": "#EBF0F8"
             },
             "line": {
              "color": "white"
             }
            },
            "header": {
             "fill": {
              "color": "#C8D4E3"
             },
             "line": {
              "color": "white"
             }
            },
            "type": "table"
           }
          ]
         },
         "layout": {
          "annotationdefaults": {
           "arrowcolor": "#2a3f5f",
           "arrowhead": 0,
           "arrowwidth": 1
          },
          "autotypenumbers": "strict",
          "coloraxis": {
           "colorbar": {
            "outlinewidth": 0,
            "ticks": ""
           }
          },
          "colorscale": {
           "diverging": [
            [
             0,
             "#8e0152"
            ],
            [
             0.1,
             "#c51b7d"
            ],
            [
             0.2,
             "#de77ae"
            ],
            [
             0.3,
             "#f1b6da"
            ],
            [
             0.4,
             "#fde0ef"
            ],
            [
             0.5,
             "#f7f7f7"
            ],
            [
             0.6,
             "#e6f5d0"
            ],
            [
             0.7,
             "#b8e186"
            ],
            [
             0.8,
             "#7fbc41"
            ],
            [
             0.9,
             "#4d9221"
            ],
            [
             1,
             "#276419"
            ]
           ],
           "sequential": [
            [
             0,
             "#0d0887"
            ],
            [
             0.1111111111111111,
             "#46039f"
            ],
            [
             0.2222222222222222,
             "#7201a8"
            ],
            [
             0.3333333333333333,
             "#9c179e"
            ],
            [
             0.4444444444444444,
             "#bd3786"
            ],
            [
             0.5555555555555556,
             "#d8576b"
            ],
            [
             0.6666666666666666,
             "#ed7953"
            ],
            [
             0.7777777777777778,
             "#fb9f3a"
            ],
            [
             0.8888888888888888,
             "#fdca26"
            ],
            [
             1,
             "#f0f921"
            ]
           ],
           "sequentialminus": [
            [
             0,
             "#0d0887"
            ],
            [
             0.1111111111111111,
             "#46039f"
            ],
            [
             0.2222222222222222,
             "#7201a8"
            ],
            [
             0.3333333333333333,
             "#9c179e"
            ],
            [
             0.4444444444444444,
             "#bd3786"
            ],
            [
             0.5555555555555556,
             "#d8576b"
            ],
            [
             0.6666666666666666,
             "#ed7953"
            ],
            [
             0.7777777777777778,
             "#fb9f3a"
            ],
            [
             0.8888888888888888,
             "#fdca26"
            ],
            [
             1,
             "#f0f921"
            ]
           ]
          },
          "colorway": [
           "#636efa",
           "#EF553B",
           "#00cc96",
           "#ab63fa",
           "#FFA15A",
           "#19d3f3",
           "#FF6692",
           "#B6E880",
           "#FF97FF",
           "#FECB52"
          ],
          "font": {
           "color": "#2a3f5f"
          },
          "geo": {
           "bgcolor": "white",
           "lakecolor": "white",
           "landcolor": "#E5ECF6",
           "showlakes": true,
           "showland": true,
           "subunitcolor": "white"
          },
          "hoverlabel": {
           "align": "left"
          },
          "hovermode": "closest",
          "mapbox": {
           "style": "light"
          },
          "paper_bgcolor": "white",
          "plot_bgcolor": "#E5ECF6",
          "polar": {
           "angularaxis": {
            "gridcolor": "white",
            "linecolor": "white",
            "ticks": ""
           },
           "bgcolor": "#E5ECF6",
           "radialaxis": {
            "gridcolor": "white",
            "linecolor": "white",
            "ticks": ""
           }
          },
          "scene": {
           "xaxis": {
            "backgroundcolor": "#E5ECF6",
            "gridcolor": "white",
            "gridwidth": 2,
            "linecolor": "white",
            "showbackground": true,
            "ticks": "",
            "zerolinecolor": "white"
           },
           "yaxis": {
            "backgroundcolor": "#E5ECF6",
            "gridcolor": "white",
            "gridwidth": 2,
            "linecolor": "white",
            "showbackground": true,
            "ticks": "",
            "zerolinecolor": "white"
           },
           "zaxis": {
            "backgroundcolor": "#E5ECF6",
            "gridcolor": "white",
            "gridwidth": 2,
            "linecolor": "white",
            "showbackground": true,
            "ticks": "",
            "zerolinecolor": "white"
           }
          },
          "shapedefaults": {
           "line": {
            "color": "#2a3f5f"
           }
          },
          "ternary": {
           "aaxis": {
            "gridcolor": "white",
            "linecolor": "white",
            "ticks": ""
           },
           "baxis": {
            "gridcolor": "white",
            "linecolor": "white",
            "ticks": ""
           },
           "bgcolor": "#E5ECF6",
           "caxis": {
            "gridcolor": "white",
            "linecolor": "white",
            "ticks": ""
           }
          },
          "title": {
           "x": 0.05
          },
          "xaxis": {
           "automargin": true,
           "gridcolor": "white",
           "linecolor": "white",
           "ticks": "",
           "title": {
            "standoff": 15
           },
           "zerolinecolor": "white",
           "zerolinewidth": 2
          },
          "yaxis": {
           "automargin": true,
           "gridcolor": "white",
           "linecolor": "white",
           "ticks": "",
           "title": {
            "standoff": 15
           },
           "zerolinecolor": "white",
           "zerolinewidth": 2
          }
         }
        },
        "xaxis": {
         "anchor": "y",
         "domain": [
          0,
          1
         ],
         "title": {
          "text": "index"
         }
        },
        "yaxis": {
         "anchor": "x",
         "domain": [
          0,
          1
         ],
         "title": {
          "text": "f_loss"
         }
        }
       }
      }
     },
     "metadata": {},
     "output_type": "display_data"
    },
    {
     "data": {
      "application/vnd.plotly.v1+json": {
       "config": {
        "plotlyServerURL": "https://plot.ly"
       },
       "data": [
        {
         "hovertemplate": "index=%{x}<br>f_loss=%{y}<extra></extra>",
         "legendgroup": "",
         "marker": {
          "color": "#636efa",
          "symbol": "circle"
         },
         "mode": "markers",
         "name": "",
         "orientation": "v",
         "showlegend": false,
         "type": "scatter",
         "x": [
          0,
          1,
          2,
          3,
          4,
          5,
          6,
          7,
          8,
          9,
          10,
          11,
          12,
          13,
          14,
          15,
          16,
          17,
          18,
          19,
          20,
          21,
          22,
          23,
          24,
          25,
          26,
          27,
          28,
          29,
          30,
          31,
          32,
          33,
          34,
          35,
          36,
          37,
          38,
          39,
          40,
          41,
          42,
          43,
          44,
          45,
          46,
          47,
          48,
          49,
          50,
          51,
          52,
          53,
          54,
          55,
          56,
          57,
          58,
          59,
          60,
          61,
          62,
          63,
          64,
          65,
          66,
          67,
          68,
          69,
          70,
          71,
          72,
          73,
          74,
          75,
          76,
          77,
          78,
          79,
          80,
          81,
          82,
          83,
          84,
          85,
          86,
          87,
          88,
          89,
          90,
          91,
          92,
          93,
          94,
          95,
          96,
          97,
          98,
          99,
          100,
          101,
          102,
          103,
          104,
          105,
          106,
          107,
          108,
          109,
          110,
          111,
          112,
          113,
          114,
          115,
          116,
          117,
          118,
          119,
          120,
          121,
          122,
          123,
          124,
          125,
          126,
          127,
          128,
          129,
          130,
          131,
          132,
          133,
          134,
          135,
          136,
          137,
          138,
          139,
          140,
          141,
          142,
          143,
          144,
          145,
          146,
          147,
          148,
          149,
          150,
          151,
          152,
          153,
          154,
          155,
          156,
          157,
          158,
          159,
          160,
          161,
          162,
          163,
          164,
          165,
          166,
          167,
          168,
          169,
          170,
          171,
          172,
          173,
          174,
          175,
          176,
          177,
          178,
          179,
          180,
          181,
          182,
          183,
          184,
          185,
          186,
          187,
          188,
          189,
          190,
          191,
          192,
          193,
          194,
          195,
          196,
          197,
          198,
          199,
          200,
          201,
          202,
          203,
          204,
          205,
          206,
          207,
          208,
          209,
          210,
          211,
          212,
          213,
          214,
          215,
          216,
          217,
          218,
          219,
          220,
          221,
          222,
          223,
          224,
          225,
          226,
          227,
          228,
          229,
          230,
          231,
          232,
          233,
          234,
          235,
          236,
          237,
          238,
          239,
          240,
          241,
          242,
          243,
          244,
          245,
          246,
          247,
          248,
          249,
          250,
          251,
          252,
          253,
          254,
          255,
          256,
          257,
          258,
          259,
          260,
          261,
          262,
          263,
          264,
          265,
          266,
          267,
          268,
          269,
          270,
          271,
          272,
          273,
          274,
          275,
          276,
          277,
          278,
          279,
          280,
          281,
          282,
          283,
          284,
          285,
          286,
          287,
          288,
          289,
          290,
          291,
          292,
          293,
          294,
          295,
          296,
          297,
          298,
          299,
          300,
          301,
          302,
          303,
          304,
          305,
          306,
          307,
          308,
          309,
          310,
          311,
          312,
          313,
          314,
          315,
          316,
          317,
          318,
          319,
          320,
          321,
          322,
          323,
          324,
          325,
          326,
          327,
          328,
          329,
          330,
          331,
          332,
          333,
          334,
          335,
          336,
          337,
          338,
          339,
          340,
          341,
          342,
          343,
          344,
          345,
          346,
          347,
          348,
          349,
          350,
          351,
          352,
          353,
          354,
          355,
          356,
          357,
          358,
          359,
          360,
          361,
          362,
          363,
          364,
          365,
          366,
          367,
          368,
          369,
          370,
          371,
          372,
          373,
          374,
          375,
          376,
          377,
          378,
          379,
          380,
          381,
          382,
          383,
          384,
          385,
          386,
          387,
          388,
          389,
          390,
          391,
          392,
          393,
          394,
          395,
          396,
          397,
          398,
          399,
          400,
          401,
          402,
          403,
          404,
          405,
          406,
          407,
          408,
          409,
          410,
          411,
          412,
          413,
          414,
          415,
          416,
          417,
          418,
          419,
          420,
          421,
          422,
          423,
          424,
          425,
          426,
          427,
          428,
          429,
          430,
          431,
          432,
          433,
          434,
          435,
          436,
          437,
          438,
          439,
          440,
          441,
          442,
          443,
          444,
          445,
          446,
          447,
          448,
          449,
          450,
          451,
          452,
          453,
          454,
          455,
          456,
          457,
          458,
          459,
          460,
          461,
          462,
          463,
          464,
          465,
          466,
          467,
          468,
          469,
          470,
          471,
          472,
          473,
          474,
          475,
          476,
          477,
          478,
          479,
          480,
          481,
          482,
          483,
          484,
          485,
          486,
          487,
          488,
          489,
          490,
          491,
          492,
          493,
          494,
          495,
          496,
          497,
          498,
          499
         ],
         "xaxis": "x",
         "y": [
          8.091651579889003e-7,
          1.6390333712479332e-7,
          0.000003586924094634014,
          6.63208538753679e-7,
          7.355332343195187e-8,
          0.0000016874412267497974,
          0.0000013122403288434725,
          2.793071587348095e-7,
          2.412969024589984e-7,
          2.449476399490891e-9,
          3.65295136361965e-7,
          4.772080615111918e-7,
          7.283729814844264e-7,
          3.134250050607079e-7,
          1.2153195783071169e-8,
          1.6903209498764227e-8,
          2.8824754849665624e-7,
          3.8609118746535387e-7,
          4.600042586844211e-7,
          1.2616850142421754e-7,
          1.6314506012804486e-7,
          2.068458400117379e-7,
          1.1229559504499775e-7,
          1.1534179833461167e-7,
          6.820702225240893e-8,
          8.877279356056533e-9,
          2.659824076545192e-7,
          3.3956013112401706e-7,
          9.03824002307374e-8,
          3.451113528285532e-8,
          3.4544596072549894e-9,
          1.0465448241347985e-7,
          1.8301304294254805e-7,
          1.1793970600137982e-7,
          1.3905733453611901e-8,
          2.1160051488777754e-8,
          1.0665534233567087e-7,
          1.195498811057405e-7,
          4.2432006353010365e-8,
          2.0377921572389823e-10,
          4.202046710588547e-8,
          7.759540210372506e-8,
          4.382210150311039e-8,
          1.6684521542131847e-9,
          1.877705813058128e-8,
          3.692559502610493e-8,
          3.357600064646249e-8,
          6.576484246068048e-9,
          2.75198486221484e-9,
          2.0510544374019446e-8,
          2.1160499130701282e-8,
          4.2227492613733375e-9,
          2.232207307883982e-9,
          1.0382949611198455e-8,
          1.3918182162342418e-8,
          2.06762473808908e-9,
          3.132272219374954e-11,
          7.081784492157794e-9,
          1.0492408719642299e-8,
          2.8391267115068786e-9,
          1.6359813503896703e-9,
          1.3738588044986955e-9,
          1.8036366844498275e-9,
          2.846869129324858e-10,
          2.2473329863714753e-9,
          2.4238897555761696e-9,
          2.4466697556846384e-9,
          1.4336086762156697e-9,
          3.2958819007333773e-10,
          1.8733372492141243e-11,
          6.736372015758718e-10,
          8.705138693221315e-11,
          1.6618444120819476e-10,
          1.0570413433441672e-9,
          4.284343990690331e-9,
          1.259717219426193e-9,
          5.676269523857691e-11,
          4.528341590592788e-10,
          1.155623818860363e-9,
          1.7276667596544115e-10,
          8.693557679295694e-11,
          5.5397117448841016e-11,
          1.4723326724475072e-10,
          8.727025352373019e-11,
          1.0802050920410977e-10,
          6.421587150917674e-10,
          6.682418507431009e-12,
          3.3311875480279696e-10,
          1.488005985095242e-8,
          5.6164235588684885e-12,
          3.745862300896796e-11,
          1.2430344253910874e-10,
          7.426858572578965e-10,
          9.069844875142508e-10,
          8.27531987379615e-10,
          9.806662426559143e-11,
          9.154611790851419e-11,
          2.2720852976831907e-10,
          6.838852262269768e-10,
          3.1511901421588107e-10,
          4.692544638452978e-13,
          3.915031909773603e-10,
          3.7199382463271036e-10,
          1.0036966396897995e-10,
          1.40429515238516e-10,
          7.858302203400669e-11,
          1.850312125739606e-9,
          1.1082944562090802e-9,
          1.4195036812658657e-10,
          2.693756884220022e-10,
          4.689804655733099e-10,
          5.3718772485833455e-11,
          1.097853145198835e-11,
          2.399203891112478e-10,
          5.068253039475223e-10,
          1.5428418265184263e-10,
          8.449568822399556e-11,
          8.806007034678487e-10,
          4.872582892723187e-10,
          1.9870931289300842e-11,
          5.614990694624566e-10,
          4.96565177865449e-10,
          1.1235389354991021e-11,
          3.0629948577498567e-10,
          4.182322266288452e-10,
          2.0966697128477207e-11,
          1.719122066923262e-10,
          2.837982349124246e-10,
          7.992605882689574e-11,
          4.710472983893155e-11,
          2.426059075855136e-10,
          8.29244381495009e-11,
          2.0021559063443384e-11,
          7.368852750211374e-11,
          7.963086440243572e-11,
          2.1306081898764262e-11,
          2.610428886939964e-11,
          1.1299143565235426e-10,
          3.1500406449946894e-11,
          1.809732572133349e-11,
          5.7622830118564394e-11,
          3.912314569531894e-11,
          2.3471025470400697e-12,
          5.4802880983251256e-11,
          3.083282934523979e-11,
          1.2709358305357243e-12,
          3.426416095297924e-11,
          2.5964074640283386e-11,
          4.481657761372902e-14,
          1.8313496552568864e-11,
          1.898431585545257e-11,
          1.0125615623746143e-12,
          5.793130298387128e-12,
          1.96223211290647e-11,
          5.702752506331343e-12,
          3.172453185568136e-12,
          1.6674840327968177e-11,
          1.2553248371349746e-12,
          2.3862930674436317e-14,
          2.6986676782136954e-12,
          7.601936441448132e-12,
          2.2973539303555723e-12,
          8.179345221959178e-12,
          9.508385967688451e-14,
          6.756452493837661e-13,
          1.7230280787219887e-12,
          4.307468444431084e-12,
          4.9553030949389676e-12,
          5.876361463402757e-12,
          1.6033946089247242e-12,
          1.007343947839745e-12,
          1.9984014443252818e-13,
          1.395151789235216e-12,
          4.1466266184619904e-13,
          3.1209885370531154e-11,
          1.2955938405445622e-11,
          1.4198495677797407e-11,
          1.535245541806063e-11,
          5.112352381708707e-12,
          4.561857488982746e-11,
          2.0473307077439884e-11,
          1.594286161421543e-11,
          1.222487215624124e-11,
          8.517274559249888e-12,
          2.730666604291998e-12,
          7.430859746970775e-12,
          1.0314298026781188e-11,
          3.739255086121496e-11,
          4.45715036059835e-12,
          2.099855185566657e-11,
          2.0846591120005087e-10,
          5.324483076663e-10,
          4.833112798863226e-10,
          9.290881952672692e-11,
          2.07804973229031e-9,
          3.489027400327416e-10,
          9.32469101933009e-10,
          1.8842076510150463e-10,
          1.399314442096511e-9,
          2.294755496734524e-9,
          6.13577522123876e-10,
          1.203359634160961e-9,
          1.4119841296178492e-8,
          9.382587151662847e-9,
          1.1010833356195349e-9,
          4.127501007644696e-9,
          2.8623731163079924e-10,
          1.3624564809688877e-9,
          2.388844677625457e-9,
          3.6136249548235355e-9,
          1.4086811717106684e-9,
          2.529282339125416e-9,
          0,
          0,
          0,
          0,
          0,
          0,
          0,
          0,
          0,
          0,
          0,
          0,
          0,
          0,
          0,
          0,
          0,
          0,
          3.1974707326298812e-9,
          1.7416103004208594e-9,
          4.040742740407666e-11,
          7.310490407475001e-11,
          4.059790281729647e-9,
          9.76551284281868e-9,
          1.604849170222522e-10,
          4.8410906394735775e-9,
          3.7255674101288605e-9,
          5.965382632311389e-10,
          7.383579303521515e-10,
          3.5198679526615706e-9,
          7.082314734674355e-9,
          5.242160039387045e-9,
          2.5346562626538116e-9,
          9.787892452095548e-8,
          2.570647517075031e-8,
          1.7188486367558653e-7,
          8.763623782215291e-8,
          4.013351317944114e-10,
          9.091398567306896e-8,
          1.6946543723861396e-7,
          3.013153948572267e-9,
          9.921817145652767e-9,
          9.126328848196863e-8,
          5.9475269154063426e-8,
          1.4085557609178068e-8,
          2.093128728120064e-7,
          1.8158944214974326e-7,
          6.224729620640801e-10,
          8.662372863454948e-8,
          8.692595088177768e-8,
          5.4179604802584436e-8,
          1.416519346264522e-8,
          2.3633384671484237e-7,
          0.0000019067492758040316,
          2.3176689012416318e-7,
          4.1498091718494834e-7,
          7.547362912418976e-8,
          0.000001165977550954267,
          1.5008197351562558e-7,
          2.372265299754872e-7,
          4.835743538933457e-7,
          1.4788331448301051e-8,
          7.636424825818722e-9,
          2.9772317944321003e-8,
          1.0389265980847995e-7,
          7.385780520507979e-8,
          1.1778028152775732e-7,
          5.988516793564713e-9,
          7.917928712686262e-8,
          6.941919394876095e-8,
          1.0390656512981877e-7,
          1.589673814805792e-7,
          9.616524465627663e-8,
          4.0597125661179234e-8,
          3.7498843141747784e-8,
          2.637385954074034e-8,
          2.0015262691686075e-7,
          5.77826199332776e-7,
          3.5282024413163526e-8,
          2.628547406402504e-7,
          2.14214225024989e-7,
          5.454185725284333e-7,
          9.108713783234634e-8,
          7.880911034874316e-9,
          3.6007861581310863e-7,
          0,
          0,
          0,
          0,
          0,
          0,
          0,
          0,
          0,
          0,
          0,
          0,
          0,
          0,
          0,
          0,
          0,
          0,
          0,
          0,
          0,
          0,
          0,
          0,
          0,
          0,
          0,
          0,
          0,
          0,
          0,
          0,
          0,
          0,
          8.986451582870814e-10,
          3.129813919144908e-8,
          1.4037003381872637e-7,
          6.182612821703515e-8,
          6.56569511647831e-7,
          3.454172770034347e-8,
          9.43358998028998e-7,
          0.0000011544327662704745,
          3.2922070403174075e-8,
          5.091616799290932e-7,
          8.229900458900374e-7,
          1.7847114008873177e-7,
          2.444327265038737e-7,
          7.361486495938152e-7,
          2.1137017824912618e-7,
          1.0351278234566053e-7,
          5.760184649261646e-7,
          2.1522912163618457e-7,
          3.767334533222311e-8,
          3.5156736544195155e-7,
          1.6804399649572588e-7,
          6.676484365364388e-10,
          2.274239960797786e-7,
          1.9485275970509974e-7,
          9.298111725009051e-10,
          1.279105532603353e-7,
          1.6080991827038815e-7,
          1.3976802826221046e-8,
          3.645170565391709e-8,
          6.286097686825087e-8,
          3.051590269365079e-8,
          3.361995570827503e-9,
          1.143293637539955e-8,
          4.4690935396829445e-8,
          2.2120037357353795e-8,
          2.5296259531515375e-10,
          1.7242023364616443e-9,
          9.83778214447284e-9,
          2.9606911366997224e-10,
          5.472805764128452e-9,
          7.354253872549066e-10,
          1.5099108630067803e-9,
          1.8689203074018224e-8,
          7.074400798501301e-8,
          5.113527024036557e-8,
          0,
          0,
          0,
          0,
          0,
          0,
          0,
          0,
          0,
          0,
          0,
          0,
          0,
          0,
          0,
          0,
          0,
          0,
          0,
          0,
          0,
          0,
          0,
          0,
          0,
          0,
          0,
          0,
          0,
          0,
          0,
          0,
          0,
          0,
          0,
          3.6322966856516814e-10,
          7.035853843984086e-11,
          9.720452220918219e-11,
          6.754256876018161e-11,
          3.0310514098630392e-9,
          5.474671826988242e-9,
          9.934780775822105e-11,
          8.967053766184563e-9,
          8.783818117308329e-9,
          2.8049886857672846e-9,
          3.771754852888165e-10,
          9.84577752660698e-10,
          1.8166648740880476e-10,
          6.024585719188735e-9,
          9.885926743891105e-9,
          0,
          0,
          0,
          0,
          0,
          0,
          0,
          0,
          0,
          0,
          0,
          0,
          0,
          0,
          0,
          0,
          0,
          0,
          0,
          0,
          0,
          0,
          0,
          0,
          0,
          0,
          0,
          0,
          0,
          0,
          0,
          0,
          0,
          1.9275425006126667e-11,
          6.133135110886201e-10,
          3.4338749621554143e-9,
          2.0006352130508276e-9,
          6.538887209472932e-9,
          1.6356057841449e-8,
          2.845143676211137e-9,
          6.02883888645156e-12,
          1.1959094825542138e-9,
          6.400407287499021e-11,
          4.426327304685174e-9,
          1.0649074955182414e-9,
          1.5350457016616303e-11,
          2.7882487985131377e-12,
          2.3399559199999143e-12,
          2.5078902843311823e-10,
          4.860318258970153e-10,
          1.1508762831624608e-9,
          2.603733673112174e-9,
          1.3364087614320397e-9,
          1.9184703825558813e-10,
          1.297483093187779e-10,
          6.760649817749709e-10,
          2.1679615880287884e-9,
          2.3779587188244022e-9,
          7.557673237235107e-11,
          5.3287617374220275e-11,
          6.705098698489564e-10,
          1.6724192863915022e-10,
          5.29661292603123e-9,
          5.450269568996191e-9,
          6.3699913399606345e-12,
          8.080215940786672e-10,
          1.3033115697780318e-9,
          1.1494590834715268e-9,
          4.0349334984313145e-10,
          1.1885901984864944e-10,
          2.788806963138768e-9,
          1.2274938843148675e-9,
          1.5367648126263234e-11,
          8.791251060458194e-11
         ],
         "yaxis": "y"
        }
       ],
       "layout": {
        "legend": {
         "tracegroupgap": 0
        },
        "margin": {
         "t": 60
        },
        "template": {
         "data": {
          "bar": [
           {
            "error_x": {
             "color": "#2a3f5f"
            },
            "error_y": {
             "color": "#2a3f5f"
            },
            "marker": {
             "line": {
              "color": "#E5ECF6",
              "width": 0.5
             },
             "pattern": {
              "fillmode": "overlay",
              "size": 10,
              "solidity": 0.2
             }
            },
            "type": "bar"
           }
          ],
          "barpolar": [
           {
            "marker": {
             "line": {
              "color": "#E5ECF6",
              "width": 0.5
             },
             "pattern": {
              "fillmode": "overlay",
              "size": 10,
              "solidity": 0.2
             }
            },
            "type": "barpolar"
           }
          ],
          "carpet": [
           {
            "aaxis": {
             "endlinecolor": "#2a3f5f",
             "gridcolor": "white",
             "linecolor": "white",
             "minorgridcolor": "white",
             "startlinecolor": "#2a3f5f"
            },
            "baxis": {
             "endlinecolor": "#2a3f5f",
             "gridcolor": "white",
             "linecolor": "white",
             "minorgridcolor": "white",
             "startlinecolor": "#2a3f5f"
            },
            "type": "carpet"
           }
          ],
          "choropleth": [
           {
            "colorbar": {
             "outlinewidth": 0,
             "ticks": ""
            },
            "type": "choropleth"
           }
          ],
          "contour": [
           {
            "colorbar": {
             "outlinewidth": 0,
             "ticks": ""
            },
            "colorscale": [
             [
              0,
              "#0d0887"
             ],
             [
              0.1111111111111111,
              "#46039f"
             ],
             [
              0.2222222222222222,
              "#7201a8"
             ],
             [
              0.3333333333333333,
              "#9c179e"
             ],
             [
              0.4444444444444444,
              "#bd3786"
             ],
             [
              0.5555555555555556,
              "#d8576b"
             ],
             [
              0.6666666666666666,
              "#ed7953"
             ],
             [
              0.7777777777777778,
              "#fb9f3a"
             ],
             [
              0.8888888888888888,
              "#fdca26"
             ],
             [
              1,
              "#f0f921"
             ]
            ],
            "type": "contour"
           }
          ],
          "contourcarpet": [
           {
            "colorbar": {
             "outlinewidth": 0,
             "ticks": ""
            },
            "type": "contourcarpet"
           }
          ],
          "heatmap": [
           {
            "colorbar": {
             "outlinewidth": 0,
             "ticks": ""
            },
            "colorscale": [
             [
              0,
              "#0d0887"
             ],
             [
              0.1111111111111111,
              "#46039f"
             ],
             [
              0.2222222222222222,
              "#7201a8"
             ],
             [
              0.3333333333333333,
              "#9c179e"
             ],
             [
              0.4444444444444444,
              "#bd3786"
             ],
             [
              0.5555555555555556,
              "#d8576b"
             ],
             [
              0.6666666666666666,
              "#ed7953"
             ],
             [
              0.7777777777777778,
              "#fb9f3a"
             ],
             [
              0.8888888888888888,
              "#fdca26"
             ],
             [
              1,
              "#f0f921"
             ]
            ],
            "type": "heatmap"
           }
          ],
          "heatmapgl": [
           {
            "colorbar": {
             "outlinewidth": 0,
             "ticks": ""
            },
            "colorscale": [
             [
              0,
              "#0d0887"
             ],
             [
              0.1111111111111111,
              "#46039f"
             ],
             [
              0.2222222222222222,
              "#7201a8"
             ],
             [
              0.3333333333333333,
              "#9c179e"
             ],
             [
              0.4444444444444444,
              "#bd3786"
             ],
             [
              0.5555555555555556,
              "#d8576b"
             ],
             [
              0.6666666666666666,
              "#ed7953"
             ],
             [
              0.7777777777777778,
              "#fb9f3a"
             ],
             [
              0.8888888888888888,
              "#fdca26"
             ],
             [
              1,
              "#f0f921"
             ]
            ],
            "type": "heatmapgl"
           }
          ],
          "histogram": [
           {
            "marker": {
             "pattern": {
              "fillmode": "overlay",
              "size": 10,
              "solidity": 0.2
             }
            },
            "type": "histogram"
           }
          ],
          "histogram2d": [
           {
            "colorbar": {
             "outlinewidth": 0,
             "ticks": ""
            },
            "colorscale": [
             [
              0,
              "#0d0887"
             ],
             [
              0.1111111111111111,
              "#46039f"
             ],
             [
              0.2222222222222222,
              "#7201a8"
             ],
             [
              0.3333333333333333,
              "#9c179e"
             ],
             [
              0.4444444444444444,
              "#bd3786"
             ],
             [
              0.5555555555555556,
              "#d8576b"
             ],
             [
              0.6666666666666666,
              "#ed7953"
             ],
             [
              0.7777777777777778,
              "#fb9f3a"
             ],
             [
              0.8888888888888888,
              "#fdca26"
             ],
             [
              1,
              "#f0f921"
             ]
            ],
            "type": "histogram2d"
           }
          ],
          "histogram2dcontour": [
           {
            "colorbar": {
             "outlinewidth": 0,
             "ticks": ""
            },
            "colorscale": [
             [
              0,
              "#0d0887"
             ],
             [
              0.1111111111111111,
              "#46039f"
             ],
             [
              0.2222222222222222,
              "#7201a8"
             ],
             [
              0.3333333333333333,
              "#9c179e"
             ],
             [
              0.4444444444444444,
              "#bd3786"
             ],
             [
              0.5555555555555556,
              "#d8576b"
             ],
             [
              0.6666666666666666,
              "#ed7953"
             ],
             [
              0.7777777777777778,
              "#fb9f3a"
             ],
             [
              0.8888888888888888,
              "#fdca26"
             ],
             [
              1,
              "#f0f921"
             ]
            ],
            "type": "histogram2dcontour"
           }
          ],
          "mesh3d": [
           {
            "colorbar": {
             "outlinewidth": 0,
             "ticks": ""
            },
            "type": "mesh3d"
           }
          ],
          "parcoords": [
           {
            "line": {
             "colorbar": {
              "outlinewidth": 0,
              "ticks": ""
             }
            },
            "type": "parcoords"
           }
          ],
          "pie": [
           {
            "automargin": true,
            "type": "pie"
           }
          ],
          "scatter": [
           {
            "fillpattern": {
             "fillmode": "overlay",
             "size": 10,
             "solidity": 0.2
            },
            "type": "scatter"
           }
          ],
          "scatter3d": [
           {
            "line": {
             "colorbar": {
              "outlinewidth": 0,
              "ticks": ""
             }
            },
            "marker": {
             "colorbar": {
              "outlinewidth": 0,
              "ticks": ""
             }
            },
            "type": "scatter3d"
           }
          ],
          "scattercarpet": [
           {
            "marker": {
             "colorbar": {
              "outlinewidth": 0,
              "ticks": ""
             }
            },
            "type": "scattercarpet"
           }
          ],
          "scattergeo": [
           {
            "marker": {
             "colorbar": {
              "outlinewidth": 0,
              "ticks": ""
             }
            },
            "type": "scattergeo"
           }
          ],
          "scattergl": [
           {
            "marker": {
             "colorbar": {
              "outlinewidth": 0,
              "ticks": ""
             }
            },
            "type": "scattergl"
           }
          ],
          "scattermapbox": [
           {
            "marker": {
             "colorbar": {
              "outlinewidth": 0,
              "ticks": ""
             }
            },
            "type": "scattermapbox"
           }
          ],
          "scatterpolar": [
           {
            "marker": {
             "colorbar": {
              "outlinewidth": 0,
              "ticks": ""
             }
            },
            "type": "scatterpolar"
           }
          ],
          "scatterpolargl": [
           {
            "marker": {
             "colorbar": {
              "outlinewidth": 0,
              "ticks": ""
             }
            },
            "type": "scatterpolargl"
           }
          ],
          "scatterternary": [
           {
            "marker": {
             "colorbar": {
              "outlinewidth": 0,
              "ticks": ""
             }
            },
            "type": "scatterternary"
           }
          ],
          "surface": [
           {
            "colorbar": {
             "outlinewidth": 0,
             "ticks": ""
            },
            "colorscale": [
             [
              0,
              "#0d0887"
             ],
             [
              0.1111111111111111,
              "#46039f"
             ],
             [
              0.2222222222222222,
              "#7201a8"
             ],
             [
              0.3333333333333333,
              "#9c179e"
             ],
             [
              0.4444444444444444,
              "#bd3786"
             ],
             [
              0.5555555555555556,
              "#d8576b"
             ],
             [
              0.6666666666666666,
              "#ed7953"
             ],
             [
              0.7777777777777778,
              "#fb9f3a"
             ],
             [
              0.8888888888888888,
              "#fdca26"
             ],
             [
              1,
              "#f0f921"
             ]
            ],
            "type": "surface"
           }
          ],
          "table": [
           {
            "cells": {
             "fill": {
              "color": "#EBF0F8"
             },
             "line": {
              "color": "white"
             }
            },
            "header": {
             "fill": {
              "color": "#C8D4E3"
             },
             "line": {
              "color": "white"
             }
            },
            "type": "table"
           }
          ]
         },
         "layout": {
          "annotationdefaults": {
           "arrowcolor": "#2a3f5f",
           "arrowhead": 0,
           "arrowwidth": 1
          },
          "autotypenumbers": "strict",
          "coloraxis": {
           "colorbar": {
            "outlinewidth": 0,
            "ticks": ""
           }
          },
          "colorscale": {
           "diverging": [
            [
             0,
             "#8e0152"
            ],
            [
             0.1,
             "#c51b7d"
            ],
            [
             0.2,
             "#de77ae"
            ],
            [
             0.3,
             "#f1b6da"
            ],
            [
             0.4,
             "#fde0ef"
            ],
            [
             0.5,
             "#f7f7f7"
            ],
            [
             0.6,
             "#e6f5d0"
            ],
            [
             0.7,
             "#b8e186"
            ],
            [
             0.8,
             "#7fbc41"
            ],
            [
             0.9,
             "#4d9221"
            ],
            [
             1,
             "#276419"
            ]
           ],
           "sequential": [
            [
             0,
             "#0d0887"
            ],
            [
             0.1111111111111111,
             "#46039f"
            ],
            [
             0.2222222222222222,
             "#7201a8"
            ],
            [
             0.3333333333333333,
             "#9c179e"
            ],
            [
             0.4444444444444444,
             "#bd3786"
            ],
            [
             0.5555555555555556,
             "#d8576b"
            ],
            [
             0.6666666666666666,
             "#ed7953"
            ],
            [
             0.7777777777777778,
             "#fb9f3a"
            ],
            [
             0.8888888888888888,
             "#fdca26"
            ],
            [
             1,
             "#f0f921"
            ]
           ],
           "sequentialminus": [
            [
             0,
             "#0d0887"
            ],
            [
             0.1111111111111111,
             "#46039f"
            ],
            [
             0.2222222222222222,
             "#7201a8"
            ],
            [
             0.3333333333333333,
             "#9c179e"
            ],
            [
             0.4444444444444444,
             "#bd3786"
            ],
            [
             0.5555555555555556,
             "#d8576b"
            ],
            [
             0.6666666666666666,
             "#ed7953"
            ],
            [
             0.7777777777777778,
             "#fb9f3a"
            ],
            [
             0.8888888888888888,
             "#fdca26"
            ],
            [
             1,
             "#f0f921"
            ]
           ]
          },
          "colorway": [
           "#636efa",
           "#EF553B",
           "#00cc96",
           "#ab63fa",
           "#FFA15A",
           "#19d3f3",
           "#FF6692",
           "#B6E880",
           "#FF97FF",
           "#FECB52"
          ],
          "font": {
           "color": "#2a3f5f"
          },
          "geo": {
           "bgcolor": "white",
           "lakecolor": "white",
           "landcolor": "#E5ECF6",
           "showlakes": true,
           "showland": true,
           "subunitcolor": "white"
          },
          "hoverlabel": {
           "align": "left"
          },
          "hovermode": "closest",
          "mapbox": {
           "style": "light"
          },
          "paper_bgcolor": "white",
          "plot_bgcolor": "#E5ECF6",
          "polar": {
           "angularaxis": {
            "gridcolor": "white",
            "linecolor": "white",
            "ticks": ""
           },
           "bgcolor": "#E5ECF6",
           "radialaxis": {
            "gridcolor": "white",
            "linecolor": "white",
            "ticks": ""
           }
          },
          "scene": {
           "xaxis": {
            "backgroundcolor": "#E5ECF6",
            "gridcolor": "white",
            "gridwidth": 2,
            "linecolor": "white",
            "showbackground": true,
            "ticks": "",
            "zerolinecolor": "white"
           },
           "yaxis": {
            "backgroundcolor": "#E5ECF6",
            "gridcolor": "white",
            "gridwidth": 2,
            "linecolor": "white",
            "showbackground": true,
            "ticks": "",
            "zerolinecolor": "white"
           },
           "zaxis": {
            "backgroundcolor": "#E5ECF6",
            "gridcolor": "white",
            "gridwidth": 2,
            "linecolor": "white",
            "showbackground": true,
            "ticks": "",
            "zerolinecolor": "white"
           }
          },
          "shapedefaults": {
           "line": {
            "color": "#2a3f5f"
           }
          },
          "ternary": {
           "aaxis": {
            "gridcolor": "white",
            "linecolor": "white",
            "ticks": ""
           },
           "baxis": {
            "gridcolor": "white",
            "linecolor": "white",
            "ticks": ""
           },
           "bgcolor": "#E5ECF6",
           "caxis": {
            "gridcolor": "white",
            "linecolor": "white",
            "ticks": ""
           }
          },
          "title": {
           "x": 0.05
          },
          "xaxis": {
           "automargin": true,
           "gridcolor": "white",
           "linecolor": "white",
           "ticks": "",
           "title": {
            "standoff": 15
           },
           "zerolinecolor": "white",
           "zerolinewidth": 2
          },
          "yaxis": {
           "automargin": true,
           "gridcolor": "white",
           "linecolor": "white",
           "ticks": "",
           "title": {
            "standoff": 15
           },
           "zerolinecolor": "white",
           "zerolinewidth": 2
          }
         }
        },
        "xaxis": {
         "anchor": "y",
         "domain": [
          0,
          1
         ],
         "title": {
          "text": "index"
         }
        },
        "yaxis": {
         "anchor": "x",
         "domain": [
          0,
          1
         ],
         "title": {
          "text": "f_loss"
         }
        }
       }
      }
     },
     "metadata": {},
     "output_type": "display_data"
    },
    {
     "data": {
      "application/vnd.plotly.v1+json": {
       "config": {
        "plotlyServerURL": "https://plot.ly"
       },
       "data": [
        {
         "hovertemplate": "index=%{x}<br>f_loss=%{y}<extra></extra>",
         "legendgroup": "",
         "marker": {
          "color": "#636efa",
          "symbol": "circle"
         },
         "mode": "markers",
         "name": "",
         "orientation": "v",
         "showlegend": false,
         "type": "scatter",
         "x": [
          0,
          1,
          2,
          3,
          4,
          5,
          6,
          7,
          8,
          9,
          10,
          11,
          12,
          13,
          14,
          15,
          16,
          17,
          18,
          19,
          20,
          21,
          22,
          23,
          24,
          25,
          26,
          27,
          28,
          29,
          30,
          31,
          32,
          33,
          34,
          35,
          36,
          37,
          38,
          39,
          40,
          41,
          42,
          43,
          44,
          45,
          46,
          47,
          48,
          49,
          50,
          51,
          52,
          53,
          54,
          55,
          56,
          57,
          58,
          59,
          60,
          61,
          62,
          63,
          64,
          65,
          66,
          67,
          68,
          69,
          70,
          71,
          72,
          73,
          74,
          75,
          76,
          77,
          78,
          79,
          80,
          81,
          82,
          83,
          84,
          85,
          86,
          87,
          88,
          89,
          90,
          91,
          92,
          93,
          94,
          95,
          96,
          97,
          98,
          99,
          100,
          101,
          102,
          103,
          104,
          105,
          106,
          107,
          108,
          109,
          110,
          111,
          112,
          113,
          114,
          115,
          116,
          117,
          118,
          119,
          120,
          121,
          122,
          123,
          124,
          125,
          126,
          127,
          128,
          129,
          130,
          131,
          132,
          133,
          134,
          135,
          136,
          137,
          138,
          139,
          140,
          141,
          142,
          143,
          144,
          145,
          146,
          147,
          148,
          149,
          150,
          151,
          152,
          153,
          154,
          155,
          156,
          157,
          158,
          159,
          160,
          161,
          162,
          163,
          164,
          165,
          166,
          167,
          168,
          169,
          170,
          171,
          172,
          173,
          174,
          175,
          176,
          177,
          178,
          179,
          180,
          181,
          182,
          183,
          184,
          185,
          186,
          187,
          188,
          189,
          190,
          191,
          192,
          193,
          194,
          195,
          196,
          197,
          198,
          199,
          200,
          201,
          202,
          203,
          204,
          205,
          206,
          207,
          208,
          209,
          210,
          211,
          212,
          213,
          214,
          215,
          216,
          217,
          218,
          219,
          220,
          221,
          222,
          223,
          224,
          225,
          226,
          227,
          228,
          229,
          230,
          231,
          232,
          233,
          234,
          235,
          236,
          237,
          238,
          239,
          240,
          241,
          242,
          243,
          244,
          245,
          246,
          247,
          248,
          249,
          250,
          251,
          252,
          253,
          254,
          255,
          256,
          257,
          258,
          259,
          260,
          261,
          262,
          263,
          264,
          265,
          266,
          267,
          268,
          269,
          270,
          271,
          272,
          273,
          274,
          275,
          276,
          277,
          278,
          279,
          280,
          281,
          282,
          283,
          284,
          285,
          286,
          287,
          288,
          289,
          290,
          291,
          292,
          293,
          294,
          295,
          296,
          297,
          298,
          299,
          300,
          301,
          302,
          303,
          304,
          305,
          306,
          307,
          308,
          309,
          310,
          311,
          312,
          313,
          314,
          315,
          316,
          317,
          318,
          319,
          320,
          321,
          322,
          323,
          324,
          325,
          326,
          327,
          328,
          329,
          330,
          331,
          332,
          333,
          334,
          335,
          336,
          337,
          338,
          339,
          340,
          341,
          342,
          343,
          344,
          345,
          346,
          347,
          348,
          349,
          350,
          351,
          352,
          353,
          354,
          355,
          356,
          357,
          358,
          359,
          360,
          361,
          362,
          363,
          364,
          365,
          366,
          367,
          368,
          369,
          370,
          371,
          372,
          373,
          374,
          375,
          376,
          377,
          378,
          379,
          380,
          381,
          382,
          383,
          384,
          385,
          386,
          387,
          388,
          389,
          390,
          391,
          392,
          393,
          394,
          395,
          396,
          397,
          398,
          399,
          400,
          401,
          402,
          403,
          404,
          405,
          406,
          407,
          408,
          409,
          410,
          411,
          412,
          413,
          414,
          415,
          416,
          417,
          418,
          419,
          420,
          421,
          422,
          423,
          424,
          425,
          426,
          427,
          428,
          429,
          430,
          431,
          432,
          433,
          434,
          435,
          436,
          437,
          438,
          439,
          440,
          441,
          442,
          443,
          444,
          445,
          446,
          447,
          448,
          449,
          450,
          451,
          452,
          453,
          454,
          455,
          456,
          457,
          458,
          459,
          460,
          461,
          462,
          463,
          464,
          465,
          466,
          467,
          468,
          469,
          470,
          471,
          472,
          473,
          474,
          475,
          476,
          477,
          478,
          479,
          480,
          481,
          482,
          483,
          484,
          485,
          486,
          487,
          488,
          489,
          490,
          491,
          492,
          493,
          494,
          495,
          496,
          497,
          498,
          499
         ],
         "xaxis": "x",
         "y": [
          0.000007343780453084037,
          4.2081239826075034e-8,
          0.0000016969703438007855,
          0.000005511305516847642,
          0.000003656466560642002,
          9.746265128285359e-9,
          0.000002168339051422663,
          0.0000033579449336684775,
          0.0000036656447264249437,
          0.0000015990862038961495,
          0.0000010093204991790117,
          6.59759891163958e-8,
          0.000003122798261756543,
          4.3378332748034154e-7,
          1.3910656093685247e-7,
          0.00000171640340340673,
          0.0000016945865581874386,
          7.523312888224609e-7,
          5.304067229872089e-8,
          0.000001709963157736638,
          0.000004471306056075264,
          0.0000049625791689322796,
          0.0000032420600746263517,
          0.0000035996131373394746,
          0.0000032230830129265087,
          9.57651991484454e-7,
          0.0000019576161776058143,
          0.000001140823655987333,
          0.00000517275157108088,
          0.00000259763078247488,
          0.00000269382917394978,
          0.000002639888862177031,
          0.000001966927811736241,
          0.000006007247066008858,
          0.000007179957265179837,
          0.000008900283319235314,
          0.000008254809472418856,
          0.0000023745326416246826,
          5.854950586581253e-7,
          8.652110636830912e-7,
          0.000003934433152608108,
          0.000004796938810613938,
          0.0000012730001799354795,
          0.0000020697764284705045,
          0.0000026749976314022206,
          0.000001240904907717777,
          1.8349828678765334e-7,
          2.2872786331618045e-8,
          4.2189963522787366e-8,
          0.0000010011352742367308,
          0.0000030080600481596775,
          0.0000042364836190245114,
          0.000003453115596130374,
          0.000007241125331347575,
          0.0000025565882424416486,
          0.000007551113412773702,
          0.000013850316463503987,
          0.000009004898856801447,
          0.000007604322036058875,
          0.0000072534894570708275,
          0.0000011258090353294392,
          5.635268394144077e-7,
          0.000004475168680073693,
          0.000008860461093718186,
          0.000012670849173446186,
          0.00001429901021765545,
          0.00001377671469526831,
          0.000011651287422864698,
          0.000008650534255139064,
          0.000005486842837854056,
          0.0000027525218229129678,
          8.663732273817004e-7,
          3.929725522766603e-8,
          2.4425571609754115e-7,
          0.0000012078564850526163,
          0.000002467043941578595,
          0.0000035148245842719916,
          0.000003986237970821094,
          0.0000037804718431289075,
          0.000003050249006264494,
          0.000002084040943373111,
          0.0000011656640026558307,
          4.825523660656472e-7,
          1.0279223516818092e-7,
          3.8777761557362567e-10,
          9.71582068132193e-8,
          2.9946369295430486e-7,
          5.221100991548155e-7,
          7.005669999671227e-7,
          7.953687486406125e-7,
          7.919930453681445e-7,
          6.98104315688397e-7,
          5.390198793975287e-7,
          3.516564959227253e-7,
          1.7708231325741508e-7,
          5.208090314567926e-8,
          7.60137619515433e-10,
          2.8035552546157305e-8,
          1.1744168659788556e-7,
          2.3520269110122172e-7,
          3.4050447084155167e-7,
          3.9891992287266476e-7,
          3.937258554742584e-7,
          3.3026765322574647e-7,
          2.3177759089776373e-7,
          1.2909117685921956e-7,
          4.912588380534544e-8,
          6.737473690066054e-9,
          2.2009649658372155e-9,
          2.400220289189292e-8,
          5.485760468104672e-8,
          7.842044169592555e-8,
          8.452752808807418e-8,
          7.167935933694025e-8,
          4.63615457135802e-8,
          1.9697504072269112e-8,
          2.6714694900675795e-9,
          1.6463704843872051e-9,
          1.591003417900083e-8,
          3.8277324421187586e-8,
          5.85115103035605e-8,
          6.797998963747887e-8,
          6.330184021408058e-8,
          4.729869829134259e-8,
          2.7011022751821656e-8,
          1.0033353703420289e-8,
          1.1361546148336288e-9,
          7.088472031568926e-10,
          5.4490598699885595e-9,
          1.0615157641780115e-8,
          1.2544941974113044e-8,
          1.024319828957232e-8,
          5.4203876942438e-9,
          1.1749605732802593e-9,
          1.0990821447398602e-10,
          2.905914397999254e-9,
          8.061228129463416e-9,
          1.2849655561808504e-8,
          1.4876751386339038e-8,
          1.3315364810750907e-8,
          9.162912206761575e-9,
          4.47953230064968e-9,
          1.1623784157421824e-9,
          6.454892176321891e-12,
          5.292201121775975e-10,
          1.529763760110825e-9,
          1.943930127978888e-9,
          1.45395551154337e-9,
          5.368014921458553e-10,
          6.006756723964113e-12,
          4.018634869318305e-10,
          1.6268839608812868e-9,
          3.0334676992538334e-9,
          3.85997767082813e-9,
          3.701205120165696e-9,
          2.7101660915462844e-9,
          1.4370865608626104e-9,
          4.5312281704568136e-10,
          2.8158831169577958e-11,
          5.300870159485882e-11,
          2.1170945552206888e-10,
          2.4656171548897987e-10,
          1.234223417911906e-10,
          4.72257215972105e-12,
          8.116728816842667e-11,
          4.0328362871377976e-10,
          8.351379587878682e-10,
          1.150230133362129e-9,
          1.1859488946441843e-9,
          9.427031377740036e-10,
          5.650286905023449e-10,
          2.3179867747469274e-10,
          4.69897454280499e-11,
          6.645572492910284e-14,
          1.1935880235569574e-11,
          1.4728662733887177e-11,
          1.3250650576779321e-12,
          1.3944481853933599e-11,
          9.168637377099387e-11,
          2.26182642060202e-10,
          3.6025382676996287e-10,
          4.2734735195004703e-10,
          3.966083850226454e-10,
          2.9043270566297963e-10,
          1.6439610783791636e-10,
          6.777935157575854e-11,
          1.810128782975262e-11,
          2.7228874537044145e-12,
          6.778050343214659e-13,
          3.0799698728933844e-12,
          1.6316207065991684e-11,
          4.926905411428706e-11,
          9.87259649032346e-11,
          1.465480653495277e-10,
          1.7109753891464408e-10,
          1.6165636884668544e-10,
          1.2500420143446433e-10,
          7.915526567536801e-11,
          4.126158789641288e-11,
          1.8566249232465637e-11,
          8.835216412650393e-12,
          6.870239620260232e-12,
          1.0318985249613277e-11,
          2.0214491538994572e-11,
          3.68832048236456e-11,
          5.65456605150505e-11,
          7.185147615773602e-11,
          7.630778647849112e-11,
          6.84415094043267e-11,
          5.2322018245787305e-11,
          3.476301538296589e-11,
          2.100253131132046e-11,
          1.2835107109088195e-11,
          9.496013350651644e-12,
          9.780513204882268e-12,
          1.3211522154055189e-11,
          1.9497407161006564e-11,
          2.728018332065485e-11,
          3.39887389066984e-11,
          3.707122803175977e-11,
          3.528330752566866e-11,
          2.956771286144466e-11,
          2.226906853364241e-11,
          1.570655758231787e-11,
          1.1138824237977296e-11,
          8.836876543016903e-12,
          8.492027393780521e-12,
          9.754900012759471e-12,
          1.230419238718028e-11,
          1.5440102321684357e-11,
          1.8139347662815553e-11,
          1.9364392034315614e-11,
          1.863533632961989e-11,
          1.6271095581998907e-11,
          1.3126354170278631e-11,
          1.0181825868538219e-11,
          7.992096567877027e-12,
          6.816640134299501e-12,
          6.567058528916814e-12,
          7.114531186402928e-12,
          8.19664735390857e-12,
          9.443851950452498e-12,
          1.0427570265592045e-11,
          1.0729867515324454e-11,
          1.0198474877098906e-11,
          9.057504746223799e-12,
          7.637520824110844e-12,
          6.309724878000855e-12,
          5.340645894275076e-12,
          4.8243093547784e-12,
          4.734926426636088e-12,
          4.986016807762006e-12,
          5.459241999433706e-12,
          5.924866066514545e-12,
          6.20187581845677e-12,
          6.148183524790074e-12,
          5.7752964736923484e-12,
          5.160539096743522e-12,
          4.478883843667125e-12,
          3.8879797818747175e-12,
          3.481253263090678e-12,
          3.2846260433760932e-12,
          3.2691158807773846e-12,
          3.4045277447908306e-12,
          3.5764240961105864e-12,
          3.709380025362918e-12,
          3.728776835909553e-12,
          3.5912342977867384e-12,
          3.334777549587886e-12,
          3.002015519851242e-12,
          2.6757597873516836e-12,
          2.421303392161067e-12,
          2.2549963198809087e-12,
          2.194984428591229e-12,
          2.2093576967918693e-12,
          2.256115433363348e-12,
          2.2977121507533615e-12,
          2.3056246582081608e-12,
          2.2449381763267606e-12,
          2.1139249205270882e-12,
          1.944284793928275e-12,
          1.7826095417491916e-12,
          1.6362798702790338e-12,
          1.5296652833285407e-12,
          1.4726145650123534e-12,
          1.4496494282756345e-12,
          1.4532397637698202e-12,
          1.4588587499489436e-12,
          1.44920078541666e-12,
          1.4095626792512417e-12,
          1.3375302384752152e-12,
          1.2552537134724595e-12,
          1.164708520601243e-12,
          1.0798738205725078e-12,
          1.0173190415074806e-12,
          9.771437131655958e-13,
          9.584532603343354e-13,
          9.482685903866583e-13,
          9.38409181090727e-13,
          9.151878473806496e-13,
          8.94634464166516e-13,
          8.466699563669522e-13,
          8.040302906971164e-13,
          7.521183654178587e-13,
          7.08194733325257e-13,
          6.695494310891836e-13,
          6.429934709673013e-13,
          6.266688556966216e-13,
          6.155126863922888e-13,
          6.009861120044591e-13,
          5.887749055660807e-13,
          5.690760362941916e-13,
          5.42966225366287e-13,
          5.137245880429409e-13,
          4.85811586271867e-13,
          4.604458632949393e-13,
          4.3576031455092035e-13,
          4.184752587857443e-13,
          4.046147097924724e-13,
          3.949575313067638e-13,
          3.888938867116498e-13,
          3.769074082785734e-13,
          3.637591259025158e-13,
          3.487512199602111e-13,
          3.3040917549707893e-13,
          3.1141812761349696e-13,
          2.934934467766631e-13,
          2.8141042014012685e-13,
          2.712280541220663e-13,
          2.6161421661820283e-13,
          2.5494073540612006e-13,
          2.508660054863221e-13,
          2.400694118324942e-13,
          2.313880424070769e-13,
          2.2093621149157222e-13,
          2.1029857542875785e-13,
          1.990914486223183e-13,
          1.8867629084529797e-13,
          1.7988141900494858e-13,
          1.7478310736663422e-13,
          1.6731117901715165e-13,
          1.6307178589240745e-13,
          1.5858995160936834e-13,
          1.5329417965039005e-13,
          1.4837520860393194e-13,
          1.4170752787347196e-13,
          1.335544088515439e-13,
          1.2607238386933006e-13,
          1.2015808812347595e-13,
          1.143228713735775e-13,
          1.1004950883951661e-13,
          1.0600909391847782e-13,
          1.0504097591734762e-13,
          1.0204424111259769e-13,
          9.792167077193881e-14,
          9.212318814689688e-14,
          8.848508677074957e-14,
          8.346105653377761e-14,
          7.81666804850964e-14,
          7.599476603559197e-14,
          7.319687390927587e-14,
          7.015513116184063e-14,
          6.839028719425946e-14,
          6.667198260493223e-14,
          6.351201438685103e-14,
          6.118661079104054e-14,
          5.733297002300311e-14,
          5.5782604962062096e-14,
          5.1639248432877594e-14,
          5.029365866913299e-14,
          4.708820139365244e-14,
          4.608314597975838e-14,
          4.4399434215997013e-14,
          4.28241121762981e-14,
          4.159953631566182e-14,
          3.935133469079588e-14,
          3.723743522191479e-14,
          3.63087720154677e-14,
          3.332056852656251e-14,
          3.291381314089563e-14,
          3.137771211478638e-14,
          3.0395685832662264e-14,
          2.885691495870327e-14,
          2.7481489306424578e-14,
          2.638111727497599e-14,
          2.4890122447373923e-14,
          2.439306487920026e-14,
          2.3328561304936102e-14,
          2.2343455211015772e-14,
          2.110811525568579e-14,
          2.056367466444272e-14,
          1.9567714690336274e-14,
          1.8374887318628984e-14,
          1.7935688877016367e-14,
          1.632707844249036e-14,
          1.594849367858326e-14,
          1.543518663034947e-14,
          1.4862077361973633e-14,
          1.40779408462177e-14,
          1.4166481200194193e-14,
          1.3250650542898004e-14,
          1.2490009027033011e-14,
          1.1691350978429351e-14,
          1.1510791506161994e-14,
          1.0725309055052874e-14,
          1.0342976170354175e-14,
          9.544457882186812e-15,
          9.237610032648575e-15,
          8.900597645792718e-15,
          8.673617379884035e-15,
          8.398282544115447e-15,
          8.262279545972508e-15,
          7.696655507751556e-15,
          6.978870047369369e-15,
          6.655925607217984e-15,
          6.716849298982197e-15,
          6.37032896729341e-15,
          6.149282167180244e-15,
          5.495742461781401e-15,
          5.3312910150719785e-15,
          4.794708348480588e-15,
          4.749672877224498e-15,
          4.794708348480588e-15,
          4.87890977618477e-15,
          4.647532138730417e-15,
          4.3477726844112774e-15,
          4.058003983705002e-15,
          3.472678594405626e-15,
          3.2699192356236808e-15,
          2.998851116568649e-15,
          3.2699192356236808e-15,
          3.1225022567582528e-15,
          2.9581892999357064e-15,
          3.2274530270548496e-15,
          2.9581892999357064e-15,
          2.6047218157717765e-15,
          2.229544665411482e-15,
          2.1338485770965856e-15,
          1.9817826579001524e-15,
          1.9984014443252818e-15,
          2.0402516481832222e-15,
          1.9817826579001524e-15,
          2.0995706360288618e-15,
          1.8754529179654256e-15,
          1.8835278948098376e-15,
          1.5300261058115439e-15,
          1.3877787807814457e-15,
          1.1555426754350506e-15,
          1.265689039950987e-15,
          1.1746159515830861e-15,
          1.3601619068109297e-15,
          1.2524703496552547e-15,
          1.3328227537679946e-15,
          1.1492196803629157e-15,
          1.0746959217184694e-15,
          7.85838416705203e-16,
          8.85405075012137e-16,
          7.194244691351246e-16,
          7.806255641895632e-16,
          8.881784197001252e-16,
          8.335346302068558e-16,
          8.174798089059202e-16,
          7.599476900020728e-16,
          5.773506270405359e-16,
          5.953918464819013e-16,
          5.248926590072154e-16,
          4.996003610813204e-16,
          4.708819737024594e-16,
          4.3520740765361123e-16,
          5.185110598430423e-16,
          5.163924716232817e-16,
          4.913083320441745e-16,
          4.996003610813204e-16,
          3.752553420892379e-16,
          3.2981430087009045e-16,
          3.752553420892379e-16,
          3.469446951953614e-16,
          2.656295322589486e-16,
          2.8102520310824275e-16,
          2.3328560563782273e-16,
          2.6867398042961736e-16,
          3.1642225998774673e-16,
          3.131175874138137e-16,
          2.3328560563782273e-16,
          2.1108116632114328e-16,
          2.276304431050386e-16,
          1.8488683124598165e-16,
          7.182623002268223e-17,
          1.333655360685366e-16,
          2.9365398789577154e-16,
          2.4480414198973794e-16,
          2.1108116632114328e-16,
          1.0686764556090271e-16,
          1.249000902703301e-16,
          9.381383552230948e-17,
          7.664007708060603e-17,
          1.1671220658102701e-16,
          1.249000902703301e-16,
          1.3770235799336842e-16,
          1.366116442551009e-16
         ],
         "yaxis": "y"
        }
       ],
       "layout": {
        "legend": {
         "tracegroupgap": 0
        },
        "margin": {
         "t": 60
        },
        "template": {
         "data": {
          "bar": [
           {
            "error_x": {
             "color": "#2a3f5f"
            },
            "error_y": {
             "color": "#2a3f5f"
            },
            "marker": {
             "line": {
              "color": "#E5ECF6",
              "width": 0.5
             },
             "pattern": {
              "fillmode": "overlay",
              "size": 10,
              "solidity": 0.2
             }
            },
            "type": "bar"
           }
          ],
          "barpolar": [
           {
            "marker": {
             "line": {
              "color": "#E5ECF6",
              "width": 0.5
             },
             "pattern": {
              "fillmode": "overlay",
              "size": 10,
              "solidity": 0.2
             }
            },
            "type": "barpolar"
           }
          ],
          "carpet": [
           {
            "aaxis": {
             "endlinecolor": "#2a3f5f",
             "gridcolor": "white",
             "linecolor": "white",
             "minorgridcolor": "white",
             "startlinecolor": "#2a3f5f"
            },
            "baxis": {
             "endlinecolor": "#2a3f5f",
             "gridcolor": "white",
             "linecolor": "white",
             "minorgridcolor": "white",
             "startlinecolor": "#2a3f5f"
            },
            "type": "carpet"
           }
          ],
          "choropleth": [
           {
            "colorbar": {
             "outlinewidth": 0,
             "ticks": ""
            },
            "type": "choropleth"
           }
          ],
          "contour": [
           {
            "colorbar": {
             "outlinewidth": 0,
             "ticks": ""
            },
            "colorscale": [
             [
              0,
              "#0d0887"
             ],
             [
              0.1111111111111111,
              "#46039f"
             ],
             [
              0.2222222222222222,
              "#7201a8"
             ],
             [
              0.3333333333333333,
              "#9c179e"
             ],
             [
              0.4444444444444444,
              "#bd3786"
             ],
             [
              0.5555555555555556,
              "#d8576b"
             ],
             [
              0.6666666666666666,
              "#ed7953"
             ],
             [
              0.7777777777777778,
              "#fb9f3a"
             ],
             [
              0.8888888888888888,
              "#fdca26"
             ],
             [
              1,
              "#f0f921"
             ]
            ],
            "type": "contour"
           }
          ],
          "contourcarpet": [
           {
            "colorbar": {
             "outlinewidth": 0,
             "ticks": ""
            },
            "type": "contourcarpet"
           }
          ],
          "heatmap": [
           {
            "colorbar": {
             "outlinewidth": 0,
             "ticks": ""
            },
            "colorscale": [
             [
              0,
              "#0d0887"
             ],
             [
              0.1111111111111111,
              "#46039f"
             ],
             [
              0.2222222222222222,
              "#7201a8"
             ],
             [
              0.3333333333333333,
              "#9c179e"
             ],
             [
              0.4444444444444444,
              "#bd3786"
             ],
             [
              0.5555555555555556,
              "#d8576b"
             ],
             [
              0.6666666666666666,
              "#ed7953"
             ],
             [
              0.7777777777777778,
              "#fb9f3a"
             ],
             [
              0.8888888888888888,
              "#fdca26"
             ],
             [
              1,
              "#f0f921"
             ]
            ],
            "type": "heatmap"
           }
          ],
          "heatmapgl": [
           {
            "colorbar": {
             "outlinewidth": 0,
             "ticks": ""
            },
            "colorscale": [
             [
              0,
              "#0d0887"
             ],
             [
              0.1111111111111111,
              "#46039f"
             ],
             [
              0.2222222222222222,
              "#7201a8"
             ],
             [
              0.3333333333333333,
              "#9c179e"
             ],
             [
              0.4444444444444444,
              "#bd3786"
             ],
             [
              0.5555555555555556,
              "#d8576b"
             ],
             [
              0.6666666666666666,
              "#ed7953"
             ],
             [
              0.7777777777777778,
              "#fb9f3a"
             ],
             [
              0.8888888888888888,
              "#fdca26"
             ],
             [
              1,
              "#f0f921"
             ]
            ],
            "type": "heatmapgl"
           }
          ],
          "histogram": [
           {
            "marker": {
             "pattern": {
              "fillmode": "overlay",
              "size": 10,
              "solidity": 0.2
             }
            },
            "type": "histogram"
           }
          ],
          "histogram2d": [
           {
            "colorbar": {
             "outlinewidth": 0,
             "ticks": ""
            },
            "colorscale": [
             [
              0,
              "#0d0887"
             ],
             [
              0.1111111111111111,
              "#46039f"
             ],
             [
              0.2222222222222222,
              "#7201a8"
             ],
             [
              0.3333333333333333,
              "#9c179e"
             ],
             [
              0.4444444444444444,
              "#bd3786"
             ],
             [
              0.5555555555555556,
              "#d8576b"
             ],
             [
              0.6666666666666666,
              "#ed7953"
             ],
             [
              0.7777777777777778,
              "#fb9f3a"
             ],
             [
              0.8888888888888888,
              "#fdca26"
             ],
             [
              1,
              "#f0f921"
             ]
            ],
            "type": "histogram2d"
           }
          ],
          "histogram2dcontour": [
           {
            "colorbar": {
             "outlinewidth": 0,
             "ticks": ""
            },
            "colorscale": [
             [
              0,
              "#0d0887"
             ],
             [
              0.1111111111111111,
              "#46039f"
             ],
             [
              0.2222222222222222,
              "#7201a8"
             ],
             [
              0.3333333333333333,
              "#9c179e"
             ],
             [
              0.4444444444444444,
              "#bd3786"
             ],
             [
              0.5555555555555556,
              "#d8576b"
             ],
             [
              0.6666666666666666,
              "#ed7953"
             ],
             [
              0.7777777777777778,
              "#fb9f3a"
             ],
             [
              0.8888888888888888,
              "#fdca26"
             ],
             [
              1,
              "#f0f921"
             ]
            ],
            "type": "histogram2dcontour"
           }
          ],
          "mesh3d": [
           {
            "colorbar": {
             "outlinewidth": 0,
             "ticks": ""
            },
            "type": "mesh3d"
           }
          ],
          "parcoords": [
           {
            "line": {
             "colorbar": {
              "outlinewidth": 0,
              "ticks": ""
             }
            },
            "type": "parcoords"
           }
          ],
          "pie": [
           {
            "automargin": true,
            "type": "pie"
           }
          ],
          "scatter": [
           {
            "fillpattern": {
             "fillmode": "overlay",
             "size": 10,
             "solidity": 0.2
            },
            "type": "scatter"
           }
          ],
          "scatter3d": [
           {
            "line": {
             "colorbar": {
              "outlinewidth": 0,
              "ticks": ""
             }
            },
            "marker": {
             "colorbar": {
              "outlinewidth": 0,
              "ticks": ""
             }
            },
            "type": "scatter3d"
           }
          ],
          "scattercarpet": [
           {
            "marker": {
             "colorbar": {
              "outlinewidth": 0,
              "ticks": ""
             }
            },
            "type": "scattercarpet"
           }
          ],
          "scattergeo": [
           {
            "marker": {
             "colorbar": {
              "outlinewidth": 0,
              "ticks": ""
             }
            },
            "type": "scattergeo"
           }
          ],
          "scattergl": [
           {
            "marker": {
             "colorbar": {
              "outlinewidth": 0,
              "ticks": ""
             }
            },
            "type": "scattergl"
           }
          ],
          "scattermapbox": [
           {
            "marker": {
             "colorbar": {
              "outlinewidth": 0,
              "ticks": ""
             }
            },
            "type": "scattermapbox"
           }
          ],
          "scatterpolar": [
           {
            "marker": {
             "colorbar": {
              "outlinewidth": 0,
              "ticks": ""
             }
            },
            "type": "scatterpolar"
           }
          ],
          "scatterpolargl": [
           {
            "marker": {
             "colorbar": {
              "outlinewidth": 0,
              "ticks": ""
             }
            },
            "type": "scatterpolargl"
           }
          ],
          "scatterternary": [
           {
            "marker": {
             "colorbar": {
              "outlinewidth": 0,
              "ticks": ""
             }
            },
            "type": "scatterternary"
           }
          ],
          "surface": [
           {
            "colorbar": {
             "outlinewidth": 0,
             "ticks": ""
            },
            "colorscale": [
             [
              0,
              "#0d0887"
             ],
             [
              0.1111111111111111,
              "#46039f"
             ],
             [
              0.2222222222222222,
              "#7201a8"
             ],
             [
              0.3333333333333333,
              "#9c179e"
             ],
             [
              0.4444444444444444,
              "#bd3786"
             ],
             [
              0.5555555555555556,
              "#d8576b"
             ],
             [
              0.6666666666666666,
              "#ed7953"
             ],
             [
              0.7777777777777778,
              "#fb9f3a"
             ],
             [
              0.8888888888888888,
              "#fdca26"
             ],
             [
              1,
              "#f0f921"
             ]
            ],
            "type": "surface"
           }
          ],
          "table": [
           {
            "cells": {
             "fill": {
              "color": "#EBF0F8"
             },
             "line": {
              "color": "white"
             }
            },
            "header": {
             "fill": {
              "color": "#C8D4E3"
             },
             "line": {
              "color": "white"
             }
            },
            "type": "table"
           }
          ]
         },
         "layout": {
          "annotationdefaults": {
           "arrowcolor": "#2a3f5f",
           "arrowhead": 0,
           "arrowwidth": 1
          },
          "autotypenumbers": "strict",
          "coloraxis": {
           "colorbar": {
            "outlinewidth": 0,
            "ticks": ""
           }
          },
          "colorscale": {
           "diverging": [
            [
             0,
             "#8e0152"
            ],
            [
             0.1,
             "#c51b7d"
            ],
            [
             0.2,
             "#de77ae"
            ],
            [
             0.3,
             "#f1b6da"
            ],
            [
             0.4,
             "#fde0ef"
            ],
            [
             0.5,
             "#f7f7f7"
            ],
            [
             0.6,
             "#e6f5d0"
            ],
            [
             0.7,
             "#b8e186"
            ],
            [
             0.8,
             "#7fbc41"
            ],
            [
             0.9,
             "#4d9221"
            ],
            [
             1,
             "#276419"
            ]
           ],
           "sequential": [
            [
             0,
             "#0d0887"
            ],
            [
             0.1111111111111111,
             "#46039f"
            ],
            [
             0.2222222222222222,
             "#7201a8"
            ],
            [
             0.3333333333333333,
             "#9c179e"
            ],
            [
             0.4444444444444444,
             "#bd3786"
            ],
            [
             0.5555555555555556,
             "#d8576b"
            ],
            [
             0.6666666666666666,
             "#ed7953"
            ],
            [
             0.7777777777777778,
             "#fb9f3a"
            ],
            [
             0.8888888888888888,
             "#fdca26"
            ],
            [
             1,
             "#f0f921"
            ]
           ],
           "sequentialminus": [
            [
             0,
             "#0d0887"
            ],
            [
             0.1111111111111111,
             "#46039f"
            ],
            [
             0.2222222222222222,
             "#7201a8"
            ],
            [
             0.3333333333333333,
             "#9c179e"
            ],
            [
             0.4444444444444444,
             "#bd3786"
            ],
            [
             0.5555555555555556,
             "#d8576b"
            ],
            [
             0.6666666666666666,
             "#ed7953"
            ],
            [
             0.7777777777777778,
             "#fb9f3a"
            ],
            [
             0.8888888888888888,
             "#fdca26"
            ],
            [
             1,
             "#f0f921"
            ]
           ]
          },
          "colorway": [
           "#636efa",
           "#EF553B",
           "#00cc96",
           "#ab63fa",
           "#FFA15A",
           "#19d3f3",
           "#FF6692",
           "#B6E880",
           "#FF97FF",
           "#FECB52"
          ],
          "font": {
           "color": "#2a3f5f"
          },
          "geo": {
           "bgcolor": "white",
           "lakecolor": "white",
           "landcolor": "#E5ECF6",
           "showlakes": true,
           "showland": true,
           "subunitcolor": "white"
          },
          "hoverlabel": {
           "align": "left"
          },
          "hovermode": "closest",
          "mapbox": {
           "style": "light"
          },
          "paper_bgcolor": "white",
          "plot_bgcolor": "#E5ECF6",
          "polar": {
           "angularaxis": {
            "gridcolor": "white",
            "linecolor": "white",
            "ticks": ""
           },
           "bgcolor": "#E5ECF6",
           "radialaxis": {
            "gridcolor": "white",
            "linecolor": "white",
            "ticks": ""
           }
          },
          "scene": {
           "xaxis": {
            "backgroundcolor": "#E5ECF6",
            "gridcolor": "white",
            "gridwidth": 2,
            "linecolor": "white",
            "showbackground": true,
            "ticks": "",
            "zerolinecolor": "white"
           },
           "yaxis": {
            "backgroundcolor": "#E5ECF6",
            "gridcolor": "white",
            "gridwidth": 2,
            "linecolor": "white",
            "showbackground": true,
            "ticks": "",
            "zerolinecolor": "white"
           },
           "zaxis": {
            "backgroundcolor": "#E5ECF6",
            "gridcolor": "white",
            "gridwidth": 2,
            "linecolor": "white",
            "showbackground": true,
            "ticks": "",
            "zerolinecolor": "white"
           }
          },
          "shapedefaults": {
           "line": {
            "color": "#2a3f5f"
           }
          },
          "ternary": {
           "aaxis": {
            "gridcolor": "white",
            "linecolor": "white",
            "ticks": ""
           },
           "baxis": {
            "gridcolor": "white",
            "linecolor": "white",
            "ticks": ""
           },
           "bgcolor": "#E5ECF6",
           "caxis": {
            "gridcolor": "white",
            "linecolor": "white",
            "ticks": ""
           }
          },
          "title": {
           "x": 0.05
          },
          "xaxis": {
           "automargin": true,
           "gridcolor": "white",
           "linecolor": "white",
           "ticks": "",
           "title": {
            "standoff": 15
           },
           "zerolinecolor": "white",
           "zerolinewidth": 2
          },
          "yaxis": {
           "automargin": true,
           "gridcolor": "white",
           "linecolor": "white",
           "ticks": "",
           "title": {
            "standoff": 15
           },
           "zerolinecolor": "white",
           "zerolinewidth": 2
          }
         }
        },
        "xaxis": {
         "anchor": "y",
         "domain": [
          0,
          1
         ],
         "title": {
          "text": "index"
         }
        },
        "yaxis": {
         "anchor": "x",
         "domain": [
          0,
          1
         ],
         "title": {
          "text": "f_loss"
         }
        }
       }
      }
     },
     "metadata": {},
     "output_type": "display_data"
    },
    {
     "data": {
      "application/vnd.plotly.v1+json": {
       "config": {
        "plotlyServerURL": "https://plot.ly"
       },
       "data": [
        {
         "hovertemplate": "index=%{x}<br>f_loss=%{y}<extra></extra>",
         "legendgroup": "",
         "marker": {
          "color": "#636efa",
          "symbol": "circle"
         },
         "mode": "markers",
         "name": "",
         "orientation": "v",
         "showlegend": false,
         "type": "scatter",
         "x": [
          0,
          1,
          2,
          3,
          4,
          5,
          6,
          7,
          8,
          9,
          10,
          11,
          12,
          13,
          14,
          15,
          16,
          17,
          18,
          19,
          20,
          21,
          22,
          23,
          24,
          25,
          26,
          27,
          28,
          29,
          30,
          31,
          32,
          33,
          34,
          35,
          36,
          37,
          38,
          39,
          40,
          41,
          42,
          43,
          44,
          45,
          46,
          47,
          48,
          49,
          50,
          51,
          52,
          53,
          54,
          55,
          56,
          57,
          58,
          59,
          60,
          61,
          62,
          63,
          64,
          65,
          66,
          67,
          68,
          69,
          70,
          71,
          72,
          73,
          74,
          75,
          76,
          77,
          78,
          79,
          80,
          81,
          82,
          83,
          84,
          85,
          86,
          87,
          88,
          89,
          90,
          91,
          92,
          93,
          94,
          95,
          96,
          97,
          98,
          99,
          100,
          101,
          102,
          103,
          104,
          105,
          106,
          107,
          108,
          109,
          110,
          111,
          112,
          113,
          114,
          115,
          116,
          117,
          118,
          119,
          120,
          121,
          122,
          123,
          124,
          125,
          126,
          127,
          128,
          129,
          130,
          131,
          132,
          133,
          134,
          135,
          136,
          137,
          138,
          139,
          140,
          141,
          142,
          143,
          144,
          145,
          146,
          147,
          148,
          149,
          150,
          151,
          152,
          153,
          154,
          155,
          156,
          157,
          158,
          159,
          160,
          161,
          162,
          163,
          164,
          165,
          166,
          167,
          168,
          169,
          170,
          171,
          172,
          173,
          174,
          175,
          176,
          177,
          178,
          179,
          180,
          181,
          182,
          183,
          184,
          185,
          186,
          187,
          188,
          189,
          190,
          191,
          192,
          193,
          194,
          195,
          196,
          197,
          198,
          199,
          200,
          201,
          202,
          203,
          204,
          205,
          206,
          207,
          208,
          209,
          210,
          211,
          212,
          213,
          214,
          215,
          216,
          217,
          218,
          219,
          220,
          221,
          222,
          223,
          224,
          225,
          226,
          227,
          228,
          229,
          230,
          231,
          232,
          233,
          234,
          235,
          236,
          237,
          238,
          239,
          240,
          241,
          242,
          243,
          244,
          245,
          246,
          247,
          248,
          249,
          250,
          251,
          252,
          253,
          254,
          255,
          256,
          257,
          258,
          259,
          260,
          261,
          262,
          263,
          264,
          265,
          266,
          267,
          268,
          269,
          270,
          271,
          272,
          273,
          274,
          275,
          276,
          277,
          278,
          279,
          280,
          281,
          282,
          283,
          284,
          285,
          286,
          287,
          288,
          289,
          290,
          291,
          292,
          293,
          294,
          295,
          296,
          297,
          298,
          299,
          300,
          301,
          302,
          303,
          304,
          305,
          306,
          307,
          308,
          309,
          310,
          311,
          312,
          313,
          314,
          315,
          316,
          317,
          318,
          319,
          320,
          321,
          322,
          323,
          324,
          325,
          326,
          327,
          328,
          329,
          330,
          331,
          332,
          333,
          334,
          335,
          336,
          337,
          338,
          339,
          340,
          341,
          342,
          343,
          344,
          345,
          346,
          347,
          348,
          349,
          350,
          351,
          352,
          353,
          354,
          355,
          356,
          357,
          358,
          359,
          360,
          361,
          362,
          363,
          364,
          365,
          366,
          367,
          368,
          369,
          370,
          371,
          372,
          373,
          374,
          375,
          376,
          377,
          378,
          379,
          380,
          381,
          382,
          383,
          384,
          385,
          386,
          387,
          388,
          389,
          390,
          391,
          392,
          393,
          394,
          395,
          396,
          397,
          398,
          399,
          400,
          401,
          402,
          403,
          404,
          405,
          406,
          407,
          408,
          409,
          410,
          411,
          412,
          413,
          414,
          415,
          416,
          417,
          418,
          419,
          420,
          421,
          422,
          423,
          424,
          425,
          426,
          427,
          428,
          429,
          430,
          431,
          432,
          433,
          434,
          435,
          436,
          437,
          438,
          439,
          440,
          441,
          442,
          443,
          444,
          445,
          446,
          447,
          448,
          449,
          450,
          451,
          452,
          453,
          454,
          455,
          456,
          457,
          458,
          459,
          460,
          461,
          462,
          463,
          464,
          465,
          466,
          467,
          468,
          469,
          470,
          471,
          472,
          473,
          474,
          475,
          476,
          477,
          478,
          479,
          480,
          481,
          482,
          483,
          484,
          485,
          486,
          487,
          488,
          489,
          490,
          491,
          492,
          493,
          494,
          495,
          496,
          497,
          498,
          499
         ],
         "xaxis": "x",
         "y": [
          0.0044768741354346275,
          0.004403649363666773,
          0.004447144456207752,
          0.004470469430088997,
          0.004407808184623718,
          0.004398497752845287,
          0.0044318027794361115,
          0.004604894667863846,
          0.004614243749529123,
          0.004605893511325121,
          0.00457371212542057,
          0.0045740013010799885,
          0.004625765606760979,
          0.0045601436868309975,
          0.004571179859340191,
          0.0046021356247365475,
          0.00448980089277029,
          0.004675508476793766,
          0.004669074900448322,
          0.004623012617230415,
          0.004794220440089703,
          0.004834123887121677,
          0.0052799261175096035,
          0.005500226281583309,
          0.006138066295534372,
          0.007078500930219889,
          0.008447474800050259,
          2.82935417317276e-7,
          2.427072729460633e-7,
          2.5903474920596636e-7,
          3.403667108159425e-7,
          1.8533309287249722e-7,
          1.1509190045444484e-7,
          1.5526856600445171e-7,
          0.014138755388557911,
          2.437247701436718e-7,
          3.6630396493819717e-7,
          1.3954763744550291e-7,
          2.7196239216209506e-7,
          2.7273790692561306e-7,
          2.5967713668251236e-7,
          5.541793370866799e-7,
          2.990044549733284e-7,
          0.013230075128376484,
          1.5649621332158858e-7,
          2.9419877023428853e-7,
          1.9196910727714567e-7,
          2.3212018618323782e-7,
          2.5329552499897545e-7,
          2.0182834248316794e-7,
          2.270815855354158e-7,
          1.0085268087323129e-7,
          8.28928676810392e-8,
          1.3222191341810685e-7,
          1.479069027254809e-7,
          8.819960584105502e-8,
          9.324537586508086e-8,
          1.1322612181174918e-7,
          1.0496784597080477e-7,
          1.0461145905082958e-7,
          9.521211552510067e-8,
          1.248495635763902e-7,
          1.1697135704480388e-7,
          1.0604540534586704e-7,
          7.885866892820559e-8,
          1.0054875332343727e-7,
          9.546932489001847e-8,
          1.0160318453245054e-7,
          9.836799819140651e-8,
          1.0173128117685337e-7,
          9.645016518788907e-8,
          8.900746450990482e-8,
          8.411674201624919e-8,
          8.689526964644756e-8,
          9.670947775930472e-8,
          1.2061045140399074e-7,
          1.320102143154145e-7,
          1.3331336390365323e-7,
          1.309305304175723e-7,
          1.277056611570515e-7,
          1.2178475117252674e-7,
          1.0578551723483542e-7,
          1.0703960384716993e-7,
          8.781199767327053e-8,
          6.954806508474576e-8,
          8.215352664819875e-8,
          9.307139237080264e-8,
          1.1491795248730341e-7,
          1.0957310792036878e-7,
          8.884352098448289e-8,
          7.786942290977095e-8,
          9.007329282439969e-8,
          7.263303558602274e-8,
          7.692422343552607e-8,
          3.8593920947960214e-8,
          6.12517396803014e-8,
          7.537933299772703e-8,
          1.0446005660469382e-7,
          8.83260184991741e-8,
          1.1113935727280477e-7,
          1.2426681905708392e-7,
          1.5435071532010625e-7,
          1.533458515723396e-7,
          1.5214259008189401e-7,
          1.231093165188213e-7,
          1.8351785513459618e-7,
          1.9778988757934712e-7,
          1.93496418887662e-7,
          1.461097411947776e-7,
          1.8225773601443507e-7,
          2.819056419411936e-7,
          4.235970152421942e-7,
          2.9171698656682565e-7,
          0,
          0,
          4.148798211645044e-7,
          8.799817408089439e-8,
          7.128689194502158e-9,
          7.606108454183413e-8,
          6.239555006004593e-8,
          8.548023799903604e-8,
          6.977241184813465e-8,
          6.482555647835397e-8,
          6.771946203798507e-8,
          7.02450435596802e-8,
          6.953729325687164e-8,
          6.971456656401642e-8,
          6.973120747488792e-8,
          6.95655373306181e-8,
          6.918139661138412e-8,
          6.85476280182229e-8,
          6.891350068372049e-8,
          6.71531381613022e-8,
          6.63140227175063e-8,
          6.618159176241534e-8,
          6.093024751407938e-8,
          4.898505068240411e-8,
          1.0973433006711275e-7,
          2.885691685605707e-8,
          9.180792517327063e-7,
          0,
          0,
          0,
          0,
          0,
          0,
          0,
          0,
          1.1046348902254977e-7,
          2.685111577527266e-10,
          5.692449533967192e-8,
          4.9814108393775314e-8,
          6.465242563535867e-8,
          5.363123634083422e-8,
          5.26293675306988e-8,
          5.146417692003524e-8,
          4.87109836910804e-8,
          3.378936952458389e-8,
          1.0562801300295632e-8,
          3.7736501923291144e-8,
          4.058682634422439e-8,
          4.1377294479616467e-8,
          3.7221941084908394e-8,
          2.507272611751432e-8,
          3.531073744511559e-8,
          8.932134676342685e-8,
          1.9747434976125078e-7,
          1.857541178651445e-7,
          2.0279632906294864e-7,
          1.8927396183698875e-7,
          1.1558201151729008e-7,
          8.185349287259669e-8,
          3.7218796933302656e-8,
          4.014012386366339e-11,
          2.680181410141813e-8,
          1.545365257982212e-8,
          8.6426243939286e-9,
          1.6673279645829098e-8,
          2.4685046895456253e-8,
          2.6033571742800632e-8,
          2.4109263918603574e-8,
          2.2598321436362312e-8,
          2.1563776542166124e-8,
          2.0741680373248528e-8,
          1.986734510239785e-8,
          1.87000583906638e-8,
          1.7127756990475973e-8,
          1.3565236933743563e-8,
          1.1403209043692186e-8,
          1.447212660821151e-8,
          1.5489897364773242e-8,
          3.571488590980998e-11,
          9.776191411958735e-9,
          0,
          0,
          0,
          0,
          0,
          0,
          0,
          0,
          0,
          0,
          0,
          0,
          3.3147617983786404e-8,
          2.328746570579021e-11,
          9.227725805693865e-10,
          5.812972769803082e-9,
          3.4378042634841677e-9,
          4.903221717533768e-10,
          3.183336372281076e-10,
          3.1764986474502876e-11,
          2.263303544580708e-9,
          4.54800952454093e-9,
          6.766278648484558e-9,
          7.57221751968018e-9,
          8.161692655050956e-9,
          6.825222609307957e-9,
          7.818362846023774e-9,
          2.955134581483776e-9,
          2.1872634814457115e-9,
          1.7545979114075294e-9,
          1.517085346236513e-9,
          1.8069977736345777e-9,
          2.6097277672221253e-9,
          5.208026787606457e-10,
          8.928676686892345e-10,
          2.2503951827013147e-12,
          1.214061056548088e-11,
          2.0330333250218047e-10,
          9.118343857750233e-10,
          1.1398898491776777e-9,
          2.2470178495659354e-10,
          4.4502965201864697e-10,
          1.8277374058683904e-10,
          2.5733679076545e-10,
          7.513836219885661e-10,
          1.8927623357534173e-10,
          1.326506371412961e-8,
          0,
          0,
          0,
          0,
          0,
          0,
          0,
          0,
          0,
          4.73595633820878e-8,
          5.657060375696688e-10,
          2.1931496896332447e-10,
          5.3004224273567324e-12,
          6.121886886312211e-10,
          7.83688669514504e-10,
          8.686361629983708e-10,
          8.686910635269385e-10,
          7.956434400213652e-10,
          7.482446329198922e-10,
          5.477884812421507e-10,
          4.369110906399243e-10,
          3.5352595850746127e-10,
          2.854325664713997e-10,
          1.8538215407204461e-10,
          3.2850916431570454e-10,
          1.0092868762967555e-9,
          0,
          0,
          0,
          0,
          0,
          0,
          0,
          0,
          0,
          0,
          0,
          0,
          1.4451674579252227e-10,
          1.8407002311260356e-10,
          2.850097380324712e-10,
          4.2743070194362076e-10,
          1.5132218394997565e-11,
          2.8016711173250997e-10,
          1.4263187853025272e-10,
          1.32291261278894e-10,
          3.2741809263825417e-11,
          4.626055940225304e-13,
          3.0227258196457996e-11,
          9.179630944267103e-10,
          9.14029962828522e-10,
          1.035220686951277e-9,
          5.369968358870381e-10,
          6.544983444101149e-10,
          2.7663035057079455e-11,
          1.8342201368870548e-10,
          2.885325867119093e-10,
          2.8027422396825763e-11,
          7.546138713898642e-11,
          7.84141571119612e-11,
          1.0497280822363564e-9,
          1.147401729184594e-9,
          0,
          0,
          0,
          0,
          0,
          0,
          0,
          0,
          0,
          0,
          0,
          0,
          0,
          0,
          0,
          0,
          0,
          0,
          0,
          0,
          0,
          0,
          0,
          0,
          0,
          0,
          0,
          0,
          0,
          0,
          0,
          0,
          0,
          0,
          0,
          0,
          0,
          0,
          0,
          0,
          0,
          0,
          0,
          0,
          0,
          0,
          0,
          0,
          0,
          0,
          0,
          0,
          0,
          0,
          0,
          0,
          0,
          0,
          0,
          0,
          0,
          0,
          0,
          0,
          0,
          0,
          0,
          0,
          0,
          0,
          0,
          0,
          0,
          0,
          0,
          0,
          0,
          0,
          0,
          0,
          0,
          0,
          0,
          0,
          0,
          0,
          0,
          0,
          0,
          0,
          0,
          0,
          0,
          0,
          0,
          0,
          0,
          0,
          0,
          0,
          0,
          0,
          0,
          0,
          0,
          0,
          0,
          0,
          0,
          0,
          0,
          0,
          0,
          0,
          0,
          0,
          0,
          0,
          0,
          0,
          0,
          0,
          0,
          0,
          0,
          0,
          0,
          0,
          0,
          0,
          0,
          0,
          0,
          0,
          0,
          0,
          0,
          0,
          0,
          0,
          0,
          0,
          0,
          0,
          0,
          0,
          0,
          0,
          0,
          0,
          0,
          0,
          0,
          0,
          0,
          0,
          0,
          0,
          0,
          0,
          0,
          0,
          0,
          0,
          0,
          0,
          0,
          0,
          0,
          0,
          0,
          0,
          0,
          0,
          0,
          0,
          0,
          0,
          0,
          0,
          0,
          0,
          0,
          0,
          0,
          0,
          0,
          0,
          0,
          0,
          0,
          0,
          0,
          0,
          0,
          0,
          0,
          0
         ],
         "yaxis": "y"
        }
       ],
       "layout": {
        "legend": {
         "tracegroupgap": 0
        },
        "margin": {
         "t": 60
        },
        "template": {
         "data": {
          "bar": [
           {
            "error_x": {
             "color": "#2a3f5f"
            },
            "error_y": {
             "color": "#2a3f5f"
            },
            "marker": {
             "line": {
              "color": "#E5ECF6",
              "width": 0.5
             },
             "pattern": {
              "fillmode": "overlay",
              "size": 10,
              "solidity": 0.2
             }
            },
            "type": "bar"
           }
          ],
          "barpolar": [
           {
            "marker": {
             "line": {
              "color": "#E5ECF6",
              "width": 0.5
             },
             "pattern": {
              "fillmode": "overlay",
              "size": 10,
              "solidity": 0.2
             }
            },
            "type": "barpolar"
           }
          ],
          "carpet": [
           {
            "aaxis": {
             "endlinecolor": "#2a3f5f",
             "gridcolor": "white",
             "linecolor": "white",
             "minorgridcolor": "white",
             "startlinecolor": "#2a3f5f"
            },
            "baxis": {
             "endlinecolor": "#2a3f5f",
             "gridcolor": "white",
             "linecolor": "white",
             "minorgridcolor": "white",
             "startlinecolor": "#2a3f5f"
            },
            "type": "carpet"
           }
          ],
          "choropleth": [
           {
            "colorbar": {
             "outlinewidth": 0,
             "ticks": ""
            },
            "type": "choropleth"
           }
          ],
          "contour": [
           {
            "colorbar": {
             "outlinewidth": 0,
             "ticks": ""
            },
            "colorscale": [
             [
              0,
              "#0d0887"
             ],
             [
              0.1111111111111111,
              "#46039f"
             ],
             [
              0.2222222222222222,
              "#7201a8"
             ],
             [
              0.3333333333333333,
              "#9c179e"
             ],
             [
              0.4444444444444444,
              "#bd3786"
             ],
             [
              0.5555555555555556,
              "#d8576b"
             ],
             [
              0.6666666666666666,
              "#ed7953"
             ],
             [
              0.7777777777777778,
              "#fb9f3a"
             ],
             [
              0.8888888888888888,
              "#fdca26"
             ],
             [
              1,
              "#f0f921"
             ]
            ],
            "type": "contour"
           }
          ],
          "contourcarpet": [
           {
            "colorbar": {
             "outlinewidth": 0,
             "ticks": ""
            },
            "type": "contourcarpet"
           }
          ],
          "heatmap": [
           {
            "colorbar": {
             "outlinewidth": 0,
             "ticks": ""
            },
            "colorscale": [
             [
              0,
              "#0d0887"
             ],
             [
              0.1111111111111111,
              "#46039f"
             ],
             [
              0.2222222222222222,
              "#7201a8"
             ],
             [
              0.3333333333333333,
              "#9c179e"
             ],
             [
              0.4444444444444444,
              "#bd3786"
             ],
             [
              0.5555555555555556,
              "#d8576b"
             ],
             [
              0.6666666666666666,
              "#ed7953"
             ],
             [
              0.7777777777777778,
              "#fb9f3a"
             ],
             [
              0.8888888888888888,
              "#fdca26"
             ],
             [
              1,
              "#f0f921"
             ]
            ],
            "type": "heatmap"
           }
          ],
          "heatmapgl": [
           {
            "colorbar": {
             "outlinewidth": 0,
             "ticks": ""
            },
            "colorscale": [
             [
              0,
              "#0d0887"
             ],
             [
              0.1111111111111111,
              "#46039f"
             ],
             [
              0.2222222222222222,
              "#7201a8"
             ],
             [
              0.3333333333333333,
              "#9c179e"
             ],
             [
              0.4444444444444444,
              "#bd3786"
             ],
             [
              0.5555555555555556,
              "#d8576b"
             ],
             [
              0.6666666666666666,
              "#ed7953"
             ],
             [
              0.7777777777777778,
              "#fb9f3a"
             ],
             [
              0.8888888888888888,
              "#fdca26"
             ],
             [
              1,
              "#f0f921"
             ]
            ],
            "type": "heatmapgl"
           }
          ],
          "histogram": [
           {
            "marker": {
             "pattern": {
              "fillmode": "overlay",
              "size": 10,
              "solidity": 0.2
             }
            },
            "type": "histogram"
           }
          ],
          "histogram2d": [
           {
            "colorbar": {
             "outlinewidth": 0,
             "ticks": ""
            },
            "colorscale": [
             [
              0,
              "#0d0887"
             ],
             [
              0.1111111111111111,
              "#46039f"
             ],
             [
              0.2222222222222222,
              "#7201a8"
             ],
             [
              0.3333333333333333,
              "#9c179e"
             ],
             [
              0.4444444444444444,
              "#bd3786"
             ],
             [
              0.5555555555555556,
              "#d8576b"
             ],
             [
              0.6666666666666666,
              "#ed7953"
             ],
             [
              0.7777777777777778,
              "#fb9f3a"
             ],
             [
              0.8888888888888888,
              "#fdca26"
             ],
             [
              1,
              "#f0f921"
             ]
            ],
            "type": "histogram2d"
           }
          ],
          "histogram2dcontour": [
           {
            "colorbar": {
             "outlinewidth": 0,
             "ticks": ""
            },
            "colorscale": [
             [
              0,
              "#0d0887"
             ],
             [
              0.1111111111111111,
              "#46039f"
             ],
             [
              0.2222222222222222,
              "#7201a8"
             ],
             [
              0.3333333333333333,
              "#9c179e"
             ],
             [
              0.4444444444444444,
              "#bd3786"
             ],
             [
              0.5555555555555556,
              "#d8576b"
             ],
             [
              0.6666666666666666,
              "#ed7953"
             ],
             [
              0.7777777777777778,
              "#fb9f3a"
             ],
             [
              0.8888888888888888,
              "#fdca26"
             ],
             [
              1,
              "#f0f921"
             ]
            ],
            "type": "histogram2dcontour"
           }
          ],
          "mesh3d": [
           {
            "colorbar": {
             "outlinewidth": 0,
             "ticks": ""
            },
            "type": "mesh3d"
           }
          ],
          "parcoords": [
           {
            "line": {
             "colorbar": {
              "outlinewidth": 0,
              "ticks": ""
             }
            },
            "type": "parcoords"
           }
          ],
          "pie": [
           {
            "automargin": true,
            "type": "pie"
           }
          ],
          "scatter": [
           {
            "fillpattern": {
             "fillmode": "overlay",
             "size": 10,
             "solidity": 0.2
            },
            "type": "scatter"
           }
          ],
          "scatter3d": [
           {
            "line": {
             "colorbar": {
              "outlinewidth": 0,
              "ticks": ""
             }
            },
            "marker": {
             "colorbar": {
              "outlinewidth": 0,
              "ticks": ""
             }
            },
            "type": "scatter3d"
           }
          ],
          "scattercarpet": [
           {
            "marker": {
             "colorbar": {
              "outlinewidth": 0,
              "ticks": ""
             }
            },
            "type": "scattercarpet"
           }
          ],
          "scattergeo": [
           {
            "marker": {
             "colorbar": {
              "outlinewidth": 0,
              "ticks": ""
             }
            },
            "type": "scattergeo"
           }
          ],
          "scattergl": [
           {
            "marker": {
             "colorbar": {
              "outlinewidth": 0,
              "ticks": ""
             }
            },
            "type": "scattergl"
           }
          ],
          "scattermapbox": [
           {
            "marker": {
             "colorbar": {
              "outlinewidth": 0,
              "ticks": ""
             }
            },
            "type": "scattermapbox"
           }
          ],
          "scatterpolar": [
           {
            "marker": {
             "colorbar": {
              "outlinewidth": 0,
              "ticks": ""
             }
            },
            "type": "scatterpolar"
           }
          ],
          "scatterpolargl": [
           {
            "marker": {
             "colorbar": {
              "outlinewidth": 0,
              "ticks": ""
             }
            },
            "type": "scatterpolargl"
           }
          ],
          "scatterternary": [
           {
            "marker": {
             "colorbar": {
              "outlinewidth": 0,
              "ticks": ""
             }
            },
            "type": "scatterternary"
           }
          ],
          "surface": [
           {
            "colorbar": {
             "outlinewidth": 0,
             "ticks": ""
            },
            "colorscale": [
             [
              0,
              "#0d0887"
             ],
             [
              0.1111111111111111,
              "#46039f"
             ],
             [
              0.2222222222222222,
              "#7201a8"
             ],
             [
              0.3333333333333333,
              "#9c179e"
             ],
             [
              0.4444444444444444,
              "#bd3786"
             ],
             [
              0.5555555555555556,
              "#d8576b"
             ],
             [
              0.6666666666666666,
              "#ed7953"
             ],
             [
              0.7777777777777778,
              "#fb9f3a"
             ],
             [
              0.8888888888888888,
              "#fdca26"
             ],
             [
              1,
              "#f0f921"
             ]
            ],
            "type": "surface"
           }
          ],
          "table": [
           {
            "cells": {
             "fill": {
              "color": "#EBF0F8"
             },
             "line": {
              "color": "white"
             }
            },
            "header": {
             "fill": {
              "color": "#C8D4E3"
             },
             "line": {
              "color": "white"
             }
            },
            "type": "table"
           }
          ]
         },
         "layout": {
          "annotationdefaults": {
           "arrowcolor": "#2a3f5f",
           "arrowhead": 0,
           "arrowwidth": 1
          },
          "autotypenumbers": "strict",
          "coloraxis": {
           "colorbar": {
            "outlinewidth": 0,
            "ticks": ""
           }
          },
          "colorscale": {
           "diverging": [
            [
             0,
             "#8e0152"
            ],
            [
             0.1,
             "#c51b7d"
            ],
            [
             0.2,
             "#de77ae"
            ],
            [
             0.3,
             "#f1b6da"
            ],
            [
             0.4,
             "#fde0ef"
            ],
            [
             0.5,
             "#f7f7f7"
            ],
            [
             0.6,
             "#e6f5d0"
            ],
            [
             0.7,
             "#b8e186"
            ],
            [
             0.8,
             "#7fbc41"
            ],
            [
             0.9,
             "#4d9221"
            ],
            [
             1,
             "#276419"
            ]
           ],
           "sequential": [
            [
             0,
             "#0d0887"
            ],
            [
             0.1111111111111111,
             "#46039f"
            ],
            [
             0.2222222222222222,
             "#7201a8"
            ],
            [
             0.3333333333333333,
             "#9c179e"
            ],
            [
             0.4444444444444444,
             "#bd3786"
            ],
            [
             0.5555555555555556,
             "#d8576b"
            ],
            [
             0.6666666666666666,
             "#ed7953"
            ],
            [
             0.7777777777777778,
             "#fb9f3a"
            ],
            [
             0.8888888888888888,
             "#fdca26"
            ],
            [
             1,
             "#f0f921"
            ]
           ],
           "sequentialminus": [
            [
             0,
             "#0d0887"
            ],
            [
             0.1111111111111111,
             "#46039f"
            ],
            [
             0.2222222222222222,
             "#7201a8"
            ],
            [
             0.3333333333333333,
             "#9c179e"
            ],
            [
             0.4444444444444444,
             "#bd3786"
            ],
            [
             0.5555555555555556,
             "#d8576b"
            ],
            [
             0.6666666666666666,
             "#ed7953"
            ],
            [
             0.7777777777777778,
             "#fb9f3a"
            ],
            [
             0.8888888888888888,
             "#fdca26"
            ],
            [
             1,
             "#f0f921"
            ]
           ]
          },
          "colorway": [
           "#636efa",
           "#EF553B",
           "#00cc96",
           "#ab63fa",
           "#FFA15A",
           "#19d3f3",
           "#FF6692",
           "#B6E880",
           "#FF97FF",
           "#FECB52"
          ],
          "font": {
           "color": "#2a3f5f"
          },
          "geo": {
           "bgcolor": "white",
           "lakecolor": "white",
           "landcolor": "#E5ECF6",
           "showlakes": true,
           "showland": true,
           "subunitcolor": "white"
          },
          "hoverlabel": {
           "align": "left"
          },
          "hovermode": "closest",
          "mapbox": {
           "style": "light"
          },
          "paper_bgcolor": "white",
          "plot_bgcolor": "#E5ECF6",
          "polar": {
           "angularaxis": {
            "gridcolor": "white",
            "linecolor": "white",
            "ticks": ""
           },
           "bgcolor": "#E5ECF6",
           "radialaxis": {
            "gridcolor": "white",
            "linecolor": "white",
            "ticks": ""
           }
          },
          "scene": {
           "xaxis": {
            "backgroundcolor": "#E5ECF6",
            "gridcolor": "white",
            "gridwidth": 2,
            "linecolor": "white",
            "showbackground": true,
            "ticks": "",
            "zerolinecolor": "white"
           },
           "yaxis": {
            "backgroundcolor": "#E5ECF6",
            "gridcolor": "white",
            "gridwidth": 2,
            "linecolor": "white",
            "showbackground": true,
            "ticks": "",
            "zerolinecolor": "white"
           },
           "zaxis": {
            "backgroundcolor": "#E5ECF6",
            "gridcolor": "white",
            "gridwidth": 2,
            "linecolor": "white",
            "showbackground": true,
            "ticks": "",
            "zerolinecolor": "white"
           }
          },
          "shapedefaults": {
           "line": {
            "color": "#2a3f5f"
           }
          },
          "ternary": {
           "aaxis": {
            "gridcolor": "white",
            "linecolor": "white",
            "ticks": ""
           },
           "baxis": {
            "gridcolor": "white",
            "linecolor": "white",
            "ticks": ""
           },
           "bgcolor": "#E5ECF6",
           "caxis": {
            "gridcolor": "white",
            "linecolor": "white",
            "ticks": ""
           }
          },
          "title": {
           "x": 0.05
          },
          "xaxis": {
           "automargin": true,
           "gridcolor": "white",
           "linecolor": "white",
           "ticks": "",
           "title": {
            "standoff": 15
           },
           "zerolinecolor": "white",
           "zerolinewidth": 2
          },
          "yaxis": {
           "automargin": true,
           "gridcolor": "white",
           "linecolor": "white",
           "ticks": "",
           "title": {
            "standoff": 15
           },
           "zerolinecolor": "white",
           "zerolinewidth": 2
          }
         }
        },
        "xaxis": {
         "anchor": "y",
         "domain": [
          0,
          1
         ],
         "title": {
          "text": "index"
         }
        },
        "yaxis": {
         "anchor": "x",
         "domain": [
          0,
          1
         ],
         "title": {
          "text": "f_loss"
         }
        }
       }
      }
     },
     "metadata": {},
     "output_type": "display_data"
    },
    {
     "data": {
      "application/vnd.plotly.v1+json": {
       "config": {
        "plotlyServerURL": "https://plot.ly"
       },
       "data": [
        {
         "hovertemplate": "index=%{x}<br>f_loss=%{y}<extra></extra>",
         "legendgroup": "",
         "marker": {
          "color": "#636efa",
          "symbol": "circle"
         },
         "mode": "markers",
         "name": "",
         "orientation": "v",
         "showlegend": false,
         "type": "scatter",
         "x": [
          0,
          1,
          2,
          3,
          4,
          5,
          6,
          7,
          8,
          9,
          10,
          11,
          12,
          13,
          14,
          15,
          16,
          17,
          18,
          19,
          20,
          21,
          22,
          23,
          24,
          25,
          26,
          27,
          28,
          29,
          30,
          31,
          32,
          33,
          34,
          35,
          36,
          37,
          38,
          39,
          40,
          41,
          42,
          43,
          44,
          45,
          46,
          47,
          48,
          49,
          50,
          51,
          52,
          53,
          54,
          55,
          56,
          57,
          58,
          59,
          60,
          61,
          62,
          63,
          64,
          65,
          66,
          67,
          68,
          69,
          70,
          71,
          72,
          73,
          74,
          75,
          76,
          77,
          78,
          79,
          80,
          81,
          82,
          83,
          84,
          85,
          86,
          87,
          88,
          89,
          90,
          91,
          92,
          93,
          94,
          95,
          96,
          97,
          98,
          99,
          100,
          101,
          102,
          103,
          104,
          105,
          106,
          107,
          108,
          109,
          110,
          111,
          112,
          113,
          114,
          115,
          116,
          117,
          118,
          119,
          120,
          121,
          122,
          123,
          124,
          125,
          126,
          127,
          128,
          129,
          130,
          131,
          132,
          133,
          134,
          135,
          136,
          137,
          138,
          139,
          140,
          141,
          142,
          143,
          144,
          145,
          146,
          147,
          148,
          149,
          150,
          151,
          152,
          153,
          154,
          155,
          156,
          157,
          158,
          159,
          160,
          161,
          162,
          163,
          164,
          165,
          166,
          167,
          168,
          169,
          170,
          171,
          172,
          173,
          174,
          175,
          176,
          177,
          178,
          179,
          180,
          181,
          182,
          183,
          184,
          185,
          186,
          187,
          188,
          189,
          190,
          191,
          192,
          193,
          194,
          195,
          196,
          197,
          198,
          199,
          200,
          201,
          202,
          203,
          204,
          205,
          206,
          207,
          208,
          209,
          210,
          211,
          212,
          213,
          214,
          215,
          216,
          217,
          218,
          219,
          220,
          221,
          222,
          223,
          224,
          225,
          226,
          227,
          228,
          229,
          230,
          231,
          232,
          233,
          234,
          235,
          236,
          237,
          238,
          239,
          240,
          241,
          242,
          243,
          244,
          245,
          246,
          247,
          248,
          249,
          250,
          251,
          252,
          253,
          254,
          255,
          256,
          257,
          258,
          259,
          260,
          261,
          262,
          263,
          264,
          265,
          266,
          267,
          268,
          269,
          270,
          271,
          272,
          273,
          274,
          275,
          276,
          277,
          278,
          279,
          280,
          281,
          282,
          283,
          284,
          285,
          286,
          287,
          288,
          289,
          290,
          291,
          292,
          293,
          294,
          295,
          296,
          297,
          298,
          299,
          300,
          301,
          302,
          303,
          304,
          305,
          306,
          307,
          308,
          309,
          310,
          311,
          312,
          313,
          314,
          315,
          316,
          317,
          318,
          319,
          320,
          321,
          322,
          323,
          324,
          325,
          326,
          327,
          328,
          329,
          330,
          331,
          332,
          333,
          334,
          335,
          336,
          337,
          338,
          339,
          340,
          341,
          342,
          343,
          344,
          345,
          346,
          347,
          348,
          349,
          350,
          351,
          352,
          353,
          354,
          355,
          356,
          357,
          358,
          359,
          360,
          361,
          362,
          363,
          364,
          365,
          366,
          367,
          368,
          369,
          370,
          371,
          372,
          373,
          374,
          375,
          376,
          377,
          378,
          379,
          380,
          381,
          382,
          383,
          384,
          385,
          386,
          387,
          388,
          389,
          390,
          391,
          392,
          393,
          394,
          395,
          396,
          397,
          398,
          399,
          400,
          401,
          402,
          403,
          404,
          405,
          406,
          407,
          408,
          409,
          410,
          411,
          412,
          413,
          414,
          415,
          416,
          417,
          418,
          419,
          420,
          421,
          422,
          423,
          424,
          425,
          426,
          427,
          428,
          429,
          430,
          431,
          432,
          433,
          434,
          435,
          436,
          437,
          438,
          439,
          440,
          441,
          442,
          443,
          444,
          445,
          446,
          447,
          448,
          449,
          450,
          451,
          452,
          453,
          454,
          455,
          456,
          457,
          458,
          459,
          460,
          461,
          462,
          463,
          464,
          465,
          466,
          467,
          468,
          469,
          470,
          471,
          472,
          473,
          474,
          475,
          476,
          477,
          478,
          479,
          480,
          481,
          482,
          483,
          484,
          485,
          486,
          487,
          488,
          489,
          490,
          491,
          492,
          493,
          494,
          495,
          496,
          497,
          498,
          499
         ],
         "xaxis": "x",
         "y": [
          0.044599518179893494,
          0.044601719826459885,
          0.044620901346206665,
          0.044464245438575745,
          0.044305384159088135,
          0.0442076101899147,
          0.044228676706552505,
          0.04404669627547264,
          0.04399624094367027,
          0.043945979326963425,
          0.043832167983055115,
          0.043625056743621826,
          0.043576013296842575,
          0.04345935583114624,
          0.04305601865053177,
          0.04171483963727951,
          0.040651511400938034,
          0.03797726705670357,
          0.03603431209921837,
          0.03125996142625809,
          0.02651534043252468,
          0.024111131206154823,
          0.027415815740823746,
          0.020986203104257584,
          6.487437076430069e-8,
          2.4148226884790347e-7,
          2.765843873930862e-7,
          0,
          0,
          0,
          0,
          0,
          0,
          0,
          0.06233670189976692,
          0.03500669077038765,
          0,
          0,
          0,
          0,
          1.3807853349590005e-7,
          2.176126088215824e-7,
          0.019050011411309242,
          1.816025729795001e-7,
          1.0252689719436603e-7,
          1.9197706535578618e-7,
          0.03159721568226814,
          0.042447157204151154,
          0.0465608611702919,
          0.04731050133705139,
          0.046858128160238266,
          0.046080779284238815,
          0.045454058796167374,
          0.044836997985839844,
          0.04428316652774811,
          0.043883856385946274,
          2.205060098958711e-7,
          1.2164353790922178e-7,
          9.497200181840526e-8,
          1.7254581052839058e-7,
          2.8084775749448454e-7,
          0.04363446310162544,
          0.043269090354442596,
          0.04241149127483368,
          0.04106733575463295,
          0.04016364738345146,
          0.03921409696340561,
          0.03747260570526123,
          2.704211397031031e-7,
          2.048257528031172e-7,
          1.2461262599572365e-7,
          9.306693726784943e-8,
          8.483316094043403e-8,
          7.00153179877816e-8,
          6.256927775893928e-8,
          5.909241096446749e-8,
          5.391001067778234e-8,
          3.4808724791446366e-8,
          2.724099523732093e-8,
          1.356133783048108e-8,
          2.4952816701784286e-8,
          2.4953234145641545e-8,
          4.6975095813195367e-8,
          6.076298575408146e-8,
          1.302094148059041e-7,
          7.67084529229578e-8,
          4.3939547111904176e-8,
          3.4892043032641595e-8,
          1.9401484863124097e-8,
          1.2057727261094442e-8,
          2.681497157652757e-8,
          3.0591436939175765e-8,
          3.326740127818084e-8,
          2.354004458027248e-8,
          3.262481129695516e-8,
          8.133523010656063e-8,
          1.2180110786630394e-7,
          1.6405991232204542e-7,
          1.4902694545071427e-7,
          1.5004358999703982e-7,
          1.4306165496691392e-7,
          1.2990689413072687e-7,
          1.1355586337913337e-7,
          1.0080871248874246e-7,
          8.505563897642787e-8,
          6.552455289465797e-8,
          4.990350177536129e-8,
          6.842532229711651e-8,
          6.824328124821477e-8,
          7.119444234149341e-8,
          7.44309431865986e-8,
          7.128413415102841e-8,
          7.096833343211983e-8,
          6.79459475350086e-8,
          6.854769196706911e-8,
          6.823567844094214e-8,
          6.391512386016984e-8,
          6.229996074580413e-8,
          3.5706605672203295e-8,
          4.647586138162296e-8,
          5.8655029278043e-8,
          5.143810000163285e-8,
          4.125185881775906e-8,
          1.7455096923413294e-8,
          2.8737337842699162e-8,
          4.5622520872257155e-8,
          7.810857027834572e-8,
          6.333839763783544e-8,
          1.9180534138740768e-7,
          1.8298985082765284e-7,
          1.5153885613017337e-7,
          1.1520501885797785e-7,
          6.683974618226785e-8,
          7.7861336933438e-8,
          8.046716715170987e-8,
          5.7676611930901345e-8,
          4.615359827653265e-8,
          3.012969784776942e-8,
          9.145909724006529e-11,
          5.98534626305991e-8,
          5.038632266973764e-8,
          6.308874134219877e-8,
          6.337008784385034e-8,
          6.605437619100485e-8,
          7.399893320325646e-8,
          8.432210307773857e-8,
          8.961236375171211e-8,
          8.817936958394057e-8,
          8.479588586851605e-8,
          7.339239260772956e-8,
          6.698299159779708e-8,
          6.561419496620147e-8,
          6.380170702868782e-8,
          6.274743213907641e-8,
          6.10841368597903e-8,
          5.836445993168127e-8,
          5.4645500568994976e-8,
          5.078127074398253e-8,
          4.769191264131223e-8,
          4.134567888058882e-8,
          5.210405262801032e-8,
          2.9951824132012916e-8,
          2.782515773347427e-9,
          3.9253457373433776e-8,
          3.402618986569905e-8,
          5.3065218885706145e-9,
          0,
          0,
          0,
          0,
          0,
          0,
          0,
          0,
          7.211065522483295e-9,
          9.063579398116417e-8,
          2.0153199997707816e-8,
          4.686469878834032e-9,
          4.037758571939776e-9,
          4.927707131230363e-10,
          1.2733587517743672e-9,
          1.5119516305617253e-8,
          2.1533477223556474e-8,
          2.9023029313179904e-8,
          3.3793149611938134e-8,
          3.696454342616562e-8,
          3.9226538461889504e-8,
          3.946426829770644e-8,
          3.929123337798046e-8,
          3.8041299887936475e-8,
          3.595772568587563e-8,
          3.328361231069721e-8,
          3.0340125078964775e-8,
          2.6038572187303544e-8,
          2.1630349067436327e-8,
          1.2739259425131877e-8,
          1.0400366790008775e-8,
          4.353001070711571e-9,
          6.346893233200035e-9,
          8.583165289621775e-9,
          1.2172311159019955e-8,
          2.483018057830577e-8,
          6.411319031229823e-9,
          7.335315022061195e-9,
          0,
          0,
          0,
          0,
          0,
          0,
          0,
          0,
          0,
          1.4886539778657948e-9,
          6.831860632772191e-10,
          2.4197788217605876e-9,
          1.9257728745003533e-9,
          6.349524017679187e-9,
          5.723395091195016e-9,
          7.654398004319773e-9,
          6.119177609065218e-9,
          5.673168157471764e-9,
          4.3324583920423265e-9,
          3.0306983589412084e-9,
          1.9451373844958653e-9,
          9.311691417934753e-10,
          5.074116127268269e-10,
          1.1296087398804389e-9,
          1.1061871418860392e-9,
          9.266213907288545e-10,
          1.8207721441676483e-10,
          2.511664876081454e-9,
          7.196996332226036e-10,
          6.403303998148147e-10,
          2.4069155002415243e-10,
          2.09276679319359e-10,
          3.487040864391666e-11,
          6.062029767051058e-10,
          2.770839668819747e-10,
          0,
          5.06982678061263e-9,
          0,
          4.259792518723771e-9,
          4.1151904106584425e-10,
          1.054721532334213e-9,
          5.139366154871539e-10,
          6.387806394947404e-10,
          2.8826735443132634e-10,
          9.611116156410526e-13,
          8.534808415561201e-10,
          1.9640294945943992e-10,
          8.519787653149535e-10,
          1.1649927689205697e-9,
          2.0263661582031745e-10,
          3.2153976703419573e-10,
          5.899887245419677e-10,
          3.6214014426105834e-11,
          6.127292423441233e-11,
          4.5047812702314616e-11,
          1.0634139402387888e-10,
          1.5452426838091782e-10,
          1.8693489811649755e-10,
          3.565056236332076e-11,
          4.787417684504192e-10,
          1.0131689324316406e-12,
          8.143375557212451e-11,
          2.168552143411162e-11,
          4.466503833455704e-10,
          1.1204801531050634e-9,
          6.343960912147395e-10,
          6.445990963221959e-11,
          1.3217171281054707e-11,
          1.4151175890819712e-11,
          3.487233288593239e-12,
          0,
          0,
          0,
          0,
          0,
          0,
          3.9746447799693385e-10,
          3.779559776262431e-9,
          2.0399861799802466e-9,
          6.664793716915085e-12,
          2.786709474289495e-10,
          2.5793861838097065e-11,
          8.92624862913749e-12,
          3.111035734582046e-11,
          0,
          0,
          0,
          0,
          0,
          0,
          0,
          9.352678631557865e-10,
          1.2718641417830412e-10,
          1.2491632728206525e-10,
          1.637544787269629e-11,
          4.600715424948887e-13,
          6.350176495750759e-10,
          7.48511322368195e-11,
          2.801471207791728e-11,
          7.319236328129364e-9,
          0,
          0,
          0,
          0,
          0,
          0,
          0,
          0,
          0,
          0,
          0,
          0,
          0,
          0,
          0,
          0,
          0,
          0,
          0,
          0,
          0,
          0,
          0,
          0,
          0,
          0,
          0,
          0,
          0,
          0,
          0,
          0,
          0,
          0,
          0,
          0,
          0,
          0,
          0,
          0,
          0,
          0,
          0,
          0,
          0,
          0,
          0,
          0,
          0,
          0,
          0,
          0,
          0,
          0,
          0,
          0,
          0,
          0,
          0,
          0,
          0,
          0,
          0,
          0,
          0,
          0,
          0,
          0,
          0,
          0,
          0,
          0,
          0,
          0,
          0,
          0,
          0,
          0,
          0,
          0,
          0,
          0,
          0,
          0,
          0,
          0,
          0,
          0,
          0,
          0,
          0,
          0,
          0,
          0,
          0,
          0,
          0,
          0,
          0,
          0,
          0,
          0,
          0,
          0,
          0,
          0,
          0,
          0,
          0,
          0,
          0,
          0,
          0,
          0,
          0,
          0,
          0,
          0,
          0,
          0,
          0,
          0,
          0,
          0,
          0,
          0,
          0,
          0,
          0,
          0,
          0,
          0,
          0,
          0,
          0,
          0,
          0,
          0,
          0,
          0,
          0,
          0,
          0,
          0,
          0,
          0,
          0,
          0,
          0,
          0,
          0,
          0,
          0,
          0,
          0,
          0,
          0,
          0,
          0,
          0,
          0,
          0,
          0,
          0,
          0,
          0,
          0,
          0,
          0,
          0,
          0,
          0,
          0,
          0,
          0,
          0,
          0,
          0,
          0,
          0,
          0,
          0,
          0,
          0,
          0,
          0,
          0,
          0,
          0,
          0,
          0,
          0,
          0,
          0,
          0,
          0
         ],
         "yaxis": "y"
        }
       ],
       "layout": {
        "legend": {
         "tracegroupgap": 0
        },
        "margin": {
         "t": 60
        },
        "template": {
         "data": {
          "bar": [
           {
            "error_x": {
             "color": "#2a3f5f"
            },
            "error_y": {
             "color": "#2a3f5f"
            },
            "marker": {
             "line": {
              "color": "#E5ECF6",
              "width": 0.5
             },
             "pattern": {
              "fillmode": "overlay",
              "size": 10,
              "solidity": 0.2
             }
            },
            "type": "bar"
           }
          ],
          "barpolar": [
           {
            "marker": {
             "line": {
              "color": "#E5ECF6",
              "width": 0.5
             },
             "pattern": {
              "fillmode": "overlay",
              "size": 10,
              "solidity": 0.2
             }
            },
            "type": "barpolar"
           }
          ],
          "carpet": [
           {
            "aaxis": {
             "endlinecolor": "#2a3f5f",
             "gridcolor": "white",
             "linecolor": "white",
             "minorgridcolor": "white",
             "startlinecolor": "#2a3f5f"
            },
            "baxis": {
             "endlinecolor": "#2a3f5f",
             "gridcolor": "white",
             "linecolor": "white",
             "minorgridcolor": "white",
             "startlinecolor": "#2a3f5f"
            },
            "type": "carpet"
           }
          ],
          "choropleth": [
           {
            "colorbar": {
             "outlinewidth": 0,
             "ticks": ""
            },
            "type": "choropleth"
           }
          ],
          "contour": [
           {
            "colorbar": {
             "outlinewidth": 0,
             "ticks": ""
            },
            "colorscale": [
             [
              0,
              "#0d0887"
             ],
             [
              0.1111111111111111,
              "#46039f"
             ],
             [
              0.2222222222222222,
              "#7201a8"
             ],
             [
              0.3333333333333333,
              "#9c179e"
             ],
             [
              0.4444444444444444,
              "#bd3786"
             ],
             [
              0.5555555555555556,
              "#d8576b"
             ],
             [
              0.6666666666666666,
              "#ed7953"
             ],
             [
              0.7777777777777778,
              "#fb9f3a"
             ],
             [
              0.8888888888888888,
              "#fdca26"
             ],
             [
              1,
              "#f0f921"
             ]
            ],
            "type": "contour"
           }
          ],
          "contourcarpet": [
           {
            "colorbar": {
             "outlinewidth": 0,
             "ticks": ""
            },
            "type": "contourcarpet"
           }
          ],
          "heatmap": [
           {
            "colorbar": {
             "outlinewidth": 0,
             "ticks": ""
            },
            "colorscale": [
             [
              0,
              "#0d0887"
             ],
             [
              0.1111111111111111,
              "#46039f"
             ],
             [
              0.2222222222222222,
              "#7201a8"
             ],
             [
              0.3333333333333333,
              "#9c179e"
             ],
             [
              0.4444444444444444,
              "#bd3786"
             ],
             [
              0.5555555555555556,
              "#d8576b"
             ],
             [
              0.6666666666666666,
              "#ed7953"
             ],
             [
              0.7777777777777778,
              "#fb9f3a"
             ],
             [
              0.8888888888888888,
              "#fdca26"
             ],
             [
              1,
              "#f0f921"
             ]
            ],
            "type": "heatmap"
           }
          ],
          "heatmapgl": [
           {
            "colorbar": {
             "outlinewidth": 0,
             "ticks": ""
            },
            "colorscale": [
             [
              0,
              "#0d0887"
             ],
             [
              0.1111111111111111,
              "#46039f"
             ],
             [
              0.2222222222222222,
              "#7201a8"
             ],
             [
              0.3333333333333333,
              "#9c179e"
             ],
             [
              0.4444444444444444,
              "#bd3786"
             ],
             [
              0.5555555555555556,
              "#d8576b"
             ],
             [
              0.6666666666666666,
              "#ed7953"
             ],
             [
              0.7777777777777778,
              "#fb9f3a"
             ],
             [
              0.8888888888888888,
              "#fdca26"
             ],
             [
              1,
              "#f0f921"
             ]
            ],
            "type": "heatmapgl"
           }
          ],
          "histogram": [
           {
            "marker": {
             "pattern": {
              "fillmode": "overlay",
              "size": 10,
              "solidity": 0.2
             }
            },
            "type": "histogram"
           }
          ],
          "histogram2d": [
           {
            "colorbar": {
             "outlinewidth": 0,
             "ticks": ""
            },
            "colorscale": [
             [
              0,
              "#0d0887"
             ],
             [
              0.1111111111111111,
              "#46039f"
             ],
             [
              0.2222222222222222,
              "#7201a8"
             ],
             [
              0.3333333333333333,
              "#9c179e"
             ],
             [
              0.4444444444444444,
              "#bd3786"
             ],
             [
              0.5555555555555556,
              "#d8576b"
             ],
             [
              0.6666666666666666,
              "#ed7953"
             ],
             [
              0.7777777777777778,
              "#fb9f3a"
             ],
             [
              0.8888888888888888,
              "#fdca26"
             ],
             [
              1,
              "#f0f921"
             ]
            ],
            "type": "histogram2d"
           }
          ],
          "histogram2dcontour": [
           {
            "colorbar": {
             "outlinewidth": 0,
             "ticks": ""
            },
            "colorscale": [
             [
              0,
              "#0d0887"
             ],
             [
              0.1111111111111111,
              "#46039f"
             ],
             [
              0.2222222222222222,
              "#7201a8"
             ],
             [
              0.3333333333333333,
              "#9c179e"
             ],
             [
              0.4444444444444444,
              "#bd3786"
             ],
             [
              0.5555555555555556,
              "#d8576b"
             ],
             [
              0.6666666666666666,
              "#ed7953"
             ],
             [
              0.7777777777777778,
              "#fb9f3a"
             ],
             [
              0.8888888888888888,
              "#fdca26"
             ],
             [
              1,
              "#f0f921"
             ]
            ],
            "type": "histogram2dcontour"
           }
          ],
          "mesh3d": [
           {
            "colorbar": {
             "outlinewidth": 0,
             "ticks": ""
            },
            "type": "mesh3d"
           }
          ],
          "parcoords": [
           {
            "line": {
             "colorbar": {
              "outlinewidth": 0,
              "ticks": ""
             }
            },
            "type": "parcoords"
           }
          ],
          "pie": [
           {
            "automargin": true,
            "type": "pie"
           }
          ],
          "scatter": [
           {
            "fillpattern": {
             "fillmode": "overlay",
             "size": 10,
             "solidity": 0.2
            },
            "type": "scatter"
           }
          ],
          "scatter3d": [
           {
            "line": {
             "colorbar": {
              "outlinewidth": 0,
              "ticks": ""
             }
            },
            "marker": {
             "colorbar": {
              "outlinewidth": 0,
              "ticks": ""
             }
            },
            "type": "scatter3d"
           }
          ],
          "scattercarpet": [
           {
            "marker": {
             "colorbar": {
              "outlinewidth": 0,
              "ticks": ""
             }
            },
            "type": "scattercarpet"
           }
          ],
          "scattergeo": [
           {
            "marker": {
             "colorbar": {
              "outlinewidth": 0,
              "ticks": ""
             }
            },
            "type": "scattergeo"
           }
          ],
          "scattergl": [
           {
            "marker": {
             "colorbar": {
              "outlinewidth": 0,
              "ticks": ""
             }
            },
            "type": "scattergl"
           }
          ],
          "scattermapbox": [
           {
            "marker": {
             "colorbar": {
              "outlinewidth": 0,
              "ticks": ""
             }
            },
            "type": "scattermapbox"
           }
          ],
          "scatterpolar": [
           {
            "marker": {
             "colorbar": {
              "outlinewidth": 0,
              "ticks": ""
             }
            },
            "type": "scatterpolar"
           }
          ],
          "scatterpolargl": [
           {
            "marker": {
             "colorbar": {
              "outlinewidth": 0,
              "ticks": ""
             }
            },
            "type": "scatterpolargl"
           }
          ],
          "scatterternary": [
           {
            "marker": {
             "colorbar": {
              "outlinewidth": 0,
              "ticks": ""
             }
            },
            "type": "scatterternary"
           }
          ],
          "surface": [
           {
            "colorbar": {
             "outlinewidth": 0,
             "ticks": ""
            },
            "colorscale": [
             [
              0,
              "#0d0887"
             ],
             [
              0.1111111111111111,
              "#46039f"
             ],
             [
              0.2222222222222222,
              "#7201a8"
             ],
             [
              0.3333333333333333,
              "#9c179e"
             ],
             [
              0.4444444444444444,
              "#bd3786"
             ],
             [
              0.5555555555555556,
              "#d8576b"
             ],
             [
              0.6666666666666666,
              "#ed7953"
             ],
             [
              0.7777777777777778,
              "#fb9f3a"
             ],
             [
              0.8888888888888888,
              "#fdca26"
             ],
             [
              1,
              "#f0f921"
             ]
            ],
            "type": "surface"
           }
          ],
          "table": [
           {
            "cells": {
             "fill": {
              "color": "#EBF0F8"
             },
             "line": {
              "color": "white"
             }
            },
            "header": {
             "fill": {
              "color": "#C8D4E3"
             },
             "line": {
              "color": "white"
             }
            },
            "type": "table"
           }
          ]
         },
         "layout": {
          "annotationdefaults": {
           "arrowcolor": "#2a3f5f",
           "arrowhead": 0,
           "arrowwidth": 1
          },
          "autotypenumbers": "strict",
          "coloraxis": {
           "colorbar": {
            "outlinewidth": 0,
            "ticks": ""
           }
          },
          "colorscale": {
           "diverging": [
            [
             0,
             "#8e0152"
            ],
            [
             0.1,
             "#c51b7d"
            ],
            [
             0.2,
             "#de77ae"
            ],
            [
             0.3,
             "#f1b6da"
            ],
            [
             0.4,
             "#fde0ef"
            ],
            [
             0.5,
             "#f7f7f7"
            ],
            [
             0.6,
             "#e6f5d0"
            ],
            [
             0.7,
             "#b8e186"
            ],
            [
             0.8,
             "#7fbc41"
            ],
            [
             0.9,
             "#4d9221"
            ],
            [
             1,
             "#276419"
            ]
           ],
           "sequential": [
            [
             0,
             "#0d0887"
            ],
            [
             0.1111111111111111,
             "#46039f"
            ],
            [
             0.2222222222222222,
             "#7201a8"
            ],
            [
             0.3333333333333333,
             "#9c179e"
            ],
            [
             0.4444444444444444,
             "#bd3786"
            ],
            [
             0.5555555555555556,
             "#d8576b"
            ],
            [
             0.6666666666666666,
             "#ed7953"
            ],
            [
             0.7777777777777778,
             "#fb9f3a"
            ],
            [
             0.8888888888888888,
             "#fdca26"
            ],
            [
             1,
             "#f0f921"
            ]
           ],
           "sequentialminus": [
            [
             0,
             "#0d0887"
            ],
            [
             0.1111111111111111,
             "#46039f"
            ],
            [
             0.2222222222222222,
             "#7201a8"
            ],
            [
             0.3333333333333333,
             "#9c179e"
            ],
            [
             0.4444444444444444,
             "#bd3786"
            ],
            [
             0.5555555555555556,
             "#d8576b"
            ],
            [
             0.6666666666666666,
             "#ed7953"
            ],
            [
             0.7777777777777778,
             "#fb9f3a"
            ],
            [
             0.8888888888888888,
             "#fdca26"
            ],
            [
             1,
             "#f0f921"
            ]
           ]
          },
          "colorway": [
           "#636efa",
           "#EF553B",
           "#00cc96",
           "#ab63fa",
           "#FFA15A",
           "#19d3f3",
           "#FF6692",
           "#B6E880",
           "#FF97FF",
           "#FECB52"
          ],
          "font": {
           "color": "#2a3f5f"
          },
          "geo": {
           "bgcolor": "white",
           "lakecolor": "white",
           "landcolor": "#E5ECF6",
           "showlakes": true,
           "showland": true,
           "subunitcolor": "white"
          },
          "hoverlabel": {
           "align": "left"
          },
          "hovermode": "closest",
          "mapbox": {
           "style": "light"
          },
          "paper_bgcolor": "white",
          "plot_bgcolor": "#E5ECF6",
          "polar": {
           "angularaxis": {
            "gridcolor": "white",
            "linecolor": "white",
            "ticks": ""
           },
           "bgcolor": "#E5ECF6",
           "radialaxis": {
            "gridcolor": "white",
            "linecolor": "white",
            "ticks": ""
           }
          },
          "scene": {
           "xaxis": {
            "backgroundcolor": "#E5ECF6",
            "gridcolor": "white",
            "gridwidth": 2,
            "linecolor": "white",
            "showbackground": true,
            "ticks": "",
            "zerolinecolor": "white"
           },
           "yaxis": {
            "backgroundcolor": "#E5ECF6",
            "gridcolor": "white",
            "gridwidth": 2,
            "linecolor": "white",
            "showbackground": true,
            "ticks": "",
            "zerolinecolor": "white"
           },
           "zaxis": {
            "backgroundcolor": "#E5ECF6",
            "gridcolor": "white",
            "gridwidth": 2,
            "linecolor": "white",
            "showbackground": true,
            "ticks": "",
            "zerolinecolor": "white"
           }
          },
          "shapedefaults": {
           "line": {
            "color": "#2a3f5f"
           }
          },
          "ternary": {
           "aaxis": {
            "gridcolor": "white",
            "linecolor": "white",
            "ticks": ""
           },
           "baxis": {
            "gridcolor": "white",
            "linecolor": "white",
            "ticks": ""
           },
           "bgcolor": "#E5ECF6",
           "caxis": {
            "gridcolor": "white",
            "linecolor": "white",
            "ticks": ""
           }
          },
          "title": {
           "x": 0.05
          },
          "xaxis": {
           "automargin": true,
           "gridcolor": "white",
           "linecolor": "white",
           "ticks": "",
           "title": {
            "standoff": 15
           },
           "zerolinecolor": "white",
           "zerolinewidth": 2
          },
          "yaxis": {
           "automargin": true,
           "gridcolor": "white",
           "linecolor": "white",
           "ticks": "",
           "title": {
            "standoff": 15
           },
           "zerolinecolor": "white",
           "zerolinewidth": 2
          }
         }
        },
        "xaxis": {
         "anchor": "y",
         "domain": [
          0,
          1
         ],
         "title": {
          "text": "index"
         }
        },
        "yaxis": {
         "anchor": "x",
         "domain": [
          0,
          1
         ],
         "title": {
          "text": "f_loss"
         }
        }
       }
      }
     },
     "metadata": {},
     "output_type": "display_data"
    }
   ],
   "source": [
    "for ei_model in results['ei_model']:\n",
    "    px.scatter(vars(ei_model.train_history), y='f_loss').show()"
   ]
  },
  {
   "cell_type": "code",
   "execution_count": 24,
   "metadata": {},
   "outputs": [
    {
     "data": {
      "application/vnd.plotly.v1+json": {
       "config": {
        "plotlyServerURL": "https://plot.ly"
       },
       "data": [
        {
         "hovertemplate": "index=%{x}<br>p_loss=%{y}<extra></extra>",
         "legendgroup": "",
         "marker": {
          "color": "#636efa",
          "symbol": "circle"
         },
         "mode": "markers",
         "name": "",
         "orientation": "v",
         "showlegend": false,
         "type": "scatter",
         "x": [
          0,
          1,
          2,
          3,
          4,
          5,
          6,
          7,
          8,
          9,
          10,
          11,
          12,
          13,
          14,
          15,
          16,
          17,
          18,
          19,
          20,
          21,
          22,
          23,
          24,
          25,
          26,
          27,
          28,
          29,
          30,
          31,
          32,
          33,
          34,
          35,
          36,
          37,
          38,
          39,
          40,
          41,
          42,
          43,
          44,
          45,
          46,
          47,
          48,
          49,
          50,
          51,
          52,
          53,
          54,
          55,
          56,
          57,
          58,
          59,
          60,
          61,
          62,
          63,
          64,
          65,
          66,
          67,
          68,
          69,
          70,
          71,
          72,
          73,
          74,
          75,
          76,
          77,
          78,
          79,
          80,
          81,
          82,
          83,
          84,
          85,
          86,
          87,
          88,
          89,
          90,
          91,
          92,
          93,
          94,
          95,
          96,
          97,
          98,
          99,
          100,
          101,
          102,
          103,
          104,
          105,
          106,
          107,
          108,
          109,
          110,
          111,
          112,
          113,
          114,
          115,
          116,
          117,
          118,
          119,
          120,
          121,
          122,
          123,
          124,
          125,
          126,
          127,
          128,
          129,
          130,
          131,
          132,
          133,
          134,
          135,
          136,
          137,
          138,
          139,
          140,
          141,
          142,
          143,
          144,
          145,
          146,
          147,
          148,
          149,
          150,
          151,
          152,
          153,
          154,
          155,
          156,
          157,
          158,
          159,
          160,
          161,
          162,
          163,
          164,
          165,
          166,
          167,
          168,
          169,
          170,
          171,
          172,
          173,
          174,
          175,
          176,
          177,
          178,
          179,
          180,
          181,
          182,
          183,
          184,
          185,
          186,
          187,
          188,
          189,
          190,
          191,
          192,
          193,
          194,
          195,
          196,
          197,
          198,
          199,
          200,
          201,
          202,
          203,
          204,
          205,
          206,
          207,
          208,
          209,
          210,
          211,
          212,
          213,
          214,
          215,
          216,
          217,
          218,
          219,
          220,
          221,
          222,
          223,
          224,
          225,
          226,
          227,
          228,
          229,
          230,
          231,
          232,
          233,
          234,
          235,
          236,
          237,
          238,
          239,
          240,
          241,
          242,
          243,
          244,
          245,
          246,
          247,
          248,
          249,
          250,
          251,
          252,
          253,
          254,
          255,
          256,
          257,
          258,
          259,
          260,
          261,
          262,
          263,
          264,
          265,
          266,
          267,
          268,
          269,
          270,
          271,
          272,
          273,
          274,
          275,
          276,
          277,
          278,
          279,
          280,
          281,
          282,
          283,
          284,
          285,
          286,
          287,
          288,
          289,
          290,
          291,
          292,
          293,
          294,
          295,
          296,
          297,
          298,
          299,
          300,
          301,
          302,
          303,
          304,
          305,
          306,
          307,
          308,
          309,
          310,
          311,
          312,
          313,
          314,
          315,
          316,
          317,
          318,
          319,
          320,
          321,
          322,
          323,
          324,
          325,
          326,
          327,
          328,
          329,
          330,
          331,
          332,
          333,
          334,
          335,
          336,
          337,
          338,
          339,
          340,
          341,
          342,
          343,
          344,
          345,
          346,
          347,
          348,
          349,
          350,
          351,
          352,
          353,
          354,
          355,
          356,
          357,
          358,
          359,
          360,
          361,
          362,
          363,
          364,
          365,
          366,
          367,
          368,
          369,
          370,
          371,
          372,
          373,
          374,
          375,
          376,
          377,
          378,
          379,
          380,
          381,
          382,
          383,
          384,
          385,
          386,
          387,
          388,
          389,
          390,
          391,
          392,
          393,
          394,
          395,
          396,
          397,
          398,
          399,
          400,
          401,
          402,
          403,
          404,
          405,
          406,
          407,
          408,
          409,
          410,
          411,
          412,
          413,
          414,
          415,
          416,
          417,
          418,
          419,
          420,
          421,
          422,
          423,
          424,
          425,
          426,
          427,
          428,
          429,
          430,
          431,
          432,
          433,
          434,
          435,
          436,
          437,
          438,
          439,
          440,
          441,
          442,
          443,
          444,
          445,
          446,
          447,
          448,
          449,
          450,
          451,
          452,
          453,
          454,
          455,
          456,
          457,
          458,
          459,
          460,
          461,
          462,
          463,
          464,
          465,
          466,
          467,
          468,
          469,
          470,
          471,
          472,
          473,
          474,
          475,
          476,
          477,
          478,
          479,
          480,
          481,
          482,
          483,
          484,
          485,
          486,
          487,
          488,
          489,
          490,
          491,
          492,
          493,
          494,
          495,
          496,
          497,
          498,
          499
         ],
         "xaxis": "x",
         "y": [
          1.153491735458374,
          1.0198920965194702,
          0.9042420387268066,
          0.8085648417472839,
          0.7339324355125427,
          0.6800805330276489,
          0.6452648043632507,
          0.6264573335647583,
          0.6198462247848511,
          0.6214603185653687,
          0.6277016401290894,
          0.6356688141822815,
          0.6432663798332214,
          0.6491165161132812,
          0.6524680852890015,
          0.6530550718307495,
          0.6509345173835754,
          0.6463972330093384,
          0.6398888826370239,
          0.6319605112075806,
          0.623192548751831,
          0.6141669154167175,
          0.6054245829582214,
          0.5974358320236206,
          0.5905669927597046,
          0.5850515961647034,
          0.5809745788574219,
          0.5782709121704102,
          0.5767371654510498,
          0.576061487197876,
          0.5758715271949768,
          0.5757904052734375,
          0.5754876136779785,
          0.574720025062561,
          0.5733558535575867,
          0.5713772773742676,
          0.5688650608062744,
          0.5659708976745605,
          0.5628832578659058,
          0.5597928762435913,
          0.5568631291389465,
          0.5542110204696655,
          0.5518990755081177,
          0.5499347448348999,
          0.548279881477356,
          0.5468644499778748,
          0.5456027984619141,
          0.5444082617759705,
          0.5432053804397583,
          0.5419386625289917,
          0.5405766367912292,
          0.5391122698783875,
          0.5375603437423706,
          0.5359504222869873,
          0.5343207120895386,
          0.5327111482620239,
          0.531157374382019,
          0.5296851396560669,
          0.5283084511756897,
          0.5270280838012695,
          0.5258336663246155,
          0.5247063636779785,
          0.5236243009567261,
          0.5225655436515808,
          0.5215125679969788,
          0.5204533934593201,
          0.5193835496902466,
          0.5183047652244568,
          0.5172242522239685,
          0.5161522626876831,
          0.5150989294052124,
          0.5140732526779175,
          0.5130807757377625,
          0.5121238827705383,
          0.5112015604972839,
          0.5103099346160889,
          0.509443461894989,
          0.5085961222648621,
          0.5077627897262573,
          0.5069395303726196,
          0.5061242580413818,
          0.5053166151046753,
          0.5045181512832642,
          0.5037307143211365,
          0.502956748008728,
          0.5021983981132507,
          0.5014570355415344,
          0.5007331371307373,
          0.5000264048576355,
          0.49933576583862305,
          0.49865975975990295,
          0.4979967176914215,
          0.4973451495170593,
          0.49670395255088806,
          0.49607235193252563,
          0.495449960231781,
          0.4948369562625885,
          0.49423351883888245,
          0.4936401844024658,
          0.49305734038352966,
          0.4924851953983307,
          0.49192363023757935,
          0.491372674703598,
          0.49083155393600464,
          0.49029988050460815,
          0.4897768497467041,
          0.48926201462745667,
          0.48875492811203003,
          0.4882553517818451,
          0.48776307702064514,
          0.48727813363075256,
          0.48680058121681213,
          0.4863305687904358,
          0.48586803674697876,
          0.4854127764701843,
          0.48496490716934204,
          0.4845240116119385,
          0.4840899407863617,
          0.48366260528564453,
          0.48324161767959595,
          0.48282676935195923,
          0.48241788148880005,
          0.4820149540901184,
          0.48161792755126953,
          0.48122653365135193,
          0.48084086179733276,
          0.4804607927799225,
          0.48008614778518677,
          0.479716956615448,
          0.4793529510498047,
          0.478994220495224,
          0.47864046692848206,
          0.4782915711402893,
          0.477947473526001,
          0.4776081144809723,
          0.4772733151912689,
          0.4769429564476013,
          0.4766170084476471,
          0.4762952923774719,
          0.4759778082370758,
          0.4756644666194916,
          0.4753552973270416,
          0.4750502109527588,
          0.4747490882873535,
          0.47445178031921387,
          0.474158376455307,
          0.47386854887008667,
          0.47358259558677673,
          0.47330012917518616,
          0.47302117943763733,
          0.47274571657180786,
          0.4724736213684082,
          0.47220486402511597,
          0.4719393849372864,
          0.4716770648956299,
          0.4714179039001465,
          0.4711619019508362,
          0.4709088206291199,
          0.4706588685512543,
          0.47041183710098267,
          0.47016778588294983,
          0.4699265956878662,
          0.4696883261203766,
          0.46945279836654663,
          0.4692201614379883,
          0.4689902663230896,
          0.46876317262649536,
          0.4685385823249817,
          0.4683166444301605,
          0.46809735894203186,
          0.46788057684898376,
          0.4676664471626282,
          0.467454731464386,
          0.467245489358902,
          0.46703872084617615,
          0.46683424711227417,
          0.4666321277618408,
          0.4664323329925537,
          0.4662347733974457,
          0.46603941917419434,
          0.46584635972976685,
          0.46565547585487366,
          0.4654666483402252,
          0.46528005599975586,
          0.46509552001953125,
          0.4649130702018738,
          0.46473270654678345,
          0.4645543694496155,
          0.4643779695034027,
          0.46420353651046753,
          0.4640311598777771,
          0.4638606607913971,
          0.4636920392513275,
          0.46352535486221313,
          0.4633605480194092,
          0.46319764852523804,
          0.4630364775657654,
          0.46287697553634644,
          0.46271926164627075,
          0.46256303787231445,
          0.46240848302841187,
          0.4622555375099182,
          0.46210408210754395,
          0.46195417642593384,
          0.46180567145347595,
          0.461658775806427,
          0.4615132808685303,
          0.4613693356513977,
          0.46122679114341736,
          0.46108579635620117,
          0.4609461724758148,
          0.4608079493045807,
          0.4606710374355316,
          0.46053561568260193,
          0.4604014754295349,
          0.4602688252925873,
          0.4601374566555023,
          0.4600074887275696,
          0.4598788321018219,
          0.45975154638290405,
          0.45962557196617126,
          0.45950087904930115,
          0.45937761664390564,
          0.4592556059360504,
          0.4591347575187683,
          0.45901522040367126,
          0.4588968753814697,
          0.4587797522544861,
          0.4586638808250427,
          0.4585492014884949,
          0.45843571424484253,
          0.45832347869873047,
          0.45821231603622437,
          0.4581024646759033,
          0.45799383521080017,
          0.45788639783859253,
          0.457780122756958,
          0.457675039768219,
          0.4575711190700531,
          0.45746833086013794,
          0.45736655592918396,
          0.4572659134864807,
          0.4571661949157715,
          0.4570676386356354,
          0.45697006583213806,
          0.4568735957145691,
          0.4567781388759613,
          0.4566836953163147,
          0.4565902352333069,
          0.45649781823158264,
          0.45640629529953003,
          0.456315815448761,
          0.45622625946998596,
          0.45613759756088257,
          0.45604997873306274,
          0.4559631943702698,
          0.4558773934841156,
          0.4557926058769226,
          0.45570868253707886,
          0.4556257128715515,
          0.4555436074733734,
          0.4554624557495117,
          0.45538216829299927,
          0.45530280470848083,
          0.45522433519363403,
          0.4551467299461365,
          0.45507001876831055,
          0.4549941420555115,
          0.4549191892147064,
          0.45484501123428345,
          0.45477160811424255,
          0.4546990990638733,
          0.45462727546691895,
          0.4545561671257019,
          0.4544858932495117,
          0.4544162154197693,
          0.4543472230434418,
          0.45427900552749634,
          0.45421141386032104,
          0.45414456725120544,
          0.4540783762931824,
          0.454012930393219,
          0.45394811034202576,
          0.45388394594192505,
          0.4538203775882721,
          0.45375746488571167,
          0.453695148229599,
          0.45363354682922363,
          0.4535725712776184,
          0.4535122811794281,
          0.45345252752304077,
          0.45339345932006836,
          0.45333513617515564,
          0.4532774090766907,
          0.4532202184200287,
          0.4531637728214264,
          0.45310792326927185,
          0.45305266976356506,
          0.45299798250198364,
          0.45294371247291565,
          0.45288991928100586,
          0.45283669233322144,
          0.4527839124202728,
          0.4527316093444824,
          0.4526798129081726,
          0.45262855291366577,
          0.4525776505470276,
          0.4525272250175476,
          0.452477365732193,
          0.45242786407470703,
          0.4523789882659912,
          0.45233044028282166,
          0.4522823691368103,
          0.45223474502563477,
          0.4521876275539398,
          0.4521408975124359,
          0.4520946443080902,
          0.4520488381385803,
          0.45200347900390625,
          0.4519585967063904,
          0.4519142210483551,
          0.4518703818321228,
          0.4518270492553711,
          0.4517842233181,
          0.4517418444156647,
          0.4516999125480652,
          0.4516584873199463,
          0.4516175389289856,
          0.45157700777053833,
          0.4515368938446045,
          0.45149725675582886,
          0.45145806670188904,
          0.45141926407814026,
          0.4513808786869049,
          0.45134297013282776,
          0.4513053894042969,
          0.4512682855129242,
          0.4512314796447754,
          0.4511951506137848,
          0.4511592388153076,
          0.4511236548423767,
          0.45108848810195923,
          0.4510536193847656,
          0.45101919770240784,
          0.4509851038455963,
          0.45095139741897583,
          0.4509180188179016,
          0.45088496804237366,
          0.45085230469703674,
          0.45082002878189087,
          0.4507880210876465,
          0.45075637102127075,
          0.4507250189781189,
          0.45069408416748047,
          0.45066341757774353,
          0.45063313841819763,
          0.45060309767723083,
          0.4505734443664551,
          0.4505440592765808,
          0.4505149722099304,
          0.45048627257347107,
          0.4504578113555908,
          0.4504297375679016,
          0.4504019320011139,
          0.4503743648529053,
          0.4503471255302429,
          0.4503202438354492,
          0.45029354095458984,
          0.45026713609695435,
          0.4502410292625427,
          0.4502151906490326,
          0.4501896798610687,
          0.45016440749168396,
          0.4501393735408783,
          0.45011457800865173,
          0.45009008049964905,
          0.45006585121154785,
          0.45004186034202576,
          0.4500180780887604,
          0.44999462366104126,
          0.44997134804725647,
          0.44994837045669556,
          0.4499255120754242,
          0.44990283250808716,
          0.4498804211616516,
          0.4498581290245056,
          0.4498360753059387,
          0.44981417059898376,
          0.4497925341129303,
          0.4497710168361664,
          0.44974976778030396,
          0.44972866773605347,
          0.4497077465057373,
          0.4496869444847107,
          0.44966644048690796,
          0.4496460556983948,
          0.4496258795261383,
          0.4496058523654938,
          0.44958600401878357,
          0.44956621527671814,
          0.449546754360199,
          0.4495273530483246,
          0.4495081901550293,
          0.44948920607566833,
          0.4494704306125641,
          0.44945183396339417,
          0.44943350553512573,
          0.4494153559207916,
          0.449397474527359,
          0.4493797719478607,
          0.4493623375892639,
          0.44934505224227905,
          0.44932788610458374,
          0.4493110179901123,
          0.4492943286895752,
          0.44927778840065,
          0.4492614269256592,
          0.44924530386924744,
          0.44922924041748047,
          0.4492134153842926,
          0.44919776916503906,
          0.44918227195739746,
          0.4491669535636902,
          0.4491516947746277,
          0.44913673400878906,
          0.4491218626499176,
          0.4491071105003357,
          0.4490925371646881,
          0.44907814264297485,
          0.449063777923584,
          0.4490496516227722,
          0.44903564453125,
          0.44902175664901733,
          0.449008047580719,
          0.44899439811706543,
          0.4489809572696686,
          0.4489676058292389,
          0.44895440340042114,
          0.44894132018089294,
          0.4489283561706543,
          0.4489154815673828,
          0.4489029049873352,
          0.4488902986049652,
          0.44887787103652954,
          0.4488655924797058,
          0.4488534927368164,
          0.4488414227962494,
          0.4488295018672943,
          0.4488176703453064,
          0.4488059878349304,
          0.4487943649291992,
          0.44878286123275757,
          0.44877156615257263,
          0.4487602710723877,
          0.4487491250038147,
          0.44873809814453125,
          0.4487271308898926,
          0.44871625304222107,
          0.4487055838108063,
          0.44869494438171387,
          0.4486843943595886,
          0.44867390394210815,
          0.4486635625362396,
          0.4486531615257263,
          0.44864290952682495,
          0.44863271713256836,
          0.44862261414527893,
          0.4486125409603119,
          0.4486026167869568,
          0.44859275221824646,
          0.4485829472541809,
          0.4485732614994049,
          0.4485636353492737,
          0.4485540986061096,
          0.4485446512699127,
          0.4485352635383606,
          0.44852596521377563,
          0.4485167860984802,
          0.4485076367855072,
          0.4484986364841461,
          0.44848960638046265,
          0.4484807550907135,
          0.44847196340560913,
          0.4484632611274719,
          0.4484546184539795,
          0.44844603538513184,
          0.4484376013278961,
          0.4484291672706604,
          0.44842082262039185,
          0.44841259717941284,
          0.4484044015407562,
          0.44839635491371155,
          0.44838833808898926,
          0.44838032126426697,
          0.4483724534511566,
          0.44836464524269104,
          0.448356956243515,
          0.4483492970466614,
          0.4483416676521301,
          0.44833412766456604
         ],
         "yaxis": "y"
        }
       ],
       "layout": {
        "legend": {
         "tracegroupgap": 0
        },
        "margin": {
         "t": 60
        },
        "template": {
         "data": {
          "bar": [
           {
            "error_x": {
             "color": "#2a3f5f"
            },
            "error_y": {
             "color": "#2a3f5f"
            },
            "marker": {
             "line": {
              "color": "#E5ECF6",
              "width": 0.5
             },
             "pattern": {
              "fillmode": "overlay",
              "size": 10,
              "solidity": 0.2
             }
            },
            "type": "bar"
           }
          ],
          "barpolar": [
           {
            "marker": {
             "line": {
              "color": "#E5ECF6",
              "width": 0.5
             },
             "pattern": {
              "fillmode": "overlay",
              "size": 10,
              "solidity": 0.2
             }
            },
            "type": "barpolar"
           }
          ],
          "carpet": [
           {
            "aaxis": {
             "endlinecolor": "#2a3f5f",
             "gridcolor": "white",
             "linecolor": "white",
             "minorgridcolor": "white",
             "startlinecolor": "#2a3f5f"
            },
            "baxis": {
             "endlinecolor": "#2a3f5f",
             "gridcolor": "white",
             "linecolor": "white",
             "minorgridcolor": "white",
             "startlinecolor": "#2a3f5f"
            },
            "type": "carpet"
           }
          ],
          "choropleth": [
           {
            "colorbar": {
             "outlinewidth": 0,
             "ticks": ""
            },
            "type": "choropleth"
           }
          ],
          "contour": [
           {
            "colorbar": {
             "outlinewidth": 0,
             "ticks": ""
            },
            "colorscale": [
             [
              0,
              "#0d0887"
             ],
             [
              0.1111111111111111,
              "#46039f"
             ],
             [
              0.2222222222222222,
              "#7201a8"
             ],
             [
              0.3333333333333333,
              "#9c179e"
             ],
             [
              0.4444444444444444,
              "#bd3786"
             ],
             [
              0.5555555555555556,
              "#d8576b"
             ],
             [
              0.6666666666666666,
              "#ed7953"
             ],
             [
              0.7777777777777778,
              "#fb9f3a"
             ],
             [
              0.8888888888888888,
              "#fdca26"
             ],
             [
              1,
              "#f0f921"
             ]
            ],
            "type": "contour"
           }
          ],
          "contourcarpet": [
           {
            "colorbar": {
             "outlinewidth": 0,
             "ticks": ""
            },
            "type": "contourcarpet"
           }
          ],
          "heatmap": [
           {
            "colorbar": {
             "outlinewidth": 0,
             "ticks": ""
            },
            "colorscale": [
             [
              0,
              "#0d0887"
             ],
             [
              0.1111111111111111,
              "#46039f"
             ],
             [
              0.2222222222222222,
              "#7201a8"
             ],
             [
              0.3333333333333333,
              "#9c179e"
             ],
             [
              0.4444444444444444,
              "#bd3786"
             ],
             [
              0.5555555555555556,
              "#d8576b"
             ],
             [
              0.6666666666666666,
              "#ed7953"
             ],
             [
              0.7777777777777778,
              "#fb9f3a"
             ],
             [
              0.8888888888888888,
              "#fdca26"
             ],
             [
              1,
              "#f0f921"
             ]
            ],
            "type": "heatmap"
           }
          ],
          "heatmapgl": [
           {
            "colorbar": {
             "outlinewidth": 0,
             "ticks": ""
            },
            "colorscale": [
             [
              0,
              "#0d0887"
             ],
             [
              0.1111111111111111,
              "#46039f"
             ],
             [
              0.2222222222222222,
              "#7201a8"
             ],
             [
              0.3333333333333333,
              "#9c179e"
             ],
             [
              0.4444444444444444,
              "#bd3786"
             ],
             [
              0.5555555555555556,
              "#d8576b"
             ],
             [
              0.6666666666666666,
              "#ed7953"
             ],
             [
              0.7777777777777778,
              "#fb9f3a"
             ],
             [
              0.8888888888888888,
              "#fdca26"
             ],
             [
              1,
              "#f0f921"
             ]
            ],
            "type": "heatmapgl"
           }
          ],
          "histogram": [
           {
            "marker": {
             "pattern": {
              "fillmode": "overlay",
              "size": 10,
              "solidity": 0.2
             }
            },
            "type": "histogram"
           }
          ],
          "histogram2d": [
           {
            "colorbar": {
             "outlinewidth": 0,
             "ticks": ""
            },
            "colorscale": [
             [
              0,
              "#0d0887"
             ],
             [
              0.1111111111111111,
              "#46039f"
             ],
             [
              0.2222222222222222,
              "#7201a8"
             ],
             [
              0.3333333333333333,
              "#9c179e"
             ],
             [
              0.4444444444444444,
              "#bd3786"
             ],
             [
              0.5555555555555556,
              "#d8576b"
             ],
             [
              0.6666666666666666,
              "#ed7953"
             ],
             [
              0.7777777777777778,
              "#fb9f3a"
             ],
             [
              0.8888888888888888,
              "#fdca26"
             ],
             [
              1,
              "#f0f921"
             ]
            ],
            "type": "histogram2d"
           }
          ],
          "histogram2dcontour": [
           {
            "colorbar": {
             "outlinewidth": 0,
             "ticks": ""
            },
            "colorscale": [
             [
              0,
              "#0d0887"
             ],
             [
              0.1111111111111111,
              "#46039f"
             ],
             [
              0.2222222222222222,
              "#7201a8"
             ],
             [
              0.3333333333333333,
              "#9c179e"
             ],
             [
              0.4444444444444444,
              "#bd3786"
             ],
             [
              0.5555555555555556,
              "#d8576b"
             ],
             [
              0.6666666666666666,
              "#ed7953"
             ],
             [
              0.7777777777777778,
              "#fb9f3a"
             ],
             [
              0.8888888888888888,
              "#fdca26"
             ],
             [
              1,
              "#f0f921"
             ]
            ],
            "type": "histogram2dcontour"
           }
          ],
          "mesh3d": [
           {
            "colorbar": {
             "outlinewidth": 0,
             "ticks": ""
            },
            "type": "mesh3d"
           }
          ],
          "parcoords": [
           {
            "line": {
             "colorbar": {
              "outlinewidth": 0,
              "ticks": ""
             }
            },
            "type": "parcoords"
           }
          ],
          "pie": [
           {
            "automargin": true,
            "type": "pie"
           }
          ],
          "scatter": [
           {
            "fillpattern": {
             "fillmode": "overlay",
             "size": 10,
             "solidity": 0.2
            },
            "type": "scatter"
           }
          ],
          "scatter3d": [
           {
            "line": {
             "colorbar": {
              "outlinewidth": 0,
              "ticks": ""
             }
            },
            "marker": {
             "colorbar": {
              "outlinewidth": 0,
              "ticks": ""
             }
            },
            "type": "scatter3d"
           }
          ],
          "scattercarpet": [
           {
            "marker": {
             "colorbar": {
              "outlinewidth": 0,
              "ticks": ""
             }
            },
            "type": "scattercarpet"
           }
          ],
          "scattergeo": [
           {
            "marker": {
             "colorbar": {
              "outlinewidth": 0,
              "ticks": ""
             }
            },
            "type": "scattergeo"
           }
          ],
          "scattergl": [
           {
            "marker": {
             "colorbar": {
              "outlinewidth": 0,
              "ticks": ""
             }
            },
            "type": "scattergl"
           }
          ],
          "scattermapbox": [
           {
            "marker": {
             "colorbar": {
              "outlinewidth": 0,
              "ticks": ""
             }
            },
            "type": "scattermapbox"
           }
          ],
          "scatterpolar": [
           {
            "marker": {
             "colorbar": {
              "outlinewidth": 0,
              "ticks": ""
             }
            },
            "type": "scatterpolar"
           }
          ],
          "scatterpolargl": [
           {
            "marker": {
             "colorbar": {
              "outlinewidth": 0,
              "ticks": ""
             }
            },
            "type": "scatterpolargl"
           }
          ],
          "scatterternary": [
           {
            "marker": {
             "colorbar": {
              "outlinewidth": 0,
              "ticks": ""
             }
            },
            "type": "scatterternary"
           }
          ],
          "surface": [
           {
            "colorbar": {
             "outlinewidth": 0,
             "ticks": ""
            },
            "colorscale": [
             [
              0,
              "#0d0887"
             ],
             [
              0.1111111111111111,
              "#46039f"
             ],
             [
              0.2222222222222222,
              "#7201a8"
             ],
             [
              0.3333333333333333,
              "#9c179e"
             ],
             [
              0.4444444444444444,
              "#bd3786"
             ],
             [
              0.5555555555555556,
              "#d8576b"
             ],
             [
              0.6666666666666666,
              "#ed7953"
             ],
             [
              0.7777777777777778,
              "#fb9f3a"
             ],
             [
              0.8888888888888888,
              "#fdca26"
             ],
             [
              1,
              "#f0f921"
             ]
            ],
            "type": "surface"
           }
          ],
          "table": [
           {
            "cells": {
             "fill": {
              "color": "#EBF0F8"
             },
             "line": {
              "color": "white"
             }
            },
            "header": {
             "fill": {
              "color": "#C8D4E3"
             },
             "line": {
              "color": "white"
             }
            },
            "type": "table"
           }
          ]
         },
         "layout": {
          "annotationdefaults": {
           "arrowcolor": "#2a3f5f",
           "arrowhead": 0,
           "arrowwidth": 1
          },
          "autotypenumbers": "strict",
          "coloraxis": {
           "colorbar": {
            "outlinewidth": 0,
            "ticks": ""
           }
          },
          "colorscale": {
           "diverging": [
            [
             0,
             "#8e0152"
            ],
            [
             0.1,
             "#c51b7d"
            ],
            [
             0.2,
             "#de77ae"
            ],
            [
             0.3,
             "#f1b6da"
            ],
            [
             0.4,
             "#fde0ef"
            ],
            [
             0.5,
             "#f7f7f7"
            ],
            [
             0.6,
             "#e6f5d0"
            ],
            [
             0.7,
             "#b8e186"
            ],
            [
             0.8,
             "#7fbc41"
            ],
            [
             0.9,
             "#4d9221"
            ],
            [
             1,
             "#276419"
            ]
           ],
           "sequential": [
            [
             0,
             "#0d0887"
            ],
            [
             0.1111111111111111,
             "#46039f"
            ],
            [
             0.2222222222222222,
             "#7201a8"
            ],
            [
             0.3333333333333333,
             "#9c179e"
            ],
            [
             0.4444444444444444,
             "#bd3786"
            ],
            [
             0.5555555555555556,
             "#d8576b"
            ],
            [
             0.6666666666666666,
             "#ed7953"
            ],
            [
             0.7777777777777778,
             "#fb9f3a"
            ],
            [
             0.8888888888888888,
             "#fdca26"
            ],
            [
             1,
             "#f0f921"
            ]
           ],
           "sequentialminus": [
            [
             0,
             "#0d0887"
            ],
            [
             0.1111111111111111,
             "#46039f"
            ],
            [
             0.2222222222222222,
             "#7201a8"
            ],
            [
             0.3333333333333333,
             "#9c179e"
            ],
            [
             0.4444444444444444,
             "#bd3786"
            ],
            [
             0.5555555555555556,
             "#d8576b"
            ],
            [
             0.6666666666666666,
             "#ed7953"
            ],
            [
             0.7777777777777778,
             "#fb9f3a"
            ],
            [
             0.8888888888888888,
             "#fdca26"
            ],
            [
             1,
             "#f0f921"
            ]
           ]
          },
          "colorway": [
           "#636efa",
           "#EF553B",
           "#00cc96",
           "#ab63fa",
           "#FFA15A",
           "#19d3f3",
           "#FF6692",
           "#B6E880",
           "#FF97FF",
           "#FECB52"
          ],
          "font": {
           "color": "#2a3f5f"
          },
          "geo": {
           "bgcolor": "white",
           "lakecolor": "white",
           "landcolor": "#E5ECF6",
           "showlakes": true,
           "showland": true,
           "subunitcolor": "white"
          },
          "hoverlabel": {
           "align": "left"
          },
          "hovermode": "closest",
          "mapbox": {
           "style": "light"
          },
          "paper_bgcolor": "white",
          "plot_bgcolor": "#E5ECF6",
          "polar": {
           "angularaxis": {
            "gridcolor": "white",
            "linecolor": "white",
            "ticks": ""
           },
           "bgcolor": "#E5ECF6",
           "radialaxis": {
            "gridcolor": "white",
            "linecolor": "white",
            "ticks": ""
           }
          },
          "scene": {
           "xaxis": {
            "backgroundcolor": "#E5ECF6",
            "gridcolor": "white",
            "gridwidth": 2,
            "linecolor": "white",
            "showbackground": true,
            "ticks": "",
            "zerolinecolor": "white"
           },
           "yaxis": {
            "backgroundcolor": "#E5ECF6",
            "gridcolor": "white",
            "gridwidth": 2,
            "linecolor": "white",
            "showbackground": true,
            "ticks": "",
            "zerolinecolor": "white"
           },
           "zaxis": {
            "backgroundcolor": "#E5ECF6",
            "gridcolor": "white",
            "gridwidth": 2,
            "linecolor": "white",
            "showbackground": true,
            "ticks": "",
            "zerolinecolor": "white"
           }
          },
          "shapedefaults": {
           "line": {
            "color": "#2a3f5f"
           }
          },
          "ternary": {
           "aaxis": {
            "gridcolor": "white",
            "linecolor": "white",
            "ticks": ""
           },
           "baxis": {
            "gridcolor": "white",
            "linecolor": "white",
            "ticks": ""
           },
           "bgcolor": "#E5ECF6",
           "caxis": {
            "gridcolor": "white",
            "linecolor": "white",
            "ticks": ""
           }
          },
          "title": {
           "x": 0.05
          },
          "xaxis": {
           "automargin": true,
           "gridcolor": "white",
           "linecolor": "white",
           "ticks": "",
           "title": {
            "standoff": 15
           },
           "zerolinecolor": "white",
           "zerolinewidth": 2
          },
          "yaxis": {
           "automargin": true,
           "gridcolor": "white",
           "linecolor": "white",
           "ticks": "",
           "title": {
            "standoff": 15
           },
           "zerolinecolor": "white",
           "zerolinewidth": 2
          }
         }
        },
        "xaxis": {
         "anchor": "y",
         "domain": [
          0,
          1
         ],
         "title": {
          "text": "index"
         }
        },
        "yaxis": {
         "anchor": "x",
         "domain": [
          0,
          1
         ],
         "title": {
          "text": "p_loss"
         }
        }
       }
      }
     },
     "metadata": {},
     "output_type": "display_data"
    },
    {
     "data": {
      "application/vnd.plotly.v1+json": {
       "config": {
        "plotlyServerURL": "https://plot.ly"
       },
       "data": [
        {
         "hovertemplate": "index=%{x}<br>p_loss=%{y}<extra></extra>",
         "legendgroup": "",
         "marker": {
          "color": "#636efa",
          "symbol": "circle"
         },
         "mode": "markers",
         "name": "",
         "orientation": "v",
         "showlegend": false,
         "type": "scatter",
         "x": [
          0,
          1,
          2,
          3,
          4,
          5,
          6,
          7,
          8,
          9,
          10,
          11,
          12,
          13,
          14,
          15,
          16,
          17,
          18,
          19,
          20,
          21,
          22,
          23,
          24,
          25,
          26,
          27,
          28,
          29,
          30,
          31,
          32,
          33,
          34,
          35,
          36,
          37,
          38,
          39,
          40,
          41,
          42,
          43,
          44,
          45,
          46,
          47,
          48,
          49,
          50,
          51,
          52,
          53,
          54,
          55,
          56,
          57,
          58,
          59,
          60,
          61,
          62,
          63,
          64,
          65,
          66,
          67,
          68,
          69,
          70,
          71,
          72,
          73,
          74,
          75,
          76,
          77,
          78,
          79,
          80,
          81,
          82,
          83,
          84,
          85,
          86,
          87,
          88,
          89,
          90,
          91,
          92,
          93,
          94,
          95,
          96,
          97,
          98,
          99,
          100,
          101,
          102,
          103,
          104,
          105,
          106,
          107,
          108,
          109,
          110,
          111,
          112,
          113,
          114,
          115,
          116,
          117,
          118,
          119,
          120,
          121,
          122,
          123,
          124,
          125,
          126,
          127,
          128,
          129,
          130,
          131,
          132,
          133,
          134,
          135,
          136,
          137,
          138,
          139,
          140,
          141,
          142,
          143,
          144,
          145,
          146,
          147,
          148,
          149,
          150,
          151,
          152,
          153,
          154,
          155,
          156,
          157,
          158,
          159,
          160,
          161,
          162,
          163,
          164,
          165,
          166,
          167,
          168,
          169,
          170,
          171,
          172,
          173,
          174,
          175,
          176,
          177,
          178,
          179,
          180,
          181,
          182,
          183,
          184,
          185,
          186,
          187,
          188,
          189,
          190,
          191,
          192,
          193,
          194,
          195,
          196,
          197,
          198,
          199,
          200,
          201,
          202,
          203,
          204,
          205,
          206,
          207,
          208,
          209,
          210,
          211,
          212,
          213,
          214,
          215,
          216,
          217,
          218,
          219,
          220,
          221,
          222,
          223,
          224,
          225,
          226,
          227,
          228,
          229,
          230,
          231,
          232,
          233,
          234,
          235,
          236,
          237,
          238,
          239,
          240,
          241,
          242,
          243,
          244,
          245,
          246,
          247,
          248,
          249,
          250,
          251,
          252,
          253,
          254,
          255,
          256,
          257,
          258,
          259,
          260,
          261,
          262,
          263,
          264,
          265,
          266,
          267,
          268,
          269,
          270,
          271,
          272,
          273,
          274,
          275,
          276,
          277,
          278,
          279,
          280,
          281,
          282,
          283,
          284,
          285,
          286,
          287,
          288,
          289,
          290,
          291,
          292,
          293,
          294,
          295,
          296,
          297,
          298,
          299,
          300,
          301,
          302,
          303,
          304,
          305,
          306,
          307,
          308,
          309,
          310,
          311,
          312,
          313,
          314,
          315,
          316,
          317,
          318,
          319,
          320,
          321,
          322,
          323,
          324,
          325,
          326,
          327,
          328,
          329,
          330,
          331,
          332,
          333,
          334,
          335,
          336,
          337,
          338,
          339,
          340,
          341,
          342,
          343,
          344,
          345,
          346,
          347,
          348,
          349,
          350,
          351,
          352,
          353,
          354,
          355,
          356,
          357,
          358,
          359,
          360,
          361,
          362,
          363,
          364,
          365,
          366,
          367,
          368,
          369,
          370,
          371,
          372,
          373,
          374,
          375,
          376,
          377,
          378,
          379,
          380,
          381,
          382,
          383,
          384,
          385,
          386,
          387,
          388,
          389,
          390,
          391,
          392,
          393,
          394,
          395,
          396,
          397,
          398,
          399,
          400,
          401,
          402,
          403,
          404,
          405,
          406,
          407,
          408,
          409,
          410,
          411,
          412,
          413,
          414,
          415,
          416,
          417,
          418,
          419,
          420,
          421,
          422,
          423,
          424,
          425,
          426,
          427,
          428,
          429,
          430,
          431,
          432,
          433,
          434,
          435,
          436,
          437,
          438,
          439,
          440,
          441,
          442,
          443,
          444,
          445,
          446,
          447,
          448,
          449,
          450,
          451,
          452,
          453,
          454,
          455,
          456,
          457,
          458,
          459,
          460,
          461,
          462,
          463,
          464,
          465,
          466,
          467,
          468,
          469,
          470,
          471,
          472,
          473,
          474,
          475,
          476,
          477,
          478,
          479,
          480,
          481,
          482,
          483,
          484,
          485,
          486,
          487,
          488,
          489,
          490,
          491,
          492,
          493,
          494,
          495,
          496,
          497,
          498,
          499
         ],
         "xaxis": "x",
         "y": [
          0.8027788996696472,
          0.7099345922470093,
          0.637698769569397,
          0.5860468149185181,
          0.5534828901290894,
          0.5370439887046814,
          0.5326966643333435,
          0.5360103845596313,
          0.542908787727356,
          0.5502268075942993,
          0.5558923482894897,
          0.5588365197181702,
          0.5587612390518188,
          0.5558949708938599,
          0.5507939457893372,
          0.5441896319389343,
          0.5368726253509521,
          0.5296218991279602,
          0.523108720779419,
          0.5178467035293579,
          0.5141375660896301,
          0.5120385885238647,
          0.5113687515258789,
          0.511748194694519,
          0.512677013874054,
          0.5136374235153198,
          0.5141941905021667,
          0.5140665173530579,
          0.5131583213806152,
          0.5115482211112976,
          0.509442150592804,
          0.5071101188659668,
          0.5048227906227112,
          0.5027984380722046,
          0.5011714696884155,
          0.49998268485069275,
          0.4991883337497711,
          0.4986836910247803,
          0.4983341693878174,
          0.4980050027370453,
          0.4975852966308594,
          0.4970052242279053,
          0.49624013900756836,
          0.4953090250492096,
          0.4942623972892761,
          0.49316883087158203,
          0.4920993745326996,
          0.49111223220825195,
          0.49024468660354614,
          0.48950767517089844,
          0.4888872504234314,
          0.4883504807949066,
          0.48785534501075745,
          0.4873606562614441,
          0.48683539032936096,
          0.48626384139060974,
          0.48564672470092773,
          0.4849979281425476,
          0.48433953523635864,
          0.48369479179382324,
          0.48308247327804565,
          0.4825132489204407,
          0.48198819160461426,
          0.4815007746219635,
          0.48103874921798706,
          0.48058876395225525,
          0.4801388680934906,
          0.4796815514564514,
          0.4792143404483795,
          0.4787396490573883,
          0.4782632291316986,
          0.47779202461242676,
          0.4773330092430115,
          0.47689032554626465,
          0.47646552324295044,
          0.47605714201927185,
          0.4756619334220886,
          0.4752756953239441,
          0.4748944640159607,
          0.47451549768447876,
          0.4741377830505371,
          0.4737619459629059,
          0.47338971495628357,
          0.47302335500717163,
          0.4726645350456238,
          0.47231483459472656,
          0.47197407484054565,
          0.4716418385505676,
          0.47131672501564026,
          0.470997154712677,
          0.470681756734848,
          0.4703698754310608,
          0.47006091475486755,
          0.4697554111480713,
          0.4694538116455078,
          0.46915698051452637,
          0.46886539459228516,
          0.4685794413089752,
          0.4682989716529846,
          0.4680236279964447,
          0.46775299310684204,
          0.4674863815307617,
          0.46722349524497986,
          0.46696385741233826,
          0.466707706451416,
          0.4664550721645355,
          0.46620601415634155,
          0.4659608006477356,
          0.46571946144104004,
          0.4654819369316101,
          0.46524810791015625,
          0.465017706155777,
          0.4647904336452484,
          0.4645663797855377,
          0.46434512734413147,
          0.46412673592567444,
          0.46391138434410095,
          0.46369895339012146,
          0.4634895920753479,
          0.4632832407951355,
          0.4630798399448395,
          0.4628792703151703,
          0.46268171072006226,
          0.46248674392700195,
          0.46229439973831177,
          0.4621046185493469,
          0.4619172215461731,
          0.4617323875427246,
          0.46154990792274475,
          0.46136975288391113,
          0.46119189262390137,
          0.4610164761543274,
          0.46084317564964294,
          0.4606722295284271,
          0.4605034291744232,
          0.4603368639945984,
          0.4601723551750183,
          0.460009902715683,
          0.4598495364189148,
          0.45969119668006897,
          0.45953482389450073,
          0.45938047766685486,
          0.45922818779945374,
          0.45907774567604065,
          0.45892924070358276,
          0.4587826728820801,
          0.45863789319992065,
          0.45849505066871643,
          0.4583539068698883,
          0.45821452140808105,
          0.45807695388793945,
          0.45794105529785156,
          0.45780691504478455,
          0.45767441391944885,
          0.4575435519218445,
          0.4574142396450043,
          0.457286536693573,
          0.45716047286987305,
          0.4570358395576477,
          0.4569128155708313,
          0.4567912518978119,
          0.45667117834091187,
          0.4565525949001312,
          0.45643553137779236,
          0.45631980895996094,
          0.4562056064605713,
          0.4560927450656891,
          0.4559812545776367,
          0.45587119460105896,
          0.45576247572898865,
          0.45565515756607056,
          0.4555491507053375,
          0.45544448494911194,
          0.45534104108810425,
          0.4552389979362488,
          0.4551382064819336,
          0.45503872632980347,
          0.45494046807289124,
          0.4548434317111969,
          0.45474767684936523,
          0.4546530842781067,
          0.4545597434043884,
          0.4544675946235657,
          0.4543766975402832,
          0.45428696274757385,
          0.45419836044311523,
          0.4541109502315521,
          0.45402464270591736,
          0.45393943786621094,
          0.4538555145263672,
          0.45377254486083984,
          0.45369070768356323,
          0.4536098837852478,
          0.4535302221775055,
          0.4534514844417572,
          0.45337384939193726,
          0.45329713821411133,
          0.45322147011756897,
          0.4531467854976654,
          0.45307302474975586,
          0.4530002474784851,
          0.4529283940792084,
          0.45285743474960327,
          0.45278745889663696,
          0.4527183175086975,
          0.4526499807834625,
          0.45258259773254395,
          0.45251601934432983,
          0.4524502754211426,
          0.45238542556762695,
          0.4523213505744934,
          0.4522581696510315,
          0.45219582319259644,
          0.45213428139686584,
          0.4520736336708069,
          0.4520137310028076,
          0.4519546627998352,
          0.4518963694572449,
          0.4518389105796814,
          0.4517822265625,
          0.4517262578010559,
          0.45167112350463867,
          0.45161667466163635,
          0.45156294107437134,
          0.4515100121498108,
          0.451457679271698,
          0.4514060914516449,
          0.45135506987571716,
          0.45130476355552673,
          0.4512551426887512,
          0.45120611786842346,
          0.4511576294898987,
          0.4511098265647888,
          0.4510626196861267,
          0.45101600885391235,
          0.45097002387046814,
          0.4509245753288269,
          0.4508797526359558,
          0.45083552598953247,
          0.4507918357849121,
          0.4507487416267395,
          0.45070624351501465,
          0.450664222240448,
          0.4506227970123291,
          0.4505818784236908,
          0.45054149627685547,
          0.4505016803741455,
          0.45046234130859375,
          0.4504234194755554,
          0.4503851532936096,
          0.45034727454185486,
          0.4503099322319031,
          0.4502730369567871,
          0.45023661851882935,
          0.4502006471157074,
          0.45016512274742126,
          0.45013004541397095,
          0.4500953257083893,
          0.4500610828399658,
          0.4500271677970886,
          0.449993759393692,
          0.4499606490135193,
          0.4499279856681824,
          0.4498957097530365,
          0.4498637616634369,
          0.44983214139938354,
          0.449800968170166,
          0.4497702121734619,
          0.4497397840023041,
          0.4497097134590149,
          0.44968000054359436,
          0.44965067505836487,
          0.4496217370033264,
          0.44959312677383423,
          0.4495648741722107,
          0.4495369791984558,
          0.4495094418525696,
          0.4494822919368744,
          0.4494553506374359,
          0.4494289457798004,
          0.44940271973609924,
          0.4493768811225891,
          0.44935140013694763,
          0.44932618737220764,
          0.4493013322353363,
          0.44927677512168884,
          0.44925254583358765,
          0.4492286741733551,
          0.4492049217224121,
          0.44918161630630493,
          0.44915857911109924,
          0.44913583993911743,
          0.44911330938339233,
          0.4490911364555359,
          0.44906920194625854,
          0.44904762506484985,
          0.4490261971950531,
          0.4490050673484802,
          0.4489842355251312,
          0.44896364212036133,
          0.44894328713417053,
          0.4489232003688812,
          0.4489033818244934,
          0.44888371229171753,
          0.4488644003868103,
          0.448845237493515,
          0.448826402425766,
          0.4488077759742737,
          0.44878941774368286,
          0.4487711787223816,
          0.4487531781196594,
          0.44873541593551636,
          0.4487178921699524,
          0.44870057702064514,
          0.4486834406852722,
          0.4486665725708008,
          0.44864988327026367,
          0.44863343238830566,
          0.4486171305179596,
          0.4486010670661926,
          0.4485851228237152,
          0.4485693871974945,
          0.4485539495944977,
          0.4485386312007904,
          0.44852352142333984,
          0.4485085606575012,
          0.4484938681125641,
          0.44847941398620605,
          0.4484650492668152,
          0.44845086336135864,
          0.4484368860721588,
          0.4484230875968933,
          0.44840946793556213,
          0.4483960270881653,
          0.44838276505470276,
          0.4483695924282074,
          0.44835662841796875,
          0.44834375381469727,
          0.4483310282230377,
          0.44831839203834534,
          0.4483059048652649,
          0.4482935965061188,
          0.4482813775539398,
          0.4482693076133728,
          0.44825735688209534,
          0.4482455849647522,
          0.4482339024543762,
          0.4482223391532898,
          0.44821086525917053,
          0.4481995105743408,
          0.4481882154941559,
          0.4481770992279053,
          0.4481661319732666,
          0.4481552541255951,
          0.4481445848941803,
          0.4481339454650879,
          0.4481234550476074,
          0.4481130540370941,
          0.44810280203819275,
          0.44809263944625854,
          0.4480825364589691,
          0.44807252287864685,
          0.4480626583099365,
          0.44805294275283813,
          0.44804325699806213,
          0.4480336606502533,
          0.448024183511734,
          0.4480147957801819,
          0.4480055868625641,
          0.44799643754959106,
          0.4479873776435852,
          0.4479784071445465,
          0.447969526052475,
          0.447960764169693,
          0.44795212149620056,
          0.4479435384273529,
          0.4479350447654724,
          0.44792670011520386,
          0.4479184150695801,
          0.4479101598262787,
          0.447902113199234,
          0.4478940963745117,
          0.4478861391544342,
          0.44787830114364624,
          0.4478705823421478,
          0.4478629231452942,
          0.44785529375076294,
          0.44784778356552124,
          0.4478403925895691,
          0.44783300161361694,
          0.44782572984695435,
          0.4478185772895813,
          0.44781142473220825,
          0.44780439138412476,
          0.4477974474430084,
          0.44779056310653687,
          0.44778379797935486,
          0.4477771818637848,
          0.4477706551551819,
          0.44776415824890137,
          0.4477577805519104,
          0.44775134325027466,
          0.447745144367218,
          0.44773897528648376,
          0.4477328360080719,
          0.4477267265319824,
          0.44772082567214966,
          0.4477148652076721,
          0.44770893454551697,
          0.44770312309265137,
          0.44769734144210815,
          0.4476916193962097,
          0.44768601655960083,
          0.44768038392066956,
          0.44767481088638306,
          0.44766926765441895,
          0.4476637840270996,
          0.44765836000442505,
          0.44765299558639526,
          0.44764766097068787,
          0.44764232635498047,
          0.4476371705532074,
          0.44763192534446716,
          0.4476267397403717,
          0.4476216733455658,
          0.4476165175437927,
          0.44761142134666443,
          0.4476063847541809,
          0.4476012587547302,
          0.4475962221622467,
          0.44759121537208557,
          0.44758620858192444,
          0.44758129119873047,
          0.4475763440132141,
          0.44757145643234253,
          0.4475666582584381,
          0.4475618004798889,
          0.4475570321083069,
          0.44755226373672485,
          0.44754758477211,
          0.4475429058074951,
          0.447538286447525,
          0.4475336968898773,
          0.4475291669368744,
          0.44752463698387146,
          0.4475201666355133,
          0.4475157856941223,
          0.44751134514808655,
          0.4475070536136627,
          0.4475027024745941,
          0.4474984109401703,
          0.4474942088127136,
          0.44748997688293457,
          0.4474858343601227,
          0.4474817216396332,
          0.4474775195121765,
          0.4474734663963318,
          0.44746947288513184,
          0.4474654793739319,
          0.44746145606040955,
          0.447457492351532,
          0.4474535882472992,
          0.4474497437477112,
          0.4474458694458008,
          0.44744205474853516,
          0.4474382996559143,
          0.4474344849586487,
          0.4474307894706726,
          0.44742709398269653,
          0.44742336869239807,
          0.4474197328090668,
          0.44741612672805786,
          0.44741255044937134,
          0.4474089741706848,
          0.4474054276943207,
          0.4474019408226013,
          0.44739848375320435,
          0.447394996881485,
          0.4473915696144104,
          0.4473881721496582,
          0.447384774684906,
          0.4473814368247986,
          0.4473780691623688,
          0.44737476110458374,
          0.4473714828491211,
          0.44736820459365845,
          0.4473649859428406,
          0.4473617672920227,
          0.4473586082458496,
          0.44735535979270935,
          0.44735223054885864,
          0.44734907150268555,
          0.447346031665802,
          0.4473428726196289,
          0.4473397731781006,
          0.44733673334121704,
          0.4473336338996887,
          0.4473304748535156,
          0.44732731580734253,
          0.4473242163658142
         ],
         "yaxis": "y"
        }
       ],
       "layout": {
        "legend": {
         "tracegroupgap": 0
        },
        "margin": {
         "t": 60
        },
        "template": {
         "data": {
          "bar": [
           {
            "error_x": {
             "color": "#2a3f5f"
            },
            "error_y": {
             "color": "#2a3f5f"
            },
            "marker": {
             "line": {
              "color": "#E5ECF6",
              "width": 0.5
             },
             "pattern": {
              "fillmode": "overlay",
              "size": 10,
              "solidity": 0.2
             }
            },
            "type": "bar"
           }
          ],
          "barpolar": [
           {
            "marker": {
             "line": {
              "color": "#E5ECF6",
              "width": 0.5
             },
             "pattern": {
              "fillmode": "overlay",
              "size": 10,
              "solidity": 0.2
             }
            },
            "type": "barpolar"
           }
          ],
          "carpet": [
           {
            "aaxis": {
             "endlinecolor": "#2a3f5f",
             "gridcolor": "white",
             "linecolor": "white",
             "minorgridcolor": "white",
             "startlinecolor": "#2a3f5f"
            },
            "baxis": {
             "endlinecolor": "#2a3f5f",
             "gridcolor": "white",
             "linecolor": "white",
             "minorgridcolor": "white",
             "startlinecolor": "#2a3f5f"
            },
            "type": "carpet"
           }
          ],
          "choropleth": [
           {
            "colorbar": {
             "outlinewidth": 0,
             "ticks": ""
            },
            "type": "choropleth"
           }
          ],
          "contour": [
           {
            "colorbar": {
             "outlinewidth": 0,
             "ticks": ""
            },
            "colorscale": [
             [
              0,
              "#0d0887"
             ],
             [
              0.1111111111111111,
              "#46039f"
             ],
             [
              0.2222222222222222,
              "#7201a8"
             ],
             [
              0.3333333333333333,
              "#9c179e"
             ],
             [
              0.4444444444444444,
              "#bd3786"
             ],
             [
              0.5555555555555556,
              "#d8576b"
             ],
             [
              0.6666666666666666,
              "#ed7953"
             ],
             [
              0.7777777777777778,
              "#fb9f3a"
             ],
             [
              0.8888888888888888,
              "#fdca26"
             ],
             [
              1,
              "#f0f921"
             ]
            ],
            "type": "contour"
           }
          ],
          "contourcarpet": [
           {
            "colorbar": {
             "outlinewidth": 0,
             "ticks": ""
            },
            "type": "contourcarpet"
           }
          ],
          "heatmap": [
           {
            "colorbar": {
             "outlinewidth": 0,
             "ticks": ""
            },
            "colorscale": [
             [
              0,
              "#0d0887"
             ],
             [
              0.1111111111111111,
              "#46039f"
             ],
             [
              0.2222222222222222,
              "#7201a8"
             ],
             [
              0.3333333333333333,
              "#9c179e"
             ],
             [
              0.4444444444444444,
              "#bd3786"
             ],
             [
              0.5555555555555556,
              "#d8576b"
             ],
             [
              0.6666666666666666,
              "#ed7953"
             ],
             [
              0.7777777777777778,
              "#fb9f3a"
             ],
             [
              0.8888888888888888,
              "#fdca26"
             ],
             [
              1,
              "#f0f921"
             ]
            ],
            "type": "heatmap"
           }
          ],
          "heatmapgl": [
           {
            "colorbar": {
             "outlinewidth": 0,
             "ticks": ""
            },
            "colorscale": [
             [
              0,
              "#0d0887"
             ],
             [
              0.1111111111111111,
              "#46039f"
             ],
             [
              0.2222222222222222,
              "#7201a8"
             ],
             [
              0.3333333333333333,
              "#9c179e"
             ],
             [
              0.4444444444444444,
              "#bd3786"
             ],
             [
              0.5555555555555556,
              "#d8576b"
             ],
             [
              0.6666666666666666,
              "#ed7953"
             ],
             [
              0.7777777777777778,
              "#fb9f3a"
             ],
             [
              0.8888888888888888,
              "#fdca26"
             ],
             [
              1,
              "#f0f921"
             ]
            ],
            "type": "heatmapgl"
           }
          ],
          "histogram": [
           {
            "marker": {
             "pattern": {
              "fillmode": "overlay",
              "size": 10,
              "solidity": 0.2
             }
            },
            "type": "histogram"
           }
          ],
          "histogram2d": [
           {
            "colorbar": {
             "outlinewidth": 0,
             "ticks": ""
            },
            "colorscale": [
             [
              0,
              "#0d0887"
             ],
             [
              0.1111111111111111,
              "#46039f"
             ],
             [
              0.2222222222222222,
              "#7201a8"
             ],
             [
              0.3333333333333333,
              "#9c179e"
             ],
             [
              0.4444444444444444,
              "#bd3786"
             ],
             [
              0.5555555555555556,
              "#d8576b"
             ],
             [
              0.6666666666666666,
              "#ed7953"
             ],
             [
              0.7777777777777778,
              "#fb9f3a"
             ],
             [
              0.8888888888888888,
              "#fdca26"
             ],
             [
              1,
              "#f0f921"
             ]
            ],
            "type": "histogram2d"
           }
          ],
          "histogram2dcontour": [
           {
            "colorbar": {
             "outlinewidth": 0,
             "ticks": ""
            },
            "colorscale": [
             [
              0,
              "#0d0887"
             ],
             [
              0.1111111111111111,
              "#46039f"
             ],
             [
              0.2222222222222222,
              "#7201a8"
             ],
             [
              0.3333333333333333,
              "#9c179e"
             ],
             [
              0.4444444444444444,
              "#bd3786"
             ],
             [
              0.5555555555555556,
              "#d8576b"
             ],
             [
              0.6666666666666666,
              "#ed7953"
             ],
             [
              0.7777777777777778,
              "#fb9f3a"
             ],
             [
              0.8888888888888888,
              "#fdca26"
             ],
             [
              1,
              "#f0f921"
             ]
            ],
            "type": "histogram2dcontour"
           }
          ],
          "mesh3d": [
           {
            "colorbar": {
             "outlinewidth": 0,
             "ticks": ""
            },
            "type": "mesh3d"
           }
          ],
          "parcoords": [
           {
            "line": {
             "colorbar": {
              "outlinewidth": 0,
              "ticks": ""
             }
            },
            "type": "parcoords"
           }
          ],
          "pie": [
           {
            "automargin": true,
            "type": "pie"
           }
          ],
          "scatter": [
           {
            "fillpattern": {
             "fillmode": "overlay",
             "size": 10,
             "solidity": 0.2
            },
            "type": "scatter"
           }
          ],
          "scatter3d": [
           {
            "line": {
             "colorbar": {
              "outlinewidth": 0,
              "ticks": ""
             }
            },
            "marker": {
             "colorbar": {
              "outlinewidth": 0,
              "ticks": ""
             }
            },
            "type": "scatter3d"
           }
          ],
          "scattercarpet": [
           {
            "marker": {
             "colorbar": {
              "outlinewidth": 0,
              "ticks": ""
             }
            },
            "type": "scattercarpet"
           }
          ],
          "scattergeo": [
           {
            "marker": {
             "colorbar": {
              "outlinewidth": 0,
              "ticks": ""
             }
            },
            "type": "scattergeo"
           }
          ],
          "scattergl": [
           {
            "marker": {
             "colorbar": {
              "outlinewidth": 0,
              "ticks": ""
             }
            },
            "type": "scattergl"
           }
          ],
          "scattermapbox": [
           {
            "marker": {
             "colorbar": {
              "outlinewidth": 0,
              "ticks": ""
             }
            },
            "type": "scattermapbox"
           }
          ],
          "scatterpolar": [
           {
            "marker": {
             "colorbar": {
              "outlinewidth": 0,
              "ticks": ""
             }
            },
            "type": "scatterpolar"
           }
          ],
          "scatterpolargl": [
           {
            "marker": {
             "colorbar": {
              "outlinewidth": 0,
              "ticks": ""
             }
            },
            "type": "scatterpolargl"
           }
          ],
          "scatterternary": [
           {
            "marker": {
             "colorbar": {
              "outlinewidth": 0,
              "ticks": ""
             }
            },
            "type": "scatterternary"
           }
          ],
          "surface": [
           {
            "colorbar": {
             "outlinewidth": 0,
             "ticks": ""
            },
            "colorscale": [
             [
              0,
              "#0d0887"
             ],
             [
              0.1111111111111111,
              "#46039f"
             ],
             [
              0.2222222222222222,
              "#7201a8"
             ],
             [
              0.3333333333333333,
              "#9c179e"
             ],
             [
              0.4444444444444444,
              "#bd3786"
             ],
             [
              0.5555555555555556,
              "#d8576b"
             ],
             [
              0.6666666666666666,
              "#ed7953"
             ],
             [
              0.7777777777777778,
              "#fb9f3a"
             ],
             [
              0.8888888888888888,
              "#fdca26"
             ],
             [
              1,
              "#f0f921"
             ]
            ],
            "type": "surface"
           }
          ],
          "table": [
           {
            "cells": {
             "fill": {
              "color": "#EBF0F8"
             },
             "line": {
              "color": "white"
             }
            },
            "header": {
             "fill": {
              "color": "#C8D4E3"
             },
             "line": {
              "color": "white"
             }
            },
            "type": "table"
           }
          ]
         },
         "layout": {
          "annotationdefaults": {
           "arrowcolor": "#2a3f5f",
           "arrowhead": 0,
           "arrowwidth": 1
          },
          "autotypenumbers": "strict",
          "coloraxis": {
           "colorbar": {
            "outlinewidth": 0,
            "ticks": ""
           }
          },
          "colorscale": {
           "diverging": [
            [
             0,
             "#8e0152"
            ],
            [
             0.1,
             "#c51b7d"
            ],
            [
             0.2,
             "#de77ae"
            ],
            [
             0.3,
             "#f1b6da"
            ],
            [
             0.4,
             "#fde0ef"
            ],
            [
             0.5,
             "#f7f7f7"
            ],
            [
             0.6,
             "#e6f5d0"
            ],
            [
             0.7,
             "#b8e186"
            ],
            [
             0.8,
             "#7fbc41"
            ],
            [
             0.9,
             "#4d9221"
            ],
            [
             1,
             "#276419"
            ]
           ],
           "sequential": [
            [
             0,
             "#0d0887"
            ],
            [
             0.1111111111111111,
             "#46039f"
            ],
            [
             0.2222222222222222,
             "#7201a8"
            ],
            [
             0.3333333333333333,
             "#9c179e"
            ],
            [
             0.4444444444444444,
             "#bd3786"
            ],
            [
             0.5555555555555556,
             "#d8576b"
            ],
            [
             0.6666666666666666,
             "#ed7953"
            ],
            [
             0.7777777777777778,
             "#fb9f3a"
            ],
            [
             0.8888888888888888,
             "#fdca26"
            ],
            [
             1,
             "#f0f921"
            ]
           ],
           "sequentialminus": [
            [
             0,
             "#0d0887"
            ],
            [
             0.1111111111111111,
             "#46039f"
            ],
            [
             0.2222222222222222,
             "#7201a8"
            ],
            [
             0.3333333333333333,
             "#9c179e"
            ],
            [
             0.4444444444444444,
             "#bd3786"
            ],
            [
             0.5555555555555556,
             "#d8576b"
            ],
            [
             0.6666666666666666,
             "#ed7953"
            ],
            [
             0.7777777777777778,
             "#fb9f3a"
            ],
            [
             0.8888888888888888,
             "#fdca26"
            ],
            [
             1,
             "#f0f921"
            ]
           ]
          },
          "colorway": [
           "#636efa",
           "#EF553B",
           "#00cc96",
           "#ab63fa",
           "#FFA15A",
           "#19d3f3",
           "#FF6692",
           "#B6E880",
           "#FF97FF",
           "#FECB52"
          ],
          "font": {
           "color": "#2a3f5f"
          },
          "geo": {
           "bgcolor": "white",
           "lakecolor": "white",
           "landcolor": "#E5ECF6",
           "showlakes": true,
           "showland": true,
           "subunitcolor": "white"
          },
          "hoverlabel": {
           "align": "left"
          },
          "hovermode": "closest",
          "mapbox": {
           "style": "light"
          },
          "paper_bgcolor": "white",
          "plot_bgcolor": "#E5ECF6",
          "polar": {
           "angularaxis": {
            "gridcolor": "white",
            "linecolor": "white",
            "ticks": ""
           },
           "bgcolor": "#E5ECF6",
           "radialaxis": {
            "gridcolor": "white",
            "linecolor": "white",
            "ticks": ""
           }
          },
          "scene": {
           "xaxis": {
            "backgroundcolor": "#E5ECF6",
            "gridcolor": "white",
            "gridwidth": 2,
            "linecolor": "white",
            "showbackground": true,
            "ticks": "",
            "zerolinecolor": "white"
           },
           "yaxis": {
            "backgroundcolor": "#E5ECF6",
            "gridcolor": "white",
            "gridwidth": 2,
            "linecolor": "white",
            "showbackground": true,
            "ticks": "",
            "zerolinecolor": "white"
           },
           "zaxis": {
            "backgroundcolor": "#E5ECF6",
            "gridcolor": "white",
            "gridwidth": 2,
            "linecolor": "white",
            "showbackground": true,
            "ticks": "",
            "zerolinecolor": "white"
           }
          },
          "shapedefaults": {
           "line": {
            "color": "#2a3f5f"
           }
          },
          "ternary": {
           "aaxis": {
            "gridcolor": "white",
            "linecolor": "white",
            "ticks": ""
           },
           "baxis": {
            "gridcolor": "white",
            "linecolor": "white",
            "ticks": ""
           },
           "bgcolor": "#E5ECF6",
           "caxis": {
            "gridcolor": "white",
            "linecolor": "white",
            "ticks": ""
           }
          },
          "title": {
           "x": 0.05
          },
          "xaxis": {
           "automargin": true,
           "gridcolor": "white",
           "linecolor": "white",
           "ticks": "",
           "title": {
            "standoff": 15
           },
           "zerolinecolor": "white",
           "zerolinewidth": 2
          },
          "yaxis": {
           "automargin": true,
           "gridcolor": "white",
           "linecolor": "white",
           "ticks": "",
           "title": {
            "standoff": 15
           },
           "zerolinecolor": "white",
           "zerolinewidth": 2
          }
         }
        },
        "xaxis": {
         "anchor": "y",
         "domain": [
          0,
          1
         ],
         "title": {
          "text": "index"
         }
        },
        "yaxis": {
         "anchor": "x",
         "domain": [
          0,
          1
         ],
         "title": {
          "text": "p_loss"
         }
        }
       }
      }
     },
     "metadata": {},
     "output_type": "display_data"
    },
    {
     "data": {
      "application/vnd.plotly.v1+json": {
       "config": {
        "plotlyServerURL": "https://plot.ly"
       },
       "data": [
        {
         "hovertemplate": "index=%{x}<br>p_loss=%{y}<extra></extra>",
         "legendgroup": "",
         "marker": {
          "color": "#636efa",
          "symbol": "circle"
         },
         "mode": "markers",
         "name": "",
         "orientation": "v",
         "showlegend": false,
         "type": "scatter",
         "x": [
          0,
          1,
          2,
          3,
          4,
          5,
          6,
          7,
          8,
          9,
          10,
          11,
          12,
          13,
          14,
          15,
          16,
          17,
          18,
          19,
          20,
          21,
          22,
          23,
          24,
          25,
          26,
          27,
          28,
          29,
          30,
          31,
          32,
          33,
          34,
          35,
          36,
          37,
          38,
          39,
          40,
          41,
          42,
          43,
          44,
          45,
          46,
          47,
          48,
          49,
          50,
          51,
          52,
          53,
          54,
          55,
          56,
          57,
          58,
          59,
          60,
          61,
          62,
          63,
          64,
          65,
          66,
          67,
          68,
          69,
          70,
          71,
          72,
          73,
          74,
          75,
          76,
          77,
          78,
          79,
          80,
          81,
          82,
          83,
          84,
          85,
          86,
          87,
          88,
          89,
          90,
          91,
          92,
          93,
          94,
          95,
          96,
          97,
          98,
          99,
          100,
          101,
          102,
          103,
          104,
          105,
          106,
          107,
          108,
          109,
          110,
          111,
          112,
          113,
          114,
          115,
          116,
          117,
          118,
          119,
          120,
          121,
          122,
          123,
          124,
          125,
          126,
          127,
          128,
          129,
          130,
          131,
          132,
          133,
          134,
          135,
          136,
          137,
          138,
          139,
          140,
          141,
          142,
          143,
          144,
          145,
          146,
          147,
          148,
          149,
          150,
          151,
          152,
          153,
          154,
          155,
          156,
          157,
          158,
          159,
          160,
          161,
          162,
          163,
          164,
          165,
          166,
          167,
          168,
          169,
          170,
          171,
          172,
          173,
          174,
          175,
          176,
          177,
          178,
          179,
          180,
          181,
          182,
          183,
          184,
          185,
          186,
          187,
          188,
          189,
          190,
          191,
          192,
          193,
          194,
          195,
          196,
          197,
          198,
          199,
          200,
          201,
          202,
          203,
          204,
          205,
          206,
          207,
          208,
          209,
          210,
          211,
          212,
          213,
          214,
          215,
          216,
          217,
          218,
          219,
          220,
          221,
          222,
          223,
          224,
          225,
          226,
          227,
          228,
          229,
          230,
          231,
          232,
          233,
          234,
          235,
          236,
          237,
          238,
          239,
          240,
          241,
          242,
          243,
          244,
          245,
          246,
          247,
          248,
          249,
          250,
          251,
          252,
          253,
          254,
          255,
          256,
          257,
          258,
          259,
          260,
          261,
          262,
          263,
          264,
          265,
          266,
          267,
          268,
          269,
          270,
          271,
          272,
          273,
          274,
          275,
          276,
          277,
          278,
          279,
          280,
          281,
          282,
          283,
          284,
          285,
          286,
          287,
          288,
          289,
          290,
          291,
          292,
          293,
          294,
          295,
          296,
          297,
          298,
          299,
          300,
          301,
          302,
          303,
          304,
          305,
          306,
          307,
          308,
          309,
          310,
          311,
          312,
          313,
          314,
          315,
          316,
          317,
          318,
          319,
          320,
          321,
          322,
          323,
          324,
          325,
          326,
          327,
          328,
          329,
          330,
          331,
          332,
          333,
          334,
          335,
          336,
          337,
          338,
          339,
          340,
          341,
          342,
          343,
          344,
          345,
          346,
          347,
          348,
          349,
          350,
          351,
          352,
          353,
          354,
          355,
          356,
          357,
          358,
          359,
          360,
          361,
          362,
          363,
          364,
          365,
          366,
          367,
          368,
          369,
          370,
          371,
          372,
          373,
          374,
          375,
          376,
          377,
          378,
          379,
          380,
          381,
          382,
          383,
          384,
          385,
          386,
          387,
          388,
          389,
          390,
          391,
          392,
          393,
          394,
          395,
          396,
          397,
          398,
          399,
          400,
          401,
          402,
          403,
          404,
          405,
          406,
          407,
          408,
          409,
          410,
          411,
          412,
          413,
          414,
          415,
          416,
          417,
          418,
          419,
          420,
          421,
          422,
          423,
          424,
          425,
          426,
          427,
          428,
          429,
          430,
          431,
          432,
          433,
          434,
          435,
          436,
          437,
          438,
          439,
          440,
          441,
          442,
          443,
          444,
          445,
          446,
          447,
          448,
          449,
          450,
          451,
          452,
          453,
          454,
          455,
          456,
          457,
          458,
          459,
          460,
          461,
          462,
          463,
          464,
          465,
          466,
          467,
          468,
          469,
          470,
          471,
          472,
          473,
          474,
          475,
          476,
          477,
          478,
          479,
          480,
          481,
          482,
          483,
          484,
          485,
          486,
          487,
          488,
          489,
          490,
          491,
          492,
          493,
          494,
          495,
          496,
          497,
          498,
          499
         ],
         "xaxis": "x",
         "y": [
          0.9154474139213562,
          0.8081580996513367,
          0.7214661240577698,
          0.6562101244926453,
          0.6117313504219055,
          0.5857383012771606,
          0.5745750665664673,
          0.5738409757614136,
          0.5791676044464111,
          0.5868669748306274,
          0.5942522287368774,
          0.599647045135498,
          0.602229118347168,
          0.6018064618110657,
          0.5986169576644897,
          0.5931698083877563,
          0.5861327648162842,
          0.5782212018966675,
          0.5701620578765869,
          0.5626100897789001,
          0.5560985207557678,
          0.5509893894195557,
          0.5474454164505005,
          0.5454124808311462,
          0.5446414947509766,
          0.544736921787262,
          0.5452290773391724,
          0.5456582903862,
          0.5456523299217224,
          0.5449784994125366,
          0.5435628890991211,
          0.541479229927063,
          0.5389118194580078,
          0.5361028909683228,
          0.5332995653152466,
          0.5307086706161499,
          0.5284708738327026,
          0.526645839214325,
          0.5252189636230469,
          0.5241163969039917,
          0.5232274532318115,
          0.5224299430847168,
          0.5216135382652283,
          0.520696759223938,
          0.5196341276168823,
          0.5184190273284912,
          0.5170766711235046,
          0.5156558156013489,
          0.5142156481742859,
          0.5128147006034851,
          0.5115007162094116,
          0.510301947593689,
          0.509225070476532,
          0.5082565546035767,
          0.5073682069778442,
          0.5065247416496277,
          0.5056915283203125,
          0.5048414468765259,
          0.5039591789245605,
          0.5030425786972046,
          0.50210040807724,
          0.5011489391326904,
          0.5002071261405945,
          0.4992918074131012,
          0.4984145164489746,
          0.497580349445343,
          0.4967871606349945,
          0.49602803587913513,
          0.4952930510044098,
          0.4945717751979828,
          0.4938558042049408,
          0.49314022064208984,
          0.4924233853816986,
          0.49170756340026855,
          0.4909970164299011,
          0.49029701948165894,
          0.489612340927124,
          0.4889463484287262,
          0.4883003830909729,
          0.4876736104488373,
          0.4870639443397522,
          0.4864684045314789,
          0.485883891582489,
          0.48530787229537964,
          0.48473891615867615,
          0.4841766953468323,
          0.48362159729003906,
          0.4830750524997711,
          0.4825383126735687,
          0.4820125102996826,
          0.48149818181991577,
          0.4809952676296234,
          0.48050323128700256,
          0.48002108931541443,
          0.47954779863357544,
          0.47908228635787964,
          0.478624165058136,
          0.4781727194786072,
          0.47772806882858276,
          0.47729048132896423,
          0.4768601953983307,
          0.47643765807151794,
          0.47602301836013794,
          0.4756162166595459,
          0.47521719336509705,
          0.47482556104660034,
          0.4744408130645752,
          0.4740626811981201,
          0.47369080781936646,
          0.4733249247074127,
          0.4729650020599365,
          0.47261112928390503,
          0.47226324677467346,
          0.471921443939209,
          0.4715855121612549,
          0.4712556004524231,
          0.47093138098716736,
          0.4706128239631653,
          0.47029948234558105,
          0.4699912667274475,
          0.4696878492832184,
          0.46938925981521606,
          0.4690953195095062,
          0.4688059687614441,
          0.46852126717567444,
          0.4682411253452301,
          0.467965304851532,
          0.46769410371780396,
          0.4674271047115326,
          0.46716436743736267,
          0.46690574288368225,
          0.46665114164352417,
          0.4664004445075989,
          0.46615368127822876,
          0.46591073274612427,
          0.46567147970199585,
          0.46543580293655396,
          0.46520382165908813,
          0.4649752676486969,
          0.46475014090538025,
          0.46452832221984863,
          0.4643097519874573,
          0.46409425139427185,
          0.46388182044029236,
          0.46367231011390686,
          0.4634656310081482,
          0.4632619321346283,
          0.4630609452724457,
          0.46286287903785706,
          0.4626675546169281,
          0.46247491240501404,
          0.4622848927974701,
          0.46209755539894104,
          0.46191278100013733,
          0.4617305397987366,
          0.4615507125854492,
          0.46137338876724243,
          0.46119850873947144,
          0.46102604269981384,
          0.4608559012413025,
          0.46068811416625977,
          0.4605225622653961,
          0.4603590965270996,
          0.4601977467536926,
          0.46003836393356323,
          0.459881067276001,
          0.45972567796707153,
          0.4595722258090973,
          0.459420770406723,
          0.45927125215530396,
          0.4591237008571625,
          0.4589781165122986,
          0.4588344693183899,
          0.4586926996707916,
          0.458552747964859,
          0.45841464400291443,
          0.4582783579826355,
          0.45814380049705505,
          0.4580109119415283,
          0.4578796327114105,
          0.45775002241134644,
          0.4576219916343689,
          0.4574955105781555,
          0.4573706090450287,
          0.4572471082210541,
          0.45712509751319885,
          0.4570045471191406,
          0.4568854868412018,
          0.4567677974700928,
          0.45665162801742554,
          0.4565368592739105,
          0.4564235806465149,
          0.4563117027282715,
          0.45620131492614746,
          0.45609235763549805,
          0.45598477125167847,
          0.4558785855770111,
          0.45577389001846313,
          0.45567044615745544,
          0.45556846261024475,
          0.4554678797721863,
          0.45536866784095764,
          0.4552707076072693,
          0.45517411828041077,
          0.45507869124412537,
          0.454984575510025,
          0.4548916816711426,
          0.45479995012283325,
          0.4547094404697418,
          0.4546201825141907,
          0.4545319676399231,
          0.45444488525390625,
          0.4543589651584625,
          0.4542740285396576,
          0.454190194606781,
          0.4541073441505432,
          0.4540255069732666,
          0.45394468307495117,
          0.45386481285095215,
          0.45378589630126953,
          0.45370787382125854,
          0.4536307752132416,
          0.4535546898841858,
          0.45347943902015686,
          0.45340508222579956,
          0.4533316493034363,
          0.45325908064842224,
          0.45318740606307983,
          0.45311665534973145,
          0.4530467391014099,
          0.45297771692276,
          0.45290952920913696,
          0.4528421461582184,
          0.45277562737464905,
          0.4527099132537842,
          0.4526450037956238,
          0.4525807797908783,
          0.45251742005348206,
          0.45245465636253357,
          0.45239266753196716,
          0.45233145356178284,
          0.4522709846496582,
          0.4522112011909485,
          0.45215219259262085,
          0.4520938992500305,
          0.45203620195388794,
          0.4519791603088379,
          0.451922744512558,
          0.4518669545650482,
          0.4518117904663086,
          0.4517572820186615,
          0.4517034590244293,
          0.4516502022743225,
          0.4515976011753082,
          0.4515456557273865,
          0.4514943063259125,
          0.451443612575531,
          0.4513935446739197,
          0.4513441026210785,
          0.45129522681236267,
          0.45124703645706177,
          0.45119935274124146,
          0.4511522352695465,
          0.4511057734489441,
          0.4510599672794342,
          0.45101481676101685,
          0.45097023248672485,
          0.45092615485191345,
          0.45088261365890503,
          0.4508396089076996,
          0.4507971704006195,
          0.45075520873069763,
          0.45071378350257874,
          0.4506729245185852,
          0.4506324827671051,
          0.4505924582481384,
          0.45055288076400757,
          0.4505137503147125,
          0.4504750669002533,
          0.45043689012527466,
          0.4503990113735199,
          0.4503616392612457,
          0.4503247141838074,
          0.45028820633888245,
          0.4502522051334381,
          0.4502165913581848,
          0.45018142461776733,
          0.45014676451683044,
          0.4501124918460846,
          0.4500786364078522,
          0.4500451982021332,
          0.45001235604286194,
          0.4499799609184265,
          0.4499480128288269,
          0.4499165415763855,
          0.4498855173587799,
          0.4498547613620758,
          0.44982439279556274,
          0.4497944414615631,
          0.44976481795310974,
          0.449735552072525,
          0.44970670342445374,
          0.4496781826019287,
          0.44964998960494995,
          0.44962215423583984,
          0.4495946764945984,
          0.4495674967765808,
          0.4495407044887543,
          0.4495142996311188,
          0.4494880139827728,
          0.44946202635765076,
          0.4494362771511078,
          0.4494108557701111,
          0.44938579201698303,
          0.4493609368801117,
          0.449336439371109,
          0.44931215047836304,
          0.4492882192134857,
          0.4492645859718323,
          0.4492412209510803,
          0.4492180347442627,
          0.44919508695602417,
          0.44917234778404236,
          0.4491499960422516,
          0.44912782311439514,
          0.4491058886051178,
          0.4490842819213867,
          0.44906288385391235,
          0.4490417540073395,
          0.44902095198631287,
          0.44900035858154297,
          0.4489799439907074,
          0.44895991683006287,
          0.44894009828567505,
          0.4489205479621887,
          0.4489012658596039,
          0.44888219237327576,
          0.44886335730552673,
          0.448844850063324,
          0.44882646203041077,
          0.44880837202072144,
          0.4487905502319336,
          0.4487728476524353,
          0.4487554430961609,
          0.4487382769584656,
          0.448721319437027,
          0.4487045407295227,
          0.44868797063827515,
          0.4486716389656067,
          0.44865551590919495,
          0.44863957166671753,
          0.4486238956451416,
          0.44860830903053284,
          0.44859299063682556,
          0.4485778212547302,
          0.4485628604888916,
          0.4485480785369873,
          0.4485335350036621,
          0.4485190808773041,
          0.44850483536720276,
          0.4484906792640686,
          0.4484767019748688,
          0.4484627842903137,
          0.4484490752220154,
          0.44843554496765137,
          0.44842204451560974,
          0.4484087824821472,
          0.44839563965797424,
          0.448382705450058,
          0.4483698904514313,
          0.4483572542667389,
          0.44834470748901367,
          0.44833239912986755,
          0.448320209980011,
          0.44830814003944397,
          0.4482962489128113,
          0.44828447699546814,
          0.4482728838920593,
          0.44826140999794006,
          0.44825005531311035,
          0.4482388496398926,
          0.44822773337364197,
          0.4482167363166809,
          0.4482057988643646,
          0.4481949210166931,
          0.44818416237831116,
          0.44817352294921875,
          0.4481630325317383,
          0.448152631521225,
          0.4481424391269684,
          0.4481324255466461,
          0.4481225609779358,
          0.4481127858161926,
          0.44810324907302856,
          0.4480937421321869,
          0.44808441400527954,
          0.44807523488998413,
          0.44806617498397827,
          0.44805723428726196,
          0.44804835319519043,
          0.44803959131240845,
          0.4480310082435608,
          0.44802242517471313,
          0.4480138421058655,
          0.448005348443985,
          0.44799691438674927,
          0.4479885697364807,
          0.44798025488853455,
          0.44797199964523315,
          0.4479638636112213,
          0.44795578718185425,
          0.44794780015945435,
          0.447939932346344,
          0.44793209433555603,
          0.44792431592941284,
          0.44791674613952637,
          0.4479092061519623,
          0.44790172576904297,
          0.4478943347930908,
          0.4478870928287506,
          0.4478798806667328,
          0.44787272810935974,
          0.4478657841682434,
          0.4478588104248047,
          0.4478519558906555,
          0.4478451609611511,
          0.4478384554386139,
          0.4478318691253662,
          0.44782528281211853,
          0.4478188157081604,
          0.44781240820884705,
          0.44780606031417847,
          0.44779983162879944,
          0.4477936327457428,
          0.44778746366500854,
          0.44778141379356384,
          0.44777536392211914,
          0.4477694034576416,
          0.44776350259780884,
          0.44775763154029846,
          0.4477519094944,
          0.4477461874485016,
          0.44774049520492554,
          0.44773489236831665,
          0.44772934913635254,
          0.4477238655090332,
          0.44771844148635864,
          0.44771304726600647,
          0.4477077126502991,
          0.44770246744155884,
          0.447697252035141,
          0.4476920962333679,
          0.4476870000362396,
          0.44768190383911133,
          0.4476768970489502,
          0.44767194986343384,
          0.44766706228256226,
          0.44766220450401306,
          0.44765740633010864,
          0.44765257835388184,
          0.44764795899391174,
          0.4476432204246521,
          0.447638601064682,
          0.4476340711116791,
          0.44762951135635376,
          0.447625070810318,
          0.44762057065963745,
          0.4476161003112793,
          0.4476117491722107,
          0.4476074278354645,
          0.4476030766963959,
          0.4475988447666168,
          0.447594553232193,
          0.4475904405117035,
          0.4475862979888916,
          0.4475821554660797,
          0.4475780427455902,
          0.4475739896297455,
          0.4475700259208679,
          0.44756603240966797,
          0.447562038898468,
          0.44755810499191284,
          0.44755426049232483,
          0.44755038619041443,
          0.4475465714931488,
          0.4475427567958832,
          0.44753900170326233,
          0.4475351870059967,
          0.4475313127040863,
          0.44752755761146545,
          0.4475235939025879,
          0.4475196301937103,
          0.44751566648483276,
          0.4475116729736328,
          0.4475076198577881,
          0.44750362634658813,
          0.4474996030330658,
          0.447495698928833,
          0.44749173521995544,
          0.4474877715110779
         ],
         "yaxis": "y"
        }
       ],
       "layout": {
        "legend": {
         "tracegroupgap": 0
        },
        "margin": {
         "t": 60
        },
        "template": {
         "data": {
          "bar": [
           {
            "error_x": {
             "color": "#2a3f5f"
            },
            "error_y": {
             "color": "#2a3f5f"
            },
            "marker": {
             "line": {
              "color": "#E5ECF6",
              "width": 0.5
             },
             "pattern": {
              "fillmode": "overlay",
              "size": 10,
              "solidity": 0.2
             }
            },
            "type": "bar"
           }
          ],
          "barpolar": [
           {
            "marker": {
             "line": {
              "color": "#E5ECF6",
              "width": 0.5
             },
             "pattern": {
              "fillmode": "overlay",
              "size": 10,
              "solidity": 0.2
             }
            },
            "type": "barpolar"
           }
          ],
          "carpet": [
           {
            "aaxis": {
             "endlinecolor": "#2a3f5f",
             "gridcolor": "white",
             "linecolor": "white",
             "minorgridcolor": "white",
             "startlinecolor": "#2a3f5f"
            },
            "baxis": {
             "endlinecolor": "#2a3f5f",
             "gridcolor": "white",
             "linecolor": "white",
             "minorgridcolor": "white",
             "startlinecolor": "#2a3f5f"
            },
            "type": "carpet"
           }
          ],
          "choropleth": [
           {
            "colorbar": {
             "outlinewidth": 0,
             "ticks": ""
            },
            "type": "choropleth"
           }
          ],
          "contour": [
           {
            "colorbar": {
             "outlinewidth": 0,
             "ticks": ""
            },
            "colorscale": [
             [
              0,
              "#0d0887"
             ],
             [
              0.1111111111111111,
              "#46039f"
             ],
             [
              0.2222222222222222,
              "#7201a8"
             ],
             [
              0.3333333333333333,
              "#9c179e"
             ],
             [
              0.4444444444444444,
              "#bd3786"
             ],
             [
              0.5555555555555556,
              "#d8576b"
             ],
             [
              0.6666666666666666,
              "#ed7953"
             ],
             [
              0.7777777777777778,
              "#fb9f3a"
             ],
             [
              0.8888888888888888,
              "#fdca26"
             ],
             [
              1,
              "#f0f921"
             ]
            ],
            "type": "contour"
           }
          ],
          "contourcarpet": [
           {
            "colorbar": {
             "outlinewidth": 0,
             "ticks": ""
            },
            "type": "contourcarpet"
           }
          ],
          "heatmap": [
           {
            "colorbar": {
             "outlinewidth": 0,
             "ticks": ""
            },
            "colorscale": [
             [
              0,
              "#0d0887"
             ],
             [
              0.1111111111111111,
              "#46039f"
             ],
             [
              0.2222222222222222,
              "#7201a8"
             ],
             [
              0.3333333333333333,
              "#9c179e"
             ],
             [
              0.4444444444444444,
              "#bd3786"
             ],
             [
              0.5555555555555556,
              "#d8576b"
             ],
             [
              0.6666666666666666,
              "#ed7953"
             ],
             [
              0.7777777777777778,
              "#fb9f3a"
             ],
             [
              0.8888888888888888,
              "#fdca26"
             ],
             [
              1,
              "#f0f921"
             ]
            ],
            "type": "heatmap"
           }
          ],
          "heatmapgl": [
           {
            "colorbar": {
             "outlinewidth": 0,
             "ticks": ""
            },
            "colorscale": [
             [
              0,
              "#0d0887"
             ],
             [
              0.1111111111111111,
              "#46039f"
             ],
             [
              0.2222222222222222,
              "#7201a8"
             ],
             [
              0.3333333333333333,
              "#9c179e"
             ],
             [
              0.4444444444444444,
              "#bd3786"
             ],
             [
              0.5555555555555556,
              "#d8576b"
             ],
             [
              0.6666666666666666,
              "#ed7953"
             ],
             [
              0.7777777777777778,
              "#fb9f3a"
             ],
             [
              0.8888888888888888,
              "#fdca26"
             ],
             [
              1,
              "#f0f921"
             ]
            ],
            "type": "heatmapgl"
           }
          ],
          "histogram": [
           {
            "marker": {
             "pattern": {
              "fillmode": "overlay",
              "size": 10,
              "solidity": 0.2
             }
            },
            "type": "histogram"
           }
          ],
          "histogram2d": [
           {
            "colorbar": {
             "outlinewidth": 0,
             "ticks": ""
            },
            "colorscale": [
             [
              0,
              "#0d0887"
             ],
             [
              0.1111111111111111,
              "#46039f"
             ],
             [
              0.2222222222222222,
              "#7201a8"
             ],
             [
              0.3333333333333333,
              "#9c179e"
             ],
             [
              0.4444444444444444,
              "#bd3786"
             ],
             [
              0.5555555555555556,
              "#d8576b"
             ],
             [
              0.6666666666666666,
              "#ed7953"
             ],
             [
              0.7777777777777778,
              "#fb9f3a"
             ],
             [
              0.8888888888888888,
              "#fdca26"
             ],
             [
              1,
              "#f0f921"
             ]
            ],
            "type": "histogram2d"
           }
          ],
          "histogram2dcontour": [
           {
            "colorbar": {
             "outlinewidth": 0,
             "ticks": ""
            },
            "colorscale": [
             [
              0,
              "#0d0887"
             ],
             [
              0.1111111111111111,
              "#46039f"
             ],
             [
              0.2222222222222222,
              "#7201a8"
             ],
             [
              0.3333333333333333,
              "#9c179e"
             ],
             [
              0.4444444444444444,
              "#bd3786"
             ],
             [
              0.5555555555555556,
              "#d8576b"
             ],
             [
              0.6666666666666666,
              "#ed7953"
             ],
             [
              0.7777777777777778,
              "#fb9f3a"
             ],
             [
              0.8888888888888888,
              "#fdca26"
             ],
             [
              1,
              "#f0f921"
             ]
            ],
            "type": "histogram2dcontour"
           }
          ],
          "mesh3d": [
           {
            "colorbar": {
             "outlinewidth": 0,
             "ticks": ""
            },
            "type": "mesh3d"
           }
          ],
          "parcoords": [
           {
            "line": {
             "colorbar": {
              "outlinewidth": 0,
              "ticks": ""
             }
            },
            "type": "parcoords"
           }
          ],
          "pie": [
           {
            "automargin": true,
            "type": "pie"
           }
          ],
          "scatter": [
           {
            "fillpattern": {
             "fillmode": "overlay",
             "size": 10,
             "solidity": 0.2
            },
            "type": "scatter"
           }
          ],
          "scatter3d": [
           {
            "line": {
             "colorbar": {
              "outlinewidth": 0,
              "ticks": ""
             }
            },
            "marker": {
             "colorbar": {
              "outlinewidth": 0,
              "ticks": ""
             }
            },
            "type": "scatter3d"
           }
          ],
          "scattercarpet": [
           {
            "marker": {
             "colorbar": {
              "outlinewidth": 0,
              "ticks": ""
             }
            },
            "type": "scattercarpet"
           }
          ],
          "scattergeo": [
           {
            "marker": {
             "colorbar": {
              "outlinewidth": 0,
              "ticks": ""
             }
            },
            "type": "scattergeo"
           }
          ],
          "scattergl": [
           {
            "marker": {
             "colorbar": {
              "outlinewidth": 0,
              "ticks": ""
             }
            },
            "type": "scattergl"
           }
          ],
          "scattermapbox": [
           {
            "marker": {
             "colorbar": {
              "outlinewidth": 0,
              "ticks": ""
             }
            },
            "type": "scattermapbox"
           }
          ],
          "scatterpolar": [
           {
            "marker": {
             "colorbar": {
              "outlinewidth": 0,
              "ticks": ""
             }
            },
            "type": "scatterpolar"
           }
          ],
          "scatterpolargl": [
           {
            "marker": {
             "colorbar": {
              "outlinewidth": 0,
              "ticks": ""
             }
            },
            "type": "scatterpolargl"
           }
          ],
          "scatterternary": [
           {
            "marker": {
             "colorbar": {
              "outlinewidth": 0,
              "ticks": ""
             }
            },
            "type": "scatterternary"
           }
          ],
          "surface": [
           {
            "colorbar": {
             "outlinewidth": 0,
             "ticks": ""
            },
            "colorscale": [
             [
              0,
              "#0d0887"
             ],
             [
              0.1111111111111111,
              "#46039f"
             ],
             [
              0.2222222222222222,
              "#7201a8"
             ],
             [
              0.3333333333333333,
              "#9c179e"
             ],
             [
              0.4444444444444444,
              "#bd3786"
             ],
             [
              0.5555555555555556,
              "#d8576b"
             ],
             [
              0.6666666666666666,
              "#ed7953"
             ],
             [
              0.7777777777777778,
              "#fb9f3a"
             ],
             [
              0.8888888888888888,
              "#fdca26"
             ],
             [
              1,
              "#f0f921"
             ]
            ],
            "type": "surface"
           }
          ],
          "table": [
           {
            "cells": {
             "fill": {
              "color": "#EBF0F8"
             },
             "line": {
              "color": "white"
             }
            },
            "header": {
             "fill": {
              "color": "#C8D4E3"
             },
             "line": {
              "color": "white"
             }
            },
            "type": "table"
           }
          ]
         },
         "layout": {
          "annotationdefaults": {
           "arrowcolor": "#2a3f5f",
           "arrowhead": 0,
           "arrowwidth": 1
          },
          "autotypenumbers": "strict",
          "coloraxis": {
           "colorbar": {
            "outlinewidth": 0,
            "ticks": ""
           }
          },
          "colorscale": {
           "diverging": [
            [
             0,
             "#8e0152"
            ],
            [
             0.1,
             "#c51b7d"
            ],
            [
             0.2,
             "#de77ae"
            ],
            [
             0.3,
             "#f1b6da"
            ],
            [
             0.4,
             "#fde0ef"
            ],
            [
             0.5,
             "#f7f7f7"
            ],
            [
             0.6,
             "#e6f5d0"
            ],
            [
             0.7,
             "#b8e186"
            ],
            [
             0.8,
             "#7fbc41"
            ],
            [
             0.9,
             "#4d9221"
            ],
            [
             1,
             "#276419"
            ]
           ],
           "sequential": [
            [
             0,
             "#0d0887"
            ],
            [
             0.1111111111111111,
             "#46039f"
            ],
            [
             0.2222222222222222,
             "#7201a8"
            ],
            [
             0.3333333333333333,
             "#9c179e"
            ],
            [
             0.4444444444444444,
             "#bd3786"
            ],
            [
             0.5555555555555556,
             "#d8576b"
            ],
            [
             0.6666666666666666,
             "#ed7953"
            ],
            [
             0.7777777777777778,
             "#fb9f3a"
            ],
            [
             0.8888888888888888,
             "#fdca26"
            ],
            [
             1,
             "#f0f921"
            ]
           ],
           "sequentialminus": [
            [
             0,
             "#0d0887"
            ],
            [
             0.1111111111111111,
             "#46039f"
            ],
            [
             0.2222222222222222,
             "#7201a8"
            ],
            [
             0.3333333333333333,
             "#9c179e"
            ],
            [
             0.4444444444444444,
             "#bd3786"
            ],
            [
             0.5555555555555556,
             "#d8576b"
            ],
            [
             0.6666666666666666,
             "#ed7953"
            ],
            [
             0.7777777777777778,
             "#fb9f3a"
            ],
            [
             0.8888888888888888,
             "#fdca26"
            ],
            [
             1,
             "#f0f921"
            ]
           ]
          },
          "colorway": [
           "#636efa",
           "#EF553B",
           "#00cc96",
           "#ab63fa",
           "#FFA15A",
           "#19d3f3",
           "#FF6692",
           "#B6E880",
           "#FF97FF",
           "#FECB52"
          ],
          "font": {
           "color": "#2a3f5f"
          },
          "geo": {
           "bgcolor": "white",
           "lakecolor": "white",
           "landcolor": "#E5ECF6",
           "showlakes": true,
           "showland": true,
           "subunitcolor": "white"
          },
          "hoverlabel": {
           "align": "left"
          },
          "hovermode": "closest",
          "mapbox": {
           "style": "light"
          },
          "paper_bgcolor": "white",
          "plot_bgcolor": "#E5ECF6",
          "polar": {
           "angularaxis": {
            "gridcolor": "white",
            "linecolor": "white",
            "ticks": ""
           },
           "bgcolor": "#E5ECF6",
           "radialaxis": {
            "gridcolor": "white",
            "linecolor": "white",
            "ticks": ""
           }
          },
          "scene": {
           "xaxis": {
            "backgroundcolor": "#E5ECF6",
            "gridcolor": "white",
            "gridwidth": 2,
            "linecolor": "white",
            "showbackground": true,
            "ticks": "",
            "zerolinecolor": "white"
           },
           "yaxis": {
            "backgroundcolor": "#E5ECF6",
            "gridcolor": "white",
            "gridwidth": 2,
            "linecolor": "white",
            "showbackground": true,
            "ticks": "",
            "zerolinecolor": "white"
           },
           "zaxis": {
            "backgroundcolor": "#E5ECF6",
            "gridcolor": "white",
            "gridwidth": 2,
            "linecolor": "white",
            "showbackground": true,
            "ticks": "",
            "zerolinecolor": "white"
           }
          },
          "shapedefaults": {
           "line": {
            "color": "#2a3f5f"
           }
          },
          "ternary": {
           "aaxis": {
            "gridcolor": "white",
            "linecolor": "white",
            "ticks": ""
           },
           "baxis": {
            "gridcolor": "white",
            "linecolor": "white",
            "ticks": ""
           },
           "bgcolor": "#E5ECF6",
           "caxis": {
            "gridcolor": "white",
            "linecolor": "white",
            "ticks": ""
           }
          },
          "title": {
           "x": 0.05
          },
          "xaxis": {
           "automargin": true,
           "gridcolor": "white",
           "linecolor": "white",
           "ticks": "",
           "title": {
            "standoff": 15
           },
           "zerolinecolor": "white",
           "zerolinewidth": 2
          },
          "yaxis": {
           "automargin": true,
           "gridcolor": "white",
           "linecolor": "white",
           "ticks": "",
           "title": {
            "standoff": 15
           },
           "zerolinecolor": "white",
           "zerolinewidth": 2
          }
         }
        },
        "xaxis": {
         "anchor": "y",
         "domain": [
          0,
          1
         ],
         "title": {
          "text": "index"
         }
        },
        "yaxis": {
         "anchor": "x",
         "domain": [
          0,
          1
         ],
         "title": {
          "text": "p_loss"
         }
        }
       }
      }
     },
     "metadata": {},
     "output_type": "display_data"
    },
    {
     "data": {
      "application/vnd.plotly.v1+json": {
       "config": {
        "plotlyServerURL": "https://plot.ly"
       },
       "data": [
        {
         "hovertemplate": "index=%{x}<br>p_loss=%{y}<extra></extra>",
         "legendgroup": "",
         "marker": {
          "color": "#636efa",
          "symbol": "circle"
         },
         "mode": "markers",
         "name": "",
         "orientation": "v",
         "showlegend": false,
         "type": "scatter",
         "x": [
          0,
          1,
          2,
          3,
          4,
          5,
          6,
          7,
          8,
          9,
          10,
          11,
          12,
          13,
          14,
          15,
          16,
          17,
          18,
          19,
          20,
          21,
          22,
          23,
          24,
          25,
          26,
          27,
          28,
          29,
          30,
          31,
          32,
          33,
          34,
          35,
          36,
          37,
          38,
          39,
          40,
          41,
          42,
          43,
          44,
          45,
          46,
          47,
          48,
          49,
          50,
          51,
          52,
          53,
          54,
          55,
          56,
          57,
          58,
          59,
          60,
          61,
          62,
          63,
          64,
          65,
          66,
          67,
          68,
          69,
          70,
          71,
          72,
          73,
          74,
          75,
          76,
          77,
          78,
          79,
          80,
          81,
          82,
          83,
          84,
          85,
          86,
          87,
          88,
          89,
          90,
          91,
          92,
          93,
          94,
          95,
          96,
          97,
          98,
          99,
          100,
          101,
          102,
          103,
          104,
          105,
          106,
          107,
          108,
          109,
          110,
          111,
          112,
          113,
          114,
          115,
          116,
          117,
          118,
          119,
          120,
          121,
          122,
          123,
          124,
          125,
          126,
          127,
          128,
          129,
          130,
          131,
          132,
          133,
          134,
          135,
          136,
          137,
          138,
          139,
          140,
          141,
          142,
          143,
          144,
          145,
          146,
          147,
          148,
          149,
          150,
          151,
          152,
          153,
          154,
          155,
          156,
          157,
          158,
          159,
          160,
          161,
          162,
          163,
          164,
          165,
          166,
          167,
          168,
          169,
          170,
          171,
          172,
          173,
          174,
          175,
          176,
          177,
          178,
          179,
          180,
          181,
          182,
          183,
          184,
          185,
          186,
          187,
          188,
          189,
          190,
          191,
          192,
          193,
          194,
          195,
          196,
          197,
          198,
          199,
          200,
          201,
          202,
          203,
          204,
          205,
          206,
          207,
          208,
          209,
          210,
          211,
          212,
          213,
          214,
          215,
          216,
          217,
          218,
          219,
          220,
          221,
          222,
          223,
          224,
          225,
          226,
          227,
          228,
          229,
          230,
          231,
          232,
          233,
          234,
          235,
          236,
          237,
          238,
          239,
          240,
          241,
          242,
          243,
          244,
          245,
          246,
          247,
          248,
          249,
          250,
          251,
          252,
          253,
          254,
          255,
          256,
          257,
          258,
          259,
          260,
          261,
          262,
          263,
          264,
          265,
          266,
          267,
          268,
          269,
          270,
          271,
          272,
          273,
          274,
          275,
          276,
          277,
          278,
          279,
          280,
          281,
          282,
          283,
          284,
          285,
          286,
          287,
          288,
          289,
          290,
          291,
          292,
          293,
          294,
          295,
          296,
          297,
          298,
          299,
          300,
          301,
          302,
          303,
          304,
          305,
          306,
          307,
          308,
          309,
          310,
          311,
          312,
          313,
          314,
          315,
          316,
          317,
          318,
          319,
          320,
          321,
          322,
          323,
          324,
          325,
          326,
          327,
          328,
          329,
          330,
          331,
          332,
          333,
          334,
          335,
          336,
          337,
          338,
          339,
          340,
          341,
          342,
          343,
          344,
          345,
          346,
          347,
          348,
          349,
          350,
          351,
          352,
          353,
          354,
          355,
          356,
          357,
          358,
          359,
          360,
          361,
          362,
          363,
          364,
          365,
          366,
          367,
          368,
          369,
          370,
          371,
          372,
          373,
          374,
          375,
          376,
          377,
          378,
          379,
          380,
          381,
          382,
          383,
          384,
          385,
          386,
          387,
          388,
          389,
          390,
          391,
          392,
          393,
          394,
          395,
          396,
          397,
          398,
          399,
          400,
          401,
          402,
          403,
          404,
          405,
          406,
          407,
          408,
          409,
          410,
          411,
          412,
          413,
          414,
          415,
          416,
          417,
          418,
          419,
          420,
          421,
          422,
          423,
          424,
          425,
          426,
          427,
          428,
          429,
          430,
          431,
          432,
          433,
          434,
          435,
          436,
          437,
          438,
          439,
          440,
          441,
          442,
          443,
          444,
          445,
          446,
          447,
          448,
          449,
          450,
          451,
          452,
          453,
          454,
          455,
          456,
          457,
          458,
          459,
          460,
          461,
          462,
          463,
          464,
          465,
          466,
          467,
          468,
          469,
          470,
          471,
          472,
          473,
          474,
          475,
          476,
          477,
          478,
          479,
          480,
          481,
          482,
          483,
          484,
          485,
          486,
          487,
          488,
          489,
          490,
          491,
          492,
          493,
          494,
          495,
          496,
          497,
          498,
          499
         ],
         "xaxis": "x",
         "y": [
          0.6248844265937805,
          0.6099796891212463,
          0.6053140759468079,
          0.5997104048728943,
          0.591636598110199,
          0.5829035639762878,
          0.5750055313110352,
          0.5684863328933716,
          0.5629081130027771,
          0.5574005842208862,
          0.5514870882034302,
          0.545365571975708,
          0.5395440459251404,
          0.5343787670135498,
          0.5298494100570679,
          0.5256587266921997,
          0.5215135812759399,
          0.5173280239105225,
          0.5132291913032532,
          0.5094138383865356,
          0.5059934854507446,
          0.5029218792915344,
          0.5000423789024353,
          0.4972200393676758,
          0.4944368004798889,
          0.49177607893943787,
          0.48933178186416626,
          0.48712754249572754,
          0.4851066470146179,
          0.4831860065460205,
          0.48131904006004333,
          0.4795193672180176,
          0.47783249616622925,
          0.4762905240058899,
          0.4748827815055847,
          0.4735639691352844,
          0.4722924828529358,
          0.4710613191127777,
          0.46989312767982483,
          0.46881103515625,
          0.4678153395652771,
          0.46688342094421387,
          0.46598872542381287,
          0.4651211202144623,
          0.46428918838500977,
          0.4635074734687805,
          0.4627806544303894,
          0.4620996117591858,
          0.4614495635032654,
          0.4608222544193268,
          0.4602205157279968,
          0.45965224504470825,
          0.4591209292411804,
          0.4586215019226074,
          0.4581449031829834,
          0.4576854109764099,
          0.4572443962097168,
          0.4568263590335846,
          0.45643359422683716,
          0.45606374740600586,
          0.4557117521762848,
          0.4553745687007904,
          0.45505276322364807,
          0.4547482430934906,
          0.45446091890335083,
          0.45418819785118103,
          0.4539267420768738,
          0.4536753296852112,
          0.45343440771102905,
          0.4532051682472229,
          0.45298758149147034,
          0.452780157327652,
          0.45258116722106934,
          0.4523901045322418,
          0.4522075057029724,
          0.4520336091518402,
          0.4518674314022064,
          0.4517078995704651,
          0.4515538215637207,
          0.45140498876571655,
          0.4512616991996765,
          0.451124370098114,
          0.4509925842285156,
          0.45086556673049927,
          0.4507429599761963,
          0.45062464475631714,
          0.45051059126853943,
          0.4503999650478363,
          0.45029205083847046,
          0.45018666982650757,
          0.45008406043052673,
          0.4499845504760742,
          0.4498881697654724,
          0.4497947096824646,
          0.44970422983169556,
          0.44961661100387573,
          0.4495319724082947,
          0.44945040345191956,
          0.4493716359138489,
          0.44929543137550354,
          0.4492219090461731,
          0.44915103912353516,
          0.4490828514099121,
          0.449017196893692,
          0.44895392656326294,
          0.4488929808139801,
          0.4488341212272644,
          0.4487772583961487,
          0.4487222135066986,
          0.448668897151947,
          0.44861721992492676,
          0.44856730103492737,
          0.4485189914703369,
          0.4484724998474121,
          0.44842758774757385,
          0.44838419556617737,
          0.44834238290786743,
          0.4483019709587097,
          0.448263019323349,
          0.44822531938552856,
          0.4481888711452484,
          0.44815364480018616,
          0.44811949133872986,
          0.4480865001678467,
          0.44805461168289185,
          0.44802379608154297,
          0.44799408316612244,
          0.4479653239250183,
          0.44793766736984253,
          0.447910875082016,
          0.4478851854801178,
          0.4478604197502136,
          0.44783657789230347,
          0.4478136897087097,
          0.4477916359901428,
          0.4477704167366028,
          0.44774991273880005,
          0.4477302134037018,
          0.44771116971969604,
          0.4476928114891052,
          0.44767507910728455,
          0.447657972574234,
          0.44764143228530884,
          0.44762539863586426,
          0.4476098418235779,
          0.4475948214530945,
          0.4475801885128021,
          0.4475659728050232,
          0.4475521445274353,
          0.4475387632846832,
          0.44752541184425354,
          0.4475123882293701,
          0.4474993646144867,
          0.44748654961586,
          0.44747376441955566,
          0.4474611282348633,
          0.4474486708641052,
          0.44743627309799194,
          0.44742393493652344,
          0.44741177558898926,
          0.44739970564842224,
          0.4473879337310791,
          0.44737616181373596,
          0.44736456871032715,
          0.44735318422317505,
          0.44734206795692444,
          0.44733113050460815,
          0.44732046127319336,
          0.4473099708557129,
          0.4472997784614563,
          0.44728994369506836,
          0.44728022813796997,
          0.44727081060409546,
          0.44726163148880005,
          0.44725269079208374,
          0.44724398851394653,
          0.44723549485206604,
          0.44722723960876465,
          0.44721919298171997,
          0.44721126556396484,
          0.44720354676246643,
          0.44719594717025757,
          0.4471885561943054,
          0.44718137383461,
          0.4471742510795593,
          0.4471673369407654,
          0.447160542011261,
          0.44715386629104614,
          0.4471472203731537,
          0.44714075326919556,
          0.4471343457698822,
          0.4471280574798584,
          0.44712185859680176,
          0.4471157193183899,
          0.4471096396446228,
          0.44710367918014526,
          0.4470978379249573,
          0.4470919668674469,
          0.4470861554145813,
          0.44708046317100525,
          0.4470748007297516,
          0.4470691680908203,
          0.4470636248588562,
          0.4470581114292145,
          0.44705265760421753,
          0.44704723358154297,
          0.4470418393611908,
          0.4470365047454834,
          0.447031170129776,
          0.44702592492103577,
          0.44702082872390747,
          0.44701576232910156,
          0.4470108151435852,
          0.4470059871673584,
          0.4470011591911316,
          0.44699645042419434,
          0.44699177145957947,
          0.44698721170425415,
          0.4469827115535736,
          0.4469781816005707,
          0.4469738006591797,
          0.4469693601131439,
          0.44696497917175293,
          0.44696059823036194,
          0.44695615768432617,
          0.44695180654525757,
          0.44694748520851135,
          0.4469432234764099,
          0.446939080953598,
          0.4469350278377533,
          0.44693097472190857,
          0.4469269812107086,
          0.44692307710647583,
          0.44691914319992065,
          0.44691529870033264,
          0.446911484003067,
          0.4469076693058014,
          0.44690388441085815,
          0.44690006971359253,
          0.44689616560935974,
          0.4468924105167389,
          0.4468885362148285,
          0.44688472151756287,
          0.44688090682029724,
          0.4468770921230316,
          0.44687318801879883,
          0.4468693137168884,
          0.4468654692173004,
          0.44686159491539,
          0.4468576908111572,
          0.4468538165092468,
          0.4468499720096588,
          0.44684600830078125,
          0.4468421936035156,
          0.44683837890625,
          0.4468345046043396,
          0.44683074951171875,
          0.4468269348144531,
          0.4468231797218323,
          0.44681939482688904,
          0.44681572914123535,
          0.44681206345558167,
          0.446808397769928,
          0.44680482149124146,
          0.44680118560791016,
          0.4467976689338684,
          0.4467941224575043,
          0.4467906355857849,
          0.44678717851638794,
          0.44678372144699097,
          0.44678035378456116,
          0.44677701592445374,
          0.4467736780643463,
          0.4467703402042389,
          0.44676709175109863,
          0.446763813495636,
          0.4467605948448181,
          0.44675740599632263,
          0.44675421714782715,
          0.44675102829933167,
          0.44674795866012573,
          0.446744829416275,
          0.44674187898635864,
          0.4467390477657318,
          0.44673627614974976,
          0.44673365354537964,
          0.4467310905456543,
          0.44672852754592896,
          0.44672608375549316,
          0.4467236399650574,
          0.4467213749885559,
          0.4467189908027649,
          0.44671663641929626,
          0.44671431183815,
          0.446711927652359,
          0.446709543466568,
          0.4467070996761322,
          0.4467046856880188,
          0.44670218229293823,
          0.44669970870018005,
          0.4466971755027771,
          0.446694552898407,
          0.44669198989868164,
          0.4466893672943115,
          0.44668668508529663,
          0.4466840624809265,
          0.446681410074234,
          0.44667863845825195,
          0.44667595624923706,
          0.44667333364486694,
          0.44667068123817444,
          0.44666796922683716,
          0.44666534662246704,
          0.4466627240180969,
          0.44666004180908203,
          0.4466575086116791,
          0.44665488600730896,
          0.4466523230075836,
          0.44664984941482544,
          0.4466473162174225,
          0.4466448426246643,
          0.4466424584388733,
          0.4466400146484375,
          0.4466376304626465,
          0.4466351866722107,
          0.4466329514980316,
          0.4466305673122406,
          0.4466283917427063,
          0.44662609696388245,
          0.44662386178970337,
          0.4466216564178467,
          0.44661951065063477,
          0.4466173052787781,
          0.4466151297092438,
          0.44661298394203186,
          0.44661086797714233,
          0.4466087818145752,
          0.44660669565200806,
          0.4466046392917633,
          0.44660258293151855,
          0.4466005265712738,
          0.44659852981567383,
          0.44659653306007385,
          0.4465945363044739,
          0.4465925693511963,
          0.4465905725955963,
          0.4465886056423187,
          0.4465866684913635,
          0.4465847611427307,
          0.4465827941894531,
          0.4465809464454651,
          0.4465789794921875,
          0.44657713174819946,
          0.44657522439956665,
          0.4465733468532562,
          0.4465715289115906,
          0.4465697407722473,
          0.4465678632259369,
          0.44656604528427124,
          0.44656428694725037,
          0.4465624690055847,
          0.44656071066856384,
          0.44655895233154297,
          0.4465572237968445,
          0.4465555250644684,
          0.4465537965297699,
          0.446552038192749,
          0.4465503692626953,
          0.4465487599372864,
          0.44654709100723267,
          0.44654542207717896,
          0.44654378294944763,
          0.4465421736240387,
          0.4465405344963074,
          0.4465389847755432,
          0.4465373456478119,
          0.4465358257293701,
          0.44653424620628357,
          0.4465327262878418,
          0.4465312063694,
          0.44652968645095825,
          0.4465281367301941,
          0.4465266168117523,
          0.4465251863002777,
          0.4465237557888031,
          0.44652223587036133,
          0.4465208053588867,
          0.4465193748474121,
          0.4465177655220032,
          0.4465160369873047,
          0.4465142786502838,
          0.44651246070861816,
          0.44651055335998535,
          0.44650864601135254,
          0.44650667905807495,
          0.44650474190711975,
          0.44650283455848694,
          0.4465009570121765,
          0.44649916887283325,
          0.44649738073349,
          0.4464956820011139,
          0.4464940130710602,
          0.44649243354797363,
          0.44649091362953186,
          0.4464894235134125,
          0.44648799300193787,
          0.4464866518974304,
          0.44648537039756775,
          0.44648417830467224,
          0.44648295640945435,
          0.44648176431655884,
          0.4464806616306305,
          0.44647955894470215,
          0.4464785158634186,
          0.4464775025844574,
          0.44647639989852905,
          0.4464753568172455,
          0.4464743733406067,
          0.4464733600616455,
          0.4464723467826843,
          0.44647130370140076,
          0.44647035002708435,
          0.44646936655044556,
          0.44646841287612915,
          0.44646739959716797,
          0.4464663565158844,
          0.44646531343460083,
          0.4464643597602844,
          0.44646334648132324,
          0.44646233320236206,
          0.4464612901210785,
          0.4464602470397949,
          0.44645923376083374,
          0.44645828008651733,
          0.44645723700523376,
          0.44645625352859497,
          0.44645529985427856,
          0.4464542865753174,
          0.4464532732963562,
          0.44645237922668457,
          0.4464513659477234,
          0.4464503824710846,
          0.4464494585990906,
          0.44644856452941895,
          0.44644761085510254,
          0.4464467167854309,
          0.4464457929134369,
          0.4464449882507324,
          0.4464443624019623,
          0.4464438557624817,
          0.4464433789253235,
          0.44644299149513245,
          0.4464426040649414,
          0.4464423656463623,
          0.4464421272277832,
          0.4464418292045593,
          0.4464415907859802,
          0.44644126296043396,
          0.44644099473953247,
          0.44644060730934143,
          0.44644027948379517,
          0.4464397430419922,
          0.4464392066001892,
          0.4464386999607086,
          0.4464380145072937,
          0.4464372992515564,
          0.4464365541934967,
          0.4464357793331146,
          0.44643497467041016,
          0.4464341700077057,
          0.44643330574035645,
          0.4464324414730072,
          0.44643154740333557,
          0.44643068313598633,
          0.4464297890663147,
          0.44642892479896545,
          0.4464280605316162,
          0.44642719626426697,
          0.4464263916015625,
          0.4464256167411804,
          0.44642481207847595,
          0.4464240074157715,
          0.4464232921600342,
          0.4464225769042969,
          0.4464218020439148,
          0.44642120599746704,
          0.44642049074172974,
          0.4464198052883148,
          0.4464191496372223,
          0.4464185833930969,
          0.44641798734664917,
          0.44641733169555664,
          0.4464167654514313,
          0.4464161992073059,
          0.44641560316085815,
          0.4464150369167328,
          0.4464144706726074,
          0.44641390442848206,
          0.4464133381843567,
          0.4464128017425537
         ],
         "yaxis": "y"
        }
       ],
       "layout": {
        "legend": {
         "tracegroupgap": 0
        },
        "margin": {
         "t": 60
        },
        "template": {
         "data": {
          "bar": [
           {
            "error_x": {
             "color": "#2a3f5f"
            },
            "error_y": {
             "color": "#2a3f5f"
            },
            "marker": {
             "line": {
              "color": "#E5ECF6",
              "width": 0.5
             },
             "pattern": {
              "fillmode": "overlay",
              "size": 10,
              "solidity": 0.2
             }
            },
            "type": "bar"
           }
          ],
          "barpolar": [
           {
            "marker": {
             "line": {
              "color": "#E5ECF6",
              "width": 0.5
             },
             "pattern": {
              "fillmode": "overlay",
              "size": 10,
              "solidity": 0.2
             }
            },
            "type": "barpolar"
           }
          ],
          "carpet": [
           {
            "aaxis": {
             "endlinecolor": "#2a3f5f",
             "gridcolor": "white",
             "linecolor": "white",
             "minorgridcolor": "white",
             "startlinecolor": "#2a3f5f"
            },
            "baxis": {
             "endlinecolor": "#2a3f5f",
             "gridcolor": "white",
             "linecolor": "white",
             "minorgridcolor": "white",
             "startlinecolor": "#2a3f5f"
            },
            "type": "carpet"
           }
          ],
          "choropleth": [
           {
            "colorbar": {
             "outlinewidth": 0,
             "ticks": ""
            },
            "type": "choropleth"
           }
          ],
          "contour": [
           {
            "colorbar": {
             "outlinewidth": 0,
             "ticks": ""
            },
            "colorscale": [
             [
              0,
              "#0d0887"
             ],
             [
              0.1111111111111111,
              "#46039f"
             ],
             [
              0.2222222222222222,
              "#7201a8"
             ],
             [
              0.3333333333333333,
              "#9c179e"
             ],
             [
              0.4444444444444444,
              "#bd3786"
             ],
             [
              0.5555555555555556,
              "#d8576b"
             ],
             [
              0.6666666666666666,
              "#ed7953"
             ],
             [
              0.7777777777777778,
              "#fb9f3a"
             ],
             [
              0.8888888888888888,
              "#fdca26"
             ],
             [
              1,
              "#f0f921"
             ]
            ],
            "type": "contour"
           }
          ],
          "contourcarpet": [
           {
            "colorbar": {
             "outlinewidth": 0,
             "ticks": ""
            },
            "type": "contourcarpet"
           }
          ],
          "heatmap": [
           {
            "colorbar": {
             "outlinewidth": 0,
             "ticks": ""
            },
            "colorscale": [
             [
              0,
              "#0d0887"
             ],
             [
              0.1111111111111111,
              "#46039f"
             ],
             [
              0.2222222222222222,
              "#7201a8"
             ],
             [
              0.3333333333333333,
              "#9c179e"
             ],
             [
              0.4444444444444444,
              "#bd3786"
             ],
             [
              0.5555555555555556,
              "#d8576b"
             ],
             [
              0.6666666666666666,
              "#ed7953"
             ],
             [
              0.7777777777777778,
              "#fb9f3a"
             ],
             [
              0.8888888888888888,
              "#fdca26"
             ],
             [
              1,
              "#f0f921"
             ]
            ],
            "type": "heatmap"
           }
          ],
          "heatmapgl": [
           {
            "colorbar": {
             "outlinewidth": 0,
             "ticks": ""
            },
            "colorscale": [
             [
              0,
              "#0d0887"
             ],
             [
              0.1111111111111111,
              "#46039f"
             ],
             [
              0.2222222222222222,
              "#7201a8"
             ],
             [
              0.3333333333333333,
              "#9c179e"
             ],
             [
              0.4444444444444444,
              "#bd3786"
             ],
             [
              0.5555555555555556,
              "#d8576b"
             ],
             [
              0.6666666666666666,
              "#ed7953"
             ],
             [
              0.7777777777777778,
              "#fb9f3a"
             ],
             [
              0.8888888888888888,
              "#fdca26"
             ],
             [
              1,
              "#f0f921"
             ]
            ],
            "type": "heatmapgl"
           }
          ],
          "histogram": [
           {
            "marker": {
             "pattern": {
              "fillmode": "overlay",
              "size": 10,
              "solidity": 0.2
             }
            },
            "type": "histogram"
           }
          ],
          "histogram2d": [
           {
            "colorbar": {
             "outlinewidth": 0,
             "ticks": ""
            },
            "colorscale": [
             [
              0,
              "#0d0887"
             ],
             [
              0.1111111111111111,
              "#46039f"
             ],
             [
              0.2222222222222222,
              "#7201a8"
             ],
             [
              0.3333333333333333,
              "#9c179e"
             ],
             [
              0.4444444444444444,
              "#bd3786"
             ],
             [
              0.5555555555555556,
              "#d8576b"
             ],
             [
              0.6666666666666666,
              "#ed7953"
             ],
             [
              0.7777777777777778,
              "#fb9f3a"
             ],
             [
              0.8888888888888888,
              "#fdca26"
             ],
             [
              1,
              "#f0f921"
             ]
            ],
            "type": "histogram2d"
           }
          ],
          "histogram2dcontour": [
           {
            "colorbar": {
             "outlinewidth": 0,
             "ticks": ""
            },
            "colorscale": [
             [
              0,
              "#0d0887"
             ],
             [
              0.1111111111111111,
              "#46039f"
             ],
             [
              0.2222222222222222,
              "#7201a8"
             ],
             [
              0.3333333333333333,
              "#9c179e"
             ],
             [
              0.4444444444444444,
              "#bd3786"
             ],
             [
              0.5555555555555556,
              "#d8576b"
             ],
             [
              0.6666666666666666,
              "#ed7953"
             ],
             [
              0.7777777777777778,
              "#fb9f3a"
             ],
             [
              0.8888888888888888,
              "#fdca26"
             ],
             [
              1,
              "#f0f921"
             ]
            ],
            "type": "histogram2dcontour"
           }
          ],
          "mesh3d": [
           {
            "colorbar": {
             "outlinewidth": 0,
             "ticks": ""
            },
            "type": "mesh3d"
           }
          ],
          "parcoords": [
           {
            "line": {
             "colorbar": {
              "outlinewidth": 0,
              "ticks": ""
             }
            },
            "type": "parcoords"
           }
          ],
          "pie": [
           {
            "automargin": true,
            "type": "pie"
           }
          ],
          "scatter": [
           {
            "fillpattern": {
             "fillmode": "overlay",
             "size": 10,
             "solidity": 0.2
            },
            "type": "scatter"
           }
          ],
          "scatter3d": [
           {
            "line": {
             "colorbar": {
              "outlinewidth": 0,
              "ticks": ""
             }
            },
            "marker": {
             "colorbar": {
              "outlinewidth": 0,
              "ticks": ""
             }
            },
            "type": "scatter3d"
           }
          ],
          "scattercarpet": [
           {
            "marker": {
             "colorbar": {
              "outlinewidth": 0,
              "ticks": ""
             }
            },
            "type": "scattercarpet"
           }
          ],
          "scattergeo": [
           {
            "marker": {
             "colorbar": {
              "outlinewidth": 0,
              "ticks": ""
             }
            },
            "type": "scattergeo"
           }
          ],
          "scattergl": [
           {
            "marker": {
             "colorbar": {
              "outlinewidth": 0,
              "ticks": ""
             }
            },
            "type": "scattergl"
           }
          ],
          "scattermapbox": [
           {
            "marker": {
             "colorbar": {
              "outlinewidth": 0,
              "ticks": ""
             }
            },
            "type": "scattermapbox"
           }
          ],
          "scatterpolar": [
           {
            "marker": {
             "colorbar": {
              "outlinewidth": 0,
              "ticks": ""
             }
            },
            "type": "scatterpolar"
           }
          ],
          "scatterpolargl": [
           {
            "marker": {
             "colorbar": {
              "outlinewidth": 0,
              "ticks": ""
             }
            },
            "type": "scatterpolargl"
           }
          ],
          "scatterternary": [
           {
            "marker": {
             "colorbar": {
              "outlinewidth": 0,
              "ticks": ""
             }
            },
            "type": "scatterternary"
           }
          ],
          "surface": [
           {
            "colorbar": {
             "outlinewidth": 0,
             "ticks": ""
            },
            "colorscale": [
             [
              0,
              "#0d0887"
             ],
             [
              0.1111111111111111,
              "#46039f"
             ],
             [
              0.2222222222222222,
              "#7201a8"
             ],
             [
              0.3333333333333333,
              "#9c179e"
             ],
             [
              0.4444444444444444,
              "#bd3786"
             ],
             [
              0.5555555555555556,
              "#d8576b"
             ],
             [
              0.6666666666666666,
              "#ed7953"
             ],
             [
              0.7777777777777778,
              "#fb9f3a"
             ],
             [
              0.8888888888888888,
              "#fdca26"
             ],
             [
              1,
              "#f0f921"
             ]
            ],
            "type": "surface"
           }
          ],
          "table": [
           {
            "cells": {
             "fill": {
              "color": "#EBF0F8"
             },
             "line": {
              "color": "white"
             }
            },
            "header": {
             "fill": {
              "color": "#C8D4E3"
             },
             "line": {
              "color": "white"
             }
            },
            "type": "table"
           }
          ]
         },
         "layout": {
          "annotationdefaults": {
           "arrowcolor": "#2a3f5f",
           "arrowhead": 0,
           "arrowwidth": 1
          },
          "autotypenumbers": "strict",
          "coloraxis": {
           "colorbar": {
            "outlinewidth": 0,
            "ticks": ""
           }
          },
          "colorscale": {
           "diverging": [
            [
             0,
             "#8e0152"
            ],
            [
             0.1,
             "#c51b7d"
            ],
            [
             0.2,
             "#de77ae"
            ],
            [
             0.3,
             "#f1b6da"
            ],
            [
             0.4,
             "#fde0ef"
            ],
            [
             0.5,
             "#f7f7f7"
            ],
            [
             0.6,
             "#e6f5d0"
            ],
            [
             0.7,
             "#b8e186"
            ],
            [
             0.8,
             "#7fbc41"
            ],
            [
             0.9,
             "#4d9221"
            ],
            [
             1,
             "#276419"
            ]
           ],
           "sequential": [
            [
             0,
             "#0d0887"
            ],
            [
             0.1111111111111111,
             "#46039f"
            ],
            [
             0.2222222222222222,
             "#7201a8"
            ],
            [
             0.3333333333333333,
             "#9c179e"
            ],
            [
             0.4444444444444444,
             "#bd3786"
            ],
            [
             0.5555555555555556,
             "#d8576b"
            ],
            [
             0.6666666666666666,
             "#ed7953"
            ],
            [
             0.7777777777777778,
             "#fb9f3a"
            ],
            [
             0.8888888888888888,
             "#fdca26"
            ],
            [
             1,
             "#f0f921"
            ]
           ],
           "sequentialminus": [
            [
             0,
             "#0d0887"
            ],
            [
             0.1111111111111111,
             "#46039f"
            ],
            [
             0.2222222222222222,
             "#7201a8"
            ],
            [
             0.3333333333333333,
             "#9c179e"
            ],
            [
             0.4444444444444444,
             "#bd3786"
            ],
            [
             0.5555555555555556,
             "#d8576b"
            ],
            [
             0.6666666666666666,
             "#ed7953"
            ],
            [
             0.7777777777777778,
             "#fb9f3a"
            ],
            [
             0.8888888888888888,
             "#fdca26"
            ],
            [
             1,
             "#f0f921"
            ]
           ]
          },
          "colorway": [
           "#636efa",
           "#EF553B",
           "#00cc96",
           "#ab63fa",
           "#FFA15A",
           "#19d3f3",
           "#FF6692",
           "#B6E880",
           "#FF97FF",
           "#FECB52"
          ],
          "font": {
           "color": "#2a3f5f"
          },
          "geo": {
           "bgcolor": "white",
           "lakecolor": "white",
           "landcolor": "#E5ECF6",
           "showlakes": true,
           "showland": true,
           "subunitcolor": "white"
          },
          "hoverlabel": {
           "align": "left"
          },
          "hovermode": "closest",
          "mapbox": {
           "style": "light"
          },
          "paper_bgcolor": "white",
          "plot_bgcolor": "#E5ECF6",
          "polar": {
           "angularaxis": {
            "gridcolor": "white",
            "linecolor": "white",
            "ticks": ""
           },
           "bgcolor": "#E5ECF6",
           "radialaxis": {
            "gridcolor": "white",
            "linecolor": "white",
            "ticks": ""
           }
          },
          "scene": {
           "xaxis": {
            "backgroundcolor": "#E5ECF6",
            "gridcolor": "white",
            "gridwidth": 2,
            "linecolor": "white",
            "showbackground": true,
            "ticks": "",
            "zerolinecolor": "white"
           },
           "yaxis": {
            "backgroundcolor": "#E5ECF6",
            "gridcolor": "white",
            "gridwidth": 2,
            "linecolor": "white",
            "showbackground": true,
            "ticks": "",
            "zerolinecolor": "white"
           },
           "zaxis": {
            "backgroundcolor": "#E5ECF6",
            "gridcolor": "white",
            "gridwidth": 2,
            "linecolor": "white",
            "showbackground": true,
            "ticks": "",
            "zerolinecolor": "white"
           }
          },
          "shapedefaults": {
           "line": {
            "color": "#2a3f5f"
           }
          },
          "ternary": {
           "aaxis": {
            "gridcolor": "white",
            "linecolor": "white",
            "ticks": ""
           },
           "baxis": {
            "gridcolor": "white",
            "linecolor": "white",
            "ticks": ""
           },
           "bgcolor": "#E5ECF6",
           "caxis": {
            "gridcolor": "white",
            "linecolor": "white",
            "ticks": ""
           }
          },
          "title": {
           "x": 0.05
          },
          "xaxis": {
           "automargin": true,
           "gridcolor": "white",
           "linecolor": "white",
           "ticks": "",
           "title": {
            "standoff": 15
           },
           "zerolinecolor": "white",
           "zerolinewidth": 2
          },
          "yaxis": {
           "automargin": true,
           "gridcolor": "white",
           "linecolor": "white",
           "ticks": "",
           "title": {
            "standoff": 15
           },
           "zerolinecolor": "white",
           "zerolinewidth": 2
          }
         }
        },
        "xaxis": {
         "anchor": "y",
         "domain": [
          0,
          1
         ],
         "title": {
          "text": "index"
         }
        },
        "yaxis": {
         "anchor": "x",
         "domain": [
          0,
          1
         ],
         "title": {
          "text": "p_loss"
         }
        }
       }
      }
     },
     "metadata": {},
     "output_type": "display_data"
    },
    {
     "data": {
      "application/vnd.plotly.v1+json": {
       "config": {
        "plotlyServerURL": "https://plot.ly"
       },
       "data": [
        {
         "hovertemplate": "index=%{x}<br>p_loss=%{y}<extra></extra>",
         "legendgroup": "",
         "marker": {
          "color": "#636efa",
          "symbol": "circle"
         },
         "mode": "markers",
         "name": "",
         "orientation": "v",
         "showlegend": false,
         "type": "scatter",
         "x": [
          0,
          1,
          2,
          3,
          4,
          5,
          6,
          7,
          8,
          9,
          10,
          11,
          12,
          13,
          14,
          15,
          16,
          17,
          18,
          19,
          20,
          21,
          22,
          23,
          24,
          25,
          26,
          27,
          28,
          29,
          30,
          31,
          32,
          33,
          34,
          35,
          36,
          37,
          38,
          39,
          40,
          41,
          42,
          43,
          44,
          45,
          46,
          47,
          48,
          49,
          50,
          51,
          52,
          53,
          54,
          55,
          56,
          57,
          58,
          59,
          60,
          61,
          62,
          63,
          64,
          65,
          66,
          67,
          68,
          69,
          70,
          71,
          72,
          73,
          74,
          75,
          76,
          77,
          78,
          79,
          80,
          81,
          82,
          83,
          84,
          85,
          86,
          87,
          88,
          89,
          90,
          91,
          92,
          93,
          94,
          95,
          96,
          97,
          98,
          99,
          100,
          101,
          102,
          103,
          104,
          105,
          106,
          107,
          108,
          109,
          110,
          111,
          112,
          113,
          114,
          115,
          116,
          117,
          118,
          119,
          120,
          121,
          122,
          123,
          124,
          125,
          126,
          127,
          128,
          129,
          130,
          131,
          132,
          133,
          134,
          135,
          136,
          137,
          138,
          139,
          140,
          141,
          142,
          143,
          144,
          145,
          146,
          147,
          148,
          149,
          150,
          151,
          152,
          153,
          154,
          155,
          156,
          157,
          158,
          159,
          160,
          161,
          162,
          163,
          164,
          165,
          166,
          167,
          168,
          169,
          170,
          171,
          172,
          173,
          174,
          175,
          176,
          177,
          178,
          179,
          180,
          181,
          182,
          183,
          184,
          185,
          186,
          187,
          188,
          189,
          190,
          191,
          192,
          193,
          194,
          195,
          196,
          197,
          198,
          199,
          200,
          201,
          202,
          203,
          204,
          205,
          206,
          207,
          208,
          209,
          210,
          211,
          212,
          213,
          214,
          215,
          216,
          217,
          218,
          219,
          220,
          221,
          222,
          223,
          224,
          225,
          226,
          227,
          228,
          229,
          230,
          231,
          232,
          233,
          234,
          235,
          236,
          237,
          238,
          239,
          240,
          241,
          242,
          243,
          244,
          245,
          246,
          247,
          248,
          249,
          250,
          251,
          252,
          253,
          254,
          255,
          256,
          257,
          258,
          259,
          260,
          261,
          262,
          263,
          264,
          265,
          266,
          267,
          268,
          269,
          270,
          271,
          272,
          273,
          274,
          275,
          276,
          277,
          278,
          279,
          280,
          281,
          282,
          283,
          284,
          285,
          286,
          287,
          288,
          289,
          290,
          291,
          292,
          293,
          294,
          295,
          296,
          297,
          298,
          299,
          300,
          301,
          302,
          303,
          304,
          305,
          306,
          307,
          308,
          309,
          310,
          311,
          312,
          313,
          314,
          315,
          316,
          317,
          318,
          319,
          320,
          321,
          322,
          323,
          324,
          325,
          326,
          327,
          328,
          329,
          330,
          331,
          332,
          333,
          334,
          335,
          336,
          337,
          338,
          339,
          340,
          341,
          342,
          343,
          344,
          345,
          346,
          347,
          348,
          349,
          350,
          351,
          352,
          353,
          354,
          355,
          356,
          357,
          358,
          359,
          360,
          361,
          362,
          363,
          364,
          365,
          366,
          367,
          368,
          369,
          370,
          371,
          372,
          373,
          374,
          375,
          376,
          377,
          378,
          379,
          380,
          381,
          382,
          383,
          384,
          385,
          386,
          387,
          388,
          389,
          390,
          391,
          392,
          393,
          394,
          395,
          396,
          397,
          398,
          399,
          400,
          401,
          402,
          403,
          404,
          405,
          406,
          407,
          408,
          409,
          410,
          411,
          412,
          413,
          414,
          415,
          416,
          417,
          418,
          419,
          420,
          421,
          422,
          423,
          424,
          425,
          426,
          427,
          428,
          429,
          430,
          431,
          432,
          433,
          434,
          435,
          436,
          437,
          438,
          439,
          440,
          441,
          442,
          443,
          444,
          445,
          446,
          447,
          448,
          449,
          450,
          451,
          452,
          453,
          454,
          455,
          456,
          457,
          458,
          459,
          460,
          461,
          462,
          463,
          464,
          465,
          466,
          467,
          468,
          469,
          470,
          471,
          472,
          473,
          474,
          475,
          476,
          477,
          478,
          479,
          480,
          481,
          482,
          483,
          484,
          485,
          486,
          487,
          488,
          489,
          490,
          491,
          492,
          493,
          494,
          495,
          496,
          497,
          498,
          499
         ],
         "xaxis": "x",
         "y": [
          0.9445635080337524,
          0.8349618911743164,
          0.745810329914093,
          0.6781870126724243,
          0.6316694021224976,
          0.6041142344474792,
          0.5918734073638916,
          0.5904412269592285,
          0.5952964425086975,
          0.602611243724823,
          0.6095951199531555,
          0.6145167350769043,
          0.6165288686752319,
          0.615436851978302,
          0.6114875078201294,
          0.605205237865448,
          0.597288966178894,
          0.588482677936554,
          0.5795071125030518,
          0.5710450410842896,
          0.5636574625968933,
          0.5577376484870911,
          0.5534637570381165,
          0.5507896542549133,
          0.549462616443634,
          0.5490736365318298,
          0.549132227897644,
          0.5491549372673035,
          0.5487498044967651,
          0.547671377658844,
          0.5458435416221619,
          0.5433446764945984,
          0.5403680801391602,
          0.5371670126914978,
          0.5339978933334351,
          0.5310748219490051,
          0.5285387635231018,
          0.5264474153518677,
          0.5247796177864075,
          0.523453950881958,
          0.5223546028137207,
          0.5213574767112732,
          0.5203517079353333,
          0.5192564725875854,
          0.5180267691612244,
          0.5166563391685486,
          0.515170693397522,
          0.5136183500289917,
          0.5120596885681152,
          0.5105530023574829,
          0.5091453790664673,
          0.5078650712966919,
          0.5067186951637268,
          0.5056922435760498,
          0.5047568082809448,
          0.5038766860961914,
          0.5030168890953064,
          0.5021497011184692,
          0.5012590885162354,
          0.5003413558006287,
          0.4994041323661804,
          0.49846306443214417,
          0.4975365698337555,
          0.49664106965065,
          0.4957881569862366,
          0.49498263001441956,
          0.49422258138656616,
          0.4935004711151123,
          0.49280571937561035,
          0.49212756752967834,
          0.4914568364620209,
          0.4907877445220947,
          0.4901183545589447,
          0.4894501566886902,
          0.4887869954109192,
          0.4881345331668854,
          0.48749738931655884,
          0.48687928915023804,
          0.4862819314002991,
          0.4857047498226166,
          0.4851456582546234,
          0.4846016466617584,
          0.48406943678855896,
          0.4835464060306549,
          0.48303064703941345,
          0.4825216829776764,
          0.4820198118686676,
          0.48152607679367065,
          0.481041818857193,
          0.4805680215358734,
          0.4801052212715149,
          0.4796532690525055,
          0.47921162843704224,
          0.4787790775299072,
          0.4783546030521393,
          0.4779370427131653,
          0.4775257706642151,
          0.4771203100681305,
          0.47672057151794434,
          0.47632670402526855,
          0.4759390354156494,
          0.47555795311927795,
          0.4751836657524109,
          0.4748161733150482,
          0.47445544600486755,
          0.47410115599632263,
          0.4737529754638672,
          0.47341054677963257,
          0.47307348251342773,
          0.4727415442466736,
          0.4724145531654358,
          0.47209247946739197,
          0.4717753529548645,
          0.4714631140232086,
          0.47115588188171387,
          0.4708535075187683,
          0.47055572271347046,
          0.47026246786117554,
          0.4699735641479492,
          0.4696888327598572,
          0.4694080948829651,
          0.46913132071495056,
          0.4688583016395569,
          0.4685891270637512,
          0.46832361817359924,
          0.4680618345737457,
          0.467803955078125,
          0.4675496518611908,
          0.46729904413223267,
          0.46705204248428345,
          0.4668084979057312,
          0.4665684103965759,
          0.46633172035217285,
          0.46609821915626526,
          0.465867817401886,
          0.4656405448913574,
          0.4654163420200348,
          0.46519526839256287,
          0.46497711539268494,
          0.464761883020401,
          0.46454954147338867,
          0.4643400311470032,
          0.46413326263427734,
          0.4639291763305664,
          0.46372777223587036,
          0.46352916955947876,
          0.4633333086967468,
          0.4631401002407074,
          0.4629495143890381,
          0.46276140213012695,
          0.4625758230686188,
          0.4623926281929016,
          0.46221184730529785,
          0.46203333139419556,
          0.4618571698665619,
          0.4616832733154297,
          0.4615115523338318,
          0.4613419473171234,
          0.4611744284629822,
          0.46100902557373047,
          0.46084561944007874,
          0.4606841504573822,
          0.46052461862564087,
          0.46036702394485474,
          0.4602113366127014,
          0.46005749702453613,
          0.4599055349826813,
          0.45975542068481445,
          0.4596071243286133,
          0.4594607949256897,
          0.45931607484817505,
          0.45917320251464844,
          0.45903220772743225,
          0.458892822265625,
          0.45875516533851624,
          0.45861920714378357,
          0.4584849774837494,
          0.45835232734680176,
          0.45822128653526306,
          0.4580918252468109,
          0.4579640030860901,
          0.4578375816345215,
          0.4577127993106842,
          0.4575894773006439,
          0.457467645406723,
          0.4573470950126648,
          0.45722800493240356,
          0.4571101665496826,
          0.4569936692714691,
          0.45687851309776306,
          0.45676469802856445,
          0.4566522240638733,
          0.4565409719944,
          0.4564310610294342,
          0.4563223421573639,
          0.45621490478515625,
          0.4561086595058441,
          0.45600366592407227,
          0.4558998942375183,
          0.4557971954345703,
          0.45569562911987305,
          0.4555951654911041,
          0.45549577474594116,
          0.455397367477417,
          0.4553000032901764,
          0.4552038311958313,
          0.4551087021827698,
          0.455014705657959,
          0.45492178201675415,
          0.4548299312591553,
          0.45473918318748474,
          0.45464953780174255,
          0.45456093549728394,
          0.4544733464717865,
          0.4543868899345398,
          0.4543014168739319,
          0.4542168974876404,
          0.4541335105895996,
          0.45405107736587524,
          0.45396965742111206,
          0.4538893699645996,
          0.4538101255893707,
          0.4537319242954254,
          0.45365476608276367,
          0.45357856154441833,
          0.4535033702850342,
          0.45342913269996643,
          0.4533557891845703,
          0.4532833695411682,
          0.45321187376976013,
          0.4531412124633789,
          0.4530714154243469,
          0.4530025124549866,
          0.4529343545436859,
          0.4528670310974121,
          0.45280057191848755,
          0.4527347981929779,
          0.45266979932785034,
          0.45260554552078247,
          0.45254188776016235,
          0.45247888565063477,
          0.4524165093898773,
          0.45235475897789,
          0.45229363441467285,
          0.45223313570022583,
          0.45217329263687134,
          0.4521140158176422,
          0.4520553946495056,
          0.45199742913246155,
          0.45194005966186523,
          0.45188331604003906,
          0.4518272876739502,
          0.45177191495895386,
          0.4517171382904053,
          0.451663076877594,
          0.45160961151123047,
          0.4515567719936371,
          0.45150455832481384,
          0.4514528810977936,
          0.4514017701148987,
          0.45135125517845154,
          0.4513013958930969,
          0.4512520730495453,
          0.4512033462524414,
          0.4511551260948181,
          0.4511075019836426,
          0.45106038451194763,
          0.4510137438774109,
          0.4509677290916443,
          0.4509221911430359,
          0.45087718963623047,
          0.4508327543735504,
          0.45078882575035095,
          0.45074549317359924,
          0.45070257782936096,
          0.4506602883338928,
          0.45061835646629333,
          0.4505770206451416,
          0.45053616166114807,
          0.45049580931663513,
          0.4504559636116028,
          0.45041656494140625,
          0.4503776431083679,
          0.4503392279148102,
          0.45030122995376587,
          0.4502636790275574,
          0.45022663474082947,
          0.450190007686615,
          0.4501539170742035,
          0.45011815428733826,
          0.4500828683376312,
          0.45004802942276,
          0.4500136375427246,
          0.449979692697525,
          0.44994601607322693,
          0.4499129354953766,
          0.4498802125453949,
          0.449847936630249,
          0.44981613755226135,
          0.44978466629981995,
          0.44975370168685913,
          0.4497230648994446,
          0.44969281554222107,
          0.44966307282447815,
          0.44963353872299194,
          0.44960445165634155,
          0.4495757222175598,
          0.44954735040664673,
          0.44951924681663513,
          0.44949159026145935,
          0.44946426153182983,
          0.4494372010231018,
          0.4494105279445648,
          0.44938406348228455,
          0.4493580460548401,
          0.44933223724365234,
          0.44930681586265564,
          0.44928163290023804,
          0.4492568075656891,
          0.4492322504520416,
          0.44920796155929565,
          0.44918394088745117,
          0.44916024804115295,
          0.4491368234157562,
          0.449113667011261,
          0.4490906596183777,
          0.4490678906440735,
          0.44904541969299316,
          0.44902315735816956,
          0.44900113344192505,
          0.44897931814193726,
          0.44895777106285095,
          0.44893646240234375,
          0.44891542196273804,
          0.44889459013938904,
          0.4488740563392639,
          0.4488537311553955,
          0.4488336443901062,
          0.4488137364387512,
          0.4487941265106201,
          0.4487748146057129,
          0.44875583052635193,
          0.4487370550632477,
          0.44871848821640015,
          0.4487002491950989,
          0.44868215918540955,
          0.44866427779197693,
          0.4486467242240906,
          0.44862937927246094,
          0.44861215353012085,
          0.44859519600868225,
          0.44857844710350037,
          0.4485619068145752,
          0.44854551553726196,
          0.4485293924808502,
          0.44851335883140564,
          0.4484975337982178,
          0.44848188757896423,
          0.4484664499759674,
          0.44845113158226013,
          0.44843602180480957,
          0.44842109084129333,
          0.44840630888938904,
          0.4483916759490967,
          0.44837722182273865,
          0.44836291670799255,
          0.4483487606048584,
          0.44833478331565857,
          0.4483209550380707,
          0.4483073353767395,
          0.4482937753200531,
          0.44828033447265625,
          0.44826698303222656,
          0.4482538104057312,
          0.4482407569885254,
          0.44822773337364197,
          0.44821491837501526,
          0.44820213317871094,
          0.44818955659866333,
          0.44817715883255005,
          0.44816499948501587,
          0.44815292954444885,
          0.44814103841781616,
          0.448129266500473,
          0.448117733001709,
          0.4481062889099121,
          0.4480949938297272,
          0.4480837285518646,
          0.448072612285614,
          0.4480615556240082,
          0.4480505585670471,
          0.44803959131240845,
          0.4480287432670593,
          0.44801807403564453,
          0.4480074942111969,
          0.44799700379371643,
          0.4479866623878479,
          0.44797641038894653,
          0.4479663372039795,
          0.4479563236236572,
          0.4479463994503021,
          0.44793668389320374,
          0.44792699813842773,
          0.4479174017906189,
          0.4479079246520996,
          0.4478985667228699,
          0.4478893280029297,
          0.4478801190853119,
          0.44787105917930603,
          0.44786208868026733,
          0.4478532373905182,
          0.4478444457054138,
          0.4478358328342438,
          0.4478272497653961,
          0.4478188157081604,
          0.44781041145324707,
          0.4478021562099457,
          0.44779396057128906,
          0.44778579473495483,
          0.44777780771255493,
          0.4477698802947998,
          0.44776201248168945,
          0.44775423407554626,
          0.4477464556694031,
          0.4477387070655823,
          0.4477309286594391,
          0.4477232098579407,
          0.4477154612541199,
          0.44770774245262146,
          0.447700172662735,
          0.4476926326751709,
          0.4476851522922516,
          0.44767770171165466,
          0.4476704001426697,
          0.4476631283760071,
          0.44765591621398926,
          0.4476488530635834,
          0.44764184951782227,
          0.4476349353790283,
          0.4476280212402344,
          0.44762125611305237,
          0.44761452078819275,
          0.4476079046726227,
          0.4476012587547302,
          0.4475947916507721,
          0.4475882947444916,
          0.44758185744285583,
          0.44757556915283203,
          0.44756919145584106,
          0.44756293296813965,
          0.44755667448043823,
          0.44755059480667114,
          0.44754448533058167,
          0.4475383758544922,
          0.4475324749946594,
          0.4475265443325043,
          0.44752073287963867,
          0.44751492142677307,
          0.44750919938087463,
          0.44750356674194336,
          0.4474979341030121,
          0.44749242067337036,
          0.447486937046051,
          0.44748154282569885,
          0.44747620820999146,
          0.4474709630012512,
          0.447465717792511,
          0.4474605619907379,
          0.4474554657936096,
          0.4474504590034485,
          0.4474453926086426,
          0.44744056463241577,
          0.4474356770515442,
          0.44743090867996216,
          0.44742608070373535,
          0.4474213719367981,
          0.4474166929721832,
          0.4474121034145355,
          0.4474075436592102,
          0.44740304350852966,
          0.4473985731601715,
          0.4473941922187805,
          0.4473898410797119,
          0.4473854899406433,
          0.4473811984062195,
          0.44737696647644043,
          0.44737282395362854,
          0.44736871123313904,
          0.44736456871032715,
          0.4473605155944824,
          0.4473564624786377,
          0.44735249876976013,
          0.44734853506088257,
          0.4473446011543274,
          0.44734078645706177,
          0.44733697175979614,
          0.4473331570625305,
          0.4473293721675873,
          0.4473256468772888,
          0.44732198119163513
         ],
         "yaxis": "y"
        }
       ],
       "layout": {
        "legend": {
         "tracegroupgap": 0
        },
        "margin": {
         "t": 60
        },
        "template": {
         "data": {
          "bar": [
           {
            "error_x": {
             "color": "#2a3f5f"
            },
            "error_y": {
             "color": "#2a3f5f"
            },
            "marker": {
             "line": {
              "color": "#E5ECF6",
              "width": 0.5
             },
             "pattern": {
              "fillmode": "overlay",
              "size": 10,
              "solidity": 0.2
             }
            },
            "type": "bar"
           }
          ],
          "barpolar": [
           {
            "marker": {
             "line": {
              "color": "#E5ECF6",
              "width": 0.5
             },
             "pattern": {
              "fillmode": "overlay",
              "size": 10,
              "solidity": 0.2
             }
            },
            "type": "barpolar"
           }
          ],
          "carpet": [
           {
            "aaxis": {
             "endlinecolor": "#2a3f5f",
             "gridcolor": "white",
             "linecolor": "white",
             "minorgridcolor": "white",
             "startlinecolor": "#2a3f5f"
            },
            "baxis": {
             "endlinecolor": "#2a3f5f",
             "gridcolor": "white",
             "linecolor": "white",
             "minorgridcolor": "white",
             "startlinecolor": "#2a3f5f"
            },
            "type": "carpet"
           }
          ],
          "choropleth": [
           {
            "colorbar": {
             "outlinewidth": 0,
             "ticks": ""
            },
            "type": "choropleth"
           }
          ],
          "contour": [
           {
            "colorbar": {
             "outlinewidth": 0,
             "ticks": ""
            },
            "colorscale": [
             [
              0,
              "#0d0887"
             ],
             [
              0.1111111111111111,
              "#46039f"
             ],
             [
              0.2222222222222222,
              "#7201a8"
             ],
             [
              0.3333333333333333,
              "#9c179e"
             ],
             [
              0.4444444444444444,
              "#bd3786"
             ],
             [
              0.5555555555555556,
              "#d8576b"
             ],
             [
              0.6666666666666666,
              "#ed7953"
             ],
             [
              0.7777777777777778,
              "#fb9f3a"
             ],
             [
              0.8888888888888888,
              "#fdca26"
             ],
             [
              1,
              "#f0f921"
             ]
            ],
            "type": "contour"
           }
          ],
          "contourcarpet": [
           {
            "colorbar": {
             "outlinewidth": 0,
             "ticks": ""
            },
            "type": "contourcarpet"
           }
          ],
          "heatmap": [
           {
            "colorbar": {
             "outlinewidth": 0,
             "ticks": ""
            },
            "colorscale": [
             [
              0,
              "#0d0887"
             ],
             [
              0.1111111111111111,
              "#46039f"
             ],
             [
              0.2222222222222222,
              "#7201a8"
             ],
             [
              0.3333333333333333,
              "#9c179e"
             ],
             [
              0.4444444444444444,
              "#bd3786"
             ],
             [
              0.5555555555555556,
              "#d8576b"
             ],
             [
              0.6666666666666666,
              "#ed7953"
             ],
             [
              0.7777777777777778,
              "#fb9f3a"
             ],
             [
              0.8888888888888888,
              "#fdca26"
             ],
             [
              1,
              "#f0f921"
             ]
            ],
            "type": "heatmap"
           }
          ],
          "heatmapgl": [
           {
            "colorbar": {
             "outlinewidth": 0,
             "ticks": ""
            },
            "colorscale": [
             [
              0,
              "#0d0887"
             ],
             [
              0.1111111111111111,
              "#46039f"
             ],
             [
              0.2222222222222222,
              "#7201a8"
             ],
             [
              0.3333333333333333,
              "#9c179e"
             ],
             [
              0.4444444444444444,
              "#bd3786"
             ],
             [
              0.5555555555555556,
              "#d8576b"
             ],
             [
              0.6666666666666666,
              "#ed7953"
             ],
             [
              0.7777777777777778,
              "#fb9f3a"
             ],
             [
              0.8888888888888888,
              "#fdca26"
             ],
             [
              1,
              "#f0f921"
             ]
            ],
            "type": "heatmapgl"
           }
          ],
          "histogram": [
           {
            "marker": {
             "pattern": {
              "fillmode": "overlay",
              "size": 10,
              "solidity": 0.2
             }
            },
            "type": "histogram"
           }
          ],
          "histogram2d": [
           {
            "colorbar": {
             "outlinewidth": 0,
             "ticks": ""
            },
            "colorscale": [
             [
              0,
              "#0d0887"
             ],
             [
              0.1111111111111111,
              "#46039f"
             ],
             [
              0.2222222222222222,
              "#7201a8"
             ],
             [
              0.3333333333333333,
              "#9c179e"
             ],
             [
              0.4444444444444444,
              "#bd3786"
             ],
             [
              0.5555555555555556,
              "#d8576b"
             ],
             [
              0.6666666666666666,
              "#ed7953"
             ],
             [
              0.7777777777777778,
              "#fb9f3a"
             ],
             [
              0.8888888888888888,
              "#fdca26"
             ],
             [
              1,
              "#f0f921"
             ]
            ],
            "type": "histogram2d"
           }
          ],
          "histogram2dcontour": [
           {
            "colorbar": {
             "outlinewidth": 0,
             "ticks": ""
            },
            "colorscale": [
             [
              0,
              "#0d0887"
             ],
             [
              0.1111111111111111,
              "#46039f"
             ],
             [
              0.2222222222222222,
              "#7201a8"
             ],
             [
              0.3333333333333333,
              "#9c179e"
             ],
             [
              0.4444444444444444,
              "#bd3786"
             ],
             [
              0.5555555555555556,
              "#d8576b"
             ],
             [
              0.6666666666666666,
              "#ed7953"
             ],
             [
              0.7777777777777778,
              "#fb9f3a"
             ],
             [
              0.8888888888888888,
              "#fdca26"
             ],
             [
              1,
              "#f0f921"
             ]
            ],
            "type": "histogram2dcontour"
           }
          ],
          "mesh3d": [
           {
            "colorbar": {
             "outlinewidth": 0,
             "ticks": ""
            },
            "type": "mesh3d"
           }
          ],
          "parcoords": [
           {
            "line": {
             "colorbar": {
              "outlinewidth": 0,
              "ticks": ""
             }
            },
            "type": "parcoords"
           }
          ],
          "pie": [
           {
            "automargin": true,
            "type": "pie"
           }
          ],
          "scatter": [
           {
            "fillpattern": {
             "fillmode": "overlay",
             "size": 10,
             "solidity": 0.2
            },
            "type": "scatter"
           }
          ],
          "scatter3d": [
           {
            "line": {
             "colorbar": {
              "outlinewidth": 0,
              "ticks": ""
             }
            },
            "marker": {
             "colorbar": {
              "outlinewidth": 0,
              "ticks": ""
             }
            },
            "type": "scatter3d"
           }
          ],
          "scattercarpet": [
           {
            "marker": {
             "colorbar": {
              "outlinewidth": 0,
              "ticks": ""
             }
            },
            "type": "scattercarpet"
           }
          ],
          "scattergeo": [
           {
            "marker": {
             "colorbar": {
              "outlinewidth": 0,
              "ticks": ""
             }
            },
            "type": "scattergeo"
           }
          ],
          "scattergl": [
           {
            "marker": {
             "colorbar": {
              "outlinewidth": 0,
              "ticks": ""
             }
            },
            "type": "scattergl"
           }
          ],
          "scattermapbox": [
           {
            "marker": {
             "colorbar": {
              "outlinewidth": 0,
              "ticks": ""
             }
            },
            "type": "scattermapbox"
           }
          ],
          "scatterpolar": [
           {
            "marker": {
             "colorbar": {
              "outlinewidth": 0,
              "ticks": ""
             }
            },
            "type": "scatterpolar"
           }
          ],
          "scatterpolargl": [
           {
            "marker": {
             "colorbar": {
              "outlinewidth": 0,
              "ticks": ""
             }
            },
            "type": "scatterpolargl"
           }
          ],
          "scatterternary": [
           {
            "marker": {
             "colorbar": {
              "outlinewidth": 0,
              "ticks": ""
             }
            },
            "type": "scatterternary"
           }
          ],
          "surface": [
           {
            "colorbar": {
             "outlinewidth": 0,
             "ticks": ""
            },
            "colorscale": [
             [
              0,
              "#0d0887"
             ],
             [
              0.1111111111111111,
              "#46039f"
             ],
             [
              0.2222222222222222,
              "#7201a8"
             ],
             [
              0.3333333333333333,
              "#9c179e"
             ],
             [
              0.4444444444444444,
              "#bd3786"
             ],
             [
              0.5555555555555556,
              "#d8576b"
             ],
             [
              0.6666666666666666,
              "#ed7953"
             ],
             [
              0.7777777777777778,
              "#fb9f3a"
             ],
             [
              0.8888888888888888,
              "#fdca26"
             ],
             [
              1,
              "#f0f921"
             ]
            ],
            "type": "surface"
           }
          ],
          "table": [
           {
            "cells": {
             "fill": {
              "color": "#EBF0F8"
             },
             "line": {
              "color": "white"
             }
            },
            "header": {
             "fill": {
              "color": "#C8D4E3"
             },
             "line": {
              "color": "white"
             }
            },
            "type": "table"
           }
          ]
         },
         "layout": {
          "annotationdefaults": {
           "arrowcolor": "#2a3f5f",
           "arrowhead": 0,
           "arrowwidth": 1
          },
          "autotypenumbers": "strict",
          "coloraxis": {
           "colorbar": {
            "outlinewidth": 0,
            "ticks": ""
           }
          },
          "colorscale": {
           "diverging": [
            [
             0,
             "#8e0152"
            ],
            [
             0.1,
             "#c51b7d"
            ],
            [
             0.2,
             "#de77ae"
            ],
            [
             0.3,
             "#f1b6da"
            ],
            [
             0.4,
             "#fde0ef"
            ],
            [
             0.5,
             "#f7f7f7"
            ],
            [
             0.6,
             "#e6f5d0"
            ],
            [
             0.7,
             "#b8e186"
            ],
            [
             0.8,
             "#7fbc41"
            ],
            [
             0.9,
             "#4d9221"
            ],
            [
             1,
             "#276419"
            ]
           ],
           "sequential": [
            [
             0,
             "#0d0887"
            ],
            [
             0.1111111111111111,
             "#46039f"
            ],
            [
             0.2222222222222222,
             "#7201a8"
            ],
            [
             0.3333333333333333,
             "#9c179e"
            ],
            [
             0.4444444444444444,
             "#bd3786"
            ],
            [
             0.5555555555555556,
             "#d8576b"
            ],
            [
             0.6666666666666666,
             "#ed7953"
            ],
            [
             0.7777777777777778,
             "#fb9f3a"
            ],
            [
             0.8888888888888888,
             "#fdca26"
            ],
            [
             1,
             "#f0f921"
            ]
           ],
           "sequentialminus": [
            [
             0,
             "#0d0887"
            ],
            [
             0.1111111111111111,
             "#46039f"
            ],
            [
             0.2222222222222222,
             "#7201a8"
            ],
            [
             0.3333333333333333,
             "#9c179e"
            ],
            [
             0.4444444444444444,
             "#bd3786"
            ],
            [
             0.5555555555555556,
             "#d8576b"
            ],
            [
             0.6666666666666666,
             "#ed7953"
            ],
            [
             0.7777777777777778,
             "#fb9f3a"
            ],
            [
             0.8888888888888888,
             "#fdca26"
            ],
            [
             1,
             "#f0f921"
            ]
           ]
          },
          "colorway": [
           "#636efa",
           "#EF553B",
           "#00cc96",
           "#ab63fa",
           "#FFA15A",
           "#19d3f3",
           "#FF6692",
           "#B6E880",
           "#FF97FF",
           "#FECB52"
          ],
          "font": {
           "color": "#2a3f5f"
          },
          "geo": {
           "bgcolor": "white",
           "lakecolor": "white",
           "landcolor": "#E5ECF6",
           "showlakes": true,
           "showland": true,
           "subunitcolor": "white"
          },
          "hoverlabel": {
           "align": "left"
          },
          "hovermode": "closest",
          "mapbox": {
           "style": "light"
          },
          "paper_bgcolor": "white",
          "plot_bgcolor": "#E5ECF6",
          "polar": {
           "angularaxis": {
            "gridcolor": "white",
            "linecolor": "white",
            "ticks": ""
           },
           "bgcolor": "#E5ECF6",
           "radialaxis": {
            "gridcolor": "white",
            "linecolor": "white",
            "ticks": ""
           }
          },
          "scene": {
           "xaxis": {
            "backgroundcolor": "#E5ECF6",
            "gridcolor": "white",
            "gridwidth": 2,
            "linecolor": "white",
            "showbackground": true,
            "ticks": "",
            "zerolinecolor": "white"
           },
           "yaxis": {
            "backgroundcolor": "#E5ECF6",
            "gridcolor": "white",
            "gridwidth": 2,
            "linecolor": "white",
            "showbackground": true,
            "ticks": "",
            "zerolinecolor": "white"
           },
           "zaxis": {
            "backgroundcolor": "#E5ECF6",
            "gridcolor": "white",
            "gridwidth": 2,
            "linecolor": "white",
            "showbackground": true,
            "ticks": "",
            "zerolinecolor": "white"
           }
          },
          "shapedefaults": {
           "line": {
            "color": "#2a3f5f"
           }
          },
          "ternary": {
           "aaxis": {
            "gridcolor": "white",
            "linecolor": "white",
            "ticks": ""
           },
           "baxis": {
            "gridcolor": "white",
            "linecolor": "white",
            "ticks": ""
           },
           "bgcolor": "#E5ECF6",
           "caxis": {
            "gridcolor": "white",
            "linecolor": "white",
            "ticks": ""
           }
          },
          "title": {
           "x": 0.05
          },
          "xaxis": {
           "automargin": true,
           "gridcolor": "white",
           "linecolor": "white",
           "ticks": "",
           "title": {
            "standoff": 15
           },
           "zerolinecolor": "white",
           "zerolinewidth": 2
          },
          "yaxis": {
           "automargin": true,
           "gridcolor": "white",
           "linecolor": "white",
           "ticks": "",
           "title": {
            "standoff": 15
           },
           "zerolinecolor": "white",
           "zerolinewidth": 2
          }
         }
        },
        "xaxis": {
         "anchor": "y",
         "domain": [
          0,
          1
         ],
         "title": {
          "text": "index"
         }
        },
        "yaxis": {
         "anchor": "x",
         "domain": [
          0,
          1
         ],
         "title": {
          "text": "p_loss"
         }
        }
       }
      }
     },
     "metadata": {},
     "output_type": "display_data"
    },
    {
     "data": {
      "application/vnd.plotly.v1+json": {
       "config": {
        "plotlyServerURL": "https://plot.ly"
       },
       "data": [
        {
         "hovertemplate": "index=%{x}<br>p_loss=%{y}<extra></extra>",
         "legendgroup": "",
         "marker": {
          "color": "#636efa",
          "symbol": "circle"
         },
         "mode": "markers",
         "name": "",
         "orientation": "v",
         "showlegend": false,
         "type": "scatter",
         "x": [
          0,
          1,
          2,
          3,
          4,
          5,
          6,
          7,
          8,
          9,
          10,
          11,
          12,
          13,
          14,
          15,
          16,
          17,
          18,
          19,
          20,
          21,
          22,
          23,
          24,
          25,
          26,
          27,
          28,
          29,
          30,
          31,
          32,
          33,
          34,
          35,
          36,
          37,
          38,
          39,
          40,
          41,
          42,
          43,
          44,
          45,
          46,
          47,
          48,
          49,
          50,
          51,
          52,
          53,
          54,
          55,
          56,
          57,
          58,
          59,
          60,
          61,
          62,
          63,
          64,
          65,
          66,
          67,
          68,
          69,
          70,
          71,
          72,
          73,
          74,
          75,
          76,
          77,
          78,
          79,
          80,
          81,
          82,
          83,
          84,
          85,
          86,
          87,
          88,
          89,
          90,
          91,
          92,
          93,
          94,
          95,
          96,
          97,
          98,
          99,
          100,
          101,
          102,
          103,
          104,
          105,
          106,
          107,
          108,
          109,
          110,
          111,
          112,
          113,
          114,
          115,
          116,
          117,
          118,
          119,
          120,
          121,
          122,
          123,
          124,
          125,
          126,
          127,
          128,
          129,
          130,
          131,
          132,
          133,
          134,
          135,
          136,
          137,
          138,
          139,
          140,
          141,
          142,
          143,
          144,
          145,
          146,
          147,
          148,
          149,
          150,
          151,
          152,
          153,
          154,
          155,
          156,
          157,
          158,
          159,
          160,
          161,
          162,
          163,
          164,
          165,
          166,
          167,
          168,
          169,
          170,
          171,
          172,
          173,
          174,
          175,
          176,
          177,
          178,
          179,
          180,
          181,
          182,
          183,
          184,
          185,
          186,
          187,
          188,
          189,
          190,
          191,
          192,
          193,
          194,
          195,
          196,
          197,
          198,
          199,
          200,
          201,
          202,
          203,
          204,
          205,
          206,
          207,
          208,
          209,
          210,
          211,
          212,
          213,
          214,
          215,
          216,
          217,
          218,
          219,
          220,
          221,
          222,
          223,
          224,
          225,
          226,
          227,
          228,
          229,
          230,
          231,
          232,
          233,
          234,
          235,
          236,
          237,
          238,
          239,
          240,
          241,
          242,
          243,
          244,
          245,
          246,
          247,
          248,
          249,
          250,
          251,
          252,
          253,
          254,
          255,
          256,
          257,
          258,
          259,
          260,
          261,
          262,
          263,
          264,
          265,
          266,
          267,
          268,
          269,
          270,
          271,
          272,
          273,
          274,
          275,
          276,
          277,
          278,
          279,
          280,
          281,
          282,
          283,
          284,
          285,
          286,
          287,
          288,
          289,
          290,
          291,
          292,
          293,
          294,
          295,
          296,
          297,
          298,
          299,
          300,
          301,
          302,
          303,
          304,
          305,
          306,
          307,
          308,
          309,
          310,
          311,
          312,
          313,
          314,
          315,
          316,
          317,
          318,
          319,
          320,
          321,
          322,
          323,
          324,
          325,
          326,
          327,
          328,
          329,
          330,
          331,
          332,
          333,
          334,
          335,
          336,
          337,
          338,
          339,
          340,
          341,
          342,
          343,
          344,
          345,
          346,
          347,
          348,
          349,
          350,
          351,
          352,
          353,
          354,
          355,
          356,
          357,
          358,
          359,
          360,
          361,
          362,
          363,
          364,
          365,
          366,
          367,
          368,
          369,
          370,
          371,
          372,
          373,
          374,
          375,
          376,
          377,
          378,
          379,
          380,
          381,
          382,
          383,
          384,
          385,
          386,
          387,
          388,
          389,
          390,
          391,
          392,
          393,
          394,
          395,
          396,
          397,
          398,
          399,
          400,
          401,
          402,
          403,
          404,
          405,
          406,
          407,
          408,
          409,
          410,
          411,
          412,
          413,
          414,
          415,
          416,
          417,
          418,
          419,
          420,
          421,
          422,
          423,
          424,
          425,
          426,
          427,
          428,
          429,
          430,
          431,
          432,
          433,
          434,
          435,
          436,
          437,
          438,
          439,
          440,
          441,
          442,
          443,
          444,
          445,
          446,
          447,
          448,
          449,
          450,
          451,
          452,
          453,
          454,
          455,
          456,
          457,
          458,
          459,
          460,
          461,
          462,
          463,
          464,
          465,
          466,
          467,
          468,
          469,
          470,
          471,
          472,
          473,
          474,
          475,
          476,
          477,
          478,
          479,
          480,
          481,
          482,
          483,
          484,
          485,
          486,
          487,
          488,
          489,
          490,
          491,
          492,
          493,
          494,
          495,
          496,
          497,
          498,
          499
         ],
         "xaxis": "x",
         "y": [
          1.0105206966400146,
          0.8898743391036987,
          0.7889392375946045,
          0.7092980742454529,
          0.6512140035629272,
          0.6133131980895996,
          0.5926584601402283,
          0.585227370262146,
          0.5866400599479675,
          0.5928619503974915,
          0.6006568670272827,
          0.6077431440353394,
          0.6127155423164368,
          0.6148869395256042,
          0.6141020655632019,
          0.6105839610099792,
          0.6047808527946472,
          0.5972822904586792,
          0.5887477397918701,
          0.5798503160476685,
          0.5712166428565979,
          0.563387930393219,
          0.5567761659622192,
          0.551630437374115,
          0.5480170249938965,
          0.5458192229270935,
          0.544761061668396,
          0.5444563031196594,
          0.5444724559783936,
          0.5444000363349915,
          0.5439131855964661,
          0.5428099036216736,
          0.541028618812561,
          0.5386354923248291,
          0.5357932448387146,
          0.5327193140983582,
          0.5296403169631958,
          0.5267544984817505,
          0.5242020487785339,
          0.5220536589622498,
          0.5203120708465576,
          0.5189239382743835,
          0.5177977085113525,
          0.5168262124061584,
          0.5159047842025757,
          0.5149489641189575,
          0.5139010548591614,
          0.5127354860305786,
          0.5114575624465942,
          0.5100966691970825,
          0.5086970329284668,
          0.5073080658912659,
          0.505974531173706,
          0.5047306418418884,
          0.5035954117774963,
          0.5025704503059387,
          0.501642644405365,
          0.5007883906364441,
          0.4999789595603943,
          0.49918660521507263,
          0.4983889162540436,
          0.49757257103919983,
          0.49673399329185486,
          0.49587827920913696,
          0.4950166642665863,
          0.4941631853580475,
          0.49333134293556213,
          0.49253129959106445,
          0.49176883697509766,
          0.4910443425178528,
          0.49035415053367615,
          0.4896913170814514,
          0.48904791474342346,
          0.4884163737297058,
          0.4877910614013672,
          0.4871686100959778,
          0.48654836416244507,
          0.4859318733215332,
          0.4853220582008362,
          0.4847226142883301,
          0.4841368794441223,
          0.48356717824935913,
          0.4830142855644226,
          0.48247766494750977,
          0.4819558262825012,
          0.48144659399986267,
          0.4809478223323822,
          0.480457603931427,
          0.47997480630874634,
          0.4794987738132477,
          0.4790298044681549,
          0.4785684049129486,
          0.4781154692173004,
          0.47767171263694763,
          0.47723740339279175,
          0.47681260108947754,
          0.4763970375061035,
          0.4759902060031891,
          0.4755912721157074,
          0.47519955039024353,
          0.4748143255710602,
          0.47443485260009766,
          0.47406110167503357,
          0.4736928939819336,
          0.4733307361602783,
          0.47297459840774536,
          0.4726247191429138,
          0.4722810685634613,
          0.4719437062740326,
          0.47161245346069336,
          0.47128695249557495,
          0.47096699476242065,
          0.47065243124961853,
          0.4703429639339447,
          0.470038503408432,
          0.4697389006614685,
          0.4694441258907318,
          0.4691542088985443,
          0.46886906027793884,
          0.4685886800289154,
          0.46831291913986206,
          0.4680418074131012,
          0.46777504682540894,
          0.46751275658607483,
          0.4672546982765198,
          0.46700072288513184,
          0.46675077080726624,
          0.46650463342666626,
          0.4662623405456543,
          0.46602383255958557,
          0.46578890085220337,
          0.46555766463279724,
          0.4653300642967224,
          0.46510595083236694,
          0.46488532423973083,
          0.4646681249141693,
          0.46445417404174805,
          0.4642435610294342,
          0.4640360474586487,
          0.4638316035270691,
          0.4636302888393402,
          0.4634321331977844,
          0.46323680877685547,
          0.4630446434020996,
          0.46285533905029297,
          0.4626688063144684,
          0.4624849855899811,
          0.4623037874698639,
          0.46212512254714966,
          0.46194887161254883,
          0.46177512407302856,
          0.46160364151000977,
          0.461434543132782,
          0.46126770973205566,
          0.4611031413078308,
          0.4609408974647522,
          0.46078068017959595,
          0.460622638463974,
          0.46046677231788635,
          0.46031302213668823,
          0.4601612091064453,
          0.4600115418434143,
          0.4598638415336609,
          0.45971813797950745,
          0.45957428216934204,
          0.45943230390548706,
          0.45929232239723206,
          0.45915403962135315,
          0.4590175747871399,
          0.4588828682899475,
          0.4587499499320984,
          0.458618700504303,
          0.4584890902042389,
          0.45836108922958374,
          0.4582347273826599,
          0.45810994505882263,
          0.4579867720603943,
          0.4578651487827301,
          0.4577450156211853,
          0.4576263427734375,
          0.4575091302394867,
          0.4573934078216553,
          0.45727911591529846,
          0.45716625452041626,
          0.45705467462539673,
          0.45694464445114136,
          0.45683589577674866,
          0.456728458404541,
          0.4566224217414856,
          0.45651760697364807,
          0.456414133310318,
          0.4563119411468506,
          0.4562109410762787,
          0.45611119270324707,
          0.45601266622543335,
          0.45591530203819275,
          0.4558189809322357,
          0.4557238519191742,
          0.455629825592041,
          0.45553693175315857,
          0.45544514060020447,
          0.4553545117378235,
          0.4552648961544037,
          0.45517635345458984,
          0.45508894324302673,
          0.4550025463104248,
          0.45491713285446167,
          0.45483285188674927,
          0.45474952459335327,
          0.454667329788208,
          0.45458611845970154,
          0.454505980014801,
          0.45442667603492737,
          0.4543484151363373,
          0.4542710781097412,
          0.45419469475746155,
          0.4541192948818207,
          0.45404472947120667,
          0.45397108793258667,
          0.4538983702659607,
          0.45382657647132874,
          0.45375552773475647,
          0.45368534326553345,
          0.4536159634590149,
          0.4535473883152008,
          0.4534796178340912,
          0.45341259241104126,
          0.4533463418483734,
          0.45328086614608765,
          0.4532160758972168,
          0.4531521797180176,
          0.45308899879455566,
          0.45302659273147583,
          0.4529648721218109,
          0.4529038369655609,
          0.4528435170650482,
          0.4527837336063385,
          0.4527246057987213,
          0.45266610383987427,
          0.45260825753211975,
          0.4525509774684906,
          0.4524942934513092,
          0.45243820548057556,
          0.4523826539516449,
          0.4523277282714844,
          0.4522733688354492,
          0.45221954584121704,
          0.4521663784980774,
          0.45211371779441833,
          0.4520617127418518,
          0.45201024413108826,
          0.45195937156677246,
          0.45190900564193726,
          0.4518592953681946,
          0.4518100619316101,
          0.451761394739151,
          0.4517132639884949,
          0.4516656994819641,
          0.45161867141723633,
          0.45157212018966675,
          0.45152607560157776,
          0.45148056745529175,
          0.45143556594848633,
          0.4513910412788391,
          0.4513469636440277,
          0.4513034224510193,
          0.45126041769981384,
          0.45121780037879944,
          0.4511757493019104,
          0.45113405585289,
          0.45109280943870544,
          0.45105209946632385,
          0.4510118067264557,
          0.45097190141677856,
          0.45093250274658203,
          0.45089346170425415,
          0.45085492730140686,
          0.45081672072410583,
          0.4507789611816406,
          0.45074161887168884,
          0.4507047235965729,
          0.4506683349609375,
          0.4506322741508484,
          0.45059674978256226,
          0.45056161284446716,
          0.4505268633365631,
          0.45049238204956055,
          0.4504583477973938,
          0.45042458176612854,
          0.45039111375808716,
          0.4503580629825592,
          0.4503253400325775,
          0.4502929747104645,
          0.4502609372138977,
          0.4502291679382324,
          0.45019784569740295,
          0.45016685128211975,
          0.45013609528541565,
          0.450105756521225,
          0.4500757157802582,
          0.4500460624694824,
          0.45001667737960815,
          0.44998764991760254,
          0.4499589502811432,
          0.44993048906326294,
          0.4499024450778961,
          0.4498745799064636,
          0.44984713196754456,
          0.44981998205184937,
          0.44979310035705566,
          0.4497665464878082,
          0.4497402310371399,
          0.4497142434120178,
          0.44968852400779724,
          0.44966310262680054,
          0.4496379792690277,
          0.44961315393447876,
          0.4495885372161865,
          0.4495641589164734,
          0.44954007863998413,
          0.44951629638671875,
          0.44949278235435486,
          0.4494694769382477,
          0.44944649934768677,
          0.449423611164093,
          0.4494009017944336,
          0.4493784010410309,
          0.4493560791015625,
          0.44933396577835083,
          0.44931212067604065,
          0.4492904245853424,
          0.44926899671554565,
          0.44924789667129517,
          0.4492270350456238,
          0.4492064118385315,
          0.44918593764305115,
          0.4491657614707947,
          0.4491457939147949,
          0.44912606477737427,
          0.44910651445388794,
          0.4490872323513031,
          0.4490680694580078,
          0.4490492343902588,
          0.4490305483341217,
          0.44901198148727417,
          0.44899383187294006,
          0.44897574186325073,
          0.4489579200744629,
          0.4489402770996094,
          0.448922723531723,
          0.44890546798706055,
          0.44888821244239807,
          0.4488712251186371,
          0.44885438680648804,
          0.4488378167152405,
          0.44882136583328247,
          0.44880515336990356,
          0.448789119720459,
          0.44877323508262634,
          0.4487575888633728,
          0.4487420916557312,
          0.44872674345970154,
          0.44871169328689575,
          0.44869670271873474,
          0.44868189096450806,
          0.4486672878265381,
          0.44865289330482483,
          0.44863858819007874,
          0.44862452149391174,
          0.4486105442047119,
          0.44859665632247925,
          0.44858306646347046,
          0.4485695958137512,
          0.44855624437332153,
          0.44854307174682617,
          0.44853004813194275,
          0.4485171437263489,
          0.44850438833236694,
          0.44849175214767456,
          0.4484793245792389,
          0.4484670162200928,
          0.44845476746559143,
          0.44844263792037964,
          0.4484306871891022,
          0.4484187960624695,
          0.44840699434280396,
          0.4483952522277832,
          0.4483835697174072,
          0.448371946811676,
          0.4483603835105896,
          0.44834908843040466,
          0.4483377933502197,
          0.44832664728164673,
          0.4483155608177185,
          0.4483046531677246,
          0.4482938349246979,
          0.4482831060886383,
          0.4482725262641907,
          0.4482620358467102,
          0.44825172424316406,
          0.4482414126396179,
          0.4482312798500061,
          0.4482211172580719,
          0.44821110367774963,
          0.44820109009742737,
          0.44819122552871704,
          0.4481813907623291,
          0.4481716752052307,
          0.4481620788574219,
          0.4481525421142578,
          0.4481430947780609,
          0.44813376665115356,
          0.44812455773353577,
          0.44811534881591797,
          0.4481062889099121,
          0.4480973184108734,
          0.4480884075164795,
          0.4480796456336975,
          0.4480709433555603,
          0.44806236028671265,
          0.448053777217865,
          0.4480453133583069,
          0.4480369985103607,
          0.44802871346473694,
          0.4480205476284027,
          0.44801250100135803,
          0.44800448417663574,
          0.4479965567588806,
          0.4479888081550598,
          0.44798097014427185,
          0.4479731023311615,
          0.44796544313430786,
          0.44795775413513184,
          0.4479500651359558,
          0.44794249534606934,
          0.44793492555618286,
          0.44792741537094116,
          0.44791990518569946,
          0.44791239500045776,
          0.4479050040245056,
          0.44789761304855347,
          0.44789034128189087,
          0.44788312911987305,
          0.4478759169578552,
          0.44786882400512695,
          0.44786182045936584,
          0.4478549063205719,
          0.44784799218177795,
          0.44784122705459595,
          0.44783449172973633,
          0.4478278160095215,
          0.4478211998939514,
          0.44781461358070374,
          0.44780802726745605,
          0.44780150055885315,
          0.4477950930595398,
          0.44778862595558167,
          0.44778233766555786,
          0.44777607917785645,
          0.44776982069015503,
          0.44776368141174316,
          0.4477575719356537,
          0.447751522064209,
          0.4477456212043762,
          0.44773969054222107,
          0.44773387908935547,
          0.44772809743881226,
          0.4477223753929138,
          0.44771671295166016,
          0.44771113991737366,
          0.44770559668540955,
          0.4477001130580902,
          0.44769471883773804,
          0.44768935441970825,
          0.44768404960632324,
          0.4476788640022278,
          0.44767364859580994,
          0.44766855239868164,
          0.44766345620155334,
          0.4476584494113922,
          0.44765347242355347,
          0.44764867424964905,
          0.4476437568664551,
          0.44763898849487305,
          0.447634220123291,
          0.44762954115867615,
          0.4476248323917389,
          0.4476202428340912,
          0.44761571288108826,
          0.4476111829280853,
          0.4476067125797272,
          0.4476022720336914,
          0.44759780168533325,
          0.4475933015346527,
          0.44758886098861694,
          0.44758445024490356,
          0.4475800395011902,
          0.4475756585597992,
          0.447571337223053,
          0.44756707549095154
         ],
         "yaxis": "y"
        }
       ],
       "layout": {
        "legend": {
         "tracegroupgap": 0
        },
        "margin": {
         "t": 60
        },
        "template": {
         "data": {
          "bar": [
           {
            "error_x": {
             "color": "#2a3f5f"
            },
            "error_y": {
             "color": "#2a3f5f"
            },
            "marker": {
             "line": {
              "color": "#E5ECF6",
              "width": 0.5
             },
             "pattern": {
              "fillmode": "overlay",
              "size": 10,
              "solidity": 0.2
             }
            },
            "type": "bar"
           }
          ],
          "barpolar": [
           {
            "marker": {
             "line": {
              "color": "#E5ECF6",
              "width": 0.5
             },
             "pattern": {
              "fillmode": "overlay",
              "size": 10,
              "solidity": 0.2
             }
            },
            "type": "barpolar"
           }
          ],
          "carpet": [
           {
            "aaxis": {
             "endlinecolor": "#2a3f5f",
             "gridcolor": "white",
             "linecolor": "white",
             "minorgridcolor": "white",
             "startlinecolor": "#2a3f5f"
            },
            "baxis": {
             "endlinecolor": "#2a3f5f",
             "gridcolor": "white",
             "linecolor": "white",
             "minorgridcolor": "white",
             "startlinecolor": "#2a3f5f"
            },
            "type": "carpet"
           }
          ],
          "choropleth": [
           {
            "colorbar": {
             "outlinewidth": 0,
             "ticks": ""
            },
            "type": "choropleth"
           }
          ],
          "contour": [
           {
            "colorbar": {
             "outlinewidth": 0,
             "ticks": ""
            },
            "colorscale": [
             [
              0,
              "#0d0887"
             ],
             [
              0.1111111111111111,
              "#46039f"
             ],
             [
              0.2222222222222222,
              "#7201a8"
             ],
             [
              0.3333333333333333,
              "#9c179e"
             ],
             [
              0.4444444444444444,
              "#bd3786"
             ],
             [
              0.5555555555555556,
              "#d8576b"
             ],
             [
              0.6666666666666666,
              "#ed7953"
             ],
             [
              0.7777777777777778,
              "#fb9f3a"
             ],
             [
              0.8888888888888888,
              "#fdca26"
             ],
             [
              1,
              "#f0f921"
             ]
            ],
            "type": "contour"
           }
          ],
          "contourcarpet": [
           {
            "colorbar": {
             "outlinewidth": 0,
             "ticks": ""
            },
            "type": "contourcarpet"
           }
          ],
          "heatmap": [
           {
            "colorbar": {
             "outlinewidth": 0,
             "ticks": ""
            },
            "colorscale": [
             [
              0,
              "#0d0887"
             ],
             [
              0.1111111111111111,
              "#46039f"
             ],
             [
              0.2222222222222222,
              "#7201a8"
             ],
             [
              0.3333333333333333,
              "#9c179e"
             ],
             [
              0.4444444444444444,
              "#bd3786"
             ],
             [
              0.5555555555555556,
              "#d8576b"
             ],
             [
              0.6666666666666666,
              "#ed7953"
             ],
             [
              0.7777777777777778,
              "#fb9f3a"
             ],
             [
              0.8888888888888888,
              "#fdca26"
             ],
             [
              1,
              "#f0f921"
             ]
            ],
            "type": "heatmap"
           }
          ],
          "heatmapgl": [
           {
            "colorbar": {
             "outlinewidth": 0,
             "ticks": ""
            },
            "colorscale": [
             [
              0,
              "#0d0887"
             ],
             [
              0.1111111111111111,
              "#46039f"
             ],
             [
              0.2222222222222222,
              "#7201a8"
             ],
             [
              0.3333333333333333,
              "#9c179e"
             ],
             [
              0.4444444444444444,
              "#bd3786"
             ],
             [
              0.5555555555555556,
              "#d8576b"
             ],
             [
              0.6666666666666666,
              "#ed7953"
             ],
             [
              0.7777777777777778,
              "#fb9f3a"
             ],
             [
              0.8888888888888888,
              "#fdca26"
             ],
             [
              1,
              "#f0f921"
             ]
            ],
            "type": "heatmapgl"
           }
          ],
          "histogram": [
           {
            "marker": {
             "pattern": {
              "fillmode": "overlay",
              "size": 10,
              "solidity": 0.2
             }
            },
            "type": "histogram"
           }
          ],
          "histogram2d": [
           {
            "colorbar": {
             "outlinewidth": 0,
             "ticks": ""
            },
            "colorscale": [
             [
              0,
              "#0d0887"
             ],
             [
              0.1111111111111111,
              "#46039f"
             ],
             [
              0.2222222222222222,
              "#7201a8"
             ],
             [
              0.3333333333333333,
              "#9c179e"
             ],
             [
              0.4444444444444444,
              "#bd3786"
             ],
             [
              0.5555555555555556,
              "#d8576b"
             ],
             [
              0.6666666666666666,
              "#ed7953"
             ],
             [
              0.7777777777777778,
              "#fb9f3a"
             ],
             [
              0.8888888888888888,
              "#fdca26"
             ],
             [
              1,
              "#f0f921"
             ]
            ],
            "type": "histogram2d"
           }
          ],
          "histogram2dcontour": [
           {
            "colorbar": {
             "outlinewidth": 0,
             "ticks": ""
            },
            "colorscale": [
             [
              0,
              "#0d0887"
             ],
             [
              0.1111111111111111,
              "#46039f"
             ],
             [
              0.2222222222222222,
              "#7201a8"
             ],
             [
              0.3333333333333333,
              "#9c179e"
             ],
             [
              0.4444444444444444,
              "#bd3786"
             ],
             [
              0.5555555555555556,
              "#d8576b"
             ],
             [
              0.6666666666666666,
              "#ed7953"
             ],
             [
              0.7777777777777778,
              "#fb9f3a"
             ],
             [
              0.8888888888888888,
              "#fdca26"
             ],
             [
              1,
              "#f0f921"
             ]
            ],
            "type": "histogram2dcontour"
           }
          ],
          "mesh3d": [
           {
            "colorbar": {
             "outlinewidth": 0,
             "ticks": ""
            },
            "type": "mesh3d"
           }
          ],
          "parcoords": [
           {
            "line": {
             "colorbar": {
              "outlinewidth": 0,
              "ticks": ""
             }
            },
            "type": "parcoords"
           }
          ],
          "pie": [
           {
            "automargin": true,
            "type": "pie"
           }
          ],
          "scatter": [
           {
            "fillpattern": {
             "fillmode": "overlay",
             "size": 10,
             "solidity": 0.2
            },
            "type": "scatter"
           }
          ],
          "scatter3d": [
           {
            "line": {
             "colorbar": {
              "outlinewidth": 0,
              "ticks": ""
             }
            },
            "marker": {
             "colorbar": {
              "outlinewidth": 0,
              "ticks": ""
             }
            },
            "type": "scatter3d"
           }
          ],
          "scattercarpet": [
           {
            "marker": {
             "colorbar": {
              "outlinewidth": 0,
              "ticks": ""
             }
            },
            "type": "scattercarpet"
           }
          ],
          "scattergeo": [
           {
            "marker": {
             "colorbar": {
              "outlinewidth": 0,
              "ticks": ""
             }
            },
            "type": "scattergeo"
           }
          ],
          "scattergl": [
           {
            "marker": {
             "colorbar": {
              "outlinewidth": 0,
              "ticks": ""
             }
            },
            "type": "scattergl"
           }
          ],
          "scattermapbox": [
           {
            "marker": {
             "colorbar": {
              "outlinewidth": 0,
              "ticks": ""
             }
            },
            "type": "scattermapbox"
           }
          ],
          "scatterpolar": [
           {
            "marker": {
             "colorbar": {
              "outlinewidth": 0,
              "ticks": ""
             }
            },
            "type": "scatterpolar"
           }
          ],
          "scatterpolargl": [
           {
            "marker": {
             "colorbar": {
              "outlinewidth": 0,
              "ticks": ""
             }
            },
            "type": "scatterpolargl"
           }
          ],
          "scatterternary": [
           {
            "marker": {
             "colorbar": {
              "outlinewidth": 0,
              "ticks": ""
             }
            },
            "type": "scatterternary"
           }
          ],
          "surface": [
           {
            "colorbar": {
             "outlinewidth": 0,
             "ticks": ""
            },
            "colorscale": [
             [
              0,
              "#0d0887"
             ],
             [
              0.1111111111111111,
              "#46039f"
             ],
             [
              0.2222222222222222,
              "#7201a8"
             ],
             [
              0.3333333333333333,
              "#9c179e"
             ],
             [
              0.4444444444444444,
              "#bd3786"
             ],
             [
              0.5555555555555556,
              "#d8576b"
             ],
             [
              0.6666666666666666,
              "#ed7953"
             ],
             [
              0.7777777777777778,
              "#fb9f3a"
             ],
             [
              0.8888888888888888,
              "#fdca26"
             ],
             [
              1,
              "#f0f921"
             ]
            ],
            "type": "surface"
           }
          ],
          "table": [
           {
            "cells": {
             "fill": {
              "color": "#EBF0F8"
             },
             "line": {
              "color": "white"
             }
            },
            "header": {
             "fill": {
              "color": "#C8D4E3"
             },
             "line": {
              "color": "white"
             }
            },
            "type": "table"
           }
          ]
         },
         "layout": {
          "annotationdefaults": {
           "arrowcolor": "#2a3f5f",
           "arrowhead": 0,
           "arrowwidth": 1
          },
          "autotypenumbers": "strict",
          "coloraxis": {
           "colorbar": {
            "outlinewidth": 0,
            "ticks": ""
           }
          },
          "colorscale": {
           "diverging": [
            [
             0,
             "#8e0152"
            ],
            [
             0.1,
             "#c51b7d"
            ],
            [
             0.2,
             "#de77ae"
            ],
            [
             0.3,
             "#f1b6da"
            ],
            [
             0.4,
             "#fde0ef"
            ],
            [
             0.5,
             "#f7f7f7"
            ],
            [
             0.6,
             "#e6f5d0"
            ],
            [
             0.7,
             "#b8e186"
            ],
            [
             0.8,
             "#7fbc41"
            ],
            [
             0.9,
             "#4d9221"
            ],
            [
             1,
             "#276419"
            ]
           ],
           "sequential": [
            [
             0,
             "#0d0887"
            ],
            [
             0.1111111111111111,
             "#46039f"
            ],
            [
             0.2222222222222222,
             "#7201a8"
            ],
            [
             0.3333333333333333,
             "#9c179e"
            ],
            [
             0.4444444444444444,
             "#bd3786"
            ],
            [
             0.5555555555555556,
             "#d8576b"
            ],
            [
             0.6666666666666666,
             "#ed7953"
            ],
            [
             0.7777777777777778,
             "#fb9f3a"
            ],
            [
             0.8888888888888888,
             "#fdca26"
            ],
            [
             1,
             "#f0f921"
            ]
           ],
           "sequentialminus": [
            [
             0,
             "#0d0887"
            ],
            [
             0.1111111111111111,
             "#46039f"
            ],
            [
             0.2222222222222222,
             "#7201a8"
            ],
            [
             0.3333333333333333,
             "#9c179e"
            ],
            [
             0.4444444444444444,
             "#bd3786"
            ],
            [
             0.5555555555555556,
             "#d8576b"
            ],
            [
             0.6666666666666666,
             "#ed7953"
            ],
            [
             0.7777777777777778,
             "#fb9f3a"
            ],
            [
             0.8888888888888888,
             "#fdca26"
            ],
            [
             1,
             "#f0f921"
            ]
           ]
          },
          "colorway": [
           "#636efa",
           "#EF553B",
           "#00cc96",
           "#ab63fa",
           "#FFA15A",
           "#19d3f3",
           "#FF6692",
           "#B6E880",
           "#FF97FF",
           "#FECB52"
          ],
          "font": {
           "color": "#2a3f5f"
          },
          "geo": {
           "bgcolor": "white",
           "lakecolor": "white",
           "landcolor": "#E5ECF6",
           "showlakes": true,
           "showland": true,
           "subunitcolor": "white"
          },
          "hoverlabel": {
           "align": "left"
          },
          "hovermode": "closest",
          "mapbox": {
           "style": "light"
          },
          "paper_bgcolor": "white",
          "plot_bgcolor": "#E5ECF6",
          "polar": {
           "angularaxis": {
            "gridcolor": "white",
            "linecolor": "white",
            "ticks": ""
           },
           "bgcolor": "#E5ECF6",
           "radialaxis": {
            "gridcolor": "white",
            "linecolor": "white",
            "ticks": ""
           }
          },
          "scene": {
           "xaxis": {
            "backgroundcolor": "#E5ECF6",
            "gridcolor": "white",
            "gridwidth": 2,
            "linecolor": "white",
            "showbackground": true,
            "ticks": "",
            "zerolinecolor": "white"
           },
           "yaxis": {
            "backgroundcolor": "#E5ECF6",
            "gridcolor": "white",
            "gridwidth": 2,
            "linecolor": "white",
            "showbackground": true,
            "ticks": "",
            "zerolinecolor": "white"
           },
           "zaxis": {
            "backgroundcolor": "#E5ECF6",
            "gridcolor": "white",
            "gridwidth": 2,
            "linecolor": "white",
            "showbackground": true,
            "ticks": "",
            "zerolinecolor": "white"
           }
          },
          "shapedefaults": {
           "line": {
            "color": "#2a3f5f"
           }
          },
          "ternary": {
           "aaxis": {
            "gridcolor": "white",
            "linecolor": "white",
            "ticks": ""
           },
           "baxis": {
            "gridcolor": "white",
            "linecolor": "white",
            "ticks": ""
           },
           "bgcolor": "#E5ECF6",
           "caxis": {
            "gridcolor": "white",
            "linecolor": "white",
            "ticks": ""
           }
          },
          "title": {
           "x": 0.05
          },
          "xaxis": {
           "automargin": true,
           "gridcolor": "white",
           "linecolor": "white",
           "ticks": "",
           "title": {
            "standoff": 15
           },
           "zerolinecolor": "white",
           "zerolinewidth": 2
          },
          "yaxis": {
           "automargin": true,
           "gridcolor": "white",
           "linecolor": "white",
           "ticks": "",
           "title": {
            "standoff": 15
           },
           "zerolinecolor": "white",
           "zerolinewidth": 2
          }
         }
        },
        "xaxis": {
         "anchor": "y",
         "domain": [
          0,
          1
         ],
         "title": {
          "text": "index"
         }
        },
        "yaxis": {
         "anchor": "x",
         "domain": [
          0,
          1
         ],
         "title": {
          "text": "p_loss"
         }
        }
       }
      }
     },
     "metadata": {},
     "output_type": "display_data"
    },
    {
     "data": {
      "application/vnd.plotly.v1+json": {
       "config": {
        "plotlyServerURL": "https://plot.ly"
       },
       "data": [
        {
         "hovertemplate": "index=%{x}<br>p_loss=%{y}<extra></extra>",
         "legendgroup": "",
         "marker": {
          "color": "#636efa",
          "symbol": "circle"
         },
         "mode": "markers",
         "name": "",
         "orientation": "v",
         "showlegend": false,
         "type": "scatter",
         "x": [
          0,
          1,
          2,
          3,
          4,
          5,
          6,
          7,
          8,
          9,
          10,
          11,
          12,
          13,
          14,
          15,
          16,
          17,
          18,
          19,
          20,
          21,
          22,
          23,
          24,
          25,
          26,
          27,
          28,
          29,
          30,
          31,
          32,
          33,
          34,
          35,
          36,
          37,
          38,
          39,
          40,
          41,
          42,
          43,
          44,
          45,
          46,
          47,
          48,
          49,
          50,
          51,
          52,
          53,
          54,
          55,
          56,
          57,
          58,
          59,
          60,
          61,
          62,
          63,
          64,
          65,
          66,
          67,
          68,
          69,
          70,
          71,
          72,
          73,
          74,
          75,
          76,
          77,
          78,
          79,
          80,
          81,
          82,
          83,
          84,
          85,
          86,
          87,
          88,
          89,
          90,
          91,
          92,
          93,
          94,
          95,
          96,
          97,
          98,
          99,
          100,
          101,
          102,
          103,
          104,
          105,
          106,
          107,
          108,
          109,
          110,
          111,
          112,
          113,
          114,
          115,
          116,
          117,
          118,
          119,
          120,
          121,
          122,
          123,
          124,
          125,
          126,
          127,
          128,
          129,
          130,
          131,
          132,
          133,
          134,
          135,
          136,
          137,
          138,
          139,
          140,
          141,
          142,
          143,
          144,
          145,
          146,
          147,
          148,
          149,
          150,
          151,
          152,
          153,
          154,
          155,
          156,
          157,
          158,
          159,
          160,
          161,
          162,
          163,
          164,
          165,
          166,
          167,
          168,
          169,
          170,
          171,
          172,
          173,
          174,
          175,
          176,
          177,
          178,
          179,
          180,
          181,
          182,
          183,
          184,
          185,
          186,
          187,
          188,
          189,
          190,
          191,
          192,
          193,
          194,
          195,
          196,
          197,
          198,
          199,
          200,
          201,
          202,
          203,
          204,
          205,
          206,
          207,
          208,
          209,
          210,
          211,
          212,
          213,
          214,
          215,
          216,
          217,
          218,
          219,
          220,
          221,
          222,
          223,
          224,
          225,
          226,
          227,
          228,
          229,
          230,
          231,
          232,
          233,
          234,
          235,
          236,
          237,
          238,
          239,
          240,
          241,
          242,
          243,
          244,
          245,
          246,
          247,
          248,
          249,
          250,
          251,
          252,
          253,
          254,
          255,
          256,
          257,
          258,
          259,
          260,
          261,
          262,
          263,
          264,
          265,
          266,
          267,
          268,
          269,
          270,
          271,
          272,
          273,
          274,
          275,
          276,
          277,
          278,
          279,
          280,
          281,
          282,
          283,
          284,
          285,
          286,
          287,
          288,
          289,
          290,
          291,
          292,
          293,
          294,
          295,
          296,
          297,
          298,
          299,
          300,
          301,
          302,
          303,
          304,
          305,
          306,
          307,
          308,
          309,
          310,
          311,
          312,
          313,
          314,
          315,
          316,
          317,
          318,
          319,
          320,
          321,
          322,
          323,
          324,
          325,
          326,
          327,
          328,
          329,
          330,
          331,
          332,
          333,
          334,
          335,
          336,
          337,
          338,
          339,
          340,
          341,
          342,
          343,
          344,
          345,
          346,
          347,
          348,
          349,
          350,
          351,
          352,
          353,
          354,
          355,
          356,
          357,
          358,
          359,
          360,
          361,
          362,
          363,
          364,
          365,
          366,
          367,
          368,
          369,
          370,
          371,
          372,
          373,
          374,
          375,
          376,
          377,
          378,
          379,
          380,
          381,
          382,
          383,
          384,
          385,
          386,
          387,
          388,
          389,
          390,
          391,
          392,
          393,
          394,
          395,
          396,
          397,
          398,
          399,
          400,
          401,
          402,
          403,
          404,
          405,
          406,
          407,
          408,
          409,
          410,
          411,
          412,
          413,
          414,
          415,
          416,
          417,
          418,
          419,
          420,
          421,
          422,
          423,
          424,
          425,
          426,
          427,
          428,
          429,
          430,
          431,
          432,
          433,
          434,
          435,
          436,
          437,
          438,
          439,
          440,
          441,
          442,
          443,
          444,
          445,
          446,
          447,
          448,
          449,
          450,
          451,
          452,
          453,
          454,
          455,
          456,
          457,
          458,
          459,
          460,
          461,
          462,
          463,
          464,
          465,
          466,
          467,
          468,
          469,
          470,
          471,
          472,
          473,
          474,
          475,
          476,
          477,
          478,
          479,
          480,
          481,
          482,
          483,
          484,
          485,
          486,
          487,
          488,
          489,
          490,
          491,
          492,
          493,
          494,
          495,
          496,
          497,
          498,
          499
         ],
         "xaxis": "x",
         "y": [
          0.7093042135238647,
          0.6574380993843079,
          0.6261743307113647,
          0.6125395894050598,
          0.6105570793151855,
          0.6132346391677856,
          0.6153944134712219,
          0.6146143674850464,
          0.6105309128761292,
          0.6038639545440674,
          0.5957547426223755,
          0.5873922109603882,
          0.5797936320304871,
          0.5736528038978577,
          0.5692388415336609,
          0.5663696527481079,
          0.564495325088501,
          0.5628949403762817,
          0.5609232187271118,
          0.5582059025764465,
          0.5547082424163818,
          0.5506755709648132,
          0.5464971661567688,
          0.5425573587417603,
          0.5391210317611694,
          0.5362787842750549,
          0.5339539647102356,
          0.5319575667381287,
          0.5300655364990234,
          0.528089702129364,
          0.5259250998497009,
          0.5235636234283447,
          0.5210787653923035,
          0.5185903310775757,
          0.5162220597267151,
          0.5140634775161743,
          0.5121470093727112,
          0.510444164276123,
          0.5088825225830078,
          0.5073751211166382,
          0.505851149559021,
          0.5042780041694641,
          0.5026651620864868,
          0.5010542869567871,
          0.4994972348213196,
          0.49803605675697327,
          0.4966888427734375,
          0.49544697999954224,
          0.49428194761276245,
          0.4931582808494568,
          0.49204665422439575,
          0.49093207716941833,
          0.4898166060447693,
          0.48871445655822754,
          0.487644761800766,
          0.48662295937538147,
          0.48565536737442017,
          0.4847375750541687,
          0.4838577210903168,
          0.4830012917518616,
          0.4821574091911316,
          0.4813215136528015,
          0.4804963171482086,
          0.47968873381614685,
          0.4789064824581146,
          0.47815465927124023,
          0.4774337708950043,
          0.47674041986465454,
          0.4760686457157135,
          0.4754130244255066,
          0.47477030754089355,
          0.4741399884223938,
          0.4735237956047058,
          0.4729247987270355,
          0.4723450243473053,
          0.4717850089073181,
          0.47124361991882324,
          0.4707183241844177,
          0.47020643949508667,
          0.46970605850219727,
          0.469216525554657,
          0.46873822808265686,
          0.4682721495628357,
          0.4678191542625427,
          0.46737948060035706,
          0.46695247292518616,
          0.46653708815574646,
          0.46613216400146484,
          0.46573662757873535,
          0.4653501510620117,
          0.46497273445129395,
          0.4646046757698059,
          0.46424609422683716,
          0.46389704942703247,
          0.4635571539402008,
          0.46322575211524963,
          0.4629022181034088,
          0.46258607506752014,
          0.4622770845890045,
          0.46197518706321716,
          0.46168041229248047,
          0.4613927900791168,
          0.46111202239990234,
          0.4608380198478699,
          0.46057042479515076,
          0.46030884981155396,
          0.4600529670715332,
          0.45980286598205566,
          0.4595581591129303,
          0.4593191146850586,
          0.45908546447753906,
          0.45885705947875977,
          0.45863381028175354,
          0.45841535925865173,
          0.45820170640945435,
          0.4579925537109375,
          0.4577878415584564,
          0.4575875699520111,
          0.4573916494846344,
          0.45719996094703674,
          0.45701226592063904,
          0.45682868361473083,
          0.45664891600608826,
          0.4564729332923889,
          0.4563005566596985,
          0.4561317563056946,
          0.45596641302108765,
          0.45580464601516724,
          0.45564618706703186,
          0.45549091696739197,
          0.45533889532089233,
          0.45518994331359863,
          0.4550439715385437,
          0.45490097999572754,
          0.454760879278183,
          0.45462360978126526,
          0.4544890820980072,
          0.4543573260307312,
          0.45422810316085815,
          0.4541015625,
          0.4539774954319,
          0.4538559317588806,
          0.45373669266700745,
          0.45361989736557007,
          0.45350542664527893,
          0.4533931314945221,
          0.45328307151794434,
          0.45317521691322327,
          0.45306944847106934,
          0.4529656767845154,
          0.45286402106285095,
          0.4527643620967865,
          0.45266667008399963,
          0.4525708258152008,
          0.4524768888950348,
          0.4523847699165344,
          0.45229440927505493,
          0.4522058367729187,
          0.45211896300315857,
          0.45203375816345215,
          0.4519502520561218,
          0.45186835527420044,
          0.4517880082130432,
          0.45170918107032776,
          0.4516318738460541,
          0.45155611634254456,
          0.45148181915283203,
          0.45140886306762695,
          0.45133742690086365,
          0.4512672424316406,
          0.4511984884738922,
          0.45113101601600647,
          0.4510648846626282,
          0.45100003480911255,
          0.45093631744384766,
          0.4508739113807678,
          0.4508126378059387,
          0.4507525563240051,
          0.45069366693496704,
          0.4506358206272125,
          0.45057910680770874,
          0.4505234658718109,
          0.45046892762184143,
          0.4504154324531555,
          0.45036283135414124,
          0.4503113627433777,
          0.45026081800460815,
          0.45021122694015503,
          0.45016250014305115,
          0.45011481642723083,
          0.45006799697875977,
          0.45002204179763794,
          0.44997698068618774,
          0.44993266463279724,
          0.44988927245140076,
          0.44984668493270874,
          0.4498048722743988,
          0.4497639238834381,
          0.44972363114356995,
          0.44968414306640625,
          0.44964537024497986,
          0.4496074318885803,
          0.4495700001716614,
          0.4495333731174469,
          0.4494974613189697,
          0.4494621157646179,
          0.4494275152683258,
          0.44939351081848145,
          0.4493601322174072,
          0.44932737946510315,
          0.44929519295692444,
          0.44926366209983826,
          0.44923266768455505,
          0.4492022395133972,
          0.44917240738868713,
          0.44914302229881287,
          0.44911426305770874,
          0.4490860402584076,
          0.44905829429626465,
          0.44903096556663513,
          0.44900426268577576,
          0.4489780068397522,
          0.4489521384239197,
          0.44892677664756775,
          0.4489019513130188,
          0.4488774836063385,
          0.44885340332984924,
          0.4488298296928406,
          0.4488067030906677,
          0.4487839341163635,
          0.44876155257225037,
          0.44873958826065063,
          0.44871798157691956,
          0.4486967921257019,
          0.4486759305000305,
          0.44865545630455017,
          0.4486352801322937,
          0.44861555099487305,
          0.44859614968299866,
          0.44857701659202576,
          0.4485582411289215,
          0.44853973388671875,
          0.44852161407470703,
          0.4485037922859192,
          0.44848623871803284,
          0.44846898317337036,
          0.44845205545425415,
          0.44843530654907227,
          0.4484189450740814,
          0.4484027922153473,
          0.4483869671821594,
          0.4483713209629059,
          0.4483559727668762,
          0.44834089279174805,
          0.4483260214328766,
          0.4483114182949066,
          0.44829702377319336,
          0.4482828676700592,
          0.44826897978782654,
          0.4482553005218506,
          0.4482417702674866,
          0.4482284486293793,
          0.44821539521217346,
          0.44820255041122437,
          0.4481898844242096,
          0.44817739725112915,
          0.4481651186943054,
          0.448153018951416,
          0.44814109802246094,
          0.4481293261051178,
          0.44811779260635376,
          0.4481063783168793,
          0.4480951726436615,
          0.44808417558670044,
          0.44807320833206177,
          0.4480624198913574,
          0.44805192947387695,
          0.4480414390563965,
          0.4480311870574951,
          0.4480210840702057,
          0.4480110704898834,
          0.4480012357234955,
          0.4479914605617523,
          0.44798192381858826,
          0.4479723870754242,
          0.447963148355484,
          0.4479539394378662,
          0.44794487953186035,
          0.44793590903282166,
          0.4479270875453949,
          0.4479183554649353,
          0.44790977239608765,
          0.44790124893188477,
          0.44789284467697144,
          0.44788461923599243,
          0.4478764533996582,
          0.4478684067726135,
          0.44786038994789124,
          0.4478525221347809,
          0.44784480333328247,
          0.44783705472946167,
          0.4478294849395752,
          0.4478220045566559,
          0.44781461358070374,
          0.447807252407074,
          0.44780001044273376,
          0.4477928578853607,
          0.44778579473495483,
          0.4477787911891937,
          0.4477718770503998,
          0.447765052318573,
          0.447758287191391,
          0.44775158166885376,
          0.4477449953556061,
          0.4477384686470032,
          0.44773197174072266,
          0.4477255940437317,
          0.4477192461490631,
          0.4477129876613617,
          0.44770678877830505,
          0.4477006494998932,
          0.4476945996284485,
          0.4476885199546814,
          0.44768255949020386,
          0.4476766586303711,
          0.4476708471775055,
          0.4476650655269623,
          0.44765931367874146,
          0.4476536810398102,
          0.44764798879623413,
          0.4476424753665924,
          0.4476369321346283,
          0.44763144850730896,
          0.4476260244846344,
          0.447620689868927,
          0.4476153254508972,
          0.4476099908351898,
          0.4476047456264496,
          0.4475995898246765,
          0.44759446382522583,
          0.44758930802345276,
          0.4475843012332916,
          0.44757920503616333,
          0.4475742280483246,
          0.4475693106651306,
          0.44756442308425903,
          0.44755953550338745,
          0.44755467772483826,
          0.4475499093532562,
          0.4475451409816742,
          0.44754043221473694,
          0.44753575325012207,
          0.4475310742855072,
          0.4475264549255371,
          0.4475218653678894,
          0.44751739501953125,
          0.4475128650665283,
          0.4475083351135254,
          0.4475038945674896,
          0.44749945402145386,
          0.4474950432777405,
          0.4474906921386719,
          0.44748634099960327,
          0.44748201966285706,
          0.4474777281284332,
          0.44747352600097656,
          0.44746923446655273,
          0.44746509194374084,
          0.4474608898162842,
          0.4474567472934723,
          0.4474526047706604,
          0.4474485516548157,
          0.44744443893432617,
          0.44744038581848145,
          0.4474363327026367,
          0.44743233919143677,
          0.44742831587791443,
          0.44742441177368164,
          0.4474204480648041,
          0.4474165439605713,
          0.4474126398563385,
          0.4474087655544281,
          0.4474048614501953,
          0.4474010467529297,
          0.44739729166030884,
          0.44739341735839844,
          0.4473896622657776,
          0.44738587737083435,
          0.4473821520805359,
          0.4473784565925598,
          0.44737473130226135,
          0.44737109541893005,
          0.4473673701286316,
          0.4473637640476227,
          0.4473601281642914,
          0.4473564624786377,
          0.44735294580459595,
          0.4473493695259094,
          0.4473457932472229,
          0.44734224677085876,
          0.44733867049217224,
          0.4473351836204529,
          0.4473317265510559,
          0.4473281800746918,
          0.4473246932029724,
          0.4473212659358978,
          0.447317898273468,
          0.44731441140174866,
          0.4473109841346741,
          0.44730764627456665,
          0.4473041892051697,
          0.44730091094970703,
          0.44729751348495483,
          0.4472942352294922,
          0.44729083776474,
          0.44728755950927734,
          0.4472842216491699,
          0.44728097319602966,
          0.44727763533592224,
          0.447274386882782,
          0.4472711682319641,
          0.44726791977882385,
          0.44726473093032837,
          0.4472615122795105,
          0.4472582936286926,
          0.44725513458251953,
          0.44725194573402405,
          0.44724878668785095,
          0.44724565744400024,
          0.4472424387931824,
          0.44723933935165405,
          0.44723623991012573,
          0.4472331404685974,
          0.4472300410270691,
          0.44722694158554077,
          0.447223961353302,
          0.4472208619117737,
          0.44721779227256775,
          0.4472147524356842,
          0.44721168279647827,
          0.4472087025642395,
          0.44720572233200073,
          0.4472026824951172,
          0.44719967246055603,
          0.4471967816352844,
          0.44719377160072327,
          0.4471908211708069,
          0.4471878409385681,
          0.44718489050865173,
          0.4471819996833801,
          0.44717901945114136,
          0.44717612862586975,
          0.44717320799827576,
          0.44717034697532654,
          0.4471674859523773,
          0.4471645951271057,
          0.4471617341041565,
          0.44715890288352966,
          0.44715601205825806,
          0.4471531808376312,
          0.4471503794193268,
          0.4471476078033447,
          0.4471447467803955,
          0.44714194536209106,
          0.447139173746109,
          0.4471363425254822,
          0.4471336007118225,
          0.44713085889816284,
          0.4471281170845032,
          0.4471253454685211,
          0.44712263345718384,
          0.44711989164352417,
          0.4471171498298645,
          0.44711440801620483,
          0.44711169600486755,
          0.4471089839935303,
          0.4471063017845154,
          0.4471036493778229,
          0.44710102677345276,
          0.44709834456443787,
          0.44709569215774536,
          0.44709300994873047,
          0.44709038734436035,
          0.44708770513534546,
          0.4470851421356201,
          0.44708251953125,
          0.4470798969268799,
          0.44707727432250977,
          0.4470747113227844,
          0.4470720887184143,
          0.4470694959163666,
          0.4470670223236084,
          0.44706445932388306,
          0.4470618665218353,
          0.44705930352211,
          0.44705677032470703,
          0.4470542371273041,
          0.4470517039299011,
          0.4470491409301758,
          0.44704669713974
         ],
         "yaxis": "y"
        }
       ],
       "layout": {
        "legend": {
         "tracegroupgap": 0
        },
        "margin": {
         "t": 60
        },
        "template": {
         "data": {
          "bar": [
           {
            "error_x": {
             "color": "#2a3f5f"
            },
            "error_y": {
             "color": "#2a3f5f"
            },
            "marker": {
             "line": {
              "color": "#E5ECF6",
              "width": 0.5
             },
             "pattern": {
              "fillmode": "overlay",
              "size": 10,
              "solidity": 0.2
             }
            },
            "type": "bar"
           }
          ],
          "barpolar": [
           {
            "marker": {
             "line": {
              "color": "#E5ECF6",
              "width": 0.5
             },
             "pattern": {
              "fillmode": "overlay",
              "size": 10,
              "solidity": 0.2
             }
            },
            "type": "barpolar"
           }
          ],
          "carpet": [
           {
            "aaxis": {
             "endlinecolor": "#2a3f5f",
             "gridcolor": "white",
             "linecolor": "white",
             "minorgridcolor": "white",
             "startlinecolor": "#2a3f5f"
            },
            "baxis": {
             "endlinecolor": "#2a3f5f",
             "gridcolor": "white",
             "linecolor": "white",
             "minorgridcolor": "white",
             "startlinecolor": "#2a3f5f"
            },
            "type": "carpet"
           }
          ],
          "choropleth": [
           {
            "colorbar": {
             "outlinewidth": 0,
             "ticks": ""
            },
            "type": "choropleth"
           }
          ],
          "contour": [
           {
            "colorbar": {
             "outlinewidth": 0,
             "ticks": ""
            },
            "colorscale": [
             [
              0,
              "#0d0887"
             ],
             [
              0.1111111111111111,
              "#46039f"
             ],
             [
              0.2222222222222222,
              "#7201a8"
             ],
             [
              0.3333333333333333,
              "#9c179e"
             ],
             [
              0.4444444444444444,
              "#bd3786"
             ],
             [
              0.5555555555555556,
              "#d8576b"
             ],
             [
              0.6666666666666666,
              "#ed7953"
             ],
             [
              0.7777777777777778,
              "#fb9f3a"
             ],
             [
              0.8888888888888888,
              "#fdca26"
             ],
             [
              1,
              "#f0f921"
             ]
            ],
            "type": "contour"
           }
          ],
          "contourcarpet": [
           {
            "colorbar": {
             "outlinewidth": 0,
             "ticks": ""
            },
            "type": "contourcarpet"
           }
          ],
          "heatmap": [
           {
            "colorbar": {
             "outlinewidth": 0,
             "ticks": ""
            },
            "colorscale": [
             [
              0,
              "#0d0887"
             ],
             [
              0.1111111111111111,
              "#46039f"
             ],
             [
              0.2222222222222222,
              "#7201a8"
             ],
             [
              0.3333333333333333,
              "#9c179e"
             ],
             [
              0.4444444444444444,
              "#bd3786"
             ],
             [
              0.5555555555555556,
              "#d8576b"
             ],
             [
              0.6666666666666666,
              "#ed7953"
             ],
             [
              0.7777777777777778,
              "#fb9f3a"
             ],
             [
              0.8888888888888888,
              "#fdca26"
             ],
             [
              1,
              "#f0f921"
             ]
            ],
            "type": "heatmap"
           }
          ],
          "heatmapgl": [
           {
            "colorbar": {
             "outlinewidth": 0,
             "ticks": ""
            },
            "colorscale": [
             [
              0,
              "#0d0887"
             ],
             [
              0.1111111111111111,
              "#46039f"
             ],
             [
              0.2222222222222222,
              "#7201a8"
             ],
             [
              0.3333333333333333,
              "#9c179e"
             ],
             [
              0.4444444444444444,
              "#bd3786"
             ],
             [
              0.5555555555555556,
              "#d8576b"
             ],
             [
              0.6666666666666666,
              "#ed7953"
             ],
             [
              0.7777777777777778,
              "#fb9f3a"
             ],
             [
              0.8888888888888888,
              "#fdca26"
             ],
             [
              1,
              "#f0f921"
             ]
            ],
            "type": "heatmapgl"
           }
          ],
          "histogram": [
           {
            "marker": {
             "pattern": {
              "fillmode": "overlay",
              "size": 10,
              "solidity": 0.2
             }
            },
            "type": "histogram"
           }
          ],
          "histogram2d": [
           {
            "colorbar": {
             "outlinewidth": 0,
             "ticks": ""
            },
            "colorscale": [
             [
              0,
              "#0d0887"
             ],
             [
              0.1111111111111111,
              "#46039f"
             ],
             [
              0.2222222222222222,
              "#7201a8"
             ],
             [
              0.3333333333333333,
              "#9c179e"
             ],
             [
              0.4444444444444444,
              "#bd3786"
             ],
             [
              0.5555555555555556,
              "#d8576b"
             ],
             [
              0.6666666666666666,
              "#ed7953"
             ],
             [
              0.7777777777777778,
              "#fb9f3a"
             ],
             [
              0.8888888888888888,
              "#fdca26"
             ],
             [
              1,
              "#f0f921"
             ]
            ],
            "type": "histogram2d"
           }
          ],
          "histogram2dcontour": [
           {
            "colorbar": {
             "outlinewidth": 0,
             "ticks": ""
            },
            "colorscale": [
             [
              0,
              "#0d0887"
             ],
             [
              0.1111111111111111,
              "#46039f"
             ],
             [
              0.2222222222222222,
              "#7201a8"
             ],
             [
              0.3333333333333333,
              "#9c179e"
             ],
             [
              0.4444444444444444,
              "#bd3786"
             ],
             [
              0.5555555555555556,
              "#d8576b"
             ],
             [
              0.6666666666666666,
              "#ed7953"
             ],
             [
              0.7777777777777778,
              "#fb9f3a"
             ],
             [
              0.8888888888888888,
              "#fdca26"
             ],
             [
              1,
              "#f0f921"
             ]
            ],
            "type": "histogram2dcontour"
           }
          ],
          "mesh3d": [
           {
            "colorbar": {
             "outlinewidth": 0,
             "ticks": ""
            },
            "type": "mesh3d"
           }
          ],
          "parcoords": [
           {
            "line": {
             "colorbar": {
              "outlinewidth": 0,
              "ticks": ""
             }
            },
            "type": "parcoords"
           }
          ],
          "pie": [
           {
            "automargin": true,
            "type": "pie"
           }
          ],
          "scatter": [
           {
            "fillpattern": {
             "fillmode": "overlay",
             "size": 10,
             "solidity": 0.2
            },
            "type": "scatter"
           }
          ],
          "scatter3d": [
           {
            "line": {
             "colorbar": {
              "outlinewidth": 0,
              "ticks": ""
             }
            },
            "marker": {
             "colorbar": {
              "outlinewidth": 0,
              "ticks": ""
             }
            },
            "type": "scatter3d"
           }
          ],
          "scattercarpet": [
           {
            "marker": {
             "colorbar": {
              "outlinewidth": 0,
              "ticks": ""
             }
            },
            "type": "scattercarpet"
           }
          ],
          "scattergeo": [
           {
            "marker": {
             "colorbar": {
              "outlinewidth": 0,
              "ticks": ""
             }
            },
            "type": "scattergeo"
           }
          ],
          "scattergl": [
           {
            "marker": {
             "colorbar": {
              "outlinewidth": 0,
              "ticks": ""
             }
            },
            "type": "scattergl"
           }
          ],
          "scattermapbox": [
           {
            "marker": {
             "colorbar": {
              "outlinewidth": 0,
              "ticks": ""
             }
            },
            "type": "scattermapbox"
           }
          ],
          "scatterpolar": [
           {
            "marker": {
             "colorbar": {
              "outlinewidth": 0,
              "ticks": ""
             }
            },
            "type": "scatterpolar"
           }
          ],
          "scatterpolargl": [
           {
            "marker": {
             "colorbar": {
              "outlinewidth": 0,
              "ticks": ""
             }
            },
            "type": "scatterpolargl"
           }
          ],
          "scatterternary": [
           {
            "marker": {
             "colorbar": {
              "outlinewidth": 0,
              "ticks": ""
             }
            },
            "type": "scatterternary"
           }
          ],
          "surface": [
           {
            "colorbar": {
             "outlinewidth": 0,
             "ticks": ""
            },
            "colorscale": [
             [
              0,
              "#0d0887"
             ],
             [
              0.1111111111111111,
              "#46039f"
             ],
             [
              0.2222222222222222,
              "#7201a8"
             ],
             [
              0.3333333333333333,
              "#9c179e"
             ],
             [
              0.4444444444444444,
              "#bd3786"
             ],
             [
              0.5555555555555556,
              "#d8576b"
             ],
             [
              0.6666666666666666,
              "#ed7953"
             ],
             [
              0.7777777777777778,
              "#fb9f3a"
             ],
             [
              0.8888888888888888,
              "#fdca26"
             ],
             [
              1,
              "#f0f921"
             ]
            ],
            "type": "surface"
           }
          ],
          "table": [
           {
            "cells": {
             "fill": {
              "color": "#EBF0F8"
             },
             "line": {
              "color": "white"
             }
            },
            "header": {
             "fill": {
              "color": "#C8D4E3"
             },
             "line": {
              "color": "white"
             }
            },
            "type": "table"
           }
          ]
         },
         "layout": {
          "annotationdefaults": {
           "arrowcolor": "#2a3f5f",
           "arrowhead": 0,
           "arrowwidth": 1
          },
          "autotypenumbers": "strict",
          "coloraxis": {
           "colorbar": {
            "outlinewidth": 0,
            "ticks": ""
           }
          },
          "colorscale": {
           "diverging": [
            [
             0,
             "#8e0152"
            ],
            [
             0.1,
             "#c51b7d"
            ],
            [
             0.2,
             "#de77ae"
            ],
            [
             0.3,
             "#f1b6da"
            ],
            [
             0.4,
             "#fde0ef"
            ],
            [
             0.5,
             "#f7f7f7"
            ],
            [
             0.6,
             "#e6f5d0"
            ],
            [
             0.7,
             "#b8e186"
            ],
            [
             0.8,
             "#7fbc41"
            ],
            [
             0.9,
             "#4d9221"
            ],
            [
             1,
             "#276419"
            ]
           ],
           "sequential": [
            [
             0,
             "#0d0887"
            ],
            [
             0.1111111111111111,
             "#46039f"
            ],
            [
             0.2222222222222222,
             "#7201a8"
            ],
            [
             0.3333333333333333,
             "#9c179e"
            ],
            [
             0.4444444444444444,
             "#bd3786"
            ],
            [
             0.5555555555555556,
             "#d8576b"
            ],
            [
             0.6666666666666666,
             "#ed7953"
            ],
            [
             0.7777777777777778,
             "#fb9f3a"
            ],
            [
             0.8888888888888888,
             "#fdca26"
            ],
            [
             1,
             "#f0f921"
            ]
           ],
           "sequentialminus": [
            [
             0,
             "#0d0887"
            ],
            [
             0.1111111111111111,
             "#46039f"
            ],
            [
             0.2222222222222222,
             "#7201a8"
            ],
            [
             0.3333333333333333,
             "#9c179e"
            ],
            [
             0.4444444444444444,
             "#bd3786"
            ],
            [
             0.5555555555555556,
             "#d8576b"
            ],
            [
             0.6666666666666666,
             "#ed7953"
            ],
            [
             0.7777777777777778,
             "#fb9f3a"
            ],
            [
             0.8888888888888888,
             "#fdca26"
            ],
            [
             1,
             "#f0f921"
            ]
           ]
          },
          "colorway": [
           "#636efa",
           "#EF553B",
           "#00cc96",
           "#ab63fa",
           "#FFA15A",
           "#19d3f3",
           "#FF6692",
           "#B6E880",
           "#FF97FF",
           "#FECB52"
          ],
          "font": {
           "color": "#2a3f5f"
          },
          "geo": {
           "bgcolor": "white",
           "lakecolor": "white",
           "landcolor": "#E5ECF6",
           "showlakes": true,
           "showland": true,
           "subunitcolor": "white"
          },
          "hoverlabel": {
           "align": "left"
          },
          "hovermode": "closest",
          "mapbox": {
           "style": "light"
          },
          "paper_bgcolor": "white",
          "plot_bgcolor": "#E5ECF6",
          "polar": {
           "angularaxis": {
            "gridcolor": "white",
            "linecolor": "white",
            "ticks": ""
           },
           "bgcolor": "#E5ECF6",
           "radialaxis": {
            "gridcolor": "white",
            "linecolor": "white",
            "ticks": ""
           }
          },
          "scene": {
           "xaxis": {
            "backgroundcolor": "#E5ECF6",
            "gridcolor": "white",
            "gridwidth": 2,
            "linecolor": "white",
            "showbackground": true,
            "ticks": "",
            "zerolinecolor": "white"
           },
           "yaxis": {
            "backgroundcolor": "#E5ECF6",
            "gridcolor": "white",
            "gridwidth": 2,
            "linecolor": "white",
            "showbackground": true,
            "ticks": "",
            "zerolinecolor": "white"
           },
           "zaxis": {
            "backgroundcolor": "#E5ECF6",
            "gridcolor": "white",
            "gridwidth": 2,
            "linecolor": "white",
            "showbackground": true,
            "ticks": "",
            "zerolinecolor": "white"
           }
          },
          "shapedefaults": {
           "line": {
            "color": "#2a3f5f"
           }
          },
          "ternary": {
           "aaxis": {
            "gridcolor": "white",
            "linecolor": "white",
            "ticks": ""
           },
           "baxis": {
            "gridcolor": "white",
            "linecolor": "white",
            "ticks": ""
           },
           "bgcolor": "#E5ECF6",
           "caxis": {
            "gridcolor": "white",
            "linecolor": "white",
            "ticks": ""
           }
          },
          "title": {
           "x": 0.05
          },
          "xaxis": {
           "automargin": true,
           "gridcolor": "white",
           "linecolor": "white",
           "ticks": "",
           "title": {
            "standoff": 15
           },
           "zerolinecolor": "white",
           "zerolinewidth": 2
          },
          "yaxis": {
           "automargin": true,
           "gridcolor": "white",
           "linecolor": "white",
           "ticks": "",
           "title": {
            "standoff": 15
           },
           "zerolinecolor": "white",
           "zerolinewidth": 2
          }
         }
        },
        "xaxis": {
         "anchor": "y",
         "domain": [
          0,
          1
         ],
         "title": {
          "text": "index"
         }
        },
        "yaxis": {
         "anchor": "x",
         "domain": [
          0,
          1
         ],
         "title": {
          "text": "p_loss"
         }
        }
       }
      }
     },
     "metadata": {},
     "output_type": "display_data"
    },
    {
     "data": {
      "application/vnd.plotly.v1+json": {
       "config": {
        "plotlyServerURL": "https://plot.ly"
       },
       "data": [
        {
         "hovertemplate": "index=%{x}<br>p_loss=%{y}<extra></extra>",
         "legendgroup": "",
         "marker": {
          "color": "#636efa",
          "symbol": "circle"
         },
         "mode": "markers",
         "name": "",
         "orientation": "v",
         "showlegend": false,
         "type": "scatter",
         "x": [
          0,
          1,
          2,
          3,
          4,
          5,
          6,
          7,
          8,
          9,
          10,
          11,
          12,
          13,
          14,
          15,
          16,
          17,
          18,
          19,
          20,
          21,
          22,
          23,
          24,
          25,
          26,
          27,
          28,
          29,
          30,
          31,
          32,
          33,
          34,
          35,
          36,
          37,
          38,
          39,
          40,
          41,
          42,
          43,
          44,
          45,
          46,
          47,
          48,
          49,
          50,
          51,
          52,
          53,
          54,
          55,
          56,
          57,
          58,
          59,
          60,
          61,
          62,
          63,
          64,
          65,
          66,
          67,
          68,
          69,
          70,
          71,
          72,
          73,
          74,
          75,
          76,
          77,
          78,
          79,
          80,
          81,
          82,
          83,
          84,
          85,
          86,
          87,
          88,
          89,
          90,
          91,
          92,
          93,
          94,
          95,
          96,
          97,
          98,
          99,
          100,
          101,
          102,
          103,
          104,
          105,
          106,
          107,
          108,
          109,
          110,
          111,
          112,
          113,
          114,
          115,
          116,
          117,
          118,
          119,
          120,
          121,
          122,
          123,
          124,
          125,
          126,
          127,
          128,
          129,
          130,
          131,
          132,
          133,
          134,
          135,
          136,
          137,
          138,
          139,
          140,
          141,
          142,
          143,
          144,
          145,
          146,
          147,
          148,
          149,
          150,
          151,
          152,
          153,
          154,
          155,
          156,
          157,
          158,
          159,
          160,
          161,
          162,
          163,
          164,
          165,
          166,
          167,
          168,
          169,
          170,
          171,
          172,
          173,
          174,
          175,
          176,
          177,
          178,
          179,
          180,
          181,
          182,
          183,
          184,
          185,
          186,
          187,
          188,
          189,
          190,
          191,
          192,
          193,
          194,
          195,
          196,
          197,
          198,
          199,
          200,
          201,
          202,
          203,
          204,
          205,
          206,
          207,
          208,
          209,
          210,
          211,
          212,
          213,
          214,
          215,
          216,
          217,
          218,
          219,
          220,
          221,
          222,
          223,
          224,
          225,
          226,
          227,
          228,
          229,
          230,
          231,
          232,
          233,
          234,
          235,
          236,
          237,
          238,
          239,
          240,
          241,
          242,
          243,
          244,
          245,
          246,
          247,
          248,
          249,
          250,
          251,
          252,
          253,
          254,
          255,
          256,
          257,
          258,
          259,
          260,
          261,
          262,
          263,
          264,
          265,
          266,
          267,
          268,
          269,
          270,
          271,
          272,
          273,
          274,
          275,
          276,
          277,
          278,
          279,
          280,
          281,
          282,
          283,
          284,
          285,
          286,
          287,
          288,
          289,
          290,
          291,
          292,
          293,
          294,
          295,
          296,
          297,
          298,
          299,
          300,
          301,
          302,
          303,
          304,
          305,
          306,
          307,
          308,
          309,
          310,
          311,
          312,
          313,
          314,
          315,
          316,
          317,
          318,
          319,
          320,
          321,
          322,
          323,
          324,
          325,
          326,
          327,
          328,
          329,
          330,
          331,
          332,
          333,
          334,
          335,
          336,
          337,
          338,
          339,
          340,
          341,
          342,
          343,
          344,
          345,
          346,
          347,
          348,
          349,
          350,
          351,
          352,
          353,
          354,
          355,
          356,
          357,
          358,
          359,
          360,
          361,
          362,
          363,
          364,
          365,
          366,
          367,
          368,
          369,
          370,
          371,
          372,
          373,
          374,
          375,
          376,
          377,
          378,
          379,
          380,
          381,
          382,
          383,
          384,
          385,
          386,
          387,
          388,
          389,
          390,
          391,
          392,
          393,
          394,
          395,
          396,
          397,
          398,
          399,
          400,
          401,
          402,
          403,
          404,
          405,
          406,
          407,
          408,
          409,
          410,
          411,
          412,
          413,
          414,
          415,
          416,
          417,
          418,
          419,
          420,
          421,
          422,
          423,
          424,
          425,
          426,
          427,
          428,
          429,
          430,
          431,
          432,
          433,
          434,
          435,
          436,
          437,
          438,
          439,
          440,
          441,
          442,
          443,
          444,
          445,
          446,
          447,
          448,
          449,
          450,
          451,
          452,
          453,
          454,
          455,
          456,
          457,
          458,
          459,
          460,
          461,
          462,
          463,
          464,
          465,
          466,
          467,
          468,
          469,
          470,
          471,
          472,
          473,
          474,
          475,
          476,
          477,
          478,
          479,
          480,
          481,
          482,
          483,
          484,
          485,
          486,
          487,
          488,
          489,
          490,
          491,
          492,
          493,
          494,
          495,
          496,
          497,
          498,
          499
         ],
         "xaxis": "x",
         "y": [
          1.7455198764801025,
          1.5666346549987793,
          1.3973532915115356,
          1.2399345636367798,
          1.0967539548873901,
          0.9700688123703003,
          0.8617024421691895,
          0.7727242708206177,
          0.7032301425933838,
          0.652283787727356,
          0.618019700050354,
          0.5978849530220032,
          0.5889638662338257,
          0.5883057713508606,
          0.5931884050369263,
          0.6012818217277527,
          0.6107168793678284,
          0.6200816631317139,
          0.6283760070800781,
          0.6349464654922485,
          0.6394198536872864,
          0.6416423916816711,
          0.6416276693344116,
          0.6395151615142822,
          0.6355358362197876,
          0.6299859285354614,
          0.6232041716575623,
          0.6155527830123901,
          0.6074002981185913,
          0.5991057753562927,
          0.5910035967826843,
          0.5833889842033386,
          0.5765053629875183,
          0.570533812046051,
          0.5655850172042847,
          0.5616962313652039,
          0.5588328838348389,
          0.5568948984146118,
          0.5557289719581604,
          0.5551450848579407,
          0.5549353361129761,
          0.5548932552337646,
          0.5548332929611206,
          0.5546046495437622,
          0.5541016459465027,
          0.553267776966095,
          0.5520944595336914,
          0.5506141781806946,
          0.5488909482955933,
          0.5470079779624939,
          0.5450558662414551,
          0.5431207418441772,
          0.5412760376930237,
          0.5395762324333191,
          0.5380539298057556,
          0.5367201566696167,
          0.5355666279792786,
          0.5345699191093445,
          0.5336968898773193,
          0.5329092741012573,
          0.5321688652038574,
          0.5314415097236633,
          0.5306994915008545,
          0.5299236178398132,
          0.5291033983230591,
          0.5282368659973145,
          0.5273288488388062,
          0.5263895392417908,
          0.5254327058792114,
          0.5244730114936829,
          0.5235247611999512,
          0.5226002335548401,
          0.5217083096504211,
          0.5208543539047241,
          0.5200400948524475,
          0.5192635655403137,
          0.5185204744338989,
          0.5178044438362122,
          0.5171084403991699,
          0.5164254903793335,
          0.5157495737075806,
          0.5150759220123291,
          0.5144015550613403,
          0.5137255191802979,
          0.5130478143692017,
          0.5123702883720398,
          0.5116952657699585,
          0.5110254287719727,
          0.5103634595870972,
          0.5097116231918335,
          0.5090715885162354,
          0.5084440112113953,
          0.5078293085098267,
          0.5072267055511475,
          0.5066352486610413,
          0.5060538053512573,
          0.5054808855056763,
          0.5049153566360474,
          0.5043560266494751,
          0.5038021802902222,
          0.5032535195350647,
          0.5027098655700684,
          0.5021713376045227,
          0.5016382336616516,
          0.5011111497879028,
          0.5005902647972107,
          0.5000761151313782,
          0.49956876039505005,
          0.49906834959983826,
          0.498574823141098,
          0.4980880618095398,
          0.4976077079772949,
          0.4971335530281067,
          0.49666517972946167,
          0.49620237946510315,
          0.4957447946071625,
          0.4952922761440277,
          0.49484482407569885,
          0.4944022297859192,
          0.4939645826816559,
          0.49353185296058655,
          0.49310407042503357,
          0.4926813542842865,
          0.4922636151313782,
          0.49185091257095337,
          0.49144306778907776,
          0.4910401701927185,
          0.4906420111656189,
          0.490248441696167,
          0.4898594915866852,
          0.48947495222091675,
          0.48909473419189453,
          0.48871880769729614,
          0.48834696412086487,
          0.48797932267189026,
          0.4876157343387604,
          0.4872561991214752,
          0.4869006276130676,
          0.48654904961586,
          0.48620134592056274,
          0.4858575463294983,
          0.48551756143569946,
          0.48518139123916626,
          0.48484891653060913,
          0.4845200479030609,
          0.484194815158844,
          0.48387306928634644,
          0.4835548400878906,
          0.4832400679588318,
          0.4829285740852356,
          0.4826204776763916,
          0.48231562972068787,
          0.4820140302181244,
          0.4817156195640564,
          0.4814204275608063,
          0.4811283051967621,
          0.480839341878891,
          0.4805533289909363,
          0.4802704453468323,
          0.4799903929233551,
          0.4797132611274719,
          0.4794391691684723,
          0.47916775941848755,
          0.47889918088912964,
          0.4786333441734314,
          0.4783702790737152,
          0.4781099259853363,
          0.4778521955013275,
          0.47759708762168884,
          0.4773446023464203,
          0.4770946502685547,
          0.47684717178344727,
          0.4766022264957428,
          0.4763597846031189,
          0.4761197566986084,
          0.47588205337524414,
          0.4756467938423157,
          0.4754137396812439,
          0.4751831591129303,
          0.4749547839164734,
          0.4747285842895508,
          0.47450464963912964,
          0.4742829203605652,
          0.4740633964538574,
          0.473845899105072,
          0.4736305773258209,
          0.47341734170913696,
          0.47320613265037537,
          0.47299695014953613,
          0.4727897644042969,
          0.4725845754146576,
          0.4723814129829407,
          0.4721800684928894,
          0.47198066115379333,
          0.47178322076797485,
          0.47158756852149963,
          0.47139376401901245,
          0.4712018072605133,
          0.47101154923439026,
          0.47082313895225525,
          0.4706365168094635,
          0.4704515337944031,
          0.4702683091163635,
          0.4700867533683777,
          0.4699069559574127,
          0.4697287082672119,
          0.4695521295070648,
          0.4693771302700043,
          0.46920379996299744,
          0.4690319895744324,
          0.46886172890663147,
          0.4686930775642395,
          0.46852582693099976,
          0.46836018562316895,
          0.46819600462913513,
          0.4680332541465759,
          0.4678720533847809,
          0.4677121639251709,
          0.4675537049770355,
          0.46739673614501953,
          0.467241108417511,
          0.46708688139915466,
          0.4669340252876282,
          0.46678242087364197,
          0.466632217168808,
          0.46648329496383667,
          0.4663357138633728,
          0.4661893844604492,
          0.4660443663597107,
          0.46590057015419006,
          0.4657580256462097,
          0.46561670303344727,
          0.4654766023159027,
          0.46533769369125366,
          0.4652000367641449,
          0.4650634825229645,
          0.46492815017700195,
          0.46479398012161255,
          0.4646608829498291,
          0.4645289480686188,
          0.46439820528030396,
          0.46426844596862793,
          0.464139848947525,
          0.4640123248100281,
          0.4638858437538147,
          0.46376052498817444,
          0.4636361598968506,
          0.4635128378868103,
          0.46339064836502075,
          0.4632693827152252,
          0.46314916014671326,
          0.4630299210548401,
          0.4629116952419281,
          0.4627944529056549,
          0.46267813444137573,
          0.4625628590583801,
          0.46244850754737854,
          0.4623350203037262,
          0.4622225761413574,
          0.4621109366416931,
          0.46200031042099,
          0.4618905484676361,
          0.46178168058395386,
          0.4616737365722656,
          0.4615667462348938,
          0.46146050095558167,
          0.46135514974594116,
          0.4612506926059723,
          0.4611470103263855,
          0.4610442519187927,
          0.46094226837158203,
          0.4608411192893982,
          0.4607408046722412,
          0.4606413245201111,
          0.46054261922836304,
          0.46044474840164185,
          0.46034765243530273,
          0.4602512717247009,
          0.46015578508377075,
          0.4600609242916107,
          0.45996689796447754,
          0.45987361669540405,
          0.45978108048439026,
          0.45968928933143616,
          0.45959824323654175,
          0.45950788259506226,
          0.45941829681396484,
          0.45932942628860474,
          0.45924121141433716,
          0.4591537117958069,
          0.4590669274330139,
          0.4589807987213135,
          0.45889538526535034,
          0.4588107168674469,
          0.45872658491134644,
          0.45864319801330566,
          0.4585604667663574,
          0.4584783613681793,
          0.4583969712257385,
          0.4583161473274231,
          0.4582359790802002,
          0.4581564962863922,
          0.4580775201320648,
          0.4579993188381195,
          0.4579216539859772,
          0.4578445553779602,
          0.45776814222335815,
          0.45769229531288147,
          0.45761704444885254,
          0.45754241943359375,
          0.4574683606624603,
          0.45739489793777466,
          0.4573219418525696,
          0.45724964141845703,
          0.4571778178215027,
          0.45710664987564087,
          0.4570360779762268,
          0.4569658637046814,
          0.4568963646888733,
          0.4568273425102234,
          0.45675888657569885,
          0.45669102668762207,
          0.4566236138343811,
          0.4565567374229431,
          0.45649033784866333,
          0.4564245343208313,
          0.45635920763015747,
          0.456294447183609,
          0.456230103969574,
          0.4561663568019867,
          0.45610299706459045,
          0.45604023337364197,
          0.4559779167175293,
          0.4559161067008972,
          0.45585474371910095,
          0.4557938575744629,
          0.4557334780693054,
          0.45567354559898376,
          0.4556140899658203,
          0.45555511116981506,
          0.45549649000167847,
          0.4554384648799896,
          0.4553808271884918,
          0.45532363653182983,
          0.45526689291000366,
          0.4552105963230133,
          0.45515480637550354,
          0.45509928464889526,
          0.45504432916641235,
          0.4549897611141205,
          0.45493564009666443,
          0.4548819065093994,
          0.45482856035232544,
          0.45477572083473206,
          0.4547232687473297,
          0.45467114448547363,
          0.45461949706077576,
          0.4545682370662689,
          0.45451730489730835,
          0.45446687936782837,
          0.45441675186157227,
          0.45436710119247437,
          0.45431774854660034,
          0.45426878333091736,
          0.4542202949523926,
          0.45417213439941406,
          0.4541243016719818,
          0.4540768563747406,
          0.45402979850769043,
          0.4539831280708313,
          0.45393675565719604,
          0.4538908004760742,
          0.45384520292282104,
          0.45379990339279175,
          0.45375505089759827,
          0.4537103772163391,
          0.45366615056991577,
          0.4536222815513611,
          0.45357877016067505,
          0.4535355567932129,
          0.4534926414489746,
          0.45345011353492737,
          0.4534079134464264,
          0.4533660411834717,
          0.45332446694374084,
          0.4532832205295563,
          0.45324230194091797,
          0.4532017111778259,
          0.45316147804260254,
          0.45312148332595825,
          0.45308178663253784,
          0.4530424177646637,
          0.4530033469200134,
          0.4529646039009094,
          0.4529260993003845,
          0.45288795232772827,
          0.4528501033782959,
          0.4528125822544098,
          0.452775239944458,
          0.4527382254600525,
          0.4527015686035156,
          0.45266515016555786,
          0.4526289999485016,
          0.4525931477546692,
          0.4525575041770935,
          0.4525222182273865,
          0.45248714089393616,
          0.4524524211883545,
          0.45241791009902954,
          0.4523836672306061,
          0.4523496627807617,
          0.4523159861564636,
          0.45228248834609985,
          0.45224928855895996,
          0.45221638679504395,
          0.45218372344970703,
          0.45215123891830444,
          0.45211905241012573,
          0.4520872235298157,
          0.45205551385879517,
          0.452023983001709,
          0.45199280977249146,
          0.45196184515953064,
          0.4519311487674713,
          0.4519006311893463,
          0.4518703520298004,
          0.451840341091156,
          0.4518105387687683,
          0.4517810344696045,
          0.4517516493797302,
          0.45172256231307983,
          0.4516936242580414,
          0.4516649842262268,
          0.4516366124153137,
          0.4516083300113678,
          0.45158034563064575,
          0.45155254006385803,
          0.4515249729156494,
          0.45149755477905273,
          0.45147037506103516,
          0.45144349336624146,
          0.45141667127609253,
          0.45139020681381226,
          0.45136386156082153,
          0.45133766531944275,
          0.4513118267059326,
          0.4512860178947449,
          0.451260507106781,
          0.45123520493507385,
          0.45121002197265625,
          0.45118504762649536,
          0.45116034150123596,
          0.4511357843875885,
          0.451111376285553,
          0.4510871469974518,
          0.4510631561279297,
          0.45103925466537476,
          0.4510156214237213,
          0.4509921669960022,
          0.4509689211845398,
          0.45094576478004456,
          0.45092281699180603,
          0.45090001821517944,
          0.45087748765945435,
          0.4508550763130188,
          0.4508327841758728,
          0.4508107304573059,
          0.45078879594802856,
          0.4507670998573303,
          0.45074543356895447,
          0.4507240653038025,
          0.45070281624794006,
          0.45068174600601196,
          0.450660765171051,
          0.4506400227546692,
          0.4506193995475769,
          0.45059889554977417,
          0.45057862997055054,
          0.45055848360061646,
          0.4505384564399719,
          0.4505186080932617,
          0.45049890875816345,
          0.4504793584346771,
          0.45045995712280273,
          0.4504407048225403,
          0.45042163133621216,
          0.4504026472568512,
          0.4503838121891022,
          0.4503651559352875,
          0.45034655928611755,
          0.45032820105552673,
          0.4503099322319031,
          0.45029187202453613,
          0.4502738118171692,
          0.45025596022605896,
          0.45023828744888306,
          0.45022067427635193,
          0.4502032399177551,
          0.4501859247684479,
          0.4501686990261078
         ],
         "yaxis": "y"
        }
       ],
       "layout": {
        "legend": {
         "tracegroupgap": 0
        },
        "margin": {
         "t": 60
        },
        "template": {
         "data": {
          "bar": [
           {
            "error_x": {
             "color": "#2a3f5f"
            },
            "error_y": {
             "color": "#2a3f5f"
            },
            "marker": {
             "line": {
              "color": "#E5ECF6",
              "width": 0.5
             },
             "pattern": {
              "fillmode": "overlay",
              "size": 10,
              "solidity": 0.2
             }
            },
            "type": "bar"
           }
          ],
          "barpolar": [
           {
            "marker": {
             "line": {
              "color": "#E5ECF6",
              "width": 0.5
             },
             "pattern": {
              "fillmode": "overlay",
              "size": 10,
              "solidity": 0.2
             }
            },
            "type": "barpolar"
           }
          ],
          "carpet": [
           {
            "aaxis": {
             "endlinecolor": "#2a3f5f",
             "gridcolor": "white",
             "linecolor": "white",
             "minorgridcolor": "white",
             "startlinecolor": "#2a3f5f"
            },
            "baxis": {
             "endlinecolor": "#2a3f5f",
             "gridcolor": "white",
             "linecolor": "white",
             "minorgridcolor": "white",
             "startlinecolor": "#2a3f5f"
            },
            "type": "carpet"
           }
          ],
          "choropleth": [
           {
            "colorbar": {
             "outlinewidth": 0,
             "ticks": ""
            },
            "type": "choropleth"
           }
          ],
          "contour": [
           {
            "colorbar": {
             "outlinewidth": 0,
             "ticks": ""
            },
            "colorscale": [
             [
              0,
              "#0d0887"
             ],
             [
              0.1111111111111111,
              "#46039f"
             ],
             [
              0.2222222222222222,
              "#7201a8"
             ],
             [
              0.3333333333333333,
              "#9c179e"
             ],
             [
              0.4444444444444444,
              "#bd3786"
             ],
             [
              0.5555555555555556,
              "#d8576b"
             ],
             [
              0.6666666666666666,
              "#ed7953"
             ],
             [
              0.7777777777777778,
              "#fb9f3a"
             ],
             [
              0.8888888888888888,
              "#fdca26"
             ],
             [
              1,
              "#f0f921"
             ]
            ],
            "type": "contour"
           }
          ],
          "contourcarpet": [
           {
            "colorbar": {
             "outlinewidth": 0,
             "ticks": ""
            },
            "type": "contourcarpet"
           }
          ],
          "heatmap": [
           {
            "colorbar": {
             "outlinewidth": 0,
             "ticks": ""
            },
            "colorscale": [
             [
              0,
              "#0d0887"
             ],
             [
              0.1111111111111111,
              "#46039f"
             ],
             [
              0.2222222222222222,
              "#7201a8"
             ],
             [
              0.3333333333333333,
              "#9c179e"
             ],
             [
              0.4444444444444444,
              "#bd3786"
             ],
             [
              0.5555555555555556,
              "#d8576b"
             ],
             [
              0.6666666666666666,
              "#ed7953"
             ],
             [
              0.7777777777777778,
              "#fb9f3a"
             ],
             [
              0.8888888888888888,
              "#fdca26"
             ],
             [
              1,
              "#f0f921"
             ]
            ],
            "type": "heatmap"
           }
          ],
          "heatmapgl": [
           {
            "colorbar": {
             "outlinewidth": 0,
             "ticks": ""
            },
            "colorscale": [
             [
              0,
              "#0d0887"
             ],
             [
              0.1111111111111111,
              "#46039f"
             ],
             [
              0.2222222222222222,
              "#7201a8"
             ],
             [
              0.3333333333333333,
              "#9c179e"
             ],
             [
              0.4444444444444444,
              "#bd3786"
             ],
             [
              0.5555555555555556,
              "#d8576b"
             ],
             [
              0.6666666666666666,
              "#ed7953"
             ],
             [
              0.7777777777777778,
              "#fb9f3a"
             ],
             [
              0.8888888888888888,
              "#fdca26"
             ],
             [
              1,
              "#f0f921"
             ]
            ],
            "type": "heatmapgl"
           }
          ],
          "histogram": [
           {
            "marker": {
             "pattern": {
              "fillmode": "overlay",
              "size": 10,
              "solidity": 0.2
             }
            },
            "type": "histogram"
           }
          ],
          "histogram2d": [
           {
            "colorbar": {
             "outlinewidth": 0,
             "ticks": ""
            },
            "colorscale": [
             [
              0,
              "#0d0887"
             ],
             [
              0.1111111111111111,
              "#46039f"
             ],
             [
              0.2222222222222222,
              "#7201a8"
             ],
             [
              0.3333333333333333,
              "#9c179e"
             ],
             [
              0.4444444444444444,
              "#bd3786"
             ],
             [
              0.5555555555555556,
              "#d8576b"
             ],
             [
              0.6666666666666666,
              "#ed7953"
             ],
             [
              0.7777777777777778,
              "#fb9f3a"
             ],
             [
              0.8888888888888888,
              "#fdca26"
             ],
             [
              1,
              "#f0f921"
             ]
            ],
            "type": "histogram2d"
           }
          ],
          "histogram2dcontour": [
           {
            "colorbar": {
             "outlinewidth": 0,
             "ticks": ""
            },
            "colorscale": [
             [
              0,
              "#0d0887"
             ],
             [
              0.1111111111111111,
              "#46039f"
             ],
             [
              0.2222222222222222,
              "#7201a8"
             ],
             [
              0.3333333333333333,
              "#9c179e"
             ],
             [
              0.4444444444444444,
              "#bd3786"
             ],
             [
              0.5555555555555556,
              "#d8576b"
             ],
             [
              0.6666666666666666,
              "#ed7953"
             ],
             [
              0.7777777777777778,
              "#fb9f3a"
             ],
             [
              0.8888888888888888,
              "#fdca26"
             ],
             [
              1,
              "#f0f921"
             ]
            ],
            "type": "histogram2dcontour"
           }
          ],
          "mesh3d": [
           {
            "colorbar": {
             "outlinewidth": 0,
             "ticks": ""
            },
            "type": "mesh3d"
           }
          ],
          "parcoords": [
           {
            "line": {
             "colorbar": {
              "outlinewidth": 0,
              "ticks": ""
             }
            },
            "type": "parcoords"
           }
          ],
          "pie": [
           {
            "automargin": true,
            "type": "pie"
           }
          ],
          "scatter": [
           {
            "fillpattern": {
             "fillmode": "overlay",
             "size": 10,
             "solidity": 0.2
            },
            "type": "scatter"
           }
          ],
          "scatter3d": [
           {
            "line": {
             "colorbar": {
              "outlinewidth": 0,
              "ticks": ""
             }
            },
            "marker": {
             "colorbar": {
              "outlinewidth": 0,
              "ticks": ""
             }
            },
            "type": "scatter3d"
           }
          ],
          "scattercarpet": [
           {
            "marker": {
             "colorbar": {
              "outlinewidth": 0,
              "ticks": ""
             }
            },
            "type": "scattercarpet"
           }
          ],
          "scattergeo": [
           {
            "marker": {
             "colorbar": {
              "outlinewidth": 0,
              "ticks": ""
             }
            },
            "type": "scattergeo"
           }
          ],
          "scattergl": [
           {
            "marker": {
             "colorbar": {
              "outlinewidth": 0,
              "ticks": ""
             }
            },
            "type": "scattergl"
           }
          ],
          "scattermapbox": [
           {
            "marker": {
             "colorbar": {
              "outlinewidth": 0,
              "ticks": ""
             }
            },
            "type": "scattermapbox"
           }
          ],
          "scatterpolar": [
           {
            "marker": {
             "colorbar": {
              "outlinewidth": 0,
              "ticks": ""
             }
            },
            "type": "scatterpolar"
           }
          ],
          "scatterpolargl": [
           {
            "marker": {
             "colorbar": {
              "outlinewidth": 0,
              "ticks": ""
             }
            },
            "type": "scatterpolargl"
           }
          ],
          "scatterternary": [
           {
            "marker": {
             "colorbar": {
              "outlinewidth": 0,
              "ticks": ""
             }
            },
            "type": "scatterternary"
           }
          ],
          "surface": [
           {
            "colorbar": {
             "outlinewidth": 0,
             "ticks": ""
            },
            "colorscale": [
             [
              0,
              "#0d0887"
             ],
             [
              0.1111111111111111,
              "#46039f"
             ],
             [
              0.2222222222222222,
              "#7201a8"
             ],
             [
              0.3333333333333333,
              "#9c179e"
             ],
             [
              0.4444444444444444,
              "#bd3786"
             ],
             [
              0.5555555555555556,
              "#d8576b"
             ],
             [
              0.6666666666666666,
              "#ed7953"
             ],
             [
              0.7777777777777778,
              "#fb9f3a"
             ],
             [
              0.8888888888888888,
              "#fdca26"
             ],
             [
              1,
              "#f0f921"
             ]
            ],
            "type": "surface"
           }
          ],
          "table": [
           {
            "cells": {
             "fill": {
              "color": "#EBF0F8"
             },
             "line": {
              "color": "white"
             }
            },
            "header": {
             "fill": {
              "color": "#C8D4E3"
             },
             "line": {
              "color": "white"
             }
            },
            "type": "table"
           }
          ]
         },
         "layout": {
          "annotationdefaults": {
           "arrowcolor": "#2a3f5f",
           "arrowhead": 0,
           "arrowwidth": 1
          },
          "autotypenumbers": "strict",
          "coloraxis": {
           "colorbar": {
            "outlinewidth": 0,
            "ticks": ""
           }
          },
          "colorscale": {
           "diverging": [
            [
             0,
             "#8e0152"
            ],
            [
             0.1,
             "#c51b7d"
            ],
            [
             0.2,
             "#de77ae"
            ],
            [
             0.3,
             "#f1b6da"
            ],
            [
             0.4,
             "#fde0ef"
            ],
            [
             0.5,
             "#f7f7f7"
            ],
            [
             0.6,
             "#e6f5d0"
            ],
            [
             0.7,
             "#b8e186"
            ],
            [
             0.8,
             "#7fbc41"
            ],
            [
             0.9,
             "#4d9221"
            ],
            [
             1,
             "#276419"
            ]
           ],
           "sequential": [
            [
             0,
             "#0d0887"
            ],
            [
             0.1111111111111111,
             "#46039f"
            ],
            [
             0.2222222222222222,
             "#7201a8"
            ],
            [
             0.3333333333333333,
             "#9c179e"
            ],
            [
             0.4444444444444444,
             "#bd3786"
            ],
            [
             0.5555555555555556,
             "#d8576b"
            ],
            [
             0.6666666666666666,
             "#ed7953"
            ],
            [
             0.7777777777777778,
             "#fb9f3a"
            ],
            [
             0.8888888888888888,
             "#fdca26"
            ],
            [
             1,
             "#f0f921"
            ]
           ],
           "sequentialminus": [
            [
             0,
             "#0d0887"
            ],
            [
             0.1111111111111111,
             "#46039f"
            ],
            [
             0.2222222222222222,
             "#7201a8"
            ],
            [
             0.3333333333333333,
             "#9c179e"
            ],
            [
             0.4444444444444444,
             "#bd3786"
            ],
            [
             0.5555555555555556,
             "#d8576b"
            ],
            [
             0.6666666666666666,
             "#ed7953"
            ],
            [
             0.7777777777777778,
             "#fb9f3a"
            ],
            [
             0.8888888888888888,
             "#fdca26"
            ],
            [
             1,
             "#f0f921"
            ]
           ]
          },
          "colorway": [
           "#636efa",
           "#EF553B",
           "#00cc96",
           "#ab63fa",
           "#FFA15A",
           "#19d3f3",
           "#FF6692",
           "#B6E880",
           "#FF97FF",
           "#FECB52"
          ],
          "font": {
           "color": "#2a3f5f"
          },
          "geo": {
           "bgcolor": "white",
           "lakecolor": "white",
           "landcolor": "#E5ECF6",
           "showlakes": true,
           "showland": true,
           "subunitcolor": "white"
          },
          "hoverlabel": {
           "align": "left"
          },
          "hovermode": "closest",
          "mapbox": {
           "style": "light"
          },
          "paper_bgcolor": "white",
          "plot_bgcolor": "#E5ECF6",
          "polar": {
           "angularaxis": {
            "gridcolor": "white",
            "linecolor": "white",
            "ticks": ""
           },
           "bgcolor": "#E5ECF6",
           "radialaxis": {
            "gridcolor": "white",
            "linecolor": "white",
            "ticks": ""
           }
          },
          "scene": {
           "xaxis": {
            "backgroundcolor": "#E5ECF6",
            "gridcolor": "white",
            "gridwidth": 2,
            "linecolor": "white",
            "showbackground": true,
            "ticks": "",
            "zerolinecolor": "white"
           },
           "yaxis": {
            "backgroundcolor": "#E5ECF6",
            "gridcolor": "white",
            "gridwidth": 2,
            "linecolor": "white",
            "showbackground": true,
            "ticks": "",
            "zerolinecolor": "white"
           },
           "zaxis": {
            "backgroundcolor": "#E5ECF6",
            "gridcolor": "white",
            "gridwidth": 2,
            "linecolor": "white",
            "showbackground": true,
            "ticks": "",
            "zerolinecolor": "white"
           }
          },
          "shapedefaults": {
           "line": {
            "color": "#2a3f5f"
           }
          },
          "ternary": {
           "aaxis": {
            "gridcolor": "white",
            "linecolor": "white",
            "ticks": ""
           },
           "baxis": {
            "gridcolor": "white",
            "linecolor": "white",
            "ticks": ""
           },
           "bgcolor": "#E5ECF6",
           "caxis": {
            "gridcolor": "white",
            "linecolor": "white",
            "ticks": ""
           }
          },
          "title": {
           "x": 0.05
          },
          "xaxis": {
           "automargin": true,
           "gridcolor": "white",
           "linecolor": "white",
           "ticks": "",
           "title": {
            "standoff": 15
           },
           "zerolinecolor": "white",
           "zerolinewidth": 2
          },
          "yaxis": {
           "automargin": true,
           "gridcolor": "white",
           "linecolor": "white",
           "ticks": "",
           "title": {
            "standoff": 15
           },
           "zerolinecolor": "white",
           "zerolinewidth": 2
          }
         }
        },
        "xaxis": {
         "anchor": "y",
         "domain": [
          0,
          1
         ],
         "title": {
          "text": "index"
         }
        },
        "yaxis": {
         "anchor": "x",
         "domain": [
          0,
          1
         ],
         "title": {
          "text": "p_loss"
         }
        }
       }
      }
     },
     "metadata": {},
     "output_type": "display_data"
    },
    {
     "data": {
      "application/vnd.plotly.v1+json": {
       "config": {
        "plotlyServerURL": "https://plot.ly"
       },
       "data": [
        {
         "hovertemplate": "index=%{x}<br>p_loss=%{y}<extra></extra>",
         "legendgroup": "",
         "marker": {
          "color": "#636efa",
          "symbol": "circle"
         },
         "mode": "markers",
         "name": "",
         "orientation": "v",
         "showlegend": false,
         "type": "scatter",
         "x": [
          0,
          1,
          2,
          3,
          4,
          5,
          6,
          7,
          8,
          9,
          10,
          11,
          12,
          13,
          14,
          15,
          16,
          17,
          18,
          19,
          20,
          21,
          22,
          23,
          24,
          25,
          26,
          27,
          28,
          29,
          30,
          31,
          32,
          33,
          34,
          35,
          36,
          37,
          38,
          39,
          40,
          41,
          42,
          43,
          44,
          45,
          46,
          47,
          48,
          49,
          50,
          51,
          52,
          53,
          54,
          55,
          56,
          57,
          58,
          59,
          60,
          61,
          62,
          63,
          64,
          65,
          66,
          67,
          68,
          69,
          70,
          71,
          72,
          73,
          74,
          75,
          76,
          77,
          78,
          79,
          80,
          81,
          82,
          83,
          84,
          85,
          86,
          87,
          88,
          89,
          90,
          91,
          92,
          93,
          94,
          95,
          96,
          97,
          98,
          99,
          100,
          101,
          102,
          103,
          104,
          105,
          106,
          107,
          108,
          109,
          110,
          111,
          112,
          113,
          114,
          115,
          116,
          117,
          118,
          119,
          120,
          121,
          122,
          123,
          124,
          125,
          126,
          127,
          128,
          129,
          130,
          131,
          132,
          133,
          134,
          135,
          136,
          137,
          138,
          139,
          140,
          141,
          142,
          143,
          144,
          145,
          146,
          147,
          148,
          149,
          150,
          151,
          152,
          153,
          154,
          155,
          156,
          157,
          158,
          159,
          160,
          161,
          162,
          163,
          164,
          165,
          166,
          167,
          168,
          169,
          170,
          171,
          172,
          173,
          174,
          175,
          176,
          177,
          178,
          179,
          180,
          181,
          182,
          183,
          184,
          185,
          186,
          187,
          188,
          189,
          190,
          191,
          192,
          193,
          194,
          195,
          196,
          197,
          198,
          199,
          200,
          201,
          202,
          203,
          204,
          205,
          206,
          207,
          208,
          209,
          210,
          211,
          212,
          213,
          214,
          215,
          216,
          217,
          218,
          219,
          220,
          221,
          222,
          223,
          224,
          225,
          226,
          227,
          228,
          229,
          230,
          231,
          232,
          233,
          234,
          235,
          236,
          237,
          238,
          239,
          240,
          241,
          242,
          243,
          244,
          245,
          246,
          247,
          248,
          249,
          250,
          251,
          252,
          253,
          254,
          255,
          256,
          257,
          258,
          259,
          260,
          261,
          262,
          263,
          264,
          265,
          266,
          267,
          268,
          269,
          270,
          271,
          272,
          273,
          274,
          275,
          276,
          277,
          278,
          279,
          280,
          281,
          282,
          283,
          284,
          285,
          286,
          287,
          288,
          289,
          290,
          291,
          292,
          293,
          294,
          295,
          296,
          297,
          298,
          299,
          300,
          301,
          302,
          303,
          304,
          305,
          306,
          307,
          308,
          309,
          310,
          311,
          312,
          313,
          314,
          315,
          316,
          317,
          318,
          319,
          320,
          321,
          322,
          323,
          324,
          325,
          326,
          327,
          328,
          329,
          330,
          331,
          332,
          333,
          334,
          335,
          336,
          337,
          338,
          339,
          340,
          341,
          342,
          343,
          344,
          345,
          346,
          347,
          348,
          349,
          350,
          351,
          352,
          353,
          354,
          355,
          356,
          357,
          358,
          359,
          360,
          361,
          362,
          363,
          364,
          365,
          366,
          367,
          368,
          369,
          370,
          371,
          372,
          373,
          374,
          375,
          376,
          377,
          378,
          379,
          380,
          381,
          382,
          383,
          384,
          385,
          386,
          387,
          388,
          389,
          390,
          391,
          392,
          393,
          394,
          395,
          396,
          397,
          398,
          399,
          400,
          401,
          402,
          403,
          404,
          405,
          406,
          407,
          408,
          409,
          410,
          411,
          412,
          413,
          414,
          415,
          416,
          417,
          418,
          419,
          420,
          421,
          422,
          423,
          424,
          425,
          426,
          427,
          428,
          429,
          430,
          431,
          432,
          433,
          434,
          435,
          436,
          437,
          438,
          439,
          440,
          441,
          442,
          443,
          444,
          445,
          446,
          447,
          448,
          449,
          450,
          451,
          452,
          453,
          454,
          455,
          456,
          457,
          458,
          459,
          460,
          461,
          462,
          463,
          464,
          465,
          466,
          467,
          468,
          469,
          470,
          471,
          472,
          473,
          474,
          475,
          476,
          477,
          478,
          479,
          480,
          481,
          482,
          483,
          484,
          485,
          486,
          487,
          488,
          489,
          490,
          491,
          492,
          493,
          494,
          495,
          496,
          497,
          498,
          499
         ],
         "xaxis": "x",
         "y": [
          0.6818814873695374,
          0.6502497792243958,
          0.6371528506278992,
          0.6349493265151978,
          0.634503960609436,
          0.6313084959983826,
          0.6249362230300903,
          0.6166204214096069,
          0.6079028844833374,
          0.6000576019287109,
          0.5938049554824829,
          0.5891710519790649,
          0.5855585336685181,
          0.5820938348770142,
          0.578097939491272,
          0.5733758807182312,
          0.568189263343811,
          0.5630214810371399,
          0.5583136081695557,
          0.5542876720428467,
          0.5509003400802612,
          0.5479161739349365,
          0.5450447201728821,
          0.5420714616775513,
          0.5389273762702942,
          0.5356848835945129,
          0.5324980020523071,
          0.5295225381851196,
          0.5268470644950867,
          0.5244616270065308,
          0.522271990776062,
          0.5201516151428223,
          0.5180033445358276,
          0.5157979726791382,
          0.513574481010437,
          0.511406660079956,
          0.5093609094619751,
          0.5074637532234192,
          0.5056950449943542,
          0.5040050745010376,
          0.5023416876792908,
          0.5006750822067261,
          0.49900609254837036,
          0.49736061692237854,
          0.49577170610427856,
          0.49426135420799255,
          0.4928308129310608,
          0.4914625287055969,
          0.4901311993598938,
          0.48881787061691284,
          0.487518310546875,
          0.48624199628829956,
          0.48500505089759827,
          0.4838193953037262,
          0.4826872944831848,
          0.4816009998321533,
          0.4805486798286438,
          0.4795205593109131,
          0.4785138964653015,
          0.4775324761867523,
          0.4765831530094147,
          0.47567087411880493,
          0.4747958779335022,
          0.4739536643028259,
          0.47313785552978516,
          0.4723438322544098,
          0.4715700149536133,
          0.47081851959228516,
          0.4700922966003418,
          0.4693928360939026,
          0.4687193036079407,
          0.4680687487125397,
          0.4674380421638489,
          0.46682485938072205,
          0.466229110956192,
          0.4656517505645752,
          0.4650937020778656,
          0.46455520391464233,
          0.4640347361564636,
          0.46353060007095337,
          0.4630413055419922,
          0.46256589889526367,
          0.4621047079563141,
          0.46165794134140015,
          0.4612258970737457,
          0.4608079493045807,
          0.4604032635688782,
          0.4600106179714203,
          0.459629625082016,
          0.45925989747047424,
          0.4589015543460846,
          0.45855456590652466,
          0.45821863412857056,
          0.4578931927680969,
          0.45757755637168884,
          0.45727139711380005,
          0.45697420835494995,
          0.4566861689090729,
          0.45640698075294495,
          0.4561366140842438,
          0.45587459206581116,
          0.4556204378604889,
          0.45537394285202026,
          0.45513495802879333,
          0.4549030661582947,
          0.45467835664749146,
          0.4544605612754822,
          0.45424947142601013,
          0.45404475927352905,
          0.45384615659713745,
          0.4536534249782562,
          0.4534665644168854,
          0.45328545570373535,
          0.4531097412109375,
          0.45293936133384705,
          0.4527740478515625,
          0.4526137709617615,
          0.4524582326412201,
          0.4523073732852936,
          0.4521610140800476,
          0.452019065618515,
          0.4518813192844391,
          0.4517476558685303,
          0.451617956161499,
          0.4514921307563782,
          0.4513700008392334,
          0.45125141739845276,
          0.45113641023635864,
          0.45102471113204956,
          0.4509163796901703,
          0.45081114768981934,
          0.4507090449333191,
          0.45060986280441284,
          0.45051366090774536,
          0.45042020082473755,
          0.450329452753067,
          0.4502412676811218,
          0.45015573501586914,
          0.45007258653640747,
          0.4499918818473816,
          0.4499134123325348,
          0.44983726739883423,
          0.44976329803466797,
          0.44969138503074646,
          0.4496215283870697,
          0.4495536684989929,
          0.4494877755641937,
          0.4494237005710602,
          0.4493614137172699,
          0.4493008553981781,
          0.4492420554161072,
          0.4491848349571228,
          0.44912928342819214,
          0.44907522201538086,
          0.44902268052101135,
          0.44897159934043884,
          0.4489218592643738,
          0.4488736093044281,
          0.4488266110420227,
          0.44878092408180237,
          0.44873642921447754,
          0.448693186044693,
          0.44865113496780396,
          0.4486101269721985,
          0.4485703408718109,
          0.4485315680503845,
          0.4484938085079193,
          0.44845715165138245,
          0.4484213888645172,
          0.44838660955429077,
          0.44835275411605835,
          0.4483197331428528,
          0.4482876658439636,
          0.4482564330101013,
          0.4482259154319763,
          0.44819632172584534,
          0.4481674134731293,
          0.4481392502784729,
          0.4481118321418762,
          0.44808515906333923,
          0.4480591416358948,
          0.44803375005722046,
          0.44800901412963867,
          0.4479849338531494,
          0.4479615092277527,
          0.44793862104415894,
          0.4479162096977234,
          0.44789448380470276,
          0.4478732645511627,
          0.44785255193710327,
          0.4478323459625244,
          0.44781264662742615,
          0.4477934241294861,
          0.4477747082710266,
          0.4477563500404358,
          0.44773855805397034,
          0.44772109389305115,
          0.44770413637161255,
          0.44768744707107544,
          0.44767123460769653,
          0.4476553797721863,
          0.44763994216918945,
          0.4476247727870941,
          0.4476100504398346,
          0.44759559631347656,
          0.4475814700126648,
          0.44756776094436646,
          0.44755426049232483,
          0.44754108786582947,
          0.447528213262558,
          0.44751566648483276,
          0.44750338792800903,
          0.4474913477897644,
          0.44747957587242126,
          0.4474680423736572,
          0.4474567770957947,
          0.44744572043418884,
          0.4474349617958069,
          0.44742435216903687,
          0.4474140703678131,
          0.4474039673805237,
          0.4473939836025238,
          0.4473842978477478,
          0.44737476110458374,
          0.4473654329776764,
          0.44735631346702576,
          0.44734734296798706,
          0.4473385810852051,
          0.4473299980163574,
          0.44732150435447693,
          0.44731324911117554,
          0.4473051130771637,
          0.44729718565940857,
          0.447289377450943,
          0.44728168845176697,
          0.4472741186618805,
          0.44726675748825073,
          0.4472595155239105,
          0.4472523629665375,
          0.44724541902542114,
          0.4472385346889496,
          0.4472317695617676,
          0.4472251832485199,
          0.4472185969352722,
          0.4472121596336365,
          0.44720593094825745,
          0.4471997320652008,
          0.44719362258911133,
          0.4471875727176666,
          0.44718170166015625,
          0.44717589020729065,
          0.4471701979637146,
          0.4471645951271057,
          0.4471590518951416,
          0.44715356826782227,
          0.44714823365211487,
          0.44714292883872986,
          0.4471377432346344,
          0.44713252782821655,
          0.4471275210380554,
          0.4471224844455719,
          0.4471176266670227,
          0.4471127390861511,
          0.4471079707145691,
          0.44710320234298706,
          0.44709864258766174,
          0.44709402322769165,
          0.4470894932746887,
          0.44708505272865295,
          0.4470806121826172,
          0.4470762610435486,
          0.44707193970680237,
          0.4470677375793457,
          0.44706350564956665,
          0.4470593333244324,
          0.44705525040626526,
          0.44705119729042053,
          0.44704723358154297,
          0.447043240070343,
          0.44703930616378784,
          0.4470354914665222,
          0.4470316469669342,
          0.44702786207199097,
          0.4470241069793701,
          0.44702044129371643,
          0.44701677560806274,
          0.44701308012008667,
          0.4470095634460449,
          0.4470059871673584,
          0.44700250029563904,
          0.4469989836215973,
          0.4469955563545227,
          0.4469921588897705,
          0.4469887316226959,
          0.4469853937625885,
          0.44698208570480347,
          0.44697874784469604,
          0.44697555899620056,
          0.4469723105430603,
          0.44696909189224243,
          0.44696593284606934,
          0.44696277379989624,
          0.44695964455604553,
          0.4469565451145172,
          0.4469534754753113,
          0.4469504952430725,
          0.4469474256038666,
          0.4469444155693054,
          0.44694146513938904,
          0.44693851470947266,
          0.44693559408187866,
          0.4469326436519623,
          0.44692978262901306,
          0.4469269812107086,
          0.4469241201877594,
          0.4469212591648102,
          0.4469184875488281,
          0.44691571593284607,
          0.4469130039215088,
          0.44691023230552673,
          0.4469074606895447,
          0.4469048082828522,
          0.4469021260738373,
          0.44689950346946716,
          0.44689685106277466,
          0.446894109249115,
          0.44689154624938965,
          0.4468889832496643,
          0.4468863904476166,
          0.44688382744789124,
          0.4468812942504883,
          0.4468787610530853,
          0.44687619805336,
          0.4468737244606018,
          0.44687122106552124,
          0.4468687176704407,
          0.4468662738800049,
          0.4468638002872467,
          0.4468613564968109,
          0.4468589723110199,
          0.4468565881252289,
          0.44685420393943787,
          0.44685178995132446,
          0.44684940576553345,
          0.4468470513820648,
          0.4468447268009186,
          0.44684237241744995,
          0.4468401074409485,
          0.44683781266212463,
          0.446835458278656,
          0.44683322310447693,
          0.4468309283256531,
          0.446828693151474,
          0.4468264579772949,
          0.44682422280311584,
          0.44682198762893677,
          0.4468197822570801,
          0.4468175768852234,
          0.4468154013156891,
          0.4468131959438324,
          0.4468110203742981,
          0.44680890440940857,
          0.44680675864219666,
          0.44680461287498474,
          0.4468024671077728,
          0.4468003809452057,
          0.44679826498031616,
          0.44679611921310425,
          0.4467940926551819,
          0.44679203629493713,
          0.4467899203300476,
          0.44678783416748047,
          0.4467858374118805,
          0.44678378105163574,
          0.446781724691391,
          0.446779727935791,
          0.44677767157554626,
          0.4467756748199463,
          0.4467736780643463,
          0.4467717111110687,
          0.4467697739601135,
          0.44676774740219116,
          0.44676584005355835,
          0.4467638432979584,
          0.4467619061470032,
          0.4467599391937256,
          0.44675809144973755,
          0.44675618410110474,
          0.44675421714782715,
          0.4467523694038391,
          0.4467504620552063,
          0.4467485547065735,
          0.44674667716026306,
          0.44674476981163025,
          0.4467429518699646,
          0.44674110412597656,
          0.4467392861843109,
          0.4467374384403229,
          0.4467356204986572,
          0.4467337727546692,
          0.44673195481300354,
          0.44673019647598267,
          0.44672831892967224,
          0.44672656059265137,
          0.44672471284866333,
          0.44672298431396484,
          0.4467211663722992,
          0.4467194676399231,
          0.44671764969825745,
          0.44671598076820374,
          0.44671422243118286,
          0.4467124938964844,
          0.4467107653617859,
          0.4467090666294098,
          0.4467073380947113,
          0.4467056393623352,
          0.4467039108276367,
          0.446702241897583,
          0.4467005133628845,
          0.4466989040374756,
          0.4466971755027771,
          0.44669556617736816,
          0.4466938376426697,
          0.44669222831726074,
          0.4466906487941742,
          0.4466889500617981,
          0.4466873109340668,
          0.44668570160865784,
          0.4466840624809265,
          0.4466824531555176,
          0.44668087363243103,
          0.4466792941093445,
          0.44667768478393555,
          0.446676105260849,
          0.44667452573776245,
          0.4466729760169983,
          0.44667139649391174,
          0.4466698169708252,
          0.4466682970523834,
          0.4466667175292969,
          0.4466651380062103,
          0.44666367769241333,
          0.44666212797164917,
          0.4466606080532074,
          0.4466590881347656,
          0.44665759801864624,
          0.44665607810020447,
          0.44665461778640747,
          0.4466530680656433,
          0.4466516375541687,
          0.44665011763572693,
          0.44664865732192993,
          0.4466472268104553,
          0.44664573669433594,
          0.44664430618286133,
          0.44664281606674194,
          0.44664138555526733,
          0.4466399550437927,
          0.4466385245323181,
          0.4466370940208435,
          0.4466356635093689,
          0.44663429260253906,
          0.44663286209106445,
          0.4466314911842346,
          0.4466300904750824,
          0.44662871956825256,
          0.44662731885910034,
          0.4466259479522705,
          0.4466245770454407,
          0.44662317633628845,
          0.4466218054294586,
          0.44662046432495117,
          0.4466191232204437,
          0.4466177821159363,
          0.44661641120910645,
          0.446615070104599,
          0.44661378860473633,
          0.4466124475002289,
          0.4466111660003662,
          0.44660982489585876,
          0.4466085433959961,
          0.4466072618961334,
          0.44660598039627075,
          0.4466046392917633,
          0.44660329818725586,
          0.44660210609436035,
          0.4466008245944977,
          0.4465995728969574,
          0.44659823179244995,
          0.44659700989723206,
          0.4465957581996918,
          0.44659456610679626,
          0.4465932846069336,
          0.4465920329093933,
          0.4465908408164978,
          0.4465896189212799,
          0.4465884268283844,
          0.4465871751308441,
          0.4465859532356262,
          0.44658470153808594
         ],
         "yaxis": "y"
        }
       ],
       "layout": {
        "legend": {
         "tracegroupgap": 0
        },
        "margin": {
         "t": 60
        },
        "template": {
         "data": {
          "bar": [
           {
            "error_x": {
             "color": "#2a3f5f"
            },
            "error_y": {
             "color": "#2a3f5f"
            },
            "marker": {
             "line": {
              "color": "#E5ECF6",
              "width": 0.5
             },
             "pattern": {
              "fillmode": "overlay",
              "size": 10,
              "solidity": 0.2
             }
            },
            "type": "bar"
           }
          ],
          "barpolar": [
           {
            "marker": {
             "line": {
              "color": "#E5ECF6",
              "width": 0.5
             },
             "pattern": {
              "fillmode": "overlay",
              "size": 10,
              "solidity": 0.2
             }
            },
            "type": "barpolar"
           }
          ],
          "carpet": [
           {
            "aaxis": {
             "endlinecolor": "#2a3f5f",
             "gridcolor": "white",
             "linecolor": "white",
             "minorgridcolor": "white",
             "startlinecolor": "#2a3f5f"
            },
            "baxis": {
             "endlinecolor": "#2a3f5f",
             "gridcolor": "white",
             "linecolor": "white",
             "minorgridcolor": "white",
             "startlinecolor": "#2a3f5f"
            },
            "type": "carpet"
           }
          ],
          "choropleth": [
           {
            "colorbar": {
             "outlinewidth": 0,
             "ticks": ""
            },
            "type": "choropleth"
           }
          ],
          "contour": [
           {
            "colorbar": {
             "outlinewidth": 0,
             "ticks": ""
            },
            "colorscale": [
             [
              0,
              "#0d0887"
             ],
             [
              0.1111111111111111,
              "#46039f"
             ],
             [
              0.2222222222222222,
              "#7201a8"
             ],
             [
              0.3333333333333333,
              "#9c179e"
             ],
             [
              0.4444444444444444,
              "#bd3786"
             ],
             [
              0.5555555555555556,
              "#d8576b"
             ],
             [
              0.6666666666666666,
              "#ed7953"
             ],
             [
              0.7777777777777778,
              "#fb9f3a"
             ],
             [
              0.8888888888888888,
              "#fdca26"
             ],
             [
              1,
              "#f0f921"
             ]
            ],
            "type": "contour"
           }
          ],
          "contourcarpet": [
           {
            "colorbar": {
             "outlinewidth": 0,
             "ticks": ""
            },
            "type": "contourcarpet"
           }
          ],
          "heatmap": [
           {
            "colorbar": {
             "outlinewidth": 0,
             "ticks": ""
            },
            "colorscale": [
             [
              0,
              "#0d0887"
             ],
             [
              0.1111111111111111,
              "#46039f"
             ],
             [
              0.2222222222222222,
              "#7201a8"
             ],
             [
              0.3333333333333333,
              "#9c179e"
             ],
             [
              0.4444444444444444,
              "#bd3786"
             ],
             [
              0.5555555555555556,
              "#d8576b"
             ],
             [
              0.6666666666666666,
              "#ed7953"
             ],
             [
              0.7777777777777778,
              "#fb9f3a"
             ],
             [
              0.8888888888888888,
              "#fdca26"
             ],
             [
              1,
              "#f0f921"
             ]
            ],
            "type": "heatmap"
           }
          ],
          "heatmapgl": [
           {
            "colorbar": {
             "outlinewidth": 0,
             "ticks": ""
            },
            "colorscale": [
             [
              0,
              "#0d0887"
             ],
             [
              0.1111111111111111,
              "#46039f"
             ],
             [
              0.2222222222222222,
              "#7201a8"
             ],
             [
              0.3333333333333333,
              "#9c179e"
             ],
             [
              0.4444444444444444,
              "#bd3786"
             ],
             [
              0.5555555555555556,
              "#d8576b"
             ],
             [
              0.6666666666666666,
              "#ed7953"
             ],
             [
              0.7777777777777778,
              "#fb9f3a"
             ],
             [
              0.8888888888888888,
              "#fdca26"
             ],
             [
              1,
              "#f0f921"
             ]
            ],
            "type": "heatmapgl"
           }
          ],
          "histogram": [
           {
            "marker": {
             "pattern": {
              "fillmode": "overlay",
              "size": 10,
              "solidity": 0.2
             }
            },
            "type": "histogram"
           }
          ],
          "histogram2d": [
           {
            "colorbar": {
             "outlinewidth": 0,
             "ticks": ""
            },
            "colorscale": [
             [
              0,
              "#0d0887"
             ],
             [
              0.1111111111111111,
              "#46039f"
             ],
             [
              0.2222222222222222,
              "#7201a8"
             ],
             [
              0.3333333333333333,
              "#9c179e"
             ],
             [
              0.4444444444444444,
              "#bd3786"
             ],
             [
              0.5555555555555556,
              "#d8576b"
             ],
             [
              0.6666666666666666,
              "#ed7953"
             ],
             [
              0.7777777777777778,
              "#fb9f3a"
             ],
             [
              0.8888888888888888,
              "#fdca26"
             ],
             [
              1,
              "#f0f921"
             ]
            ],
            "type": "histogram2d"
           }
          ],
          "histogram2dcontour": [
           {
            "colorbar": {
             "outlinewidth": 0,
             "ticks": ""
            },
            "colorscale": [
             [
              0,
              "#0d0887"
             ],
             [
              0.1111111111111111,
              "#46039f"
             ],
             [
              0.2222222222222222,
              "#7201a8"
             ],
             [
              0.3333333333333333,
              "#9c179e"
             ],
             [
              0.4444444444444444,
              "#bd3786"
             ],
             [
              0.5555555555555556,
              "#d8576b"
             ],
             [
              0.6666666666666666,
              "#ed7953"
             ],
             [
              0.7777777777777778,
              "#fb9f3a"
             ],
             [
              0.8888888888888888,
              "#fdca26"
             ],
             [
              1,
              "#f0f921"
             ]
            ],
            "type": "histogram2dcontour"
           }
          ],
          "mesh3d": [
           {
            "colorbar": {
             "outlinewidth": 0,
             "ticks": ""
            },
            "type": "mesh3d"
           }
          ],
          "parcoords": [
           {
            "line": {
             "colorbar": {
              "outlinewidth": 0,
              "ticks": ""
             }
            },
            "type": "parcoords"
           }
          ],
          "pie": [
           {
            "automargin": true,
            "type": "pie"
           }
          ],
          "scatter": [
           {
            "fillpattern": {
             "fillmode": "overlay",
             "size": 10,
             "solidity": 0.2
            },
            "type": "scatter"
           }
          ],
          "scatter3d": [
           {
            "line": {
             "colorbar": {
              "outlinewidth": 0,
              "ticks": ""
             }
            },
            "marker": {
             "colorbar": {
              "outlinewidth": 0,
              "ticks": ""
             }
            },
            "type": "scatter3d"
           }
          ],
          "scattercarpet": [
           {
            "marker": {
             "colorbar": {
              "outlinewidth": 0,
              "ticks": ""
             }
            },
            "type": "scattercarpet"
           }
          ],
          "scattergeo": [
           {
            "marker": {
             "colorbar": {
              "outlinewidth": 0,
              "ticks": ""
             }
            },
            "type": "scattergeo"
           }
          ],
          "scattergl": [
           {
            "marker": {
             "colorbar": {
              "outlinewidth": 0,
              "ticks": ""
             }
            },
            "type": "scattergl"
           }
          ],
          "scattermapbox": [
           {
            "marker": {
             "colorbar": {
              "outlinewidth": 0,
              "ticks": ""
             }
            },
            "type": "scattermapbox"
           }
          ],
          "scatterpolar": [
           {
            "marker": {
             "colorbar": {
              "outlinewidth": 0,
              "ticks": ""
             }
            },
            "type": "scatterpolar"
           }
          ],
          "scatterpolargl": [
           {
            "marker": {
             "colorbar": {
              "outlinewidth": 0,
              "ticks": ""
             }
            },
            "type": "scatterpolargl"
           }
          ],
          "scatterternary": [
           {
            "marker": {
             "colorbar": {
              "outlinewidth": 0,
              "ticks": ""
             }
            },
            "type": "scatterternary"
           }
          ],
          "surface": [
           {
            "colorbar": {
             "outlinewidth": 0,
             "ticks": ""
            },
            "colorscale": [
             [
              0,
              "#0d0887"
             ],
             [
              0.1111111111111111,
              "#46039f"
             ],
             [
              0.2222222222222222,
              "#7201a8"
             ],
             [
              0.3333333333333333,
              "#9c179e"
             ],
             [
              0.4444444444444444,
              "#bd3786"
             ],
             [
              0.5555555555555556,
              "#d8576b"
             ],
             [
              0.6666666666666666,
              "#ed7953"
             ],
             [
              0.7777777777777778,
              "#fb9f3a"
             ],
             [
              0.8888888888888888,
              "#fdca26"
             ],
             [
              1,
              "#f0f921"
             ]
            ],
            "type": "surface"
           }
          ],
          "table": [
           {
            "cells": {
             "fill": {
              "color": "#EBF0F8"
             },
             "line": {
              "color": "white"
             }
            },
            "header": {
             "fill": {
              "color": "#C8D4E3"
             },
             "line": {
              "color": "white"
             }
            },
            "type": "table"
           }
          ]
         },
         "layout": {
          "annotationdefaults": {
           "arrowcolor": "#2a3f5f",
           "arrowhead": 0,
           "arrowwidth": 1
          },
          "autotypenumbers": "strict",
          "coloraxis": {
           "colorbar": {
            "outlinewidth": 0,
            "ticks": ""
           }
          },
          "colorscale": {
           "diverging": [
            [
             0,
             "#8e0152"
            ],
            [
             0.1,
             "#c51b7d"
            ],
            [
             0.2,
             "#de77ae"
            ],
            [
             0.3,
             "#f1b6da"
            ],
            [
             0.4,
             "#fde0ef"
            ],
            [
             0.5,
             "#f7f7f7"
            ],
            [
             0.6,
             "#e6f5d0"
            ],
            [
             0.7,
             "#b8e186"
            ],
            [
             0.8,
             "#7fbc41"
            ],
            [
             0.9,
             "#4d9221"
            ],
            [
             1,
             "#276419"
            ]
           ],
           "sequential": [
            [
             0,
             "#0d0887"
            ],
            [
             0.1111111111111111,
             "#46039f"
            ],
            [
             0.2222222222222222,
             "#7201a8"
            ],
            [
             0.3333333333333333,
             "#9c179e"
            ],
            [
             0.4444444444444444,
             "#bd3786"
            ],
            [
             0.5555555555555556,
             "#d8576b"
            ],
            [
             0.6666666666666666,
             "#ed7953"
            ],
            [
             0.7777777777777778,
             "#fb9f3a"
            ],
            [
             0.8888888888888888,
             "#fdca26"
            ],
            [
             1,
             "#f0f921"
            ]
           ],
           "sequentialminus": [
            [
             0,
             "#0d0887"
            ],
            [
             0.1111111111111111,
             "#46039f"
            ],
            [
             0.2222222222222222,
             "#7201a8"
            ],
            [
             0.3333333333333333,
             "#9c179e"
            ],
            [
             0.4444444444444444,
             "#bd3786"
            ],
            [
             0.5555555555555556,
             "#d8576b"
            ],
            [
             0.6666666666666666,
             "#ed7953"
            ],
            [
             0.7777777777777778,
             "#fb9f3a"
            ],
            [
             0.8888888888888888,
             "#fdca26"
            ],
            [
             1,
             "#f0f921"
            ]
           ]
          },
          "colorway": [
           "#636efa",
           "#EF553B",
           "#00cc96",
           "#ab63fa",
           "#FFA15A",
           "#19d3f3",
           "#FF6692",
           "#B6E880",
           "#FF97FF",
           "#FECB52"
          ],
          "font": {
           "color": "#2a3f5f"
          },
          "geo": {
           "bgcolor": "white",
           "lakecolor": "white",
           "landcolor": "#E5ECF6",
           "showlakes": true,
           "showland": true,
           "subunitcolor": "white"
          },
          "hoverlabel": {
           "align": "left"
          },
          "hovermode": "closest",
          "mapbox": {
           "style": "light"
          },
          "paper_bgcolor": "white",
          "plot_bgcolor": "#E5ECF6",
          "polar": {
           "angularaxis": {
            "gridcolor": "white",
            "linecolor": "white",
            "ticks": ""
           },
           "bgcolor": "#E5ECF6",
           "radialaxis": {
            "gridcolor": "white",
            "linecolor": "white",
            "ticks": ""
           }
          },
          "scene": {
           "xaxis": {
            "backgroundcolor": "#E5ECF6",
            "gridcolor": "white",
            "gridwidth": 2,
            "linecolor": "white",
            "showbackground": true,
            "ticks": "",
            "zerolinecolor": "white"
           },
           "yaxis": {
            "backgroundcolor": "#E5ECF6",
            "gridcolor": "white",
            "gridwidth": 2,
            "linecolor": "white",
            "showbackground": true,
            "ticks": "",
            "zerolinecolor": "white"
           },
           "zaxis": {
            "backgroundcolor": "#E5ECF6",
            "gridcolor": "white",
            "gridwidth": 2,
            "linecolor": "white",
            "showbackground": true,
            "ticks": "",
            "zerolinecolor": "white"
           }
          },
          "shapedefaults": {
           "line": {
            "color": "#2a3f5f"
           }
          },
          "ternary": {
           "aaxis": {
            "gridcolor": "white",
            "linecolor": "white",
            "ticks": ""
           },
           "baxis": {
            "gridcolor": "white",
            "linecolor": "white",
            "ticks": ""
           },
           "bgcolor": "#E5ECF6",
           "caxis": {
            "gridcolor": "white",
            "linecolor": "white",
            "ticks": ""
           }
          },
          "title": {
           "x": 0.05
          },
          "xaxis": {
           "automargin": true,
           "gridcolor": "white",
           "linecolor": "white",
           "ticks": "",
           "title": {
            "standoff": 15
           },
           "zerolinecolor": "white",
           "zerolinewidth": 2
          },
          "yaxis": {
           "automargin": true,
           "gridcolor": "white",
           "linecolor": "white",
           "ticks": "",
           "title": {
            "standoff": 15
           },
           "zerolinecolor": "white",
           "zerolinewidth": 2
          }
         }
        },
        "xaxis": {
         "anchor": "y",
         "domain": [
          0,
          1
         ],
         "title": {
          "text": "index"
         }
        },
        "yaxis": {
         "anchor": "x",
         "domain": [
          0,
          1
         ],
         "title": {
          "text": "p_loss"
         }
        }
       }
      }
     },
     "metadata": {},
     "output_type": "display_data"
    },
    {
     "data": {
      "application/vnd.plotly.v1+json": {
       "config": {
        "plotlyServerURL": "https://plot.ly"
       },
       "data": [
        {
         "hovertemplate": "index=%{x}<br>p_loss=%{y}<extra></extra>",
         "legendgroup": "",
         "marker": {
          "color": "#636efa",
          "symbol": "circle"
         },
         "mode": "markers",
         "name": "",
         "orientation": "v",
         "showlegend": false,
         "type": "scatter",
         "x": [
          0,
          1,
          2,
          3,
          4,
          5,
          6,
          7,
          8,
          9,
          10,
          11,
          12,
          13,
          14,
          15,
          16,
          17,
          18,
          19,
          20,
          21,
          22,
          23,
          24,
          25,
          26,
          27,
          28,
          29,
          30,
          31,
          32,
          33,
          34,
          35,
          36,
          37,
          38,
          39,
          40,
          41,
          42,
          43,
          44,
          45,
          46,
          47,
          48,
          49,
          50,
          51,
          52,
          53,
          54,
          55,
          56,
          57,
          58,
          59,
          60,
          61,
          62,
          63,
          64,
          65,
          66,
          67,
          68,
          69,
          70,
          71,
          72,
          73,
          74,
          75,
          76,
          77,
          78,
          79,
          80,
          81,
          82,
          83,
          84,
          85,
          86,
          87,
          88,
          89,
          90,
          91,
          92,
          93,
          94,
          95,
          96,
          97,
          98,
          99,
          100,
          101,
          102,
          103,
          104,
          105,
          106,
          107,
          108,
          109,
          110,
          111,
          112,
          113,
          114,
          115,
          116,
          117,
          118,
          119,
          120,
          121,
          122,
          123,
          124,
          125,
          126,
          127,
          128,
          129,
          130,
          131,
          132,
          133,
          134,
          135,
          136,
          137,
          138,
          139,
          140,
          141,
          142,
          143,
          144,
          145,
          146,
          147,
          148,
          149,
          150,
          151,
          152,
          153,
          154,
          155,
          156,
          157,
          158,
          159,
          160,
          161,
          162,
          163,
          164,
          165,
          166,
          167,
          168,
          169,
          170,
          171,
          172,
          173,
          174,
          175,
          176,
          177,
          178,
          179,
          180,
          181,
          182,
          183,
          184,
          185,
          186,
          187,
          188,
          189,
          190,
          191,
          192,
          193,
          194,
          195,
          196,
          197,
          198,
          199,
          200,
          201,
          202,
          203,
          204,
          205,
          206,
          207,
          208,
          209,
          210,
          211,
          212,
          213,
          214,
          215,
          216,
          217,
          218,
          219,
          220,
          221,
          222,
          223,
          224,
          225,
          226,
          227,
          228,
          229,
          230,
          231,
          232,
          233,
          234,
          235,
          236,
          237,
          238,
          239,
          240,
          241,
          242,
          243,
          244,
          245,
          246,
          247,
          248,
          249,
          250,
          251,
          252,
          253,
          254,
          255,
          256,
          257,
          258,
          259,
          260,
          261,
          262,
          263,
          264,
          265,
          266,
          267,
          268,
          269,
          270,
          271,
          272,
          273,
          274,
          275,
          276,
          277,
          278,
          279,
          280,
          281,
          282,
          283,
          284,
          285,
          286,
          287,
          288,
          289,
          290,
          291,
          292,
          293,
          294,
          295,
          296,
          297,
          298,
          299,
          300,
          301,
          302,
          303,
          304,
          305,
          306,
          307,
          308,
          309,
          310,
          311,
          312,
          313,
          314,
          315,
          316,
          317,
          318,
          319,
          320,
          321,
          322,
          323,
          324,
          325,
          326,
          327,
          328,
          329,
          330,
          331,
          332,
          333,
          334,
          335,
          336,
          337,
          338,
          339,
          340,
          341,
          342,
          343,
          344,
          345,
          346,
          347,
          348,
          349,
          350,
          351,
          352,
          353,
          354,
          355,
          356,
          357,
          358,
          359,
          360,
          361,
          362,
          363,
          364,
          365,
          366,
          367,
          368,
          369,
          370,
          371,
          372,
          373,
          374,
          375,
          376,
          377,
          378,
          379,
          380,
          381,
          382,
          383,
          384,
          385,
          386,
          387,
          388,
          389,
          390,
          391,
          392,
          393,
          394,
          395,
          396,
          397,
          398,
          399,
          400,
          401,
          402,
          403,
          404,
          405,
          406,
          407,
          408,
          409,
          410,
          411,
          412,
          413,
          414,
          415,
          416,
          417,
          418,
          419,
          420,
          421,
          422,
          423,
          424,
          425,
          426,
          427,
          428,
          429,
          430,
          431,
          432,
          433,
          434,
          435,
          436,
          437,
          438,
          439,
          440,
          441,
          442,
          443,
          444,
          445,
          446,
          447,
          448,
          449,
          450,
          451,
          452,
          453,
          454,
          455,
          456,
          457,
          458,
          459,
          460,
          461,
          462,
          463,
          464,
          465,
          466,
          467,
          468,
          469,
          470,
          471,
          472,
          473,
          474,
          475,
          476,
          477,
          478,
          479,
          480,
          481,
          482,
          483,
          484,
          485,
          486,
          487,
          488,
          489,
          490,
          491,
          492,
          493,
          494,
          495,
          496,
          497,
          498,
          499
         ],
         "xaxis": "x",
         "y": [
          0.9941755533218384,
          0.8768552541732788,
          0.7787543535232544,
          0.7013219594955444,
          0.6447991132736206,
          0.6079076528549194,
          0.587855339050293,
          0.580742597579956,
          0.5822547078132629,
          0.5883744955062866,
          0.5958677530288696,
          0.6024605631828308,
          0.6067800521850586,
          0.6081820726394653,
          0.6065571308135986,
          0.6021634936332703,
          0.5954967737197876,
          0.5871930122375488,
          0.5779560208320618,
          0.5684958696365356,
          0.5594756007194519,
          0.5514591336250305,
          0.5448634624481201,
          0.5399202704429626,
          0.5366533398628235,
          0.5348822474479675,
          0.5342562794685364,
          0.534316897392273,
          0.5345778465270996,
          0.5346067547798157,
          0.5340899229049683,
          0.5328681468963623,
          0.5309394001960754,
          0.5284324288368225,
          0.5255613327026367,
          0.522573709487915,
          0.5197016000747681,
          0.5171254277229309,
          0.514952540397644,
          0.5132135152816772,
          0.5118709802627563,
          0.5108384490013123,
          0.5100033283233643,
          0.5092493295669556,
          0.5084750056266785,
          0.5076073408126831,
          0.5066068768501282,
          0.5054680705070496,
          0.5042141675949097,
          0.502888560295105,
          0.5015444159507751,
          0.5002347826957703,
          0.49900317192077637,
          0.49787816405296326,
          0.4968699812889099,
          0.4959717392921448,
          0.4951624870300293,
          0.49441319704055786,
          0.49369293451309204,
          0.4929751455783844,
          0.4922414720058441,
          0.49148401618003845,
          0.49070507287979126,
          0.48991459608078003,
          0.4891272187232971,
          0.48835816979408264,
          0.4876202940940857,
          0.4869217276573181,
          0.4862651228904724,
          0.4856478273868561,
          0.485063374042511,
          0.4845031797885895,
          0.48395872116088867,
          0.48342281579971313,
          0.48289090394973755,
          0.48236122727394104,
          0.4818347096443176,
          0.481314092874527,
          0.48080307245254517,
          0.4803052544593811,
          0.4798232614994049,
          0.47935834527015686,
          0.478910356760025,
          0.47847771644592285,
          0.47805795073509216,
          0.4776485562324524,
          0.47724705934524536,
          0.47685176134109497,
          0.4764617383480072,
          0.47607699036598206,
          0.4756980538368225,
          0.4753258228302002,
          0.4749613404273987,
          0.47460514307022095,
          0.4742576479911804,
          0.47391873598098755,
          0.4735877513885498,
          0.4732639789581299,
          0.4729467034339905,
          0.4726349711418152,
          0.47232842445373535,
          0.47202664613723755,
          0.4717295169830322,
          0.4714372754096985,
          0.4711500108242035,
          0.4708678126335144,
          0.4705909192562103,
          0.4703192114830017,
          0.4700526297092438,
          0.4697907567024231,
          0.46953344345092773,
          0.4692802429199219,
          0.46903103590011597,
          0.46878552436828613,
          0.4685436189174652,
          0.4683053493499756,
          0.4680705964565277,
          0.4678393304347992,
          0.4676116406917572,
          0.46738743782043457,
          0.4671667218208313,
          0.46694937348365784,
          0.46673503518104553,
          0.4665239453315735,
          0.46631568670272827,
          0.46611031889915466,
          0.4659077525138855,
          0.4657078683376312,
          0.46551060676574707,
          0.4653160572052002,
          0.4651240408420563,
          0.4649345874786377,
          0.46474772691726685,
          0.4645632207393646,
          0.4643811583518982,
          0.4642013907432556,
          0.4640238881111145,
          0.4638485908508301,
          0.4636754095554352,
          0.4635043144226074,
          0.4633353352546692,
          0.4631683826446533,
          0.4630034863948822,
          0.4628404974937439,
          0.4626794755458832,
          0.46252042055130005,
          0.4623631536960602,
          0.4622077941894531,
          0.46205416321754456,
          0.46190232038497925,
          0.4617522358894348,
          0.46160373091697693,
          0.4614570140838623,
          0.4613119661808014,
          0.4611683785915375,
          0.4610265791416168,
          0.46088629961013794,
          0.46074748039245605,
          0.4606102406978607,
          0.46047449111938477,
          0.4603402614593506,
          0.46020740270614624,
          0.4600760340690613,
          0.45994606614112854,
          0.45981746912002563,
          0.45969024300575256,
          0.45956435799598694,
          0.45943984389305115,
          0.4593166410923004,
          0.45919471979141235,
          0.45907407999038696,
          0.45895466208457947,
          0.45883655548095703,
          0.4587196707725525,
          0.45860403776168823,
          0.4584895074367523,
          0.4583762586116791,
          0.45826417207717896,
          0.4581531584262848,
          0.4580433964729309,
          0.457934707403183,
          0.4578271508216858,
          0.45772066712379456,
          0.45761528611183167,
          0.4575110077857971,
          0.45740777254104614,
          0.45730558037757874,
          0.4572044014930725,
          0.457104355096817,
          0.45700520277023315,
          0.45690712332725525,
          0.4568100869655609,
          0.456714004278183,
          0.4566188454627991,
          0.45652467012405396,
          0.45643147826194763,
          0.4563392698764801,
          0.45624786615371704,
          0.45615750551223755,
          0.4560680389404297,
          0.45597943663597107,
          0.45589175820350647,
          0.4558049738407135,
          0.4557190537452698,
          0.4556339681148529,
          0.45554980635643005,
          0.45546644926071167,
          0.4553840160369873,
          0.45530232787132263,
          0.4552215039730072,
          0.45514145493507385,
          0.45506224036216736,
          0.4549838900566101,
          0.45490628480911255,
          0.45482945442199707,
          0.45475339889526367,
          0.45467811822891235,
          0.4546035826206207,
          0.45452985167503357,
          0.4544568955898285,
          0.4543846547603607,
          0.45431309938430786,
          0.4542422890663147,
          0.4541722238063812,
          0.45410284399986267,
          0.4540342390537262,
          0.4539662301540375,
          0.45389899611473083,
          0.45383238792419434,
          0.45376649498939514,
          0.4537011981010437,
          0.45363670587539673,
          0.4535728096961975,
          0.45350950956344604,
          0.4534469246864319,
          0.45338496565818787,
          0.4533236622810364,
          0.45326295495033264,
          0.45320290327072144,
          0.4531434178352356,
          0.4530846178531647,
          0.45302635431289673,
          0.45296868681907654,
          0.4529116153717041,
          0.4528551995754242,
          0.45279932022094727,
          0.4527440071105957,
          0.4526892602443695,
          0.45263513922691345,
          0.4525814950466156,
          0.4525284767150879,
          0.4524759352207184,
          0.45242395997047424,
          0.45237255096435547,
          0.4523216784000397,
          0.45227131247520447,
          0.45222148299217224,
          0.452172189950943,
          0.4521233141422272,
          0.4520750641822815,
          0.45202723145484924,
          0.4519798755645752,
          0.4519330859184265,
          0.4518868029117584,
          0.45184093713760376,
          0.4517955780029297,
          0.4517506957054138,
          0.45170626044273376,
          0.45166224241256714,
          0.45161882042884827,
          0.45157575607299805,
          0.45153316855430603,
          0.45149102807044983,
          0.45144930481910706,
          0.4514080584049225,
          0.45136719942092896,
          0.45132678747177124,
          0.45128679275512695,
          0.4512472152709961,
          0.45120805501937866,
          0.45116934180259705,
          0.45113101601600647,
          0.45109304785728455,
          0.45105552673339844,
          0.45101839303970337,
          0.45098167657852173,
          0.45094528794288635,
          0.4509093165397644,
          0.4508736729621887,
          0.45083847641944885,
          0.45080360770225525,
          0.4507691264152527,
          0.4507350027561188,
          0.45070117712020874,
          0.4506677985191345,
          0.45063477754592896,
          0.45060205459594727,
          0.45056968927383423,
          0.45053768157958984,
          0.4505060315132141,
          0.45047464966773987,
          0.45044365525245667,
          0.45041289925575256,
          0.4503825604915619,
          0.4503525197505951,
          0.4503227770328522,
          0.4502933621406555,
          0.4502642750740051,
          0.4502354562282562,
          0.4502069354057312,
          0.45017871260643005,
          0.45015087723731995,
          0.45012325048446655,
          0.4500959813594818,
          0.4500688910484314,
          0.450042188167572,
          0.45001572370529175,
          0.4499896168708801,
          0.44996365904808044,
          0.44993799924850464,
          0.4499126374721527,
          0.44988757371902466,
          0.4498627781867981,
          0.44983822107315063,
          0.4498139023780823,
          0.4497898519039154,
          0.44976606965065,
          0.44974249601364136,
          0.44971925020217896,
          0.44969621300697327,
          0.4496733248233795,
          0.4496508240699768,
          0.4496285021305084,
          0.449606329202652,
          0.4495845437049866,
          0.4495628774166107,
          0.44954147934913635,
          0.4495202898979187,
          0.44949936866760254,
          0.4494785666465759,
          0.4494580626487732,
          0.4494377672672272,
          0.44941768050193787,
          0.4493977427482605,
          0.449378103017807,
          0.44935864210128784,
          0.4493393898010254,
          0.44932031631469727,
          0.44930148124694824,
          0.44928279519081116,
          0.4492642879486084,
          0.44924601912498474,
          0.449227899312973,
          0.4492100179195404,
          0.4491923451423645,
          0.4491747319698334,
          0.4491574168205261,
          0.4491402506828308,
          0.4491232931613922,
          0.44910645484924316,
          0.44908982515335083,
          0.44907331466674805,
          0.449057012796402,
          0.44904088973999023,
          0.44902491569519043,
          0.44900912046432495,
          0.4489935040473938,
          0.4489780068397522,
          0.4489626884460449,
          0.4489475190639496,
          0.4489324688911438,
          0.4489176273345947,
          0.4489029347896576,
          0.4488883912563324,
          0.44887399673461914,
          0.4488597512245178,
          0.44884562492370605,
          0.4488316476345062,
          0.44881781935691833,
          0.4488041400909424,
          0.44879060983657837,
          0.44877713918685913,
          0.4487639367580414,
          0.44875073432922363,
          0.448737770318985,
          0.4487248957157135,
          0.4487121105194092,
          0.4486994743347168,
          0.44868701696395874,
          0.44867461919784546,
          0.4486623704433441,
          0.4486502707004547,
          0.44863826036453247,
          0.4486263692378998,
          0.44861459732055664,
          0.44860297441482544,
          0.448591411113739,
          0.44857996702194214,
          0.448568731546402,
          0.4485575258731842,
          0.4485464096069336,
          0.4485354423522949,
          0.4485245645046234,
          0.44851380586624146,
          0.44850316643714905,
          0.4484925866127014,
          0.44848212599754333,
          0.4484717845916748,
          0.44846147298812866,
          0.448451429605484,
          0.4484413266181946,
          0.4484313428401947,
          0.4484214782714844,
          0.4484117031097412,
          0.44840207695961,
          0.44839245080947876,
          0.44838300347328186,
          0.44837355613708496,
          0.4483642578125,
          0.4483550488948822,
          0.44834595918655396,
          0.4483368992805481,
          0.4483278691768646,
          0.4483190178871155,
          0.4483101963996887,
          0.4483014941215515,
          0.44829288125038147,
          0.4482843279838562,
          0.4482758045196533,
          0.44826745986938477,
          0.4482591152191162,
          0.4482508599758148,
          0.4482426643371582,
          0.4482346177101135,
          0.44822660088539124,
          0.4482186436653137,
          0.44821077585220337,
          0.4482029378414154,
          0.448195219039917,
          0.44818753004074097,
          0.4481799006462097,
          0.4481724798679352,
          0.44816499948501587,
          0.4481576085090637,
          0.4481502175331116,
          0.448142945766449,
          0.4481357932090759,
          0.4481286108493805,
          0.4481215476989746,
          0.4481145441532135,
          0.44810763001441956,
          0.4481007158756256,
          0.44809389114379883,
          0.44808706641197205,
          0.4480803608894348,
          0.44807371497154236,
          0.4480671286582947,
          0.4480605721473694,
          0.44805407524108887,
          0.4480476379394531,
          0.44804126024246216,
          0.4480349123477936,
          0.44802865386009216,
          0.4480224549770355,
          0.4480162560939789,
          0.4480101466178894,
          0.4480040669441223,
          0.447998046875,
          0.44799208641052246,
          0.4479861855506897,
          0.4479803144931793,
          0.44797444343566895,
          0.44796866178512573,
          0.4479629397392273,
          0.44795727729797363,
          0.44795161485671997,
          0.4479460120201111,
          0.4479404389858246,
          0.44793492555618286,
          0.4479294717311859,
          0.44792404770851135,
          0.4479186534881592,
          0.4479133188724518,
          0.4479080140590668,
          0.44790273904800415,
          0.4478975236415863,
          0.44789236783981323,
          0.44788724184036255,
          0.44788211584091187,
          0.44787710905075073,
          0.4478720724582672,
          0.44786709547042847,
          0.4478621482849121,
          0.44785720109939575,
          0.44785231351852417,
          0.44784751534461975,
          0.44784268736839294,
          0.4478378891944885,
          0.4478331506252289,
          0.447828471660614
         ],
         "yaxis": "y"
        }
       ],
       "layout": {
        "legend": {
         "tracegroupgap": 0
        },
        "margin": {
         "t": 60
        },
        "template": {
         "data": {
          "bar": [
           {
            "error_x": {
             "color": "#2a3f5f"
            },
            "error_y": {
             "color": "#2a3f5f"
            },
            "marker": {
             "line": {
              "color": "#E5ECF6",
              "width": 0.5
             },
             "pattern": {
              "fillmode": "overlay",
              "size": 10,
              "solidity": 0.2
             }
            },
            "type": "bar"
           }
          ],
          "barpolar": [
           {
            "marker": {
             "line": {
              "color": "#E5ECF6",
              "width": 0.5
             },
             "pattern": {
              "fillmode": "overlay",
              "size": 10,
              "solidity": 0.2
             }
            },
            "type": "barpolar"
           }
          ],
          "carpet": [
           {
            "aaxis": {
             "endlinecolor": "#2a3f5f",
             "gridcolor": "white",
             "linecolor": "white",
             "minorgridcolor": "white",
             "startlinecolor": "#2a3f5f"
            },
            "baxis": {
             "endlinecolor": "#2a3f5f",
             "gridcolor": "white",
             "linecolor": "white",
             "minorgridcolor": "white",
             "startlinecolor": "#2a3f5f"
            },
            "type": "carpet"
           }
          ],
          "choropleth": [
           {
            "colorbar": {
             "outlinewidth": 0,
             "ticks": ""
            },
            "type": "choropleth"
           }
          ],
          "contour": [
           {
            "colorbar": {
             "outlinewidth": 0,
             "ticks": ""
            },
            "colorscale": [
             [
              0,
              "#0d0887"
             ],
             [
              0.1111111111111111,
              "#46039f"
             ],
             [
              0.2222222222222222,
              "#7201a8"
             ],
             [
              0.3333333333333333,
              "#9c179e"
             ],
             [
              0.4444444444444444,
              "#bd3786"
             ],
             [
              0.5555555555555556,
              "#d8576b"
             ],
             [
              0.6666666666666666,
              "#ed7953"
             ],
             [
              0.7777777777777778,
              "#fb9f3a"
             ],
             [
              0.8888888888888888,
              "#fdca26"
             ],
             [
              1,
              "#f0f921"
             ]
            ],
            "type": "contour"
           }
          ],
          "contourcarpet": [
           {
            "colorbar": {
             "outlinewidth": 0,
             "ticks": ""
            },
            "type": "contourcarpet"
           }
          ],
          "heatmap": [
           {
            "colorbar": {
             "outlinewidth": 0,
             "ticks": ""
            },
            "colorscale": [
             [
              0,
              "#0d0887"
             ],
             [
              0.1111111111111111,
              "#46039f"
             ],
             [
              0.2222222222222222,
              "#7201a8"
             ],
             [
              0.3333333333333333,
              "#9c179e"
             ],
             [
              0.4444444444444444,
              "#bd3786"
             ],
             [
              0.5555555555555556,
              "#d8576b"
             ],
             [
              0.6666666666666666,
              "#ed7953"
             ],
             [
              0.7777777777777778,
              "#fb9f3a"
             ],
             [
              0.8888888888888888,
              "#fdca26"
             ],
             [
              1,
              "#f0f921"
             ]
            ],
            "type": "heatmap"
           }
          ],
          "heatmapgl": [
           {
            "colorbar": {
             "outlinewidth": 0,
             "ticks": ""
            },
            "colorscale": [
             [
              0,
              "#0d0887"
             ],
             [
              0.1111111111111111,
              "#46039f"
             ],
             [
              0.2222222222222222,
              "#7201a8"
             ],
             [
              0.3333333333333333,
              "#9c179e"
             ],
             [
              0.4444444444444444,
              "#bd3786"
             ],
             [
              0.5555555555555556,
              "#d8576b"
             ],
             [
              0.6666666666666666,
              "#ed7953"
             ],
             [
              0.7777777777777778,
              "#fb9f3a"
             ],
             [
              0.8888888888888888,
              "#fdca26"
             ],
             [
              1,
              "#f0f921"
             ]
            ],
            "type": "heatmapgl"
           }
          ],
          "histogram": [
           {
            "marker": {
             "pattern": {
              "fillmode": "overlay",
              "size": 10,
              "solidity": 0.2
             }
            },
            "type": "histogram"
           }
          ],
          "histogram2d": [
           {
            "colorbar": {
             "outlinewidth": 0,
             "ticks": ""
            },
            "colorscale": [
             [
              0,
              "#0d0887"
             ],
             [
              0.1111111111111111,
              "#46039f"
             ],
             [
              0.2222222222222222,
              "#7201a8"
             ],
             [
              0.3333333333333333,
              "#9c179e"
             ],
             [
              0.4444444444444444,
              "#bd3786"
             ],
             [
              0.5555555555555556,
              "#d8576b"
             ],
             [
              0.6666666666666666,
              "#ed7953"
             ],
             [
              0.7777777777777778,
              "#fb9f3a"
             ],
             [
              0.8888888888888888,
              "#fdca26"
             ],
             [
              1,
              "#f0f921"
             ]
            ],
            "type": "histogram2d"
           }
          ],
          "histogram2dcontour": [
           {
            "colorbar": {
             "outlinewidth": 0,
             "ticks": ""
            },
            "colorscale": [
             [
              0,
              "#0d0887"
             ],
             [
              0.1111111111111111,
              "#46039f"
             ],
             [
              0.2222222222222222,
              "#7201a8"
             ],
             [
              0.3333333333333333,
              "#9c179e"
             ],
             [
              0.4444444444444444,
              "#bd3786"
             ],
             [
              0.5555555555555556,
              "#d8576b"
             ],
             [
              0.6666666666666666,
              "#ed7953"
             ],
             [
              0.7777777777777778,
              "#fb9f3a"
             ],
             [
              0.8888888888888888,
              "#fdca26"
             ],
             [
              1,
              "#f0f921"
             ]
            ],
            "type": "histogram2dcontour"
           }
          ],
          "mesh3d": [
           {
            "colorbar": {
             "outlinewidth": 0,
             "ticks": ""
            },
            "type": "mesh3d"
           }
          ],
          "parcoords": [
           {
            "line": {
             "colorbar": {
              "outlinewidth": 0,
              "ticks": ""
             }
            },
            "type": "parcoords"
           }
          ],
          "pie": [
           {
            "automargin": true,
            "type": "pie"
           }
          ],
          "scatter": [
           {
            "fillpattern": {
             "fillmode": "overlay",
             "size": 10,
             "solidity": 0.2
            },
            "type": "scatter"
           }
          ],
          "scatter3d": [
           {
            "line": {
             "colorbar": {
              "outlinewidth": 0,
              "ticks": ""
             }
            },
            "marker": {
             "colorbar": {
              "outlinewidth": 0,
              "ticks": ""
             }
            },
            "type": "scatter3d"
           }
          ],
          "scattercarpet": [
           {
            "marker": {
             "colorbar": {
              "outlinewidth": 0,
              "ticks": ""
             }
            },
            "type": "scattercarpet"
           }
          ],
          "scattergeo": [
           {
            "marker": {
             "colorbar": {
              "outlinewidth": 0,
              "ticks": ""
             }
            },
            "type": "scattergeo"
           }
          ],
          "scattergl": [
           {
            "marker": {
             "colorbar": {
              "outlinewidth": 0,
              "ticks": ""
             }
            },
            "type": "scattergl"
           }
          ],
          "scattermapbox": [
           {
            "marker": {
             "colorbar": {
              "outlinewidth": 0,
              "ticks": ""
             }
            },
            "type": "scattermapbox"
           }
          ],
          "scatterpolar": [
           {
            "marker": {
             "colorbar": {
              "outlinewidth": 0,
              "ticks": ""
             }
            },
            "type": "scatterpolar"
           }
          ],
          "scatterpolargl": [
           {
            "marker": {
             "colorbar": {
              "outlinewidth": 0,
              "ticks": ""
             }
            },
            "type": "scatterpolargl"
           }
          ],
          "scatterternary": [
           {
            "marker": {
             "colorbar": {
              "outlinewidth": 0,
              "ticks": ""
             }
            },
            "type": "scatterternary"
           }
          ],
          "surface": [
           {
            "colorbar": {
             "outlinewidth": 0,
             "ticks": ""
            },
            "colorscale": [
             [
              0,
              "#0d0887"
             ],
             [
              0.1111111111111111,
              "#46039f"
             ],
             [
              0.2222222222222222,
              "#7201a8"
             ],
             [
              0.3333333333333333,
              "#9c179e"
             ],
             [
              0.4444444444444444,
              "#bd3786"
             ],
             [
              0.5555555555555556,
              "#d8576b"
             ],
             [
              0.6666666666666666,
              "#ed7953"
             ],
             [
              0.7777777777777778,
              "#fb9f3a"
             ],
             [
              0.8888888888888888,
              "#fdca26"
             ],
             [
              1,
              "#f0f921"
             ]
            ],
            "type": "surface"
           }
          ],
          "table": [
           {
            "cells": {
             "fill": {
              "color": "#EBF0F8"
             },
             "line": {
              "color": "white"
             }
            },
            "header": {
             "fill": {
              "color": "#C8D4E3"
             },
             "line": {
              "color": "white"
             }
            },
            "type": "table"
           }
          ]
         },
         "layout": {
          "annotationdefaults": {
           "arrowcolor": "#2a3f5f",
           "arrowhead": 0,
           "arrowwidth": 1
          },
          "autotypenumbers": "strict",
          "coloraxis": {
           "colorbar": {
            "outlinewidth": 0,
            "ticks": ""
           }
          },
          "colorscale": {
           "diverging": [
            [
             0,
             "#8e0152"
            ],
            [
             0.1,
             "#c51b7d"
            ],
            [
             0.2,
             "#de77ae"
            ],
            [
             0.3,
             "#f1b6da"
            ],
            [
             0.4,
             "#fde0ef"
            ],
            [
             0.5,
             "#f7f7f7"
            ],
            [
             0.6,
             "#e6f5d0"
            ],
            [
             0.7,
             "#b8e186"
            ],
            [
             0.8,
             "#7fbc41"
            ],
            [
             0.9,
             "#4d9221"
            ],
            [
             1,
             "#276419"
            ]
           ],
           "sequential": [
            [
             0,
             "#0d0887"
            ],
            [
             0.1111111111111111,
             "#46039f"
            ],
            [
             0.2222222222222222,
             "#7201a8"
            ],
            [
             0.3333333333333333,
             "#9c179e"
            ],
            [
             0.4444444444444444,
             "#bd3786"
            ],
            [
             0.5555555555555556,
             "#d8576b"
            ],
            [
             0.6666666666666666,
             "#ed7953"
            ],
            [
             0.7777777777777778,
             "#fb9f3a"
            ],
            [
             0.8888888888888888,
             "#fdca26"
            ],
            [
             1,
             "#f0f921"
            ]
           ],
           "sequentialminus": [
            [
             0,
             "#0d0887"
            ],
            [
             0.1111111111111111,
             "#46039f"
            ],
            [
             0.2222222222222222,
             "#7201a8"
            ],
            [
             0.3333333333333333,
             "#9c179e"
            ],
            [
             0.4444444444444444,
             "#bd3786"
            ],
            [
             0.5555555555555556,
             "#d8576b"
            ],
            [
             0.6666666666666666,
             "#ed7953"
            ],
            [
             0.7777777777777778,
             "#fb9f3a"
            ],
            [
             0.8888888888888888,
             "#fdca26"
            ],
            [
             1,
             "#f0f921"
            ]
           ]
          },
          "colorway": [
           "#636efa",
           "#EF553B",
           "#00cc96",
           "#ab63fa",
           "#FFA15A",
           "#19d3f3",
           "#FF6692",
           "#B6E880",
           "#FF97FF",
           "#FECB52"
          ],
          "font": {
           "color": "#2a3f5f"
          },
          "geo": {
           "bgcolor": "white",
           "lakecolor": "white",
           "landcolor": "#E5ECF6",
           "showlakes": true,
           "showland": true,
           "subunitcolor": "white"
          },
          "hoverlabel": {
           "align": "left"
          },
          "hovermode": "closest",
          "mapbox": {
           "style": "light"
          },
          "paper_bgcolor": "white",
          "plot_bgcolor": "#E5ECF6",
          "polar": {
           "angularaxis": {
            "gridcolor": "white",
            "linecolor": "white",
            "ticks": ""
           },
           "bgcolor": "#E5ECF6",
           "radialaxis": {
            "gridcolor": "white",
            "linecolor": "white",
            "ticks": ""
           }
          },
          "scene": {
           "xaxis": {
            "backgroundcolor": "#E5ECF6",
            "gridcolor": "white",
            "gridwidth": 2,
            "linecolor": "white",
            "showbackground": true,
            "ticks": "",
            "zerolinecolor": "white"
           },
           "yaxis": {
            "backgroundcolor": "#E5ECF6",
            "gridcolor": "white",
            "gridwidth": 2,
            "linecolor": "white",
            "showbackground": true,
            "ticks": "",
            "zerolinecolor": "white"
           },
           "zaxis": {
            "backgroundcolor": "#E5ECF6",
            "gridcolor": "white",
            "gridwidth": 2,
            "linecolor": "white",
            "showbackground": true,
            "ticks": "",
            "zerolinecolor": "white"
           }
          },
          "shapedefaults": {
           "line": {
            "color": "#2a3f5f"
           }
          },
          "ternary": {
           "aaxis": {
            "gridcolor": "white",
            "linecolor": "white",
            "ticks": ""
           },
           "baxis": {
            "gridcolor": "white",
            "linecolor": "white",
            "ticks": ""
           },
           "bgcolor": "#E5ECF6",
           "caxis": {
            "gridcolor": "white",
            "linecolor": "white",
            "ticks": ""
           }
          },
          "title": {
           "x": 0.05
          },
          "xaxis": {
           "automargin": true,
           "gridcolor": "white",
           "linecolor": "white",
           "ticks": "",
           "title": {
            "standoff": 15
           },
           "zerolinecolor": "white",
           "zerolinewidth": 2
          },
          "yaxis": {
           "automargin": true,
           "gridcolor": "white",
           "linecolor": "white",
           "ticks": "",
           "title": {
            "standoff": 15
           },
           "zerolinecolor": "white",
           "zerolinewidth": 2
          }
         }
        },
        "xaxis": {
         "anchor": "y",
         "domain": [
          0,
          1
         ],
         "title": {
          "text": "index"
         }
        },
        "yaxis": {
         "anchor": "x",
         "domain": [
          0,
          1
         ],
         "title": {
          "text": "p_loss"
         }
        }
       }
      }
     },
     "metadata": {},
     "output_type": "display_data"
    }
   ],
   "source": [
    "for ei_model in results['ei_model']:\n",
    "    px.scatter(vars(ei_model.train_history), y='p_loss').show()"
   ]
  }
 ],
 "metadata": {
  "kernelspec": {
   "display_name": ".env",
   "language": "python",
   "name": "python3"
  },
  "language_info": {
   "codemirror_mode": {
    "name": "ipython",
    "version": 3
   },
   "file_extension": ".py",
   "mimetype": "text/x-python",
   "name": "python",
   "nbconvert_exporter": "python",
   "pygments_lexer": "ipython3",
   "version": "3.11.9"
  }
 },
 "nbformat": 4,
 "nbformat_minor": 2
}
