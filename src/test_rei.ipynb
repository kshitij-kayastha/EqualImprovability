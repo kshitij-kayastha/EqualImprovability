{
 "cells": [
  {
   "cell_type": "code",
   "execution_count": 1,
   "metadata": {},
   "outputs": [],
   "source": [
    "import torch\n",
    "import pickle\n",
    "import warnings\n",
    "import numpy as np\n",
    "import pandas as pd\n",
    "import plotly.express as px\n",
    "from copy import deepcopy\n",
    "from tqdm import tqdm\n",
    "from typing import Iterable\n",
    "\n",
    "\n",
    "from model import LR\n",
    "from data import FairnessDataset, SyntheticDataset, GermanDataset, IncomeDataset\n",
    "from ei_effort import Optimal_Effort, PGD_Effort\n",
    "from ei_utils import *\n",
    "from ei_model_test import EIModel, fair_batch_proxy, covariance_proxy"
   ]
  },
  {
   "cell_type": "code",
   "execution_count": null,
   "metadata": {},
   "outputs": [],
   "source": [
    "def get_wandb(model):\n",
    "    for module in model.layers:\n",
    "        if hasattr(module, 'weight'):\n",
    "            weights = module.weight.data[0]\n",
    "        if hasattr(module, 'bias'):\n",
    "            bias = module.bias.data\n",
    "            \n",
    "    theta = torch.cat((weights, bias), 0)\n",
    "    return theta.numpy().round(2)"
   ]
  },
  {
   "cell_type": "code",
   "execution_count": null,
   "metadata": {},
   "outputs": [],
   "source": [
    "def append_res(d, seed, lamb, train_alpha, alpha, acc, fair_loss, ei, ei_model):\n",
    "    d['seed'].append(seed)\n",
    "    d['lambda'].append(lamb)\n",
    "    d['train_alpha'].append(train_alpha)\n",
    "    d['alpha'].append(alpha)\n",
    "    d['accuracy'].append(acc)\n",
    "    d['loss'].append(1-acc)\n",
    "    d['fair_loss'].append(fair_loss)\n",
    "    d['ei_disparity'].append(ei)\n",
    "    d['ei_model'].append(ei_model)"
   ]
  },
  {
   "cell_type": "code",
   "execution_count": null,
   "metadata": {},
   "outputs": [],
   "source": [
    "def model_runner(dataset: FairnessDataset, hp: dict, seeds: Iterable, results: dict):\n",
    "    tau = 0.5\n",
    "    \n",
    "    if hp['optimal_effort']:\n",
    "        effort = Optimal_Effort(hp['delta'])\n",
    "    else:\n",
    "        effort = PGD_Effort(hp['delta'])\n",
    "    \n",
    "    if hp['robust_training']:\n",
    "        train_alpha = hp['alpha']\n",
    "    else:\n",
    "        train_alpha = 0.\n",
    "    \n",
    "    for seed in seeds:\n",
    "        train_tensors, val_tensors, test_tensors = dataset.tensor(fold=seed, z_blind=hp['z_blind'])\n",
    "        train_dataset = FairnessDataset(*train_tensors, dataset.imp_feats)\n",
    "        val_dataset = FairnessDataset(*val_tensors, dataset.imp_feats)\n",
    "        test_dataset = FairnessDataset(*test_tensors, dataset.imp_feats)\n",
    "        \n",
    "        model = LR(num_features=train_dataset.X.shape[1])\n",
    "        ei_model = EIModel(\n",
    "            model = model,\n",
    "            proxy = hp['proxy'],\n",
    "            effort = effort,\n",
    "            tau = tau,\n",
    "            warm_start = False)\n",
    "        \n",
    "        ei_model.train(\n",
    "            train_dataset,\n",
    "            lamb=hp['lambda'],\n",
    "            alpha=train_alpha,\n",
    "            lr=hp['learning_rate'],\n",
    "            n_epochs=hp['n_epochs'],\n",
    "            batch_size=1024,\n",
    "            abstol=hp['pga_abstol']\n",
    "            )\n",
    "        \n",
    "        Y_hat, Y_hat_max, fair_loss = ei_model.predict(test_dataset, alpha=hp['alpha'], abstol=hp['pga_abstol'])\n",
    "        accuracy, ei_disparity = model_performance(test_dataset.Y.detach().numpy(), test_dataset.Z.detach().numpy(), Y_hat, Y_hat_max, tau)\n",
    "        append_res(results, seed, hp['lambda'], train_alpha, hp['alpha'], accuracy, fair_loss.item(), ei_disparity, ei_model)"
   ]
  },
  {
   "cell_type": "code",
   "execution_count": null,
   "metadata": {},
   "outputs": [],
   "source": [
    "def run_tradeoff(dataset, hyper_params, seeds):\n",
    "    hp = hyper_params.copy()\n",
    "    results = pd.DataFrame()\n",
    "    \n",
    "    results = {'seed': [], 'lambda': [], 'train_alpha': [], 'alpha': [], 'accuracy': [], 'loss': [], 'fair_loss': [], 'ei_disparity': [], 'ei_model': []}\n",
    "    for robust_training in hyper_params['robust_training']:\n",
    "        for lamb in hyper_params['lambda']:\n",
    "            for alpha in hyper_params['alpha']:\n",
    "                hp['robust_training'] = robust_training\n",
    "                hp['lambda'] = lamb\n",
    "                hp['alpha'] = alpha\n",
    "            \n",
    "                model_runner(dataset, hp, seeds, results)\n",
    "                print()\n",
    "    \n",
    "    return results"
   ]
  },
  {
   "cell_type": "code",
   "execution_count": null,
   "metadata": {},
   "outputs": [],
   "source": [
    "torch.manual_seed(0)\n",
    "\n",
    "# Dataset\n",
    "dataset = SyntheticDataset(num_samples=1000, seed=0)\n",
    "# dataset = GermanDataset(seed=0)\n",
    "# dataset = IncomeDataset(seed=0)\n",
    "\n",
    "# Hyperparameters\n",
    "hyper_params = {}\n",
    "hyper_params['lambda'] = 1-np.geomspace(0.001, 0.999, 20)\n",
    "hyper_params['alpha'] = [0., 0.5, 1.5]\n",
    "hyper_params['delta'] = .5 # synthetic is 0.5, german is 1, \n",
    "hyper_params['learning_rate'] = 0.01\n",
    "hyper_params['n_epochs'] = 100\n",
    "hyper_params['proxy'] = covariance_proxy\n",
    "hyper_params['pga_abstol'] = 1e-7\n",
    "hyper_params['z_blind'] = False\n",
    "hyper_params['optimal_effort'] = True\n",
    "hyper_params['robust_training'] = [True]\n",
    "\n",
    "seeds = range(2)\n",
    "\n",
    "# Run tradeoffs\n",
    "results = run_tradeoff(dataset, hyper_params, seeds)"
   ]
  },
  {
   "cell_type": "code",
   "execution_count": null,
   "metadata": {},
   "outputs": [],
   "source": [
    "df = pd.DataFrame(results)\n",
    "df.sort_values(['lambda', 'alpha']).reset_index(drop=True)"
   ]
  },
  {
   "cell_type": "code",
   "execution_count": null,
   "metadata": {},
   "outputs": [],
   "source": [
    "df_avg = df.groupby(['lambda', 'alpha'], as_index=False).mean(True)\n",
    "px.line(df_avg, x='lambda', y='ei_disparity', color='alpha', markers=True, title=f'{dataset.__class__.__name__}')"
   ]
  },
  {
   "cell_type": "code",
   "execution_count": null,
   "metadata": {},
   "outputs": [],
   "source": [
    "# df.to_pickle(f'tradeoff_robust_{dataset.__class__.__name__}_5cv.pkl')"
   ]
  },
  {
   "cell_type": "code",
   "execution_count": 6,
   "metadata": {},
   "outputs": [
    {
     "ename": "NameError",
     "evalue": "name 'results' is not defined",
     "output_type": "error",
     "traceback": [
      "\u001b[0;31m---------------------------------------------------------------------------\u001b[0m",
      "\u001b[0;31mNameError\u001b[0m                                 Traceback (most recent call last)",
      "Cell \u001b[0;32mIn[6], line 1\u001b[0m\n\u001b[0;32m----> 1\u001b[0m \u001b[43mresults\u001b[49m\n",
      "\u001b[0;31mNameError\u001b[0m: name 'results' is not defined"
     ]
    }
   ],
   "source": [
    "results"
   ]
  }
 ],
 "metadata": {
  "kernelspec": {
   "display_name": ".env",
   "language": "python",
   "name": "python3"
  },
  "language_info": {
   "codemirror_mode": {
    "name": "ipython",
    "version": 3
   },
   "file_extension": ".py",
   "mimetype": "text/x-python",
   "name": "python",
   "nbconvert_exporter": "python",
   "pygments_lexer": "ipython3",
   "version": "3.11.9"
  }
 },
 "nbformat": 4,
 "nbformat_minor": 2
}
