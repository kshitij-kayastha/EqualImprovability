{
 "cells": [
  {
   "cell_type": "code",
   "execution_count": 1,
   "metadata": {},
   "outputs": [],
   "source": [
    "import torch\n",
    "import numpy as np\n",
    "import pandas as pd\n",
    "import plotly.express as px\n",
    "from copy import deepcopy\n",
    "from tqdm import tqdm\n",
    "from typing import Iterable\n",
    "\n",
    "from model import LR\n",
    "from data import FairnessDataset, Dataset, SyntheticDataset, GermanDataset, IncomeDataset\n",
    "from ei_effort import Optimal_Effort, PGD_Effort\n",
    "from ei_utils import model_performance, pareto_frontier\n",
    "from ei_model import EIModel, fair_batch_proxy, covariance_proxy"
   ]
  },
  {
   "cell_type": "code",
   "execution_count": 2,
   "metadata": {},
   "outputs": [],
   "source": [
    "def append_res(d, seed, method, delta, lamb, train_alpha, alpha, pred_loss, fair_loss, accuracy, ei_disparity, ei_model):\n",
    "    d['seed'].append(seed)\n",
    "    d['method'].append(method)\n",
    "    d['delta'].append(delta)\n",
    "    d['lambda'].append(lamb)\n",
    "    d['train_alpha'].append(train_alpha)\n",
    "    d['alpha'].append(alpha)\n",
    "    d['loss'].append((1-lamb)*pred_loss + lamb*fair_loss)\n",
    "    d['pred_loss'].append(pred_loss)\n",
    "    d['fair_loss'].append(fair_loss)\n",
    "    d['accuracy'].append(accuracy)\n",
    "    d['error'].append(1-accuracy)\n",
    "    d['ei_disparity'].append(ei_disparity)\n",
    "    d['ei_model'].append(ei_model)"
   ]
  },
  {
   "cell_type": "code",
   "execution_count": 3,
   "metadata": {},
   "outputs": [],
   "source": [
    "def run_tradeoff(dataset: Dataset, hyper_params: dict, seeds: int, results: dict):\n",
    "    \n",
    "    tau = hyper_params['tau']\n",
    "    delta = dataset.delta\n",
    "    \n",
    "    if hyper_params['optimal_effort']:\n",
    "        effort = Optimal_Effort(delta)\n",
    "    else:\n",
    "        effort = PGD_Effort(delta)\n",
    "    \n",
    "    for seed in seeds:\n",
    "        train_tensors, val_tensors, test_tensors = dataset.tensor(fold=seed, z_blind=hyper_params['z_blind'])\n",
    "        train_dataset = FairnessDataset(*train_tensors, dataset.imp_feats)\n",
    "        val_dataset = FairnessDataset(*val_tensors, dataset.imp_feats)\n",
    "        test_dataset = FairnessDataset(*test_tensors, dataset.imp_feats)\n",
    "        \n",
    "        model = LR(num_features=train_dataset.X.shape[1])\n",
    "        \n",
    "        for lamb in hyper_params['lambda']:\n",
    "            ei_model = EIModel(\n",
    "                    model = deepcopy(model),\n",
    "                    proxy = hyper_params['proxy'],\n",
    "                    effort = effort,\n",
    "                    tau = tau\n",
    "                    )\n",
    "                \n",
    "            ei_model.train(\n",
    "                train_dataset,\n",
    "                lamb=lamb,\n",
    "                alpha=0.,\n",
    "                lr=hyper_params['learning_rate'],\n",
    "                n_epochs=hyper_params['n_epochs'],\n",
    "                # batch_size=1024,\n",
    "                batch_size=len(train_dataset.X),\n",
    "                abstol=hyper_params['pga_abstol']\n",
    "                )\n",
    "            \n",
    "            Y_hat, Y_hat_max, pred_loss, fair_loss = ei_model.predict(test_dataset, alpha=0., abstol=hyper_params['pga_abstol'])\n",
    "            accuracy, ei_disparity = model_performance(test_dataset.Y.detach().numpy(), test_dataset.Z.detach().numpy(), Y_hat, Y_hat_max, tau)\n",
    "            append_res(results, seed, 'EI', delta, lamb, 0., 0., pred_loss, fair_loss, accuracy, ei_disparity, deepcopy(ei_model))\n",
    "            \n",
    "            for alpha in hyper_params['alpha']:\n",
    "                Y_hat, Y_hat_max, pred_loss, fair_loss = ei_model.predict(test_dataset, alpha=alpha, abstol=hyper_params['pga_abstol'])\n",
    "                accuracy, ei_disparity = model_performance(test_dataset.Y.detach().numpy(), test_dataset.Z.detach().numpy(), Y_hat, Y_hat_max, tau)\n",
    "                append_res(results, seed, 'EI', delta, lamb, 0., alpha, pred_loss, fair_loss, accuracy, ei_disparity, deepcopy(ei_model))\n",
    "                \n",
    "                rei_model = EIModel(\n",
    "                    model = deepcopy(ei_model.model),\n",
    "                    proxy = hyper_params['proxy'],\n",
    "                    effort = effort,\n",
    "                    tau = tau\n",
    "                    )\n",
    "                \n",
    "                rei_model.train(\n",
    "                    train_dataset,\n",
    "                    lamb=lamb,\n",
    "                    alpha=alpha,\n",
    "                    lr=hyper_params['learning_rate'],\n",
    "                    n_epochs=hyper_params['n_epochs'],\n",
    "                    # batch_size=1024,\n",
    "                    batch_size=len(train_dataset.X),\n",
    "                    abstol=hyper_params['pga_abstol']\n",
    "                    )\n",
    "                \n",
    "                Y_hat_r, Y_hat_max_r, pred_loss_r, fair_loss_r = rei_model.predict(test_dataset, alpha=0., abstol=hyper_params['pga_abstol'])\n",
    "                accuracy_r, rei_disparity = model_performance(test_dataset.Y.detach().numpy(), test_dataset.Z.detach().numpy(), Y_hat_r, Y_hat_max_r, tau)\n",
    "                append_res(results, seed, 'REI', delta, lamb, alpha, 0., pred_loss_r, fair_loss_r, accuracy_r, rei_disparity, deepcopy(rei_model))\n",
    "                \n",
    "                Y_hat_r, Y_hat_max_r, pred_loss_r, fair_loss_r = rei_model.predict(test_dataset, alpha=alpha, abstol=hyper_params['pga_abstol'])\n",
    "                accuracy_r, rei_disparity = model_performance(test_dataset.Y.detach().numpy(), test_dataset.Z.detach().numpy(), Y_hat_r, Y_hat_max_r, tau)\n",
    "                append_res(results, seed, 'REI', delta, lamb, alpha, alpha, pred_loss_r, fair_loss_r, accuracy_r, rei_disparity, deepcopy(rei_model))\n",
    "            print()"
   ]
  },
  {
   "cell_type": "code",
   "execution_count": 5,
   "metadata": {},
   "outputs": [
    {
     "name": "stderr",
     "output_type": "stream",
     "text": [
      "Training [alpha=0.000; lambda=0.99999; delta=0.500]: 100%|\u001b[38;2;0;145;255m██████████\u001b[0m| 500/500 [00:35<00:00, 14.02epochs/s]\n",
      "Training [alpha=1.500; lambda=0.99999; delta=0.500]: 100%|\u001b[38;2;0;145;255m██████████\u001b[0m| 500/500 [00:36<00:00, 13.79epochs/s]"
     ]
    },
    {
     "name": "stdout",
     "output_type": "stream",
     "text": [
      "\n"
     ]
    },
    {
     "name": "stderr",
     "output_type": "stream",
     "text": [
      "\n"
     ]
    }
   ],
   "source": [
    "torch.manual_seed(0)\n",
    "\n",
    "# ----- Dataset -----\n",
    "dataset = SyntheticDataset(num_samples=20000, seed=0)\n",
    "# dataset = GermanDataset(seed=0)\n",
    "# dataset = IncomeDataset(num_samples=1000, seed=0)\n",
    "\n",
    "# ----- Hyperparameters -----\n",
    "hyper_params = {}\n",
    "# hyper_params['lambda'] = 1-np.geomspace(0.001, 0.999, 20)\n",
    "hyper_params['lambda'] = [0.99999]\n",
    "hyper_params['alpha'] = [1.5]\n",
    "hyper_params['tau'] = 0.5\n",
    "hyper_params['learning_rate'] = 0.01\n",
    "hyper_params['n_epochs'] = 500\n",
    "hyper_params['proxy'] = covariance_proxy\n",
    "hyper_params['pga_abstol'] = 20\n",
    "hyper_params['z_blind'] = True\n",
    "hyper_params['optimal_effort'] = True\n",
    "\n",
    "seeds = range(1)\n",
    "\n",
    "# ----- Run Experiment -----\n",
    "results_xl = {'seed': [], 'method': [], 'delta': [], 'lambda': [], 'train_alpha': [], 'alpha': [], 'loss': [], 'pred_loss': [ ], 'fair_loss': [], 'accuracy': [], 'error': [], 'ei_disparity': [], 'ei_model': []}\n",
    "run_tradeoff(dataset, hyper_params, seeds, results_xl)"
   ]
  },
  {
   "cell_type": "code",
   "execution_count": 6,
   "metadata": {},
   "outputs": [],
   "source": [
    "df = pd.DataFrame(results_xl)\n",
    "df['ei_model.theta'] = df['ei_model'].apply(lambda x: x.model.get_theta().numpy().round(3))\n",
    "df['ei_model.theta_adv'] = df['ei_model'].apply(lambda x: x.model_adv.get_theta().numpy().round(3))\n",
    "# df['lambda'] = df['lambda'].apply(lambda x: np.round(x, 4))"
   ]
  },
  {
   "cell_type": "code",
   "execution_count": 8,
   "metadata": {},
   "outputs": [
    {
     "name": "stdout",
     "output_type": "stream",
     "text": [
      "Synthetic Dataset\n"
     ]
    },
    {
     "data": {
      "text/html": [
       "<div>\n",
       "<style scoped>\n",
       "    .dataframe tbody tr th:only-of-type {\n",
       "        vertical-align: middle;\n",
       "    }\n",
       "\n",
       "    .dataframe tbody tr th {\n",
       "        vertical-align: top;\n",
       "    }\n",
       "\n",
       "    .dataframe thead th {\n",
       "        text-align: right;\n",
       "    }\n",
       "</style>\n",
       "<table border=\"1\" class=\"dataframe\">\n",
       "  <thead>\n",
       "    <tr style=\"text-align: right;\">\n",
       "      <th></th>\n",
       "      <th>method</th>\n",
       "      <th>lambda</th>\n",
       "      <th>train_alpha</th>\n",
       "      <th>alpha</th>\n",
       "      <th>loss</th>\n",
       "      <th>pred_loss</th>\n",
       "      <th>fair_loss</th>\n",
       "      <th>error</th>\n",
       "      <th>ei_disparity</th>\n",
       "      <th>ei_model.theta</th>\n",
       "      <th>ei_model.theta_adv</th>\n",
       "    </tr>\n",
       "  </thead>\n",
       "  <tbody>\n",
       "    <tr>\n",
       "      <th>0</th>\n",
       "      <td>EI</td>\n",
       "      <td>0.99999</td>\n",
       "      <td>0.0</td>\n",
       "      <td>0.0</td>\n",
       "      <td>0.000007</td>\n",
       "      <td>0.689275</td>\n",
       "      <td>1.798862e-08</td>\n",
       "      <td>0.3165</td>\n",
       "      <td>0.049510</td>\n",
       "      <td>[0.009, 0.014, 0.0, -0.012]</td>\n",
       "      <td>[0.009, 0.014, 0.0, -0.012]</td>\n",
       "    </tr>\n",
       "    <tr>\n",
       "      <th>2</th>\n",
       "      <td>REI</td>\n",
       "      <td>0.99999</td>\n",
       "      <td>1.5</td>\n",
       "      <td>0.0</td>\n",
       "      <td>0.000007</td>\n",
       "      <td>0.689275</td>\n",
       "      <td>1.798874e-08</td>\n",
       "      <td>0.3165</td>\n",
       "      <td>0.049510</td>\n",
       "      <td>[0.009, 0.014, 0.0, -0.012]</td>\n",
       "      <td>[0.009, 0.014, 0.0, -0.012]</td>\n",
       "    </tr>\n",
       "    <tr>\n",
       "      <th>1</th>\n",
       "      <td>EI</td>\n",
       "      <td>0.99999</td>\n",
       "      <td>0.0</td>\n",
       "      <td>1.5</td>\n",
       "      <td>0.000190</td>\n",
       "      <td>0.689275</td>\n",
       "      <td>1.831027e-04</td>\n",
       "      <td>0.3165</td>\n",
       "      <td>0.231227</td>\n",
       "      <td>[0.009, 0.014, 0.0, -0.012]</td>\n",
       "      <td>[0.212, 0.216, 0.203, -0.173]</td>\n",
       "    </tr>\n",
       "    <tr>\n",
       "      <th>3</th>\n",
       "      <td>REI</td>\n",
       "      <td>0.99999</td>\n",
       "      <td>1.5</td>\n",
       "      <td>1.5</td>\n",
       "      <td>0.000190</td>\n",
       "      <td>0.689275</td>\n",
       "      <td>1.831027e-04</td>\n",
       "      <td>0.3165</td>\n",
       "      <td>0.231227</td>\n",
       "      <td>[0.009, 0.014, 0.0, -0.012]</td>\n",
       "      <td>[0.212, 0.216, 0.203, -0.173]</td>\n",
       "    </tr>\n",
       "  </tbody>\n",
       "</table>\n",
       "</div>"
      ],
      "text/plain": [
       "  method   lambda  train_alpha  alpha      loss  pred_loss     fair_loss  \\\n",
       "0     EI  0.99999          0.0    0.0  0.000007   0.689275  1.798862e-08   \n",
       "2    REI  0.99999          1.5    0.0  0.000007   0.689275  1.798874e-08   \n",
       "1     EI  0.99999          0.0    1.5  0.000190   0.689275  1.831027e-04   \n",
       "3    REI  0.99999          1.5    1.5  0.000190   0.689275  1.831027e-04   \n",
       "\n",
       "    error  ei_disparity               ei_model.theta  \\\n",
       "0  0.3165      0.049510  [0.009, 0.014, 0.0, -0.012]   \n",
       "2  0.3165      0.049510  [0.009, 0.014, 0.0, -0.012]   \n",
       "1  0.3165      0.231227  [0.009, 0.014, 0.0, -0.012]   \n",
       "3  0.3165      0.231227  [0.009, 0.014, 0.0, -0.012]   \n",
       "\n",
       "              ei_model.theta_adv  \n",
       "0    [0.009, 0.014, 0.0, -0.012]  \n",
       "2    [0.009, 0.014, 0.0, -0.012]  \n",
       "1  [0.212, 0.216, 0.203, -0.173]  \n",
       "3  [0.212, 0.216, 0.203, -0.173]  "
      ]
     },
     "execution_count": 8,
     "metadata": {},
     "output_type": "execute_result"
    }
   ],
   "source": [
    "print('Synthetic Dataset')\n",
    "df[(df['alpha']>=0) & ((df['train_alpha']==0) | (df['train_alpha']==1.5))][['method', 'lambda', 'train_alpha', 'alpha', 'loss', 'pred_loss', 'fair_loss', 'error', 'ei_disparity', 'ei_model.theta', 'ei_model.theta_adv']].sort_values(['lambda', 'alpha', 'method'])"
   ]
  },
  {
   "cell_type": "code",
   "execution_count": null,
   "metadata": {},
   "outputs": [],
   "source": [
    "x_val = 'ei_disparity'\n",
    "df_avg = df.groupby(['method', 'alpha', 'lambda'], as_index=False).mean(True).sort_values(['method', 'lambda', 'alpha'])\n",
    "px.line(df_avg, y='error', x=x_val, markers=True, color='method', facet_col='alpha', hover_data=['lambda', 'seed', 'train_alpha'], title=f'{dataset.name}', height=700)"
   ]
  },
  {
   "cell_type": "code",
   "execution_count": null,
   "metadata": {},
   "outputs": [],
   "source": [
    "temp_pareto = df.copy()\n",
    "df_pareto = pd.DataFrame()\n",
    "\n",
    "for method in temp_pareto['method'].unique():\n",
    "    for alpha in temp_pareto['alpha'].unique():            \n",
    "        temp = temp_pareto.loc[(temp_pareto['method']==method) & (temp_pareto['alpha']==alpha)]\n",
    "        mask = pareto_frontier(temp['error'], temp[x_val])\n",
    "        df_pareto = pd.concat((df_pareto, temp.iloc[mask]))\n",
    "df_pareto = df_pareto.sort_values(['alpha', 'error'], ascending=True)\n",
    "\n",
    "px.line(df_pareto, y='error', x=x_val, markers=True, color='method', facet_col='alpha', hover_data=['lambda', 'seed', 'train_alpha'], title=f'{dataset.name}', height=700)"
   ]
  },
  {
   "cell_type": "code",
   "execution_count": null,
   "metadata": {},
   "outputs": [],
   "source": [
    "px.scatter(df_avg, x='lambda', y='fair_loss', facet_col='alpha', color='method').show()\n",
    "px.scatter(df_avg, x='lambda', y='pred_loss', facet_col='alpha', color='method').show()\n",
    "px.scatter(df_avg, x='lambda', y='loss', facet_col='alpha', color='method').show()\n",
    "px.scatter(df_avg, x='lambda', y='error', facet_col='alpha', color='method').show()"
   ]
  },
  {
   "cell_type": "code",
   "execution_count": null,
   "metadata": {},
   "outputs": [],
   "source": [
    "s = 0\n",
    "lamb = 0.999\n",
    "alpha = 1.5\n",
    "temp = df[(df['seed']==s) & (df['lambda']==lamb) & (df['alpha']==alpha)]\n",
    "px.line(vars(temp.iloc[0]['ei_model'].train_history), y='pred_loss', markers=True, title=f'EI | lambda = {lamb} | alpha = {alpha}').show()\n",
    "px.line(vars(temp.iloc[1]['ei_model'].train_history), y='pred_loss', markers=True, title=f'REI | lambda = {lamb} | alpha = {alpha}').show()"
   ]
  },
  {
   "cell_type": "code",
   "execution_count": null,
   "metadata": {},
   "outputs": [],
   "source": [
    "# df.to_pickle('tradeoff_synthetic_cov_5cv_500epochs.pkl')"
   ]
  },
  {
   "cell_type": "code",
   "execution_count": null,
   "metadata": {},
   "outputs": [],
   "source": [
    "fig = px.scatter(x=dataset.X['x1'], y=dataset.X['x2'], color=dataset.Y, facet_col=dataset.Z)"
   ]
  },
  {
   "cell_type": "markdown",
   "metadata": {},
   "source": [
    "generate data with 2 groups that have equal # of negatives that are equidistant from theta."
   ]
  }
 ],
 "metadata": {
  "kernelspec": {
   "display_name": ".env",
   "language": "python",
   "name": "python3"
  },
  "language_info": {
   "codemirror_mode": {
    "name": "ipython",
    "version": 3
   },
   "file_extension": ".py",
   "mimetype": "text/x-python",
   "name": "python",
   "nbconvert_exporter": "python",
   "pygments_lexer": "ipython3",
   "version": "3.12.4"
  }
 },
 "nbformat": 4,
 "nbformat_minor": 2
}
