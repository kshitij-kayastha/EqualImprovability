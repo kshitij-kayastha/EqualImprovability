{
 "cells": [
  {
   "cell_type": "code",
   "execution_count": 1,
   "metadata": {},
   "outputs": [],
   "source": [
    "import torch\n",
    "import pickle\n",
    "import numpy as np\n",
    "import pandas as pd\n",
    "import plotly.express as px\n",
    "from copy import deepcopy\n",
    "\n",
    "\n",
    "from model import LR\n",
    "from data import SyntheticDataset, FairnessDataset\n",
    "from ei_model_dev import FairBatch, Covariance\n",
    "from ei_effort import Optimal_Effort, PGD_Effort\n",
    "from ei_utils import *"
   ]
  },
  {
   "cell_type": "code",
   "execution_count": 4,
   "metadata": {},
   "outputs": [
    {
     "data": {
      "text/plain": [
       "{0, 1}"
      ]
     },
     "execution_count": 4,
     "metadata": {},
     "output_type": "execute_result"
    }
   ],
   "source": [
    "set(torch.tensor([0,0,1,0]).numpy())"
   ]
  },
  {
   "cell_type": "code",
   "execution_count": 3,
   "metadata": {},
   "outputs": [],
   "source": [
    "dataset = SyntheticDataset(seed=0)"
   ]
  },
  {
   "cell_type": "code",
   "execution_count": 4,
   "metadata": {},
   "outputs": [],
   "source": [
    "def append_res(d, acc, ei):\n",
    "    d['accuracy'].append(acc)\n",
    "    d['loss'].append(1-acc)\n",
    "    d['ei_disparity'].append(ei)\n",
    "        \n",
    "def get_res(d, hp):\n",
    "    res = {'alpha': [], 'lambda': [], 'delta': [], 'accuracy_mean': [], 'accuracy_std': [], 'loss_mean': [], 'loss_std': [], 'ei_disparity_mean': [], 'ei_disparity_std': []}\n",
    "    res['alpha'].append(hp['alpha'])\n",
    "    res['lambda'].append(hp['lambda'])\n",
    "    res['delta'].append(hp['delta'])\n",
    "    res['accuracy_mean'].append(np.mean(d['accuracy']))\n",
    "    res['accuracy_std'].append(np.std(d['accuracy']))\n",
    "    res['loss_mean'].append(np.mean(d['loss']))\n",
    "    res['loss_std'].append(np.std(d['loss']))\n",
    "    res['ei_disparity_mean'].append(np.mean(d['ei_disparity']))\n",
    "    res['ei_disparity_std'].append(np.std(d['ei_disparity']))\n",
    "    \n",
    "    return res"
   ]
  },
  {
   "cell_type": "code",
   "execution_count": 5,
   "metadata": {},
   "outputs": [],
   "source": [
    "def model_runner(ei_model, dataset, hp, seeds):\n",
    "    tau = 0.5\n",
    "    pga_iter = hp['pga_iter']\n",
    "    metrics = {'accuracy': [], 'loss': [], 'ei_disparity': []}\n",
    "    \n",
    "    if hp['optimal_effort']:\n",
    "        effort = Optimal_Effort(hp['delta'])\n",
    "    else:\n",
    "        effort = PGD_Effort(hp['delta'])\n",
    "    \n",
    "    for seed in seeds:\n",
    "        train_tensors, val_tensors, test_tensors = dataset.tensor(fold=seed, z_blind=hp['z_blind'])\n",
    "        train_dataset = FairnessDataset(*train_tensors, dataset.imp_feats)\n",
    "        val_dataset = FairnessDataset(*val_tensors, dataset.imp_feats)\n",
    "        test_dataset = FairnessDataset(*test_tensors, dataset.imp_feats)\n",
    "        \n",
    "        model = LR(num_features=train_dataset.X.shape[1])\n",
    "        ei_m = ei_model(model, effort, pga_iter, tau)\n",
    "        \n",
    "        ei_m.train(\n",
    "            train_dataset, \n",
    "            lamb=hp['lambda'],\n",
    "            lr=hp['learning_rate'],\n",
    "            alpha=0.\n",
    "            )\n",
    "        \n",
    "        Y_hat, Y_hat_max = ei_m.predict(test_dataset, hp['alpha'])\n",
    "        test_acc, test_ei = model_performance(test_dataset.Y.detach().numpy(), test_dataset.Z.detach().numpy(), Y_hat, Y_hat_max, tau)\n",
    "        append_res(metrics, test_acc, test_ei)\n",
    "    \n",
    "    results = get_res(metrics, hp)\n",
    "    \n",
    "    return results"
   ]
  },
  {
   "cell_type": "code",
   "execution_count": 6,
   "metadata": {},
   "outputs": [],
   "source": [
    "def run_tradeoff(ei_model, dataset, hyper_params, seeds):\n",
    "    hp = hyper_params.copy()\n",
    "    results = pd.DataFrame()\n",
    "    \n",
    "    for alpha in hyper_params['alpha']:\n",
    "        for lamb in hyper_params['lambda']:\n",
    "            for delta in hyper_params['delta']:\n",
    "                hp['alpha'] = alpha\n",
    "                hp['lambda'] = lamb\n",
    "                hp['delta'] = delta\n",
    "                \n",
    "                result = model_runner(ei_model, dataset, hp, seeds)\n",
    "                results = pd.concat((results, pd.DataFrame(result)))\n",
    "                print()\n",
    "    \n",
    "    return results"
   ]
  },
  {
   "cell_type": "code",
   "execution_count": 7,
   "metadata": {},
   "outputs": [
    {
     "name": "stderr",
     "output_type": "stream",
     "text": [
      "Training [alpha=0.0000; lambda=0.0000; delta=0.5000]: 100%|\u001b[38;2;0;145;255m██████████\u001b[0m| 100/100 [00:05<00:00, 17.05epochs/s]\n",
      "Training [alpha=0.0000; lambda=0.0000; delta=0.5000]: 100%|\u001b[38;2;0;145;255m██████████\u001b[0m| 100/100 [00:05<00:00, 17.67epochs/s]\n",
      "Training [alpha=0.0000; lambda=0.0000; delta=0.5000]: 100%|\u001b[38;2;0;145;255m██████████\u001b[0m| 100/100 [00:05<00:00, 17.65epochs/s]\n",
      "Training [alpha=0.0000; lambda=0.0000; delta=0.5000]: 100%|\u001b[38;2;0;145;255m██████████\u001b[0m| 100/100 [00:05<00:00, 18.06epochs/s]\n",
      "Training [alpha=0.0000; lambda=0.0000; delta=0.5000]: 100%|\u001b[38;2;0;145;255m██████████\u001b[0m| 100/100 [00:05<00:00, 18.08epochs/s]\n"
     ]
    },
    {
     "name": "stdout",
     "output_type": "stream",
     "text": [
      "\n"
     ]
    },
    {
     "name": "stderr",
     "output_type": "stream",
     "text": [
      "Training [alpha=0.0000; lambda=0.0000; delta=0.5000]: 100%|\u001b[38;2;0;145;255m██████████\u001b[0m| 100/100 [00:05<00:00, 17.02epochs/s]\n",
      "Training [alpha=0.0000; lambda=0.0000; delta=0.5000]: 100%|\u001b[38;2;0;145;255m██████████\u001b[0m| 100/100 [00:05<00:00, 17.24epochs/s]\n",
      "Training [alpha=0.0000; lambda=0.0000; delta=0.5000]: 100%|\u001b[38;2;0;145;255m██████████\u001b[0m| 100/100 [00:05<00:00, 17.31epochs/s]\n",
      "Training [alpha=0.0000; lambda=0.0000; delta=0.5000]: 100%|\u001b[38;2;0;145;255m██████████\u001b[0m| 100/100 [00:05<00:00, 17.44epochs/s]\n",
      "Training [alpha=0.0000; lambda=0.0000; delta=0.5000]: 100%|\u001b[38;2;0;145;255m██████████\u001b[0m| 100/100 [00:05<00:00, 17.93epochs/s]\n"
     ]
    },
    {
     "name": "stdout",
     "output_type": "stream",
     "text": [
      "\n"
     ]
    },
    {
     "name": "stderr",
     "output_type": "stream",
     "text": [
      "Training [alpha=0.0000; lambda=0.0000; delta=0.5000]: 100%|\u001b[38;2;0;145;255m██████████\u001b[0m| 100/100 [00:05<00:00, 17.84epochs/s]\n",
      "Training [alpha=0.0000; lambda=0.0000; delta=0.5000]: 100%|\u001b[38;2;0;145;255m██████████\u001b[0m| 100/100 [00:05<00:00, 17.41epochs/s]\n",
      "Training [alpha=0.0000; lambda=0.0000; delta=0.5000]: 100%|\u001b[38;2;0;145;255m██████████\u001b[0m| 100/100 [00:05<00:00, 17.80epochs/s]\n",
      "Training [alpha=0.0000; lambda=0.0000; delta=0.5000]: 100%|\u001b[38;2;0;145;255m██████████\u001b[0m| 100/100 [00:05<00:00, 17.97epochs/s]\n",
      "Training [alpha=0.0000; lambda=0.0000; delta=0.5000]: 100%|\u001b[38;2;0;145;255m██████████\u001b[0m| 100/100 [00:05<00:00, 17.99epochs/s]"
     ]
    },
    {
     "name": "stdout",
     "output_type": "stream",
     "text": [
      "\n"
     ]
    },
    {
     "name": "stderr",
     "output_type": "stream",
     "text": [
      "\n"
     ]
    }
   ],
   "source": [
    "# Hyperparameters\n",
    "hyper_params = {}\n",
    "hyper_params['delta'] = [0.5]\n",
    "hyper_params['alpha'] = [0., 0.1, 1.5]\n",
    "hyper_params['learning_rate'] = 0.01\n",
    "hyper_params['pga_iter'] = 2\n",
    "hyper_params['z_blind'] = False\n",
    "hyper_params['optimal_effort'] = True # True only for Synthetic Data\n",
    "\n",
    "# 5-Fold Cross Validation\n",
    "seeds = list(range(5))\n",
    "\n",
    "# EI Proxy (set ei_proxy to FairBatch or Covariance)\n",
    "ei_proxy = 'Covariance'\n",
    "\n",
    "if ei_proxy == 'FairBatch':\n",
    "    ei_model = FairBatch\n",
    "    hyper_params['lambda'] = np.linspace(0., 0.25, 10) # FairBatch lambdas\n",
    "    # hyper_params['lambda'] = [0.88] # lambda value that minimizes ei for FairBatch\n",
    "elif ei_proxy == 'Covariance':\n",
    "    ei_model = Covariance\n",
    "    # hyper_params['lambda'] = 1-np.geomspace(0.001,0.999, 20) # Covariance lambdas\n",
    "    hyper_params['lambda'] = [0.] # lambda value that minimizes ei for Covariance\n",
    "\n",
    "# Run tradeoffs\n",
    "results = run_tradeoff(ei_model, dataset, hyper_params, seeds)\n",
    "results['alpha'] = results['alpha'].astype(str)"
   ]
  },
  {
   "cell_type": "code",
   "execution_count": 8,
   "metadata": {},
   "outputs": [
    {
     "data": {
      "text/html": [
       "<div>\n",
       "<style scoped>\n",
       "    .dataframe tbody tr th:only-of-type {\n",
       "        vertical-align: middle;\n",
       "    }\n",
       "\n",
       "    .dataframe tbody tr th {\n",
       "        vertical-align: top;\n",
       "    }\n",
       "\n",
       "    .dataframe thead th {\n",
       "        text-align: right;\n",
       "    }\n",
       "</style>\n",
       "<table border=\"1\" class=\"dataframe\">\n",
       "  <thead>\n",
       "    <tr style=\"text-align: right;\">\n",
       "      <th></th>\n",
       "      <th>alpha</th>\n",
       "      <th>lambda</th>\n",
       "      <th>delta</th>\n",
       "      <th>loss_mean</th>\n",
       "      <th>loss_std</th>\n",
       "      <th>ei_disparity_mean</th>\n",
       "      <th>ei_disparity_std</th>\n",
       "    </tr>\n",
       "  </thead>\n",
       "  <tbody>\n",
       "    <tr>\n",
       "      <th>0</th>\n",
       "      <td>0.0</td>\n",
       "      <td>0.0</td>\n",
       "      <td>0.5</td>\n",
       "      <td>0.21320</td>\n",
       "      <td>0.002581</td>\n",
       "      <td>0.131804</td>\n",
       "      <td>0.012986</td>\n",
       "    </tr>\n",
       "    <tr>\n",
       "      <th>0</th>\n",
       "      <td>0.1</td>\n",
       "      <td>0.0</td>\n",
       "      <td>0.5</td>\n",
       "      <td>0.21345</td>\n",
       "      <td>0.002477</td>\n",
       "      <td>0.134903</td>\n",
       "      <td>0.013098</td>\n",
       "    </tr>\n",
       "    <tr>\n",
       "      <th>0</th>\n",
       "      <td>1.5</td>\n",
       "      <td>0.0</td>\n",
       "      <td>0.5</td>\n",
       "      <td>0.21325</td>\n",
       "      <td>0.002603</td>\n",
       "      <td>0.135201</td>\n",
       "      <td>0.013667</td>\n",
       "    </tr>\n",
       "  </tbody>\n",
       "</table>\n",
       "</div>"
      ],
      "text/plain": [
       "  alpha  lambda  delta  loss_mean  loss_std  ei_disparity_mean  \\\n",
       "0   0.0     0.0    0.5    0.21320  0.002581           0.131804   \n",
       "0   0.1     0.0    0.5    0.21345  0.002477           0.134903   \n",
       "0   1.5     0.0    0.5    0.21325  0.002603           0.135201   \n",
       "\n",
       "   ei_disparity_std  \n",
       "0          0.012986  \n",
       "0          0.013098  \n",
       "0          0.013667  "
      ]
     },
     "execution_count": 8,
     "metadata": {},
     "output_type": "execute_result"
    }
   ],
   "source": [
    "results[['alpha', 'lambda', 'delta', 'loss_mean', 'loss_std', 'ei_disparity_mean', 'ei_disparity_std']]"
   ]
  },
  {
   "cell_type": "code",
   "execution_count": null,
   "metadata": {},
   "outputs": [],
   "source": [
    "# Uncomment this to save the results\n",
    "results.to_pickle(f'nonrobust_ei_optimal_lambda_tradeoff_{ei_proxy.lower()}_synthetic_5crossval.pkl')"
   ]
  },
  {
   "cell_type": "code",
   "execution_count": null,
   "metadata": {},
   "outputs": [],
   "source": [
    "# Compute the pareto frontier\n",
    "results_pareto = pd.DataFrame()\n",
    "for alpha in results['alpha'].unique():\n",
    "    test_results_alpha = results[results['alpha'] == alpha]\n",
    "    mask = pareto_frontier(test_results_alpha['loss_mean'], test_results_alpha['ei_disparity_mean'])\n",
    "    results_alpha_pareto = test_results_alpha.iloc[mask]\n",
    "    results_pareto = pd.concat((results_pareto, results_alpha_pareto.sort_values('ei_disparity_mean')))"
   ]
  },
  {
   "cell_type": "code",
   "execution_count": null,
   "metadata": {},
   "outputs": [],
   "source": [
    "fig = px.line(results, x='ei_disparity_mean', y='loss_mean', color='alpha', hover_data='lambda', markers=True)\n",
    "fig.add_annotation(dict(font=dict(color='black',size=10),\n",
    "                                        x=0.9,\n",
    "                                        y=0.99,\n",
    "                                        showarrow=False,\n",
    "                                        text='dataset=synthetic',\n",
    "                                        textangle=0,\n",
    "                                        xanchor='left',\n",
    "                                        xref=\"paper\",\n",
    "                                        yref=\"paper\"))\n",
    "fig.update_layout(title=dict(text='Fairness vs Loss Tradeoff', x=0.5))\n",
    "fig.update_traces(marker=dict(size=3))\n",
    "fig.show()"
   ]
  }
 ],
 "metadata": {
  "kernelspec": {
   "display_name": ".env",
   "language": "python",
   "name": "python3"
  },
  "language_info": {
   "codemirror_mode": {
    "name": "ipython",
    "version": 3
   },
   "file_extension": ".py",
   "mimetype": "text/x-python",
   "name": "python",
   "nbconvert_exporter": "python",
   "pygments_lexer": "ipython3",
   "version": "3.11.9"
  }
 },
 "nbformat": 4,
 "nbformat_minor": 2
}
