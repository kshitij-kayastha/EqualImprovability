{
 "cells": [
  {
   "cell_type": "code",
   "execution_count": 1,
   "metadata": {},
   "outputs": [],
   "source": [
    "import torch\n",
    "import numpy as np\n",
    "import pandas as pd\n",
    "import plotly.express as px\n",
    "from copy import deepcopy\n",
    "\n",
    "\n",
    "from model import LR\n",
    "from data import SyntheticDataset, FairnessDataset\n",
    "from ei_model_dev import FairBatch\n",
    "from ei_effort import Optimal_Effort, PGD_Effort\n",
    "from ei_utils import *"
   ]
  },
  {
   "cell_type": "code",
   "execution_count": 2,
   "metadata": {},
   "outputs": [],
   "source": [
    "dataset = SyntheticDataset(seed=0)"
   ]
  },
  {
   "cell_type": "code",
   "execution_count": 3,
   "metadata": {},
   "outputs": [],
   "source": [
    "def append_res(d, acc, ei):\n",
    "    d['accuracy'].append(acc)\n",
    "    d['ei_disparity'].append(ei)\n",
    "        \n",
    "def get_res(d, id, hp):\n",
    "    res = {'id': [], 'alpha': [], 'lambda': [], 'delta': [], 'accuracy_mean': [], 'accuracy_std': [], 'ei_disparity_mean': [], 'ei_disparity_std': []}\n",
    "    res['id'].append(id)\n",
    "    res['alpha'].append(hp['alpha'])\n",
    "    res['lambda'].append(hp['lambda'])\n",
    "    res['delta'].append(hp['delta'])\n",
    "    res['accuracy_mean'].append(np.mean(d['accuracy']))\n",
    "    res['accuracy_std'].append(np.std(d['accuracy']))\n",
    "    res['ei_disparity_mean'].append(np.mean(d['ei_disparity']))\n",
    "    res['ei_disparity_std'].append(np.std(d['ei_disparity']))\n",
    "    \n",
    "    return res\n",
    "\n",
    "def get_model(models):\n",
    "    weights = []\n",
    "    bias = []\n",
    "    for model in models:\n",
    "        for module in model.layers:\n",
    "            if hasattr(module, 'weight'):\n",
    "                weights.append(module.weight.data)\n",
    "            if hasattr(module, 'bias'):\n",
    "                bias.append(module.bias.data)\n",
    "            \n",
    "    weights = torch.cat(weights).mean(dim=0)\n",
    "    bias = torch.cat(bias).mean(dim=0)\n",
    "    return weights, bias"
   ]
  },
  {
   "cell_type": "code",
   "execution_count": 4,
   "metadata": {},
   "outputs": [],
   "source": [
    "def lr_fb_model_runner(dataset, hp, seeds):\n",
    "    tau = 0.5\n",
    "    train_metrics = {'alpha': [], 'accuracy': [], 'ei_disparity': []}\n",
    "    val_metrics = deepcopy(train_metrics)\n",
    "    test_metrics = deepcopy(train_metrics)\n",
    "    ei_models = []\n",
    "    \n",
    "    if hp['optimal_effort']:\n",
    "        effort = Optimal_Effort(hp['delta'])\n",
    "    else:\n",
    "        effort = PGD_Effort(hp['delta'])\n",
    "    \n",
    "    for seed in seeds:\n",
    "        train_tensors, val_tensors, test_tensors = dataset.tensor(fold=seed, z_blind=hp['z_blind'])\n",
    "        train_dataset = FairnessDataset(*train_tensors, dataset.imp_feats)\n",
    "        val_dataset = FairnessDataset(*val_tensors, dataset.imp_feats)\n",
    "        test_dataset = FairnessDataset(*test_tensors, dataset.imp_feats)\n",
    "        \n",
    "        model = LR(num_features=train_dataset.X.shape[1])\n",
    "        ei_model = FairBatch(model, effort, tau)\n",
    "        \n",
    "        ei_model.train(\n",
    "            train_dataset, \n",
    "            sensitive_attrs=dataset.sensitive_attrs,\n",
    "            lamb=hp['lambda'],\n",
    "            lr=hp['learning_rate'],\n",
    "            alpha=hp['alpha']\n",
    "            )\n",
    "\n",
    "        \n",
    "        Y_hat, Y_hat_max = ei_model.predict(train_dataset, hp['alpha'], dataset.sensitive_attrs)\n",
    "        train_acc, train_ei = model_performance(train_dataset.Y.detach().numpy(), train_dataset.Z.detach().numpy(), Y_hat, Y_hat_max, tau)\n",
    "        append_res(train_metrics, train_acc, train_ei)\n",
    "        \n",
    "        Y_hat, Y_hat_max = ei_model.predict(val_dataset, hp['alpha'], dataset.sensitive_attrs)\n",
    "        val_acc, val_ei = model_performance(val_dataset.Y.detach().numpy(), val_dataset.Z.detach().numpy(), Y_hat, Y_hat_max, tau)\n",
    "        append_res(val_metrics, val_acc, val_ei)\n",
    "        \n",
    "        Y_hat, Y_hat_max = ei_model.predict(test_dataset, hp['alpha'], dataset.sensitive_attrs)\n",
    "        test_acc, test_ei = model_performance(test_dataset.Y.detach().numpy(), test_dataset.Z.detach().numpy(), Y_hat, Y_hat_max, tau)\n",
    "        append_res(test_metrics, test_acc, test_ei)\n",
    "    \n",
    "        ei_models.append(ei_model.model)\n",
    "    \n",
    "    res_train = get_res(train_metrics, 'train', hp)\n",
    "    res_val = get_res(val_metrics, 'val', hp)\n",
    "    res_test = get_res(test_metrics, 'test', hp)\n",
    "    \n",
    "    \n",
    "    return res_train, res_val, res_test, ei_models\n",
    "    # return res_test, ei_models"
   ]
  },
  {
   "cell_type": "code",
   "execution_count": 5,
   "metadata": {},
   "outputs": [],
   "source": [
    "def fb_tradeoff(dataset, hyper_params, seeds):\n",
    "    hp = hyper_params.copy()\n",
    "    result = pd.DataFrame()\n",
    "    ei_models = []\n",
    "    \n",
    "    for alpha in hyper_params['alpha']:\n",
    "        for lamb in hyper_params['lambda']:\n",
    "            for delta in hyper_params['delta']:\n",
    "                hp['alpha'] = alpha\n",
    "                hp['lambda'] = lamb\n",
    "                hp['delta'] = delta\n",
    "                \n",
    "                train, val, test, models = lr_fb_model_runner(dataset, hp, seeds)\n",
    "                result = pd.concat((result, pd.DataFrame(train), pd.DataFrame(val), pd.DataFrame(test)))\n",
    "                # test, models = lr_fb_model_runner(dataset, hp, seeds)\n",
    "                # result = pd.concat((result, pd.DataFrame(test)))\n",
    "                ei_models.extend(models)\n",
    "                print()\n",
    "    \n",
    "    return result, ei_models"
   ]
  },
  {
   "cell_type": "code",
   "execution_count": 6,
   "metadata": {},
   "outputs": [
    {
     "name": "stderr",
     "output_type": "stream",
     "text": [
      "Training [alpha=0.00; lambda=0.00]: 100%|\u001b[38;2;0;145;255m██████████\u001b[0m| 100/100 [00:13<00:00,  7.36epochs/s]\n",
      "Training [alpha=0.00; lambda=0.00]: 100%|\u001b[38;2;0;145;255m██████████\u001b[0m| 100/100 [00:13<00:00,  7.46epochs/s]\n",
      "Training [alpha=0.00; lambda=0.00]: 100%|\u001b[38;2;0;145;255m██████████\u001b[0m| 100/100 [00:13<00:00,  7.44epochs/s]\n",
      "Training [alpha=0.00; lambda=0.00]: 100%|\u001b[38;2;0;145;255m██████████\u001b[0m| 100/100 [00:13<00:00,  7.43epochs/s]\n",
      "Training [alpha=0.00; lambda=0.00]: 100%|\u001b[38;2;0;145;255m██████████\u001b[0m| 100/100 [00:13<00:00,  7.61epochs/s]\n"
     ]
    },
    {
     "name": "stdout",
     "output_type": "stream",
     "text": [
      "\n"
     ]
    },
    {
     "name": "stderr",
     "output_type": "stream",
     "text": [
      "Training [alpha=0.00; lambda=0.03]: 100%|\u001b[38;2;0;145;255m██████████\u001b[0m| 100/100 [00:13<00:00,  7.61epochs/s]\n",
      "Training [alpha=0.00; lambda=0.03]: 100%|\u001b[38;2;0;145;255m██████████\u001b[0m| 100/100 [00:13<00:00,  7.42epochs/s]\n",
      "Training [alpha=0.00; lambda=0.03]: 100%|\u001b[38;2;0;145;255m██████████\u001b[0m| 100/100 [00:13<00:00,  7.66epochs/s]\n",
      "Training [alpha=0.00; lambda=0.03]: 100%|\u001b[38;2;0;145;255m██████████\u001b[0m| 100/100 [00:13<00:00,  7.21epochs/s]\n",
      "Training [alpha=0.00; lambda=0.03]: 100%|\u001b[38;2;0;145;255m██████████\u001b[0m| 100/100 [00:13<00:00,  7.28epochs/s]\n"
     ]
    },
    {
     "name": "stdout",
     "output_type": "stream",
     "text": [
      "\n"
     ]
    },
    {
     "name": "stderr",
     "output_type": "stream",
     "text": [
      "Training [alpha=0.00; lambda=0.06]: 100%|\u001b[38;2;0;145;255m██████████\u001b[0m| 100/100 [00:13<00:00,  7.52epochs/s]\n",
      "Training [alpha=0.00; lambda=0.06]: 100%|\u001b[38;2;0;145;255m██████████\u001b[0m| 100/100 [00:13<00:00,  7.53epochs/s]\n",
      "Training [alpha=0.00; lambda=0.06]: 100%|\u001b[38;2;0;145;255m██████████\u001b[0m| 100/100 [00:13<00:00,  7.28epochs/s]\n",
      "Training [alpha=0.00; lambda=0.06]: 100%|\u001b[38;2;0;145;255m██████████\u001b[0m| 100/100 [00:13<00:00,  7.59epochs/s]\n",
      "Training [alpha=0.00; lambda=0.06]: 100%|\u001b[38;2;0;145;255m██████████\u001b[0m| 100/100 [00:13<00:00,  7.58epochs/s]\n"
     ]
    },
    {
     "name": "stdout",
     "output_type": "stream",
     "text": [
      "\n"
     ]
    },
    {
     "name": "stderr",
     "output_type": "stream",
     "text": [
      "Training [alpha=0.00; lambda=0.08]: 100%|\u001b[38;2;0;145;255m██████████\u001b[0m| 100/100 [00:13<00:00,  7.35epochs/s]\n",
      "Training [alpha=0.00; lambda=0.08]: 100%|\u001b[38;2;0;145;255m██████████\u001b[0m| 100/100 [00:13<00:00,  7.58epochs/s]\n",
      "Training [alpha=0.00; lambda=0.08]: 100%|\u001b[38;2;0;145;255m██████████\u001b[0m| 100/100 [00:13<00:00,  7.51epochs/s]\n",
      "Training [alpha=0.00; lambda=0.08]: 100%|\u001b[38;2;0;145;255m██████████\u001b[0m| 100/100 [00:13<00:00,  7.24epochs/s]\n",
      "Training [alpha=0.00; lambda=0.08]: 100%|\u001b[38;2;0;145;255m██████████\u001b[0m| 100/100 [00:13<00:00,  7.64epochs/s]\n"
     ]
    },
    {
     "name": "stdout",
     "output_type": "stream",
     "text": [
      "\n"
     ]
    },
    {
     "name": "stderr",
     "output_type": "stream",
     "text": [
      "Training [alpha=0.00; lambda=0.11]: 100%|\u001b[38;2;0;145;255m██████████\u001b[0m| 100/100 [00:13<00:00,  7.47epochs/s]\n",
      "Training [alpha=0.00; lambda=0.11]: 100%|\u001b[38;2;0;145;255m██████████\u001b[0m| 100/100 [00:13<00:00,  7.51epochs/s]\n",
      "Training [alpha=0.00; lambda=0.11]: 100%|\u001b[38;2;0;145;255m██████████\u001b[0m| 100/100 [00:13<00:00,  7.53epochs/s]\n",
      "Training [alpha=0.00; lambda=0.11]: 100%|\u001b[38;2;0;145;255m██████████\u001b[0m| 100/100 [00:13<00:00,  7.50epochs/s]\n",
      "Training [alpha=0.00; lambda=0.11]: 100%|\u001b[38;2;0;145;255m██████████\u001b[0m| 100/100 [00:13<00:00,  7.53epochs/s]\n"
     ]
    },
    {
     "name": "stdout",
     "output_type": "stream",
     "text": [
      "\n"
     ]
    },
    {
     "name": "stderr",
     "output_type": "stream",
     "text": [
      "Training [alpha=0.00; lambda=0.14]: 100%|\u001b[38;2;0;145;255m██████████\u001b[0m| 100/100 [00:13<00:00,  7.45epochs/s]\n",
      "Training [alpha=0.00; lambda=0.14]: 100%|\u001b[38;2;0;145;255m██████████\u001b[0m| 100/100 [00:13<00:00,  7.58epochs/s]\n",
      "Training [alpha=0.00; lambda=0.14]: 100%|\u001b[38;2;0;145;255m██████████\u001b[0m| 100/100 [00:13<00:00,  7.36epochs/s]\n",
      "Training [alpha=0.00; lambda=0.14]: 100%|\u001b[38;2;0;145;255m██████████\u001b[0m| 100/100 [00:13<00:00,  7.44epochs/s]\n",
      "Training [alpha=0.00; lambda=0.14]: 100%|\u001b[38;2;0;145;255m██████████\u001b[0m| 100/100 [00:13<00:00,  7.49epochs/s]\n"
     ]
    },
    {
     "name": "stdout",
     "output_type": "stream",
     "text": [
      "\n"
     ]
    },
    {
     "name": "stderr",
     "output_type": "stream",
     "text": [
      "Training [alpha=0.00; lambda=0.17]: 100%|\u001b[38;2;0;145;255m██████████\u001b[0m| 100/100 [00:13<00:00,  7.41epochs/s]\n",
      "Training [alpha=0.00; lambda=0.17]: 100%|\u001b[38;2;0;145;255m██████████\u001b[0m| 100/100 [00:13<00:00,  7.55epochs/s]\n",
      "Training [alpha=0.00; lambda=0.17]: 100%|\u001b[38;2;0;145;255m██████████\u001b[0m| 100/100 [00:13<00:00,  7.40epochs/s]\n",
      "Training [alpha=0.00; lambda=0.17]: 100%|\u001b[38;2;0;145;255m██████████\u001b[0m| 100/100 [00:13<00:00,  7.43epochs/s]\n",
      "Training [alpha=0.00; lambda=0.17]: 100%|\u001b[38;2;0;145;255m██████████\u001b[0m| 100/100 [00:13<00:00,  7.57epochs/s]\n"
     ]
    },
    {
     "name": "stdout",
     "output_type": "stream",
     "text": [
      "\n"
     ]
    },
    {
     "name": "stderr",
     "output_type": "stream",
     "text": [
      "Training [alpha=0.00; lambda=0.19]: 100%|\u001b[38;2;0;145;255m██████████\u001b[0m| 100/100 [00:13<00:00,  7.59epochs/s]\n",
      "Training [alpha=0.00; lambda=0.19]: 100%|\u001b[38;2;0;145;255m██████████\u001b[0m| 100/100 [00:13<00:00,  7.33epochs/s]\n",
      "Training [alpha=0.00; lambda=0.19]: 100%|\u001b[38;2;0;145;255m██████████\u001b[0m| 100/100 [00:13<00:00,  7.46epochs/s]\n",
      "Training [alpha=0.00; lambda=0.19]: 100%|\u001b[38;2;0;145;255m██████████\u001b[0m| 100/100 [00:13<00:00,  7.50epochs/s]\n",
      "Training [alpha=0.00; lambda=0.19]: 100%|\u001b[38;2;0;145;255m██████████\u001b[0m| 100/100 [00:13<00:00,  7.47epochs/s]\n"
     ]
    },
    {
     "name": "stdout",
     "output_type": "stream",
     "text": [
      "\n"
     ]
    },
    {
     "name": "stderr",
     "output_type": "stream",
     "text": [
      "Training [alpha=0.00; lambda=0.22]: 100%|\u001b[38;2;0;145;255m██████████\u001b[0m| 100/100 [00:13<00:00,  7.61epochs/s]\n",
      "Training [alpha=0.00; lambda=0.22]: 100%|\u001b[38;2;0;145;255m██████████\u001b[0m| 100/100 [00:13<00:00,  7.49epochs/s]\n",
      "Training [alpha=0.00; lambda=0.22]: 100%|\u001b[38;2;0;145;255m██████████\u001b[0m| 100/100 [00:13<00:00,  7.43epochs/s]\n",
      "Training [alpha=0.00; lambda=0.22]: 100%|\u001b[38;2;0;145;255m██████████\u001b[0m| 100/100 [00:13<00:00,  7.60epochs/s]\n",
      "Training [alpha=0.00; lambda=0.22]: 100%|\u001b[38;2;0;145;255m██████████\u001b[0m| 100/100 [00:13<00:00,  7.56epochs/s]\n"
     ]
    },
    {
     "name": "stdout",
     "output_type": "stream",
     "text": [
      "\n"
     ]
    },
    {
     "name": "stderr",
     "output_type": "stream",
     "text": [
      "Training [alpha=0.00; lambda=0.25]: 100%|\u001b[38;2;0;145;255m██████████\u001b[0m| 100/100 [00:13<00:00,  7.46epochs/s]\n",
      "Training [alpha=0.00; lambda=0.25]: 100%|\u001b[38;2;0;145;255m██████████\u001b[0m| 100/100 [00:13<00:00,  7.61epochs/s]\n",
      "Training [alpha=0.00; lambda=0.25]: 100%|\u001b[38;2;0;145;255m██████████\u001b[0m| 100/100 [00:13<00:00,  7.62epochs/s]\n",
      "Training [alpha=0.00; lambda=0.25]: 100%|\u001b[38;2;0;145;255m██████████\u001b[0m| 100/100 [00:13<00:00,  7.48epochs/s]\n",
      "Training [alpha=0.00; lambda=0.25]: 100%|\u001b[38;2;0;145;255m██████████\u001b[0m| 100/100 [00:13<00:00,  7.53epochs/s]\n"
     ]
    },
    {
     "name": "stdout",
     "output_type": "stream",
     "text": [
      "\n"
     ]
    },
    {
     "name": "stderr",
     "output_type": "stream",
     "text": [
      "Training [alpha=0.50; lambda=0.00]: 100%|\u001b[38;2;0;145;255m██████████\u001b[0m| 100/100 [01:39<00:00,  1.01epochs/s]\n",
      "Training [alpha=0.50; lambda=0.00]: 100%|\u001b[38;2;0;145;255m██████████\u001b[0m| 100/100 [01:40<00:00,  1.01s/epochs]\n",
      "Training [alpha=0.50; lambda=0.00]: 100%|\u001b[38;2;0;145;255m██████████\u001b[0m| 100/100 [01:40<00:00,  1.00s/epochs]\n",
      "Training [alpha=0.50; lambda=0.00]: 100%|\u001b[38;2;0;145;255m██████████\u001b[0m| 100/100 [01:40<00:00,  1.00s/epochs]\n",
      "Training [alpha=0.50; lambda=0.00]: 100%|\u001b[38;2;0;145;255m██████████\u001b[0m| 100/100 [01:41<00:00,  1.01s/epochs]\n"
     ]
    },
    {
     "name": "stdout",
     "output_type": "stream",
     "text": [
      "\n"
     ]
    },
    {
     "name": "stderr",
     "output_type": "stream",
     "text": [
      "Training [alpha=0.50; lambda=0.03]: 100%|\u001b[38;2;0;145;255m██████████\u001b[0m| 100/100 [01:40<00:00,  1.01s/epochs]\n",
      "Training [alpha=0.50; lambda=0.03]: 100%|\u001b[38;2;0;145;255m██████████\u001b[0m| 100/100 [01:40<00:00,  1.00s/epochs]\n",
      "Training [alpha=0.50; lambda=0.03]: 100%|\u001b[38;2;0;145;255m██████████\u001b[0m| 100/100 [01:41<00:00,  1.01s/epochs]\n",
      "Training [alpha=0.50; lambda=0.03]: 100%|\u001b[38;2;0;145;255m██████████\u001b[0m| 100/100 [01:40<00:00,  1.00s/epochs]\n",
      "Training [alpha=0.50; lambda=0.03]: 100%|\u001b[38;2;0;145;255m██████████\u001b[0m| 100/100 [01:41<00:00,  1.01s/epochs]\n"
     ]
    },
    {
     "name": "stdout",
     "output_type": "stream",
     "text": [
      "\n"
     ]
    },
    {
     "name": "stderr",
     "output_type": "stream",
     "text": [
      "Training [alpha=0.50; lambda=0.06]: 100%|\u001b[38;2;0;145;255m██████████\u001b[0m| 100/100 [01:40<00:00,  1.00s/epochs]\n",
      "Training [alpha=0.50; lambda=0.06]: 100%|\u001b[38;2;0;145;255m██████████\u001b[0m| 100/100 [01:40<00:00,  1.01s/epochs]\n",
      "Training [alpha=0.50; lambda=0.06]: 100%|\u001b[38;2;0;145;255m██████████\u001b[0m| 100/100 [01:40<00:00,  1.01s/epochs]\n",
      "Training [alpha=0.50; lambda=0.06]: 100%|\u001b[38;2;0;145;255m██████████\u001b[0m| 100/100 [01:40<00:00,  1.00s/epochs]\n",
      "Training [alpha=0.50; lambda=0.06]: 100%|\u001b[38;2;0;145;255m██████████\u001b[0m| 100/100 [01:40<00:00,  1.00s/epochs]\n"
     ]
    },
    {
     "name": "stdout",
     "output_type": "stream",
     "text": [
      "\n"
     ]
    },
    {
     "name": "stderr",
     "output_type": "stream",
     "text": [
      "Training [alpha=0.50; lambda=0.08]: 100%|\u001b[38;2;0;145;255m██████████\u001b[0m| 100/100 [01:40<00:00,  1.00s/epochs]\n",
      "Training [alpha=0.50; lambda=0.08]: 100%|\u001b[38;2;0;145;255m██████████\u001b[0m| 100/100 [01:40<00:00,  1.00s/epochs]\n",
      "Training [alpha=0.50; lambda=0.08]: 100%|\u001b[38;2;0;145;255m██████████\u001b[0m| 100/100 [01:40<00:00,  1.01s/epochs]\n",
      "Training [alpha=0.50; lambda=0.08]: 100%|\u001b[38;2;0;145;255m██████████\u001b[0m| 100/100 [01:43<00:00,  1.04s/epochs]\n",
      "Training [alpha=0.50; lambda=0.08]: 100%|\u001b[38;2;0;145;255m██████████\u001b[0m| 100/100 [01:41<00:00,  1.02s/epochs]\n"
     ]
    },
    {
     "name": "stdout",
     "output_type": "stream",
     "text": [
      "\n"
     ]
    },
    {
     "name": "stderr",
     "output_type": "stream",
     "text": [
      "Training [alpha=0.50; lambda=0.11]: 100%|\u001b[38;2;0;145;255m██████████\u001b[0m| 100/100 [01:45<00:00,  1.06s/epochs]\n",
      "Training [alpha=0.50; lambda=0.11]: 100%|\u001b[38;2;0;145;255m██████████\u001b[0m| 100/100 [01:45<00:00,  1.05s/epochs]\n",
      "Training [alpha=0.50; lambda=0.11]: 100%|\u001b[38;2;0;145;255m██████████\u001b[0m| 100/100 [01:45<00:00,  1.06s/epochs]\n",
      "Training [alpha=0.50; lambda=0.11]: 100%|\u001b[38;2;0;145;255m██████████\u001b[0m| 100/100 [01:45<00:00,  1.06s/epochs]\n",
      "Training [alpha=0.50; lambda=0.11]: 100%|\u001b[38;2;0;145;255m██████████\u001b[0m| 100/100 [01:45<00:00,  1.06s/epochs]\n"
     ]
    },
    {
     "name": "stdout",
     "output_type": "stream",
     "text": [
      "\n"
     ]
    },
    {
     "name": "stderr",
     "output_type": "stream",
     "text": [
      "Training [alpha=0.50; lambda=0.14]: 100%|\u001b[38;2;0;145;255m██████████\u001b[0m| 100/100 [01:44<00:00,  1.04s/epochs]\n",
      "Training [alpha=0.50; lambda=0.14]: 100%|\u001b[38;2;0;145;255m██████████\u001b[0m| 100/100 [01:45<00:00,  1.06s/epochs]\n",
      "Training [alpha=0.50; lambda=0.14]: 100%|\u001b[38;2;0;145;255m██████████\u001b[0m| 100/100 [01:44<00:00,  1.05s/epochs]\n",
      "Training [alpha=0.50; lambda=0.14]: 100%|\u001b[38;2;0;145;255m██████████\u001b[0m| 100/100 [01:45<00:00,  1.05s/epochs]\n",
      "Training [alpha=0.50; lambda=0.14]: 100%|\u001b[38;2;0;145;255m██████████\u001b[0m| 100/100 [01:40<00:00,  1.00s/epochs]\n"
     ]
    },
    {
     "name": "stdout",
     "output_type": "stream",
     "text": [
      "\n"
     ]
    },
    {
     "name": "stderr",
     "output_type": "stream",
     "text": [
      "Training [alpha=0.50; lambda=0.17]: 100%|\u001b[38;2;0;145;255m██████████\u001b[0m| 100/100 [01:40<00:00,  1.00s/epochs]\n",
      "Training [alpha=0.50; lambda=0.17]: 100%|\u001b[38;2;0;145;255m██████████\u001b[0m| 100/100 [01:40<00:00,  1.00s/epochs]\n",
      "Training [alpha=0.50; lambda=0.17]: 100%|\u001b[38;2;0;145;255m██████████\u001b[0m| 100/100 [01:42<00:00,  1.03s/epochs]\n",
      "Training [alpha=0.50; lambda=0.17]: 100%|\u001b[38;2;0;145;255m██████████\u001b[0m| 100/100 [01:42<00:00,  1.03s/epochs]\n",
      "Training [alpha=0.50; lambda=0.17]: 100%|\u001b[38;2;0;145;255m██████████\u001b[0m| 100/100 [01:43<00:00,  1.04s/epochs]\n"
     ]
    },
    {
     "name": "stdout",
     "output_type": "stream",
     "text": [
      "\n"
     ]
    },
    {
     "name": "stderr",
     "output_type": "stream",
     "text": [
      "Training [alpha=0.50; lambda=0.19]: 100%|\u001b[38;2;0;145;255m██████████\u001b[0m| 100/100 [01:43<00:00,  1.03s/epochs]\n",
      "Training [alpha=0.50; lambda=0.19]: 100%|\u001b[38;2;0;145;255m██████████\u001b[0m| 100/100 [01:43<00:00,  1.03s/epochs]\n",
      "Training [alpha=0.50; lambda=0.19]: 100%|\u001b[38;2;0;145;255m██████████\u001b[0m| 100/100 [01:42<00:00,  1.03s/epochs]\n",
      "Training [alpha=0.50; lambda=0.19]: 100%|\u001b[38;2;0;145;255m██████████\u001b[0m| 100/100 [01:42<00:00,  1.03s/epochs]\n",
      "Training [alpha=0.50; lambda=0.19]: 100%|\u001b[38;2;0;145;255m██████████\u001b[0m| 100/100 [01:43<00:00,  1.03s/epochs]\n"
     ]
    },
    {
     "name": "stdout",
     "output_type": "stream",
     "text": [
      "\n"
     ]
    },
    {
     "name": "stderr",
     "output_type": "stream",
     "text": [
      "Training [alpha=0.50; lambda=0.22]: 100%|\u001b[38;2;0;145;255m██████████\u001b[0m| 100/100 [01:42<00:00,  1.03s/epochs]\n",
      "Training [alpha=0.50; lambda=0.22]: 100%|\u001b[38;2;0;145;255m██████████\u001b[0m| 100/100 [01:42<00:00,  1.03s/epochs]\n",
      "Training [alpha=0.50; lambda=0.22]: 100%|\u001b[38;2;0;145;255m██████████\u001b[0m| 100/100 [01:48<00:00,  1.08s/epochs]\n",
      "Training [alpha=0.50; lambda=0.22]: 100%|\u001b[38;2;0;145;255m██████████\u001b[0m| 100/100 [01:58<00:00,  1.19s/epochs]\n",
      "Training [alpha=0.50; lambda=0.22]: 100%|\u001b[38;2;0;145;255m██████████\u001b[0m| 100/100 [01:57<00:00,  1.18s/epochs]\n"
     ]
    },
    {
     "name": "stdout",
     "output_type": "stream",
     "text": [
      "\n"
     ]
    },
    {
     "name": "stderr",
     "output_type": "stream",
     "text": [
      "Training [alpha=0.50; lambda=0.25]: 100%|\u001b[38;2;0;145;255m██████████\u001b[0m| 100/100 [01:48<00:00,  1.08s/epochs]\n",
      "Training [alpha=0.50; lambda=0.25]: 100%|\u001b[38;2;0;145;255m██████████\u001b[0m| 100/100 [01:47<00:00,  1.07s/epochs]\n",
      "Training [alpha=0.50; lambda=0.25]: 100%|\u001b[38;2;0;145;255m██████████\u001b[0m| 100/100 [01:44<00:00,  1.05s/epochs]\n",
      "Training [alpha=0.50; lambda=0.25]: 100%|\u001b[38;2;0;145;255m██████████\u001b[0m| 100/100 [01:47<00:00,  1.08s/epochs]\n",
      "Training [alpha=0.50; lambda=0.25]: 100%|\u001b[38;2;0;145;255m██████████\u001b[0m| 100/100 [01:55<00:00,  1.15s/epochs]\n"
     ]
    },
    {
     "name": "stdout",
     "output_type": "stream",
     "text": [
      "\n"
     ]
    },
    {
     "name": "stderr",
     "output_type": "stream",
     "text": [
      "Training [alpha=1.40; lambda=0.00]: 100%|\u001b[38;2;0;145;255m██████████\u001b[0m| 100/100 [01:51<00:00,  1.11s/epochs]\n",
      "Training [alpha=1.40; lambda=0.00]: 100%|\u001b[38;2;0;145;255m██████████\u001b[0m| 100/100 [01:49<00:00,  1.09s/epochs]\n",
      "Training [alpha=1.40; lambda=0.00]: 100%|\u001b[38;2;0;145;255m██████████\u001b[0m| 100/100 [01:51<00:00,  1.12s/epochs]\n",
      "Training [alpha=1.40; lambda=0.00]: 100%|\u001b[38;2;0;145;255m██████████\u001b[0m| 100/100 [01:52<00:00,  1.13s/epochs]\n",
      "Training [alpha=1.40; lambda=0.00]: 100%|\u001b[38;2;0;145;255m██████████\u001b[0m| 100/100 [01:50<00:00,  1.10s/epochs]\n"
     ]
    },
    {
     "name": "stdout",
     "output_type": "stream",
     "text": [
      "\n"
     ]
    },
    {
     "name": "stderr",
     "output_type": "stream",
     "text": [
      "Training [alpha=1.40; lambda=0.03]: 100%|\u001b[38;2;0;145;255m██████████\u001b[0m| 100/100 [01:50<00:00,  1.11s/epochs]\n",
      "Training [alpha=1.40; lambda=0.03]: 100%|\u001b[38;2;0;145;255m██████████\u001b[0m| 100/100 [01:52<00:00,  1.13s/epochs]\n",
      "Training [alpha=1.40; lambda=0.03]: 100%|\u001b[38;2;0;145;255m██████████\u001b[0m| 100/100 [01:48<00:00,  1.09s/epochs]\n",
      "Training [alpha=1.40; lambda=0.03]: 100%|\u001b[38;2;0;145;255m██████████\u001b[0m| 100/100 [01:42<00:00,  1.03s/epochs]\n",
      "Training [alpha=1.40; lambda=0.03]: 100%|\u001b[38;2;0;145;255m██████████\u001b[0m| 100/100 [01:41<00:00,  1.02s/epochs]\n"
     ]
    },
    {
     "name": "stdout",
     "output_type": "stream",
     "text": [
      "\n"
     ]
    },
    {
     "name": "stderr",
     "output_type": "stream",
     "text": [
      "Training [alpha=1.40; lambda=0.06]: 100%|\u001b[38;2;0;145;255m██████████\u001b[0m| 100/100 [01:44<00:00,  1.04s/epochs]\n",
      "Training [alpha=1.40; lambda=0.06]: 100%|\u001b[38;2;0;145;255m██████████\u001b[0m| 100/100 [01:42<00:00,  1.02s/epochs]\n",
      "Training [alpha=1.40; lambda=0.06]: 100%|\u001b[38;2;0;145;255m██████████\u001b[0m| 100/100 [01:41<00:00,  1.02s/epochs]\n",
      "Training [alpha=1.40; lambda=0.06]: 100%|\u001b[38;2;0;145;255m██████████\u001b[0m| 100/100 [01:39<00:00,  1.00epochs/s]\n",
      "Training [alpha=1.40; lambda=0.06]: 100%|\u001b[38;2;0;145;255m██████████\u001b[0m| 100/100 [01:40<00:00,  1.01s/epochs]\n"
     ]
    },
    {
     "name": "stdout",
     "output_type": "stream",
     "text": [
      "\n"
     ]
    },
    {
     "name": "stderr",
     "output_type": "stream",
     "text": [
      "Training [alpha=1.40; lambda=0.08]: 100%|\u001b[38;2;0;145;255m██████████\u001b[0m| 100/100 [01:46<00:00,  1.06s/epochs]\n",
      "Training [alpha=1.40; lambda=0.08]: 100%|\u001b[38;2;0;145;255m██████████\u001b[0m| 100/100 [01:41<00:00,  1.01s/epochs]\n",
      "Training [alpha=1.40; lambda=0.08]: 100%|\u001b[38;2;0;145;255m██████████\u001b[0m| 100/100 [01:48<00:00,  1.09s/epochs]\n",
      "Training [alpha=1.40; lambda=0.08]: 100%|\u001b[38;2;0;145;255m██████████\u001b[0m| 100/100 [01:43<00:00,  1.03s/epochs]\n",
      "Training [alpha=1.40; lambda=0.08]: 100%|\u001b[38;2;0;145;255m██████████\u001b[0m| 100/100 [01:40<00:00,  1.00s/epochs]\n"
     ]
    },
    {
     "name": "stdout",
     "output_type": "stream",
     "text": [
      "\n"
     ]
    },
    {
     "name": "stderr",
     "output_type": "stream",
     "text": [
      "Training [alpha=1.40; lambda=0.11]: 100%|\u001b[38;2;0;145;255m██████████\u001b[0m| 100/100 [01:40<00:00,  1.00s/epochs]\n",
      "Training [alpha=1.40; lambda=0.11]: 100%|\u001b[38;2;0;145;255m██████████\u001b[0m| 100/100 [01:40<00:00,  1.00s/epochs]\n",
      "Training [alpha=1.40; lambda=0.11]: 100%|\u001b[38;2;0;145;255m██████████\u001b[0m| 100/100 [01:39<00:00,  1.00epochs/s]\n",
      "Training [alpha=1.40; lambda=0.11]: 100%|\u001b[38;2;0;145;255m██████████\u001b[0m| 100/100 [01:40<00:00,  1.00s/epochs]\n",
      "Training [alpha=1.40; lambda=0.11]: 100%|\u001b[38;2;0;145;255m██████████\u001b[0m| 100/100 [01:39<00:00,  1.00epochs/s]\n"
     ]
    },
    {
     "name": "stdout",
     "output_type": "stream",
     "text": [
      "\n"
     ]
    },
    {
     "name": "stderr",
     "output_type": "stream",
     "text": [
      "Training [alpha=1.40; lambda=0.14]: 100%|\u001b[38;2;0;145;255m██████████\u001b[0m| 100/100 [01:39<00:00,  1.01epochs/s]\n",
      "Training [alpha=1.40; lambda=0.14]: 100%|\u001b[38;2;0;145;255m██████████\u001b[0m| 100/100 [01:40<00:00,  1.00s/epochs]\n",
      "Training [alpha=1.40; lambda=0.14]: 100%|\u001b[38;2;0;145;255m██████████\u001b[0m| 100/100 [01:40<00:00,  1.00s/epochs]\n",
      "Training [alpha=1.40; lambda=0.14]: 100%|\u001b[38;2;0;145;255m██████████\u001b[0m| 100/100 [01:40<00:00,  1.00s/epochs]\n",
      "Training [alpha=1.40; lambda=0.14]: 100%|\u001b[38;2;0;145;255m██████████\u001b[0m| 100/100 [01:39<00:00,  1.01epochs/s]\n"
     ]
    },
    {
     "name": "stdout",
     "output_type": "stream",
     "text": [
      "\n"
     ]
    },
    {
     "name": "stderr",
     "output_type": "stream",
     "text": [
      "Training [alpha=1.40; lambda=0.17]: 100%|\u001b[38;2;0;145;255m██████████\u001b[0m| 100/100 [01:40<00:00,  1.01s/epochs]\n",
      "Training [alpha=1.40; lambda=0.17]: 100%|\u001b[38;2;0;145;255m██████████\u001b[0m| 100/100 [01:40<00:00,  1.01s/epochs]\n",
      "Training [alpha=1.40; lambda=0.17]: 100%|\u001b[38;2;0;145;255m██████████\u001b[0m| 100/100 [01:42<00:00,  1.02s/epochs]\n",
      "Training [alpha=1.40; lambda=0.17]: 100%|\u001b[38;2;0;145;255m██████████\u001b[0m| 100/100 [01:40<00:00,  1.01s/epochs]\n",
      "Training [alpha=1.40; lambda=0.17]: 100%|\u001b[38;2;0;145;255m██████████\u001b[0m| 100/100 [01:39<00:00,  1.00epochs/s]\n"
     ]
    },
    {
     "name": "stdout",
     "output_type": "stream",
     "text": [
      "\n"
     ]
    },
    {
     "name": "stderr",
     "output_type": "stream",
     "text": [
      "Training [alpha=1.40; lambda=0.19]: 100%|\u001b[38;2;0;145;255m██████████\u001b[0m| 100/100 [01:39<00:00,  1.00epochs/s]\n",
      "Training [alpha=1.40; lambda=0.19]: 100%|\u001b[38;2;0;145;255m██████████\u001b[0m| 100/100 [01:38<00:00,  1.01epochs/s]\n",
      "Training [alpha=1.40; lambda=0.19]: 100%|\u001b[38;2;0;145;255m██████████\u001b[0m| 100/100 [01:39<00:00,  1.01epochs/s]\n",
      "Training [alpha=1.40; lambda=0.19]: 100%|\u001b[38;2;0;145;255m██████████\u001b[0m| 100/100 [01:40<00:00,  1.01s/epochs]\n",
      "Training [alpha=1.40; lambda=0.19]: 100%|\u001b[38;2;0;145;255m██████████\u001b[0m| 100/100 [01:40<00:00,  1.01s/epochs]\n"
     ]
    },
    {
     "name": "stdout",
     "output_type": "stream",
     "text": [
      "\n"
     ]
    },
    {
     "name": "stderr",
     "output_type": "stream",
     "text": [
      "Training [alpha=1.40; lambda=0.22]: 100%|\u001b[38;2;0;145;255m██████████\u001b[0m| 100/100 [01:41<00:00,  1.01s/epochs]\n",
      "Training [alpha=1.40; lambda=0.22]: 100%|\u001b[38;2;0;145;255m██████████\u001b[0m| 100/100 [01:40<00:00,  1.01s/epochs]\n",
      "Training [alpha=1.40; lambda=0.22]: 100%|\u001b[38;2;0;145;255m██████████\u001b[0m| 100/100 [01:40<00:00,  1.00s/epochs]\n",
      "Training [alpha=1.40; lambda=0.22]: 100%|\u001b[38;2;0;145;255m██████████\u001b[0m| 100/100 [01:41<00:00,  1.01s/epochs]\n",
      "Training [alpha=1.40; lambda=0.22]: 100%|\u001b[38;2;0;145;255m██████████\u001b[0m| 100/100 [01:41<00:00,  1.02s/epochs]\n"
     ]
    },
    {
     "name": "stdout",
     "output_type": "stream",
     "text": [
      "\n"
     ]
    },
    {
     "name": "stderr",
     "output_type": "stream",
     "text": [
      "Training [alpha=1.40; lambda=0.25]: 100%|\u001b[38;2;0;145;255m██████████\u001b[0m| 100/100 [01:46<00:00,  1.06s/epochs]\n",
      "Training [alpha=1.40; lambda=0.25]: 100%|\u001b[38;2;0;145;255m██████████\u001b[0m| 100/100 [01:44<00:00,  1.04s/epochs]\n",
      "Training [alpha=1.40; lambda=0.25]: 100%|\u001b[38;2;0;145;255m██████████\u001b[0m| 100/100 [01:42<00:00,  1.03s/epochs]\n",
      "Training [alpha=1.40; lambda=0.25]: 100%|\u001b[38;2;0;145;255m██████████\u001b[0m| 100/100 [01:43<00:00,  1.03s/epochs]\n",
      "Training [alpha=1.40; lambda=0.25]: 100%|\u001b[38;2;0;145;255m██████████\u001b[0m| 100/100 [01:42<00:00,  1.03s/epochs]\n"
     ]
    },
    {
     "name": "stdout",
     "output_type": "stream",
     "text": [
      "\n"
     ]
    }
   ],
   "source": [
    "hyper_params = {}\n",
    "hyper_params['learning_rate'] = 0.01\n",
    "hyper_params['delta'] = [0.5]\n",
    "hyper_params['alpha'] = [0., 0.5, 1.4]\n",
    "hyper_params['lambda'] = np.linspace(0.,.25, 10).round(3)\n",
    "hyper_params['z_blind'] = False\n",
    "hyper_params['optimal_effort'] = False\n",
    "seeds = list(range(5))\n",
    "\n",
    "results, ei_models = fb_tradeoff(dataset, hyper_params, seeds)\n",
    "results['loss_mean'] = 1 - results['accuracy_mean']\n",
    "results['alpha'] = results['alpha'].astype(str)"
   ]
  },
  {
   "cell_type": "code",
   "execution_count": 7,
   "metadata": {},
   "outputs": [
    {
     "data": {
      "text/html": [
       "<div>\n",
       "<style scoped>\n",
       "    .dataframe tbody tr th:only-of-type {\n",
       "        vertical-align: middle;\n",
       "    }\n",
       "\n",
       "    .dataframe tbody tr th {\n",
       "        vertical-align: top;\n",
       "    }\n",
       "\n",
       "    .dataframe thead th {\n",
       "        text-align: right;\n",
       "    }\n",
       "</style>\n",
       "<table border=\"1\" class=\"dataframe\">\n",
       "  <thead>\n",
       "    <tr style=\"text-align: right;\">\n",
       "      <th></th>\n",
       "      <th>id</th>\n",
       "      <th>alpha</th>\n",
       "      <th>lambda</th>\n",
       "      <th>delta</th>\n",
       "      <th>accuracy_mean</th>\n",
       "      <th>accuracy_std</th>\n",
       "      <th>ei_disparity_mean</th>\n",
       "      <th>ei_disparity_std</th>\n",
       "      <th>loss_mean</th>\n",
       "    </tr>\n",
       "  </thead>\n",
       "  <tbody>\n",
       "    <tr>\n",
       "      <th>0</th>\n",
       "      <td>train</td>\n",
       "      <td>0.0</td>\n",
       "      <td>0.000</td>\n",
       "      <td>0.5</td>\n",
       "      <td>0.784719</td>\n",
       "      <td>0.001884</td>\n",
       "      <td>0.131939</td>\n",
       "      <td>0.004601</td>\n",
       "      <td>0.215281</td>\n",
       "    </tr>\n",
       "    <tr>\n",
       "      <th>0</th>\n",
       "      <td>val</td>\n",
       "      <td>0.0</td>\n",
       "      <td>0.000</td>\n",
       "      <td>0.5</td>\n",
       "      <td>0.790250</td>\n",
       "      <td>0.004839</td>\n",
       "      <td>0.130112</td>\n",
       "      <td>0.010323</td>\n",
       "      <td>0.209750</td>\n",
       "    </tr>\n",
       "    <tr>\n",
       "      <th>0</th>\n",
       "      <td>test</td>\n",
       "      <td>0.0</td>\n",
       "      <td>0.000</td>\n",
       "      <td>0.5</td>\n",
       "      <td>0.786450</td>\n",
       "      <td>0.002517</td>\n",
       "      <td>0.132075</td>\n",
       "      <td>0.013731</td>\n",
       "      <td>0.213550</td>\n",
       "    </tr>\n",
       "    <tr>\n",
       "      <th>0</th>\n",
       "      <td>train</td>\n",
       "      <td>0.0</td>\n",
       "      <td>0.028</td>\n",
       "      <td>0.5</td>\n",
       "      <td>0.782500</td>\n",
       "      <td>0.001573</td>\n",
       "      <td>0.088582</td>\n",
       "      <td>0.005080</td>\n",
       "      <td>0.217500</td>\n",
       "    </tr>\n",
       "    <tr>\n",
       "      <th>0</th>\n",
       "      <td>val</td>\n",
       "      <td>0.0</td>\n",
       "      <td>0.028</td>\n",
       "      <td>0.5</td>\n",
       "      <td>0.786375</td>\n",
       "      <td>0.005110</td>\n",
       "      <td>0.093586</td>\n",
       "      <td>0.010307</td>\n",
       "      <td>0.213625</td>\n",
       "    </tr>\n",
       "  </tbody>\n",
       "</table>\n",
       "</div>"
      ],
      "text/plain": [
       "      id alpha  lambda  delta  accuracy_mean  accuracy_std  ei_disparity_mean  \\\n",
       "0  train   0.0   0.000    0.5       0.784719      0.001884           0.131939   \n",
       "0    val   0.0   0.000    0.5       0.790250      0.004839           0.130112   \n",
       "0   test   0.0   0.000    0.5       0.786450      0.002517           0.132075   \n",
       "0  train   0.0   0.028    0.5       0.782500      0.001573           0.088582   \n",
       "0    val   0.0   0.028    0.5       0.786375      0.005110           0.093586   \n",
       "\n",
       "   ei_disparity_std  loss_mean  \n",
       "0          0.004601   0.215281  \n",
       "0          0.010323   0.209750  \n",
       "0          0.013731   0.213550  \n",
       "0          0.005080   0.217500  \n",
       "0          0.010307   0.213625  "
      ]
     },
     "execution_count": 7,
     "metadata": {},
     "output_type": "execute_result"
    }
   ],
   "source": [
    "results.head()"
   ]
  },
  {
   "cell_type": "code",
   "execution_count": 8,
   "metadata": {},
   "outputs": [],
   "source": [
    "train_results = results[results['id'] == 'train']\n",
    "val_results = results[results['id'] == 'val']\n",
    "test_results = results[results['id'] == 'test']"
   ]
  },
  {
   "cell_type": "code",
   "execution_count": 9,
   "metadata": {},
   "outputs": [
    {
     "data": {
      "text/html": [
       "<div>\n",
       "<style scoped>\n",
       "    .dataframe tbody tr th:only-of-type {\n",
       "        vertical-align: middle;\n",
       "    }\n",
       "\n",
       "    .dataframe tbody tr th {\n",
       "        vertical-align: top;\n",
       "    }\n",
       "\n",
       "    .dataframe thead th {\n",
       "        text-align: right;\n",
       "    }\n",
       "</style>\n",
       "<table border=\"1\" class=\"dataframe\">\n",
       "  <thead>\n",
       "    <tr style=\"text-align: right;\">\n",
       "      <th></th>\n",
       "      <th>id</th>\n",
       "      <th>alpha</th>\n",
       "      <th>lambda</th>\n",
       "      <th>delta</th>\n",
       "      <th>accuracy_mean</th>\n",
       "      <th>accuracy_std</th>\n",
       "      <th>ei_disparity_mean</th>\n",
       "      <th>ei_disparity_std</th>\n",
       "      <th>loss_mean</th>\n",
       "    </tr>\n",
       "  </thead>\n",
       "  <tbody>\n",
       "    <tr>\n",
       "      <th>0</th>\n",
       "      <td>test</td>\n",
       "      <td>0.0</td>\n",
       "      <td>0.000</td>\n",
       "      <td>0.5</td>\n",
       "      <td>0.78645</td>\n",
       "      <td>0.002517</td>\n",
       "      <td>0.132075</td>\n",
       "      <td>0.013731</td>\n",
       "      <td>0.21355</td>\n",
       "    </tr>\n",
       "    <tr>\n",
       "      <th>0</th>\n",
       "      <td>test</td>\n",
       "      <td>0.0</td>\n",
       "      <td>0.028</td>\n",
       "      <td>0.5</td>\n",
       "      <td>0.78345</td>\n",
       "      <td>0.002790</td>\n",
       "      <td>0.089642</td>\n",
       "      <td>0.009594</td>\n",
       "      <td>0.21655</td>\n",
       "    </tr>\n",
       "    <tr>\n",
       "      <th>0</th>\n",
       "      <td>test</td>\n",
       "      <td>0.0</td>\n",
       "      <td>0.056</td>\n",
       "      <td>0.5</td>\n",
       "      <td>0.77890</td>\n",
       "      <td>0.003149</td>\n",
       "      <td>0.054335</td>\n",
       "      <td>0.007991</td>\n",
       "      <td>0.22110</td>\n",
       "    </tr>\n",
       "    <tr>\n",
       "      <th>0</th>\n",
       "      <td>test</td>\n",
       "      <td>0.0</td>\n",
       "      <td>0.083</td>\n",
       "      <td>0.5</td>\n",
       "      <td>0.76845</td>\n",
       "      <td>0.005474</td>\n",
       "      <td>0.017255</td>\n",
       "      <td>0.009134</td>\n",
       "      <td>0.23155</td>\n",
       "    </tr>\n",
       "    <tr>\n",
       "      <th>0</th>\n",
       "      <td>test</td>\n",
       "      <td>0.0</td>\n",
       "      <td>0.111</td>\n",
       "      <td>0.5</td>\n",
       "      <td>0.75915</td>\n",
       "      <td>0.007995</td>\n",
       "      <td>0.007835</td>\n",
       "      <td>0.003667</td>\n",
       "      <td>0.24085</td>\n",
       "    </tr>\n",
       "    <tr>\n",
       "      <th>0</th>\n",
       "      <td>test</td>\n",
       "      <td>0.0</td>\n",
       "      <td>0.139</td>\n",
       "      <td>0.5</td>\n",
       "      <td>0.75475</td>\n",
       "      <td>0.008905</td>\n",
       "      <td>0.008411</td>\n",
       "      <td>0.005157</td>\n",
       "      <td>0.24525</td>\n",
       "    </tr>\n",
       "    <tr>\n",
       "      <th>0</th>\n",
       "      <td>test</td>\n",
       "      <td>0.0</td>\n",
       "      <td>0.167</td>\n",
       "      <td>0.5</td>\n",
       "      <td>0.75225</td>\n",
       "      <td>0.008782</td>\n",
       "      <td>0.011477</td>\n",
       "      <td>0.004302</td>\n",
       "      <td>0.24775</td>\n",
       "    </tr>\n",
       "    <tr>\n",
       "      <th>0</th>\n",
       "      <td>test</td>\n",
       "      <td>0.0</td>\n",
       "      <td>0.194</td>\n",
       "      <td>0.5</td>\n",
       "      <td>0.74960</td>\n",
       "      <td>0.008159</td>\n",
       "      <td>0.013962</td>\n",
       "      <td>0.003467</td>\n",
       "      <td>0.25040</td>\n",
       "    </tr>\n",
       "    <tr>\n",
       "      <th>0</th>\n",
       "      <td>test</td>\n",
       "      <td>0.0</td>\n",
       "      <td>0.222</td>\n",
       "      <td>0.5</td>\n",
       "      <td>0.74635</td>\n",
       "      <td>0.008470</td>\n",
       "      <td>0.015571</td>\n",
       "      <td>0.004370</td>\n",
       "      <td>0.25365</td>\n",
       "    </tr>\n",
       "    <tr>\n",
       "      <th>0</th>\n",
       "      <td>test</td>\n",
       "      <td>0.0</td>\n",
       "      <td>0.250</td>\n",
       "      <td>0.5</td>\n",
       "      <td>0.74565</td>\n",
       "      <td>0.008524</td>\n",
       "      <td>0.017088</td>\n",
       "      <td>0.004094</td>\n",
       "      <td>0.25435</td>\n",
       "    </tr>\n",
       "    <tr>\n",
       "      <th>0</th>\n",
       "      <td>test</td>\n",
       "      <td>0.5</td>\n",
       "      <td>0.000</td>\n",
       "      <td>0.5</td>\n",
       "      <td>0.78665</td>\n",
       "      <td>0.002572</td>\n",
       "      <td>0.126458</td>\n",
       "      <td>0.011926</td>\n",
       "      <td>0.21335</td>\n",
       "    </tr>\n",
       "    <tr>\n",
       "      <th>0</th>\n",
       "      <td>test</td>\n",
       "      <td>0.5</td>\n",
       "      <td>0.028</td>\n",
       "      <td>0.5</td>\n",
       "      <td>0.78650</td>\n",
       "      <td>0.002434</td>\n",
       "      <td>0.126038</td>\n",
       "      <td>0.012023</td>\n",
       "      <td>0.21350</td>\n",
       "    </tr>\n",
       "    <tr>\n",
       "      <th>0</th>\n",
       "      <td>test</td>\n",
       "      <td>0.5</td>\n",
       "      <td>0.056</td>\n",
       "      <td>0.5</td>\n",
       "      <td>0.78645</td>\n",
       "      <td>0.002722</td>\n",
       "      <td>0.126377</td>\n",
       "      <td>0.012159</td>\n",
       "      <td>0.21355</td>\n",
       "    </tr>\n",
       "    <tr>\n",
       "      <th>0</th>\n",
       "      <td>test</td>\n",
       "      <td>0.5</td>\n",
       "      <td>0.083</td>\n",
       "      <td>0.5</td>\n",
       "      <td>0.78645</td>\n",
       "      <td>0.002614</td>\n",
       "      <td>0.126380</td>\n",
       "      <td>0.011979</td>\n",
       "      <td>0.21355</td>\n",
       "    </tr>\n",
       "    <tr>\n",
       "      <th>0</th>\n",
       "      <td>test</td>\n",
       "      <td>0.5</td>\n",
       "      <td>0.111</td>\n",
       "      <td>0.5</td>\n",
       "      <td>0.78660</td>\n",
       "      <td>0.002591</td>\n",
       "      <td>0.126308</td>\n",
       "      <td>0.011939</td>\n",
       "      <td>0.21340</td>\n",
       "    </tr>\n",
       "    <tr>\n",
       "      <th>0</th>\n",
       "      <td>test</td>\n",
       "      <td>0.5</td>\n",
       "      <td>0.139</td>\n",
       "      <td>0.5</td>\n",
       "      <td>0.78665</td>\n",
       "      <td>0.002582</td>\n",
       "      <td>0.126584</td>\n",
       "      <td>0.011802</td>\n",
       "      <td>0.21335</td>\n",
       "    </tr>\n",
       "    <tr>\n",
       "      <th>0</th>\n",
       "      <td>test</td>\n",
       "      <td>0.5</td>\n",
       "      <td>0.167</td>\n",
       "      <td>0.5</td>\n",
       "      <td>0.78660</td>\n",
       "      <td>0.002625</td>\n",
       "      <td>0.125959</td>\n",
       "      <td>0.011887</td>\n",
       "      <td>0.21340</td>\n",
       "    </tr>\n",
       "    <tr>\n",
       "      <th>0</th>\n",
       "      <td>test</td>\n",
       "      <td>0.5</td>\n",
       "      <td>0.194</td>\n",
       "      <td>0.5</td>\n",
       "      <td>0.78645</td>\n",
       "      <td>0.002547</td>\n",
       "      <td>0.126467</td>\n",
       "      <td>0.011719</td>\n",
       "      <td>0.21355</td>\n",
       "    </tr>\n",
       "    <tr>\n",
       "      <th>0</th>\n",
       "      <td>test</td>\n",
       "      <td>0.5</td>\n",
       "      <td>0.222</td>\n",
       "      <td>0.5</td>\n",
       "      <td>0.78660</td>\n",
       "      <td>0.002380</td>\n",
       "      <td>0.126202</td>\n",
       "      <td>0.011789</td>\n",
       "      <td>0.21340</td>\n",
       "    </tr>\n",
       "    <tr>\n",
       "      <th>0</th>\n",
       "      <td>test</td>\n",
       "      <td>0.5</td>\n",
       "      <td>0.250</td>\n",
       "      <td>0.5</td>\n",
       "      <td>0.78655</td>\n",
       "      <td>0.002643</td>\n",
       "      <td>0.125820</td>\n",
       "      <td>0.011625</td>\n",
       "      <td>0.21345</td>\n",
       "    </tr>\n",
       "    <tr>\n",
       "      <th>0</th>\n",
       "      <td>test</td>\n",
       "      <td>1.4</td>\n",
       "      <td>0.000</td>\n",
       "      <td>0.5</td>\n",
       "      <td>0.78645</td>\n",
       "      <td>0.002452</td>\n",
       "      <td>0.125914</td>\n",
       "      <td>0.011704</td>\n",
       "      <td>0.21355</td>\n",
       "    </tr>\n",
       "    <tr>\n",
       "      <th>0</th>\n",
       "      <td>test</td>\n",
       "      <td>1.4</td>\n",
       "      <td>0.028</td>\n",
       "      <td>0.5</td>\n",
       "      <td>0.78665</td>\n",
       "      <td>0.002658</td>\n",
       "      <td>0.126003</td>\n",
       "      <td>0.011804</td>\n",
       "      <td>0.21335</td>\n",
       "    </tr>\n",
       "    <tr>\n",
       "      <th>0</th>\n",
       "      <td>test</td>\n",
       "      <td>1.4</td>\n",
       "      <td>0.056</td>\n",
       "      <td>0.5</td>\n",
       "      <td>0.78660</td>\n",
       "      <td>0.002611</td>\n",
       "      <td>0.126087</td>\n",
       "      <td>0.011856</td>\n",
       "      <td>0.21340</td>\n",
       "    </tr>\n",
       "    <tr>\n",
       "      <th>0</th>\n",
       "      <td>test</td>\n",
       "      <td>1.4</td>\n",
       "      <td>0.083</td>\n",
       "      <td>0.5</td>\n",
       "      <td>0.78660</td>\n",
       "      <td>0.002587</td>\n",
       "      <td>0.126396</td>\n",
       "      <td>0.011900</td>\n",
       "      <td>0.21340</td>\n",
       "    </tr>\n",
       "    <tr>\n",
       "      <th>0</th>\n",
       "      <td>test</td>\n",
       "      <td>1.4</td>\n",
       "      <td>0.111</td>\n",
       "      <td>0.5</td>\n",
       "      <td>0.78670</td>\n",
       "      <td>0.002629</td>\n",
       "      <td>0.126444</td>\n",
       "      <td>0.011656</td>\n",
       "      <td>0.21330</td>\n",
       "    </tr>\n",
       "    <tr>\n",
       "      <th>0</th>\n",
       "      <td>test</td>\n",
       "      <td>1.4</td>\n",
       "      <td>0.139</td>\n",
       "      <td>0.5</td>\n",
       "      <td>0.78640</td>\n",
       "      <td>0.002473</td>\n",
       "      <td>0.126233</td>\n",
       "      <td>0.011821</td>\n",
       "      <td>0.21360</td>\n",
       "    </tr>\n",
       "    <tr>\n",
       "      <th>0</th>\n",
       "      <td>test</td>\n",
       "      <td>1.4</td>\n",
       "      <td>0.167</td>\n",
       "      <td>0.5</td>\n",
       "      <td>0.78650</td>\n",
       "      <td>0.002424</td>\n",
       "      <td>0.125945</td>\n",
       "      <td>0.011888</td>\n",
       "      <td>0.21350</td>\n",
       "    </tr>\n",
       "    <tr>\n",
       "      <th>0</th>\n",
       "      <td>test</td>\n",
       "      <td>1.4</td>\n",
       "      <td>0.194</td>\n",
       "      <td>0.5</td>\n",
       "      <td>0.78655</td>\n",
       "      <td>0.002405</td>\n",
       "      <td>0.126354</td>\n",
       "      <td>0.011945</td>\n",
       "      <td>0.21345</td>\n",
       "    </tr>\n",
       "    <tr>\n",
       "      <th>0</th>\n",
       "      <td>test</td>\n",
       "      <td>1.4</td>\n",
       "      <td>0.222</td>\n",
       "      <td>0.5</td>\n",
       "      <td>0.78645</td>\n",
       "      <td>0.002446</td>\n",
       "      <td>0.126785</td>\n",
       "      <td>0.011773</td>\n",
       "      <td>0.21355</td>\n",
       "    </tr>\n",
       "    <tr>\n",
       "      <th>0</th>\n",
       "      <td>test</td>\n",
       "      <td>1.4</td>\n",
       "      <td>0.250</td>\n",
       "      <td>0.5</td>\n",
       "      <td>0.78665</td>\n",
       "      <td>0.002562</td>\n",
       "      <td>0.126094</td>\n",
       "      <td>0.011718</td>\n",
       "      <td>0.21335</td>\n",
       "    </tr>\n",
       "  </tbody>\n",
       "</table>\n",
       "</div>"
      ],
      "text/plain": [
       "     id alpha  lambda  delta  accuracy_mean  accuracy_std  ei_disparity_mean  \\\n",
       "0  test   0.0   0.000    0.5        0.78645      0.002517           0.132075   \n",
       "0  test   0.0   0.028    0.5        0.78345      0.002790           0.089642   \n",
       "0  test   0.0   0.056    0.5        0.77890      0.003149           0.054335   \n",
       "0  test   0.0   0.083    0.5        0.76845      0.005474           0.017255   \n",
       "0  test   0.0   0.111    0.5        0.75915      0.007995           0.007835   \n",
       "0  test   0.0   0.139    0.5        0.75475      0.008905           0.008411   \n",
       "0  test   0.0   0.167    0.5        0.75225      0.008782           0.011477   \n",
       "0  test   0.0   0.194    0.5        0.74960      0.008159           0.013962   \n",
       "0  test   0.0   0.222    0.5        0.74635      0.008470           0.015571   \n",
       "0  test   0.0   0.250    0.5        0.74565      0.008524           0.017088   \n",
       "0  test   0.5   0.000    0.5        0.78665      0.002572           0.126458   \n",
       "0  test   0.5   0.028    0.5        0.78650      0.002434           0.126038   \n",
       "0  test   0.5   0.056    0.5        0.78645      0.002722           0.126377   \n",
       "0  test   0.5   0.083    0.5        0.78645      0.002614           0.126380   \n",
       "0  test   0.5   0.111    0.5        0.78660      0.002591           0.126308   \n",
       "0  test   0.5   0.139    0.5        0.78665      0.002582           0.126584   \n",
       "0  test   0.5   0.167    0.5        0.78660      0.002625           0.125959   \n",
       "0  test   0.5   0.194    0.5        0.78645      0.002547           0.126467   \n",
       "0  test   0.5   0.222    0.5        0.78660      0.002380           0.126202   \n",
       "0  test   0.5   0.250    0.5        0.78655      0.002643           0.125820   \n",
       "0  test   1.4   0.000    0.5        0.78645      0.002452           0.125914   \n",
       "0  test   1.4   0.028    0.5        0.78665      0.002658           0.126003   \n",
       "0  test   1.4   0.056    0.5        0.78660      0.002611           0.126087   \n",
       "0  test   1.4   0.083    0.5        0.78660      0.002587           0.126396   \n",
       "0  test   1.4   0.111    0.5        0.78670      0.002629           0.126444   \n",
       "0  test   1.4   0.139    0.5        0.78640      0.002473           0.126233   \n",
       "0  test   1.4   0.167    0.5        0.78650      0.002424           0.125945   \n",
       "0  test   1.4   0.194    0.5        0.78655      0.002405           0.126354   \n",
       "0  test   1.4   0.222    0.5        0.78645      0.002446           0.126785   \n",
       "0  test   1.4   0.250    0.5        0.78665      0.002562           0.126094   \n",
       "\n",
       "   ei_disparity_std  loss_mean  \n",
       "0          0.013731    0.21355  \n",
       "0          0.009594    0.21655  \n",
       "0          0.007991    0.22110  \n",
       "0          0.009134    0.23155  \n",
       "0          0.003667    0.24085  \n",
       "0          0.005157    0.24525  \n",
       "0          0.004302    0.24775  \n",
       "0          0.003467    0.25040  \n",
       "0          0.004370    0.25365  \n",
       "0          0.004094    0.25435  \n",
       "0          0.011926    0.21335  \n",
       "0          0.012023    0.21350  \n",
       "0          0.012159    0.21355  \n",
       "0          0.011979    0.21355  \n",
       "0          0.011939    0.21340  \n",
       "0          0.011802    0.21335  \n",
       "0          0.011887    0.21340  \n",
       "0          0.011719    0.21355  \n",
       "0          0.011789    0.21340  \n",
       "0          0.011625    0.21345  \n",
       "0          0.011704    0.21355  \n",
       "0          0.011804    0.21335  \n",
       "0          0.011856    0.21340  \n",
       "0          0.011900    0.21340  \n",
       "0          0.011656    0.21330  \n",
       "0          0.011821    0.21360  \n",
       "0          0.011888    0.21350  \n",
       "0          0.011945    0.21345  \n",
       "0          0.011773    0.21355  \n",
       "0          0.011718    0.21335  "
      ]
     },
     "execution_count": 9,
     "metadata": {},
     "output_type": "execute_result"
    }
   ],
   "source": [
    "test_results = test_results.sort_values(['alpha', 'lambda'])\n",
    "test_results"
   ]
  },
  {
   "cell_type": "code",
   "execution_count": 10,
   "metadata": {},
   "outputs": [],
   "source": [
    "test_results_pareto = pd.DataFrame()\n",
    "for alpha in test_results['alpha'].unique():\n",
    "    test_results_alpha = test_results[test_results['alpha'] == alpha]\n",
    "    mask = pareto_frontier(test_results_alpha['loss_mean'], test_results_alpha['ei_disparity_mean'])\n",
    "    results_alpha_pareto = test_results_alpha.iloc[mask]\n",
    "    test_results_pareto = pd.concat((test_results_pareto, results_alpha_pareto.sort_values('ei_disparity_mean')))"
   ]
  },
  {
   "cell_type": "code",
   "execution_count": 24,
   "metadata": {},
   "outputs": [
    {
     "data": {
      "application/vnd.plotly.v1+json": {
       "config": {
        "plotlyServerURL": "https://plot.ly"
       },
       "data": [
        {
         "customdata": [
          [
           0.111
          ],
          [
           0.083
          ],
          [
           0.056
          ],
          [
           0.028
          ],
          [
           0
          ]
         ],
         "hovertemplate": "alpha=0.0<br>ei_disparity_mean=%{x}<br>loss_mean=%{y}<br>lambda=%{customdata[0]}<extra></extra>",
         "legendgroup": "0.0",
         "line": {
          "color": "#636efa",
          "dash": "solid"
         },
         "marker": {
          "symbol": "circle"
         },
         "mode": "lines+markers",
         "name": "0.0",
         "orientation": "v",
         "showlegend": true,
         "type": "scatter",
         "x": [
          0.007834606119056309,
          0.017254534038788426,
          0.054335032884681646,
          0.08964244793649656,
          0.13207544245089675
         ],
         "xaxis": "x",
         "y": [
          0.24085000000000012,
          0.23155000000000003,
          0.22109999999999996,
          0.21655000000000002,
          0.2135499999999999
         ],
         "yaxis": "y"
        },
        {
         "customdata": [
          [
           0.25
          ],
          [
           0.167
          ],
          [
           0
          ]
         ],
         "hovertemplate": "alpha=0.5<br>ei_disparity_mean=%{x}<br>loss_mean=%{y}<br>lambda=%{customdata[0]}<extra></extra>",
         "legendgroup": "0.5",
         "line": {
          "color": "#EF553B",
          "dash": "solid"
         },
         "marker": {
          "symbol": "circle"
         },
         "mode": "lines+markers",
         "name": "0.5",
         "orientation": "v",
         "showlegend": true,
         "type": "scatter",
         "x": [
          0.12581955207725964,
          0.12595899174038433,
          0.12645847074526223
         ],
         "xaxis": "x",
         "y": [
          0.21345000000000014,
          0.21340000000000003,
          0.21334999999999993
         ],
         "yaxis": "y"
        },
        {
         "customdata": [
          [
           0
          ],
          [
           0.167
          ],
          [
           0.028
          ],
          [
           0.25
          ],
          [
           0.111
          ]
         ],
         "hovertemplate": "alpha=1.4<br>ei_disparity_mean=%{x}<br>loss_mean=%{y}<br>lambda=%{customdata[0]}<extra></extra>",
         "legendgroup": "1.4",
         "line": {
          "color": "#00cc96",
          "dash": "solid"
         },
         "marker": {
          "symbol": "circle"
         },
         "mode": "lines+markers",
         "name": "1.4",
         "orientation": "v",
         "showlegend": true,
         "type": "scatter",
         "x": [
          0.12591428111591418,
          0.12594480851347756,
          0.12600341863426784,
          0.12609361563898253,
          0.12644442063484923
         ],
         "xaxis": "x",
         "y": [
          0.21355000000000002,
          0.21350000000000002,
          0.21335000000000004,
          0.21334999999999993,
          0.21330000000000005
         ],
         "yaxis": "y"
        }
       ],
       "layout": {
        "annotations": [
         {
          "font": {
           "color": "black",
           "size": 10
          },
          "showarrow": false,
          "text": "dataset=synthetic",
          "textangle": 0,
          "x": 0.9,
          "xanchor": "left",
          "xref": "paper",
          "y": 0.99,
          "yref": "paper"
         }
        ],
        "legend": {
         "title": {
          "text": "alpha"
         },
         "tracegroupgap": 0
        },
        "margin": {
         "t": 60
        },
        "template": {
         "data": {
          "bar": [
           {
            "error_x": {
             "color": "#2a3f5f"
            },
            "error_y": {
             "color": "#2a3f5f"
            },
            "marker": {
             "line": {
              "color": "#E5ECF6",
              "width": 0.5
             },
             "pattern": {
              "fillmode": "overlay",
              "size": 10,
              "solidity": 0.2
             }
            },
            "type": "bar"
           }
          ],
          "barpolar": [
           {
            "marker": {
             "line": {
              "color": "#E5ECF6",
              "width": 0.5
             },
             "pattern": {
              "fillmode": "overlay",
              "size": 10,
              "solidity": 0.2
             }
            },
            "type": "barpolar"
           }
          ],
          "carpet": [
           {
            "aaxis": {
             "endlinecolor": "#2a3f5f",
             "gridcolor": "white",
             "linecolor": "white",
             "minorgridcolor": "white",
             "startlinecolor": "#2a3f5f"
            },
            "baxis": {
             "endlinecolor": "#2a3f5f",
             "gridcolor": "white",
             "linecolor": "white",
             "minorgridcolor": "white",
             "startlinecolor": "#2a3f5f"
            },
            "type": "carpet"
           }
          ],
          "choropleth": [
           {
            "colorbar": {
             "outlinewidth": 0,
             "ticks": ""
            },
            "type": "choropleth"
           }
          ],
          "contour": [
           {
            "colorbar": {
             "outlinewidth": 0,
             "ticks": ""
            },
            "colorscale": [
             [
              0,
              "#0d0887"
             ],
             [
              0.1111111111111111,
              "#46039f"
             ],
             [
              0.2222222222222222,
              "#7201a8"
             ],
             [
              0.3333333333333333,
              "#9c179e"
             ],
             [
              0.4444444444444444,
              "#bd3786"
             ],
             [
              0.5555555555555556,
              "#d8576b"
             ],
             [
              0.6666666666666666,
              "#ed7953"
             ],
             [
              0.7777777777777778,
              "#fb9f3a"
             ],
             [
              0.8888888888888888,
              "#fdca26"
             ],
             [
              1,
              "#f0f921"
             ]
            ],
            "type": "contour"
           }
          ],
          "contourcarpet": [
           {
            "colorbar": {
             "outlinewidth": 0,
             "ticks": ""
            },
            "type": "contourcarpet"
           }
          ],
          "heatmap": [
           {
            "colorbar": {
             "outlinewidth": 0,
             "ticks": ""
            },
            "colorscale": [
             [
              0,
              "#0d0887"
             ],
             [
              0.1111111111111111,
              "#46039f"
             ],
             [
              0.2222222222222222,
              "#7201a8"
             ],
             [
              0.3333333333333333,
              "#9c179e"
             ],
             [
              0.4444444444444444,
              "#bd3786"
             ],
             [
              0.5555555555555556,
              "#d8576b"
             ],
             [
              0.6666666666666666,
              "#ed7953"
             ],
             [
              0.7777777777777778,
              "#fb9f3a"
             ],
             [
              0.8888888888888888,
              "#fdca26"
             ],
             [
              1,
              "#f0f921"
             ]
            ],
            "type": "heatmap"
           }
          ],
          "heatmapgl": [
           {
            "colorbar": {
             "outlinewidth": 0,
             "ticks": ""
            },
            "colorscale": [
             [
              0,
              "#0d0887"
             ],
             [
              0.1111111111111111,
              "#46039f"
             ],
             [
              0.2222222222222222,
              "#7201a8"
             ],
             [
              0.3333333333333333,
              "#9c179e"
             ],
             [
              0.4444444444444444,
              "#bd3786"
             ],
             [
              0.5555555555555556,
              "#d8576b"
             ],
             [
              0.6666666666666666,
              "#ed7953"
             ],
             [
              0.7777777777777778,
              "#fb9f3a"
             ],
             [
              0.8888888888888888,
              "#fdca26"
             ],
             [
              1,
              "#f0f921"
             ]
            ],
            "type": "heatmapgl"
           }
          ],
          "histogram": [
           {
            "marker": {
             "pattern": {
              "fillmode": "overlay",
              "size": 10,
              "solidity": 0.2
             }
            },
            "type": "histogram"
           }
          ],
          "histogram2d": [
           {
            "colorbar": {
             "outlinewidth": 0,
             "ticks": ""
            },
            "colorscale": [
             [
              0,
              "#0d0887"
             ],
             [
              0.1111111111111111,
              "#46039f"
             ],
             [
              0.2222222222222222,
              "#7201a8"
             ],
             [
              0.3333333333333333,
              "#9c179e"
             ],
             [
              0.4444444444444444,
              "#bd3786"
             ],
             [
              0.5555555555555556,
              "#d8576b"
             ],
             [
              0.6666666666666666,
              "#ed7953"
             ],
             [
              0.7777777777777778,
              "#fb9f3a"
             ],
             [
              0.8888888888888888,
              "#fdca26"
             ],
             [
              1,
              "#f0f921"
             ]
            ],
            "type": "histogram2d"
           }
          ],
          "histogram2dcontour": [
           {
            "colorbar": {
             "outlinewidth": 0,
             "ticks": ""
            },
            "colorscale": [
             [
              0,
              "#0d0887"
             ],
             [
              0.1111111111111111,
              "#46039f"
             ],
             [
              0.2222222222222222,
              "#7201a8"
             ],
             [
              0.3333333333333333,
              "#9c179e"
             ],
             [
              0.4444444444444444,
              "#bd3786"
             ],
             [
              0.5555555555555556,
              "#d8576b"
             ],
             [
              0.6666666666666666,
              "#ed7953"
             ],
             [
              0.7777777777777778,
              "#fb9f3a"
             ],
             [
              0.8888888888888888,
              "#fdca26"
             ],
             [
              1,
              "#f0f921"
             ]
            ],
            "type": "histogram2dcontour"
           }
          ],
          "mesh3d": [
           {
            "colorbar": {
             "outlinewidth": 0,
             "ticks": ""
            },
            "type": "mesh3d"
           }
          ],
          "parcoords": [
           {
            "line": {
             "colorbar": {
              "outlinewidth": 0,
              "ticks": ""
             }
            },
            "type": "parcoords"
           }
          ],
          "pie": [
           {
            "automargin": true,
            "type": "pie"
           }
          ],
          "scatter": [
           {
            "fillpattern": {
             "fillmode": "overlay",
             "size": 10,
             "solidity": 0.2
            },
            "type": "scatter"
           }
          ],
          "scatter3d": [
           {
            "line": {
             "colorbar": {
              "outlinewidth": 0,
              "ticks": ""
             }
            },
            "marker": {
             "colorbar": {
              "outlinewidth": 0,
              "ticks": ""
             }
            },
            "type": "scatter3d"
           }
          ],
          "scattercarpet": [
           {
            "marker": {
             "colorbar": {
              "outlinewidth": 0,
              "ticks": ""
             }
            },
            "type": "scattercarpet"
           }
          ],
          "scattergeo": [
           {
            "marker": {
             "colorbar": {
              "outlinewidth": 0,
              "ticks": ""
             }
            },
            "type": "scattergeo"
           }
          ],
          "scattergl": [
           {
            "marker": {
             "colorbar": {
              "outlinewidth": 0,
              "ticks": ""
             }
            },
            "type": "scattergl"
           }
          ],
          "scattermapbox": [
           {
            "marker": {
             "colorbar": {
              "outlinewidth": 0,
              "ticks": ""
             }
            },
            "type": "scattermapbox"
           }
          ],
          "scatterpolar": [
           {
            "marker": {
             "colorbar": {
              "outlinewidth": 0,
              "ticks": ""
             }
            },
            "type": "scatterpolar"
           }
          ],
          "scatterpolargl": [
           {
            "marker": {
             "colorbar": {
              "outlinewidth": 0,
              "ticks": ""
             }
            },
            "type": "scatterpolargl"
           }
          ],
          "scatterternary": [
           {
            "marker": {
             "colorbar": {
              "outlinewidth": 0,
              "ticks": ""
             }
            },
            "type": "scatterternary"
           }
          ],
          "surface": [
           {
            "colorbar": {
             "outlinewidth": 0,
             "ticks": ""
            },
            "colorscale": [
             [
              0,
              "#0d0887"
             ],
             [
              0.1111111111111111,
              "#46039f"
             ],
             [
              0.2222222222222222,
              "#7201a8"
             ],
             [
              0.3333333333333333,
              "#9c179e"
             ],
             [
              0.4444444444444444,
              "#bd3786"
             ],
             [
              0.5555555555555556,
              "#d8576b"
             ],
             [
              0.6666666666666666,
              "#ed7953"
             ],
             [
              0.7777777777777778,
              "#fb9f3a"
             ],
             [
              0.8888888888888888,
              "#fdca26"
             ],
             [
              1,
              "#f0f921"
             ]
            ],
            "type": "surface"
           }
          ],
          "table": [
           {
            "cells": {
             "fill": {
              "color": "#EBF0F8"
             },
             "line": {
              "color": "white"
             }
            },
            "header": {
             "fill": {
              "color": "#C8D4E3"
             },
             "line": {
              "color": "white"
             }
            },
            "type": "table"
           }
          ]
         },
         "layout": {
          "annotationdefaults": {
           "arrowcolor": "#2a3f5f",
           "arrowhead": 0,
           "arrowwidth": 1
          },
          "autotypenumbers": "strict",
          "coloraxis": {
           "colorbar": {
            "outlinewidth": 0,
            "ticks": ""
           }
          },
          "colorscale": {
           "diverging": [
            [
             0,
             "#8e0152"
            ],
            [
             0.1,
             "#c51b7d"
            ],
            [
             0.2,
             "#de77ae"
            ],
            [
             0.3,
             "#f1b6da"
            ],
            [
             0.4,
             "#fde0ef"
            ],
            [
             0.5,
             "#f7f7f7"
            ],
            [
             0.6,
             "#e6f5d0"
            ],
            [
             0.7,
             "#b8e186"
            ],
            [
             0.8,
             "#7fbc41"
            ],
            [
             0.9,
             "#4d9221"
            ],
            [
             1,
             "#276419"
            ]
           ],
           "sequential": [
            [
             0,
             "#0d0887"
            ],
            [
             0.1111111111111111,
             "#46039f"
            ],
            [
             0.2222222222222222,
             "#7201a8"
            ],
            [
             0.3333333333333333,
             "#9c179e"
            ],
            [
             0.4444444444444444,
             "#bd3786"
            ],
            [
             0.5555555555555556,
             "#d8576b"
            ],
            [
             0.6666666666666666,
             "#ed7953"
            ],
            [
             0.7777777777777778,
             "#fb9f3a"
            ],
            [
             0.8888888888888888,
             "#fdca26"
            ],
            [
             1,
             "#f0f921"
            ]
           ],
           "sequentialminus": [
            [
             0,
             "#0d0887"
            ],
            [
             0.1111111111111111,
             "#46039f"
            ],
            [
             0.2222222222222222,
             "#7201a8"
            ],
            [
             0.3333333333333333,
             "#9c179e"
            ],
            [
             0.4444444444444444,
             "#bd3786"
            ],
            [
             0.5555555555555556,
             "#d8576b"
            ],
            [
             0.6666666666666666,
             "#ed7953"
            ],
            [
             0.7777777777777778,
             "#fb9f3a"
            ],
            [
             0.8888888888888888,
             "#fdca26"
            ],
            [
             1,
             "#f0f921"
            ]
           ]
          },
          "colorway": [
           "#636efa",
           "#EF553B",
           "#00cc96",
           "#ab63fa",
           "#FFA15A",
           "#19d3f3",
           "#FF6692",
           "#B6E880",
           "#FF97FF",
           "#FECB52"
          ],
          "font": {
           "color": "#2a3f5f"
          },
          "geo": {
           "bgcolor": "white",
           "lakecolor": "white",
           "landcolor": "#E5ECF6",
           "showlakes": true,
           "showland": true,
           "subunitcolor": "white"
          },
          "hoverlabel": {
           "align": "left"
          },
          "hovermode": "closest",
          "mapbox": {
           "style": "light"
          },
          "paper_bgcolor": "white",
          "plot_bgcolor": "#E5ECF6",
          "polar": {
           "angularaxis": {
            "gridcolor": "white",
            "linecolor": "white",
            "ticks": ""
           },
           "bgcolor": "#E5ECF6",
           "radialaxis": {
            "gridcolor": "white",
            "linecolor": "white",
            "ticks": ""
           }
          },
          "scene": {
           "xaxis": {
            "backgroundcolor": "#E5ECF6",
            "gridcolor": "white",
            "gridwidth": 2,
            "linecolor": "white",
            "showbackground": true,
            "ticks": "",
            "zerolinecolor": "white"
           },
           "yaxis": {
            "backgroundcolor": "#E5ECF6",
            "gridcolor": "white",
            "gridwidth": 2,
            "linecolor": "white",
            "showbackground": true,
            "ticks": "",
            "zerolinecolor": "white"
           },
           "zaxis": {
            "backgroundcolor": "#E5ECF6",
            "gridcolor": "white",
            "gridwidth": 2,
            "linecolor": "white",
            "showbackground": true,
            "ticks": "",
            "zerolinecolor": "white"
           }
          },
          "shapedefaults": {
           "line": {
            "color": "#2a3f5f"
           }
          },
          "ternary": {
           "aaxis": {
            "gridcolor": "white",
            "linecolor": "white",
            "ticks": ""
           },
           "baxis": {
            "gridcolor": "white",
            "linecolor": "white",
            "ticks": ""
           },
           "bgcolor": "#E5ECF6",
           "caxis": {
            "gridcolor": "white",
            "linecolor": "white",
            "ticks": ""
           }
          },
          "title": {
           "x": 0.05
          },
          "xaxis": {
           "automargin": true,
           "gridcolor": "white",
           "linecolor": "white",
           "ticks": "",
           "title": {
            "standoff": 15
           },
           "zerolinecolor": "white",
           "zerolinewidth": 2
          },
          "yaxis": {
           "automargin": true,
           "gridcolor": "white",
           "linecolor": "white",
           "ticks": "",
           "title": {
            "standoff": 15
           },
           "zerolinecolor": "white",
           "zerolinewidth": 2
          }
         }
        },
        "title": {
         "text": "Fairness vs Loss Tradeoff",
         "x": 0.5
        },
        "xaxis": {
         "anchor": "y",
         "domain": [
          0,
          1
         ],
         "title": {
          "text": "ei_disparity_mean"
         }
        },
        "yaxis": {
         "anchor": "x",
         "domain": [
          0,
          1
         ],
         "title": {
          "text": "loss_mean"
         }
        }
       }
      }
     },
     "metadata": {},
     "output_type": "display_data"
    }
   ],
   "source": [
    "fig = px.line(test_results_pareto, x='ei_disparity_mean', y='loss_mean', color='alpha', hover_data='lambda', markers=True)\n",
    "fig.add_annotation(dict(font=dict(color='black',size=10),\n",
    "                                        x=0.9,\n",
    "                                        y=0.99,\n",
    "                                        showarrow=False,\n",
    "                                        text='dataset=synthetic',\n",
    "                                        textangle=0,\n",
    "                                        xanchor='left',\n",
    "                                        xref=\"paper\",\n",
    "                                        yref=\"paper\"))\n",
    "fig.update_layout(title=dict(text='Fairness vs Loss Tradeoff', x=0.5))\n",
    "# fig.update_traces(marker=dict(size=3))\n",
    "fig.show()"
   ]
  }
 ],
 "metadata": {
  "kernelspec": {
   "display_name": ".env",
   "language": "python",
   "name": "python3"
  },
  "language_info": {
   "codemirror_mode": {
    "name": "ipython",
    "version": 3
   },
   "file_extension": ".py",
   "mimetype": "text/x-python",
   "name": "python",
   "nbconvert_exporter": "python",
   "pygments_lexer": "ipython3",
   "version": "3.11.9"
  }
 },
 "nbformat": 4,
 "nbformat_minor": 2
}
