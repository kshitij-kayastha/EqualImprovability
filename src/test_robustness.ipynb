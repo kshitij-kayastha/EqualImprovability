{
 "cells": [
  {
   "cell_type": "code",
   "execution_count": 1,
   "metadata": {},
   "outputs": [],
   "source": [
    "import torch\n",
    "import pickle\n",
    "import numpy as np\n",
    "import pandas as pd\n",
    "import plotly.express as px\n",
    "from copy import deepcopy\n",
    "\n",
    "\n",
    "from model import LR\n",
    "from data import SyntheticDataset, FairnessDataset\n",
    "from ei_model_dev import FairBatch, Covariance\n",
    "from ei_effort import Optimal_Effort, PGD_Effort\n",
    "from ei_utils import *"
   ]
  },
  {
   "cell_type": "code",
   "execution_count": 2,
   "metadata": {},
   "outputs": [],
   "source": [
    "dataset = SyntheticDataset(seed=0)"
   ]
  },
  {
   "cell_type": "code",
   "execution_count": 3,
   "metadata": {},
   "outputs": [],
   "source": [
    "def append_res(d, acc, ei):\n",
    "    d['accuracy'].append(acc)\n",
    "    d['loss'].append(1-acc)\n",
    "    d['ei_disparity'].append(ei)\n",
    "        \n",
    "def get_res(d, hp):\n",
    "    res = {'alpha': [], 'lambda': [], 'delta': [], 'accuracy_mean': [], 'accuracy_std': [], 'loss_mean': [], 'loss_std': [], 'ei_disparity_mean': [], 'ei_disparity_std': []}\n",
    "    res['alpha'].append(hp['alpha'])\n",
    "    res['lambda'].append(hp['lambda'])\n",
    "    res['delta'].append(hp['delta'])\n",
    "    res['accuracy_mean'].append(np.mean(d['accuracy']))\n",
    "    res['accuracy_std'].append(np.std(d['accuracy']))\n",
    "    res['loss_mean'].append(np.mean(d['loss']))\n",
    "    res['loss_std'].append(np.std(d['loss']))\n",
    "    res['ei_disparity_mean'].append(np.mean(d['ei_disparity']))\n",
    "    res['ei_disparity_std'].append(np.std(d['ei_disparity']))\n",
    "    \n",
    "    return res"
   ]
  },
  {
   "cell_type": "code",
   "execution_count": 4,
   "metadata": {},
   "outputs": [],
   "source": [
    "def model_runner(ei_model, dataset, hp, seeds):\n",
    "    tau = 0.5\n",
    "    pga_iter = hp['pga_iter']\n",
    "    metrics = {'accuracy': [], 'loss': [], 'ei_disparity': []}\n",
    "    \n",
    "    if hp['optimal_effort']:\n",
    "        effort = Optimal_Effort(hp['delta'])\n",
    "    else:\n",
    "        effort = PGD_Effort(hp['delta'])\n",
    "    \n",
    "    for seed in seeds:\n",
    "        train_tensors, val_tensors, test_tensors = dataset.tensor(fold=seed, z_blind=hp['z_blind'])\n",
    "        train_dataset = FairnessDataset(*train_tensors, dataset.imp_feats)\n",
    "        val_dataset = FairnessDataset(*val_tensors, dataset.imp_feats)\n",
    "        test_dataset = FairnessDataset(*test_tensors, dataset.imp_feats)\n",
    "        \n",
    "        model = LR(num_features=train_dataset.X.shape[1])\n",
    "        ei_m = ei_model(model, effort, pga_iter, tau)\n",
    "        \n",
    "        ei_m.train(\n",
    "            train_dataset, \n",
    "            lamb=hp['lambda'],\n",
    "            lr=hp['learning_rate'],\n",
    "            alpha=hp['alpha']\n",
    "            )\n",
    "        \n",
    "        Y_hat, Y_hat_max = ei_m.predict(test_dataset, hp['alpha'])\n",
    "        test_acc, test_ei = model_performance(test_dataset.Y.detach().numpy(), test_dataset.Z.detach().numpy(), Y_hat, Y_hat_max, tau)\n",
    "        append_res(metrics, test_acc, test_ei)\n",
    "    \n",
    "    results = get_res(metrics, hp)\n",
    "    \n",
    "    return results"
   ]
  },
  {
   "cell_type": "code",
   "execution_count": 5,
   "metadata": {},
   "outputs": [],
   "source": [
    "def run_tradeoff(ei_model, dataset, hyper_params, seeds):\n",
    "    hp = hyper_params.copy()\n",
    "    results = pd.DataFrame()\n",
    "    \n",
    "    for alpha in hyper_params['alpha']:\n",
    "        for lamb in hyper_params['lambda']:\n",
    "            for delta in hyper_params['delta']:\n",
    "                hp['alpha'] = alpha\n",
    "                hp['lambda'] = lamb\n",
    "                hp['delta'] = delta\n",
    "                \n",
    "                result = model_runner(ei_model, dataset, hp, seeds)\n",
    "                results = pd.concat((results, pd.DataFrame(result)))\n",
    "                print()\n",
    "    \n",
    "    return results"
   ]
  },
  {
   "cell_type": "code",
   "execution_count": 20,
   "metadata": {},
   "outputs": [
    {
     "name": "stderr",
     "output_type": "stream",
     "text": [
      "Training [alpha=0.10; lambda=0.00; delta=0.50]: 100%|\u001b[38;2;0;145;255m██████████\u001b[0m| 100/100 [00:16<00:00,  5.99epochs/s]\n",
      "Training [alpha=0.10; lambda=0.00; delta=0.50]: 100%|\u001b[38;2;0;145;255m██████████\u001b[0m| 100/100 [00:16<00:00,  6.00epochs/s]\n",
      "Training [alpha=0.10; lambda=0.00; delta=0.50]: 100%|\u001b[38;2;0;145;255m██████████\u001b[0m| 100/100 [00:16<00:00,  6.00epochs/s]\n",
      "Training [alpha=0.10; lambda=0.00; delta=0.50]: 100%|\u001b[38;2;0;145;255m██████████\u001b[0m| 100/100 [00:16<00:00,  5.96epochs/s]\n",
      "Training [alpha=0.10; lambda=0.00; delta=0.50]: 100%|\u001b[38;2;0;145;255m██████████\u001b[0m| 100/100 [00:16<00:00,  6.00epochs/s]\n"
     ]
    },
    {
     "name": "stdout",
     "output_type": "stream",
     "text": [
      "\n"
     ]
    },
    {
     "name": "stderr",
     "output_type": "stream",
     "text": [
      "Training [alpha=0.10; lambda=0.06; delta=0.50]: 100%|\u001b[38;2;0;145;255m██████████\u001b[0m| 100/100 [00:16<00:00,  5.99epochs/s]\n",
      "Training [alpha=0.10; lambda=0.06; delta=0.50]: 100%|\u001b[38;2;0;145;255m██████████\u001b[0m| 100/100 [00:16<00:00,  6.04epochs/s]\n",
      "Training [alpha=0.10; lambda=0.06; delta=0.50]: 100%|\u001b[38;2;0;145;255m██████████\u001b[0m| 100/100 [00:16<00:00,  6.00epochs/s]\n",
      "Training [alpha=0.10; lambda=0.06; delta=0.50]: 100%|\u001b[38;2;0;145;255m██████████\u001b[0m| 100/100 [00:16<00:00,  6.04epochs/s]\n",
      "Training [alpha=0.10; lambda=0.06; delta=0.50]: 100%|\u001b[38;2;0;145;255m██████████\u001b[0m| 100/100 [00:16<00:00,  5.99epochs/s]\n"
     ]
    },
    {
     "name": "stdout",
     "output_type": "stream",
     "text": [
      "\n"
     ]
    },
    {
     "name": "stderr",
     "output_type": "stream",
     "text": [
      "Training [alpha=0.10; lambda=0.12; delta=0.50]: 100%|\u001b[38;2;0;145;255m██████████\u001b[0m| 100/100 [00:16<00:00,  6.07epochs/s]\n",
      "Training [alpha=0.10; lambda=0.12; delta=0.50]: 100%|\u001b[38;2;0;145;255m██████████\u001b[0m| 100/100 [00:16<00:00,  6.03epochs/s]\n",
      "Training [alpha=0.10; lambda=0.12; delta=0.50]: 100%|\u001b[38;2;0;145;255m██████████\u001b[0m| 100/100 [00:16<00:00,  6.02epochs/s]\n",
      "Training [alpha=0.10; lambda=0.12; delta=0.50]: 100%|\u001b[38;2;0;145;255m██████████\u001b[0m| 100/100 [00:16<00:00,  6.05epochs/s]\n",
      "Training [alpha=0.10; lambda=0.12; delta=0.50]: 100%|\u001b[38;2;0;145;255m██████████\u001b[0m| 100/100 [00:16<00:00,  5.97epochs/s]\n"
     ]
    },
    {
     "name": "stdout",
     "output_type": "stream",
     "text": [
      "\n"
     ]
    },
    {
     "name": "stderr",
     "output_type": "stream",
     "text": [
      "Training [alpha=0.10; lambda=0.19; delta=0.50]: 100%|\u001b[38;2;0;145;255m██████████\u001b[0m| 100/100 [00:16<00:00,  6.03epochs/s]\n",
      "Training [alpha=0.10; lambda=0.19; delta=0.50]: 100%|\u001b[38;2;0;145;255m██████████\u001b[0m| 100/100 [00:16<00:00,  5.97epochs/s]\n",
      "Training [alpha=0.10; lambda=0.19; delta=0.50]: 100%|\u001b[38;2;0;145;255m██████████\u001b[0m| 100/100 [00:16<00:00,  6.00epochs/s]\n",
      "Training [alpha=0.10; lambda=0.19; delta=0.50]: 100%|\u001b[38;2;0;145;255m██████████\u001b[0m| 100/100 [00:16<00:00,  6.04epochs/s]\n",
      "Training [alpha=0.10; lambda=0.19; delta=0.50]: 100%|\u001b[38;2;0;145;255m██████████\u001b[0m| 100/100 [00:16<00:00,  6.02epochs/s]\n"
     ]
    },
    {
     "name": "stdout",
     "output_type": "stream",
     "text": [
      "\n"
     ]
    },
    {
     "name": "stderr",
     "output_type": "stream",
     "text": [
      "Training [alpha=0.10; lambda=0.25; delta=0.50]: 100%|\u001b[38;2;0;145;255m██████████\u001b[0m| 100/100 [00:16<00:00,  6.04epochs/s]\n",
      "Training [alpha=0.10; lambda=0.25; delta=0.50]: 100%|\u001b[38;2;0;145;255m██████████\u001b[0m| 100/100 [00:16<00:00,  6.01epochs/s]\n",
      "Training [alpha=0.10; lambda=0.25; delta=0.50]: 100%|\u001b[38;2;0;145;255m██████████\u001b[0m| 100/100 [00:16<00:00,  6.05epochs/s]\n",
      "Training [alpha=0.10; lambda=0.25; delta=0.50]: 100%|\u001b[38;2;0;145;255m██████████\u001b[0m| 100/100 [00:16<00:00,  6.03epochs/s]\n",
      "Training [alpha=0.10; lambda=0.25; delta=0.50]: 100%|\u001b[38;2;0;145;255m██████████\u001b[0m| 100/100 [00:16<00:00,  6.04epochs/s]\n"
     ]
    },
    {
     "name": "stdout",
     "output_type": "stream",
     "text": [
      "\n"
     ]
    },
    {
     "name": "stderr",
     "output_type": "stream",
     "text": [
      "Training [alpha=1.50; lambda=0.00; delta=0.50]: 100%|\u001b[38;2;0;145;255m██████████\u001b[0m| 100/100 [00:16<00:00,  6.00epochs/s]\n",
      "Training [alpha=1.50; lambda=0.00; delta=0.50]: 100%|\u001b[38;2;0;145;255m██████████\u001b[0m| 100/100 [00:16<00:00,  6.00epochs/s]\n",
      "Training [alpha=1.50; lambda=0.00; delta=0.50]: 100%|\u001b[38;2;0;145;255m██████████\u001b[0m| 100/100 [00:16<00:00,  6.01epochs/s]\n",
      "Training [alpha=1.50; lambda=0.00; delta=0.50]: 100%|\u001b[38;2;0;145;255m██████████\u001b[0m| 100/100 [00:16<00:00,  6.01epochs/s]\n",
      "Training [alpha=1.50; lambda=0.00; delta=0.50]: 100%|\u001b[38;2;0;145;255m██████████\u001b[0m| 100/100 [00:16<00:00,  5.99epochs/s]\n"
     ]
    },
    {
     "name": "stdout",
     "output_type": "stream",
     "text": [
      "\n"
     ]
    },
    {
     "name": "stderr",
     "output_type": "stream",
     "text": [
      "Training [alpha=1.50; lambda=0.06; delta=0.50]: 100%|\u001b[38;2;0;145;255m██████████\u001b[0m| 100/100 [00:16<00:00,  6.03epochs/s]\n",
      "Training [alpha=1.50; lambda=0.06; delta=0.50]: 100%|\u001b[38;2;0;145;255m██████████\u001b[0m| 100/100 [00:16<00:00,  6.04epochs/s]\n",
      "Training [alpha=1.50; lambda=0.06; delta=0.50]: 100%|\u001b[38;2;0;145;255m██████████\u001b[0m| 100/100 [00:16<00:00,  6.01epochs/s]\n",
      "Training [alpha=1.50; lambda=0.06; delta=0.50]: 100%|\u001b[38;2;0;145;255m██████████\u001b[0m| 100/100 [00:16<00:00,  6.03epochs/s]\n",
      "Training [alpha=1.50; lambda=0.06; delta=0.50]: 100%|\u001b[38;2;0;145;255m██████████\u001b[0m| 100/100 [00:16<00:00,  6.03epochs/s]\n"
     ]
    },
    {
     "name": "stdout",
     "output_type": "stream",
     "text": [
      "\n"
     ]
    },
    {
     "name": "stderr",
     "output_type": "stream",
     "text": [
      "Training [alpha=1.50; lambda=0.12; delta=0.50]: 100%|\u001b[38;2;0;145;255m██████████\u001b[0m| 100/100 [00:16<00:00,  6.01epochs/s]\n",
      "Training [alpha=1.50; lambda=0.12; delta=0.50]: 100%|\u001b[38;2;0;145;255m██████████\u001b[0m| 100/100 [00:16<00:00,  6.01epochs/s]\n",
      "Training [alpha=1.50; lambda=0.12; delta=0.50]: 100%|\u001b[38;2;0;145;255m██████████\u001b[0m| 100/100 [00:16<00:00,  6.03epochs/s]\n",
      "Training [alpha=1.50; lambda=0.12; delta=0.50]: 100%|\u001b[38;2;0;145;255m██████████\u001b[0m| 100/100 [00:16<00:00,  5.97epochs/s]\n",
      "Training [alpha=1.50; lambda=0.12; delta=0.50]: 100%|\u001b[38;2;0;145;255m██████████\u001b[0m| 100/100 [00:16<00:00,  5.98epochs/s]\n"
     ]
    },
    {
     "name": "stdout",
     "output_type": "stream",
     "text": [
      "\n"
     ]
    },
    {
     "name": "stderr",
     "output_type": "stream",
     "text": [
      "Training [alpha=1.50; lambda=0.19; delta=0.50]: 100%|\u001b[38;2;0;145;255m██████████\u001b[0m| 100/100 [00:16<00:00,  5.98epochs/s]\n",
      "Training [alpha=1.50; lambda=0.19; delta=0.50]: 100%|\u001b[38;2;0;145;255m██████████\u001b[0m| 100/100 [00:16<00:00,  5.95epochs/s]\n",
      "Training [alpha=1.50; lambda=0.19; delta=0.50]: 100%|\u001b[38;2;0;145;255m██████████\u001b[0m| 100/100 [00:20<00:00,  4.91epochs/s]\n",
      "Training [alpha=1.50; lambda=0.19; delta=0.50]: 100%|\u001b[38;2;0;145;255m██████████\u001b[0m| 100/100 [00:17<00:00,  5.65epochs/s]\n",
      "Training [alpha=1.50; lambda=0.19; delta=0.50]: 100%|\u001b[38;2;0;145;255m██████████\u001b[0m| 100/100 [00:16<00:00,  5.98epochs/s]\n"
     ]
    },
    {
     "name": "stdout",
     "output_type": "stream",
     "text": [
      "\n"
     ]
    },
    {
     "name": "stderr",
     "output_type": "stream",
     "text": [
      "Training [alpha=1.50; lambda=0.25; delta=0.50]: 100%|\u001b[38;2;0;145;255m██████████\u001b[0m| 100/100 [00:17<00:00,  5.68epochs/s]\n",
      "Training [alpha=1.50; lambda=0.25; delta=0.50]: 100%|\u001b[38;2;0;145;255m██████████\u001b[0m| 100/100 [00:16<00:00,  5.98epochs/s]\n",
      "Training [alpha=1.50; lambda=0.25; delta=0.50]: 100%|\u001b[38;2;0;145;255m██████████\u001b[0m| 100/100 [00:16<00:00,  5.96epochs/s]\n",
      "Training [alpha=1.50; lambda=0.25; delta=0.50]: 100%|\u001b[38;2;0;145;255m██████████\u001b[0m| 100/100 [00:17<00:00,  5.88epochs/s]\n",
      "Training [alpha=1.50; lambda=0.25; delta=0.50]: 100%|\u001b[38;2;0;145;255m██████████\u001b[0m| 100/100 [00:16<00:00,  6.02epochs/s]"
     ]
    },
    {
     "name": "stdout",
     "output_type": "stream",
     "text": [
      "\n"
     ]
    },
    {
     "name": "stderr",
     "output_type": "stream",
     "text": [
      "\n"
     ]
    }
   ],
   "source": [
    "# Hyperparameters\n",
    "hyper_params = {}\n",
    "hyper_params['delta'] = [0.5]\n",
    "hyper_params['alpha'] = [0., 0.1, 1.5]\n",
    "hyper_params['learning_rate'] = 0.01\n",
    "hyper_params['pga_iter'] = 20\n",
    "hyper_params['z_blind'] = False\n",
    "hyper_params['optimal_effort'] = True # True only for Synthetic Data\n",
    "\n",
    "# 5-Fold Cross Validation\n",
    "seeds = list(range(5))\n",
    "\n",
    "# EI Proxy (set ei_proxy to FairBatch or Covariance)\n",
    "ei_proxy = 'FairBatch'\n",
    "\n",
    "if ei_proxy == 'FairBatch':\n",
    "    ei_model = FairBatch\n",
    "    hyper_params['lambda'] = np.linspace(0., 0.25, 10) # FairBatch lambdas\n",
    "    # hyper_params['lambda'] = [0.88] # lambda value that minimizes ei for FairBatch\n",
    "elif ei_proxy == 'Covariance':\n",
    "    ei_model = Covariance\n",
    "    hyper_params['lambda'] = 1-np.geomspace(0.001,0.999, 20) # Covariance lambdas\n",
    "    # hyper_params['lambda'] = [0.991144] # lambda value that minimizes ei for Covariance\n",
    "\n",
    "# Run tradeoffs\n",
    "results = run_tradeoff(ei_model, dataset, hyper_params, seeds)\n",
    "results['alpha'] = results['alpha'].astype(str)"
   ]
  },
  {
   "cell_type": "code",
   "execution_count": 21,
   "metadata": {},
   "outputs": [
    {
     "data": {
      "text/html": [
       "<div>\n",
       "<style scoped>\n",
       "    .dataframe tbody tr th:only-of-type {\n",
       "        vertical-align: middle;\n",
       "    }\n",
       "\n",
       "    .dataframe tbody tr th {\n",
       "        vertical-align: top;\n",
       "    }\n",
       "\n",
       "    .dataframe thead th {\n",
       "        text-align: right;\n",
       "    }\n",
       "</style>\n",
       "<table border=\"1\" class=\"dataframe\">\n",
       "  <thead>\n",
       "    <tr style=\"text-align: right;\">\n",
       "      <th></th>\n",
       "      <th>alpha</th>\n",
       "      <th>lambda</th>\n",
       "      <th>delta</th>\n",
       "      <th>loss_mean</th>\n",
       "      <th>loss_std</th>\n",
       "      <th>ei_disparity_mean</th>\n",
       "      <th>ei_disparity_std</th>\n",
       "    </tr>\n",
       "  </thead>\n",
       "  <tbody>\n",
       "    <tr>\n",
       "      <th>0</th>\n",
       "      <td>0.1</td>\n",
       "      <td>0.0000</td>\n",
       "      <td>0.5</td>\n",
       "      <td>0.21350</td>\n",
       "      <td>0.002495</td>\n",
       "      <td>0.159252</td>\n",
       "      <td>0.015256</td>\n",
       "    </tr>\n",
       "    <tr>\n",
       "      <th>0</th>\n",
       "      <td>0.1</td>\n",
       "      <td>0.0625</td>\n",
       "      <td>0.5</td>\n",
       "      <td>0.21350</td>\n",
       "      <td>0.002424</td>\n",
       "      <td>0.159202</td>\n",
       "      <td>0.014907</td>\n",
       "    </tr>\n",
       "    <tr>\n",
       "      <th>0</th>\n",
       "      <td>0.1</td>\n",
       "      <td>0.1250</td>\n",
       "      <td>0.5</td>\n",
       "      <td>0.21330</td>\n",
       "      <td>0.002542</td>\n",
       "      <td>0.159145</td>\n",
       "      <td>0.015075</td>\n",
       "    </tr>\n",
       "    <tr>\n",
       "      <th>0</th>\n",
       "      <td>0.1</td>\n",
       "      <td>0.1875</td>\n",
       "      <td>0.5</td>\n",
       "      <td>0.21350</td>\n",
       "      <td>0.002490</td>\n",
       "      <td>0.159222</td>\n",
       "      <td>0.015063</td>\n",
       "    </tr>\n",
       "    <tr>\n",
       "      <th>0</th>\n",
       "      <td>0.1</td>\n",
       "      <td>0.2500</td>\n",
       "      <td>0.5</td>\n",
       "      <td>0.21340</td>\n",
       "      <td>0.002478</td>\n",
       "      <td>0.158971</td>\n",
       "      <td>0.014984</td>\n",
       "    </tr>\n",
       "    <tr>\n",
       "      <th>0</th>\n",
       "      <td>1.5</td>\n",
       "      <td>0.0000</td>\n",
       "      <td>0.5</td>\n",
       "      <td>0.21355</td>\n",
       "      <td>0.002452</td>\n",
       "      <td>0.189298</td>\n",
       "      <td>0.015501</td>\n",
       "    </tr>\n",
       "    <tr>\n",
       "      <th>0</th>\n",
       "      <td>1.5</td>\n",
       "      <td>0.0625</td>\n",
       "      <td>0.5</td>\n",
       "      <td>0.21335</td>\n",
       "      <td>0.002562</td>\n",
       "      <td>0.189382</td>\n",
       "      <td>0.015895</td>\n",
       "    </tr>\n",
       "    <tr>\n",
       "      <th>0</th>\n",
       "      <td>1.5</td>\n",
       "      <td>0.1250</td>\n",
       "      <td>0.5</td>\n",
       "      <td>0.21335</td>\n",
       "      <td>0.002562</td>\n",
       "      <td>0.189694</td>\n",
       "      <td>0.014940</td>\n",
       "    </tr>\n",
       "    <tr>\n",
       "      <th>0</th>\n",
       "      <td>1.5</td>\n",
       "      <td>0.1875</td>\n",
       "      <td>0.5</td>\n",
       "      <td>0.21345</td>\n",
       "      <td>0.002614</td>\n",
       "      <td>0.189800</td>\n",
       "      <td>0.015960</td>\n",
       "    </tr>\n",
       "    <tr>\n",
       "      <th>0</th>\n",
       "      <td>1.5</td>\n",
       "      <td>0.2500</td>\n",
       "      <td>0.5</td>\n",
       "      <td>0.21325</td>\n",
       "      <td>0.002622</td>\n",
       "      <td>0.189973</td>\n",
       "      <td>0.015924</td>\n",
       "    </tr>\n",
       "  </tbody>\n",
       "</table>\n",
       "</div>"
      ],
      "text/plain": [
       "  alpha  lambda  delta  loss_mean  loss_std  ei_disparity_mean  \\\n",
       "0   0.1  0.0000    0.5    0.21350  0.002495           0.159252   \n",
       "0   0.1  0.0625    0.5    0.21350  0.002424           0.159202   \n",
       "0   0.1  0.1250    0.5    0.21330  0.002542           0.159145   \n",
       "0   0.1  0.1875    0.5    0.21350  0.002490           0.159222   \n",
       "0   0.1  0.2500    0.5    0.21340  0.002478           0.158971   \n",
       "0   1.5  0.0000    0.5    0.21355  0.002452           0.189298   \n",
       "0   1.5  0.0625    0.5    0.21335  0.002562           0.189382   \n",
       "0   1.5  0.1250    0.5    0.21335  0.002562           0.189694   \n",
       "0   1.5  0.1875    0.5    0.21345  0.002614           0.189800   \n",
       "0   1.5  0.2500    0.5    0.21325  0.002622           0.189973   \n",
       "\n",
       "   ei_disparity_std  \n",
       "0          0.015256  \n",
       "0          0.014907  \n",
       "0          0.015075  \n",
       "0          0.015063  \n",
       "0          0.014984  \n",
       "0          0.015501  \n",
       "0          0.015895  \n",
       "0          0.014940  \n",
       "0          0.015960  \n",
       "0          0.015924  "
      ]
     },
     "execution_count": 21,
     "metadata": {},
     "output_type": "execute_result"
    }
   ],
   "source": [
    "results[['alpha', 'lambda', 'delta', 'loss_mean', 'loss_std', 'ei_disparity_mean', 'ei_disparity_std']]"
   ]
  },
  {
   "cell_type": "code",
   "execution_count": 8,
   "metadata": {},
   "outputs": [],
   "source": [
    "# Uncomment this to save the results\n",
    "# results.to_pickle(f'robust_ei_tradeoff_{proxy.lower()}_synthetic_data_5crossval.pkl')"
   ]
  },
  {
   "cell_type": "code",
   "execution_count": 22,
   "metadata": {},
   "outputs": [],
   "source": [
    "# Compute the pareto frontier\n",
    "results_pareto = pd.DataFrame()\n",
    "for alpha in results['alpha'].unique():\n",
    "    test_results_alpha = results[results['alpha'] == alpha]\n",
    "    mask = pareto_frontier(test_results_alpha['loss_mean'], test_results_alpha['ei_disparity_mean'])\n",
    "    results_alpha_pareto = test_results_alpha.iloc[mask]\n",
    "    results_pareto = pd.concat((results_pareto, results_alpha_pareto.sort_values('ei_disparity_mean')))"
   ]
  },
  {
   "cell_type": "code",
   "execution_count": 24,
   "metadata": {},
   "outputs": [
    {
     "data": {
      "application/vnd.plotly.v1+json": {
       "config": {
        "plotlyServerURL": "https://plot.ly"
       },
       "data": [
        {
         "customdata": [
          [
           0
          ],
          [
           0.0625
          ],
          [
           0.125
          ],
          [
           0.1875
          ],
          [
           0.25
          ]
         ],
         "hovertemplate": "alpha=0.1<br>ei_disparity_mean=%{x}<br>loss_mean=%{y}<br>lambda=%{customdata[0]}<extra></extra>",
         "legendgroup": "0.1",
         "line": {
          "color": "#636efa",
          "dash": "solid"
         },
         "marker": {
          "size": 3,
          "symbol": "circle"
         },
         "mode": "lines+markers",
         "name": "0.1",
         "orientation": "v",
         "showlegend": true,
         "type": "scatter",
         "x": [
          0.15925186145528042,
          0.15920177237656966,
          0.1591454763349336,
          0.15922196071502662,
          0.15897141644877794
         ],
         "xaxis": "x",
         "y": [
          0.21349999999999997,
          0.21349999999999997,
          0.2133,
          0.21349999999999997,
          0.21340000000000003
         ],
         "yaxis": "y"
        },
        {
         "customdata": [
          [
           0
          ],
          [
           0.0625
          ],
          [
           0.125
          ],
          [
           0.1875
          ],
          [
           0.25
          ]
         ],
         "hovertemplate": "alpha=1.5<br>ei_disparity_mean=%{x}<br>loss_mean=%{y}<br>lambda=%{customdata[0]}<extra></extra>",
         "legendgroup": "1.5",
         "line": {
          "color": "#EF553B",
          "dash": "solid"
         },
         "marker": {
          "size": 3,
          "symbol": "circle"
         },
         "mode": "lines+markers",
         "name": "1.5",
         "orientation": "v",
         "showlegend": true,
         "type": "scatter",
         "x": [
          0.189297771352725,
          0.18938235629659342,
          0.1896944226125056,
          0.18979988025509179,
          0.18997316956526641
         ],
         "xaxis": "x",
         "y": [
          0.21355,
          0.21334999999999998,
          0.21334999999999998,
          0.21345,
          0.21325
         ],
         "yaxis": "y"
        }
       ],
       "layout": {
        "annotations": [
         {
          "font": {
           "color": "black",
           "size": 10
          },
          "showarrow": false,
          "text": "dataset=synthetic",
          "textangle": 0,
          "x": 0.9,
          "xanchor": "left",
          "xref": "paper",
          "y": 0.99,
          "yref": "paper"
         }
        ],
        "legend": {
         "title": {
          "text": "alpha"
         },
         "tracegroupgap": 0
        },
        "margin": {
         "t": 60
        },
        "template": {
         "data": {
          "bar": [
           {
            "error_x": {
             "color": "#2a3f5f"
            },
            "error_y": {
             "color": "#2a3f5f"
            },
            "marker": {
             "line": {
              "color": "#E5ECF6",
              "width": 0.5
             },
             "pattern": {
              "fillmode": "overlay",
              "size": 10,
              "solidity": 0.2
             }
            },
            "type": "bar"
           }
          ],
          "barpolar": [
           {
            "marker": {
             "line": {
              "color": "#E5ECF6",
              "width": 0.5
             },
             "pattern": {
              "fillmode": "overlay",
              "size": 10,
              "solidity": 0.2
             }
            },
            "type": "barpolar"
           }
          ],
          "carpet": [
           {
            "aaxis": {
             "endlinecolor": "#2a3f5f",
             "gridcolor": "white",
             "linecolor": "white",
             "minorgridcolor": "white",
             "startlinecolor": "#2a3f5f"
            },
            "baxis": {
             "endlinecolor": "#2a3f5f",
             "gridcolor": "white",
             "linecolor": "white",
             "minorgridcolor": "white",
             "startlinecolor": "#2a3f5f"
            },
            "type": "carpet"
           }
          ],
          "choropleth": [
           {
            "colorbar": {
             "outlinewidth": 0,
             "ticks": ""
            },
            "type": "choropleth"
           }
          ],
          "contour": [
           {
            "colorbar": {
             "outlinewidth": 0,
             "ticks": ""
            },
            "colorscale": [
             [
              0,
              "#0d0887"
             ],
             [
              0.1111111111111111,
              "#46039f"
             ],
             [
              0.2222222222222222,
              "#7201a8"
             ],
             [
              0.3333333333333333,
              "#9c179e"
             ],
             [
              0.4444444444444444,
              "#bd3786"
             ],
             [
              0.5555555555555556,
              "#d8576b"
             ],
             [
              0.6666666666666666,
              "#ed7953"
             ],
             [
              0.7777777777777778,
              "#fb9f3a"
             ],
             [
              0.8888888888888888,
              "#fdca26"
             ],
             [
              1,
              "#f0f921"
             ]
            ],
            "type": "contour"
           }
          ],
          "contourcarpet": [
           {
            "colorbar": {
             "outlinewidth": 0,
             "ticks": ""
            },
            "type": "contourcarpet"
           }
          ],
          "heatmap": [
           {
            "colorbar": {
             "outlinewidth": 0,
             "ticks": ""
            },
            "colorscale": [
             [
              0,
              "#0d0887"
             ],
             [
              0.1111111111111111,
              "#46039f"
             ],
             [
              0.2222222222222222,
              "#7201a8"
             ],
             [
              0.3333333333333333,
              "#9c179e"
             ],
             [
              0.4444444444444444,
              "#bd3786"
             ],
             [
              0.5555555555555556,
              "#d8576b"
             ],
             [
              0.6666666666666666,
              "#ed7953"
             ],
             [
              0.7777777777777778,
              "#fb9f3a"
             ],
             [
              0.8888888888888888,
              "#fdca26"
             ],
             [
              1,
              "#f0f921"
             ]
            ],
            "type": "heatmap"
           }
          ],
          "heatmapgl": [
           {
            "colorbar": {
             "outlinewidth": 0,
             "ticks": ""
            },
            "colorscale": [
             [
              0,
              "#0d0887"
             ],
             [
              0.1111111111111111,
              "#46039f"
             ],
             [
              0.2222222222222222,
              "#7201a8"
             ],
             [
              0.3333333333333333,
              "#9c179e"
             ],
             [
              0.4444444444444444,
              "#bd3786"
             ],
             [
              0.5555555555555556,
              "#d8576b"
             ],
             [
              0.6666666666666666,
              "#ed7953"
             ],
             [
              0.7777777777777778,
              "#fb9f3a"
             ],
             [
              0.8888888888888888,
              "#fdca26"
             ],
             [
              1,
              "#f0f921"
             ]
            ],
            "type": "heatmapgl"
           }
          ],
          "histogram": [
           {
            "marker": {
             "pattern": {
              "fillmode": "overlay",
              "size": 10,
              "solidity": 0.2
             }
            },
            "type": "histogram"
           }
          ],
          "histogram2d": [
           {
            "colorbar": {
             "outlinewidth": 0,
             "ticks": ""
            },
            "colorscale": [
             [
              0,
              "#0d0887"
             ],
             [
              0.1111111111111111,
              "#46039f"
             ],
             [
              0.2222222222222222,
              "#7201a8"
             ],
             [
              0.3333333333333333,
              "#9c179e"
             ],
             [
              0.4444444444444444,
              "#bd3786"
             ],
             [
              0.5555555555555556,
              "#d8576b"
             ],
             [
              0.6666666666666666,
              "#ed7953"
             ],
             [
              0.7777777777777778,
              "#fb9f3a"
             ],
             [
              0.8888888888888888,
              "#fdca26"
             ],
             [
              1,
              "#f0f921"
             ]
            ],
            "type": "histogram2d"
           }
          ],
          "histogram2dcontour": [
           {
            "colorbar": {
             "outlinewidth": 0,
             "ticks": ""
            },
            "colorscale": [
             [
              0,
              "#0d0887"
             ],
             [
              0.1111111111111111,
              "#46039f"
             ],
             [
              0.2222222222222222,
              "#7201a8"
             ],
             [
              0.3333333333333333,
              "#9c179e"
             ],
             [
              0.4444444444444444,
              "#bd3786"
             ],
             [
              0.5555555555555556,
              "#d8576b"
             ],
             [
              0.6666666666666666,
              "#ed7953"
             ],
             [
              0.7777777777777778,
              "#fb9f3a"
             ],
             [
              0.8888888888888888,
              "#fdca26"
             ],
             [
              1,
              "#f0f921"
             ]
            ],
            "type": "histogram2dcontour"
           }
          ],
          "mesh3d": [
           {
            "colorbar": {
             "outlinewidth": 0,
             "ticks": ""
            },
            "type": "mesh3d"
           }
          ],
          "parcoords": [
           {
            "line": {
             "colorbar": {
              "outlinewidth": 0,
              "ticks": ""
             }
            },
            "type": "parcoords"
           }
          ],
          "pie": [
           {
            "automargin": true,
            "type": "pie"
           }
          ],
          "scatter": [
           {
            "fillpattern": {
             "fillmode": "overlay",
             "size": 10,
             "solidity": 0.2
            },
            "type": "scatter"
           }
          ],
          "scatter3d": [
           {
            "line": {
             "colorbar": {
              "outlinewidth": 0,
              "ticks": ""
             }
            },
            "marker": {
             "colorbar": {
              "outlinewidth": 0,
              "ticks": ""
             }
            },
            "type": "scatter3d"
           }
          ],
          "scattercarpet": [
           {
            "marker": {
             "colorbar": {
              "outlinewidth": 0,
              "ticks": ""
             }
            },
            "type": "scattercarpet"
           }
          ],
          "scattergeo": [
           {
            "marker": {
             "colorbar": {
              "outlinewidth": 0,
              "ticks": ""
             }
            },
            "type": "scattergeo"
           }
          ],
          "scattergl": [
           {
            "marker": {
             "colorbar": {
              "outlinewidth": 0,
              "ticks": ""
             }
            },
            "type": "scattergl"
           }
          ],
          "scattermapbox": [
           {
            "marker": {
             "colorbar": {
              "outlinewidth": 0,
              "ticks": ""
             }
            },
            "type": "scattermapbox"
           }
          ],
          "scatterpolar": [
           {
            "marker": {
             "colorbar": {
              "outlinewidth": 0,
              "ticks": ""
             }
            },
            "type": "scatterpolar"
           }
          ],
          "scatterpolargl": [
           {
            "marker": {
             "colorbar": {
              "outlinewidth": 0,
              "ticks": ""
             }
            },
            "type": "scatterpolargl"
           }
          ],
          "scatterternary": [
           {
            "marker": {
             "colorbar": {
              "outlinewidth": 0,
              "ticks": ""
             }
            },
            "type": "scatterternary"
           }
          ],
          "surface": [
           {
            "colorbar": {
             "outlinewidth": 0,
             "ticks": ""
            },
            "colorscale": [
             [
              0,
              "#0d0887"
             ],
             [
              0.1111111111111111,
              "#46039f"
             ],
             [
              0.2222222222222222,
              "#7201a8"
             ],
             [
              0.3333333333333333,
              "#9c179e"
             ],
             [
              0.4444444444444444,
              "#bd3786"
             ],
             [
              0.5555555555555556,
              "#d8576b"
             ],
             [
              0.6666666666666666,
              "#ed7953"
             ],
             [
              0.7777777777777778,
              "#fb9f3a"
             ],
             [
              0.8888888888888888,
              "#fdca26"
             ],
             [
              1,
              "#f0f921"
             ]
            ],
            "type": "surface"
           }
          ],
          "table": [
           {
            "cells": {
             "fill": {
              "color": "#EBF0F8"
             },
             "line": {
              "color": "white"
             }
            },
            "header": {
             "fill": {
              "color": "#C8D4E3"
             },
             "line": {
              "color": "white"
             }
            },
            "type": "table"
           }
          ]
         },
         "layout": {
          "annotationdefaults": {
           "arrowcolor": "#2a3f5f",
           "arrowhead": 0,
           "arrowwidth": 1
          },
          "autotypenumbers": "strict",
          "coloraxis": {
           "colorbar": {
            "outlinewidth": 0,
            "ticks": ""
           }
          },
          "colorscale": {
           "diverging": [
            [
             0,
             "#8e0152"
            ],
            [
             0.1,
             "#c51b7d"
            ],
            [
             0.2,
             "#de77ae"
            ],
            [
             0.3,
             "#f1b6da"
            ],
            [
             0.4,
             "#fde0ef"
            ],
            [
             0.5,
             "#f7f7f7"
            ],
            [
             0.6,
             "#e6f5d0"
            ],
            [
             0.7,
             "#b8e186"
            ],
            [
             0.8,
             "#7fbc41"
            ],
            [
             0.9,
             "#4d9221"
            ],
            [
             1,
             "#276419"
            ]
           ],
           "sequential": [
            [
             0,
             "#0d0887"
            ],
            [
             0.1111111111111111,
             "#46039f"
            ],
            [
             0.2222222222222222,
             "#7201a8"
            ],
            [
             0.3333333333333333,
             "#9c179e"
            ],
            [
             0.4444444444444444,
             "#bd3786"
            ],
            [
             0.5555555555555556,
             "#d8576b"
            ],
            [
             0.6666666666666666,
             "#ed7953"
            ],
            [
             0.7777777777777778,
             "#fb9f3a"
            ],
            [
             0.8888888888888888,
             "#fdca26"
            ],
            [
             1,
             "#f0f921"
            ]
           ],
           "sequentialminus": [
            [
             0,
             "#0d0887"
            ],
            [
             0.1111111111111111,
             "#46039f"
            ],
            [
             0.2222222222222222,
             "#7201a8"
            ],
            [
             0.3333333333333333,
             "#9c179e"
            ],
            [
             0.4444444444444444,
             "#bd3786"
            ],
            [
             0.5555555555555556,
             "#d8576b"
            ],
            [
             0.6666666666666666,
             "#ed7953"
            ],
            [
             0.7777777777777778,
             "#fb9f3a"
            ],
            [
             0.8888888888888888,
             "#fdca26"
            ],
            [
             1,
             "#f0f921"
            ]
           ]
          },
          "colorway": [
           "#636efa",
           "#EF553B",
           "#00cc96",
           "#ab63fa",
           "#FFA15A",
           "#19d3f3",
           "#FF6692",
           "#B6E880",
           "#FF97FF",
           "#FECB52"
          ],
          "font": {
           "color": "#2a3f5f"
          },
          "geo": {
           "bgcolor": "white",
           "lakecolor": "white",
           "landcolor": "#E5ECF6",
           "showlakes": true,
           "showland": true,
           "subunitcolor": "white"
          },
          "hoverlabel": {
           "align": "left"
          },
          "hovermode": "closest",
          "mapbox": {
           "style": "light"
          },
          "paper_bgcolor": "white",
          "plot_bgcolor": "#E5ECF6",
          "polar": {
           "angularaxis": {
            "gridcolor": "white",
            "linecolor": "white",
            "ticks": ""
           },
           "bgcolor": "#E5ECF6",
           "radialaxis": {
            "gridcolor": "white",
            "linecolor": "white",
            "ticks": ""
           }
          },
          "scene": {
           "xaxis": {
            "backgroundcolor": "#E5ECF6",
            "gridcolor": "white",
            "gridwidth": 2,
            "linecolor": "white",
            "showbackground": true,
            "ticks": "",
            "zerolinecolor": "white"
           },
           "yaxis": {
            "backgroundcolor": "#E5ECF6",
            "gridcolor": "white",
            "gridwidth": 2,
            "linecolor": "white",
            "showbackground": true,
            "ticks": "",
            "zerolinecolor": "white"
           },
           "zaxis": {
            "backgroundcolor": "#E5ECF6",
            "gridcolor": "white",
            "gridwidth": 2,
            "linecolor": "white",
            "showbackground": true,
            "ticks": "",
            "zerolinecolor": "white"
           }
          },
          "shapedefaults": {
           "line": {
            "color": "#2a3f5f"
           }
          },
          "ternary": {
           "aaxis": {
            "gridcolor": "white",
            "linecolor": "white",
            "ticks": ""
           },
           "baxis": {
            "gridcolor": "white",
            "linecolor": "white",
            "ticks": ""
           },
           "bgcolor": "#E5ECF6",
           "caxis": {
            "gridcolor": "white",
            "linecolor": "white",
            "ticks": ""
           }
          },
          "title": {
           "x": 0.05
          },
          "xaxis": {
           "automargin": true,
           "gridcolor": "white",
           "linecolor": "white",
           "ticks": "",
           "title": {
            "standoff": 15
           },
           "zerolinecolor": "white",
           "zerolinewidth": 2
          },
          "yaxis": {
           "automargin": true,
           "gridcolor": "white",
           "linecolor": "white",
           "ticks": "",
           "title": {
            "standoff": 15
           },
           "zerolinecolor": "white",
           "zerolinewidth": 2
          }
         }
        },
        "title": {
         "text": "Fairness vs Loss Tradeoff",
         "x": 0.5
        },
        "xaxis": {
         "anchor": "y",
         "domain": [
          0,
          1
         ],
         "title": {
          "text": "ei_disparity_mean"
         }
        },
        "yaxis": {
         "anchor": "x",
         "domain": [
          0,
          1
         ],
         "title": {
          "text": "loss_mean"
         }
        }
       }
      }
     },
     "metadata": {},
     "output_type": "display_data"
    }
   ],
   "source": [
    "fig = px.line(results, x='ei_disparity_mean', y='loss_mean', color='alpha', hover_data='lambda', markers=True)\n",
    "fig.add_annotation(dict(font=dict(color='black',size=10),\n",
    "                                        x=0.9,\n",
    "                                        y=0.99,\n",
    "                                        showarrow=False,\n",
    "                                        text='dataset=synthetic',\n",
    "                                        textangle=0,\n",
    "                                        xanchor='left',\n",
    "                                        xref=\"paper\",\n",
    "                                        yref=\"paper\"))\n",
    "fig.update_layout(title=dict(text='Fairness vs Loss Tradeoff', x=0.5))\n",
    "fig.update_traces(marker=dict(size=3))\n",
    "fig.show()"
   ]
  }
 ],
 "metadata": {
  "kernelspec": {
   "display_name": ".env",
   "language": "python",
   "name": "python3"
  },
  "language_info": {
   "codemirror_mode": {
    "name": "ipython",
    "version": 3
   },
   "file_extension": ".py",
   "mimetype": "text/x-python",
   "name": "python",
   "nbconvert_exporter": "python",
   "pygments_lexer": "ipython3",
   "version": "3.11.9"
  }
 },
 "nbformat": 4,
 "nbformat_minor": 2
}
