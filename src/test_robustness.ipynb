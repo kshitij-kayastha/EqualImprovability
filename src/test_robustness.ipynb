{
 "cells": [
  {
   "cell_type": "code",
   "execution_count": 9,
   "metadata": {},
   "outputs": [],
   "source": [
    "import torch\n",
    "import pickle\n",
    "import numpy as np\n",
    "import pandas as pd\n",
    "import plotly.express as px\n",
    "from copy import deepcopy\n",
    "\n",
    "\n",
    "from model import LR\n",
    "from data import SyntheticDataset, FairnessDataset\n",
    "from ei_model_dev import FairBatch\n",
    "from ei_effort import Optimal_Effort, PGD_Effort\n",
    "from ei_utils import *"
   ]
  },
  {
   "cell_type": "code",
   "execution_count": 2,
   "metadata": {},
   "outputs": [],
   "source": [
    "dataset = SyntheticDataset(seed=0)"
   ]
  },
  {
   "cell_type": "code",
   "execution_count": 3,
   "metadata": {},
   "outputs": [],
   "source": [
    "def append_res(d, acc, ei):\n",
    "    d['accuracy'].append(acc)\n",
    "    d['ei_disparity'].append(ei)\n",
    "        \n",
    "def get_res(d, id, hp):\n",
    "    res = {'id': [], 'alpha': [], 'lambda': [], 'delta': [], 'accuracy_mean': [], 'accuracy_std': [], 'ei_disparity_mean': [], 'ei_disparity_std': []}\n",
    "    res['id'].append(id)\n",
    "    res['alpha'].append(hp['alpha'])\n",
    "    res['lambda'].append(hp['lambda'])\n",
    "    res['delta'].append(hp['delta'])\n",
    "    res['accuracy_mean'].append(np.mean(d['accuracy']))\n",
    "    res['accuracy_std'].append(np.std(d['accuracy']))\n",
    "    res['ei_disparity_mean'].append(np.mean(d['ei_disparity']))\n",
    "    res['ei_disparity_std'].append(np.std(d['ei_disparity']))\n",
    "    \n",
    "    return res\n",
    "\n",
    "def get_model(models):\n",
    "    weights = []\n",
    "    bias = []\n",
    "    for model in models:\n",
    "        for module in model.layers:\n",
    "            if hasattr(module, 'weight'):\n",
    "                weights.append(module.weight.data)\n",
    "            if hasattr(module, 'bias'):\n",
    "                bias.append(module.bias.data)\n",
    "            \n",
    "    weights = torch.cat(weights).mean(dim=0)\n",
    "    bias = torch.cat(bias).mean(dim=0)\n",
    "    return weights, bias"
   ]
  },
  {
   "cell_type": "code",
   "execution_count": 4,
   "metadata": {},
   "outputs": [],
   "source": [
    "def lr_fb_model_runner(dataset, hp, seeds):\n",
    "    tau = 0.5\n",
    "    train_metrics = {'alpha': [], 'accuracy': [], 'ei_disparity': []}\n",
    "    val_metrics = deepcopy(train_metrics)\n",
    "    test_metrics = deepcopy(train_metrics)\n",
    "    ei_models = []\n",
    "    \n",
    "    if hp['optimal_effort']:\n",
    "        effort = Optimal_Effort(hp['delta'])\n",
    "    else:\n",
    "        effort = PGD_Effort(hp['delta'])\n",
    "    \n",
    "    for seed in seeds:\n",
    "        train_tensors, val_tensors, test_tensors = dataset.tensor(fold=seed, z_blind=hp['z_blind'])\n",
    "        train_dataset = FairnessDataset(*train_tensors, dataset.imp_feats)\n",
    "        val_dataset = FairnessDataset(*val_tensors, dataset.imp_feats)\n",
    "        test_dataset = FairnessDataset(*test_tensors, dataset.imp_feats)\n",
    "        \n",
    "        model = LR(num_features=train_dataset.X.shape[1])\n",
    "        ei_model = FairBatch(model, effort, tau)\n",
    "        \n",
    "        ei_model.train(\n",
    "            train_dataset, \n",
    "            sensitive_attrs=dataset.sensitive_attrs,\n",
    "            lamb=hp['lambda'],\n",
    "            lr=hp['learning_rate'],\n",
    "            alpha=hp['alpha']\n",
    "            )\n",
    " \n",
    "        Y_hat, Y_hat_max = ei_model.predict(train_dataset, hp['alpha'], dataset.sensitive_attrs)\n",
    "        train_acc, train_ei = model_performance(train_dataset.Y.detach().numpy(), train_dataset.Z.detach().numpy(), Y_hat, Y_hat_max, tau)\n",
    "        append_res(train_metrics, train_acc, train_ei)\n",
    "        \n",
    "        Y_hat, Y_hat_max = ei_model.predict(val_dataset, hp['alpha'], dataset.sensitive_attrs)\n",
    "        val_acc, val_ei = model_performance(val_dataset.Y.detach().numpy(), val_dataset.Z.detach().numpy(), Y_hat, Y_hat_max, tau)\n",
    "        append_res(val_metrics, val_acc, val_ei)\n",
    "        \n",
    "        Y_hat, Y_hat_max = ei_model.predict(test_dataset, hp['alpha'], dataset.sensitive_attrs)\n",
    "        test_acc, test_ei = model_performance(test_dataset.Y.detach().numpy(), test_dataset.Z.detach().numpy(), Y_hat, Y_hat_max, tau)\n",
    "        append_res(test_metrics, test_acc, test_ei)\n",
    "    \n",
    "        ei_models.append(ei_model.model)\n",
    "    \n",
    "    res_train = get_res(train_metrics, 'train', hp)\n",
    "    res_val = get_res(val_metrics, 'val', hp)\n",
    "    res_test = get_res(test_metrics, 'test', hp)\n",
    "    \n",
    "    \n",
    "    return res_train, res_val, res_test, ei_models"
   ]
  },
  {
   "cell_type": "code",
   "execution_count": 5,
   "metadata": {},
   "outputs": [],
   "source": [
    "def fb_tradeoff(dataset, hyper_params, seeds):\n",
    "    hp = hyper_params.copy()\n",
    "    result = pd.DataFrame()\n",
    "    ei_models = []\n",
    "    \n",
    "    for alpha in hyper_params['alpha']:\n",
    "        for lamb in hyper_params['lambda']:\n",
    "            for delta in hyper_params['delta']:\n",
    "                hp['alpha'] = alpha\n",
    "                hp['lambda'] = lamb\n",
    "                hp['delta'] = delta\n",
    "                \n",
    "                train, val, test, models = lr_fb_model_runner(dataset, hp, seeds)\n",
    "                result = pd.concat((result, pd.DataFrame(train), pd.DataFrame(val), pd.DataFrame(test)))\n",
    "                ei_models.extend(models)\n",
    "                print()\n",
    "    \n",
    "    return result, ei_models"
   ]
  },
  {
   "cell_type": "code",
   "execution_count": 6,
   "metadata": {},
   "outputs": [
    {
     "name": "stderr",
     "output_type": "stream",
     "text": [
      "Training [alpha=0.00; lambda=0.00]: 100%|\u001b[38;2;0;145;255m██████████\u001b[0m| 100/100 [01:44<00:00,  1.04s/epochs]\n",
      "Training [alpha=0.00; lambda=0.00]: 100%|\u001b[38;2;0;145;255m██████████\u001b[0m| 100/100 [01:42<00:00,  1.02s/epochs]\n",
      "Training [alpha=0.00; lambda=0.00]: 100%|\u001b[38;2;0;145;255m██████████\u001b[0m| 100/100 [01:44<00:00,  1.04s/epochs]\n",
      "Training [alpha=0.00; lambda=0.00]: 100%|\u001b[38;2;0;145;255m██████████\u001b[0m| 100/100 [01:42<00:00,  1.03s/epochs]\n",
      "Training [alpha=0.00; lambda=0.00]: 100%|\u001b[38;2;0;145;255m██████████\u001b[0m| 100/100 [01:43<00:00,  1.03s/epochs]\n"
     ]
    },
    {
     "name": "stdout",
     "output_type": "stream",
     "text": [
      "\n"
     ]
    },
    {
     "name": "stderr",
     "output_type": "stream",
     "text": [
      "Training [alpha=0.00; lambda=0.03]: 100%|\u001b[38;2;0;145;255m██████████\u001b[0m| 100/100 [01:44<00:00,  1.04s/epochs]\n",
      "Training [alpha=0.00; lambda=0.03]: 100%|\u001b[38;2;0;145;255m██████████\u001b[0m| 100/100 [01:42<00:00,  1.03s/epochs]\n",
      "Training [alpha=0.00; lambda=0.03]: 100%|\u001b[38;2;0;145;255m██████████\u001b[0m| 100/100 [01:45<00:00,  1.05s/epochs]\n",
      "Training [alpha=0.00; lambda=0.03]: 100%|\u001b[38;2;0;145;255m██████████\u001b[0m| 100/100 [01:45<00:00,  1.05s/epochs]\n",
      "Training [alpha=0.00; lambda=0.03]: 100%|\u001b[38;2;0;145;255m██████████\u001b[0m| 100/100 [01:46<00:00,  1.07s/epochs]\n"
     ]
    },
    {
     "name": "stdout",
     "output_type": "stream",
     "text": [
      "\n"
     ]
    },
    {
     "name": "stderr",
     "output_type": "stream",
     "text": [
      "Training [alpha=0.00; lambda=0.06]: 100%|\u001b[38;2;0;145;255m██████████\u001b[0m| 100/100 [01:48<00:00,  1.09s/epochs]\n",
      "Training [alpha=0.00; lambda=0.06]: 100%|\u001b[38;2;0;145;255m██████████\u001b[0m| 100/100 [01:43<00:00,  1.03s/epochs]\n",
      "Training [alpha=0.00; lambda=0.06]: 100%|\u001b[38;2;0;145;255m██████████\u001b[0m| 100/100 [01:41<00:00,  1.02s/epochs]\n",
      "Training [alpha=0.00; lambda=0.06]: 100%|\u001b[38;2;0;145;255m██████████\u001b[0m| 100/100 [01:43<00:00,  1.03s/epochs]\n",
      "Training [alpha=0.00; lambda=0.06]: 100%|\u001b[38;2;0;145;255m██████████\u001b[0m| 100/100 [01:42<00:00,  1.03s/epochs]\n"
     ]
    },
    {
     "name": "stdout",
     "output_type": "stream",
     "text": [
      "\n"
     ]
    },
    {
     "name": "stderr",
     "output_type": "stream",
     "text": [
      "Training [alpha=0.00; lambda=0.08]: 100%|\u001b[38;2;0;145;255m██████████\u001b[0m| 100/100 [01:39<00:00,  1.01epochs/s]\n",
      "Training [alpha=0.00; lambda=0.08]: 100%|\u001b[38;2;0;145;255m██████████\u001b[0m| 100/100 [01:41<00:00,  1.02s/epochs]\n",
      "Training [alpha=0.00; lambda=0.08]: 100%|\u001b[38;2;0;145;255m██████████\u001b[0m| 100/100 [01:38<00:00,  1.01epochs/s]\n",
      "Training [alpha=0.00; lambda=0.08]: 100%|\u001b[38;2;0;145;255m██████████\u001b[0m| 100/100 [01:39<00:00,  1.01epochs/s]\n",
      "Training [alpha=0.00; lambda=0.08]: 100%|\u001b[38;2;0;145;255m██████████\u001b[0m| 100/100 [01:37<00:00,  1.02epochs/s]\n"
     ]
    },
    {
     "name": "stdout",
     "output_type": "stream",
     "text": [
      "\n"
     ]
    },
    {
     "name": "stderr",
     "output_type": "stream",
     "text": [
      "Training [alpha=0.00; lambda=0.11]: 100%|\u001b[38;2;0;145;255m██████████\u001b[0m| 100/100 [01:37<00:00,  1.03epochs/s]\n",
      "Training [alpha=0.00; lambda=0.11]: 100%|\u001b[38;2;0;145;255m██████████\u001b[0m| 100/100 [01:37<00:00,  1.02epochs/s]\n",
      "Training [alpha=0.00; lambda=0.11]: 100%|\u001b[38;2;0;145;255m██████████\u001b[0m| 100/100 [01:40<00:00,  1.01s/epochs]\n",
      "Training [alpha=0.00; lambda=0.11]: 100%|\u001b[38;2;0;145;255m██████████\u001b[0m| 100/100 [01:40<00:00,  1.00s/epochs]\n",
      "Training [alpha=0.00; lambda=0.11]: 100%|\u001b[38;2;0;145;255m██████████\u001b[0m| 100/100 [01:44<00:00,  1.05s/epochs]\n"
     ]
    },
    {
     "name": "stdout",
     "output_type": "stream",
     "text": [
      "\n"
     ]
    },
    {
     "name": "stderr",
     "output_type": "stream",
     "text": [
      "Training [alpha=0.00; lambda=0.14]: 100%|\u001b[38;2;0;145;255m██████████\u001b[0m| 100/100 [01:38<00:00,  1.01epochs/s]\n",
      "Training [alpha=0.00; lambda=0.14]: 100%|\u001b[38;2;0;145;255m██████████\u001b[0m| 100/100 [01:40<00:00,  1.00s/epochs]\n",
      "Training [alpha=0.00; lambda=0.14]: 100%|\u001b[38;2;0;145;255m██████████\u001b[0m| 100/100 [01:42<00:00,  1.02s/epochs]\n",
      "Training [alpha=0.00; lambda=0.14]: 100%|\u001b[38;2;0;145;255m██████████\u001b[0m| 100/100 [01:42<00:00,  1.02s/epochs]\n",
      "Training [alpha=0.00; lambda=0.14]: 100%|\u001b[38;2;0;145;255m██████████\u001b[0m| 100/100 [01:41<00:00,  1.01s/epochs]\n"
     ]
    },
    {
     "name": "stdout",
     "output_type": "stream",
     "text": [
      "\n"
     ]
    },
    {
     "name": "stderr",
     "output_type": "stream",
     "text": [
      "Training [alpha=0.00; lambda=0.17]: 100%|\u001b[38;2;0;145;255m██████████\u001b[0m| 100/100 [01:40<00:00,  1.00s/epochs]\n",
      "Training [alpha=0.00; lambda=0.17]: 100%|\u001b[38;2;0;145;255m██████████\u001b[0m| 100/100 [01:43<00:00,  1.04s/epochs]\n",
      "Training [alpha=0.00; lambda=0.17]: 100%|\u001b[38;2;0;145;255m██████████\u001b[0m| 100/100 [01:43<00:00,  1.03s/epochs]\n",
      "Training [alpha=0.00; lambda=0.17]: 100%|\u001b[38;2;0;145;255m██████████\u001b[0m| 100/100 [01:42<00:00,  1.03s/epochs]\n",
      "Training [alpha=0.00; lambda=0.17]: 100%|\u001b[38;2;0;145;255m██████████\u001b[0m| 100/100 [01:41<00:00,  1.01s/epochs]\n"
     ]
    },
    {
     "name": "stdout",
     "output_type": "stream",
     "text": [
      "\n"
     ]
    },
    {
     "name": "stderr",
     "output_type": "stream",
     "text": [
      "Training [alpha=0.00; lambda=0.19]: 100%|\u001b[38;2;0;145;255m██████████\u001b[0m| 100/100 [01:43<00:00,  1.03s/epochs]\n",
      "Training [alpha=0.00; lambda=0.19]: 100%|\u001b[38;2;0;145;255m██████████\u001b[0m| 100/100 [01:40<00:00,  1.00s/epochs]\n",
      "Training [alpha=0.00; lambda=0.19]: 100%|\u001b[38;2;0;145;255m██████████\u001b[0m| 100/100 [01:40<00:00,  1.01s/epochs]\n",
      "Training [alpha=0.00; lambda=0.19]: 100%|\u001b[38;2;0;145;255m██████████\u001b[0m| 100/100 [01:41<00:00,  1.02s/epochs]\n",
      "Training [alpha=0.00; lambda=0.19]: 100%|\u001b[38;2;0;145;255m██████████\u001b[0m| 100/100 [01:42<00:00,  1.02s/epochs]\n"
     ]
    },
    {
     "name": "stdout",
     "output_type": "stream",
     "text": [
      "\n"
     ]
    },
    {
     "name": "stderr",
     "output_type": "stream",
     "text": [
      "Training [alpha=0.00; lambda=0.22]: 100%|\u001b[38;2;0;145;255m██████████\u001b[0m| 100/100 [01:40<00:00,  1.00s/epochs]\n",
      "Training [alpha=0.00; lambda=0.22]: 100%|\u001b[38;2;0;145;255m██████████\u001b[0m| 100/100 [01:39<00:00,  1.01epochs/s]\n",
      "Training [alpha=0.00; lambda=0.22]: 100%|\u001b[38;2;0;145;255m██████████\u001b[0m| 100/100 [01:38<00:00,  1.02epochs/s]\n",
      "Training [alpha=0.00; lambda=0.22]: 100%|\u001b[38;2;0;145;255m██████████\u001b[0m| 100/100 [01:38<00:00,  1.02epochs/s]\n",
      "Training [alpha=0.00; lambda=0.22]: 100%|\u001b[38;2;0;145;255m██████████\u001b[0m| 100/100 [01:37<00:00,  1.02epochs/s]\n"
     ]
    },
    {
     "name": "stdout",
     "output_type": "stream",
     "text": [
      "\n"
     ]
    },
    {
     "name": "stderr",
     "output_type": "stream",
     "text": [
      "Training [alpha=0.00; lambda=0.25]: 100%|\u001b[38;2;0;145;255m██████████\u001b[0m| 100/100 [01:37<00:00,  1.02epochs/s]\n",
      "Training [alpha=0.00; lambda=0.25]: 100%|\u001b[38;2;0;145;255m██████████\u001b[0m| 100/100 [01:37<00:00,  1.03epochs/s]\n",
      "Training [alpha=0.00; lambda=0.25]: 100%|\u001b[38;2;0;145;255m██████████\u001b[0m| 100/100 [01:35<00:00,  1.05epochs/s]\n",
      "Training [alpha=0.00; lambda=0.25]: 100%|\u001b[38;2;0;145;255m██████████\u001b[0m| 100/100 [01:35<00:00,  1.04epochs/s]\n",
      "Training [alpha=0.00; lambda=0.25]: 100%|\u001b[38;2;0;145;255m██████████\u001b[0m| 100/100 [01:36<00:00,  1.04epochs/s]\n"
     ]
    },
    {
     "name": "stdout",
     "output_type": "stream",
     "text": [
      "\n"
     ]
    },
    {
     "name": "stderr",
     "output_type": "stream",
     "text": [
      "Training [alpha=0.50; lambda=0.00]: 100%|\u001b[38;2;0;145;255m██████████\u001b[0m| 100/100 [01:38<00:00,  1.02epochs/s]\n",
      "Training [alpha=0.50; lambda=0.00]: 100%|\u001b[38;2;0;145;255m██████████\u001b[0m| 100/100 [01:36<00:00,  1.03epochs/s]\n",
      "Training [alpha=0.50; lambda=0.00]: 100%|\u001b[38;2;0;145;255m██████████\u001b[0m| 100/100 [01:36<00:00,  1.04epochs/s]\n",
      "Training [alpha=0.50; lambda=0.00]: 100%|\u001b[38;2;0;145;255m██████████\u001b[0m| 100/100 [01:37<00:00,  1.03epochs/s]\n",
      "Training [alpha=0.50; lambda=0.00]: 100%|\u001b[38;2;0;145;255m██████████\u001b[0m| 100/100 [01:37<00:00,  1.02epochs/s]\n"
     ]
    },
    {
     "name": "stdout",
     "output_type": "stream",
     "text": [
      "\n"
     ]
    },
    {
     "name": "stderr",
     "output_type": "stream",
     "text": [
      "Training [alpha=0.50; lambda=0.03]: 100%|\u001b[38;2;0;145;255m██████████\u001b[0m| 100/100 [01:35<00:00,  1.04epochs/s]\n",
      "Training [alpha=0.50; lambda=0.03]: 100%|\u001b[38;2;0;145;255m██████████\u001b[0m| 100/100 [01:31<00:00,  1.09epochs/s]\n",
      "Training [alpha=0.50; lambda=0.03]: 100%|\u001b[38;2;0;145;255m██████████\u001b[0m| 100/100 [01:32<00:00,  1.08epochs/s]\n",
      "Training [alpha=0.50; lambda=0.03]: 100%|\u001b[38;2;0;145;255m██████████\u001b[0m| 100/100 [01:31<00:00,  1.09epochs/s]\n",
      "Training [alpha=0.50; lambda=0.03]: 100%|\u001b[38;2;0;145;255m██████████\u001b[0m| 100/100 [01:35<00:00,  1.05epochs/s]\n"
     ]
    },
    {
     "name": "stdout",
     "output_type": "stream",
     "text": [
      "\n"
     ]
    },
    {
     "name": "stderr",
     "output_type": "stream",
     "text": [
      "Training [alpha=0.50; lambda=0.06]: 100%|\u001b[38;2;0;145;255m██████████\u001b[0m| 100/100 [01:37<00:00,  1.03epochs/s]\n",
      "Training [alpha=0.50; lambda=0.06]: 100%|\u001b[38;2;0;145;255m██████████\u001b[0m| 100/100 [01:38<00:00,  1.02epochs/s]\n",
      "Training [alpha=0.50; lambda=0.06]: 100%|\u001b[38;2;0;145;255m██████████\u001b[0m| 100/100 [01:36<00:00,  1.03epochs/s]\n",
      "Training [alpha=0.50; lambda=0.06]: 100%|\u001b[38;2;0;145;255m██████████\u001b[0m| 100/100 [01:37<00:00,  1.03epochs/s]\n",
      "Training [alpha=0.50; lambda=0.06]: 100%|\u001b[38;2;0;145;255m██████████\u001b[0m| 100/100 [01:36<00:00,  1.03epochs/s]\n"
     ]
    },
    {
     "name": "stdout",
     "output_type": "stream",
     "text": [
      "\n"
     ]
    },
    {
     "name": "stderr",
     "output_type": "stream",
     "text": [
      "Training [alpha=0.50; lambda=0.08]: 100%|\u001b[38;2;0;145;255m██████████\u001b[0m| 100/100 [01:37<00:00,  1.03epochs/s]\n",
      "Training [alpha=0.50; lambda=0.08]: 100%|\u001b[38;2;0;145;255m██████████\u001b[0m| 100/100 [01:38<00:00,  1.01epochs/s]\n",
      "Training [alpha=0.50; lambda=0.08]: 100%|\u001b[38;2;0;145;255m██████████\u001b[0m| 100/100 [01:39<00:00,  1.01epochs/s]\n",
      "Training [alpha=0.50; lambda=0.08]: 100%|\u001b[38;2;0;145;255m██████████\u001b[0m| 100/100 [01:39<00:00,  1.00epochs/s]\n",
      "Training [alpha=0.50; lambda=0.08]: 100%|\u001b[38;2;0;145;255m██████████\u001b[0m| 100/100 [01:39<00:00,  1.01epochs/s]\n"
     ]
    },
    {
     "name": "stdout",
     "output_type": "stream",
     "text": [
      "\n"
     ]
    },
    {
     "name": "stderr",
     "output_type": "stream",
     "text": [
      "Training [alpha=0.50; lambda=0.11]: 100%|\u001b[38;2;0;145;255m██████████\u001b[0m| 100/100 [01:43<00:00,  1.03s/epochs]\n",
      "Training [alpha=0.50; lambda=0.11]: 100%|\u001b[38;2;0;145;255m██████████\u001b[0m| 100/100 [01:40<00:00,  1.01s/epochs]\n",
      "Training [alpha=0.50; lambda=0.11]: 100%|\u001b[38;2;0;145;255m██████████\u001b[0m| 100/100 [01:49<00:00,  1.09s/epochs]\n",
      "Training [alpha=0.50; lambda=0.11]: 100%|\u001b[38;2;0;145;255m██████████\u001b[0m| 100/100 [01:43<00:00,  1.04s/epochs]\n",
      "Training [alpha=0.50; lambda=0.11]: 100%|\u001b[38;2;0;145;255m██████████\u001b[0m| 100/100 [01:47<00:00,  1.07s/epochs]\n"
     ]
    },
    {
     "name": "stdout",
     "output_type": "stream",
     "text": [
      "\n"
     ]
    },
    {
     "name": "stderr",
     "output_type": "stream",
     "text": [
      "Training [alpha=0.50; lambda=0.14]: 100%|\u001b[38;2;0;145;255m██████████\u001b[0m| 100/100 [01:41<00:00,  1.01s/epochs]\n",
      "Training [alpha=0.50; lambda=0.14]: 100%|\u001b[38;2;0;145;255m██████████\u001b[0m| 100/100 [01:38<00:00,  1.01epochs/s]\n",
      "Training [alpha=0.50; lambda=0.14]: 100%|\u001b[38;2;0;145;255m██████████\u001b[0m| 100/100 [01:41<00:00,  1.02s/epochs]\n",
      "Training [alpha=0.50; lambda=0.14]: 100%|\u001b[38;2;0;145;255m██████████\u001b[0m| 100/100 [01:41<00:00,  1.01s/epochs]\n",
      "Training [alpha=0.50; lambda=0.14]: 100%|\u001b[38;2;0;145;255m██████████\u001b[0m| 100/100 [01:39<00:00,  1.00epochs/s]\n"
     ]
    },
    {
     "name": "stdout",
     "output_type": "stream",
     "text": [
      "\n"
     ]
    },
    {
     "name": "stderr",
     "output_type": "stream",
     "text": [
      "Training [alpha=0.50; lambda=0.17]: 100%|\u001b[38;2;0;145;255m██████████\u001b[0m| 100/100 [01:41<00:00,  1.02s/epochs]\n",
      "Training [alpha=0.50; lambda=0.17]: 100%|\u001b[38;2;0;145;255m██████████\u001b[0m| 100/100 [01:36<00:00,  1.03epochs/s]\n",
      "Training [alpha=0.50; lambda=0.17]: 100%|\u001b[38;2;0;145;255m██████████\u001b[0m| 100/100 [01:38<00:00,  1.02epochs/s]\n",
      "Training [alpha=0.50; lambda=0.17]: 100%|\u001b[38;2;0;145;255m██████████\u001b[0m| 100/100 [01:41<00:00,  1.02s/epochs]\n",
      "Training [alpha=0.50; lambda=0.17]: 100%|\u001b[38;2;0;145;255m██████████\u001b[0m| 100/100 [01:41<00:00,  1.01s/epochs]\n"
     ]
    },
    {
     "name": "stdout",
     "output_type": "stream",
     "text": [
      "\n"
     ]
    },
    {
     "name": "stderr",
     "output_type": "stream",
     "text": [
      "Training [alpha=0.50; lambda=0.19]: 100%|\u001b[38;2;0;145;255m██████████\u001b[0m| 100/100 [01:44<00:00,  1.04s/epochs]\n",
      "Training [alpha=0.50; lambda=0.19]: 100%|\u001b[38;2;0;145;255m██████████\u001b[0m| 100/100 [01:41<00:00,  1.01s/epochs]\n",
      "Training [alpha=0.50; lambda=0.19]: 100%|\u001b[38;2;0;145;255m██████████\u001b[0m| 100/100 [01:40<00:00,  1.00s/epochs]\n",
      "Training [alpha=0.50; lambda=0.19]: 100%|\u001b[38;2;0;145;255m██████████\u001b[0m| 100/100 [01:41<00:00,  1.01s/epochs]\n",
      "Training [alpha=0.50; lambda=0.19]: 100%|\u001b[38;2;0;145;255m██████████\u001b[0m| 100/100 [01:44<00:00,  1.04s/epochs]\n"
     ]
    },
    {
     "name": "stdout",
     "output_type": "stream",
     "text": [
      "\n"
     ]
    },
    {
     "name": "stderr",
     "output_type": "stream",
     "text": [
      "Training [alpha=0.50; lambda=0.22]: 100%|\u001b[38;2;0;145;255m██████████\u001b[0m| 100/100 [01:39<00:00,  1.00epochs/s]\n",
      "Training [alpha=0.50; lambda=0.22]: 100%|\u001b[38;2;0;145;255m██████████\u001b[0m| 100/100 [01:37<00:00,  1.02epochs/s]\n",
      "Training [alpha=0.50; lambda=0.22]: 100%|\u001b[38;2;0;145;255m██████████\u001b[0m| 100/100 [01:39<00:00,  1.01epochs/s]\n",
      "Training [alpha=0.50; lambda=0.22]: 100%|\u001b[38;2;0;145;255m██████████\u001b[0m| 100/100 [01:40<00:00,  1.01s/epochs]\n",
      "Training [alpha=0.50; lambda=0.22]: 100%|\u001b[38;2;0;145;255m██████████\u001b[0m| 100/100 [01:38<00:00,  1.02epochs/s]\n"
     ]
    },
    {
     "name": "stdout",
     "output_type": "stream",
     "text": [
      "\n"
     ]
    },
    {
     "name": "stderr",
     "output_type": "stream",
     "text": [
      "Training [alpha=0.50; lambda=0.25]: 100%|\u001b[38;2;0;145;255m██████████\u001b[0m| 100/100 [01:37<00:00,  1.03epochs/s]\n",
      "Training [alpha=0.50; lambda=0.25]: 100%|\u001b[38;2;0;145;255m██████████\u001b[0m| 100/100 [01:37<00:00,  1.03epochs/s]\n",
      "Training [alpha=0.50; lambda=0.25]: 100%|\u001b[38;2;0;145;255m██████████\u001b[0m| 100/100 [01:34<00:00,  1.05epochs/s]\n",
      "Training [alpha=0.50; lambda=0.25]: 100%|\u001b[38;2;0;145;255m██████████\u001b[0m| 100/100 [01:34<00:00,  1.06epochs/s]\n",
      "Training [alpha=0.50; lambda=0.25]: 100%|\u001b[38;2;0;145;255m██████████\u001b[0m| 100/100 [01:34<00:00,  1.06epochs/s]\n"
     ]
    },
    {
     "name": "stdout",
     "output_type": "stream",
     "text": [
      "\n"
     ]
    },
    {
     "name": "stderr",
     "output_type": "stream",
     "text": [
      "Training [alpha=1.40; lambda=0.00]: 100%|\u001b[38;2;0;145;255m██████████\u001b[0m| 100/100 [01:34<00:00,  1.06epochs/s]\n",
      "Training [alpha=1.40; lambda=0.00]: 100%|\u001b[38;2;0;145;255m██████████\u001b[0m| 100/100 [01:34<00:00,  1.06epochs/s]\n",
      "Training [alpha=1.40; lambda=0.00]: 100%|\u001b[38;2;0;145;255m██████████\u001b[0m| 100/100 [01:31<00:00,  1.09epochs/s]\n",
      "Training [alpha=1.40; lambda=0.00]: 100%|\u001b[38;2;0;145;255m██████████\u001b[0m| 100/100 [01:32<00:00,  1.08epochs/s]\n",
      "Training [alpha=1.40; lambda=0.00]: 100%|\u001b[38;2;0;145;255m██████████\u001b[0m| 100/100 [01:30<00:00,  1.10epochs/s]\n"
     ]
    },
    {
     "name": "stdout",
     "output_type": "stream",
     "text": [
      "\n"
     ]
    },
    {
     "name": "stderr",
     "output_type": "stream",
     "text": [
      "Training [alpha=1.40; lambda=0.03]: 100%|\u001b[38;2;0;145;255m██████████\u001b[0m| 100/100 [01:36<00:00,  1.04epochs/s]\n",
      "Training [alpha=1.40; lambda=0.03]: 100%|\u001b[38;2;0;145;255m██████████\u001b[0m| 100/100 [01:40<00:00,  1.00s/epochs]\n",
      "Training [alpha=1.40; lambda=0.03]: 100%|\u001b[38;2;0;145;255m██████████\u001b[0m| 100/100 [01:42<00:00,  1.02s/epochs]\n",
      "Training [alpha=1.40; lambda=0.03]: 100%|\u001b[38;2;0;145;255m██████████\u001b[0m| 100/100 [01:42<00:00,  1.03s/epochs]\n",
      "Training [alpha=1.40; lambda=0.03]: 100%|\u001b[38;2;0;145;255m██████████\u001b[0m| 100/100 [01:43<00:00,  1.04s/epochs]\n"
     ]
    },
    {
     "name": "stdout",
     "output_type": "stream",
     "text": [
      "\n"
     ]
    },
    {
     "name": "stderr",
     "output_type": "stream",
     "text": [
      "Training [alpha=1.40; lambda=0.06]: 100%|\u001b[38;2;0;145;255m██████████\u001b[0m| 100/100 [01:37<00:00,  1.03epochs/s]\n",
      "Training [alpha=1.40; lambda=0.06]: 100%|\u001b[38;2;0;145;255m██████████\u001b[0m| 100/100 [01:36<00:00,  1.04epochs/s]\n",
      "Training [alpha=1.40; lambda=0.06]: 100%|\u001b[38;2;0;145;255m██████████\u001b[0m| 100/100 [01:33<00:00,  1.07epochs/s]\n",
      "Training [alpha=1.40; lambda=0.06]: 100%|\u001b[38;2;0;145;255m██████████\u001b[0m| 100/100 [01:33<00:00,  1.07epochs/s]\n",
      "Training [alpha=1.40; lambda=0.06]: 100%|\u001b[38;2;0;145;255m██████████\u001b[0m| 100/100 [01:32<00:00,  1.08epochs/s]\n"
     ]
    },
    {
     "name": "stdout",
     "output_type": "stream",
     "text": [
      "\n"
     ]
    },
    {
     "name": "stderr",
     "output_type": "stream",
     "text": [
      "Training [alpha=1.40; lambda=0.08]: 100%|\u001b[38;2;0;145;255m██████████\u001b[0m| 100/100 [01:41<00:00,  1.01s/epochs]\n",
      "Training [alpha=1.40; lambda=0.08]: 100%|\u001b[38;2;0;145;255m██████████\u001b[0m| 100/100 [01:36<00:00,  1.03epochs/s]\n",
      "Training [alpha=1.40; lambda=0.08]: 100%|\u001b[38;2;0;145;255m██████████\u001b[0m| 100/100 [01:39<00:00,  1.01epochs/s]\n",
      "Training [alpha=1.40; lambda=0.08]: 100%|\u001b[38;2;0;145;255m██████████\u001b[0m| 100/100 [01:39<00:00,  1.01epochs/s]\n",
      "Training [alpha=1.40; lambda=0.08]: 100%|\u001b[38;2;0;145;255m██████████\u001b[0m| 100/100 [01:33<00:00,  1.07epochs/s]\n"
     ]
    },
    {
     "name": "stdout",
     "output_type": "stream",
     "text": [
      "\n"
     ]
    },
    {
     "name": "stderr",
     "output_type": "stream",
     "text": [
      "Training [alpha=1.40; lambda=0.11]: 100%|\u001b[38;2;0;145;255m██████████\u001b[0m| 100/100 [01:37<00:00,  1.02epochs/s]\n",
      "Training [alpha=1.40; lambda=0.11]: 100%|\u001b[38;2;0;145;255m██████████\u001b[0m| 100/100 [01:32<00:00,  1.08epochs/s]\n",
      "Training [alpha=1.40; lambda=0.11]: 100%|\u001b[38;2;0;145;255m██████████\u001b[0m| 100/100 [01:39<00:00,  1.00epochs/s]\n",
      "Training [alpha=1.40; lambda=0.11]: 100%|\u001b[38;2;0;145;255m██████████\u001b[0m| 100/100 [01:37<00:00,  1.03epochs/s]\n",
      "Training [alpha=1.40; lambda=0.11]: 100%|\u001b[38;2;0;145;255m██████████\u001b[0m| 100/100 [01:33<00:00,  1.07epochs/s]\n"
     ]
    },
    {
     "name": "stdout",
     "output_type": "stream",
     "text": [
      "\n"
     ]
    },
    {
     "name": "stderr",
     "output_type": "stream",
     "text": [
      "Training [alpha=1.40; lambda=0.14]: 100%|\u001b[38;2;0;145;255m██████████\u001b[0m| 100/100 [01:33<00:00,  1.07epochs/s]\n",
      "Training [alpha=1.40; lambda=0.14]: 100%|\u001b[38;2;0;145;255m██████████\u001b[0m| 100/100 [01:32<00:00,  1.08epochs/s]\n",
      "Training [alpha=1.40; lambda=0.14]: 100%|\u001b[38;2;0;145;255m██████████\u001b[0m| 100/100 [01:33<00:00,  1.07epochs/s]\n",
      "Training [alpha=1.40; lambda=0.14]: 100%|\u001b[38;2;0;145;255m██████████\u001b[0m| 100/100 [01:33<00:00,  1.07epochs/s]\n",
      "Training [alpha=1.40; lambda=0.14]: 100%|\u001b[38;2;0;145;255m██████████\u001b[0m| 100/100 [01:32<00:00,  1.08epochs/s]\n"
     ]
    },
    {
     "name": "stdout",
     "output_type": "stream",
     "text": [
      "\n"
     ]
    },
    {
     "name": "stderr",
     "output_type": "stream",
     "text": [
      "Training [alpha=1.40; lambda=0.17]: 100%|\u001b[38;2;0;145;255m██████████\u001b[0m| 100/100 [01:38<00:00,  1.02epochs/s]\n",
      "Training [alpha=1.40; lambda=0.17]: 100%|\u001b[38;2;0;145;255m██████████\u001b[0m| 100/100 [01:42<00:00,  1.02s/epochs]\n",
      "Training [alpha=1.40; lambda=0.17]: 100%|\u001b[38;2;0;145;255m██████████\u001b[0m| 100/100 [01:38<00:00,  1.01epochs/s]\n",
      "Training [alpha=1.40; lambda=0.17]: 100%|\u001b[38;2;0;145;255m██████████\u001b[0m| 100/100 [01:35<00:00,  1.05epochs/s]\n",
      "Training [alpha=1.40; lambda=0.17]: 100%|\u001b[38;2;0;145;255m██████████\u001b[0m| 100/100 [01:43<00:00,  1.03s/epochs]\n"
     ]
    },
    {
     "name": "stdout",
     "output_type": "stream",
     "text": [
      "\n"
     ]
    },
    {
     "name": "stderr",
     "output_type": "stream",
     "text": [
      "Training [alpha=1.40; lambda=0.19]: 100%|\u001b[38;2;0;145;255m██████████\u001b[0m| 100/100 [01:36<00:00,  1.04epochs/s]\n",
      "Training [alpha=1.40; lambda=0.19]: 100%|\u001b[38;2;0;145;255m██████████\u001b[0m| 100/100 [02:14<00:00,  1.35s/epochs]\n",
      "Training [alpha=1.40; lambda=0.19]: 100%|\u001b[38;2;0;145;255m██████████\u001b[0m| 100/100 [02:19<00:00,  1.39s/epochs]\n",
      "Training [alpha=1.40; lambda=0.19]: 100%|\u001b[38;2;0;145;255m██████████\u001b[0m| 100/100 [06:31<00:00,  3.91s/epochs] \n",
      "Training [alpha=1.40; lambda=0.19]: 100%|\u001b[38;2;0;145;255m██████████\u001b[0m| 100/100 [11:35<00:00,  6.96s/epochs] \n"
     ]
    },
    {
     "name": "stdout",
     "output_type": "stream",
     "text": [
      "\n"
     ]
    },
    {
     "name": "stderr",
     "output_type": "stream",
     "text": [
      "Training [alpha=1.40; lambda=0.22]: 100%|\u001b[38;2;0;145;255m██████████\u001b[0m| 100/100 [38:53<00:00, 23.33s/epochs]  \n",
      "Training [alpha=1.40; lambda=0.22]: 100%|\u001b[38;2;0;145;255m██████████\u001b[0m| 100/100 [36:41<00:00, 22.02s/epochs]  \n",
      "Training [alpha=1.40; lambda=0.22]: 100%|\u001b[38;2;0;145;255m██████████\u001b[0m| 100/100 [57:43<00:00, 34.64s/epochs]  \n",
      "Training [alpha=1.40; lambda=0.22]: 100%|\u001b[38;2;0;145;255m██████████\u001b[0m| 100/100 [39:21<00:00, 23.61s/epochs]  \n",
      "Training [alpha=1.40; lambda=0.22]: 100%|\u001b[38;2;0;145;255m██████████\u001b[0m| 100/100 [1:11:02<00:00, 42.63s/epochs]  \n"
     ]
    },
    {
     "name": "stdout",
     "output_type": "stream",
     "text": [
      "\n"
     ]
    },
    {
     "name": "stderr",
     "output_type": "stream",
     "text": [
      "Training [alpha=1.40; lambda=0.25]: 100%|\u001b[38;2;0;145;255m██████████\u001b[0m| 100/100 [34:08<00:00, 20.49s/epochs]  \n",
      "Training [alpha=1.40; lambda=0.25]: 100%|\u001b[38;2;0;145;255m██████████\u001b[0m| 100/100 [24:41<00:00, 14.82s/epochs]  \n",
      "Training [alpha=1.40; lambda=0.25]: 100%|\u001b[38;2;0;145;255m██████████\u001b[0m| 100/100 [01:37<00:00,  1.03epochs/s]\n",
      "Training [alpha=1.40; lambda=0.25]: 100%|\u001b[38;2;0;145;255m██████████\u001b[0m| 100/100 [01:41<00:00,  1.01s/epochs]\n",
      "Training [alpha=1.40; lambda=0.25]: 100%|\u001b[38;2;0;145;255m██████████\u001b[0m| 100/100 [01:38<00:00,  1.01epochs/s]\n"
     ]
    },
    {
     "name": "stdout",
     "output_type": "stream",
     "text": [
      "\n"
     ]
    }
   ],
   "source": [
    "hyper_params = {}\n",
    "hyper_params['learning_rate'] = 0.01\n",
    "hyper_params['delta'] = [0.5]\n",
    "hyper_params['alpha'] = [0., 0.5, 1.4]\n",
    "hyper_params['lambda'] = np.linspace(0.,.25, 10).round(3)\n",
    "hyper_params['z_blind'] = False\n",
    "hyper_params['optimal_effort'] = False\n",
    "seeds = list(range(5))\n",
    "\n",
    "results, ei_models = fb_tradeoff(dataset, hyper_params, seeds)\n",
    "results['loss_mean'] = 1 - results['accuracy_mean']\n",
    "results['alpha'] = results['alpha'].astype(str)"
   ]
  },
  {
   "cell_type": "code",
   "execution_count": 11,
   "metadata": {},
   "outputs": [
    {
     "data": {
      "text/html": [
       "<div>\n",
       "<style scoped>\n",
       "    .dataframe tbody tr th:only-of-type {\n",
       "        vertical-align: middle;\n",
       "    }\n",
       "\n",
       "    .dataframe tbody tr th {\n",
       "        vertical-align: top;\n",
       "    }\n",
       "\n",
       "    .dataframe thead th {\n",
       "        text-align: right;\n",
       "    }\n",
       "</style>\n",
       "<table border=\"1\" class=\"dataframe\">\n",
       "  <thead>\n",
       "    <tr style=\"text-align: right;\">\n",
       "      <th></th>\n",
       "      <th>id</th>\n",
       "      <th>alpha</th>\n",
       "      <th>lambda</th>\n",
       "      <th>delta</th>\n",
       "      <th>accuracy_mean</th>\n",
       "      <th>accuracy_std</th>\n",
       "      <th>ei_disparity_mean</th>\n",
       "      <th>ei_disparity_std</th>\n",
       "      <th>loss_mean</th>\n",
       "    </tr>\n",
       "  </thead>\n",
       "  <tbody>\n",
       "    <tr>\n",
       "      <th>0</th>\n",
       "      <td>train</td>\n",
       "      <td>0.0</td>\n",
       "      <td>0.000</td>\n",
       "      <td>0.5</td>\n",
       "      <td>0.784625</td>\n",
       "      <td>0.001904</td>\n",
       "      <td>0.131757</td>\n",
       "      <td>0.004442</td>\n",
       "      <td>0.215375</td>\n",
       "    </tr>\n",
       "    <tr>\n",
       "      <th>0</th>\n",
       "      <td>val</td>\n",
       "      <td>0.0</td>\n",
       "      <td>0.000</td>\n",
       "      <td>0.5</td>\n",
       "      <td>0.790188</td>\n",
       "      <td>0.004884</td>\n",
       "      <td>0.130056</td>\n",
       "      <td>0.010956</td>\n",
       "      <td>0.209812</td>\n",
       "    </tr>\n",
       "    <tr>\n",
       "      <th>0</th>\n",
       "      <td>test</td>\n",
       "      <td>0.0</td>\n",
       "      <td>0.000</td>\n",
       "      <td>0.5</td>\n",
       "      <td>0.786500</td>\n",
       "      <td>0.002525</td>\n",
       "      <td>0.131944</td>\n",
       "      <td>0.013618</td>\n",
       "      <td>0.213500</td>\n",
       "    </tr>\n",
       "    <tr>\n",
       "      <th>0</th>\n",
       "      <td>train</td>\n",
       "      <td>0.0</td>\n",
       "      <td>0.028</td>\n",
       "      <td>0.5</td>\n",
       "      <td>0.784703</td>\n",
       "      <td>0.001952</td>\n",
       "      <td>0.132062</td>\n",
       "      <td>0.004666</td>\n",
       "      <td>0.215297</td>\n",
       "    </tr>\n",
       "    <tr>\n",
       "      <th>0</th>\n",
       "      <td>val</td>\n",
       "      <td>0.0</td>\n",
       "      <td>0.028</td>\n",
       "      <td>0.5</td>\n",
       "      <td>0.790188</td>\n",
       "      <td>0.004884</td>\n",
       "      <td>0.129862</td>\n",
       "      <td>0.010854</td>\n",
       "      <td>0.209812</td>\n",
       "    </tr>\n",
       "  </tbody>\n",
       "</table>\n",
       "</div>"
      ],
      "text/plain": [
       "      id alpha  lambda  delta  accuracy_mean  accuracy_std  ei_disparity_mean  \\\n",
       "0  train   0.0   0.000    0.5       0.784625      0.001904           0.131757   \n",
       "0    val   0.0   0.000    0.5       0.790188      0.004884           0.130056   \n",
       "0   test   0.0   0.000    0.5       0.786500      0.002525           0.131944   \n",
       "0  train   0.0   0.028    0.5       0.784703      0.001952           0.132062   \n",
       "0    val   0.0   0.028    0.5       0.790188      0.004884           0.129862   \n",
       "\n",
       "   ei_disparity_std  loss_mean  \n",
       "0          0.004442   0.215375  \n",
       "0          0.010956   0.209812  \n",
       "0          0.013618   0.213500  \n",
       "0          0.004666   0.215297  \n",
       "0          0.010854   0.209812  "
      ]
     },
     "execution_count": 11,
     "metadata": {},
     "output_type": "execute_result"
    }
   ],
   "source": [
    "with open(f'tradeoff_robust_synthetic_5crossval.pkl', 'wb') as f:\n",
    "    pickle.dump(results, f)\n",
    "results.head()"
   ]
  },
  {
   "cell_type": "code",
   "execution_count": 12,
   "metadata": {},
   "outputs": [],
   "source": [
    "train_results = results[results['id'] == 'train']\n",
    "val_results = results[results['id'] == 'val']\n",
    "test_results = results[results['id'] == 'test']"
   ]
  },
  {
   "cell_type": "code",
   "execution_count": 13,
   "metadata": {},
   "outputs": [
    {
     "data": {
      "text/html": [
       "<div>\n",
       "<style scoped>\n",
       "    .dataframe tbody tr th:only-of-type {\n",
       "        vertical-align: middle;\n",
       "    }\n",
       "\n",
       "    .dataframe tbody tr th {\n",
       "        vertical-align: top;\n",
       "    }\n",
       "\n",
       "    .dataframe thead th {\n",
       "        text-align: right;\n",
       "    }\n",
       "</style>\n",
       "<table border=\"1\" class=\"dataframe\">\n",
       "  <thead>\n",
       "    <tr style=\"text-align: right;\">\n",
       "      <th></th>\n",
       "      <th>id</th>\n",
       "      <th>alpha</th>\n",
       "      <th>lambda</th>\n",
       "      <th>delta</th>\n",
       "      <th>accuracy_mean</th>\n",
       "      <th>accuracy_std</th>\n",
       "      <th>ei_disparity_mean</th>\n",
       "      <th>ei_disparity_std</th>\n",
       "      <th>loss_mean</th>\n",
       "    </tr>\n",
       "  </thead>\n",
       "  <tbody>\n",
       "    <tr>\n",
       "      <th>0</th>\n",
       "      <td>test</td>\n",
       "      <td>0.0</td>\n",
       "      <td>0.000</td>\n",
       "      <td>0.5</td>\n",
       "      <td>0.78650</td>\n",
       "      <td>0.002525</td>\n",
       "      <td>0.131944</td>\n",
       "      <td>0.013618</td>\n",
       "      <td>0.21350</td>\n",
       "    </tr>\n",
       "    <tr>\n",
       "      <th>0</th>\n",
       "      <td>test</td>\n",
       "      <td>0.0</td>\n",
       "      <td>0.028</td>\n",
       "      <td>0.5</td>\n",
       "      <td>0.78650</td>\n",
       "      <td>0.002424</td>\n",
       "      <td>0.131754</td>\n",
       "      <td>0.013316</td>\n",
       "      <td>0.21350</td>\n",
       "    </tr>\n",
       "    <tr>\n",
       "      <th>0</th>\n",
       "      <td>test</td>\n",
       "      <td>0.0</td>\n",
       "      <td>0.056</td>\n",
       "      <td>0.5</td>\n",
       "      <td>0.78670</td>\n",
       "      <td>0.002467</td>\n",
       "      <td>0.131827</td>\n",
       "      <td>0.013261</td>\n",
       "      <td>0.21330</td>\n",
       "    </tr>\n",
       "    <tr>\n",
       "      <th>0</th>\n",
       "      <td>test</td>\n",
       "      <td>0.0</td>\n",
       "      <td>0.083</td>\n",
       "      <td>0.5</td>\n",
       "      <td>0.78660</td>\n",
       "      <td>0.002606</td>\n",
       "      <td>0.131785</td>\n",
       "      <td>0.013058</td>\n",
       "      <td>0.21340</td>\n",
       "    </tr>\n",
       "    <tr>\n",
       "      <th>0</th>\n",
       "      <td>test</td>\n",
       "      <td>0.0</td>\n",
       "      <td>0.111</td>\n",
       "      <td>0.5</td>\n",
       "      <td>0.78645</td>\n",
       "      <td>0.002517</td>\n",
       "      <td>0.131775</td>\n",
       "      <td>0.013392</td>\n",
       "      <td>0.21355</td>\n",
       "    </tr>\n",
       "    <tr>\n",
       "      <th>0</th>\n",
       "      <td>test</td>\n",
       "      <td>0.0</td>\n",
       "      <td>0.139</td>\n",
       "      <td>0.5</td>\n",
       "      <td>0.78660</td>\n",
       "      <td>0.002473</td>\n",
       "      <td>0.131972</td>\n",
       "      <td>0.013121</td>\n",
       "      <td>0.21340</td>\n",
       "    </tr>\n",
       "    <tr>\n",
       "      <th>0</th>\n",
       "      <td>test</td>\n",
       "      <td>0.0</td>\n",
       "      <td>0.167</td>\n",
       "      <td>0.5</td>\n",
       "      <td>0.78660</td>\n",
       "      <td>0.002591</td>\n",
       "      <td>0.131728</td>\n",
       "      <td>0.013074</td>\n",
       "      <td>0.21340</td>\n",
       "    </tr>\n",
       "    <tr>\n",
       "      <th>0</th>\n",
       "      <td>test</td>\n",
       "      <td>0.0</td>\n",
       "      <td>0.194</td>\n",
       "      <td>0.5</td>\n",
       "      <td>0.78645</td>\n",
       "      <td>0.002547</td>\n",
       "      <td>0.131703</td>\n",
       "      <td>0.013254</td>\n",
       "      <td>0.21355</td>\n",
       "    </tr>\n",
       "    <tr>\n",
       "      <th>0</th>\n",
       "      <td>test</td>\n",
       "      <td>0.0</td>\n",
       "      <td>0.222</td>\n",
       "      <td>0.5</td>\n",
       "      <td>0.78650</td>\n",
       "      <td>0.002424</td>\n",
       "      <td>0.131617</td>\n",
       "      <td>0.013106</td>\n",
       "      <td>0.21350</td>\n",
       "    </tr>\n",
       "    <tr>\n",
       "      <th>0</th>\n",
       "      <td>test</td>\n",
       "      <td>0.0</td>\n",
       "      <td>0.250</td>\n",
       "      <td>0.5</td>\n",
       "      <td>0.78640</td>\n",
       "      <td>0.002483</td>\n",
       "      <td>0.131580</td>\n",
       "      <td>0.013375</td>\n",
       "      <td>0.21360</td>\n",
       "    </tr>\n",
       "    <tr>\n",
       "      <th>0</th>\n",
       "      <td>test</td>\n",
       "      <td>0.5</td>\n",
       "      <td>0.000</td>\n",
       "      <td>0.5</td>\n",
       "      <td>0.78650</td>\n",
       "      <td>0.002588</td>\n",
       "      <td>0.126174</td>\n",
       "      <td>0.011862</td>\n",
       "      <td>0.21350</td>\n",
       "    </tr>\n",
       "    <tr>\n",
       "      <th>0</th>\n",
       "      <td>test</td>\n",
       "      <td>0.5</td>\n",
       "      <td>0.028</td>\n",
       "      <td>0.5</td>\n",
       "      <td>0.78665</td>\n",
       "      <td>0.002422</td>\n",
       "      <td>0.126212</td>\n",
       "      <td>0.011932</td>\n",
       "      <td>0.21335</td>\n",
       "    </tr>\n",
       "    <tr>\n",
       "      <th>0</th>\n",
       "      <td>test</td>\n",
       "      <td>0.5</td>\n",
       "      <td>0.056</td>\n",
       "      <td>0.5</td>\n",
       "      <td>0.78650</td>\n",
       "      <td>0.002490</td>\n",
       "      <td>0.126486</td>\n",
       "      <td>0.012080</td>\n",
       "      <td>0.21350</td>\n",
       "    </tr>\n",
       "    <tr>\n",
       "      <th>0</th>\n",
       "      <td>test</td>\n",
       "      <td>0.5</td>\n",
       "      <td>0.083</td>\n",
       "      <td>0.5</td>\n",
       "      <td>0.78665</td>\n",
       "      <td>0.002453</td>\n",
       "      <td>0.126354</td>\n",
       "      <td>0.011497</td>\n",
       "      <td>0.21335</td>\n",
       "    </tr>\n",
       "    <tr>\n",
       "      <th>0</th>\n",
       "      <td>test</td>\n",
       "      <td>0.5</td>\n",
       "      <td>0.111</td>\n",
       "      <td>0.5</td>\n",
       "      <td>0.78655</td>\n",
       "      <td>0.002400</td>\n",
       "      <td>0.126225</td>\n",
       "      <td>0.011849</td>\n",
       "      <td>0.21345</td>\n",
       "    </tr>\n",
       "    <tr>\n",
       "      <th>0</th>\n",
       "      <td>test</td>\n",
       "      <td>0.5</td>\n",
       "      <td>0.139</td>\n",
       "      <td>0.5</td>\n",
       "      <td>0.78650</td>\n",
       "      <td>0.002495</td>\n",
       "      <td>0.126448</td>\n",
       "      <td>0.012013</td>\n",
       "      <td>0.21350</td>\n",
       "    </tr>\n",
       "    <tr>\n",
       "      <th>0</th>\n",
       "      <td>test</td>\n",
       "      <td>0.5</td>\n",
       "      <td>0.167</td>\n",
       "      <td>0.5</td>\n",
       "      <td>0.78650</td>\n",
       "      <td>0.002598</td>\n",
       "      <td>0.126089</td>\n",
       "      <td>0.011991</td>\n",
       "      <td>0.21350</td>\n",
       "    </tr>\n",
       "    <tr>\n",
       "      <th>0</th>\n",
       "      <td>test</td>\n",
       "      <td>0.5</td>\n",
       "      <td>0.194</td>\n",
       "      <td>0.5</td>\n",
       "      <td>0.78655</td>\n",
       "      <td>0.002708</td>\n",
       "      <td>0.126050</td>\n",
       "      <td>0.011809</td>\n",
       "      <td>0.21345</td>\n",
       "    </tr>\n",
       "    <tr>\n",
       "      <th>0</th>\n",
       "      <td>test</td>\n",
       "      <td>0.5</td>\n",
       "      <td>0.222</td>\n",
       "      <td>0.5</td>\n",
       "      <td>0.78640</td>\n",
       "      <td>0.002473</td>\n",
       "      <td>0.126212</td>\n",
       "      <td>0.011739</td>\n",
       "      <td>0.21360</td>\n",
       "    </tr>\n",
       "    <tr>\n",
       "      <th>0</th>\n",
       "      <td>test</td>\n",
       "      <td>0.5</td>\n",
       "      <td>0.250</td>\n",
       "      <td>0.5</td>\n",
       "      <td>0.78660</td>\n",
       "      <td>0.002591</td>\n",
       "      <td>0.125958</td>\n",
       "      <td>0.011767</td>\n",
       "      <td>0.21340</td>\n",
       "    </tr>\n",
       "    <tr>\n",
       "      <th>0</th>\n",
       "      <td>test</td>\n",
       "      <td>1.4</td>\n",
       "      <td>0.000</td>\n",
       "      <td>0.5</td>\n",
       "      <td>0.78655</td>\n",
       "      <td>0.002676</td>\n",
       "      <td>0.126484</td>\n",
       "      <td>0.011475</td>\n",
       "      <td>0.21345</td>\n",
       "    </tr>\n",
       "    <tr>\n",
       "      <th>0</th>\n",
       "      <td>test</td>\n",
       "      <td>1.4</td>\n",
       "      <td>0.028</td>\n",
       "      <td>0.5</td>\n",
       "      <td>0.78640</td>\n",
       "      <td>0.002543</td>\n",
       "      <td>0.126253</td>\n",
       "      <td>0.011805</td>\n",
       "      <td>0.21360</td>\n",
       "    </tr>\n",
       "    <tr>\n",
       "      <th>0</th>\n",
       "      <td>test</td>\n",
       "      <td>1.4</td>\n",
       "      <td>0.056</td>\n",
       "      <td>0.5</td>\n",
       "      <td>0.78655</td>\n",
       "      <td>0.002507</td>\n",
       "      <td>0.126553</td>\n",
       "      <td>0.011729</td>\n",
       "      <td>0.21345</td>\n",
       "    </tr>\n",
       "    <tr>\n",
       "      <th>0</th>\n",
       "      <td>test</td>\n",
       "      <td>1.4</td>\n",
       "      <td>0.083</td>\n",
       "      <td>0.5</td>\n",
       "      <td>0.78670</td>\n",
       "      <td>0.002638</td>\n",
       "      <td>0.126591</td>\n",
       "      <td>0.011549</td>\n",
       "      <td>0.21330</td>\n",
       "    </tr>\n",
       "    <tr>\n",
       "      <th>0</th>\n",
       "      <td>test</td>\n",
       "      <td>1.4</td>\n",
       "      <td>0.111</td>\n",
       "      <td>0.5</td>\n",
       "      <td>0.78650</td>\n",
       "      <td>0.002646</td>\n",
       "      <td>0.126317</td>\n",
       "      <td>0.011974</td>\n",
       "      <td>0.21350</td>\n",
       "    </tr>\n",
       "    <tr>\n",
       "      <th>0</th>\n",
       "      <td>test</td>\n",
       "      <td>1.4</td>\n",
       "      <td>0.139</td>\n",
       "      <td>0.5</td>\n",
       "      <td>0.78665</td>\n",
       "      <td>0.002653</td>\n",
       "      <td>0.126203</td>\n",
       "      <td>0.011878</td>\n",
       "      <td>0.21335</td>\n",
       "    </tr>\n",
       "    <tr>\n",
       "      <th>0</th>\n",
       "      <td>test</td>\n",
       "      <td>1.4</td>\n",
       "      <td>0.167</td>\n",
       "      <td>0.5</td>\n",
       "      <td>0.78660</td>\n",
       "      <td>0.002611</td>\n",
       "      <td>0.126128</td>\n",
       "      <td>0.011763</td>\n",
       "      <td>0.21340</td>\n",
       "    </tr>\n",
       "    <tr>\n",
       "      <th>0</th>\n",
       "      <td>test</td>\n",
       "      <td>1.4</td>\n",
       "      <td>0.194</td>\n",
       "      <td>0.5</td>\n",
       "      <td>0.78665</td>\n",
       "      <td>0.002562</td>\n",
       "      <td>0.126326</td>\n",
       "      <td>0.011625</td>\n",
       "      <td>0.21335</td>\n",
       "    </tr>\n",
       "    <tr>\n",
       "      <th>0</th>\n",
       "      <td>test</td>\n",
       "      <td>1.4</td>\n",
       "      <td>0.222</td>\n",
       "      <td>0.5</td>\n",
       "      <td>0.78660</td>\n",
       "      <td>0.002478</td>\n",
       "      <td>0.126320</td>\n",
       "      <td>0.011962</td>\n",
       "      <td>0.21340</td>\n",
       "    </tr>\n",
       "    <tr>\n",
       "      <th>0</th>\n",
       "      <td>test</td>\n",
       "      <td>1.4</td>\n",
       "      <td>0.250</td>\n",
       "      <td>0.5</td>\n",
       "      <td>0.78665</td>\n",
       "      <td>0.002562</td>\n",
       "      <td>0.126248</td>\n",
       "      <td>0.011534</td>\n",
       "      <td>0.21335</td>\n",
       "    </tr>\n",
       "  </tbody>\n",
       "</table>\n",
       "</div>"
      ],
      "text/plain": [
       "     id alpha  lambda  delta  accuracy_mean  accuracy_std  ei_disparity_mean  \\\n",
       "0  test   0.0   0.000    0.5        0.78650      0.002525           0.131944   \n",
       "0  test   0.0   0.028    0.5        0.78650      0.002424           0.131754   \n",
       "0  test   0.0   0.056    0.5        0.78670      0.002467           0.131827   \n",
       "0  test   0.0   0.083    0.5        0.78660      0.002606           0.131785   \n",
       "0  test   0.0   0.111    0.5        0.78645      0.002517           0.131775   \n",
       "0  test   0.0   0.139    0.5        0.78660      0.002473           0.131972   \n",
       "0  test   0.0   0.167    0.5        0.78660      0.002591           0.131728   \n",
       "0  test   0.0   0.194    0.5        0.78645      0.002547           0.131703   \n",
       "0  test   0.0   0.222    0.5        0.78650      0.002424           0.131617   \n",
       "0  test   0.0   0.250    0.5        0.78640      0.002483           0.131580   \n",
       "0  test   0.5   0.000    0.5        0.78650      0.002588           0.126174   \n",
       "0  test   0.5   0.028    0.5        0.78665      0.002422           0.126212   \n",
       "0  test   0.5   0.056    0.5        0.78650      0.002490           0.126486   \n",
       "0  test   0.5   0.083    0.5        0.78665      0.002453           0.126354   \n",
       "0  test   0.5   0.111    0.5        0.78655      0.002400           0.126225   \n",
       "0  test   0.5   0.139    0.5        0.78650      0.002495           0.126448   \n",
       "0  test   0.5   0.167    0.5        0.78650      0.002598           0.126089   \n",
       "0  test   0.5   0.194    0.5        0.78655      0.002708           0.126050   \n",
       "0  test   0.5   0.222    0.5        0.78640      0.002473           0.126212   \n",
       "0  test   0.5   0.250    0.5        0.78660      0.002591           0.125958   \n",
       "0  test   1.4   0.000    0.5        0.78655      0.002676           0.126484   \n",
       "0  test   1.4   0.028    0.5        0.78640      0.002543           0.126253   \n",
       "0  test   1.4   0.056    0.5        0.78655      0.002507           0.126553   \n",
       "0  test   1.4   0.083    0.5        0.78670      0.002638           0.126591   \n",
       "0  test   1.4   0.111    0.5        0.78650      0.002646           0.126317   \n",
       "0  test   1.4   0.139    0.5        0.78665      0.002653           0.126203   \n",
       "0  test   1.4   0.167    0.5        0.78660      0.002611           0.126128   \n",
       "0  test   1.4   0.194    0.5        0.78665      0.002562           0.126326   \n",
       "0  test   1.4   0.222    0.5        0.78660      0.002478           0.126320   \n",
       "0  test   1.4   0.250    0.5        0.78665      0.002562           0.126248   \n",
       "\n",
       "   ei_disparity_std  loss_mean  \n",
       "0          0.013618    0.21350  \n",
       "0          0.013316    0.21350  \n",
       "0          0.013261    0.21330  \n",
       "0          0.013058    0.21340  \n",
       "0          0.013392    0.21355  \n",
       "0          0.013121    0.21340  \n",
       "0          0.013074    0.21340  \n",
       "0          0.013254    0.21355  \n",
       "0          0.013106    0.21350  \n",
       "0          0.013375    0.21360  \n",
       "0          0.011862    0.21350  \n",
       "0          0.011932    0.21335  \n",
       "0          0.012080    0.21350  \n",
       "0          0.011497    0.21335  \n",
       "0          0.011849    0.21345  \n",
       "0          0.012013    0.21350  \n",
       "0          0.011991    0.21350  \n",
       "0          0.011809    0.21345  \n",
       "0          0.011739    0.21360  \n",
       "0          0.011767    0.21340  \n",
       "0          0.011475    0.21345  \n",
       "0          0.011805    0.21360  \n",
       "0          0.011729    0.21345  \n",
       "0          0.011549    0.21330  \n",
       "0          0.011974    0.21350  \n",
       "0          0.011878    0.21335  \n",
       "0          0.011763    0.21340  \n",
       "0          0.011625    0.21335  \n",
       "0          0.011962    0.21340  \n",
       "0          0.011534    0.21335  "
      ]
     },
     "execution_count": 13,
     "metadata": {},
     "output_type": "execute_result"
    }
   ],
   "source": [
    "test_results = test_results.sort_values(['alpha', 'lambda'])\n",
    "test_results"
   ]
  },
  {
   "cell_type": "code",
   "execution_count": 14,
   "metadata": {},
   "outputs": [],
   "source": [
    "test_results_pareto = pd.DataFrame()\n",
    "for alpha in test_results['alpha'].unique():\n",
    "    test_results_alpha = test_results[test_results['alpha'] == alpha]\n",
    "    mask = pareto_frontier(test_results_alpha['loss_mean'], test_results_alpha['ei_disparity_mean'])\n",
    "    results_alpha_pareto = test_results_alpha.iloc[mask]\n",
    "    test_results_pareto = pd.concat((test_results_pareto, results_alpha_pareto.sort_values('ei_disparity_mean')))"
   ]
  },
  {
   "cell_type": "code",
   "execution_count": 19,
   "metadata": {},
   "outputs": [
    {
     "data": {
      "text/html": [
       "<div>\n",
       "<style scoped>\n",
       "    .dataframe tbody tr th:only-of-type {\n",
       "        vertical-align: middle;\n",
       "    }\n",
       "\n",
       "    .dataframe tbody tr th {\n",
       "        vertical-align: top;\n",
       "    }\n",
       "\n",
       "    .dataframe thead th {\n",
       "        text-align: right;\n",
       "    }\n",
       "</style>\n",
       "<table border=\"1\" class=\"dataframe\">\n",
       "  <thead>\n",
       "    <tr style=\"text-align: right;\">\n",
       "      <th></th>\n",
       "      <th>id</th>\n",
       "      <th>alpha</th>\n",
       "      <th>lambda</th>\n",
       "      <th>delta</th>\n",
       "      <th>accuracy_mean</th>\n",
       "      <th>accuracy_std</th>\n",
       "      <th>ei_disparity_mean</th>\n",
       "      <th>ei_disparity_std</th>\n",
       "      <th>loss_mean</th>\n",
       "    </tr>\n",
       "  </thead>\n",
       "  <tbody>\n",
       "    <tr>\n",
       "      <th>0</th>\n",
       "      <td>test</td>\n",
       "      <td>0.0</td>\n",
       "      <td>0.250</td>\n",
       "      <td>0.5</td>\n",
       "      <td>0.78640</td>\n",
       "      <td>0.002483</td>\n",
       "      <td>0.131580</td>\n",
       "      <td>0.013375</td>\n",
       "      <td>0.21360</td>\n",
       "    </tr>\n",
       "    <tr>\n",
       "      <th>0</th>\n",
       "      <td>test</td>\n",
       "      <td>0.0</td>\n",
       "      <td>0.222</td>\n",
       "      <td>0.5</td>\n",
       "      <td>0.78650</td>\n",
       "      <td>0.002424</td>\n",
       "      <td>0.131617</td>\n",
       "      <td>0.013106</td>\n",
       "      <td>0.21350</td>\n",
       "    </tr>\n",
       "    <tr>\n",
       "      <th>0</th>\n",
       "      <td>test</td>\n",
       "      <td>0.0</td>\n",
       "      <td>0.167</td>\n",
       "      <td>0.5</td>\n",
       "      <td>0.78660</td>\n",
       "      <td>0.002591</td>\n",
       "      <td>0.131728</td>\n",
       "      <td>0.013074</td>\n",
       "      <td>0.21340</td>\n",
       "    </tr>\n",
       "    <tr>\n",
       "      <th>0</th>\n",
       "      <td>test</td>\n",
       "      <td>0.0</td>\n",
       "      <td>0.056</td>\n",
       "      <td>0.5</td>\n",
       "      <td>0.78670</td>\n",
       "      <td>0.002467</td>\n",
       "      <td>0.131827</td>\n",
       "      <td>0.013261</td>\n",
       "      <td>0.21330</td>\n",
       "    </tr>\n",
       "    <tr>\n",
       "      <th>0</th>\n",
       "      <td>test</td>\n",
       "      <td>0.5</td>\n",
       "      <td>0.250</td>\n",
       "      <td>0.5</td>\n",
       "      <td>0.78660</td>\n",
       "      <td>0.002591</td>\n",
       "      <td>0.125958</td>\n",
       "      <td>0.011767</td>\n",
       "      <td>0.21340</td>\n",
       "    </tr>\n",
       "    <tr>\n",
       "      <th>0</th>\n",
       "      <td>test</td>\n",
       "      <td>0.5</td>\n",
       "      <td>0.028</td>\n",
       "      <td>0.5</td>\n",
       "      <td>0.78665</td>\n",
       "      <td>0.002422</td>\n",
       "      <td>0.126212</td>\n",
       "      <td>0.011932</td>\n",
       "      <td>0.21335</td>\n",
       "    </tr>\n",
       "    <tr>\n",
       "      <th>0</th>\n",
       "      <td>test</td>\n",
       "      <td>1.4</td>\n",
       "      <td>0.167</td>\n",
       "      <td>0.5</td>\n",
       "      <td>0.78660</td>\n",
       "      <td>0.002611</td>\n",
       "      <td>0.126128</td>\n",
       "      <td>0.011763</td>\n",
       "      <td>0.21340</td>\n",
       "    </tr>\n",
       "    <tr>\n",
       "      <th>0</th>\n",
       "      <td>test</td>\n",
       "      <td>1.4</td>\n",
       "      <td>0.139</td>\n",
       "      <td>0.5</td>\n",
       "      <td>0.78665</td>\n",
       "      <td>0.002653</td>\n",
       "      <td>0.126203</td>\n",
       "      <td>0.011878</td>\n",
       "      <td>0.21335</td>\n",
       "    </tr>\n",
       "    <tr>\n",
       "      <th>0</th>\n",
       "      <td>test</td>\n",
       "      <td>1.4</td>\n",
       "      <td>0.083</td>\n",
       "      <td>0.5</td>\n",
       "      <td>0.78670</td>\n",
       "      <td>0.002638</td>\n",
       "      <td>0.126591</td>\n",
       "      <td>0.011549</td>\n",
       "      <td>0.21330</td>\n",
       "    </tr>\n",
       "  </tbody>\n",
       "</table>\n",
       "</div>"
      ],
      "text/plain": [
       "     id alpha  lambda  delta  accuracy_mean  accuracy_std  ei_disparity_mean  \\\n",
       "0  test   0.0   0.250    0.5        0.78640      0.002483           0.131580   \n",
       "0  test   0.0   0.222    0.5        0.78650      0.002424           0.131617   \n",
       "0  test   0.0   0.167    0.5        0.78660      0.002591           0.131728   \n",
       "0  test   0.0   0.056    0.5        0.78670      0.002467           0.131827   \n",
       "0  test   0.5   0.250    0.5        0.78660      0.002591           0.125958   \n",
       "0  test   0.5   0.028    0.5        0.78665      0.002422           0.126212   \n",
       "0  test   1.4   0.167    0.5        0.78660      0.002611           0.126128   \n",
       "0  test   1.4   0.139    0.5        0.78665      0.002653           0.126203   \n",
       "0  test   1.4   0.083    0.5        0.78670      0.002638           0.126591   \n",
       "\n",
       "   ei_disparity_std  loss_mean  \n",
       "0          0.013375    0.21360  \n",
       "0          0.013106    0.21350  \n",
       "0          0.013074    0.21340  \n",
       "0          0.013261    0.21330  \n",
       "0          0.011767    0.21340  \n",
       "0          0.011932    0.21335  \n",
       "0          0.011763    0.21340  \n",
       "0          0.011878    0.21335  \n",
       "0          0.011549    0.21330  "
      ]
     },
     "execution_count": 19,
     "metadata": {},
     "output_type": "execute_result"
    }
   ],
   "source": [
    "test_results_pareto"
   ]
  },
  {
   "cell_type": "code",
   "execution_count": 18,
   "metadata": {},
   "outputs": [
    {
     "data": {
      "application/vnd.plotly.v1+json": {
       "config": {
        "plotlyServerURL": "https://plot.ly"
       },
       "data": [
        {
         "customdata": [
          [
           0.25
          ],
          [
           0.222
          ],
          [
           0.167
          ],
          [
           0.056
          ]
         ],
         "error_y": {
          "array": [
           0.01337510998029259,
           0.013106121727207152,
           0.013074435558371634,
           0.013261270520894595
          ]
         },
         "hovertemplate": "alpha=0.0<br>ei_disparity_mean=%{x}<br>loss_mean=%{y}<br>lambda=%{customdata[0]}<extra></extra>",
         "legendgroup": "0.0",
         "line": {
          "color": "#636efa",
          "dash": "solid"
         },
         "marker": {
          "symbol": "circle"
         },
         "mode": "lines+markers",
         "name": "0.0",
         "orientation": "v",
         "showlegend": true,
         "type": "scatter",
         "x": [
          0.1315797832995692,
          0.13161711105596954,
          0.13172789251559586,
          0.13182691415008235
         ],
         "xaxis": "x",
         "y": [
          0.2136,
          0.21350000000000002,
          0.21340000000000003,
          0.21330000000000005
         ],
         "yaxis": "y"
        },
        {
         "customdata": [
          [
           0.25
          ],
          [
           0.028
          ]
         ],
         "error_y": {
          "array": [
           0.011767224227064653,
           0.011931894557696757
          ]
         },
         "hovertemplate": "alpha=0.5<br>ei_disparity_mean=%{x}<br>loss_mean=%{y}<br>lambda=%{customdata[0]}<extra></extra>",
         "legendgroup": "0.5",
         "line": {
          "color": "#EF553B",
          "dash": "solid"
         },
         "marker": {
          "symbol": "circle"
         },
         "mode": "lines+markers",
         "name": "0.5",
         "orientation": "v",
         "showlegend": true,
         "type": "scatter",
         "x": [
          0.12595813859234015,
          0.1262115256615417
         ],
         "xaxis": "x",
         "y": [
          0.21340000000000003,
          0.21334999999999993
         ],
         "yaxis": "y"
        },
        {
         "customdata": [
          [
           0.167
          ],
          [
           0.139
          ],
          [
           0.083
          ]
         ],
         "error_y": {
          "array": [
           0.011762548047178776,
           0.011877818541006281,
           0.011549197797380043
          ]
         },
         "hovertemplate": "alpha=1.4<br>ei_disparity_mean=%{x}<br>loss_mean=%{y}<br>lambda=%{customdata[0]}<extra></extra>",
         "legendgroup": "1.4",
         "line": {
          "color": "#00cc96",
          "dash": "solid"
         },
         "marker": {
          "symbol": "circle"
         },
         "mode": "lines+markers",
         "name": "1.4",
         "orientation": "v",
         "showlegend": true,
         "type": "scatter",
         "x": [
          0.12612800269801008,
          0.12620327013123378,
          0.1265913165646257
         ],
         "xaxis": "x",
         "y": [
          0.21340000000000003,
          0.21334999999999993,
          0.21330000000000005
         ],
         "yaxis": "y"
        }
       ],
       "layout": {
        "annotations": [
         {
          "font": {
           "color": "black",
           "size": 10
          },
          "showarrow": false,
          "text": "dataset=synthetic",
          "textangle": 0,
          "x": 0.9,
          "xanchor": "left",
          "xref": "paper",
          "y": 0.99,
          "yref": "paper"
         }
        ],
        "legend": {
         "title": {
          "text": "alpha"
         },
         "tracegroupgap": 0
        },
        "margin": {
         "t": 60
        },
        "template": {
         "data": {
          "bar": [
           {
            "error_x": {
             "color": "#2a3f5f"
            },
            "error_y": {
             "color": "#2a3f5f"
            },
            "marker": {
             "line": {
              "color": "#E5ECF6",
              "width": 0.5
             },
             "pattern": {
              "fillmode": "overlay",
              "size": 10,
              "solidity": 0.2
             }
            },
            "type": "bar"
           }
          ],
          "barpolar": [
           {
            "marker": {
             "line": {
              "color": "#E5ECF6",
              "width": 0.5
             },
             "pattern": {
              "fillmode": "overlay",
              "size": 10,
              "solidity": 0.2
             }
            },
            "type": "barpolar"
           }
          ],
          "carpet": [
           {
            "aaxis": {
             "endlinecolor": "#2a3f5f",
             "gridcolor": "white",
             "linecolor": "white",
             "minorgridcolor": "white",
             "startlinecolor": "#2a3f5f"
            },
            "baxis": {
             "endlinecolor": "#2a3f5f",
             "gridcolor": "white",
             "linecolor": "white",
             "minorgridcolor": "white",
             "startlinecolor": "#2a3f5f"
            },
            "type": "carpet"
           }
          ],
          "choropleth": [
           {
            "colorbar": {
             "outlinewidth": 0,
             "ticks": ""
            },
            "type": "choropleth"
           }
          ],
          "contour": [
           {
            "colorbar": {
             "outlinewidth": 0,
             "ticks": ""
            },
            "colorscale": [
             [
              0,
              "#0d0887"
             ],
             [
              0.1111111111111111,
              "#46039f"
             ],
             [
              0.2222222222222222,
              "#7201a8"
             ],
             [
              0.3333333333333333,
              "#9c179e"
             ],
             [
              0.4444444444444444,
              "#bd3786"
             ],
             [
              0.5555555555555556,
              "#d8576b"
             ],
             [
              0.6666666666666666,
              "#ed7953"
             ],
             [
              0.7777777777777778,
              "#fb9f3a"
             ],
             [
              0.8888888888888888,
              "#fdca26"
             ],
             [
              1,
              "#f0f921"
             ]
            ],
            "type": "contour"
           }
          ],
          "contourcarpet": [
           {
            "colorbar": {
             "outlinewidth": 0,
             "ticks": ""
            },
            "type": "contourcarpet"
           }
          ],
          "heatmap": [
           {
            "colorbar": {
             "outlinewidth": 0,
             "ticks": ""
            },
            "colorscale": [
             [
              0,
              "#0d0887"
             ],
             [
              0.1111111111111111,
              "#46039f"
             ],
             [
              0.2222222222222222,
              "#7201a8"
             ],
             [
              0.3333333333333333,
              "#9c179e"
             ],
             [
              0.4444444444444444,
              "#bd3786"
             ],
             [
              0.5555555555555556,
              "#d8576b"
             ],
             [
              0.6666666666666666,
              "#ed7953"
             ],
             [
              0.7777777777777778,
              "#fb9f3a"
             ],
             [
              0.8888888888888888,
              "#fdca26"
             ],
             [
              1,
              "#f0f921"
             ]
            ],
            "type": "heatmap"
           }
          ],
          "heatmapgl": [
           {
            "colorbar": {
             "outlinewidth": 0,
             "ticks": ""
            },
            "colorscale": [
             [
              0,
              "#0d0887"
             ],
             [
              0.1111111111111111,
              "#46039f"
             ],
             [
              0.2222222222222222,
              "#7201a8"
             ],
             [
              0.3333333333333333,
              "#9c179e"
             ],
             [
              0.4444444444444444,
              "#bd3786"
             ],
             [
              0.5555555555555556,
              "#d8576b"
             ],
             [
              0.6666666666666666,
              "#ed7953"
             ],
             [
              0.7777777777777778,
              "#fb9f3a"
             ],
             [
              0.8888888888888888,
              "#fdca26"
             ],
             [
              1,
              "#f0f921"
             ]
            ],
            "type": "heatmapgl"
           }
          ],
          "histogram": [
           {
            "marker": {
             "pattern": {
              "fillmode": "overlay",
              "size": 10,
              "solidity": 0.2
             }
            },
            "type": "histogram"
           }
          ],
          "histogram2d": [
           {
            "colorbar": {
             "outlinewidth": 0,
             "ticks": ""
            },
            "colorscale": [
             [
              0,
              "#0d0887"
             ],
             [
              0.1111111111111111,
              "#46039f"
             ],
             [
              0.2222222222222222,
              "#7201a8"
             ],
             [
              0.3333333333333333,
              "#9c179e"
             ],
             [
              0.4444444444444444,
              "#bd3786"
             ],
             [
              0.5555555555555556,
              "#d8576b"
             ],
             [
              0.6666666666666666,
              "#ed7953"
             ],
             [
              0.7777777777777778,
              "#fb9f3a"
             ],
             [
              0.8888888888888888,
              "#fdca26"
             ],
             [
              1,
              "#f0f921"
             ]
            ],
            "type": "histogram2d"
           }
          ],
          "histogram2dcontour": [
           {
            "colorbar": {
             "outlinewidth": 0,
             "ticks": ""
            },
            "colorscale": [
             [
              0,
              "#0d0887"
             ],
             [
              0.1111111111111111,
              "#46039f"
             ],
             [
              0.2222222222222222,
              "#7201a8"
             ],
             [
              0.3333333333333333,
              "#9c179e"
             ],
             [
              0.4444444444444444,
              "#bd3786"
             ],
             [
              0.5555555555555556,
              "#d8576b"
             ],
             [
              0.6666666666666666,
              "#ed7953"
             ],
             [
              0.7777777777777778,
              "#fb9f3a"
             ],
             [
              0.8888888888888888,
              "#fdca26"
             ],
             [
              1,
              "#f0f921"
             ]
            ],
            "type": "histogram2dcontour"
           }
          ],
          "mesh3d": [
           {
            "colorbar": {
             "outlinewidth": 0,
             "ticks": ""
            },
            "type": "mesh3d"
           }
          ],
          "parcoords": [
           {
            "line": {
             "colorbar": {
              "outlinewidth": 0,
              "ticks": ""
             }
            },
            "type": "parcoords"
           }
          ],
          "pie": [
           {
            "automargin": true,
            "type": "pie"
           }
          ],
          "scatter": [
           {
            "fillpattern": {
             "fillmode": "overlay",
             "size": 10,
             "solidity": 0.2
            },
            "type": "scatter"
           }
          ],
          "scatter3d": [
           {
            "line": {
             "colorbar": {
              "outlinewidth": 0,
              "ticks": ""
             }
            },
            "marker": {
             "colorbar": {
              "outlinewidth": 0,
              "ticks": ""
             }
            },
            "type": "scatter3d"
           }
          ],
          "scattercarpet": [
           {
            "marker": {
             "colorbar": {
              "outlinewidth": 0,
              "ticks": ""
             }
            },
            "type": "scattercarpet"
           }
          ],
          "scattergeo": [
           {
            "marker": {
             "colorbar": {
              "outlinewidth": 0,
              "ticks": ""
             }
            },
            "type": "scattergeo"
           }
          ],
          "scattergl": [
           {
            "marker": {
             "colorbar": {
              "outlinewidth": 0,
              "ticks": ""
             }
            },
            "type": "scattergl"
           }
          ],
          "scattermapbox": [
           {
            "marker": {
             "colorbar": {
              "outlinewidth": 0,
              "ticks": ""
             }
            },
            "type": "scattermapbox"
           }
          ],
          "scatterpolar": [
           {
            "marker": {
             "colorbar": {
              "outlinewidth": 0,
              "ticks": ""
             }
            },
            "type": "scatterpolar"
           }
          ],
          "scatterpolargl": [
           {
            "marker": {
             "colorbar": {
              "outlinewidth": 0,
              "ticks": ""
             }
            },
            "type": "scatterpolargl"
           }
          ],
          "scatterternary": [
           {
            "marker": {
             "colorbar": {
              "outlinewidth": 0,
              "ticks": ""
             }
            },
            "type": "scatterternary"
           }
          ],
          "surface": [
           {
            "colorbar": {
             "outlinewidth": 0,
             "ticks": ""
            },
            "colorscale": [
             [
              0,
              "#0d0887"
             ],
             [
              0.1111111111111111,
              "#46039f"
             ],
             [
              0.2222222222222222,
              "#7201a8"
             ],
             [
              0.3333333333333333,
              "#9c179e"
             ],
             [
              0.4444444444444444,
              "#bd3786"
             ],
             [
              0.5555555555555556,
              "#d8576b"
             ],
             [
              0.6666666666666666,
              "#ed7953"
             ],
             [
              0.7777777777777778,
              "#fb9f3a"
             ],
             [
              0.8888888888888888,
              "#fdca26"
             ],
             [
              1,
              "#f0f921"
             ]
            ],
            "type": "surface"
           }
          ],
          "table": [
           {
            "cells": {
             "fill": {
              "color": "#EBF0F8"
             },
             "line": {
              "color": "white"
             }
            },
            "header": {
             "fill": {
              "color": "#C8D4E3"
             },
             "line": {
              "color": "white"
             }
            },
            "type": "table"
           }
          ]
         },
         "layout": {
          "annotationdefaults": {
           "arrowcolor": "#2a3f5f",
           "arrowhead": 0,
           "arrowwidth": 1
          },
          "autotypenumbers": "strict",
          "coloraxis": {
           "colorbar": {
            "outlinewidth": 0,
            "ticks": ""
           }
          },
          "colorscale": {
           "diverging": [
            [
             0,
             "#8e0152"
            ],
            [
             0.1,
             "#c51b7d"
            ],
            [
             0.2,
             "#de77ae"
            ],
            [
             0.3,
             "#f1b6da"
            ],
            [
             0.4,
             "#fde0ef"
            ],
            [
             0.5,
             "#f7f7f7"
            ],
            [
             0.6,
             "#e6f5d0"
            ],
            [
             0.7,
             "#b8e186"
            ],
            [
             0.8,
             "#7fbc41"
            ],
            [
             0.9,
             "#4d9221"
            ],
            [
             1,
             "#276419"
            ]
           ],
           "sequential": [
            [
             0,
             "#0d0887"
            ],
            [
             0.1111111111111111,
             "#46039f"
            ],
            [
             0.2222222222222222,
             "#7201a8"
            ],
            [
             0.3333333333333333,
             "#9c179e"
            ],
            [
             0.4444444444444444,
             "#bd3786"
            ],
            [
             0.5555555555555556,
             "#d8576b"
            ],
            [
             0.6666666666666666,
             "#ed7953"
            ],
            [
             0.7777777777777778,
             "#fb9f3a"
            ],
            [
             0.8888888888888888,
             "#fdca26"
            ],
            [
             1,
             "#f0f921"
            ]
           ],
           "sequentialminus": [
            [
             0,
             "#0d0887"
            ],
            [
             0.1111111111111111,
             "#46039f"
            ],
            [
             0.2222222222222222,
             "#7201a8"
            ],
            [
             0.3333333333333333,
             "#9c179e"
            ],
            [
             0.4444444444444444,
             "#bd3786"
            ],
            [
             0.5555555555555556,
             "#d8576b"
            ],
            [
             0.6666666666666666,
             "#ed7953"
            ],
            [
             0.7777777777777778,
             "#fb9f3a"
            ],
            [
             0.8888888888888888,
             "#fdca26"
            ],
            [
             1,
             "#f0f921"
            ]
           ]
          },
          "colorway": [
           "#636efa",
           "#EF553B",
           "#00cc96",
           "#ab63fa",
           "#FFA15A",
           "#19d3f3",
           "#FF6692",
           "#B6E880",
           "#FF97FF",
           "#FECB52"
          ],
          "font": {
           "color": "#2a3f5f"
          },
          "geo": {
           "bgcolor": "white",
           "lakecolor": "white",
           "landcolor": "#E5ECF6",
           "showlakes": true,
           "showland": true,
           "subunitcolor": "white"
          },
          "hoverlabel": {
           "align": "left"
          },
          "hovermode": "closest",
          "mapbox": {
           "style": "light"
          },
          "paper_bgcolor": "white",
          "plot_bgcolor": "#E5ECF6",
          "polar": {
           "angularaxis": {
            "gridcolor": "white",
            "linecolor": "white",
            "ticks": ""
           },
           "bgcolor": "#E5ECF6",
           "radialaxis": {
            "gridcolor": "white",
            "linecolor": "white",
            "ticks": ""
           }
          },
          "scene": {
           "xaxis": {
            "backgroundcolor": "#E5ECF6",
            "gridcolor": "white",
            "gridwidth": 2,
            "linecolor": "white",
            "showbackground": true,
            "ticks": "",
            "zerolinecolor": "white"
           },
           "yaxis": {
            "backgroundcolor": "#E5ECF6",
            "gridcolor": "white",
            "gridwidth": 2,
            "linecolor": "white",
            "showbackground": true,
            "ticks": "",
            "zerolinecolor": "white"
           },
           "zaxis": {
            "backgroundcolor": "#E5ECF6",
            "gridcolor": "white",
            "gridwidth": 2,
            "linecolor": "white",
            "showbackground": true,
            "ticks": "",
            "zerolinecolor": "white"
           }
          },
          "shapedefaults": {
           "line": {
            "color": "#2a3f5f"
           }
          },
          "ternary": {
           "aaxis": {
            "gridcolor": "white",
            "linecolor": "white",
            "ticks": ""
           },
           "baxis": {
            "gridcolor": "white",
            "linecolor": "white",
            "ticks": ""
           },
           "bgcolor": "#E5ECF6",
           "caxis": {
            "gridcolor": "white",
            "linecolor": "white",
            "ticks": ""
           }
          },
          "title": {
           "x": 0.05
          },
          "xaxis": {
           "automargin": true,
           "gridcolor": "white",
           "linecolor": "white",
           "ticks": "",
           "title": {
            "standoff": 15
           },
           "zerolinecolor": "white",
           "zerolinewidth": 2
          },
          "yaxis": {
           "automargin": true,
           "gridcolor": "white",
           "linecolor": "white",
           "ticks": "",
           "title": {
            "standoff": 15
           },
           "zerolinecolor": "white",
           "zerolinewidth": 2
          }
         }
        },
        "title": {
         "text": "Fairness vs Loss Tradeoff",
         "x": 0.5
        },
        "xaxis": {
         "anchor": "y",
         "domain": [
          0,
          1
         ],
         "title": {
          "text": "ei_disparity_mean"
         }
        },
        "yaxis": {
         "anchor": "x",
         "domain": [
          0,
          1
         ],
         "title": {
          "text": "loss_mean"
         }
        }
       }
      }
     },
     "metadata": {},
     "output_type": "display_data"
    }
   ],
   "source": [
    "fig = px.line(test_results_pareto, x='ei_disparity_mean', y='loss_mean', color='alpha', hover_data='lambda', markers=True, error_y='ei_disparity_std')\n",
    "fig.add_annotation(dict(font=dict(color='black',size=10),\n",
    "                                        x=0.9,\n",
    "                                        y=0.99,\n",
    "                                        showarrow=False,\n",
    "                                        text='dataset=synthetic',\n",
    "                                        textangle=0,\n",
    "                                        xanchor='left',\n",
    "                                        xref=\"paper\",\n",
    "                                        yref=\"paper\"))\n",
    "fig.update_layout(title=dict(text='Fairness vs Loss Tradeoff', x=0.5))\n",
    "# fig.update_traces(marker=dict(size=3))\n",
    "fig.show()"
   ]
  }
 ],
 "metadata": {
  "kernelspec": {
   "display_name": ".env",
   "language": "python",
   "name": "python3"
  },
  "language_info": {
   "codemirror_mode": {
    "name": "ipython",
    "version": 3
   },
   "file_extension": ".py",
   "mimetype": "text/x-python",
   "name": "python",
   "nbconvert_exporter": "python",
   "pygments_lexer": "ipython3",
   "version": "3.11.9"
  }
 },
 "nbformat": 4,
 "nbformat_minor": 2
}
