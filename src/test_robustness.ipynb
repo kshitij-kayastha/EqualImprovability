{
 "cells": [
  {
   "cell_type": "code",
   "execution_count": 1,
   "metadata": {},
   "outputs": [],
   "source": [
    "import torch\n",
    "import pickle\n",
    "import numpy as np\n",
    "import pandas as pd\n",
    "import plotly.express as px\n",
    "from copy import deepcopy\n",
    "\n",
    "\n",
    "from model import LR\n",
    "from data import FairnessDataset, SyntheticDataset, GermanDataset\n",
    "from ei_model_dev import FairBatch, Covariance\n",
    "from ei_effort import Optimal_Effort, PGD_Effort\n",
    "from ei_utils import *"
   ]
  },
  {
   "cell_type": "code",
   "execution_count": 2,
   "metadata": {},
   "outputs": [],
   "source": [
    "dataset = SyntheticDataset(seed=0)\n",
    "# dataset = GermanDataset()"
   ]
  },
  {
   "cell_type": "code",
   "execution_count": 3,
   "metadata": {},
   "outputs": [],
   "source": [
    "def append_res(d, acc, ei):\n",
    "    d['accuracy'].append(acc)\n",
    "    d['loss'].append(1-acc)\n",
    "    d['ei_disparity'].append(ei)\n",
    "        \n",
    "def get_res(d, hp):\n",
    "    res = {'alpha': [],'alpha_prime': [], 'lambda': [], 'delta': [],'delta_prime': [], 'accuracy_mean': [], 'accuracy_std': [], 'loss_mean': [], 'loss_std': [], 'ei_disparity_mean': [], 'ei_disparity_std': []}\n",
    "    res['alpha'].append(hp['alpha'])\n",
    "    res['alpha_prime'].append(hp['alpha_prime'])\n",
    "    res['lambda'].append(hp['lambda'])\n",
    "    res['delta'].append(hp['delta'])\n",
    "    res['delta_prime'].append(hp['delta_prime'])\n",
    "    res['accuracy_mean'].append(np.mean(d['accuracy']))\n",
    "    res['accuracy_std'].append(np.std(d['accuracy']))\n",
    "    res['loss_mean'].append(np.mean(d['loss']))\n",
    "    res['loss_std'].append(np.std(d['loss']))\n",
    "    res['ei_disparity_mean'].append(np.mean(d['ei_disparity']))\n",
    "    res['ei_disparity_std'].append(np.std(d['ei_disparity']))\n",
    "    \n",
    "    return res"
   ]
  },
  {
   "cell_type": "code",
   "execution_count": 4,
   "metadata": {},
   "outputs": [],
   "source": [
    "def model_runner(ei_model, dataset, hp, seeds):\n",
    "    tau = 0.5\n",
    "    pga_term = hp['pga_term']\n",
    "    metrics = {'accuracy': [], 'loss': [], 'ei_disparity': []}\n",
    "    metrics_r = {'accuracy': [], 'loss': [], 'ei_disparity': []}\n",
    "    \n",
    "    if hp['optimal_effort']:\n",
    "        effort = Optimal_Effort(hp['delta'])\n",
    "    else:\n",
    "        effort = PGD_Effort(hp['delta'])\n",
    "    \n",
    "    for seed in seeds:\n",
    "        train_tensors, val_tensors, test_tensors = dataset.tensor(fold=seed, z_blind=hp['z_blind'])\n",
    "        train_dataset = FairnessDataset(*train_tensors, dataset.imp_feats)\n",
    "        val_dataset = FairnessDataset(*val_tensors, dataset.imp_feats)\n",
    "        test_dataset = FairnessDataset(*test_tensors, dataset.imp_feats)\n",
    "        \n",
    "        model = LR(num_features=train_dataset.X.shape[1])\n",
    "        ei_m = ei_model(model, effort, pga_term, tau)\n",
    "        \n",
    "        ei_m.train(\n",
    "            train_dataset, \n",
    "            lamb=hp['lambda'],\n",
    "            lr=hp['learning_rate'],\n",
    "            alpha=hp['alpha'],\n",
    "            batch_size=len(train_dataset)\n",
    "            )\n",
    "        \n",
    "        Y_hat, Y_hat_max = ei_m.predict(test_dataset, hp['alpha'])\n",
    "        test_acc, test_ei = model_performance(test_dataset.Y.detach().numpy(), test_dataset.Z.detach().numpy(), Y_hat, Y_hat_max, tau)\n",
    "        append_res(metrics, test_acc, test_ei)\n",
    "        \n",
    "        Y_hat_r, Y_hat_max_r = ei_m.predict_r(test_dataset, hp['alpha_prime'], hp['delta_prime'])\n",
    "        test_acc_r, test_ei_r = model_performance(test_dataset.Y.detach().numpy(), test_dataset.Z.detach().numpy(), Y_hat_r, Y_hat_max_r, tau)\n",
    "        append_res(metrics_r, test_acc_r, test_ei_r)\n",
    "\n",
    "        models = [ei_m.model, ei_m.model_adv, ei_m.model_adv_r]\n",
    "        t1, t2, t3, t4 = None, None, None, None\n",
    "        for i, model in enumerate(models):\n",
    "            for module in model.layers:\n",
    "                if hasattr(module, 'weight'):\n",
    "                    weight = module.weight.data.numpy()\n",
    "                    bias = module.bias.data.numpy()\n",
    "                    theta = np.hstack((weight[0], bias))\n",
    "                    if i == 0: t1 = theta\n",
    "                    if i == 1: t2 = theta\n",
    "                    if i == 2: t3 = theta        \n",
    "        \n",
    "    results = get_res(metrics, hp)\n",
    "    results_r = get_res(metrics_r, hp)\n",
    "    \n",
    "    return results, results_r, t1, t2, t3"
   ]
  },
  {
   "cell_type": "code",
   "execution_count": 5,
   "metadata": {},
   "outputs": [],
   "source": [
    "def run_tradeoff(ei_model, dataset, hyper_params, seeds):\n",
    "    hp = hyper_params.copy()\n",
    "    results = pd.DataFrame()\n",
    "    results_r = pd.DataFrame()\n",
    "    models = {'lambda': [], 'alpha': [],'alpha_prime': [], 'theta': [], 'theta_adv': [], 'theta_adv_r': []}\n",
    "    \n",
    "    for alpha in hyper_params['alpha']:\n",
    "        for lamb in hyper_params['lambda']:\n",
    "            for delta in hyper_params['delta']:\n",
    "                for alpha_prime in hyper_params['alpha_prime']:\n",
    "                    hp['alpha'] = alpha\n",
    "                    hp['lambda'] = lamb\n",
    "                    hp['delta'] = delta\n",
    "                    hp['alpha_prime'] = alpha_prime\n",
    "                    \n",
    "                    result, result_r, m1, m2, m3 = model_runner(ei_model, dataset, hp, seeds)\n",
    "                    results = pd.concat((results, pd.DataFrame(result)))\n",
    "                    results_r = pd.concat((results_r, pd.DataFrame(result_r)))\n",
    "                    models['lambda'].append(lamb)\n",
    "                    models['alpha'].append(alpha)\n",
    "                    models['alpha_prime'].append(alpha_prime)\n",
    "                    models['theta'].append(m1)\n",
    "                    models['theta_adv'].append(m2)\n",
    "                    models['theta_adv_r'].append(m3)\n",
    "                    print()\n",
    "    \n",
    "    return results, results_r, models"
   ]
  },
  {
   "cell_type": "code",
   "execution_count": 6,
   "metadata": {},
   "outputs": [
    {
     "name": "stderr",
     "output_type": "stream",
     "text": [
      "Training [alpha=0.00; lambda=0.00; delta=0.00]: 100%|\u001b[38;2;0;145;255m██████████\u001b[0m| 100/100 [00:08<00:00, 12.39epochs/s]\n",
      "Training [alpha=0.00; lambda=0.00; delta=0.50]: 100%|\u001b[38;2;0;145;255m██████████\u001b[0m| 100/100 [00:08<00:00, 12.04epochs/s]\n"
     ]
    },
    {
     "name": "stdout",
     "output_type": "stream",
     "text": [
      "\n"
     ]
    },
    {
     "name": "stderr",
     "output_type": "stream",
     "text": [
      "Training [alpha=0.00; lambda=0.00; delta=0.00]: 100%|\u001b[38;2;0;145;255m██████████\u001b[0m| 100/100 [00:08<00:00, 12.04epochs/s]\n",
      "Training [alpha=0.00; lambda=0.00; delta=0.50]: 100%|\u001b[38;2;0;145;255m██████████\u001b[0m| 100/100 [00:08<00:00, 12.09epochs/s]\n"
     ]
    },
    {
     "name": "stdout",
     "output_type": "stream",
     "text": [
      "\n"
     ]
    },
    {
     "name": "stderr",
     "output_type": "stream",
     "text": [
      "Training [alpha=0.00; lambda=0.00; delta=0.00]: 100%|\u001b[38;2;0;145;255m██████████\u001b[0m| 100/100 [00:08<00:00, 12.17epochs/s]\n",
      "Training [alpha=0.00; lambda=0.00; delta=0.50]: 100%|\u001b[38;2;0;145;255m██████████\u001b[0m| 100/100 [00:08<00:00, 11.94epochs/s]\n"
     ]
    },
    {
     "name": "stdout",
     "output_type": "stream",
     "text": [
      "\n"
     ]
    },
    {
     "name": "stderr",
     "output_type": "stream",
     "text": [
      "Training [alpha=0.10; lambda=0.00; delta=0.00]: 100%|\u001b[38;2;0;145;255m██████████\u001b[0m| 100/100 [00:09<00:00, 10.61epochs/s]\n",
      "Training [alpha=0.10; lambda=0.00; delta=0.50]: 100%|\u001b[38;2;0;145;255m██████████\u001b[0m| 100/100 [00:10<00:00,  9.99epochs/s]\n"
     ]
    },
    {
     "name": "stdout",
     "output_type": "stream",
     "text": [
      "\n"
     ]
    },
    {
     "name": "stderr",
     "output_type": "stream",
     "text": [
      "Training [alpha=0.10; lambda=0.00; delta=0.00]: 100%|\u001b[38;2;0;145;255m██████████\u001b[0m| 100/100 [00:09<00:00, 10.21epochs/s]\n",
      "Training [alpha=0.10; lambda=0.00; delta=0.50]: 100%|\u001b[38;2;0;145;255m██████████\u001b[0m| 100/100 [00:09<00:00, 10.12epochs/s]\n"
     ]
    },
    {
     "name": "stdout",
     "output_type": "stream",
     "text": [
      "\n"
     ]
    },
    {
     "name": "stderr",
     "output_type": "stream",
     "text": [
      "Training [alpha=0.10; lambda=0.00; delta=0.00]: 100%|\u001b[38;2;0;145;255m██████████\u001b[0m| 100/100 [00:09<00:00, 10.46epochs/s]\n",
      "Training [alpha=0.10; lambda=0.00; delta=0.50]: 100%|\u001b[38;2;0;145;255m██████████\u001b[0m| 100/100 [00:10<00:00,  9.62epochs/s]\n"
     ]
    },
    {
     "name": "stdout",
     "output_type": "stream",
     "text": [
      "\n"
     ]
    },
    {
     "name": "stderr",
     "output_type": "stream",
     "text": [
      "Training [alpha=0.50; lambda=0.00; delta=0.00]: 100%|\u001b[38;2;0;145;255m██████████\u001b[0m| 100/100 [00:12<00:00,  7.77epochs/s]\n",
      "Training [alpha=0.50; lambda=0.00; delta=0.50]: 100%|\u001b[38;2;0;145;255m██████████\u001b[0m| 100/100 [00:13<00:00,  7.19epochs/s]\n"
     ]
    },
    {
     "name": "stdout",
     "output_type": "stream",
     "text": [
      "\n"
     ]
    },
    {
     "name": "stderr",
     "output_type": "stream",
     "text": [
      "Training [alpha=0.50; lambda=0.00; delta=0.00]: 100%|\u001b[38;2;0;145;255m██████████\u001b[0m| 100/100 [00:14<00:00,  6.91epochs/s]\n",
      "Training [alpha=0.50; lambda=0.00; delta=0.50]: 100%|\u001b[38;2;0;145;255m██████████\u001b[0m| 100/100 [00:16<00:00,  6.08epochs/s]\n"
     ]
    },
    {
     "name": "stdout",
     "output_type": "stream",
     "text": [
      "\n"
     ]
    },
    {
     "name": "stderr",
     "output_type": "stream",
     "text": [
      "Training [alpha=0.50; lambda=0.00; delta=0.00]: 100%|\u001b[38;2;0;145;255m██████████\u001b[0m| 100/100 [00:14<00:00,  6.85epochs/s]\n",
      "Training [alpha=0.50; lambda=0.00; delta=0.50]: 100%|\u001b[38;2;0;145;255m██████████\u001b[0m| 100/100 [00:18<00:00,  5.51epochs/s]\n"
     ]
    },
    {
     "name": "stdout",
     "output_type": "stream",
     "text": [
      "\n"
     ]
    }
   ],
   "source": [
    "# torch.manual_seed(0)\n",
    "# Hyperparameters\n",
    "hyper_params = {}\n",
    "hyper_params['delta_prime'] = [0.5]\n",
    "hyper_params['delta'] = [0.]\n",
    "hyper_params['alpha'] = [0., 0.1, 0.5]\n",
    "hyper_params['alpha_prime'] = [0., 0.1, 1]\n",
    "hyper_params['learning_rate'] = 0.01\n",
    "hyper_params['pga_term'] = np.divide(1e-5,2)\n",
    "hyper_params['z_blind'] = False\n",
    "hyper_params['optimal_effort'] = True # True only for Synthetic Data\n",
    "\n",
    "# 5-Fold Cross Validation\n",
    "seeds = list(range(2))\n",
    "\n",
    "# EI Proxy (set ei_proxy to FairBatch or Covariance)\n",
    "ei_proxy = 'FairBatch'\n",
    "\n",
    "if ei_proxy == 'FairBatch':\n",
    "    ei_model = FairBatch\n",
    "    # hyper_params['lambda'] = np.linspace(0., 0.25, 10) # FairBatch lambdas\n",
    "    # hyper_params['lambda'] = [0.88] # lambda value that minimizes ei for FairBatch\n",
    "    hyper_params['lambda'] = [0.] # lambda value that minimizes ei for FairBatch\n",
    "elif ei_proxy == 'Covariance':\n",
    "    ei_model = Covariance\n",
    "    # hyper_params['lambda'] = 1-np.geomspace(0.001,0.999, 20) # Covariance lambdas\n",
    "    # hyper_params['lambda'] = [0.991144] # lambda value that minimizes ei for Covariance\n",
    "    hyper_params['lambda'] = [0., 1.] # lambda value that minimizes ei for Covariance\n",
    "\n",
    "# Run tradeoffs\n",
    "results, results_r, models = run_tradeoff(ei_model, dataset, hyper_params, seeds)\n",
    "results['alpha'] = results['alpha'].round(2)\n",
    "results_r['alpha'] = results_r['alpha'].round(2)\n",
    "\n",
    "results['alpha_prime'] = results['alpha_prime'].round(2)\n",
    "results_r['alpha_prime'] = results_r['alpha_prime'].round(2)\n",
    "# results['alpha'] = results['alpha'].astype(str)"
   ]
  },
  {
   "cell_type": "code",
   "execution_count": 7,
   "metadata": {},
   "outputs": [
    {
     "name": "stderr",
     "output_type": "stream",
     "text": [
      "/var/folders/hq/6c46f7qn34j_6t0dk32c3__w2wshhs/T/ipykernel_9190/3659041380.py:2: FutureWarning: DataFrame.applymap has been deprecated. Use DataFrame.map instead.\n",
      "  dt = dt.applymap(lambda x: np.round(x, 2))\n"
     ]
    },
    {
     "data": {
      "text/html": [
       "<div>\n",
       "<style scoped>\n",
       "    .dataframe tbody tr th:only-of-type {\n",
       "        vertical-align: middle;\n",
       "    }\n",
       "\n",
       "    .dataframe tbody tr th {\n",
       "        vertical-align: top;\n",
       "    }\n",
       "\n",
       "    .dataframe thead th {\n",
       "        text-align: right;\n",
       "    }\n",
       "</style>\n",
       "<table border=\"1\" class=\"dataframe\">\n",
       "  <thead>\n",
       "    <tr style=\"text-align: right;\">\n",
       "      <th></th>\n",
       "      <th>lambda</th>\n",
       "      <th>alpha</th>\n",
       "      <th>theta</th>\n",
       "      <th>theta_adv</th>\n",
       "      <th>theta_adv_r</th>\n",
       "      <th>L-inf(theta-theta_adv)</th>\n",
       "    </tr>\n",
       "  </thead>\n",
       "  <tbody>\n",
       "    <tr>\n",
       "      <th>0</th>\n",
       "      <td>0.0</td>\n",
       "      <td>0.0</td>\n",
       "      <td>[0.61, 1.01, 0.18, -0.32]</td>\n",
       "      <td>[0.61, 1.01, 0.18, -0.32]</td>\n",
       "      <td>[0.61, 1.01, 0.18, -0.32]</td>\n",
       "      <td>0.0</td>\n",
       "    </tr>\n",
       "    <tr>\n",
       "      <th>1</th>\n",
       "      <td>0.0</td>\n",
       "      <td>0.1</td>\n",
       "      <td>[0.31, 0.51, 0.58, -0.67]</td>\n",
       "      <td>[0.21, 0.41, 0.68, -0.77]</td>\n",
       "      <td>[0.21, 0.41, 0.68, -0.77]</td>\n",
       "      <td>0.1</td>\n",
       "    </tr>\n",
       "    <tr>\n",
       "      <th>2</th>\n",
       "      <td>0.0</td>\n",
       "      <td>1.5</td>\n",
       "      <td>[0.98, 1.3, 0.18, -0.36]</td>\n",
       "      <td>[-0.52, -0.2, 1.68, -1.86]</td>\n",
       "      <td>[-0.0, -0.0, 1.68, -1.86]</td>\n",
       "      <td>1.5</td>\n",
       "    </tr>\n",
       "    <tr>\n",
       "      <th>3</th>\n",
       "      <td>0.0</td>\n",
       "      <td>2.0</td>\n",
       "      <td>[0.48, 0.73, 0.23, -0.31]</td>\n",
       "      <td>[-0.15, -1.27, 2.23, -2.31]</td>\n",
       "      <td>[0.0, -0.0, 2.23, -2.31]</td>\n",
       "      <td>2.0</td>\n",
       "    </tr>\n",
       "  </tbody>\n",
       "</table>\n",
       "</div>"
      ],
      "text/plain": [
       "   lambda  alpha                      theta                    theta_adv  \\\n",
       "0     0.0    0.0  [0.61, 1.01, 0.18, -0.32]    [0.61, 1.01, 0.18, -0.32]   \n",
       "1     0.0    0.1  [0.31, 0.51, 0.58, -0.67]    [0.21, 0.41, 0.68, -0.77]   \n",
       "2     0.0    1.5   [0.98, 1.3, 0.18, -0.36]   [-0.52, -0.2, 1.68, -1.86]   \n",
       "3     0.0    2.0  [0.48, 0.73, 0.23, -0.31]  [-0.15, -1.27, 2.23, -2.31]   \n",
       "\n",
       "                 theta_adv_r  L-inf(theta-theta_adv)  \n",
       "0  [0.61, 1.01, 0.18, -0.32]                     0.0  \n",
       "1  [0.21, 0.41, 0.68, -0.77]                     0.1  \n",
       "2  [-0.0, -0.0, 1.68, -1.86]                     1.5  \n",
       "3   [0.0, -0.0, 2.23, -2.31]                     2.0  "
      ]
     },
     "execution_count": 7,
     "metadata": {},
     "output_type": "execute_result"
    }
   ],
   "source": [
    "dt = pd.DataFrame(models)\n",
    "dt = dt.applymap(lambda x: np.round(x, 2))\n",
    "dt['L-inf(theta-theta_adv)'] = (dt.theta - dt.theta_adv).apply(lambda x: np.linalg.norm(x, np.inf))\n",
    "dt[dt['lambda']==1.][['lambda', 'alpha', 'theta', 'theta_adv', 'L-inf(theta-theta_adv)']].set_index('lambda').sort_index()\n",
    "dt"
   ]
  },
  {
   "cell_type": "code",
   "execution_count": 7,
   "metadata": {},
   "outputs": [
    {
     "name": "stderr",
     "output_type": "stream",
     "text": [
      "/var/folders/hq/6c46f7qn34j_6t0dk32c3__w2wshhs/T/ipykernel_42368/3706294902.py:2: FutureWarning: DataFrame.applymap has been deprecated. Use DataFrame.map instead.\n",
      "  dt = dt.applymap(lambda x: np.round(x, 2))\n"
     ]
    },
    {
     "data": {
      "text/html": [
       "<div>\n",
       "<style scoped>\n",
       "    .dataframe tbody tr th:only-of-type {\n",
       "        vertical-align: middle;\n",
       "    }\n",
       "\n",
       "    .dataframe tbody tr th {\n",
       "        vertical-align: top;\n",
       "    }\n",
       "\n",
       "    .dataframe thead th {\n",
       "        text-align: right;\n",
       "    }\n",
       "</style>\n",
       "<table border=\"1\" class=\"dataframe\">\n",
       "  <thead>\n",
       "    <tr style=\"text-align: right;\">\n",
       "      <th></th>\n",
       "      <th>lambda</th>\n",
       "      <th>alpha</th>\n",
       "      <th>alpha_prime</th>\n",
       "      <th>theta</th>\n",
       "      <th>theta_adv</th>\n",
       "      <th>theta_adv_r</th>\n",
       "      <th>L-inf(theta-theta_adv)</th>\n",
       "    </tr>\n",
       "  </thead>\n",
       "  <tbody>\n",
       "    <tr>\n",
       "      <th>0</th>\n",
       "      <td>0.0</td>\n",
       "      <td>0.0</td>\n",
       "      <td>0.0</td>\n",
       "      <td>[0.87, 1.04, 0.8, -0.9]</td>\n",
       "      <td>[0.87, 1.04, 0.8, -0.9]</td>\n",
       "      <td>[0.87, 1.04, 0.8, -0.9]</td>\n",
       "      <td>0.0</td>\n",
       "    </tr>\n",
       "    <tr>\n",
       "      <th>1</th>\n",
       "      <td>0.0</td>\n",
       "      <td>0.0</td>\n",
       "      <td>0.1</td>\n",
       "      <td>[0.55, 0.76, 0.49, -0.56]</td>\n",
       "      <td>[0.55, 0.76, 0.49, -0.56]</td>\n",
       "      <td>[0.45, 0.66, 0.59, -0.66]</td>\n",
       "      <td>0.0</td>\n",
       "    </tr>\n",
       "    <tr>\n",
       "      <th>2</th>\n",
       "      <td>0.0</td>\n",
       "      <td>0.0</td>\n",
       "      <td>1.0</td>\n",
       "      <td>[1.0, 0.84, 0.26, -0.65]</td>\n",
       "      <td>[1.0, 0.84, 0.26, -0.65]</td>\n",
       "      <td>[0.0, 0.0, 1.26, -1.65]</td>\n",
       "      <td>0.0</td>\n",
       "    </tr>\n",
       "    <tr>\n",
       "      <th>3</th>\n",
       "      <td>0.0</td>\n",
       "      <td>0.1</td>\n",
       "      <td>0.0</td>\n",
       "      <td>[1.2, 0.37, 0.26, -0.66]</td>\n",
       "      <td>[1.3, 0.27, 0.36, -0.76]</td>\n",
       "      <td>[1.2, 0.37, 0.26, -0.66]</td>\n",
       "      <td>0.1</td>\n",
       "    </tr>\n",
       "    <tr>\n",
       "      <th>4</th>\n",
       "      <td>0.0</td>\n",
       "      <td>0.1</td>\n",
       "      <td>0.1</td>\n",
       "      <td>[0.64, 0.42, 0.45, -0.56]</td>\n",
       "      <td>[0.54, 0.32, 0.55, -0.66]</td>\n",
       "      <td>[0.54, 0.32, 0.55, -0.66]</td>\n",
       "      <td>0.1</td>\n",
       "    </tr>\n",
       "    <tr>\n",
       "      <th>5</th>\n",
       "      <td>0.0</td>\n",
       "      <td>0.1</td>\n",
       "      <td>1.0</td>\n",
       "      <td>[0.47, 0.55, 0.73, -0.81]</td>\n",
       "      <td>[0.37, 0.45, 0.83, -0.91]</td>\n",
       "      <td>[-0.0, 0.0, 1.73, -1.81]</td>\n",
       "      <td>0.1</td>\n",
       "    </tr>\n",
       "    <tr>\n",
       "      <th>6</th>\n",
       "      <td>0.0</td>\n",
       "      <td>0.5</td>\n",
       "      <td>0.0</td>\n",
       "      <td>[1.22, 1.07, 0.02, -0.25]</td>\n",
       "      <td>[1.59, 0.57, 0.52, -0.75]</td>\n",
       "      <td>[1.22, 1.07, 0.02, -0.25]</td>\n",
       "      <td>0.5</td>\n",
       "    </tr>\n",
       "    <tr>\n",
       "      <th>7</th>\n",
       "      <td>0.0</td>\n",
       "      <td>0.5</td>\n",
       "      <td>0.1</td>\n",
       "      <td>[0.34, 1.31, 0.67, -0.74]</td>\n",
       "      <td>[-0.16, 0.81, 1.17, -1.24]</td>\n",
       "      <td>[0.24, 1.21, 0.77, -0.84]</td>\n",
       "      <td>0.5</td>\n",
       "    </tr>\n",
       "    <tr>\n",
       "      <th>8</th>\n",
       "      <td>0.0</td>\n",
       "      <td>0.5</td>\n",
       "      <td>1.0</td>\n",
       "      <td>[0.77, 1.04, 0.45, -0.73]</td>\n",
       "      <td>[0.27, 0.54, 0.95, -1.23]</td>\n",
       "      <td>[-0.0, 0.04, 1.45, -1.73]</td>\n",
       "      <td>0.5</td>\n",
       "    </tr>\n",
       "  </tbody>\n",
       "</table>\n",
       "</div>"
      ],
      "text/plain": [
       "   lambda  alpha  alpha_prime                      theta  \\\n",
       "0     0.0    0.0          0.0    [0.87, 1.04, 0.8, -0.9]   \n",
       "1     0.0    0.0          0.1  [0.55, 0.76, 0.49, -0.56]   \n",
       "2     0.0    0.0          1.0   [1.0, 0.84, 0.26, -0.65]   \n",
       "3     0.0    0.1          0.0   [1.2, 0.37, 0.26, -0.66]   \n",
       "4     0.0    0.1          0.1  [0.64, 0.42, 0.45, -0.56]   \n",
       "5     0.0    0.1          1.0  [0.47, 0.55, 0.73, -0.81]   \n",
       "6     0.0    0.5          0.0  [1.22, 1.07, 0.02, -0.25]   \n",
       "7     0.0    0.5          0.1  [0.34, 1.31, 0.67, -0.74]   \n",
       "8     0.0    0.5          1.0  [0.77, 1.04, 0.45, -0.73]   \n",
       "\n",
       "                    theta_adv                theta_adv_r  \\\n",
       "0     [0.87, 1.04, 0.8, -0.9]    [0.87, 1.04, 0.8, -0.9]   \n",
       "1   [0.55, 0.76, 0.49, -0.56]  [0.45, 0.66, 0.59, -0.66]   \n",
       "2    [1.0, 0.84, 0.26, -0.65]    [0.0, 0.0, 1.26, -1.65]   \n",
       "3    [1.3, 0.27, 0.36, -0.76]   [1.2, 0.37, 0.26, -0.66]   \n",
       "4   [0.54, 0.32, 0.55, -0.66]  [0.54, 0.32, 0.55, -0.66]   \n",
       "5   [0.37, 0.45, 0.83, -0.91]   [-0.0, 0.0, 1.73, -1.81]   \n",
       "6   [1.59, 0.57, 0.52, -0.75]  [1.22, 1.07, 0.02, -0.25]   \n",
       "7  [-0.16, 0.81, 1.17, -1.24]  [0.24, 1.21, 0.77, -0.84]   \n",
       "8   [0.27, 0.54, 0.95, -1.23]  [-0.0, 0.04, 1.45, -1.73]   \n",
       "\n",
       "   L-inf(theta-theta_adv)  \n",
       "0                     0.0  \n",
       "1                     0.0  \n",
       "2                     0.0  \n",
       "3                     0.1  \n",
       "4                     0.1  \n",
       "5                     0.1  \n",
       "6                     0.5  \n",
       "7                     0.5  \n",
       "8                     0.5  "
      ]
     },
     "execution_count": 7,
     "metadata": {},
     "output_type": "execute_result"
    }
   ],
   "source": [
    "dt = pd.DataFrame(models)\n",
    "dt = dt.applymap(lambda x: np.round(x, 2))\n",
    "dt['L-inf(theta-theta_adv)'] = (dt.theta - dt.theta_adv).apply(lambda x: np.linalg.norm(x, np.inf))\n",
    "dt[dt['lambda']==1.][['lambda', 'alpha', 'alpha_prime', 'theta', 'theta_adv', 'L-inf(theta-theta_adv)']].set_index('lambda').sort_index()\n",
    "dt"
   ]
  },
  {
   "cell_type": "code",
   "execution_count": 8,
   "metadata": {},
   "outputs": [
    {
     "name": "stdout",
     "output_type": "stream",
     "text": [
      "EI (train alpha = 0)\n"
     ]
    },
    {
     "data": {
      "text/html": [
       "<div>\n",
       "<style scoped>\n",
       "    .dataframe tbody tr th:only-of-type {\n",
       "        vertical-align: middle;\n",
       "    }\n",
       "\n",
       "    .dataframe tbody tr th {\n",
       "        vertical-align: top;\n",
       "    }\n",
       "\n",
       "    .dataframe thead th {\n",
       "        text-align: right;\n",
       "    }\n",
       "</style>\n",
       "<table border=\"1\" class=\"dataframe\">\n",
       "  <thead>\n",
       "    <tr style=\"text-align: right;\">\n",
       "      <th></th>\n",
       "      <th></th>\n",
       "      <th>delta</th>\n",
       "      <th>loss_mean</th>\n",
       "      <th>loss_std</th>\n",
       "      <th>ei_disparity_mean</th>\n",
       "      <th>ei_disparity_std</th>\n",
       "    </tr>\n",
       "    <tr>\n",
       "      <th>lambda</th>\n",
       "      <th>alpha</th>\n",
       "      <th></th>\n",
       "      <th></th>\n",
       "      <th></th>\n",
       "      <th></th>\n",
       "      <th></th>\n",
       "    </tr>\n",
       "  </thead>\n",
       "  <tbody>\n",
       "    <tr>\n",
       "      <th rowspan=\"4\" valign=\"top\">0.0</th>\n",
       "      <th>0.0</th>\n",
       "      <td>0.5</td>\n",
       "      <td>0.225250</td>\n",
       "      <td>0.007250</td>\n",
       "      <td>0.077881</td>\n",
       "      <td>0.001989</td>\n",
       "    </tr>\n",
       "    <tr>\n",
       "      <th>0.1</th>\n",
       "      <td>0.5</td>\n",
       "      <td>0.229750</td>\n",
       "      <td>0.011000</td>\n",
       "      <td>0.346596</td>\n",
       "      <td>0.106597</td>\n",
       "    </tr>\n",
       "    <tr>\n",
       "      <th>1.5</th>\n",
       "      <td>0.5</td>\n",
       "      <td>0.223125</td>\n",
       "      <td>0.002875</td>\n",
       "      <td>0.506662</td>\n",
       "      <td>0.144265</td>\n",
       "    </tr>\n",
       "    <tr>\n",
       "      <th>2.0</th>\n",
       "      <td>0.5</td>\n",
       "      <td>0.223375</td>\n",
       "      <td>0.007375</td>\n",
       "      <td>0.712470</td>\n",
       "      <td>0.043670</td>\n",
       "    </tr>\n",
       "  </tbody>\n",
       "</table>\n",
       "</div>"
      ],
      "text/plain": [
       "              delta  loss_mean  loss_std  ei_disparity_mean  ei_disparity_std\n",
       "lambda alpha                                                                 \n",
       "0.0    0.0      0.5   0.225250  0.007250           0.077881          0.001989\n",
       "       0.1      0.5   0.229750  0.011000           0.346596          0.106597\n",
       "       1.5      0.5   0.223125  0.002875           0.506662          0.144265\n",
       "       2.0      0.5   0.223375  0.007375           0.712470          0.043670"
      ]
     },
     "execution_count": 8,
     "metadata": {},
     "output_type": "execute_result"
    }
   ],
   "source": [
    "print('EI (train alpha = 0)')\n",
    "results[['alpha', 'lambda', 'delta', 'loss_mean', 'loss_std', 'ei_disparity_mean', 'ei_disparity_std']].sort_values(['lambda', 'alpha']).set_index(['lambda', 'alpha'])"
   ]
  },
  {
   "cell_type": "code",
   "execution_count": 12,
   "metadata": {},
   "outputs": [
    {
     "name": "stdout",
     "output_type": "stream",
     "text": [
      "EI (train alpha = 0)\n"
     ]
    },
    {
     "data": {
      "text/html": [
       "<div>\n",
       "<style scoped>\n",
       "    .dataframe tbody tr th:only-of-type {\n",
       "        vertical-align: middle;\n",
       "    }\n",
       "\n",
       "    .dataframe tbody tr th {\n",
       "        vertical-align: top;\n",
       "    }\n",
       "\n",
       "    .dataframe thead th {\n",
       "        text-align: right;\n",
       "    }\n",
       "</style>\n",
       "<table border=\"1\" class=\"dataframe\">\n",
       "  <thead>\n",
       "    <tr style=\"text-align: right;\">\n",
       "      <th></th>\n",
       "      <th></th>\n",
       "      <th></th>\n",
       "      <th>delta</th>\n",
       "      <th>delta_prime</th>\n",
       "      <th>loss_mean</th>\n",
       "      <th>loss_std</th>\n",
       "      <th>ei_disparity_mean</th>\n",
       "      <th>ei_disparity_std</th>\n",
       "    </tr>\n",
       "    <tr>\n",
       "      <th>lambda</th>\n",
       "      <th>alpha</th>\n",
       "      <th>alpha_prime</th>\n",
       "      <th></th>\n",
       "      <th></th>\n",
       "      <th></th>\n",
       "      <th></th>\n",
       "      <th></th>\n",
       "      <th></th>\n",
       "    </tr>\n",
       "  </thead>\n",
       "  <tbody>\n",
       "    <tr>\n",
       "      <th rowspan=\"9\" valign=\"top\">0.0</th>\n",
       "      <th rowspan=\"3\" valign=\"top\">0.0</th>\n",
       "      <th>0.0</th>\n",
       "      <td>0.0</td>\n",
       "      <td>[0.5]</td>\n",
       "      <td>0.231375</td>\n",
       "      <td>0.004625</td>\n",
       "      <td>0.105355</td>\n",
       "      <td>0.105355</td>\n",
       "    </tr>\n",
       "    <tr>\n",
       "      <th>0.1</th>\n",
       "      <td>0.0</td>\n",
       "      <td>[0.5]</td>\n",
       "      <td>0.225250</td>\n",
       "      <td>0.002000</td>\n",
       "      <td>0.095254</td>\n",
       "      <td>0.095254</td>\n",
       "    </tr>\n",
       "    <tr>\n",
       "      <th>1.0</th>\n",
       "      <td>0.0</td>\n",
       "      <td>[0.5]</td>\n",
       "      <td>0.234750</td>\n",
       "      <td>0.007500</td>\n",
       "      <td>0.039337</td>\n",
       "      <td>0.039337</td>\n",
       "    </tr>\n",
       "    <tr>\n",
       "      <th rowspan=\"3\" valign=\"top\">0.1</th>\n",
       "      <th>0.0</th>\n",
       "      <td>0.0</td>\n",
       "      <td>[0.5]</td>\n",
       "      <td>0.262875</td>\n",
       "      <td>0.018375</td>\n",
       "      <td>0.083056</td>\n",
       "      <td>0.072110</td>\n",
       "    </tr>\n",
       "    <tr>\n",
       "      <th>0.1</th>\n",
       "      <td>0.0</td>\n",
       "      <td>[0.5]</td>\n",
       "      <td>0.232250</td>\n",
       "      <td>0.002250</td>\n",
       "      <td>0.191829</td>\n",
       "      <td>0.178219</td>\n",
       "    </tr>\n",
       "    <tr>\n",
       "      <th>1.0</th>\n",
       "      <td>0.0</td>\n",
       "      <td>[0.5]</td>\n",
       "      <td>0.230250</td>\n",
       "      <td>0.007500</td>\n",
       "      <td>0.253156</td>\n",
       "      <td>0.240555</td>\n",
       "    </tr>\n",
       "    <tr>\n",
       "      <th rowspan=\"3\" valign=\"top\">0.5</th>\n",
       "      <th>0.0</th>\n",
       "      <td>0.0</td>\n",
       "      <td>[0.5]</td>\n",
       "      <td>0.230250</td>\n",
       "      <td>0.005750</td>\n",
       "      <td>0.118263</td>\n",
       "      <td>0.104547</td>\n",
       "    </tr>\n",
       "    <tr>\n",
       "      <th>0.1</th>\n",
       "      <td>0.0</td>\n",
       "      <td>[0.5]</td>\n",
       "      <td>0.233250</td>\n",
       "      <td>0.011500</td>\n",
       "      <td>0.253343</td>\n",
       "      <td>0.247645</td>\n",
       "    </tr>\n",
       "    <tr>\n",
       "      <th>1.0</th>\n",
       "      <td>0.0</td>\n",
       "      <td>[0.5]</td>\n",
       "      <td>0.237625</td>\n",
       "      <td>0.011375</td>\n",
       "      <td>0.175129</td>\n",
       "      <td>0.129936</td>\n",
       "    </tr>\n",
       "  </tbody>\n",
       "</table>\n",
       "</div>"
      ],
      "text/plain": [
       "                          delta delta_prime  loss_mean  loss_std  \\\n",
       "lambda alpha alpha_prime                                           \n",
       "0.0    0.0   0.0            0.0       [0.5]   0.231375  0.004625   \n",
       "             0.1            0.0       [0.5]   0.225250  0.002000   \n",
       "             1.0            0.0       [0.5]   0.234750  0.007500   \n",
       "       0.1   0.0            0.0       [0.5]   0.262875  0.018375   \n",
       "             0.1            0.0       [0.5]   0.232250  0.002250   \n",
       "             1.0            0.0       [0.5]   0.230250  0.007500   \n",
       "       0.5   0.0            0.0       [0.5]   0.230250  0.005750   \n",
       "             0.1            0.0       [0.5]   0.233250  0.011500   \n",
       "             1.0            0.0       [0.5]   0.237625  0.011375   \n",
       "\n",
       "                          ei_disparity_mean  ei_disparity_std  \n",
       "lambda alpha alpha_prime                                       \n",
       "0.0    0.0   0.0                   0.105355          0.105355  \n",
       "             0.1                   0.095254          0.095254  \n",
       "             1.0                   0.039337          0.039337  \n",
       "       0.1   0.0                   0.083056          0.072110  \n",
       "             0.1                   0.191829          0.178219  \n",
       "             1.0                   0.253156          0.240555  \n",
       "       0.5   0.0                   0.118263          0.104547  \n",
       "             0.1                   0.253343          0.247645  \n",
       "             1.0                   0.175129          0.129936  "
      ]
     },
     "execution_count": 12,
     "metadata": {},
     "output_type": "execute_result"
    }
   ],
   "source": [
    "print('EI (train alpha = 0)')\n",
    "results[['alpha', 'alpha_prime', 'lambda', 'delta', 'delta_prime', 'loss_mean', 'loss_std', 'ei_disparity_mean', 'ei_disparity_std']].sort_values(['lambda', 'alpha', 'alpha_prime']).set_index(['lambda', 'alpha', 'alpha_prime'])"
   ]
  },
  {
   "cell_type": "code",
   "execution_count": 22,
   "metadata": {},
   "outputs": [
    {
     "name": "stdout",
     "output_type": "stream",
     "text": [
      "REI (train alpha != 0)\n"
     ]
    },
    {
     "data": {
      "text/html": [
       "<div>\n",
       "<style scoped>\n",
       "    .dataframe tbody tr th:only-of-type {\n",
       "        vertical-align: middle;\n",
       "    }\n",
       "\n",
       "    .dataframe tbody tr th {\n",
       "        vertical-align: top;\n",
       "    }\n",
       "\n",
       "    .dataframe thead th {\n",
       "        text-align: right;\n",
       "    }\n",
       "</style>\n",
       "<table border=\"1\" class=\"dataframe\">\n",
       "  <thead>\n",
       "    <tr style=\"text-align: right;\">\n",
       "      <th></th>\n",
       "      <th></th>\n",
       "      <th>delta</th>\n",
       "      <th>loss_mean</th>\n",
       "      <th>loss_std</th>\n",
       "      <th>ei_disparity_mean</th>\n",
       "      <th>ei_disparity_std</th>\n",
       "    </tr>\n",
       "    <tr>\n",
       "      <th>lambda</th>\n",
       "      <th>alpha</th>\n",
       "      <th></th>\n",
       "      <th></th>\n",
       "      <th></th>\n",
       "      <th></th>\n",
       "      <th></th>\n",
       "    </tr>\n",
       "  </thead>\n",
       "  <tbody>\n",
       "    <tr>\n",
       "      <th rowspan=\"4\" valign=\"top\">0.0</th>\n",
       "      <th>0.0</th>\n",
       "      <td>0.5</td>\n",
       "      <td>0.225250</td>\n",
       "      <td>0.007250</td>\n",
       "      <td>0.077881</td>\n",
       "      <td>0.001989</td>\n",
       "    </tr>\n",
       "    <tr>\n",
       "      <th>0.1</th>\n",
       "      <td>0.5</td>\n",
       "      <td>0.229750</td>\n",
       "      <td>0.011000</td>\n",
       "      <td>0.346596</td>\n",
       "      <td>0.106597</td>\n",
       "    </tr>\n",
       "    <tr>\n",
       "      <th>1.5</th>\n",
       "      <td>0.5</td>\n",
       "      <td>0.223125</td>\n",
       "      <td>0.002875</td>\n",
       "      <td>0.000000</td>\n",
       "      <td>0.000000</td>\n",
       "    </tr>\n",
       "    <tr>\n",
       "      <th>2.0</th>\n",
       "      <td>0.5</td>\n",
       "      <td>0.223375</td>\n",
       "      <td>0.007375</td>\n",
       "      <td>0.000000</td>\n",
       "      <td>0.000000</td>\n",
       "    </tr>\n",
       "  </tbody>\n",
       "</table>\n",
       "</div>"
      ],
      "text/plain": [
       "              delta  loss_mean  loss_std  ei_disparity_mean  ei_disparity_std\n",
       "lambda alpha                                                                 \n",
       "0.0    0.0      0.5   0.225250  0.007250           0.077881          0.001989\n",
       "       0.1      0.5   0.229750  0.011000           0.346596          0.106597\n",
       "       1.5      0.5   0.223125  0.002875           0.000000          0.000000\n",
       "       2.0      0.5   0.223375  0.007375           0.000000          0.000000"
      ]
     },
     "execution_count": 22,
     "metadata": {},
     "output_type": "execute_result"
    }
   ],
   "source": [
    "print('REI (train alpha != 0)')\n",
    "results_r[['alpha', 'lambda', 'delta', 'loss_mean', 'loss_std', 'ei_disparity_mean', 'ei_disparity_std']].sort_values(['lambda', 'alpha']).set_index(['lambda', 'alpha'])"
   ]
  },
  {
   "cell_type": "code",
   "execution_count": 9,
   "metadata": {},
   "outputs": [
    {
     "name": "stdout",
     "output_type": "stream",
     "text": [
      "REI (train alpha != 0)\n"
     ]
    },
    {
     "data": {
      "text/html": [
       "<div>\n",
       "<style scoped>\n",
       "    .dataframe tbody tr th:only-of-type {\n",
       "        vertical-align: middle;\n",
       "    }\n",
       "\n",
       "    .dataframe tbody tr th {\n",
       "        vertical-align: top;\n",
       "    }\n",
       "\n",
       "    .dataframe thead th {\n",
       "        text-align: right;\n",
       "    }\n",
       "</style>\n",
       "<table border=\"1\" class=\"dataframe\">\n",
       "  <thead>\n",
       "    <tr style=\"text-align: right;\">\n",
       "      <th></th>\n",
       "      <th></th>\n",
       "      <th></th>\n",
       "      <th>delta</th>\n",
       "      <th>delta_prime</th>\n",
       "      <th>loss_mean</th>\n",
       "      <th>loss_std</th>\n",
       "      <th>ei_disparity_mean</th>\n",
       "      <th>ei_disparity_std</th>\n",
       "    </tr>\n",
       "    <tr>\n",
       "      <th>lambda</th>\n",
       "      <th>alpha</th>\n",
       "      <th>alpha_prime</th>\n",
       "      <th></th>\n",
       "      <th></th>\n",
       "      <th></th>\n",
       "      <th></th>\n",
       "      <th></th>\n",
       "      <th></th>\n",
       "    </tr>\n",
       "  </thead>\n",
       "  <tbody>\n",
       "    <tr>\n",
       "      <th rowspan=\"9\" valign=\"top\">0.0</th>\n",
       "      <th rowspan=\"3\" valign=\"top\">0.0</th>\n",
       "      <th>0.0</th>\n",
       "      <td>0.0</td>\n",
       "      <td>[0.5]</td>\n",
       "      <td>0.225250</td>\n",
       "      <td>0.007250</td>\n",
       "      <td>0.077881</td>\n",
       "      <td>0.001989</td>\n",
       "    </tr>\n",
       "    <tr>\n",
       "      <th>0.1</th>\n",
       "      <td>0.0</td>\n",
       "      <td>[0.5]</td>\n",
       "      <td>0.229750</td>\n",
       "      <td>0.011000</td>\n",
       "      <td>0.346596</td>\n",
       "      <td>0.106597</td>\n",
       "    </tr>\n",
       "    <tr>\n",
       "      <th>1.0</th>\n",
       "      <td>0.0</td>\n",
       "      <td>[0.5]</td>\n",
       "      <td>0.223125</td>\n",
       "      <td>0.002875</td>\n",
       "      <td>0.038420</td>\n",
       "      <td>0.038420</td>\n",
       "    </tr>\n",
       "    <tr>\n",
       "      <th rowspan=\"3\" valign=\"top\">0.1</th>\n",
       "      <th>0.0</th>\n",
       "      <td>0.0</td>\n",
       "      <td>[0.5]</td>\n",
       "      <td>0.223375</td>\n",
       "      <td>0.007375</td>\n",
       "      <td>0.173257</td>\n",
       "      <td>0.068446</td>\n",
       "    </tr>\n",
       "    <tr>\n",
       "      <th>0.1</th>\n",
       "      <td>0.0</td>\n",
       "      <td>[0.5]</td>\n",
       "      <td>0.237875</td>\n",
       "      <td>0.018625</td>\n",
       "      <td>0.194650</td>\n",
       "      <td>0.047135</td>\n",
       "    </tr>\n",
       "    <tr>\n",
       "      <th>1.0</th>\n",
       "      <td>0.0</td>\n",
       "      <td>[0.5]</td>\n",
       "      <td>0.232125</td>\n",
       "      <td>0.009875</td>\n",
       "      <td>0.000000</td>\n",
       "      <td>0.000000</td>\n",
       "    </tr>\n",
       "    <tr>\n",
       "      <th rowspan=\"3\" valign=\"top\">0.5</th>\n",
       "      <th>0.0</th>\n",
       "      <td>0.0</td>\n",
       "      <td>[0.5]</td>\n",
       "      <td>0.232375</td>\n",
       "      <td>0.002125</td>\n",
       "      <td>0.110738</td>\n",
       "      <td>0.092240</td>\n",
       "    </tr>\n",
       "    <tr>\n",
       "      <th>0.1</th>\n",
       "      <td>0.0</td>\n",
       "      <td>[0.5]</td>\n",
       "      <td>0.240625</td>\n",
       "      <td>0.022125</td>\n",
       "      <td>0.190451</td>\n",
       "      <td>0.013651</td>\n",
       "    </tr>\n",
       "    <tr>\n",
       "      <th>1.0</th>\n",
       "      <td>0.0</td>\n",
       "      <td>[0.5]</td>\n",
       "      <td>0.227250</td>\n",
       "      <td>0.007500</td>\n",
       "      <td>0.004717</td>\n",
       "      <td>0.004717</td>\n",
       "    </tr>\n",
       "  </tbody>\n",
       "</table>\n",
       "</div>"
      ],
      "text/plain": [
       "                          delta delta_prime  loss_mean  loss_std  \\\n",
       "lambda alpha alpha_prime                                           \n",
       "0.0    0.0   0.0            0.0       [0.5]   0.225250  0.007250   \n",
       "             0.1            0.0       [0.5]   0.229750  0.011000   \n",
       "             1.0            0.0       [0.5]   0.223125  0.002875   \n",
       "       0.1   0.0            0.0       [0.5]   0.223375  0.007375   \n",
       "             0.1            0.0       [0.5]   0.237875  0.018625   \n",
       "             1.0            0.0       [0.5]   0.232125  0.009875   \n",
       "       0.5   0.0            0.0       [0.5]   0.232375  0.002125   \n",
       "             0.1            0.0       [0.5]   0.240625  0.022125   \n",
       "             1.0            0.0       [0.5]   0.227250  0.007500   \n",
       "\n",
       "                          ei_disparity_mean  ei_disparity_std  \n",
       "lambda alpha alpha_prime                                       \n",
       "0.0    0.0   0.0                   0.077881          0.001989  \n",
       "             0.1                   0.346596          0.106597  \n",
       "             1.0                   0.038420          0.038420  \n",
       "       0.1   0.0                   0.173257          0.068446  \n",
       "             0.1                   0.194650          0.047135  \n",
       "             1.0                   0.000000          0.000000  \n",
       "       0.5   0.0                   0.110738          0.092240  \n",
       "             0.1                   0.190451          0.013651  \n",
       "             1.0                   0.004717          0.004717  "
      ]
     },
     "execution_count": 9,
     "metadata": {},
     "output_type": "execute_result"
    }
   ],
   "source": [
    "print('REI (train alpha != 0)')\n",
    "results_r[['alpha','alpha_prime', 'lambda', 'delta', 'delta_prime', 'loss_mean', 'loss_std', 'ei_disparity_mean', 'ei_disparity_std']].sort_values(['lambda', 'alpha']).set_index(['lambda', 'alpha', 'alpha_prime'])"
   ]
  },
  {
   "cell_type": "code",
   "execution_count": null,
   "metadata": {},
   "outputs": [],
   "source": [
    "# Uncomment this to save the results\n",
    "# results.to_pickle(f'robust_ei_optimal_lambda_tradeoff_{ei_proxy.lower()}_synthetic_5crossval.pkl')"
   ]
  },
  {
   "cell_type": "code",
   "execution_count": null,
   "metadata": {},
   "outputs": [],
   "source": [
    "# Compute the pareto frontier\n",
    "results_pareto = pd.DataFrame()\n",
    "for alpha in results['alpha'].unique():\n",
    "    test_results_alpha = results[results['alpha'] == alpha]\n",
    "    mask = pareto_frontier(test_results_alpha['loss_mean'], test_results_alpha['ei_disparity_mean'])\n",
    "    results_alpha_pareto = test_results_alpha.iloc[mask]\n",
    "    results_pareto = pd.concat((results_pareto, results_alpha_pareto.sort_values('ei_disparity_mean')))"
   ]
  },
  {
   "cell_type": "code",
   "execution_count": null,
   "metadata": {},
   "outputs": [
    {
     "data": {
      "application/vnd.plotly.v1+json": {
       "config": {
        "plotlyServerURL": "https://plot.ly"
       },
       "data": [
        {
         "customdata": [
          [
           1
          ]
         ],
         "hovertemplate": "alpha=0.0<br>ei_disparity_mean=%{x}<br>loss_mean=%{y}<br>lambda=%{customdata[0]}<extra></extra>",
         "legendgroup": "0.0",
         "line": {
          "color": "#636efa",
          "dash": "solid"
         },
         "marker": {
          "size": 3,
          "symbol": "circle"
         },
         "mode": "lines+markers",
         "name": "0.0",
         "orientation": "v",
         "showlegend": true,
         "type": "scatter",
         "x": [
          0.026223069986031855
         ],
         "xaxis": "x",
         "y": [
          0.27025
         ],
         "yaxis": "y"
        },
        {
         "customdata": [
          [
           1
          ]
         ],
         "hovertemplate": "alpha=0.1<br>ei_disparity_mean=%{x}<br>loss_mean=%{y}<br>lambda=%{customdata[0]}<extra></extra>",
         "legendgroup": "0.1",
         "line": {
          "color": "#EF553B",
          "dash": "solid"
         },
         "marker": {
          "size": 3,
          "symbol": "circle"
         },
         "mode": "lines+markers",
         "name": "0.1",
         "orientation": "v",
         "showlegend": true,
         "type": "scatter",
         "x": [
          0.24267658108954293
         ],
         "xaxis": "x",
         "y": [
          0.39275000000000004
         ],
         "yaxis": "y"
        },
        {
         "customdata": [
          [
           1
          ]
         ],
         "hovertemplate": "alpha=0.15<br>ei_disparity_mean=%{x}<br>loss_mean=%{y}<br>lambda=%{customdata[0]}<extra></extra>",
         "legendgroup": "0.15",
         "line": {
          "color": "#00cc96",
          "dash": "solid"
         },
         "marker": {
          "size": 3,
          "symbol": "circle"
         },
         "mode": "lines+markers",
         "name": "0.15",
         "orientation": "v",
         "showlegend": true,
         "type": "scatter",
         "x": [
          0.08659878830072024
         ],
         "xaxis": "x",
         "y": [
          0.369
         ],
         "yaxis": "y"
        },
        {
         "customdata": [
          [
           1
          ]
         ],
         "hovertemplate": "alpha=1.5<br>ei_disparity_mean=%{x}<br>loss_mean=%{y}<br>lambda=%{customdata[0]}<extra></extra>",
         "legendgroup": "1.5",
         "line": {
          "color": "#ab63fa",
          "dash": "solid"
         },
         "marker": {
          "size": 3,
          "symbol": "circle"
         },
         "mode": "lines+markers",
         "name": "1.5",
         "orientation": "v",
         "showlegend": true,
         "type": "scatter",
         "x": [
          0.20213201802655784
         ],
         "xaxis": "x",
         "y": [
          0.48750000000000004
         ],
         "yaxis": "y"
        },
        {
         "customdata": [
          [
           1
          ]
         ],
         "hovertemplate": "alpha=2.5<br>ei_disparity_mean=%{x}<br>loss_mean=%{y}<br>lambda=%{customdata[0]}<extra></extra>",
         "legendgroup": "2.5",
         "line": {
          "color": "#FFA15A",
          "dash": "solid"
         },
         "marker": {
          "size": 3,
          "symbol": "circle"
         },
         "mode": "lines+markers",
         "name": "2.5",
         "orientation": "v",
         "showlegend": true,
         "type": "scatter",
         "x": [
          0.961864406779661
         ],
         "xaxis": "x",
         "y": [
          0.45275
         ],
         "yaxis": "y"
        },
        {
         "customdata": [
          [
           1
          ]
         ],
         "hovertemplate": "alpha=3.0<br>ei_disparity_mean=%{x}<br>loss_mean=%{y}<br>lambda=%{customdata[0]}<extra></extra>",
         "legendgroup": "3.0",
         "line": {
          "color": "#19d3f3",
          "dash": "solid"
         },
         "marker": {
          "size": 3,
          "symbol": "circle"
         },
         "mode": "lines+markers",
         "name": "3.0",
         "orientation": "v",
         "showlegend": true,
         "type": "scatter",
         "x": [
          0.08894722050689878
         ],
         "xaxis": "x",
         "y": [
          0.49424999999999997
         ],
         "yaxis": "y"
        },
        {
         "customdata": [
          [
           1
          ]
         ],
         "hovertemplate": "alpha=4.5<br>ei_disparity_mean=%{x}<br>loss_mean=%{y}<br>lambda=%{customdata[0]}<extra></extra>",
         "legendgroup": "4.5",
         "line": {
          "color": "#FF6692",
          "dash": "solid"
         },
         "marker": {
          "size": 3,
          "symbol": "circle"
         },
         "mode": "lines+markers",
         "name": "4.5",
         "orientation": "v",
         "showlegend": true,
         "type": "scatter",
         "x": [
          0.03938347718865598
         ],
         "xaxis": "x",
         "y": [
          0.60825
         ],
         "yaxis": "y"
        }
       ],
       "layout": {
        "annotations": [
         {
          "font": {
           "color": "black",
           "size": 10
          },
          "showarrow": false,
          "text": "dataset=synthetic",
          "textangle": 0,
          "x": 0.9,
          "xanchor": "left",
          "xref": "paper",
          "y": 0.99,
          "yref": "paper"
         }
        ],
        "legend": {
         "title": {
          "text": "alpha"
         },
         "tracegroupgap": 0
        },
        "margin": {
         "t": 60
        },
        "template": {
         "data": {
          "bar": [
           {
            "error_x": {
             "color": "#2a3f5f"
            },
            "error_y": {
             "color": "#2a3f5f"
            },
            "marker": {
             "line": {
              "color": "#E5ECF6",
              "width": 0.5
             },
             "pattern": {
              "fillmode": "overlay",
              "size": 10,
              "solidity": 0.2
             }
            },
            "type": "bar"
           }
          ],
          "barpolar": [
           {
            "marker": {
             "line": {
              "color": "#E5ECF6",
              "width": 0.5
             },
             "pattern": {
              "fillmode": "overlay",
              "size": 10,
              "solidity": 0.2
             }
            },
            "type": "barpolar"
           }
          ],
          "carpet": [
           {
            "aaxis": {
             "endlinecolor": "#2a3f5f",
             "gridcolor": "white",
             "linecolor": "white",
             "minorgridcolor": "white",
             "startlinecolor": "#2a3f5f"
            },
            "baxis": {
             "endlinecolor": "#2a3f5f",
             "gridcolor": "white",
             "linecolor": "white",
             "minorgridcolor": "white",
             "startlinecolor": "#2a3f5f"
            },
            "type": "carpet"
           }
          ],
          "choropleth": [
           {
            "colorbar": {
             "outlinewidth": 0,
             "ticks": ""
            },
            "type": "choropleth"
           }
          ],
          "contour": [
           {
            "colorbar": {
             "outlinewidth": 0,
             "ticks": ""
            },
            "colorscale": [
             [
              0,
              "#0d0887"
             ],
             [
              0.1111111111111111,
              "#46039f"
             ],
             [
              0.2222222222222222,
              "#7201a8"
             ],
             [
              0.3333333333333333,
              "#9c179e"
             ],
             [
              0.4444444444444444,
              "#bd3786"
             ],
             [
              0.5555555555555556,
              "#d8576b"
             ],
             [
              0.6666666666666666,
              "#ed7953"
             ],
             [
              0.7777777777777778,
              "#fb9f3a"
             ],
             [
              0.8888888888888888,
              "#fdca26"
             ],
             [
              1,
              "#f0f921"
             ]
            ],
            "type": "contour"
           }
          ],
          "contourcarpet": [
           {
            "colorbar": {
             "outlinewidth": 0,
             "ticks": ""
            },
            "type": "contourcarpet"
           }
          ],
          "heatmap": [
           {
            "colorbar": {
             "outlinewidth": 0,
             "ticks": ""
            },
            "colorscale": [
             [
              0,
              "#0d0887"
             ],
             [
              0.1111111111111111,
              "#46039f"
             ],
             [
              0.2222222222222222,
              "#7201a8"
             ],
             [
              0.3333333333333333,
              "#9c179e"
             ],
             [
              0.4444444444444444,
              "#bd3786"
             ],
             [
              0.5555555555555556,
              "#d8576b"
             ],
             [
              0.6666666666666666,
              "#ed7953"
             ],
             [
              0.7777777777777778,
              "#fb9f3a"
             ],
             [
              0.8888888888888888,
              "#fdca26"
             ],
             [
              1,
              "#f0f921"
             ]
            ],
            "type": "heatmap"
           }
          ],
          "heatmapgl": [
           {
            "colorbar": {
             "outlinewidth": 0,
             "ticks": ""
            },
            "colorscale": [
             [
              0,
              "#0d0887"
             ],
             [
              0.1111111111111111,
              "#46039f"
             ],
             [
              0.2222222222222222,
              "#7201a8"
             ],
             [
              0.3333333333333333,
              "#9c179e"
             ],
             [
              0.4444444444444444,
              "#bd3786"
             ],
             [
              0.5555555555555556,
              "#d8576b"
             ],
             [
              0.6666666666666666,
              "#ed7953"
             ],
             [
              0.7777777777777778,
              "#fb9f3a"
             ],
             [
              0.8888888888888888,
              "#fdca26"
             ],
             [
              1,
              "#f0f921"
             ]
            ],
            "type": "heatmapgl"
           }
          ],
          "histogram": [
           {
            "marker": {
             "pattern": {
              "fillmode": "overlay",
              "size": 10,
              "solidity": 0.2
             }
            },
            "type": "histogram"
           }
          ],
          "histogram2d": [
           {
            "colorbar": {
             "outlinewidth": 0,
             "ticks": ""
            },
            "colorscale": [
             [
              0,
              "#0d0887"
             ],
             [
              0.1111111111111111,
              "#46039f"
             ],
             [
              0.2222222222222222,
              "#7201a8"
             ],
             [
              0.3333333333333333,
              "#9c179e"
             ],
             [
              0.4444444444444444,
              "#bd3786"
             ],
             [
              0.5555555555555556,
              "#d8576b"
             ],
             [
              0.6666666666666666,
              "#ed7953"
             ],
             [
              0.7777777777777778,
              "#fb9f3a"
             ],
             [
              0.8888888888888888,
              "#fdca26"
             ],
             [
              1,
              "#f0f921"
             ]
            ],
            "type": "histogram2d"
           }
          ],
          "histogram2dcontour": [
           {
            "colorbar": {
             "outlinewidth": 0,
             "ticks": ""
            },
            "colorscale": [
             [
              0,
              "#0d0887"
             ],
             [
              0.1111111111111111,
              "#46039f"
             ],
             [
              0.2222222222222222,
              "#7201a8"
             ],
             [
              0.3333333333333333,
              "#9c179e"
             ],
             [
              0.4444444444444444,
              "#bd3786"
             ],
             [
              0.5555555555555556,
              "#d8576b"
             ],
             [
              0.6666666666666666,
              "#ed7953"
             ],
             [
              0.7777777777777778,
              "#fb9f3a"
             ],
             [
              0.8888888888888888,
              "#fdca26"
             ],
             [
              1,
              "#f0f921"
             ]
            ],
            "type": "histogram2dcontour"
           }
          ],
          "mesh3d": [
           {
            "colorbar": {
             "outlinewidth": 0,
             "ticks": ""
            },
            "type": "mesh3d"
           }
          ],
          "parcoords": [
           {
            "line": {
             "colorbar": {
              "outlinewidth": 0,
              "ticks": ""
             }
            },
            "type": "parcoords"
           }
          ],
          "pie": [
           {
            "automargin": true,
            "type": "pie"
           }
          ],
          "scatter": [
           {
            "fillpattern": {
             "fillmode": "overlay",
             "size": 10,
             "solidity": 0.2
            },
            "type": "scatter"
           }
          ],
          "scatter3d": [
           {
            "line": {
             "colorbar": {
              "outlinewidth": 0,
              "ticks": ""
             }
            },
            "marker": {
             "colorbar": {
              "outlinewidth": 0,
              "ticks": ""
             }
            },
            "type": "scatter3d"
           }
          ],
          "scattercarpet": [
           {
            "marker": {
             "colorbar": {
              "outlinewidth": 0,
              "ticks": ""
             }
            },
            "type": "scattercarpet"
           }
          ],
          "scattergeo": [
           {
            "marker": {
             "colorbar": {
              "outlinewidth": 0,
              "ticks": ""
             }
            },
            "type": "scattergeo"
           }
          ],
          "scattergl": [
           {
            "marker": {
             "colorbar": {
              "outlinewidth": 0,
              "ticks": ""
             }
            },
            "type": "scattergl"
           }
          ],
          "scattermapbox": [
           {
            "marker": {
             "colorbar": {
              "outlinewidth": 0,
              "ticks": ""
             }
            },
            "type": "scattermapbox"
           }
          ],
          "scatterpolar": [
           {
            "marker": {
             "colorbar": {
              "outlinewidth": 0,
              "ticks": ""
             }
            },
            "type": "scatterpolar"
           }
          ],
          "scatterpolargl": [
           {
            "marker": {
             "colorbar": {
              "outlinewidth": 0,
              "ticks": ""
             }
            },
            "type": "scatterpolargl"
           }
          ],
          "scatterternary": [
           {
            "marker": {
             "colorbar": {
              "outlinewidth": 0,
              "ticks": ""
             }
            },
            "type": "scatterternary"
           }
          ],
          "surface": [
           {
            "colorbar": {
             "outlinewidth": 0,
             "ticks": ""
            },
            "colorscale": [
             [
              0,
              "#0d0887"
             ],
             [
              0.1111111111111111,
              "#46039f"
             ],
             [
              0.2222222222222222,
              "#7201a8"
             ],
             [
              0.3333333333333333,
              "#9c179e"
             ],
             [
              0.4444444444444444,
              "#bd3786"
             ],
             [
              0.5555555555555556,
              "#d8576b"
             ],
             [
              0.6666666666666666,
              "#ed7953"
             ],
             [
              0.7777777777777778,
              "#fb9f3a"
             ],
             [
              0.8888888888888888,
              "#fdca26"
             ],
             [
              1,
              "#f0f921"
             ]
            ],
            "type": "surface"
           }
          ],
          "table": [
           {
            "cells": {
             "fill": {
              "color": "#EBF0F8"
             },
             "line": {
              "color": "white"
             }
            },
            "header": {
             "fill": {
              "color": "#C8D4E3"
             },
             "line": {
              "color": "white"
             }
            },
            "type": "table"
           }
          ]
         },
         "layout": {
          "annotationdefaults": {
           "arrowcolor": "#2a3f5f",
           "arrowhead": 0,
           "arrowwidth": 1
          },
          "autotypenumbers": "strict",
          "coloraxis": {
           "colorbar": {
            "outlinewidth": 0,
            "ticks": ""
           }
          },
          "colorscale": {
           "diverging": [
            [
             0,
             "#8e0152"
            ],
            [
             0.1,
             "#c51b7d"
            ],
            [
             0.2,
             "#de77ae"
            ],
            [
             0.3,
             "#f1b6da"
            ],
            [
             0.4,
             "#fde0ef"
            ],
            [
             0.5,
             "#f7f7f7"
            ],
            [
             0.6,
             "#e6f5d0"
            ],
            [
             0.7,
             "#b8e186"
            ],
            [
             0.8,
             "#7fbc41"
            ],
            [
             0.9,
             "#4d9221"
            ],
            [
             1,
             "#276419"
            ]
           ],
           "sequential": [
            [
             0,
             "#0d0887"
            ],
            [
             0.1111111111111111,
             "#46039f"
            ],
            [
             0.2222222222222222,
             "#7201a8"
            ],
            [
             0.3333333333333333,
             "#9c179e"
            ],
            [
             0.4444444444444444,
             "#bd3786"
            ],
            [
             0.5555555555555556,
             "#d8576b"
            ],
            [
             0.6666666666666666,
             "#ed7953"
            ],
            [
             0.7777777777777778,
             "#fb9f3a"
            ],
            [
             0.8888888888888888,
             "#fdca26"
            ],
            [
             1,
             "#f0f921"
            ]
           ],
           "sequentialminus": [
            [
             0,
             "#0d0887"
            ],
            [
             0.1111111111111111,
             "#46039f"
            ],
            [
             0.2222222222222222,
             "#7201a8"
            ],
            [
             0.3333333333333333,
             "#9c179e"
            ],
            [
             0.4444444444444444,
             "#bd3786"
            ],
            [
             0.5555555555555556,
             "#d8576b"
            ],
            [
             0.6666666666666666,
             "#ed7953"
            ],
            [
             0.7777777777777778,
             "#fb9f3a"
            ],
            [
             0.8888888888888888,
             "#fdca26"
            ],
            [
             1,
             "#f0f921"
            ]
           ]
          },
          "colorway": [
           "#636efa",
           "#EF553B",
           "#00cc96",
           "#ab63fa",
           "#FFA15A",
           "#19d3f3",
           "#FF6692",
           "#B6E880",
           "#FF97FF",
           "#FECB52"
          ],
          "font": {
           "color": "#2a3f5f"
          },
          "geo": {
           "bgcolor": "white",
           "lakecolor": "white",
           "landcolor": "#E5ECF6",
           "showlakes": true,
           "showland": true,
           "subunitcolor": "white"
          },
          "hoverlabel": {
           "align": "left"
          },
          "hovermode": "closest",
          "mapbox": {
           "style": "light"
          },
          "paper_bgcolor": "white",
          "plot_bgcolor": "#E5ECF6",
          "polar": {
           "angularaxis": {
            "gridcolor": "white",
            "linecolor": "white",
            "ticks": ""
           },
           "bgcolor": "#E5ECF6",
           "radialaxis": {
            "gridcolor": "white",
            "linecolor": "white",
            "ticks": ""
           }
          },
          "scene": {
           "xaxis": {
            "backgroundcolor": "#E5ECF6",
            "gridcolor": "white",
            "gridwidth": 2,
            "linecolor": "white",
            "showbackground": true,
            "ticks": "",
            "zerolinecolor": "white"
           },
           "yaxis": {
            "backgroundcolor": "#E5ECF6",
            "gridcolor": "white",
            "gridwidth": 2,
            "linecolor": "white",
            "showbackground": true,
            "ticks": "",
            "zerolinecolor": "white"
           },
           "zaxis": {
            "backgroundcolor": "#E5ECF6",
            "gridcolor": "white",
            "gridwidth": 2,
            "linecolor": "white",
            "showbackground": true,
            "ticks": "",
            "zerolinecolor": "white"
           }
          },
          "shapedefaults": {
           "line": {
            "color": "#2a3f5f"
           }
          },
          "ternary": {
           "aaxis": {
            "gridcolor": "white",
            "linecolor": "white",
            "ticks": ""
           },
           "baxis": {
            "gridcolor": "white",
            "linecolor": "white",
            "ticks": ""
           },
           "bgcolor": "#E5ECF6",
           "caxis": {
            "gridcolor": "white",
            "linecolor": "white",
            "ticks": ""
           }
          },
          "title": {
           "x": 0.05
          },
          "xaxis": {
           "automargin": true,
           "gridcolor": "white",
           "linecolor": "white",
           "ticks": "",
           "title": {
            "standoff": 15
           },
           "zerolinecolor": "white",
           "zerolinewidth": 2
          },
          "yaxis": {
           "automargin": true,
           "gridcolor": "white",
           "linecolor": "white",
           "ticks": "",
           "title": {
            "standoff": 15
           },
           "zerolinecolor": "white",
           "zerolinewidth": 2
          }
         }
        },
        "title": {
         "text": "Fairness vs Loss Tradeoff",
         "x": 0.5
        },
        "xaxis": {
         "anchor": "y",
         "domain": [
          0,
          1
         ],
         "title": {
          "text": "ei_disparity_mean"
         }
        },
        "yaxis": {
         "anchor": "x",
         "domain": [
          0,
          1
         ],
         "title": {
          "text": "loss_mean"
         }
        }
       }
      }
     },
     "metadata": {},
     "output_type": "display_data"
    }
   ],
   "source": [
    "fig = px.line(results, x='ei_disparity_mean', y='loss_mean', color='alpha', hover_data='lambda', markers=True)\n",
    "fig.add_annotation(dict(font=dict(color='black',size=10),\n",
    "                                        x=0.9,\n",
    "                                        y=0.99,\n",
    "                                        showarrow=False,\n",
    "                                        text='dataset=synthetic',\n",
    "                                        textangle=0,\n",
    "                                        xanchor='left',\n",
    "                                        xref=\"paper\",\n",
    "                                        yref=\"paper\"))\n",
    "fig.update_layout(title=dict(text='Fairness vs Loss Tradeoff', x=0.5))\n",
    "fig.update_traces(marker=dict(size=3))\n",
    "fig.show()"
   ]
  }
 ],
 "metadata": {
  "kernelspec": {
   "display_name": ".env",
   "language": "python",
   "name": "python3"
  },
  "language_info": {
   "codemirror_mode": {
    "name": "ipython",
    "version": 3
   },
   "file_extension": ".py",
   "mimetype": "text/x-python",
   "name": "python",
   "nbconvert_exporter": "python",
   "pygments_lexer": "ipython3",
   "version": "3.12.0"
  }
 },
 "nbformat": 4,
 "nbformat_minor": 2
}
