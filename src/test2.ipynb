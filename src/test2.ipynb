{
 "cells": [
  {
   "cell_type": "code",
   "execution_count": 1,
   "metadata": {},
   "outputs": [],
   "source": [
    "import torch\n",
    "import pickle\n",
    "import warnings\n",
    "import numpy as np\n",
    "import pandas as pd\n",
    "import plotly.express as px\n",
    "from copy import deepcopy\n",
    "from tqdm import tqdm\n",
    "\n",
    "\n",
    "from model import LR\n",
    "from data import FairnessDataset, SyntheticDataset, GermanDataset\n",
    "from ei_effort import Optimal_Effort, PGD_Effort\n",
    "from ei_utils import *\n",
    "from ei_model_dev import FairBatch, Covariance\n",
    "\n",
    "# warnings.filterwarnings('ignore')"
   ]
  },
  {
   "cell_type": "code",
   "execution_count": 2,
   "metadata": {},
   "outputs": [],
   "source": [
    "# dataset = SyntheticDataset(seed=0)\n",
    "dataset = GermanDataset(seed=0)"
   ]
  },
  {
   "cell_type": "code",
   "execution_count": 3,
   "metadata": {},
   "outputs": [
    {
     "name": "stderr",
     "output_type": "stream",
     "text": [
      "Training [lambda=0.0000; delta=0.5000]: 100%|\u001b[38;2;0;145;255m██████████\u001b[0m| 100/100 [00:03<00:00, 27.22epochs/s]\n"
     ]
    },
    {
     "data": {
      "text/plain": [
       "tensor([ 0.4047, -0.3873,  0.1086, -0.0497, -0.0455,  0.2492,  0.0892, -0.0266,\n",
       "         0.0283,  0.2969, -0.0398, -0.2192, -0.0503, -0.0040, -0.0189,  0.0487,\n",
       "         0.0349,  0.3141,  0.3925, -0.0152,  0.0889])"
      ]
     },
     "execution_count": 3,
     "metadata": {},
     "output_type": "execute_result"
    }
   ],
   "source": [
    "torch.manual_seed(0)\n",
    "train_tensors, val_tensors, test_tensors = dataset.tensor(z_blind=False)\n",
    "train_dataset = FairnessDataset(*train_tensors, dataset.imp_feats)\n",
    "val_dataset = FairnessDataset(*val_tensors, dataset.imp_feats)\n",
    "test_dataset = FairnessDataset(*test_tensors, dataset.imp_feats)\n",
    "\n",
    "# model_params = torch.load('../fc_erm_model.pkl')\n",
    "model = LR(train_dataset.X.shape[1])\n",
    "# model.load_state_dict(model_params)\n",
    "\n",
    "tau = 0.5\n",
    "delta = 0.5\n",
    "# effort_model = Optimal_Effort(delta)\n",
    "effort = PGD_Effort(delta, 50)\n",
    "ei_model = Covariance(model, effort, tau)\n",
    "ei_model.train(train_dataset, 0.)\n",
    "\n",
    "for module in model.layers:\n",
    "    if hasattr(module, 'weight'):\n",
    "        weights_0 = module.weight.data\n",
    "    if hasattr(module, 'bias'):\n",
    "        bias_0 = module.bias.data\n",
    "\n",
    "theta_0 = torch.cat((weights_0[0], bias_0), 0)\n",
    "theta_0"
   ]
  },
  {
   "cell_type": "code",
   "execution_count": 4,
   "metadata": {},
   "outputs": [
    {
     "name": "stdout",
     "output_type": "stream",
     "text": [
      "[GermanDataset] PGA Results (Covariance)\n",
      "alpha               |   0.0\n",
      "Accuracy            |   0.72500\n",
      "Fairness Loss       |   0.00007\n",
      "EI Disparity        |   0.00233\n",
      "alphas              |   tensor([0., 0., 0., 0., 0., 0., 0., 0., 0., 0., 0., 0., 0., 0., 0., 0., 0., 0., 0., 0., 0.])\n",
      "--------------------------------\n",
      "\n",
      "[GermanDataset] PGA Results (Covariance)\n",
      "alpha               |   0.1\n",
      "Accuracy            |   0.72500\n",
      "Fairness Loss       |   0.00120\n",
      "EI Disparity        |   0.22611\n",
      "alphas              |   tensor([0.1000, 0.0869, 0.1000, 0.1000, 0.1000, 0.1000, 0.1000, 0.1000, 0.0959,\n",
      "        0.0000, 0.0759, 0.1000, 0.1000, 0.1000, 0.0662, 0.1000, 0.1000, 0.1000,\n",
      "        0.0000, 0.1000, 0.1000])\n",
      "--------------------------------\n",
      "\n",
      "[GermanDataset] PGA Results (Covariance)\n",
      "alpha               |   0.5\n",
      "Accuracy            |   0.72500\n",
      "Fairness Loss       |   0.01028\n",
      "EI Disparity        |   0.40793\n",
      "alphas              |   tensor([0.2978, 0.3895, 0.5000, 0.1801, 0.5000, 0.5000, 0.5000, 0.5000, 0.5000,\n",
      "        0.0000, 0.2580, 0.5000, 0.3411, 0.5000, 0.3209, 0.5000, 0.2774, 0.5000,\n",
      "        0.0000, 0.5000, 0.5000])\n",
      "--------------------------------\n",
      "\n",
      "[GermanDataset] PGA Results (Covariance)\n",
      "alpha               |   1.5\n",
      "Accuracy            |   0.72500\n",
      "Fairness Loss       |   0.03106\n",
      "EI Disparity        |   0.57576\n",
      "alphas              |   tensor([1.5000, 1.5000, 1.1895, 0.2551, 1.4529, 1.5000, 1.3878, 1.5000, 1.5000,\n",
      "        0.0000, 0.8675, 1.5000, 0.5455, 1.5000, 1.5000, 1.3279, 0.1829, 1.5000,\n",
      "        0.0000, 1.5000, 1.5000])\n",
      "--------------------------------\n",
      "\n",
      "[GermanDataset] PGA Results (Covariance)\n",
      "alpha               |   2.0\n",
      "Accuracy            |   0.72500\n",
      "Fairness Loss       |   0.03777\n",
      "EI Disparity        |   0.57576\n",
      "alphas              |   tensor([2.0000, 2.0000, 1.4104, 0.3311, 1.9155, 2.0000, 1.9463, 2.0000, 2.0000,\n",
      "        0.0000, 1.3255, 2.0000, 0.6054, 2.0000, 1.8185, 1.3351, 0.4069, 1.8647,\n",
      "        0.0000, 2.0000, 2.0000])\n",
      "--------------------------------\n",
      "\n",
      "[GermanDataset] PGA Results (Covariance)\n",
      "alpha               |   2.5\n",
      "Accuracy            |   0.72500\n",
      "Fairness Loss       |   0.04243\n",
      "EI Disparity        |   0.57576\n",
      "alphas              |   tensor([2.5000, 2.5000, 1.5631, 0.3915, 2.4544, 2.4190, 2.4102, 2.5000, 2.5000,\n",
      "        0.0000, 1.6563, 2.5000, 0.6680, 2.5000, 2.1970, 1.4613, 1.0089, 1.8263,\n",
      "        0.0000, 2.5000, 2.5000])\n",
      "--------------------------------\n",
      "\n",
      "[GermanDataset] PGA Results (Covariance)\n",
      "alpha               |   5.0\n",
      "Accuracy            |   0.72500\n",
      "Fairness Loss       |   0.05042\n",
      "EI Disparity        |   0.57576\n",
      "alphas              |   tensor([4.4208, 5.0000, 2.6704, 0.7287, 5.0000, 4.2412, 4.4958, 4.9500, 5.0000,\n",
      "        0.0000, 3.5843, 5.0000, 0.7694, 3.9094, 4.0360, 1.5575, 2.4243, 1.9839,\n",
      "        0.0000, 5.0000, 4.6171])\n",
      "--------------------------------\n",
      "\n"
     ]
    }
   ],
   "source": [
    "for alpha in [0., 0.1, 0.5, 1.5, 2., 2.5, 5.0]:\n",
    "    pga_Y_hat, pga_Y_hat_max, pga_fair_loss = ei_model.predict(test_dataset, alpha, 1e-7)\n",
    "    pga_accuracy, pga_ei_disparity = model_performance(test_dataset.Y.detach().numpy(), test_dataset.Z.detach().numpy(), pga_Y_hat, pga_Y_hat_max, tau)\n",
    "    for module in ei_model.model_adv.layers:\n",
    "        if hasattr(module, 'weight'):\n",
    "            pga_weights_r = module.weight.data\n",
    "        if hasattr(module, 'bias'):\n",
    "            pga_bias_r = module.bias.data\n",
    "    pga_theta_r = torch.cat((pga_weights_r[0], pga_bias_r), 0)\n",
    "\n",
    "    Y_neg = pga_Y_hat<tau\n",
    "    \n",
    "    alphas = (pga_theta_r-theta_0).abs()\n",
    "    print(f'[{dataset.__class__.__name__}] PGA Results {\"(Covariance)\" if isinstance(ei_model, Covariance) else \"(Loss-based)\"}')\n",
    "    print(f'alpha               |   {alpha}')\n",
    "    print(f'Accuracy            |   {pga_accuracy:.5f}')\n",
    "    print(f'Fairness Loss       |   {pga_fair_loss:.5f}')\n",
    "    print(f'EI Disparity        |   {pga_ei_disparity:.5f}')\n",
    "    # print(f'theta_0             |   {np.round(theta_0, 4)}')\n",
    "    # print(f'theta_r             |   {np.round(pga_theta_r, 4)}')\n",
    "    print(f'alphas              |   {np.round(alphas, 4)}')\n",
    "    print('-'*32)\n",
    "    print()"
   ]
  }
 ],
 "metadata": {
  "kernelspec": {
   "display_name": ".env",
   "language": "python",
   "name": "python3"
  },
  "language_info": {
   "codemirror_mode": {
    "name": "ipython",
    "version": 3
   },
   "file_extension": ".py",
   "mimetype": "text/x-python",
   "name": "python",
   "nbconvert_exporter": "python",
   "pygments_lexer": "ipython3",
   "version": "3.11.9"
  }
 },
 "nbformat": 4,
 "nbformat_minor": 2
}
