{
 "cells": [
  {
   "cell_type": "code",
   "execution_count": 1,
   "metadata": {},
   "outputs": [],
   "source": [
    "import torch\n",
    "import pickle\n",
    "import warnings\n",
    "import numpy as np\n",
    "import pandas as pd\n",
    "import plotly.express as px\n",
    "from copy import deepcopy\n",
    "from tqdm import tqdm\n",
    "\n",
    "\n",
    "from model import LR\n",
    "from data import FairnessDataset, SyntheticDataset, GermanDataset\n",
    "from ei_effort import Optimal_Effort, PGD_Effort\n",
    "from ei_utils import *\n",
    "from ei_model_test import EIModel, fair_batch_proxy, covariance_proxy\n",
    "\n",
    "# warnings.filterwarnings('ignore')"
   ]
  },
  {
   "cell_type": "code",
   "execution_count": 2,
   "metadata": {},
   "outputs": [],
   "source": [
    "# dataset = SyntheticDataset(seed=0)\n",
    "dataset = GermanDataset(seed=0)"
   ]
  },
  {
   "cell_type": "code",
   "execution_count": 8,
   "metadata": {},
   "outputs": [
    {
     "name": "stderr",
     "output_type": "stream",
     "text": [
      " Training [alpha=0.00; lambda=0.00; delta=0.50]: 100%|\u001b[38;2;0;145;255m██████████\u001b[0m| 100/100 [00:03<00:00, 29.61epochs/s]\n"
     ]
    },
    {
     "data": {
      "text/plain": [
       "tensor([ 0.4047, -0.3873,  0.1086, -0.0497, -0.0455,  0.2492,  0.0892, -0.0266,\n",
       "         0.0283,  0.2969, -0.0398, -0.2192, -0.0503, -0.0040, -0.0189,  0.0487,\n",
       "         0.0349,  0.3141,  0.3925, -0.0152,  0.0889])"
      ]
     },
     "execution_count": 8,
     "metadata": {},
     "output_type": "execute_result"
    }
   ],
   "source": [
    "torch.manual_seed(0)\n",
    "train_tensors, val_tensors, test_tensors = dataset.tensor(z_blind=False)\n",
    "train_dataset = FairnessDataset(*train_tensors, dataset.imp_feats)\n",
    "val_dataset = FairnessDataset(*val_tensors, dataset.imp_feats)\n",
    "test_dataset = FairnessDataset(*test_tensors, dataset.imp_feats)\n",
    "\n",
    "model = LR(train_dataset.X.shape[1])\n",
    "\n",
    "tau = 0.5\n",
    "delta = 0.5\n",
    "lamb = 0.\n",
    "# effort = Optimal_Effort(delta)\n",
    "effort = PGD_Effort(delta, 50)\n",
    "proxy = covariance_proxy\n",
    "ei_model = EIModel(model, proxy, effort, tau)\n",
    "ei_model.train(train_dataset, lamb, alpha=0, abstol=1e-3)\n",
    "\n",
    "for module in model.layers:\n",
    "    if hasattr(module, 'weight'):\n",
    "        weights_0 = module.weight.data\n",
    "    if hasattr(module, 'bias'):\n",
    "        bias_0 = module.bias.data\n",
    "\n",
    "theta_0 = torch.cat((weights_0[0], bias_0), 0)\n",
    "theta_0"
   ]
  },
  {
   "cell_type": "code",
   "execution_count": 9,
   "metadata": {},
   "outputs": [
    {
     "data": {
      "text/plain": [
       "tensor([0., 0., 0., 0., 0., 0., 0., 0., 0., 0., 0., 0., 0., 0., 0., 0., 0., 0., 0., 0., 0.])"
      ]
     },
     "execution_count": 9,
     "metadata": {},
     "output_type": "execute_result"
    }
   ],
   "source": [
    "theta_0_r - theta_0"
   ]
  },
  {
   "cell_type": "code",
   "execution_count": null,
   "metadata": {},
   "outputs": [],
   "source": [
    "for alpha in [0., 0.1, 0.5, 1.5, 2., 2.5, 5.0]:\n",
    "    pga_Y_hat, pga_Y_hat_max, pga_fair_loss = ei_model.predict(test_dataset, alpha, 1e-7)\n",
    "    pga_accuracy, pga_ei_disparity = model_performance(test_dataset.Y.detach().numpy(), test_dataset.Z.detach().numpy(), pga_Y_hat, pga_Y_hat_max, tau)\n",
    "    for module in ei_model.model_adv.layers:\n",
    "        if hasattr(module, 'weight'):\n",
    "            pga_weights_r = module.weight.data\n",
    "        if hasattr(module, 'bias'):\n",
    "            pga_bias_r = module.bias.data\n",
    "    pga_theta_r = torch.cat((pga_weights_r[0], pga_bias_r), 0)\n",
    "\n",
    "    Y_neg = pga_Y_hat<tau\n",
    "    \n",
    "    alphas = (pga_theta_r-theta_0).abs()\n",
    "    print(f'[{dataset.__class__.__name__}] PGA Results {\"(Covariance)\" if proxy == covariance_proxy else \"(Loss-based)\"}')\n",
    "    print(f'alpha               |   {alpha}')\n",
    "    print(f'Accuracy            |   {pga_accuracy:.5f}')\n",
    "    print(f'Fairness Loss       |   {pga_fair_loss:.5f}')\n",
    "    print(f'EI Disparity        |   {pga_ei_disparity:.5f}')\n",
    "    # print(f'theta_0             |   {np.round(theta_0, 4)}')\n",
    "    # print(f'theta_r             |   {np.round(pga_theta_r, 4)}')\n",
    "    print(f'alphas              |   {np.round(alphas, 4)}')\n",
    "    print('-'*32)\n",
    "    print()"
   ]
  },
  {
   "cell_type": "code",
   "execution_count": null,
   "metadata": {},
   "outputs": [],
   "source": [
    "for alpha in [0., 0.1, 0.5, 1.5, 2., 2.5, 5.0]:\n",
    "    pga_Y_hat, pga_Y_hat_max, pga_fair_loss = ei_model.predict(test_dataset, alpha, 1e-7)\n",
    "    pga_accuracy, pga_ei_disparity = model_performance(test_dataset.Y.detach().numpy(), test_dataset.Z.detach().numpy(), pga_Y_hat, pga_Y_hat_max, tau)\n",
    "    for module in ei_model.model_adv.layers:\n",
    "        if hasattr(module, 'weight'):\n",
    "            pga_weights_r = module.weight.data\n",
    "        if hasattr(module, 'bias'):\n",
    "            pga_bias_r = module.bias.data\n",
    "    pga_theta_r = torch.cat((pga_weights_r[0], pga_bias_r), 0)\n",
    "\n",
    "    Y_neg = pga_Y_hat<tau\n",
    "    \n",
    "    alphas = (pga_theta_r-theta_0).abs()\n",
    "    print(f'[{dataset.__class__.__name__}] PGA Results {\"(Covariance)\" if proxy == covariance_proxy else \"(Loss-based)\"}')\n",
    "    print(f'alpha               |   {alpha}')\n",
    "    print(f'Accuracy            |   {pga_accuracy:.5f}')\n",
    "    print(f'Fairness Loss       |   {pga_fair_loss:.5f}')\n",
    "    print(f'EI Disparity        |   {pga_ei_disparity:.5f}')\n",
    "    # print(f'theta_0             |   {np.round(theta_0, 4)}')\n",
    "    # print(f'theta_r             |   {np.round(pga_theta_r, 4)}')\n",
    "    print(f'alphas              |   {np.round(alphas, 4)}')\n",
    "    print('-'*32)\n",
    "    print()"
   ]
  }
 ],
 "metadata": {
  "kernelspec": {
   "display_name": ".env",
   "language": "python",
   "name": "python3"
  },
  "language_info": {
   "codemirror_mode": {
    "name": "ipython",
    "version": 3
   },
   "file_extension": ".py",
   "mimetype": "text/x-python",
   "name": "python",
   "nbconvert_exporter": "python",
   "pygments_lexer": "ipython3",
   "version": "3.11.9"
  }
 },
 "nbformat": 4,
 "nbformat_minor": 2
}
