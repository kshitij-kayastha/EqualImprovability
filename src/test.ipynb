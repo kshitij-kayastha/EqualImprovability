{
 "cells": [
  {
   "cell_type": "code",
   "execution_count": 1,
   "metadata": {},
   "outputs": [],
   "source": [
    "import torch\n",
    "import pickle\n",
    "import numpy as np\n",
    "import pandas as pd\n",
    "import plotly.express as px\n",
    "from copy import deepcopy\n",
    "\n",
    "\n",
    "from model import LR\n",
    "from data import FairnessDataset, SyntheticDataset, GermanDataset\n",
    "from ei_model_dev import FairBatch, Covariance\n",
    "from ei_effort import Optimal_Effort, PGD_Effort\n",
    "from ei_utils import *"
   ]
  },
  {
   "cell_type": "code",
   "execution_count": 12,
   "metadata": {},
   "outputs": [],
   "source": [
    "dataset = SyntheticDataset(seed=0)"
   ]
  },
  {
   "cell_type": "code",
   "execution_count": 13,
   "metadata": {},
   "outputs": [],
   "source": [
    "train_tensors, val_tensors, test_tensors = dataset.tensor(fold=0, z_blind=False)\n",
    "train_dataset = FairnessDataset(*train_tensors, dataset.imp_feats)\n",
    "val_dataset = FairnessDataset(*val_tensors, dataset.imp_feats)\n",
    "test_dataset = FairnessDataset(*test_tensors, dataset.imp_feats)"
   ]
  },
  {
   "cell_type": "code",
   "execution_count": 20,
   "metadata": {},
   "outputs": [
    {
     "data": {
      "text/plain": [
       "tensor([0., 1.])"
      ]
     },
     "execution_count": 20,
     "metadata": {},
     "output_type": "execute_result"
    }
   ],
   "source": [
    "train_dataset.Z.unique()\n",
    "# sorted(list(set(train_dataset.Z)))\n",
    "# dataset.sensitive_attrs"
   ]
  },
  {
   "cell_type": "code",
   "execution_count": 10,
   "metadata": {},
   "outputs": [],
   "source": [
    "dataset = SyntheticDataset(seed=0)"
   ]
  },
  {
   "cell_type": "code",
   "execution_count": null,
   "metadata": {},
   "outputs": [],
   "source": []
  },
  {
   "cell_type": "code",
   "execution_count": null,
   "metadata": {},
   "outputs": [],
   "source": [
    "def append_res(d, acc, ei):\n",
    "    d['accuracy'].append(acc)\n",
    "    d['loss'].append(1-acc)\n",
    "    d['ei_disparity'].append(ei)\n",
    "        \n",
    "def get_res(d, hp):\n",
    "    res = {'alpha': [], 'lambda': [], 'delta': [], 'accuracy_mean': [], 'accuracy_std': [], 'loss_mean': [], 'loss_std': [], 'ei_disparity_mean': [], 'ei_disparity_std': []}\n",
    "    res['alpha'].append(hp['alpha'])\n",
    "    res['lambda'].append(hp['lambda'])\n",
    "    res['delta'].append(hp['delta'])\n",
    "    res['accuracy_mean'].append(np.mean(d['accuracy']))\n",
    "    res['accuracy_std'].append(np.std(d['accuracy']))\n",
    "    res['loss_mean'].append(np.mean(d['loss']))\n",
    "    res['loss_std'].append(np.std(d['loss']))\n",
    "    res['ei_disparity_mean'].append(np.mean(d['ei_disparity']))\n",
    "    res['ei_disparity_std'].append(np.std(d['ei_disparity']))\n",
    "    \n",
    "    return res"
   ]
  },
  {
   "cell_type": "code",
   "execution_count": null,
   "metadata": {},
   "outputs": [],
   "source": [
    "def model_runner(ei_model, dataset, hp, seeds):\n",
    "    tau = 0.5\n",
    "    pga_iter = hp['pga_iter']\n",
    "    metrics = {'accuracy': [], 'loss': [], 'ei_disparity': []}\n",
    "    \n",
    "    if hp['optimal_effort']:\n",
    "        effort_model = Optimal_Effort(hp['delta'])\n",
    "    else:\n",
    "        effort_model = PGD_Effort(hp['delta'])\n",
    "    \n",
    "    for seed in seeds:\n",
    "        train_tensors, val_tensors, test_tensors = dataset.tensor(fold=seed, z_blind=hp['z_blind'])\n",
    "        train_dataset = FairnessDataset(*train_tensors, dataset.imp_feats)\n",
    "        val_dataset = FairnessDataset(*val_tensors, dataset.imp_feats)\n",
    "        test_dataset = FairnessDataset(*test_tensors, dataset.imp_feats)\n",
    "        \n",
    "        model = LR(num_features=train_dataset.X.shape[1])\n",
    "        ei_m = ei_model(model, effort_model, pga_iter, tau)\n",
    "        \n",
    "        ei_m.train(\n",
    "            train_dataset, \n",
    "            lamb=hp['lambda'],\n",
    "            lr=hp['learning_rate'],\n",
    "            alpha=hp['alpha']\n",
    "            )\n",
    "        \n",
    "        Y_hat, Y_hat_max = ei_m.predict(test_dataset, hp['alpha'])\n",
    "        test_acc, test_ei = model_performance(test_dataset.Y.detach().numpy(), test_dataset.Z.detach().numpy(), Y_hat, Y_hat_max, tau)\n",
    "        append_res(metrics, test_acc, test_ei)\n",
    "    \n",
    "    results = get_res(metrics, hp)\n",
    "    \n",
    "    return results"
   ]
  },
  {
   "cell_type": "code",
   "execution_count": null,
   "metadata": {},
   "outputs": [],
   "source": [
    "def run_tradeoff(ei_model, dataset, hyper_params, seeds):\n",
    "    hp = hyper_params.copy()\n",
    "    results = pd.DataFrame()\n",
    "    \n",
    "    for alpha in hyper_params['alpha']:\n",
    "        for lamb in hyper_params['lambda']:\n",
    "            for delta in hyper_params['delta']:\n",
    "                hp['alpha'] = alpha\n",
    "                hp['lambda'] = lamb\n",
    "                hp['delta'] = delta\n",
    "                \n",
    "                result = model_runner(ei_model, dataset, hp, seeds)\n",
    "                results = pd.concat((results, pd.DataFrame(result)))\n",
    "                print()\n",
    "    \n",
    "    return results"
   ]
  },
  {
   "cell_type": "code",
   "execution_count": null,
   "metadata": {},
   "outputs": [],
   "source": [
    "# Hyperparameters\n",
    "hyper_params = {}\n",
    "hyper_params['delta'] = [0.5]\n",
    "hyper_params['alpha'] = [0., 0.1, 1.5]\n",
    "# hyper_params['lambda'] = [0.88] # FairBatch lambda\n",
    "hyper_params['lambda'] = 1-np.geomspace(0.001,0.999,20) # Covariance lambdas\n",
    "hyper_params['learning_rate'] = 0.01\n",
    "hyper_params['pga_iter'] = 20\n",
    "hyper_params['z_blind'] = False\n",
    "hyper_params['optimal_effort'] = True # True only for Synthetic Data\n",
    "\n",
    "# 5-Fold Cross Validation\n",
    "seeds = list(range(5))\n",
    "\n",
    "# EI Model (select one)\n",
    "# ei_model = FairBatch\n",
    "ei_model = Covariance\n",
    "\n",
    "# Run tradeoffs\n",
    "results = run_tradeoff(ei_model, dataset, hyper_params, seeds)\n",
    "results['alpha'] = results['alpha'].astype(str)"
   ]
  },
  {
   "cell_type": "code",
   "execution_count": null,
   "metadata": {},
   "outputs": [],
   "source": [
    "results"
   ]
  },
  {
   "cell_type": "code",
   "execution_count": null,
   "metadata": {},
   "outputs": [],
   "source": [
    "train_results = results[results['id'] == 'train']\n",
    "val_results = results[results['id'] == 'val']\n",
    "test_results = results[results['id'] == 'test']"
   ]
  },
  {
   "cell_type": "code",
   "execution_count": null,
   "metadata": {},
   "outputs": [],
   "source": [
    "test_results"
   ]
  },
  {
   "cell_type": "code",
   "execution_count": null,
   "metadata": {},
   "outputs": [],
   "source": [
    "test_results_pareto = pd.DataFrame()\n",
    "for alpha in test_results['alpha'].unique():\n",
    "    test_results_alpha = test_results[test_results['alpha'] == alpha]\n",
    "    mask = pareto_frontier(test_results_alpha['loss_mean'], test_results_alpha['ei_disparity_mean'])\n",
    "    results_alpha_pareto = test_results_alpha.iloc[mask]\n",
    "    test_results_pareto = pd.concat((test_results_pareto, results_alpha_pareto.sort_values('ei_disparity_mean')))"
   ]
  },
  {
   "cell_type": "code",
   "execution_count": null,
   "metadata": {},
   "outputs": [],
   "source": [
    "px.line(test_results, x='ei_disparity_mean', y='loss_mean', color='alpha', hover_data='lambda', markers=True, animation_frame='delta')"
   ]
  }
 ],
 "metadata": {
  "kernelspec": {
   "display_name": ".env",
   "language": "python",
   "name": "python3"
  },
  "language_info": {
   "codemirror_mode": {
    "name": "ipython",
    "version": 3
   },
   "file_extension": ".py",
   "mimetype": "text/x-python",
   "name": "python",
   "nbconvert_exporter": "python",
   "pygments_lexer": "ipython3",
   "version": "3.11.9"
  }
 },
 "nbformat": 4,
 "nbformat_minor": 2
}
