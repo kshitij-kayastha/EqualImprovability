{
 "cells": [
  {
   "cell_type": "code",
   "execution_count": 1,
   "metadata": {},
   "outputs": [],
   "source": [
    "import torch\n",
    "import numpy as np\n",
    "import pandas as pd\n",
    "import plotly.express as px\n",
    "from copy import deepcopy\n",
    "\n",
    "\n",
    "from model import LR\n",
    "from data import SyntheticDataset, FairnessDataset\n",
    "from ei_model_dev import FairBatch\n",
    "from ei_effort import Optimal_Effort, PGD_Effort\n",
    "from ei_utils import pareto_frontier"
   ]
  },
  {
   "cell_type": "code",
   "execution_count": 2,
   "metadata": {},
   "outputs": [],
   "source": [
    "dataset = SyntheticDataset(seed=0)"
   ]
  },
  {
   "cell_type": "code",
   "execution_count": 3,
   "metadata": {},
   "outputs": [],
   "source": [
    "def append_res(d, alpha, acc, ei):\n",
    "\td['alpha'].append(alpha)\n",
    "\td['accuracy'].append(acc)\n",
    "\td['ei_disparity'].append(ei)\n",
    "        \n",
    "def get_res(d, id, hp):\n",
    "\tdf = pd.DataFrame(d)\n",
    "\tres = {'id': [], 'lambda': [], 'delta': [], 'alpha': [], 'accuracy_mean': [], 'accuracy_std': [], 'ei_disparity_mean': [], 'ei_disparity_std': []}\n",
    "\tfor alpha in hp['alpha']:\n",
    "\t\tdf_alpha = df[df['alpha'] == alpha]\n",
    "\t\tres['id'].append(id)\n",
    "\t\tres['lambda'].append(hp['lambda'])\n",
    "\t\tres['delta'].append(hp['delta'])\n",
    "\t\tres['alpha'].append(alpha)\n",
    "\t\tres['accuracy_mean'].append(np.mean(df_alpha['accuracy']))\n",
    "\t\tres['accuracy_std'].append(np.std(df_alpha['accuracy']))\n",
    "\t\tres['ei_disparity_mean'].append(np.mean(df_alpha['ei_disparity']))\n",
    "\t\tres['ei_disparity_std'].append(np.std(df_alpha['ei_disparity']))\n",
    "\n",
    "\treturn res"
   ]
  },
  {
   "cell_type": "code",
   "execution_count": 4,
   "metadata": {},
   "outputs": [],
   "source": [
    "def lr_fb_model_runner(dataset, hp, seeds):\n",
    "    train_metrics = {'alpha': [], 'accuracy': [], 'ei_disparity': []}\n",
    "    val_metrics = deepcopy(train_metrics)\n",
    "    test_metrics = deepcopy(train_metrics)\n",
    "    ei_models = []\n",
    "    \n",
    "    if hp['optimal_effort']:\n",
    "        effort = Optimal_Effort(hp['delta'])\n",
    "    else:\n",
    "        effort = PGD_Effort(hp['delta'])\n",
    "    \n",
    "    for seed in seeds:\n",
    "        train_tensors, val_tensors, test_tensors = dataset.tensor(fold=seed, z_blind=hp['z_blind'])\n",
    "        train_dataset = FairnessDataset(*train_tensors, dataset.imp_feats)\n",
    "        val_dataset = FairnessDataset(*val_tensors, dataset.imp_feats)\n",
    "        test_dataset = FairnessDataset(*test_tensors, dataset.imp_feats)\n",
    "        \n",
    "        model = LR(num_features=train_dataset.X.shape[1])\n",
    "        ei_model = FairBatch(model, effort)\n",
    "        \n",
    "        for alpha in hp['alpha']:\n",
    "            \n",
    "            ei_model.train(\n",
    "                train_dataset, \n",
    "                sensitive_attrs=dataset.sensitive_attrs,\n",
    "                lamb=hp['lambda'],\n",
    "                lr=hp['learning_rate'],\n",
    "                alpha=alpha\n",
    "                )\n",
    "        \n",
    "            train_acc, train_ei = ei_model.eval(train_dataset, alpha, dataset.sensitive_attrs)\n",
    "            val_acc, val_ei = ei_model.eval(val_dataset, alpha, dataset.sensitive_attrs)\n",
    "            test_acc, test_ei = ei_model.eval(test_dataset, alpha, dataset.sensitive_attrs)\n",
    "        \n",
    "            append_res(train_metrics, alpha, train_acc, train_ei)\n",
    "            append_res(val_metrics, alpha, val_acc, val_ei)\n",
    "            append_res(test_metrics, alpha, test_acc, test_ei)\n",
    "\t\t\n",
    "        ei_models.append(ei_model.model)\n",
    "    \n",
    "    res_train = get_res(train_metrics, 'train', hp)\n",
    "    res_val = get_res(val_metrics, 'val', hp)\n",
    "    res_test = get_res(test_metrics, 'test', hp)\n",
    "    \n",
    "    return res_train, res_val, res_test, ei_models"
   ]
  },
  {
   "cell_type": "code",
   "execution_count": 5,
   "metadata": {},
   "outputs": [],
   "source": [
    "def fb_tradeoff(dataset, hp_test, seeds):\n",
    "    hp = hp_test.copy()\n",
    "    result = pd.DataFrame()\n",
    "    ei_models = []\n",
    "    \n",
    "    for lamb in hp_test['lambda']:\n",
    "        for delta in hp_test['delta']:\n",
    "            hp['lambda'] = lamb\n",
    "            hp['delta'] = delta\n",
    "            \n",
    "            train, val, test, models = lr_fb_model_runner(dataset, hp, seeds)\n",
    "            result = pd.concat((result, pd.DataFrame(train), pd.DataFrame(val), pd.DataFrame(test)))\n",
    "            ei_models.extend(models)\n",
    "            print()\n",
    "    \n",
    "    return result, ei_models"
   ]
  },
  {
   "cell_type": "code",
   "execution_count": 6,
   "metadata": {},
   "outputs": [
    {
     "ename": "TypeError",
     "evalue": "unsupported format string passed to list.__format__",
     "output_type": "error",
     "traceback": [
      "\u001b[0;31m---------------------------------------------------------------------------\u001b[0m",
      "\u001b[0;31mTypeError\u001b[0m                                 Traceback (most recent call last)",
      "Cell \u001b[0;32mIn[6], line 10\u001b[0m\n\u001b[1;32m      7\u001b[0m hyper_params[\u001b[38;5;124m'\u001b[39m\u001b[38;5;124moptimal_effort\u001b[39m\u001b[38;5;124m'\u001b[39m] \u001b[38;5;241m=\u001b[39m \u001b[38;5;28;01mFalse\u001b[39;00m\n\u001b[1;32m      8\u001b[0m seeds \u001b[38;5;241m=\u001b[39m \u001b[38;5;28mlist\u001b[39m(\u001b[38;5;28mrange\u001b[39m(\u001b[38;5;241m1\u001b[39m))\n\u001b[0;32m---> 10\u001b[0m results, ei_models \u001b[38;5;241m=\u001b[39m \u001b[43mfb_tradeoff\u001b[49m\u001b[43m(\u001b[49m\u001b[43mdataset\u001b[49m\u001b[43m,\u001b[49m\u001b[43m \u001b[49m\u001b[43mhyper_params\u001b[49m\u001b[43m,\u001b[49m\u001b[43m \u001b[49m\u001b[43mseeds\u001b[49m\u001b[43m)\u001b[49m\n\u001b[1;32m     11\u001b[0m results[\u001b[38;5;124m'\u001b[39m\u001b[38;5;124mloss_mean\u001b[39m\u001b[38;5;124m'\u001b[39m] \u001b[38;5;241m=\u001b[39m \u001b[38;5;241m1\u001b[39m \u001b[38;5;241m-\u001b[39m results[\u001b[38;5;124m'\u001b[39m\u001b[38;5;124maccuracy_mean\u001b[39m\u001b[38;5;124m'\u001b[39m]\n\u001b[1;32m     12\u001b[0m results[\u001b[38;5;124m'\u001b[39m\u001b[38;5;124malpha\u001b[39m\u001b[38;5;124m'\u001b[39m] \u001b[38;5;241m=\u001b[39m results[\u001b[38;5;124m'\u001b[39m\u001b[38;5;124malpha\u001b[39m\u001b[38;5;124m'\u001b[39m]\u001b[38;5;241m.\u001b[39mastype(\u001b[38;5;28mstr\u001b[39m)\n",
      "Cell \u001b[0;32mIn[5], line 11\u001b[0m, in \u001b[0;36mfb_tradeoff\u001b[0;34m(dataset, hp_test, seeds)\u001b[0m\n\u001b[1;32m      8\u001b[0m hp[\u001b[38;5;124m'\u001b[39m\u001b[38;5;124mlambda\u001b[39m\u001b[38;5;124m'\u001b[39m] \u001b[38;5;241m=\u001b[39m lamb\n\u001b[1;32m      9\u001b[0m hp[\u001b[38;5;124m'\u001b[39m\u001b[38;5;124mdelta\u001b[39m\u001b[38;5;124m'\u001b[39m] \u001b[38;5;241m=\u001b[39m delta\n\u001b[0;32m---> 11\u001b[0m train, val, test, models \u001b[38;5;241m=\u001b[39m \u001b[43mlr_fb_model_runner\u001b[49m\u001b[43m(\u001b[49m\u001b[43mdataset\u001b[49m\u001b[43m,\u001b[49m\u001b[43m \u001b[49m\u001b[43mhp\u001b[49m\u001b[43m,\u001b[49m\u001b[43m \u001b[49m\u001b[43mseeds\u001b[49m\u001b[43m)\u001b[49m\n\u001b[1;32m     12\u001b[0m result \u001b[38;5;241m=\u001b[39m pd\u001b[38;5;241m.\u001b[39mconcat((result, pd\u001b[38;5;241m.\u001b[39mDataFrame(train), pd\u001b[38;5;241m.\u001b[39mDataFrame(val), pd\u001b[38;5;241m.\u001b[39mDataFrame(test)))\n\u001b[1;32m     13\u001b[0m ei_models\u001b[38;5;241m.\u001b[39mextend(models)\n",
      "Cell \u001b[0;32mIn[4], line 23\u001b[0m, in \u001b[0;36mlr_fb_model_runner\u001b[0;34m(dataset, hp, seeds)\u001b[0m\n\u001b[1;32m     19\u001b[0m ei_model \u001b[38;5;241m=\u001b[39m FairBatch(model, effort)\n\u001b[1;32m     21\u001b[0m \u001b[38;5;28;01mfor\u001b[39;00m alpha \u001b[38;5;129;01min\u001b[39;00m hp[\u001b[38;5;124m'\u001b[39m\u001b[38;5;124malpha\u001b[39m\u001b[38;5;124m'\u001b[39m]:\n\u001b[0;32m---> 23\u001b[0m     \u001b[43mei_model\u001b[49m\u001b[38;5;241;43m.\u001b[39;49m\u001b[43mtrain\u001b[49m\u001b[43m(\u001b[49m\n\u001b[1;32m     24\u001b[0m \u001b[43m        \u001b[49m\u001b[43mtrain_dataset\u001b[49m\u001b[43m,\u001b[49m\u001b[43m \u001b[49m\n\u001b[1;32m     25\u001b[0m \u001b[43m        \u001b[49m\u001b[43msensitive_attrs\u001b[49m\u001b[38;5;241;43m=\u001b[39;49m\u001b[43mdataset\u001b[49m\u001b[38;5;241;43m.\u001b[39;49m\u001b[43msensitive_attrs\u001b[49m\u001b[43m,\u001b[49m\n\u001b[1;32m     26\u001b[0m \u001b[43m        \u001b[49m\u001b[43mlamb\u001b[49m\u001b[38;5;241;43m=\u001b[39;49m\u001b[43mhp\u001b[49m\u001b[43m[\u001b[49m\u001b[38;5;124;43m'\u001b[39;49m\u001b[38;5;124;43mlambda\u001b[39;49m\u001b[38;5;124;43m'\u001b[39;49m\u001b[43m]\u001b[49m\u001b[43m,\u001b[49m\n\u001b[1;32m     27\u001b[0m \u001b[43m        \u001b[49m\u001b[43mlr\u001b[49m\u001b[38;5;241;43m=\u001b[39;49m\u001b[43mhp\u001b[49m\u001b[43m[\u001b[49m\u001b[38;5;124;43m'\u001b[39;49m\u001b[38;5;124;43mlearning_rate\u001b[39;49m\u001b[38;5;124;43m'\u001b[39;49m\u001b[43m]\u001b[49m\u001b[43m,\u001b[49m\n\u001b[1;32m     28\u001b[0m \u001b[43m        \u001b[49m\u001b[43malpha\u001b[49m\u001b[38;5;241;43m=\u001b[39;49m\u001b[43mhp\u001b[49m\u001b[43m[\u001b[49m\u001b[38;5;124;43m'\u001b[39;49m\u001b[38;5;124;43malpha\u001b[39;49m\u001b[38;5;124;43m'\u001b[39;49m\u001b[43m]\u001b[49m\n\u001b[1;32m     29\u001b[0m \u001b[43m        \u001b[49m\u001b[43m)\u001b[49m\n\u001b[1;32m     31\u001b[0m     train_acc, train_ei \u001b[38;5;241m=\u001b[39m ei_model\u001b[38;5;241m.\u001b[39meval(train_dataset, alpha, dataset\u001b[38;5;241m.\u001b[39msensitive_attrs)\n\u001b[1;32m     32\u001b[0m     val_acc, val_ei \u001b[38;5;241m=\u001b[39m ei_model\u001b[38;5;241m.\u001b[39meval(val_dataset, alpha, dataset\u001b[38;5;241m.\u001b[39msensitive_attrs)\n",
      "File \u001b[0;32m~/School/PhD/Research/EqualImprovability/src/ei_model_dev.py:62\u001b[0m, in \u001b[0;36mFairBatch.train\u001b[0;34m(self, dataset, lamb, alpha, sensitive_attrs, lr, n_epochs, batch_size)\u001b[0m\n\u001b[1;32m     59\u001b[0m ei_disparities \u001b[38;5;241m=\u001b[39m []\n\u001b[1;32m     60\u001b[0m optimizer \u001b[38;5;241m=\u001b[39m optim\u001b[38;5;241m.\u001b[39mAdam(\u001b[38;5;28mself\u001b[39m\u001b[38;5;241m.\u001b[39mmodel\u001b[38;5;241m.\u001b[39mparameters(), lr\u001b[38;5;241m=\u001b[39mlr, weight_decay\u001b[38;5;241m=\u001b[39m\u001b[38;5;241m1e-4\u001b[39m)\n\u001b[0;32m---> 62\u001b[0m \u001b[38;5;28;01mfor\u001b[39;00m epoch \u001b[38;5;129;01min\u001b[39;00m tqdm\u001b[38;5;241m.\u001b[39mtrange(n_epochs, desc\u001b[38;5;241m=\u001b[39m\u001b[38;5;124mf\u001b[39m\u001b[38;5;124m\"\u001b[39m\u001b[38;5;124mTraining [alpha=\u001b[39m\u001b[38;5;132;01m{\u001b[39;00malpha\u001b[38;5;132;01m:\u001b[39;00m\u001b[38;5;124m.2f\u001b[39m\u001b[38;5;132;01m}\u001b[39;00m\u001b[38;5;124m; lambda=\u001b[39m\u001b[38;5;132;01m{\u001b[39;00mlamb\u001b[38;5;132;01m:\u001b[39;00m\u001b[38;5;124m.2f\u001b[39m\u001b[38;5;132;01m}\u001b[39;00m\u001b[38;5;124m]\u001b[39m\u001b[38;5;124m\"\u001b[39m, unit\u001b[38;5;241m=\u001b[39m\u001b[38;5;124m\"\u001b[39m\u001b[38;5;124mepochs\u001b[39m\u001b[38;5;124m\"\u001b[39m, colour\u001b[38;5;241m=\u001b[39m\u001b[38;5;124m'\u001b[39m\u001b[38;5;124m#0091ff\u001b[39m\u001b[38;5;124m'\u001b[39m):\n\u001b[1;32m     64\u001b[0m     batch_p_loss \u001b[38;5;241m=\u001b[39m [] \u001b[38;5;66;03m# batch prediction loss\u001b[39;00m\n\u001b[1;32m     65\u001b[0m     batch_f_loss \u001b[38;5;241m=\u001b[39m [] \u001b[38;5;66;03m# batch fairness loss\u001b[39;00m\n",
      "\u001b[0;31mTypeError\u001b[0m: unsupported format string passed to list.__format__"
     ]
    }
   ],
   "source": [
    "hyper_params = {}\n",
    "hyper_params['learning_rate'] = 0.01\n",
    "hyper_params['delta'] = [0.5]\n",
    "hyper_params['alpha'] = [0., 0.25, 1.4]\n",
    "hyper_params['lambda'] = np.linspace(0.,0.25,10).round(3)\n",
    "hyper_params['z_blind'] = False\n",
    "hyper_params['optimal_effort'] = False\n",
    "seeds = list(range(1))\n",
    "\n",
    "results, ei_models = fb_tradeoff(dataset, hyper_params, seeds)\n",
    "results['loss_mean'] = 1 - results['accuracy_mean']\n",
    "results['alpha'] = results['alpha'].astype(str)"
   ]
  },
  {
   "cell_type": "code",
   "execution_count": null,
   "metadata": {},
   "outputs": [],
   "source": [
    "results.head()"
   ]
  },
  {
   "cell_type": "code",
   "execution_count": null,
   "metadata": {},
   "outputs": [],
   "source": [
    "train_results = results[results['id'] == 'train']\n",
    "val_results = results[results['id'] == 'val']\n",
    "test_results = results[results['id'] == 'test']"
   ]
  },
  {
   "cell_type": "code",
   "execution_count": null,
   "metadata": {},
   "outputs": [],
   "source": [
    "test_results_pareto = pd.DataFrame()\n",
    "for alpha in test_results['alpha'].unique():\n",
    "    test_results_alpha = test_results[test_results['alpha'] == alpha]\n",
    "    mask = pareto_frontier(test_results_alpha['loss_mean'], test_results_alpha['ei_disparity_mean'])\n",
    "    results_alpha_pareto = test_results_alpha.iloc[mask]\n",
    "    test_results_pareto = pd.concat((test_results_pareto, results_alpha_pareto.sort_values('ei_disparity_mean')))"
   ]
  },
  {
   "cell_type": "code",
   "execution_count": null,
   "metadata": {},
   "outputs": [],
   "source": [
    "px.line(test_results_pareto, x='ei_disparity_mean', y='loss_mean', color='alpha', hover_data='lambda', markers=True)"
   ]
  }
 ],
 "metadata": {
  "kernelspec": {
   "display_name": ".env",
   "language": "python",
   "name": "python3"
  },
  "language_info": {
   "codemirror_mode": {
    "name": "ipython",
    "version": 3
   },
   "file_extension": ".py",
   "mimetype": "text/x-python",
   "name": "python",
   "nbconvert_exporter": "python",
   "pygments_lexer": "ipython3",
   "version": "3.11.9"
  }
 },
 "nbformat": 4,
 "nbformat_minor": 2
}
