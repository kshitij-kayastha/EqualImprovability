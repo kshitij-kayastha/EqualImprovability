{
 "cells": [
  {
   "cell_type": "code",
   "execution_count": 1,
   "metadata": {},
   "outputs": [],
   "source": [
    "import torch\n",
    "import pickle\n",
    "import numpy as np\n",
    "import pandas as pd\n",
    "import plotly.express as px\n",
    "from copy import deepcopy\n",
    "\n",
    "\n",
    "from model import LR\n",
    "from data import SyntheticDataset, FairnessDataset\n",
    "from ei_model_dev import FairBatch\n",
    "from ei_effort import Optimal_Effort, PGD_Effort\n",
    "from ei_utils import *"
   ]
  },
  {
   "cell_type": "code",
   "execution_count": 2,
   "metadata": {},
   "outputs": [],
   "source": [
    "dataset = SyntheticDataset(seed=0)"
   ]
  },
  {
   "cell_type": "code",
   "execution_count": 3,
   "metadata": {},
   "outputs": [],
   "source": [
    "def append_res(d, acc, ei):\n",
    "    d['accuracy'].append(acc)\n",
    "    d['ei_disparity'].append(ei)\n",
    "        \n",
    "def get_res(d, id, hp):\n",
    "    res = {'id': [], 'alpha': [], 'lambda': [], 'delta': [], 'accuracy_mean': [], 'accuracy_std': [], 'ei_disparity_mean': [], 'ei_disparity_std': []}\n",
    "    res['id'].append(id)\n",
    "    res['alpha'].append(hp['alpha'])\n",
    "    res['lambda'].append(hp['lambda'])\n",
    "    res['delta'].append(hp['delta'])\n",
    "    res['accuracy_mean'].append(np.mean(d['accuracy']))\n",
    "    res['accuracy_std'].append(np.std(d['accuracy']))\n",
    "    res['ei_disparity_mean'].append(np.mean(d['ei_disparity']))\n",
    "    res['ei_disparity_std'].append(np.std(d['ei_disparity']))\n",
    "    \n",
    "    return res\n",
    "\n",
    "def get_model(models):\n",
    "    weights = []\n",
    "    bias = []\n",
    "    for model in models:\n",
    "        for module in model.layers:\n",
    "            if hasattr(module, 'weight'):\n",
    "                weights.append(module.weight.data)\n",
    "            if hasattr(module, 'bias'):\n",
    "                bias.append(module.bias.data)\n",
    "            \n",
    "    weights = torch.cat(weights).mean(dim=0)\n",
    "    bias = torch.cat(bias).mean(dim=0)\n",
    "    return weights, bias"
   ]
  },
  {
   "cell_type": "code",
   "execution_count": 4,
   "metadata": {},
   "outputs": [],
   "source": [
    "def lr_fb_model_runner(dataset, hp, seeds):\n",
    "    tau = 0.5\n",
    "    train_metrics = {'alpha': [], 'accuracy': [], 'ei_disparity': []}\n",
    "    val_metrics = deepcopy(train_metrics)\n",
    "    test_metrics = deepcopy(train_metrics)\n",
    "    ei_models = []\n",
    "    \n",
    "    if hp['optimal_effort']:\n",
    "        effort = Optimal_Effort(hp['delta'])\n",
    "    else:\n",
    "        effort = PGD_Effort(hp['delta'])\n",
    "    \n",
    "    for seed in seeds:\n",
    "        train_tensors, val_tensors, test_tensors = dataset.tensor(fold=seed, z_blind=hp['z_blind'])\n",
    "        train_dataset = FairnessDataset(*train_tensors, dataset.imp_feats)\n",
    "        val_dataset = FairnessDataset(*val_tensors, dataset.imp_feats)\n",
    "        test_dataset = FairnessDataset(*test_tensors, dataset.imp_feats)\n",
    "        \n",
    "        model = LR(num_features=train_dataset.X.shape[1])\n",
    "        ei_model = FairBatch(model, effort, tau)\n",
    "        \n",
    "        ei_model.train(\n",
    "            train_dataset, \n",
    "            sensitive_attrs=dataset.sensitive_attrs,\n",
    "            lamb=hp['lambda'],\n",
    "            lr=hp['learning_rate'],\n",
    "            alpha=hp['alpha']\n",
    "            )\n",
    " \n",
    "        Y_hat, Y_hat_max = ei_model.predict(train_dataset, hp['alpha'], dataset.sensitive_attrs)\n",
    "        train_acc, train_ei = model_performance(train_dataset.Y.detach().numpy(), train_dataset.Z.detach().numpy(), Y_hat, Y_hat_max, tau)\n",
    "        append_res(train_metrics, train_acc, train_ei)\n",
    "        \n",
    "        Y_hat, Y_hat_max = ei_model.predict(val_dataset, hp['alpha'], dataset.sensitive_attrs)\n",
    "        val_acc, val_ei = model_performance(val_dataset.Y.detach().numpy(), val_dataset.Z.detach().numpy(), Y_hat, Y_hat_max, tau)\n",
    "        append_res(val_metrics, val_acc, val_ei)\n",
    "        \n",
    "        Y_hat, Y_hat_max = ei_model.predict(test_dataset, hp['alpha'], dataset.sensitive_attrs)\n",
    "        test_acc, test_ei = model_performance(test_dataset.Y.detach().numpy(), test_dataset.Z.detach().numpy(), Y_hat, Y_hat_max, tau)\n",
    "        append_res(test_metrics, test_acc, test_ei)\n",
    "    \n",
    "        ei_models.append(ei_model.model)\n",
    "    \n",
    "    res_train = get_res(train_metrics, 'train', hp)\n",
    "    res_val = get_res(val_metrics, 'val', hp)\n",
    "    res_test = get_res(test_metrics, 'test', hp)\n",
    "    \n",
    "    \n",
    "    return res_train, res_val, res_test, ei_models"
   ]
  },
  {
   "cell_type": "code",
   "execution_count": 6,
   "metadata": {},
   "outputs": [],
   "source": [
    "def fb_tradeoff(dataset, hyper_params, seeds):\n",
    "    hp = hyper_params.copy()\n",
    "    result = pd.DataFrame()\n",
    "    ei_models = []\n",
    "    \n",
    "    for alpha in hyper_params['alpha']:\n",
    "        for lamb in hyper_params['lambda']:\n",
    "            for delta in hyper_params['delta']:\n",
    "                hp['alpha'] = alpha\n",
    "                hp['lambda'] = lamb\n",
    "                hp['delta'] = delta\n",
    "                \n",
    "                train, val, test, models = lr_fb_model_runner(dataset, hp, seeds)\n",
    "                result = pd.concat((result, pd.DataFrame(train), pd.DataFrame(val), pd.DataFrame(test)))\n",
    "                ei_models.extend(models)\n",
    "                print()\n",
    "    \n",
    "    return result, ei_models"
   ]
  },
  {
   "cell_type": "code",
   "execution_count": 9,
   "metadata": {},
   "outputs": [
    {
     "name": "stderr",
     "output_type": "stream",
     "text": [
      "Training [alpha=0.00; lambda=0.00]: 100%|\u001b[38;2;0;145;255m██████████\u001b[0m| 100/100 [00:13<00:00,  7.19epochs/s]\n",
      "Training [alpha=0.10; lambda=0.00]: 100%|\u001b[38;2;0;145;255m██████████\u001b[0m| 100/100 [01:42<00:00,  1.02s/epochs]\n"
     ]
    },
    {
     "name": "stdout",
     "output_type": "stream",
     "text": [
      "\n"
     ]
    },
    {
     "name": "stderr",
     "output_type": "stream",
     "text": [
      "Training [alpha=0.00; lambda=1.00]: 100%|\u001b[38;2;0;145;255m██████████\u001b[0m| 100/100 [00:10<00:00,  9.54epochs/s]\n",
      "Training [alpha=0.10; lambda=1.00]: 100%|\u001b[38;2;0;145;255m██████████\u001b[0m| 100/100 [00:17<00:00,  5.66epochs/s]\n"
     ]
    },
    {
     "name": "stdout",
     "output_type": "stream",
     "text": [
      "\n"
     ]
    }
   ],
   "source": [
    "hyper_params = {}\n",
    "hyper_params['learning_rate'] = 0.01\n",
    "hyper_params['delta'] = [0.5]\n",
    "hyper_params['alpha'] = [0., 0.1]\n",
    "hyper_params['lambda'] = [0., 1.]\n",
    "hyper_params['z_blind'] = False\n",
    "hyper_params['optimal_effort'] = False\n",
    "seeds = list(range(1))\n",
    "\n",
    "results, ei_models = fb_tradeoff(dataset, hyper_params, seeds)\n",
    "results['loss_mean'] = 1 - results['accuracy_mean']\n",
    "results['alpha'] = results['alpha'].astype(str)"
   ]
  },
  {
   "cell_type": "code",
   "execution_count": 10,
   "metadata": {},
   "outputs": [
    {
     "data": {
      "text/html": [
       "<div>\n",
       "<style scoped>\n",
       "    .dataframe tbody tr th:only-of-type {\n",
       "        vertical-align: middle;\n",
       "    }\n",
       "\n",
       "    .dataframe tbody tr th {\n",
       "        vertical-align: top;\n",
       "    }\n",
       "\n",
       "    .dataframe thead th {\n",
       "        text-align: right;\n",
       "    }\n",
       "</style>\n",
       "<table border=\"1\" class=\"dataframe\">\n",
       "  <thead>\n",
       "    <tr style=\"text-align: right;\">\n",
       "      <th></th>\n",
       "      <th>id</th>\n",
       "      <th>alpha</th>\n",
       "      <th>lambda</th>\n",
       "      <th>delta</th>\n",
       "      <th>accuracy_mean</th>\n",
       "      <th>accuracy_std</th>\n",
       "      <th>ei_disparity_mean</th>\n",
       "      <th>ei_disparity_std</th>\n",
       "      <th>loss_mean</th>\n",
       "    </tr>\n",
       "  </thead>\n",
       "  <tbody>\n",
       "    <tr>\n",
       "      <th>0</th>\n",
       "      <td>train</td>\n",
       "      <td>[0.0, 0.1]</td>\n",
       "      <td>0.0</td>\n",
       "      <td>0.5</td>\n",
       "      <td>0.784648</td>\n",
       "      <td>0.000117</td>\n",
       "      <td>0.135887</td>\n",
       "      <td>0.003259</td>\n",
       "      <td>0.215352</td>\n",
       "    </tr>\n",
       "    <tr>\n",
       "      <th>0</th>\n",
       "      <td>val</td>\n",
       "      <td>[0.0, 0.1]</td>\n",
       "      <td>0.0</td>\n",
       "      <td>0.5</td>\n",
       "      <td>0.793750</td>\n",
       "      <td>0.000000</td>\n",
       "      <td>0.111781</td>\n",
       "      <td>0.000608</td>\n",
       "      <td>0.206250</td>\n",
       "    </tr>\n",
       "    <tr>\n",
       "      <th>0</th>\n",
       "      <td>test</td>\n",
       "      <td>[0.0, 0.1]</td>\n",
       "      <td>0.0</td>\n",
       "      <td>0.5</td>\n",
       "      <td>0.783250</td>\n",
       "      <td>0.000000</td>\n",
       "      <td>0.131801</td>\n",
       "      <td>0.002974</td>\n",
       "      <td>0.216750</td>\n",
       "    </tr>\n",
       "    <tr>\n",
       "      <th>0</th>\n",
       "      <td>train</td>\n",
       "      <td>[0.0, 0.1]</td>\n",
       "      <td>1.0</td>\n",
       "      <td>0.5</td>\n",
       "      <td>0.499531</td>\n",
       "      <td>0.119453</td>\n",
       "      <td>0.430556</td>\n",
       "      <td>0.430556</td>\n",
       "      <td>0.500469</td>\n",
       "    </tr>\n",
       "    <tr>\n",
       "      <th>0</th>\n",
       "      <td>val</td>\n",
       "      <td>[0.0, 0.1]</td>\n",
       "      <td>1.0</td>\n",
       "      <td>0.5</td>\n",
       "      <td>0.499844</td>\n",
       "      <td>0.135156</td>\n",
       "      <td>0.500000</td>\n",
       "      <td>0.500000</td>\n",
       "      <td>0.500156</td>\n",
       "    </tr>\n",
       "    <tr>\n",
       "      <th>0</th>\n",
       "      <td>test</td>\n",
       "      <td>[0.0, 0.1]</td>\n",
       "      <td>1.0</td>\n",
       "      <td>0.5</td>\n",
       "      <td>0.499875</td>\n",
       "      <td>0.107375</td>\n",
       "      <td>0.444444</td>\n",
       "      <td>0.444444</td>\n",
       "      <td>0.500125</td>\n",
       "    </tr>\n",
       "  </tbody>\n",
       "</table>\n",
       "</div>"
      ],
      "text/plain": [
       "      id       alpha  lambda  delta  accuracy_mean  accuracy_std  \\\n",
       "0  train  [0.0, 0.1]     0.0    0.5       0.784648      0.000117   \n",
       "0    val  [0.0, 0.1]     0.0    0.5       0.793750      0.000000   \n",
       "0   test  [0.0, 0.1]     0.0    0.5       0.783250      0.000000   \n",
       "0  train  [0.0, 0.1]     1.0    0.5       0.499531      0.119453   \n",
       "0    val  [0.0, 0.1]     1.0    0.5       0.499844      0.135156   \n",
       "0   test  [0.0, 0.1]     1.0    0.5       0.499875      0.107375   \n",
       "\n",
       "   ei_disparity_mean  ei_disparity_std  loss_mean  \n",
       "0           0.135887          0.003259   0.215352  \n",
       "0           0.111781          0.000608   0.206250  \n",
       "0           0.131801          0.002974   0.216750  \n",
       "0           0.430556          0.430556   0.500469  \n",
       "0           0.500000          0.500000   0.500156  \n",
       "0           0.444444          0.444444   0.500125  "
      ]
     },
     "execution_count": 10,
     "metadata": {},
     "output_type": "execute_result"
    }
   ],
   "source": [
    "results"
   ]
  },
  {
   "cell_type": "code",
   "execution_count": null,
   "metadata": {},
   "outputs": [],
   "source": [
    "train_results = results[results['id'] == 'train']\n",
    "val_results = results[results['id'] == 'val']\n",
    "test_results = results[results['id'] == 'test']"
   ]
  },
  {
   "cell_type": "code",
   "execution_count": null,
   "metadata": {},
   "outputs": [],
   "source": [
    "test_results_pareto = pd.DataFrame()\n",
    "for alpha in test_results['alpha'].unique():\n",
    "    test_results_alpha = test_results[test_results['alpha'] == alpha]\n",
    "    mask = pareto_frontier(test_results_alpha['loss_mean'], test_results_alpha['ei_disparity_mean'])\n",
    "    results_alpha_pareto = test_results_alpha.iloc[mask]\n",
    "    test_results_pareto = pd.concat((test_results_pareto, results_alpha_pareto.sort_values('ei_disparity_mean')))"
   ]
  },
  {
   "cell_type": "code",
   "execution_count": null,
   "metadata": {},
   "outputs": [],
   "source": [
    "px.line(test_results_pareto, x='ei_disparity_mean', y='loss_mean', color='alpha', hover_data='lambda', markers=True)"
   ]
  }
 ],
 "metadata": {
  "kernelspec": {
   "display_name": ".env",
   "language": "python",
   "name": "python3"
  },
  "language_info": {
   "codemirror_mode": {
    "name": "ipython",
    "version": 3
   },
   "file_extension": ".py",
   "mimetype": "text/x-python",
   "name": "python",
   "nbconvert_exporter": "python",
   "pygments_lexer": "ipython3",
   "version": "3.11.9"
  }
 },
 "nbformat": 4,
 "nbformat_minor": 2
}
