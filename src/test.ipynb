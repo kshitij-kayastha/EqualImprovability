{
 "cells": [
  {
   "cell_type": "code",
   "execution_count": 1,
   "metadata": {},
   "outputs": [],
   "source": [
    "import torch\n",
    "import pickle\n",
    "import numpy as np\n",
    "import pandas as pd\n",
    "import plotly.express as px\n",
    "from copy import deepcopy\n",
    "\n",
    "\n",
    "from model import LR\n",
    "from data import SyntheticDataset, FairnessDataset\n",
    "from ei_model_dev import FairBatch\n",
    "from ei_effort import Optimal_Effort, PGD_Effort\n",
    "from ei_utils import *"
   ]
  },
  {
   "cell_type": "code",
   "execution_count": 2,
   "metadata": {},
   "outputs": [],
   "source": [
    "dataset = SyntheticDataset(seed=0)"
   ]
  },
  {
   "cell_type": "code",
   "execution_count": 3,
   "metadata": {},
   "outputs": [],
   "source": [
    "def append_res(d, acc, ei):\n",
    "    d['accuracy'].append(acc)\n",
    "    d['ei_disparity'].append(ei)\n",
    "        \n",
    "def get_res(d, id, hp):\n",
    "    res = {'id': [], 'alpha': [], 'lambda': [], 'delta': [], 'accuracy_mean': [], 'accuracy_std': [], 'ei_disparity_mean': [], 'ei_disparity_std': []}\n",
    "    res['id'].append(id)\n",
    "    res['alpha'].append(hp['alpha'])\n",
    "    res['lambda'].append(hp['lambda'])\n",
    "    res['delta'].append(hp['delta'])\n",
    "    res['accuracy_mean'].append(np.mean(d['accuracy']))\n",
    "    res['accuracy_std'].append(np.std(d['accuracy']))\n",
    "    res['ei_disparity_mean'].append(np.mean(d['ei_disparity']))\n",
    "    res['ei_disparity_std'].append(np.std(d['ei_disparity']))\n",
    "    \n",
    "    return res\n",
    "\n",
    "def get_model(models):\n",
    "    weights = []\n",
    "    bias = []\n",
    "    for model in models:\n",
    "        for module in model.layers:\n",
    "            if hasattr(module, 'weight'):\n",
    "                weights.append(module.weight.data)\n",
    "            if hasattr(module, 'bias'):\n",
    "                bias.append(module.bias.data)\n",
    "            \n",
    "    weights = torch.cat(weights).mean(dim=0)\n",
    "    bias = torch.cat(bias).mean(dim=0)\n",
    "    return weights, bias"
   ]
  },
  {
   "cell_type": "code",
   "execution_count": 4,
   "metadata": {},
   "outputs": [],
   "source": [
    "def lr_fb_model_runner(dataset, hp, seeds):\n",
    "    tau = 0.5\n",
    "    train_metrics = {'alpha': [], 'accuracy': [], 'ei_disparity': []}\n",
    "    val_metrics = deepcopy(train_metrics)\n",
    "    test_metrics = deepcopy(train_metrics)\n",
    "    ei_models = []\n",
    "    \n",
    "    if hp['optimal_effort']:\n",
    "        effort = Optimal_Effort(hp['delta'])\n",
    "    else:\n",
    "        effort = PGD_Effort(hp['delta'])\n",
    "    \n",
    "    for seed in seeds:\n",
    "        train_tensors, val_tensors, test_tensors = dataset.tensor(fold=seed, z_blind=hp['z_blind'])\n",
    "        train_dataset = FairnessDataset(*train_tensors, dataset.imp_feats)\n",
    "        val_dataset = FairnessDataset(*val_tensors, dataset.imp_feats)\n",
    "        test_dataset = FairnessDataset(*test_tensors, dataset.imp_feats)\n",
    "        \n",
    "        model = LR(num_features=train_dataset.X.shape[1])\n",
    "        ei_model = FairBatch(model, effort, tau)\n",
    "        \n",
    "        ei_model.train(\n",
    "            train_dataset, \n",
    "            sensitive_attrs=dataset.sensitive_attrs,\n",
    "            lamb=hp['lambda'],\n",
    "            lr=hp['learning_rate'],\n",
    "            alpha=hp['alpha'],\n",
    "            )\n",
    " \n",
    "        train_acc, train_ei = ei_model.evaluate(train_dataset, hp['alpha'])\n",
    "        val_acc, val_ei = ei_model.evaluate(val_dataset, hp['alpha'])\n",
    "        test_acc, test_ei = ei_model.evaluate(test_dataset, hp['alpha'])\n",
    "        \n",
    "        append_res(train_metrics, train_acc, train_ei)\n",
    "        append_res(val_metrics, val_acc, val_ei)\n",
    "        append_res(test_metrics, test_acc, test_ei)\n",
    "        \n",
    "        ei_models.append(ei_model.model)\n",
    "    \n",
    "    res_train = get_res(train_metrics, 'train', hp)\n",
    "    res_val = get_res(val_metrics, 'val', hp)\n",
    "    res_test = get_res(test_metrics, 'test', hp)\n",
    "    \n",
    "    \n",
    "    return res_train, res_val, res_test, ei_models"
   ]
  },
  {
   "cell_type": "code",
   "execution_count": 5,
   "metadata": {},
   "outputs": [],
   "source": [
    "def fb_tradeoff(dataset, hyper_params, seeds):\n",
    "    hp = hyper_params.copy()\n",
    "    results = pd.DataFrame()\n",
    "    ei_models = []\n",
    "    \n",
    "    for alpha in hyper_params['alpha']:\n",
    "        for lamb in hyper_params['lambda']:\n",
    "            for delta in hyper_params['delta']:\n",
    "                hp['alpha'] = alpha\n",
    "                hp['lambda'] = lamb\n",
    "                hp['delta'] = delta\n",
    "                \n",
    "                train_res, val_res, test_res, models = lr_fb_model_runner(dataset, hp, seeds)\n",
    "                results = pd.concat((results, pd.DataFrame(train_res), pd.DataFrame(val_res), pd.DataFrame(test_res)))\n",
    "                ei_models.extend(models)\n",
    "        print()\n",
    "    \n",
    "    return results, ei_models"
   ]
  },
  {
   "cell_type": "code",
   "execution_count": 6,
   "metadata": {},
   "outputs": [
    {
     "name": "stderr",
     "output_type": "stream",
     "text": [
      "Training [alpha=0.00; lambda=0.00; delta=1.00]: 100%|\u001b[38;2;0;145;255m██████████\u001b[0m| 100/100 [00:13<00:00,  7.36epochs/s]\n",
      "Training [alpha=0.00; lambda=0.10; delta=1.00]: 100%|\u001b[38;2;0;145;255m██████████\u001b[0m| 100/100 [00:13<00:00,  7.62epochs/s]\n",
      "Training [alpha=0.00; lambda=0.20; delta=1.00]: 100%|\u001b[38;2;0;145;255m██████████\u001b[0m| 100/100 [00:13<00:00,  7.54epochs/s]\n",
      "Training [alpha=0.00; lambda=0.30; delta=1.00]: 100%|\u001b[38;2;0;145;255m██████████\u001b[0m| 100/100 [00:13<00:00,  7.54epochs/s]\n",
      "Training [alpha=0.00; lambda=0.40; delta=1.00]: 100%|\u001b[38;2;0;145;255m██████████\u001b[0m| 100/100 [00:12<00:00,  7.72epochs/s]\n",
      "Training [alpha=0.00; lambda=0.50; delta=1.00]: 100%|\u001b[38;2;0;145;255m██████████\u001b[0m| 100/100 [00:13<00:00,  7.28epochs/s]\n",
      "Training [alpha=0.00; lambda=0.60; delta=1.00]: 100%|\u001b[38;2;0;145;255m██████████\u001b[0m| 100/100 [00:12<00:00,  7.76epochs/s]\n",
      "Training [alpha=0.00; lambda=0.70; delta=1.00]: 100%|\u001b[38;2;0;145;255m██████████\u001b[0m| 100/100 [00:13<00:00,  7.42epochs/s]\n",
      "Training [alpha=0.00; lambda=0.80; delta=1.00]: 100%|\u001b[38;2;0;145;255m██████████\u001b[0m| 100/100 [00:12<00:00,  7.70epochs/s]\n",
      "Training [alpha=0.00; lambda=0.90; delta=1.00]: 100%|\u001b[38;2;0;145;255m██████████\u001b[0m| 100/100 [00:13<00:00,  7.49epochs/s]\n",
      "Training [alpha=0.00; lambda=1.00; delta=1.00]: 100%|\u001b[38;2;0;145;255m██████████\u001b[0m| 100/100 [00:12<00:00,  8.16epochs/s]\n"
     ]
    },
    {
     "name": "stdout",
     "output_type": "stream",
     "text": [
      "\n"
     ]
    },
    {
     "name": "stderr",
     "output_type": "stream",
     "text": [
      "Training [alpha=0.10; lambda=0.00; delta=1.00]: 100%|\u001b[38;2;0;145;255m██████████\u001b[0m| 100/100 [01:39<00:00,  1.01epochs/s]\n",
      "Training [alpha=0.10; lambda=0.10; delta=1.00]: 100%|\u001b[38;2;0;145;255m██████████\u001b[0m| 100/100 [01:38<00:00,  1.02epochs/s]\n",
      "Training [alpha=0.10; lambda=0.20; delta=1.00]: 100%|\u001b[38;2;0;145;255m██████████\u001b[0m| 100/100 [01:40<00:00,  1.01s/epochs]\n",
      "Training [alpha=0.10; lambda=0.30; delta=1.00]: 100%|\u001b[38;2;0;145;255m██████████\u001b[0m| 100/100 [01:37<00:00,  1.02epochs/s]\n",
      "Training [alpha=0.10; lambda=0.40; delta=1.00]: 100%|\u001b[38;2;0;145;255m██████████\u001b[0m| 100/100 [01:38<00:00,  1.01epochs/s]\n",
      "Training [alpha=0.10; lambda=0.50; delta=1.00]: 100%|\u001b[38;2;0;145;255m██████████\u001b[0m| 100/100 [01:43<00:00,  1.03s/epochs]\n",
      "Training [alpha=0.10; lambda=0.60; delta=1.00]: 100%|\u001b[38;2;0;145;255m██████████\u001b[0m| 100/100 [01:40<00:00,  1.01s/epochs]\n",
      "Training [alpha=0.10; lambda=0.70; delta=1.00]: 100%|\u001b[38;2;0;145;255m██████████\u001b[0m| 100/100 [01:37<00:00,  1.03epochs/s]\n",
      "Training [alpha=0.10; lambda=0.80; delta=1.00]: 100%|\u001b[38;2;0;145;255m██████████\u001b[0m| 100/100 [01:37<00:00,  1.03epochs/s]\n",
      "Training [alpha=0.10; lambda=0.90; delta=1.00]: 100%|\u001b[38;2;0;145;255m██████████\u001b[0m| 100/100 [01:33<00:00,  1.07epochs/s]\n",
      "Training [alpha=0.10; lambda=1.00; delta=1.00]: 100%|\u001b[38;2;0;145;255m██████████\u001b[0m| 100/100 [00:24<00:00,  4.15epochs/s]\n"
     ]
    },
    {
     "name": "stdout",
     "output_type": "stream",
     "text": [
      "\n"
     ]
    },
    {
     "name": "stderr",
     "output_type": "stream",
     "text": [
      "Training [alpha=1.00; lambda=0.00; delta=1.00]: 100%|\u001b[38;2;0;145;255m██████████\u001b[0m| 100/100 [01:35<00:00,  1.04epochs/s]\n",
      "Training [alpha=1.00; lambda=0.10; delta=1.00]: 100%|\u001b[38;2;0;145;255m██████████\u001b[0m| 100/100 [01:40<00:00,  1.00s/epochs]\n",
      "Training [alpha=1.00; lambda=0.20; delta=1.00]: 100%|\u001b[38;2;0;145;255m██████████\u001b[0m| 100/100 [01:39<00:00,  1.01epochs/s]\n",
      "Training [alpha=1.00; lambda=0.30; delta=1.00]: 100%|\u001b[38;2;0;145;255m██████████\u001b[0m| 100/100 [01:39<00:00,  1.00epochs/s]\n",
      "Training [alpha=1.00; lambda=0.40; delta=1.00]: 100%|\u001b[38;2;0;145;255m██████████\u001b[0m| 100/100 [01:40<00:00,  1.01s/epochs]\n",
      "Training [alpha=1.00; lambda=0.50; delta=1.00]: 100%|\u001b[38;2;0;145;255m██████████\u001b[0m| 100/100 [01:39<00:00,  1.00epochs/s]\n",
      "Training [alpha=1.00; lambda=0.60; delta=1.00]: 100%|\u001b[38;2;0;145;255m██████████\u001b[0m| 100/100 [01:40<00:00,  1.00s/epochs]\n",
      "Training [alpha=1.00; lambda=0.70; delta=1.00]: 100%|\u001b[38;2;0;145;255m██████████\u001b[0m| 100/100 [01:39<00:00,  1.00epochs/s]\n",
      "Training [alpha=1.00; lambda=0.80; delta=1.00]: 100%|\u001b[38;2;0;145;255m██████████\u001b[0m| 100/100 [01:40<00:00,  1.00s/epochs]\n",
      "Training [alpha=1.00; lambda=0.90; delta=1.00]: 100%|\u001b[38;2;0;145;255m██████████\u001b[0m| 100/100 [01:40<00:00,  1.01s/epochs]\n",
      "Training [alpha=1.00; lambda=1.00; delta=1.00]: 100%|\u001b[38;2;0;145;255m██████████\u001b[0m| 100/100 [00:21<00:00,  4.75epochs/s]\n"
     ]
    },
    {
     "name": "stdout",
     "output_type": "stream",
     "text": [
      "\n"
     ]
    },
    {
     "name": "stderr",
     "output_type": "stream",
     "text": [
      "Training [alpha=3.00; lambda=0.00; delta=1.00]: 100%|\u001b[38;2;0;145;255m██████████\u001b[0m| 100/100 [01:40<00:00,  1.00s/epochs]\n",
      "Training [alpha=3.00; lambda=0.10; delta=1.00]: 100%|\u001b[38;2;0;145;255m██████████\u001b[0m| 100/100 [01:40<00:00,  1.00s/epochs]\n",
      "Training [alpha=3.00; lambda=0.20; delta=1.00]: 100%|\u001b[38;2;0;145;255m██████████\u001b[0m| 100/100 [01:39<00:00,  1.01epochs/s]\n",
      "Training [alpha=3.00; lambda=0.30; delta=1.00]: 100%|\u001b[38;2;0;145;255m██████████\u001b[0m| 100/100 [01:39<00:00,  1.01epochs/s]\n",
      "Training [alpha=3.00; lambda=0.40; delta=1.00]: 100%|\u001b[38;2;0;145;255m██████████\u001b[0m| 100/100 [01:39<00:00,  1.00epochs/s]\n",
      "Training [alpha=3.00; lambda=0.50; delta=1.00]: 100%|\u001b[38;2;0;145;255m██████████\u001b[0m| 100/100 [01:39<00:00,  1.00epochs/s]\n",
      "Training [alpha=3.00; lambda=0.60; delta=1.00]: 100%|\u001b[38;2;0;145;255m██████████\u001b[0m| 100/100 [01:41<00:00,  1.02s/epochs]\n",
      "Training [alpha=3.00; lambda=0.70; delta=1.00]: 100%|\u001b[38;2;0;145;255m██████████\u001b[0m| 100/100 [01:43<00:00,  1.04s/epochs]\n",
      "Training [alpha=3.00; lambda=0.80; delta=1.00]: 100%|\u001b[38;2;0;145;255m██████████\u001b[0m| 100/100 [01:43<00:00,  1.04s/epochs]\n",
      "Training [alpha=3.00; lambda=0.90; delta=1.00]: 100%|\u001b[38;2;0;145;255m██████████\u001b[0m| 100/100 [01:39<00:00,  1.00epochs/s]\n",
      "Training [alpha=3.00; lambda=1.00; delta=1.00]: 100%|\u001b[38;2;0;145;255m██████████\u001b[0m| 100/100 [00:23<00:00,  4.26epochs/s]\n"
     ]
    },
    {
     "name": "stdout",
     "output_type": "stream",
     "text": [
      "\n"
     ]
    }
   ],
   "source": [
    "hyper_params = {}\n",
    "hyper_params['learning_rate'] = 0.01\n",
    "hyper_params['delta'] = [1.]\n",
    "hyper_params['alpha'] = [0., 0.1, 1., 3.]\n",
    "hyper_params['lambda'] = np.linspace(0,1., 11).round(3)\n",
    "hyper_params['z_blind'] = False\n",
    "hyper_params['optimal_effort'] = False\n",
    "seeds = list(range(1))\n",
    "\n",
    "results, ei_models = fb_tradeoff(dataset, hyper_params, seeds)\n",
    "results['loss_mean'] = 1 - results['accuracy_mean']\n",
    "results['alpha'] = results['alpha'].astype(str)"
   ]
  },
  {
   "cell_type": "code",
   "execution_count": null,
   "metadata": {},
   "outputs": [],
   "source": [
    "results"
   ]
  },
  {
   "cell_type": "code",
   "execution_count": null,
   "metadata": {},
   "outputs": [],
   "source": [
    "train_results = results[results['id'] == 'train']\n",
    "val_results = results[results['id'] == 'val']\n",
    "test_results = results[results['id'] == 'test']"
   ]
  },
  {
   "cell_type": "code",
   "execution_count": null,
   "metadata": {},
   "outputs": [],
   "source": [
    "test_results"
   ]
  },
  {
   "cell_type": "code",
   "execution_count": null,
   "metadata": {},
   "outputs": [],
   "source": [
    "test_results_pareto = pd.DataFrame()\n",
    "for alpha in test_results['alpha'].unique():\n",
    "    test_results_alpha = test_results[test_results['alpha'] == alpha]\n",
    "    mask = pareto_frontier(test_results_alpha['loss_mean'], test_results_alpha['ei_disparity_mean'])\n",
    "    results_alpha_pareto = test_results_alpha.iloc[mask]\n",
    "    test_results_pareto = pd.concat((test_results_pareto, results_alpha_pareto.sort_values('ei_disparity_mean')))"
   ]
  },
  {
   "cell_type": "code",
   "execution_count": null,
   "metadata": {},
   "outputs": [],
   "source": [
    "px.line(test_results, x='ei_disparity_mean', y='loss_mean', color='alpha', hover_data='lambda', markers=True, animation_frame='delta')"
   ]
  }
 ],
 "metadata": {
  "kernelspec": {
   "display_name": ".env",
   "language": "python",
   "name": "python3"
  },
  "language_info": {
   "codemirror_mode": {
    "name": "ipython",
    "version": 3
   },
   "file_extension": ".py",
   "mimetype": "text/x-python",
   "name": "python",
   "nbconvert_exporter": "python",
   "pygments_lexer": "ipython3",
   "version": "3.11.9"
  }
 },
 "nbformat": 4,
 "nbformat_minor": 2
}
