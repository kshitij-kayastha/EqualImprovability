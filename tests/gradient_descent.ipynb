{
 "cells": [
  {
   "cell_type": "code",
   "execution_count": 1,
   "metadata": {},
   "outputs": [],
   "source": [
    "import sys\n",
    "sys.path.append('..')"
   ]
  },
  {
   "cell_type": "code",
   "execution_count": 2,
   "metadata": {},
   "outputs": [],
   "source": [
    "import torch\n",
    "import numpy as np\n",
    "import pandas as pd\n",
    "import plotly.express as px\n",
    "import plotly.graph_objects as go\n",
    "from copy import deepcopy\n",
    "from tqdm import tqdm\n",
    "from plotly.subplots import make_subplots\n",
    "\n",
    "from src.model import LR\n",
    "from src.data import FairnessDataset, Dataset, SyntheticDataset, GermanDataset, IncomeDataset\n",
    "from src.effort import Optimal_Effort\n",
    "from src.utils import model_performance, pdump, pareto_frontier\n",
    "from src.methods_dev import EIModel, EIModel_S, fair_batch_proxy, covariance_proxy"
   ]
  },
  {
   "cell_type": "code",
   "execution_count": 3,
   "metadata": {},
   "outputs": [],
   "source": [
    "default_layout = lambda width = 720, height = 540, color='#5d5d5d': dict(\n",
    "    width = width,\n",
    "    height = height,\n",
    "    font=dict(\n",
    "        family='Iosevka', \n",
    "        color=color\n",
    "        ),\n",
    "    title=dict(\n",
    "        x=0.5,\n",
    "        font=dict(size=17), \n",
    "        ),\n",
    "    legend=dict(\n",
    "        font=dict(size=10),\n",
    "        ),\n",
    "    )"
   ]
  },
  {
   "cell_type": "code",
   "execution_count": 4,
   "metadata": {},
   "outputs": [],
   "source": [
    "def append_res(d, seed, method, delta, lamb, train_alpha, alpha, pred_loss, fair_loss, accuracy, ei_disparity, rei_disparity, ei_model):\n",
    "    d['seed'].append(seed)\n",
    "    d['method'].append(method)\n",
    "    d['delta'].append(delta)\n",
    "    d['lambda'].append(lamb)\n",
    "    d['train_alpha'].append(train_alpha)\n",
    "    d['alpha'].append(alpha)\n",
    "    d['loss'].append((1-lamb)*pred_loss + lamb*fair_loss)\n",
    "    d['pred_loss'].append(pred_loss)\n",
    "    d['fair_loss'].append(fair_loss)\n",
    "    d['accuracy'].append(accuracy)\n",
    "    d['error'].append(1-accuracy)\n",
    "    d['ei_disparity'].append(ei_disparity)\n",
    "    d['rei_disparity'].append(rei_disparity)\n",
    "    d['ei_model'].append(ei_model)"
   ]
  },
  {
   "cell_type": "code",
   "execution_count": 5,
   "metadata": {},
   "outputs": [],
   "source": [
    "def run_tradeoff(dataset: Dataset, params: dict, seeds: int, results: dict):\n",
    "    \n",
    "    tau = params['tau']\n",
    "    delta = dataset.delta\n",
    "    \n",
    "    for seed in seeds:\n",
    "        train_tensors, val_tensors, test_tensors = dataset.tensor(fold=seed)\n",
    "        train_dataset = FairnessDataset(*train_tensors, dataset.imp_feats)\n",
    "        val_dataset = FairnessDataset(*val_tensors, dataset.imp_feats)\n",
    "        test_dataset = FairnessDataset(*test_tensors, dataset.imp_feats)\n",
    "        # test_dataset = FairnessDataset(*train_tensors, dataset.imp_feats)\n",
    "        \n",
    "        model = LR(num_features=train_dataset.X.shape[1])\n",
    "        \n",
    "        for lamb in params['lambda']:\n",
    "            m = deepcopy(model).xavier_init()\n",
    "            ei_model = EIModel(\n",
    "                    model = deepcopy(model).xavier_init(),\n",
    "                    proxy = params['proxy'],\n",
    "                    effort = params['effort'],\n",
    "                    tau = params['tau']\n",
    "                    )\n",
    "                \n",
    "            ei_model.train(\n",
    "                train_dataset,\n",
    "                lamb=lamb,\n",
    "                alpha=0.,\n",
    "                lr=params['learning_rate'],\n",
    "                n_epochs=params['n_epochs'][0],\n",
    "                batch_size=params['batch_size'],\n",
    "                # batch_size=len(train_dataset.X),\n",
    "                abstol=params['pga_abstol'],\n",
    "                pga_n_iters=params['pga_n_iters']\n",
    "                )\n",
    "            \n",
    "            Y_hat, Y_hat_max, pred_loss, fair_loss = ei_model.predict(test_dataset, alpha=0., abstol=params['pga_abstol'])\n",
    "            accuracy, ei_disparity = model_performance(test_dataset.Y.detach().numpy(), test_dataset.Z[(Y_hat<tau)].detach().numpy(), Y_hat, Y_hat_max, tau)\n",
    "            \n",
    "            for alpha in params['alpha']:\n",
    "                Y_hat, Y_hat_max, pred_loss, fair_loss = ei_model.predict(test_dataset, alpha=alpha, abstol=params['pga_abstol'], pga_n_iters=params['pga_n_iters'])\n",
    "                accuracy, rei_disparity = model_performance(test_dataset.Y.detach().numpy(), test_dataset.Z[(Y_hat<tau)].detach().numpy(), Y_hat, Y_hat_max, tau)\n",
    "                append_res(results, seed, 'EI', delta, lamb, 0., alpha, pred_loss, fair_loss, accuracy, ei_disparity, rei_disparity, deepcopy(ei_model))\n",
    "                \n",
    "                rei_model = EIModel(\n",
    "                    model = deepcopy(model).xavier_init(),\n",
    "                    proxy = params['proxy'],\n",
    "                    effort = params['effort'],\n",
    "                    tau = params['tau']\n",
    "                    )\n",
    "                \n",
    "                rei_model.train(\n",
    "                    train_dataset,\n",
    "                    lamb=lamb,\n",
    "                    alpha=alpha,\n",
    "                    lr=params['learning_rate'],\n",
    "                    n_epochs=params['n_epochs'][1],\n",
    "                    batch_size=params['batch_size'],\n",
    "                    # batch_size=len(train_dataset.X),\n",
    "                    abstol=params['pga_abstol'],\n",
    "                    pga_n_iters=params['pga_n_iters']\n",
    "                    )\n",
    "                \n",
    "                Y_hat, Y_hat_max, pred_loss, fair_loss = rei_model.predict(test_dataset, alpha=0., abstol=params['pga_abstol'])\n",
    "                accuracy, ei_disparity = model_performance(test_dataset.Y.detach().numpy(), test_dataset.Z[(Y_hat<tau)].detach().numpy(), Y_hat, Y_hat_max, tau)\n",
    "                \n",
    "                Y_hat_r, Y_hat_max_r, pred_loss_r, fair_loss_r = rei_model.predict(test_dataset, alpha=alpha, abstol=params['pga_abstol'], pga_n_iters=params['pga_n_iters'])\n",
    "                accuracy_r, rei_disparity = model_performance(test_dataset.Y.detach().numpy(), test_dataset.Z[(Y_hat<tau)].detach().numpy(), Y_hat_r, Y_hat_max_r, tau)\n",
    "                append_res(results, seed, 'REI', delta, lamb, alpha, alpha, pred_loss_r, fair_loss_r, accuracy_r, ei_disparity, rei_disparity, deepcopy(rei_model))\n",
    "            print()"
   ]
  },
  {
   "cell_type": "code",
   "execution_count": 14,
   "metadata": {},
   "outputs": [
    {
     "name": "stderr",
     "output_type": "stream",
     "text": [
      "Training [alpha=0.000; lambda=0.90000; delta=0.500]: 100%|\u001b[38;2;0;145;255m██████████\u001b[0m| 100/100 [00:04<00:00, 21.68epochs/s]\n",
      "Training [alpha=0.100; lambda=0.90000; delta=0.500]:  70%|\u001b[38;2;0;145;255m███████   \u001b[0m| 176/250 [00:11<00:06, 11.58epochs/s]"
     ]
    }
   ],
   "source": [
    "torch.manual_seed(0)\n",
    "\n",
    "# ----- Dataset -----\n",
    "dataset = SyntheticDataset(num_samples=20000, seed=0)\n",
    "# dataset = GermanDataset(seed=0, z_blind=True)\n",
    "# dataset = IncomeDataset(num_samples=20000, seed=0, z_blind=True)\n",
    "\n",
    "# ----- Hyperparameters -----\n",
    "params = {}\n",
    "# params['lambda'] = 1-np.geomspace(0.001, 0.999, 20)\n",
    "# params['lambda'] = [0.1, 0.2, 0.25, 0.3, 0.4, 0.5, 0.6, 0.7, 0.75, 0.8, 0.9]\n",
    "params['lambda'] = [0.9, 0.999]\n",
    "params['alpha'] = [0.1]\n",
    "params['tau'] = 0.5\n",
    "params['learning_rate'] = 0.01\n",
    "params['n_epochs'] = [100, 250]\n",
    "params['batch_size'] = 1000\n",
    "params['proxy'] = fair_batch_proxy\n",
    "params['pga_abstol'] = 1e-7\n",
    "params['pga_n_iters'] = 20\n",
    "params['effort'] = Optimal_Effort(dataset.delta)\n",
    "\n",
    "seeds = range(1)\n",
    "\n",
    "# ----- Run Experiment -----\n",
    "results = {'seed': [], 'method': [], 'delta': [], 'lambda': [], 'train_alpha': [], 'alpha': [], 'loss': [], 'pred_loss': [ ], 'fair_loss': [], 'accuracy': [], 'error': [], 'ei_disparity': [], 'rei_disparity': [], 'ei_model': []}\n",
    "run_tradeoff(dataset, params, seeds, results)"
   ]
  },
  {
   "cell_type": "code",
   "execution_count": 7,
   "metadata": {},
   "outputs": [],
   "source": [
    "# pdump(f'../results/gradientdescent/lr_{dataset.name}_{params[\"proxy\"].__name__}_mse_alpha{params[\"alpha\"][0]}_eistart.pkl', results) "
   ]
  },
  {
   "cell_type": "code",
   "execution_count": null,
   "metadata": {},
   "outputs": [],
   "source": [
    "# results['dataset'] = ['Income', 'Income', 'Synthetic', 'Synthetic']"
   ]
  },
  {
   "cell_type": "code",
   "execution_count": 9,
   "metadata": {},
   "outputs": [
    {
     "name": "stdout",
     "output_type": "stream",
     "text": [
      "Income Dataset | Gradient Descent | fair_batch_proxy | alpha: 0.1\n"
     ]
    },
    {
     "data": {
      "text/html": [
       "<style type=\"text/css\">\n",
       "#T_4444b_row0_col8, #T_4444b_row0_col9, #T_4444b_row1_col4, #T_4444b_row1_col6, #T_4444b_row1_col7 {\n",
       "  background-color: #D35400;\n",
       "}\n",
       "</style>\n",
       "<table id=\"T_4444b\">\n",
       "  <thead>\n",
       "    <tr>\n",
       "      <th class=\"blank level0\" >&nbsp;</th>\n",
       "      <th id=\"T_4444b_level0_col0\" class=\"col_heading level0 col0\" >method</th>\n",
       "      <th id=\"T_4444b_level0_col1\" class=\"col_heading level0 col1\" >seed</th>\n",
       "      <th id=\"T_4444b_level0_col2\" class=\"col_heading level0 col2\" >lambda</th>\n",
       "      <th id=\"T_4444b_level0_col3\" class=\"col_heading level0 col3\" >alpha</th>\n",
       "      <th id=\"T_4444b_level0_col4\" class=\"col_heading level0 col4\" >loss</th>\n",
       "      <th id=\"T_4444b_level0_col5\" class=\"col_heading level0 col5\" >pred_loss</th>\n",
       "      <th id=\"T_4444b_level0_col6\" class=\"col_heading level0 col6\" >fair_loss</th>\n",
       "      <th id=\"T_4444b_level0_col7\" class=\"col_heading level0 col7\" >error</th>\n",
       "      <th id=\"T_4444b_level0_col8\" class=\"col_heading level0 col8\" >ei_disparity</th>\n",
       "      <th id=\"T_4444b_level0_col9\" class=\"col_heading level0 col9\" >rei_disparity</th>\n",
       "    </tr>\n",
       "  </thead>\n",
       "  <tbody>\n",
       "    <tr>\n",
       "      <th id=\"T_4444b_level0_row0\" class=\"row_heading level0 row0\" >0</th>\n",
       "      <td id=\"T_4444b_row0_col0\" class=\"data row0 col0\" >EI</td>\n",
       "      <td id=\"T_4444b_row0_col1\" class=\"data row0 col1\" >0</td>\n",
       "      <td id=\"T_4444b_row0_col2\" class=\"data row0 col2\" >0.900000</td>\n",
       "      <td id=\"T_4444b_row0_col3\" class=\"data row0 col3\" >0.100000</td>\n",
       "      <td id=\"T_4444b_row0_col4\" class=\"data row0 col4\" >1.832209</td>\n",
       "      <td id=\"T_4444b_row0_col5\" class=\"data row0 col5\" >12.612544</td>\n",
       "      <td id=\"T_4444b_row0_col6\" class=\"data row0 col6\" >0.634394</td>\n",
       "      <td id=\"T_4444b_row0_col7\" class=\"data row0 col7\" >0.590000</td>\n",
       "      <td id=\"T_4444b_row0_col8\" class=\"data row0 col8\" >0.000000</td>\n",
       "      <td id=\"T_4444b_row0_col9\" class=\"data row0 col9\" >0.000000</td>\n",
       "    </tr>\n",
       "    <tr>\n",
       "      <th id=\"T_4444b_level0_row1\" class=\"row_heading level0 row1\" >1</th>\n",
       "      <td id=\"T_4444b_row1_col0\" class=\"data row1 col0\" >REI</td>\n",
       "      <td id=\"T_4444b_row1_col1\" class=\"data row1 col1\" >0</td>\n",
       "      <td id=\"T_4444b_row1_col2\" class=\"data row1 col2\" >0.900000</td>\n",
       "      <td id=\"T_4444b_row1_col3\" class=\"data row1 col3\" >0.100000</td>\n",
       "      <td id=\"T_4444b_row1_col4\" class=\"data row1 col4\" >0.074553</td>\n",
       "      <td id=\"T_4444b_row1_col5\" class=\"data row1 col5\" >0.453360</td>\n",
       "      <td id=\"T_4444b_row1_col6\" class=\"data row1 col6\" >0.032463</td>\n",
       "      <td id=\"T_4444b_row1_col7\" class=\"data row1 col7\" >0.193250</td>\n",
       "      <td id=\"T_4444b_row1_col8\" class=\"data row1 col8\" >0.011166</td>\n",
       "      <td id=\"T_4444b_row1_col9\" class=\"data row1 col9\" >0.011166</td>\n",
       "    </tr>\n",
       "  </tbody>\n",
       "</table>\n"
      ],
      "text/plain": [
       "<pandas.io.formats.style.Styler at 0x138684200>"
      ]
     },
     "metadata": {},
     "output_type": "display_data"
    },
    {
     "name": "stdout",
     "output_type": "stream",
     "text": [
      "Income Dataset | Gradient Descent | fair_batch_proxy | alpha: 0.1\n"
     ]
    },
    {
     "data": {
      "text/html": [
       "<style type=\"text/css\">\n",
       "#T_02bf4_row0_col4, #T_02bf4_row0_col6, #T_02bf4_row0_col8, #T_02bf4_row0_col9, #T_02bf4_row1_col7 {\n",
       "  background-color: #D35400;\n",
       "}\n",
       "</style>\n",
       "<table id=\"T_02bf4\">\n",
       "  <thead>\n",
       "    <tr>\n",
       "      <th class=\"blank level0\" >&nbsp;</th>\n",
       "      <th id=\"T_02bf4_level0_col0\" class=\"col_heading level0 col0\" >method</th>\n",
       "      <th id=\"T_02bf4_level0_col1\" class=\"col_heading level0 col1\" >seed</th>\n",
       "      <th id=\"T_02bf4_level0_col2\" class=\"col_heading level0 col2\" >lambda</th>\n",
       "      <th id=\"T_02bf4_level0_col3\" class=\"col_heading level0 col3\" >alpha</th>\n",
       "      <th id=\"T_02bf4_level0_col4\" class=\"col_heading level0 col4\" >loss</th>\n",
       "      <th id=\"T_02bf4_level0_col5\" class=\"col_heading level0 col5\" >pred_loss</th>\n",
       "      <th id=\"T_02bf4_level0_col6\" class=\"col_heading level0 col6\" >fair_loss</th>\n",
       "      <th id=\"T_02bf4_level0_col7\" class=\"col_heading level0 col7\" >error</th>\n",
       "      <th id=\"T_02bf4_level0_col8\" class=\"col_heading level0 col8\" >ei_disparity</th>\n",
       "      <th id=\"T_02bf4_level0_col9\" class=\"col_heading level0 col9\" >rei_disparity</th>\n",
       "    </tr>\n",
       "  </thead>\n",
       "  <tbody>\n",
       "    <tr>\n",
       "      <th id=\"T_02bf4_level0_row0\" class=\"row_heading level0 row0\" >2</th>\n",
       "      <td id=\"T_02bf4_row0_col0\" class=\"data row0 col0\" >EI</td>\n",
       "      <td id=\"T_02bf4_row0_col1\" class=\"data row0 col1\" >0</td>\n",
       "      <td id=\"T_02bf4_row0_col2\" class=\"data row0 col2\" >0.999000</td>\n",
       "      <td id=\"T_02bf4_row0_col3\" class=\"data row0 col3\" >0.100000</td>\n",
       "      <td id=\"T_02bf4_row0_col4\" class=\"data row0 col4\" >0.027093</td>\n",
       "      <td id=\"T_02bf4_row0_col5\" class=\"data row0 col5\" >5.278867</td>\n",
       "      <td id=\"T_02bf4_row0_col6\" class=\"data row0 col6\" >0.021836</td>\n",
       "      <td id=\"T_02bf4_row0_col7\" class=\"data row0 col7\" >0.589500</td>\n",
       "      <td id=\"T_02bf4_row0_col8\" class=\"data row0 col8\" >0.000000</td>\n",
       "      <td id=\"T_02bf4_row0_col9\" class=\"data row0 col9\" >0.000000</td>\n",
       "    </tr>\n",
       "    <tr>\n",
       "      <th id=\"T_02bf4_level0_row1\" class=\"row_heading level0 row1\" >3</th>\n",
       "      <td id=\"T_02bf4_row1_col0\" class=\"data row1 col0\" >REI</td>\n",
       "      <td id=\"T_02bf4_row1_col1\" class=\"data row1 col1\" >0</td>\n",
       "      <td id=\"T_02bf4_row1_col2\" class=\"data row1 col2\" >0.999000</td>\n",
       "      <td id=\"T_02bf4_row1_col3\" class=\"data row1 col3\" >0.100000</td>\n",
       "      <td id=\"T_02bf4_row1_col4\" class=\"data row1 col4\" >0.033285</td>\n",
       "      <td id=\"T_02bf4_row1_col5\" class=\"data row1 col5\" >0.449933</td>\n",
       "      <td id=\"T_02bf4_row1_col6\" class=\"data row1 col6\" >0.032868</td>\n",
       "      <td id=\"T_02bf4_row1_col7\" class=\"data row1 col7\" >0.193000</td>\n",
       "      <td id=\"T_02bf4_row1_col8\" class=\"data row1 col8\" >0.007795</td>\n",
       "      <td id=\"T_02bf4_row1_col9\" class=\"data row1 col9\" >0.007795</td>\n",
       "    </tr>\n",
       "  </tbody>\n",
       "</table>\n"
      ],
      "text/plain": [
       "<pandas.io.formats.style.Styler at 0x1386864b0>"
      ]
     },
     "metadata": {},
     "output_type": "display_data"
    }
   ],
   "source": [
    "columns = ['method', 'seed', 'lambda', 'alpha', 'loss', 'pred_loss', 'fair_loss', 'error', 'ei_disparity', 'rei_disparity', 'theta', 'theta_adv']\n",
    "df_results = pd.DataFrame(results)\n",
    "\n",
    "df_results['theta'] = df_results['ei_model'].apply(lambda model: model.model.get_theta().numpy().round(2)) \n",
    "df_results['theta_adv'] = df_results['ei_model'].apply(lambda model: model.model_adv.get_theta().numpy().round(2))\n",
    "for i in range(0, len(df_results), 2):\n",
    "    print(f'{dataset.name.capitalize()} Dataset | Gradient Descent | {params[\"proxy\"].__name__} | alpha: {params[\"alpha\"][0]}')\n",
    "    display(df_results[columns].iloc[i:i+2].style.highlight_min(subset=['loss', 'fair_loss', 'error', 'ei_disparity', 'rei_disparity'], color='#D35400'))"
   ]
  },
  {
   "cell_type": "code",
   "execution_count": null,
   "metadata": {},
   "outputs": [],
   "source": [
    "for i in range(len(df_results)):\n",
    "    method = df_results.iloc[i]['method']\n",
    "    lamb = df_results.iloc[i]['lambda']\n",
    "    alpha = df_results.iloc[i]['alpha']\n",
    "    fig = px.scatter(vars(df_results['ei_model'].iloc[i].train_history), y='total_loss', color='fair_loss', hover_data=['pred_loss', 'thetas', 'theta_advs' if method=='REI' else None])\n",
    "    fig.update_layout(\n",
    "        title_text = f'{dataset.name.capitalize()} Dataset | {method} | alpha: {alpha} | lambda: {lamb}',\n",
    "        # template='plotly_dark',\n",
    "        **default_layout(width=700, height=400), \n",
    "                      )\n",
    "    fig.show()"
   ]
  },
  {
   "cell_type": "code",
   "execution_count": 10,
   "metadata": {},
   "outputs": [
    {
     "data": {
      "application/vnd.plotly.v1+json": {
       "config": {
        "plotlyServerURL": "https://plot.ly"
       },
       "data": [
        {
         "hovertemplate": "method=EI<br>seed=0<br>lambda=%{x}<br>fair_loss=%{y}<extra></extra>",
         "legendgroup": "EI",
         "marker": {
          "color": "#636efa",
          "symbol": "circle"
         },
         "mode": "markers",
         "name": "EI",
         "orientation": "v",
         "showlegend": true,
         "type": "scatter",
         "x": [
          0.9,
          0.999
         ],
         "xaxis": "x",
         "y": [
          0.6343943476676941,
          0.021836288273334503
         ],
         "yaxis": "y"
        },
        {
         "hovertemplate": "method=REI<br>seed=0<br>lambda=%{x}<br>fair_loss=%{y}<extra></extra>",
         "legendgroup": "REI",
         "marker": {
          "color": "#EF553B",
          "symbol": "circle"
         },
         "mode": "markers",
         "name": "REI",
         "orientation": "v",
         "showlegend": true,
         "type": "scatter",
         "x": [
          0.9,
          0.999
         ],
         "xaxis": "x",
         "y": [
          0.0324631929397583,
          0.03286778926849365
         ],
         "yaxis": "y"
        }
       ],
       "layout": {
        "annotations": [
         {
          "font": {},
          "showarrow": false,
          "text": "seed=0",
          "textangle": 90,
          "x": 0.98,
          "xanchor": "left",
          "xref": "paper",
          "y": 0.5,
          "yanchor": "middle",
          "yref": "paper"
         }
        ],
        "font": {
         "color": "#5d5d5d",
         "family": "Iosevka"
        },
        "height": 540,
        "legend": {
         "font": {
          "size": 10
         },
         "title": {
          "text": "method"
         },
         "tracegroupgap": 0
        },
        "margin": {
         "t": 60
        },
        "template": {
         "data": {
          "bar": [
           {
            "error_x": {
             "color": "#2a3f5f"
            },
            "error_y": {
             "color": "#2a3f5f"
            },
            "marker": {
             "line": {
              "color": "#E5ECF6",
              "width": 0.5
             },
             "pattern": {
              "fillmode": "overlay",
              "size": 10,
              "solidity": 0.2
             }
            },
            "type": "bar"
           }
          ],
          "barpolar": [
           {
            "marker": {
             "line": {
              "color": "#E5ECF6",
              "width": 0.5
             },
             "pattern": {
              "fillmode": "overlay",
              "size": 10,
              "solidity": 0.2
             }
            },
            "type": "barpolar"
           }
          ],
          "carpet": [
           {
            "aaxis": {
             "endlinecolor": "#2a3f5f",
             "gridcolor": "white",
             "linecolor": "white",
             "minorgridcolor": "white",
             "startlinecolor": "#2a3f5f"
            },
            "baxis": {
             "endlinecolor": "#2a3f5f",
             "gridcolor": "white",
             "linecolor": "white",
             "minorgridcolor": "white",
             "startlinecolor": "#2a3f5f"
            },
            "type": "carpet"
           }
          ],
          "choropleth": [
           {
            "colorbar": {
             "outlinewidth": 0,
             "ticks": ""
            },
            "type": "choropleth"
           }
          ],
          "contour": [
           {
            "colorbar": {
             "outlinewidth": 0,
             "ticks": ""
            },
            "colorscale": [
             [
              0,
              "#0d0887"
             ],
             [
              0.1111111111111111,
              "#46039f"
             ],
             [
              0.2222222222222222,
              "#7201a8"
             ],
             [
              0.3333333333333333,
              "#9c179e"
             ],
             [
              0.4444444444444444,
              "#bd3786"
             ],
             [
              0.5555555555555556,
              "#d8576b"
             ],
             [
              0.6666666666666666,
              "#ed7953"
             ],
             [
              0.7777777777777778,
              "#fb9f3a"
             ],
             [
              0.8888888888888888,
              "#fdca26"
             ],
             [
              1,
              "#f0f921"
             ]
            ],
            "type": "contour"
           }
          ],
          "contourcarpet": [
           {
            "colorbar": {
             "outlinewidth": 0,
             "ticks": ""
            },
            "type": "contourcarpet"
           }
          ],
          "heatmap": [
           {
            "colorbar": {
             "outlinewidth": 0,
             "ticks": ""
            },
            "colorscale": [
             [
              0,
              "#0d0887"
             ],
             [
              0.1111111111111111,
              "#46039f"
             ],
             [
              0.2222222222222222,
              "#7201a8"
             ],
             [
              0.3333333333333333,
              "#9c179e"
             ],
             [
              0.4444444444444444,
              "#bd3786"
             ],
             [
              0.5555555555555556,
              "#d8576b"
             ],
             [
              0.6666666666666666,
              "#ed7953"
             ],
             [
              0.7777777777777778,
              "#fb9f3a"
             ],
             [
              0.8888888888888888,
              "#fdca26"
             ],
             [
              1,
              "#f0f921"
             ]
            ],
            "type": "heatmap"
           }
          ],
          "heatmapgl": [
           {
            "colorbar": {
             "outlinewidth": 0,
             "ticks": ""
            },
            "colorscale": [
             [
              0,
              "#0d0887"
             ],
             [
              0.1111111111111111,
              "#46039f"
             ],
             [
              0.2222222222222222,
              "#7201a8"
             ],
             [
              0.3333333333333333,
              "#9c179e"
             ],
             [
              0.4444444444444444,
              "#bd3786"
             ],
             [
              0.5555555555555556,
              "#d8576b"
             ],
             [
              0.6666666666666666,
              "#ed7953"
             ],
             [
              0.7777777777777778,
              "#fb9f3a"
             ],
             [
              0.8888888888888888,
              "#fdca26"
             ],
             [
              1,
              "#f0f921"
             ]
            ],
            "type": "heatmapgl"
           }
          ],
          "histogram": [
           {
            "marker": {
             "pattern": {
              "fillmode": "overlay",
              "size": 10,
              "solidity": 0.2
             }
            },
            "type": "histogram"
           }
          ],
          "histogram2d": [
           {
            "colorbar": {
             "outlinewidth": 0,
             "ticks": ""
            },
            "colorscale": [
             [
              0,
              "#0d0887"
             ],
             [
              0.1111111111111111,
              "#46039f"
             ],
             [
              0.2222222222222222,
              "#7201a8"
             ],
             [
              0.3333333333333333,
              "#9c179e"
             ],
             [
              0.4444444444444444,
              "#bd3786"
             ],
             [
              0.5555555555555556,
              "#d8576b"
             ],
             [
              0.6666666666666666,
              "#ed7953"
             ],
             [
              0.7777777777777778,
              "#fb9f3a"
             ],
             [
              0.8888888888888888,
              "#fdca26"
             ],
             [
              1,
              "#f0f921"
             ]
            ],
            "type": "histogram2d"
           }
          ],
          "histogram2dcontour": [
           {
            "colorbar": {
             "outlinewidth": 0,
             "ticks": ""
            },
            "colorscale": [
             [
              0,
              "#0d0887"
             ],
             [
              0.1111111111111111,
              "#46039f"
             ],
             [
              0.2222222222222222,
              "#7201a8"
             ],
             [
              0.3333333333333333,
              "#9c179e"
             ],
             [
              0.4444444444444444,
              "#bd3786"
             ],
             [
              0.5555555555555556,
              "#d8576b"
             ],
             [
              0.6666666666666666,
              "#ed7953"
             ],
             [
              0.7777777777777778,
              "#fb9f3a"
             ],
             [
              0.8888888888888888,
              "#fdca26"
             ],
             [
              1,
              "#f0f921"
             ]
            ],
            "type": "histogram2dcontour"
           }
          ],
          "mesh3d": [
           {
            "colorbar": {
             "outlinewidth": 0,
             "ticks": ""
            },
            "type": "mesh3d"
           }
          ],
          "parcoords": [
           {
            "line": {
             "colorbar": {
              "outlinewidth": 0,
              "ticks": ""
             }
            },
            "type": "parcoords"
           }
          ],
          "pie": [
           {
            "automargin": true,
            "type": "pie"
           }
          ],
          "scatter": [
           {
            "fillpattern": {
             "fillmode": "overlay",
             "size": 10,
             "solidity": 0.2
            },
            "type": "scatter"
           }
          ],
          "scatter3d": [
           {
            "line": {
             "colorbar": {
              "outlinewidth": 0,
              "ticks": ""
             }
            },
            "marker": {
             "colorbar": {
              "outlinewidth": 0,
              "ticks": ""
             }
            },
            "type": "scatter3d"
           }
          ],
          "scattercarpet": [
           {
            "marker": {
             "colorbar": {
              "outlinewidth": 0,
              "ticks": ""
             }
            },
            "type": "scattercarpet"
           }
          ],
          "scattergeo": [
           {
            "marker": {
             "colorbar": {
              "outlinewidth": 0,
              "ticks": ""
             }
            },
            "type": "scattergeo"
           }
          ],
          "scattergl": [
           {
            "marker": {
             "colorbar": {
              "outlinewidth": 0,
              "ticks": ""
             }
            },
            "type": "scattergl"
           }
          ],
          "scattermapbox": [
           {
            "marker": {
             "colorbar": {
              "outlinewidth": 0,
              "ticks": ""
             }
            },
            "type": "scattermapbox"
           }
          ],
          "scatterpolar": [
           {
            "marker": {
             "colorbar": {
              "outlinewidth": 0,
              "ticks": ""
             }
            },
            "type": "scatterpolar"
           }
          ],
          "scatterpolargl": [
           {
            "marker": {
             "colorbar": {
              "outlinewidth": 0,
              "ticks": ""
             }
            },
            "type": "scatterpolargl"
           }
          ],
          "scatterternary": [
           {
            "marker": {
             "colorbar": {
              "outlinewidth": 0,
              "ticks": ""
             }
            },
            "type": "scatterternary"
           }
          ],
          "surface": [
           {
            "colorbar": {
             "outlinewidth": 0,
             "ticks": ""
            },
            "colorscale": [
             [
              0,
              "#0d0887"
             ],
             [
              0.1111111111111111,
              "#46039f"
             ],
             [
              0.2222222222222222,
              "#7201a8"
             ],
             [
              0.3333333333333333,
              "#9c179e"
             ],
             [
              0.4444444444444444,
              "#bd3786"
             ],
             [
              0.5555555555555556,
              "#d8576b"
             ],
             [
              0.6666666666666666,
              "#ed7953"
             ],
             [
              0.7777777777777778,
              "#fb9f3a"
             ],
             [
              0.8888888888888888,
              "#fdca26"
             ],
             [
              1,
              "#f0f921"
             ]
            ],
            "type": "surface"
           }
          ],
          "table": [
           {
            "cells": {
             "fill": {
              "color": "#EBF0F8"
             },
             "line": {
              "color": "white"
             }
            },
            "header": {
             "fill": {
              "color": "#C8D4E3"
             },
             "line": {
              "color": "white"
             }
            },
            "type": "table"
           }
          ]
         },
         "layout": {
          "annotationdefaults": {
           "arrowcolor": "#2a3f5f",
           "arrowhead": 0,
           "arrowwidth": 1
          },
          "autotypenumbers": "strict",
          "coloraxis": {
           "colorbar": {
            "outlinewidth": 0,
            "ticks": ""
           }
          },
          "colorscale": {
           "diverging": [
            [
             0,
             "#8e0152"
            ],
            [
             0.1,
             "#c51b7d"
            ],
            [
             0.2,
             "#de77ae"
            ],
            [
             0.3,
             "#f1b6da"
            ],
            [
             0.4,
             "#fde0ef"
            ],
            [
             0.5,
             "#f7f7f7"
            ],
            [
             0.6,
             "#e6f5d0"
            ],
            [
             0.7,
             "#b8e186"
            ],
            [
             0.8,
             "#7fbc41"
            ],
            [
             0.9,
             "#4d9221"
            ],
            [
             1,
             "#276419"
            ]
           ],
           "sequential": [
            [
             0,
             "#0d0887"
            ],
            [
             0.1111111111111111,
             "#46039f"
            ],
            [
             0.2222222222222222,
             "#7201a8"
            ],
            [
             0.3333333333333333,
             "#9c179e"
            ],
            [
             0.4444444444444444,
             "#bd3786"
            ],
            [
             0.5555555555555556,
             "#d8576b"
            ],
            [
             0.6666666666666666,
             "#ed7953"
            ],
            [
             0.7777777777777778,
             "#fb9f3a"
            ],
            [
             0.8888888888888888,
             "#fdca26"
            ],
            [
             1,
             "#f0f921"
            ]
           ],
           "sequentialminus": [
            [
             0,
             "#0d0887"
            ],
            [
             0.1111111111111111,
             "#46039f"
            ],
            [
             0.2222222222222222,
             "#7201a8"
            ],
            [
             0.3333333333333333,
             "#9c179e"
            ],
            [
             0.4444444444444444,
             "#bd3786"
            ],
            [
             0.5555555555555556,
             "#d8576b"
            ],
            [
             0.6666666666666666,
             "#ed7953"
            ],
            [
             0.7777777777777778,
             "#fb9f3a"
            ],
            [
             0.8888888888888888,
             "#fdca26"
            ],
            [
             1,
             "#f0f921"
            ]
           ]
          },
          "colorway": [
           "#636efa",
           "#EF553B",
           "#00cc96",
           "#ab63fa",
           "#FFA15A",
           "#19d3f3",
           "#FF6692",
           "#B6E880",
           "#FF97FF",
           "#FECB52"
          ],
          "font": {
           "color": "#2a3f5f"
          },
          "geo": {
           "bgcolor": "white",
           "lakecolor": "white",
           "landcolor": "#E5ECF6",
           "showlakes": true,
           "showland": true,
           "subunitcolor": "white"
          },
          "hoverlabel": {
           "align": "left"
          },
          "hovermode": "closest",
          "mapbox": {
           "style": "light"
          },
          "paper_bgcolor": "white",
          "plot_bgcolor": "#E5ECF6",
          "polar": {
           "angularaxis": {
            "gridcolor": "white",
            "linecolor": "white",
            "ticks": ""
           },
           "bgcolor": "#E5ECF6",
           "radialaxis": {
            "gridcolor": "white",
            "linecolor": "white",
            "ticks": ""
           }
          },
          "scene": {
           "xaxis": {
            "backgroundcolor": "#E5ECF6",
            "gridcolor": "white",
            "gridwidth": 2,
            "linecolor": "white",
            "showbackground": true,
            "ticks": "",
            "zerolinecolor": "white"
           },
           "yaxis": {
            "backgroundcolor": "#E5ECF6",
            "gridcolor": "white",
            "gridwidth": 2,
            "linecolor": "white",
            "showbackground": true,
            "ticks": "",
            "zerolinecolor": "white"
           },
           "zaxis": {
            "backgroundcolor": "#E5ECF6",
            "gridcolor": "white",
            "gridwidth": 2,
            "linecolor": "white",
            "showbackground": true,
            "ticks": "",
            "zerolinecolor": "white"
           }
          },
          "shapedefaults": {
           "line": {
            "color": "#2a3f5f"
           }
          },
          "ternary": {
           "aaxis": {
            "gridcolor": "white",
            "linecolor": "white",
            "ticks": ""
           },
           "baxis": {
            "gridcolor": "white",
            "linecolor": "white",
            "ticks": ""
           },
           "bgcolor": "#E5ECF6",
           "caxis": {
            "gridcolor": "white",
            "linecolor": "white",
            "ticks": ""
           }
          },
          "title": {
           "x": 0.05
          },
          "xaxis": {
           "automargin": true,
           "gridcolor": "white",
           "linecolor": "white",
           "ticks": "",
           "title": {
            "standoff": 15
           },
           "zerolinecolor": "white",
           "zerolinewidth": 2
          },
          "yaxis": {
           "automargin": true,
           "gridcolor": "white",
           "linecolor": "white",
           "ticks": "",
           "title": {
            "standoff": 15
           },
           "zerolinecolor": "white",
           "zerolinewidth": 2
          }
         }
        },
        "title": {
         "font": {
          "size": 17
         },
         "text": "Income Dataset | Gradient Descent | alpha: 0.1",
         "x": 0.5
        },
        "width": 720,
        "xaxis": {
         "anchor": "y",
         "domain": [
          0,
          0.98
         ],
         "title": {
          "text": "lambda"
         }
        },
        "yaxis": {
         "anchor": "x",
         "domain": [
          0,
          1
         ],
         "title": {
          "text": "fair_loss"
         }
        }
       }
      }
     },
     "metadata": {},
     "output_type": "display_data"
    }
   ],
   "source": [
    "fig = px.scatter(df_results[(df_results['alpha']>0)].sort_values(['method', 'lambda']), x='lambda', y='fair_loss', hover_data='lambda', color='method', facet_row='seed', color_continuous_scale=['lightblue', 'blue', 'purple', 'orange', 'red'])\n",
    "\n",
    "fig.update_layout(\n",
    "    title_text = f'{dataset.name.capitalize()} Dataset | Gradient Descent | alpha: {params[\"alpha\"][0]}', \n",
    "    # template='plotly_dark',\n",
    "    **default_layout())\n",
    "fig.show()\n"
   ]
  },
  {
   "cell_type": "code",
   "execution_count": null,
   "metadata": {},
   "outputs": [],
   "source": [
    "fig = px.scatter(df_results.sort_values('fair_loss'), x='fair_loss', y='error', color='method', hover_data='lambda')\n",
    "fig.update_layout(\n",
    "    **default_layout()\n",
    "    )\n",
    "fig.show()"
   ]
  },
  {
   "cell_type": "code",
   "execution_count": null,
   "metadata": {},
   "outputs": [],
   "source": [
    "x_val = 'fair_loss'\n",
    "df_pareto = pd.DataFrame()\n",
    "for method in ['EI', 'REI']:\n",
    "    temp = df_results[df_results['method']==method].copy().reset_index(drop=True).sort_values(by=[x_val, 'error'], ascending=[True, True])\n",
    "    mask = pareto_frontier(temp[x_val], temp['error'])\n",
    "    df_pareto = pd.concat((df_pareto, temp.iloc[mask]))"
   ]
  },
  {
   "cell_type": "code",
   "execution_count": null,
   "metadata": {},
   "outputs": [],
   "source": [
    "\n",
    "fig = px.scatter(df_pareto.sort_values(x_val), x=x_val, y='error', color='method', hover_data='lambda')\n",
    "fig.update_layout(\n",
    "    title_text = f'{dataset.name.capitalize()} Dataset | Gradient Descent | {params[\"proxy\"].__name__} | alpha: {params[\"alpha\"][0]}', \n",
    "    **default_layout()\n",
    "    )\n",
    "fig.show()"
   ]
  },
  {
   "cell_type": "code",
   "execution_count": null,
   "metadata": {},
   "outputs": [],
   "source": [
    "for i in range(len(df_results)):\n",
    "    method = df_results.iloc[i]['method']\n",
    "    if method == 'REI':\n",
    "        lamb = df_results.iloc[i]['lambda']\n",
    "        alpha = df_results.iloc[i]['alpha']\n",
    "        train_history = vars(df_results['ei_model'].iloc[i].train_history)\n",
    "        df_th = pd.DataFrame()\n",
    "        df_th['theta x'] = [theta[0].item() for theta in train_history['thetas']]\n",
    "        df_th['theta y'] = [theta[1].item() for theta in train_history['thetas']]\n",
    "        df_th['theta bias'] = [theta[2].item() for theta in train_history['thetas']]\n",
    "        df_th['theta_adv x'] = [theta_adv[0].item() for theta_adv in train_history['theta_advs']]\n",
    "        df_th['theta_adv y'] = [theta_adv[1].item() for theta_adv in train_history['theta_advs']]\n",
    "        df_th['theta_adv bias'] = [theta_adv[2].item() for theta_adv in train_history['theta_advs']]\n",
    "        df_th['total_loss'] = train_history['total_loss']\n",
    "        df_th['fair_loss'] = train_history['fair_loss']\n",
    "        df_th['iteration'] = range(1, 101)\n",
    "        \n",
    "        fig = px.scatter(df_th, x='theta_adv x', y='theta_adv y', color='iteration')\n",
    "        fig.update_layout(\n",
    "            title_text = f'Synthetic Dataset | {method} | alpha: {alpha} | lambda: {lamb}',\n",
    "            # template='plotly_dark',\n",
    "            **default_layout(), \n",
    "                        )\n",
    "        fig.show()"
   ]
  }
 ],
 "metadata": {
  "kernelspec": {
   "display_name": ".env",
   "language": "python",
   "name": "python3"
  },
  "language_info": {
   "codemirror_mode": {
    "name": "ipython",
    "version": 3
   },
   "file_extension": ".py",
   "mimetype": "text/x-python",
   "name": "python",
   "nbconvert_exporter": "python",
   "pygments_lexer": "ipython3",
   "version": "3.12.4"
  }
 },
 "nbformat": 4,
 "nbformat_minor": 2
}
