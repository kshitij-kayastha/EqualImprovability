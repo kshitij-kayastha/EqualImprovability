{
 "cells": [
  {
   "cell_type": "code",
   "execution_count": 1,
   "metadata": {},
   "outputs": [],
   "source": [
    "import sys\n",
    "sys.path.append('..')"
   ]
  },
  {
   "cell_type": "code",
   "execution_count": 2,
   "metadata": {},
   "outputs": [],
   "source": [
    "import copy\n",
    "import numpy as np\n",
    "import pandas as pd\n",
    "import matplotlib as mpl\n",
    "import matplotlib.pyplot as plt\n",
    "import plotly.graph_objects as go\n",
    "from scipy.stats import norm\n",
    "from scipy.integrate import quad\n",
    "from scipy.optimize import minimize\n",
    "from plotly.subplots import make_subplots\n",
    "\n",
    "from src.dynamics import *\n",
    "\n",
    "mpl.rc('figure', max_open_warning = 0)\n",
    "%matplotlib inline"
   ]
  },
  {
   "cell_type": "code",
   "execution_count": 3,
   "metadata": {},
   "outputs": [],
   "source": [
    "def dtv(mu0, sigma0, mu1, sigma1):\n",
    "    return quad(lambda x: abs(norm.pdf(x, mu0, sigma0) - norm.pdf(x, mu1, sigma1)), -np.inf, np.inf)[0]/2"
   ]
  },
  {
   "cell_type": "code",
   "execution_count": 100,
   "metadata": {},
   "outputs": [],
   "source": [
    "def plot_fig(data, t, save=False):\n",
    "    width = 22\n",
    "    height = 3\n",
    "\n",
    "    colors = np.array(['#073B4C','#FFD166','#06D6A0','#118AB2', '#DD3497', ])\n",
    "    plt.rc('font', family='serif', serif='times new roman')\n",
    "    plt.rc('text', usetex=True)\n",
    "    plt.rc('xtick', labelsize=28)\n",
    "    plt.rc('ytick', labelsize=28)\n",
    "    plt.rc('axes', labelsize=28)\n",
    "    plt.rc('axes', linewidth=1)\n",
    "    mpl.rcParams['patch.linewidth']=0.5 #width of the boundary of legend\n",
    "    mpl.rcParams['lines.linewidth'] = 2\n",
    "\n",
    "    fig, ax = plt.subplots(nrows=data.shape[0], ncols=data.shape[1]+1, sharex=True, sharey=False, gridspec_kw={'width_ratios': [1,0.15, 1,1,1,1]}) #plot two subgraphs in one figure, 1 by 2 size, sharing y-axis\n",
    "    fig.subplots_adjust(left=.08, bottom=.1, right=0.99, top=0.95, wspace=0.05, hspace=0.05) #margin of the figure\n",
    "    fig.set_size_inches(width, height) #exact size of the figure\n",
    "    if data.shape[0] == 1:\n",
    "        ax = [ax]\n",
    "\n",
    "    cols = ['Initial distribution', 'ERM', 'BE', 'EI', 'REI']\n",
    "    rows = ['(i)', '(ii)', '(iii)', '(iv)']\n",
    "\n",
    "    for i in range(data.shape[0]):\n",
    "    #     ax.append([])\n",
    "        for col in range(data.shape[1]+1):\n",
    "            if col == 0:\n",
    "                j = col\n",
    "            else: \n",
    "                j = col - 1\n",
    "            if col == 1:\n",
    "                ax[i][col].set_visible(False)\n",
    "            else:\n",
    "                mu0, sigma0, mu1, sigma1 = data[i][j]\n",
    "                x0, x1 = np.linspace(mu0 - 4*sigma0, mu0 + 4*sigma0, 100), np.linspace(mu1 - 4*sigma1, mu1 + 4*sigma1, 100)\n",
    "                ax[i][col].plot(x0, norm.pdf(x0, mu0, sigma0), color = colors[0], label = 'Group 0')\n",
    "                ax[i][col].plot(x1, norm.pdf(x1, mu1, sigma1), color = colors[4], label = 'Group 1')\n",
    "            \n",
    "                if i == 0: ax[i][col].set_title(cols[j], fontsize = 24)\n",
    "                if j>1:\n",
    "                    ax[i][col].set_yticks([])\n",
    "                if j>=1:\n",
    "                    ax[i][col].set_ylim([0, 0.3])\n",
    "\n",
    "                # text_pos = (2,0.25) if j == 0 else (-15,0.16)\n",
    "                text_pos = (2.5,0.12) if j == 0 else (-12,0.16)\n",
    "                ax[i][col].annotate(r'$d_{\\mathrm{TV}} = %.2f$' % dtv(mu0, sigma0, mu1, sigma1), text_pos, fontsize = 20)\n",
    "        ax[i][0].set_ylabel(rows[i])\n",
    "        ax[i][2].set_yticks([0, 0.1])\n",
    "        # ax[i][2].set_yticklabels([0.5, 0.15])\n",
    "        \n",
    "\n",
    "    ax[0][5].legend(fontsize = 15, handlelength=0.4)\n",
    "\n",
    "    # plt.tick_params(labelcolor='none', which='both', top=False, bottom=False, left=False, right=False)\n",
    "    fig.supxlabel('x', fontsize = 24)\n",
    "    fig.supylabel('Density', fontsize = 24)\n",
    "    plt.show()\n",
    "    if save:\n",
    "        extent = fig.get_window_extent().transformed(fig.dpi_scale_trans.inverted())\n",
    "        fig.savefig(f'../figs/dynamics_distribution_t={t}.pdf', format='pdf', dpi=fig.dpi, bbox_inches='tight')\n",
    "    # None"
   ]
  },
  {
   "cell_type": "code",
   "execution_count": 16,
   "metadata": {},
   "outputs": [],
   "source": [
    "def plot_trajectory(mean_0, std_0, mean_1, std_1, effort_eps, beta, true_df1, be_df1, ei_df1, rei_df1, n_iters=10):\n",
    "    colors = [\n",
    "        '#073B4C',\n",
    "        '#FFD166',\n",
    "        '#06D6A0',\n",
    "        '#118AB2',\n",
    "        '#DD3497',\n",
    "        '#3e3e3e',\n",
    "        '#AE017E',\n",
    "        '#7A0177',\n",
    "        '#49006A',\n",
    "    ]\n",
    "\n",
    "    setting_title = f'N({mean_0}, {std_0}), N({mean_1}, {std_1}) | effort-eps: {effort_eps} | alpha: {beta}'\n",
    "\n",
    "    fig = make_subplots(rows=1, cols=1, subplot_titles=[setting_title], x_title='Round', y_title='Long-term Unfairness', )\n",
    "\n",
    "    fig.add_traces([\n",
    "        go.Scatter(y=true_df1[:n_iters]['wd'], name='ERM', marker=dict(color=colors[0], symbol='triangle-down', size=15), line=dict(dash='dashdot'), showlegend=True), \n",
    "        go.Scatter(y=be_df1[:n_iters]['wd'], name='BE', marker=dict(color=colors[1], symbol='circle', size=15), line=dict(dash='dash'), showlegend=True), \n",
    "        go.Scatter(y=ei_df1[:n_iters]['wd'], name='EI', marker=dict(color=colors[4], symbol='square', size=10), line=dict(dash='solid'), showlegend=True), \n",
    "        go.Scatter(y=rei_df1[:n_iters]['wd'], name='REI', marker=dict(color=colors[5], symbol='cross', size=10), line=dict(dash='dot'), showlegend=True), \n",
    "        ],\n",
    "        rows=[1,1,1,1], \n",
    "        cols=[1,1,1,1]\n",
    "    )\n",
    "\n",
    "    fig.update_layout(\n",
    "            width = 600,\n",
    "            height = 450,\n",
    "            plot_bgcolor='white',\n",
    "            paper_bgcolor='white',\n",
    "            font=dict(\n",
    "                family='Times New Roman', \n",
    "                color='black'\n",
    "                ),\n",
    "            legend=dict(\n",
    "                # x=0.983, \n",
    "                x=1.05, \n",
    "                y=0.975, \n",
    "                xanchor='left',\n",
    "                font=dict(size=15), \n",
    "                bgcolor='rgba(255, 255, 255, 0.7)',\n",
    "                bordercolor='lightgrey',\n",
    "                borderwidth=1,\n",
    "                entrywidth=0.1,\n",
    "                entrywidthmode='pixels',\n",
    "                ),\n",
    "            )\n",
    "        \n",
    "    fig.update_xaxes(\n",
    "        title=dict(\n",
    "            font=dict(size=25)\n",
    "            ), \n",
    "        showline=True, \n",
    "        mirror=True,\n",
    "        linecolor='black', \n",
    "        gridcolor='lightgrey', \n",
    "        zerolinewidth=1,\n",
    "        zerolinecolor='lightgrey',\n",
    "        )\n",
    "\n",
    "    fig.update_yaxes(\n",
    "        title=dict(\n",
    "            font=dict(size=25), \n",
    "            ), \n",
    "        showline=True, \n",
    "        mirror=True,\n",
    "        linecolor='black', \n",
    "        gridcolor='lightgrey',\n",
    "        zerolinewidth=1,\n",
    "        zerolinecolor='lightgrey',\n",
    "        )\n",
    "\n",
    "    fig.layout.annotations[-3]['font'] = dict(size=20)\n",
    "    fig.layout.annotations[-3]['y'] = 1.05\n",
    "    fig.layout.annotations[-2]['font'] = dict(size=25)\n",
    "    fig.layout.annotations[-1]['font'] = dict(size=25)\n",
    "\n",
    "    fig.show()"
   ]
  },
  {
   "cell_type": "code",
   "execution_count": 6,
   "metadata": {},
   "outputs": [],
   "source": [
    "n_iter = 100"
   ]
  },
  {
   "cell_type": "markdown",
   "metadata": {},
   "source": [
    "# $\\mathcal{N}(0,2), \\mathcal{N}(1,2)$"
   ]
  },
  {
   "cell_type": "code",
   "execution_count": 7,
   "metadata": {},
   "outputs": [
    {
     "name": "stderr",
     "output_type": "stream",
     "text": [
      "/Users/kk985/PhD/Research/REI/.env/lib/python3.12/site-packages/scipy/optimize/_slsqp_py.py:434: RuntimeWarning: Values in x were outside bounds during a minimize step, clipping to bounds\n",
      "  fx = wrapped_fun(x)\n"
     ]
    }
   ],
   "source": [
    "mean_0, std_0, mean_1, std_1 = 0, 2, 1, 2\n",
    "effort_eps = 0.8\n",
    "beta = 0.2\n",
    "model1 = populationDynamics_gaussian(mean_0, std_0, mean_1, std_1, frac = 0.2, eps = 0.25)\n",
    "\n",
    "print('ERM')\n",
    "true_df1, true_data1 = model1.run('true', n_iter, plot=False, effort_eps=effort_eps)\n",
    "print('BE')\n",
    "be_df1, be_data1 = model1.run('be', n_iter, plot=False, effort_eps=effort_eps)\n",
    "ei_df1, ei_data1 = model1.run('ef', n_iter, select_delta = 'mean', plot=False, effort_eps=effort_eps)\n",
    "print('REI')\n",
    "rei_df1, rei_data1 = model1.run('rei', n_iter, select_delta = 'mean', plot=False, effort_eps=effort_eps, beta=beta)"
   ]
  },
  {
   "cell_type": "code",
   "execution_count": 8,
   "metadata": {},
   "outputs": [
    {
     "data": {
      "application/vnd.plotly.v1+json": {
       "config": {
        "plotlyServerURL": "https://plot.ly"
       },
       "data": [
        {
         "line": {
          "dash": "dashdot"
         },
         "marker": {
          "color": "#073B4C",
          "size": 15,
          "symbol": "triangle-down"
         },
         "name": "ERM",
         "showlegend": true,
         "type": "scatter",
         "xaxis": "x",
         "y": [
          0.19741265136579783,
          0.20087735992575179,
          0.20559156819736862,
          0.21031503579633107,
          0.21480946577216192,
          0.21903213230602342,
          0.22299322211603514,
          0.22672380956619323,
          0.23024939749644224,
          0.23358952002805247,
          0.2367667553195288,
          0.23979955936454794,
          0.24269744241065966,
          0.24547770340349392,
          0.24814515812944507,
          0.25071489660170887,
          0.2531955557721626,
          0.25559463552451156,
          0.2579115717292335
         ],
         "yaxis": "y"
        },
        {
         "line": {
          "dash": "dash"
         },
         "marker": {
          "color": "#FFD166",
          "size": 15,
          "symbol": "circle"
         },
         "name": "BE",
         "showlegend": true,
         "type": "scatter",
         "xaxis": "x",
         "y": [
          0.19741265136579783,
          0.1768468670377704,
          0.17036863491298423,
          0.16721771436538962,
          0.1654437849347335,
          0.1643743393049395,
          0.16371210871917785,
          0.1633043170005496,
          0.16306393996335652,
          0.1629494228193521,
          0.1629035198364336,
          0.1629160341437004,
          0.1629712190360403,
          0.163058125930373,
          0.16316819024310186,
          0.1632966775263988,
          0.16343850706144827,
          0.1635752152344215,
          0.16373434600700892
         ],
         "yaxis": "y"
        },
        {
         "line": {
          "dash": "solid"
         },
         "marker": {
          "color": "#DD3497",
          "size": 10,
          "symbol": "square"
         },
         "name": "EI",
         "showlegend": true,
         "type": "scatter",
         "xaxis": "x",
         "y": [
          0.19741265136579783,
          0.1760542545407201,
          0.16906526040013303,
          0.16556706312810826,
          0.16353063616511154,
          0.16225046583066466,
          0.16141215025212438,
          0.1608523863776802,
          0.16047825327148266,
          0.16023280314664717,
          0.16007939804871527,
          0.1599931627957579,
          0.15995740646526455,
          0.15995984156868434,
          0.15999147391107085,
          0.1600454317879081,
          0.16011765441250175,
          0.1602034414525066,
          0.16029960272313148
         ],
         "yaxis": "y"
        },
        {
         "line": {
          "dash": "dot"
         },
         "marker": {
          "color": "#3e3e3e",
          "size": 10,
          "symbol": "cross"
         },
         "name": "REI",
         "showlegend": true,
         "type": "scatter",
         "xaxis": "x",
         "y": [
          0.19741265136579783,
          0.17398471511555919,
          0.16417810277446718,
          0.15844823916477332,
          0.15460375983890715,
          0.15293687432640893,
          0.15075665627019041,
          0.14992491546119283,
          0.14928324031807325,
          0.14877184493214712,
          0.1477069329160528,
          0.14727767065634312,
          0.1468033267497778,
          0.1460744082484961,
          0.1454260578120141,
          0.14484543004899272,
          0.1443088764592516,
          0.14383565523255784,
          0.14340534087289644
         ],
         "yaxis": "y"
        }
       ],
       "layout": {
        "annotations": [
         {
          "font": {
           "size": 20
          },
          "showarrow": false,
          "text": "N(0, 2), N(1, 2) | effort-eps: 0.8 | alpha: 0.2",
          "x": 0.5,
          "xanchor": "center",
          "xref": "paper",
          "y": 1.05,
          "yanchor": "bottom",
          "yref": "paper"
         },
         {
          "font": {
           "size": 25
          },
          "showarrow": false,
          "text": "Round",
          "x": 0.5,
          "xanchor": "center",
          "xref": "paper",
          "y": 0,
          "yanchor": "top",
          "yref": "paper",
          "yshift": -30
         },
         {
          "font": {
           "size": 25
          },
          "showarrow": false,
          "text": "Long-term Unfairness",
          "textangle": -90,
          "x": 0,
          "xanchor": "right",
          "xref": "paper",
          "xshift": -40,
          "y": 0.5,
          "yanchor": "middle",
          "yref": "paper"
         }
        ],
        "font": {
         "color": "black",
         "family": "Times New Roman"
        },
        "height": 450,
        "legend": {
         "bgcolor": "rgba(255, 255, 255, 0.7)",
         "bordercolor": "lightgrey",
         "borderwidth": 1,
         "entrywidth": 0.1,
         "entrywidthmode": "pixels",
         "font": {
          "size": 15
         },
         "x": 1.05,
         "xanchor": "left",
         "y": 0.975
        },
        "paper_bgcolor": "white",
        "plot_bgcolor": "white",
        "template": {
         "data": {
          "bar": [
           {
            "error_x": {
             "color": "#2a3f5f"
            },
            "error_y": {
             "color": "#2a3f5f"
            },
            "marker": {
             "line": {
              "color": "#E5ECF6",
              "width": 0.5
             },
             "pattern": {
              "fillmode": "overlay",
              "size": 10,
              "solidity": 0.2
             }
            },
            "type": "bar"
           }
          ],
          "barpolar": [
           {
            "marker": {
             "line": {
              "color": "#E5ECF6",
              "width": 0.5
             },
             "pattern": {
              "fillmode": "overlay",
              "size": 10,
              "solidity": 0.2
             }
            },
            "type": "barpolar"
           }
          ],
          "carpet": [
           {
            "aaxis": {
             "endlinecolor": "#2a3f5f",
             "gridcolor": "white",
             "linecolor": "white",
             "minorgridcolor": "white",
             "startlinecolor": "#2a3f5f"
            },
            "baxis": {
             "endlinecolor": "#2a3f5f",
             "gridcolor": "white",
             "linecolor": "white",
             "minorgridcolor": "white",
             "startlinecolor": "#2a3f5f"
            },
            "type": "carpet"
           }
          ],
          "choropleth": [
           {
            "colorbar": {
             "outlinewidth": 0,
             "ticks": ""
            },
            "type": "choropleth"
           }
          ],
          "contour": [
           {
            "colorbar": {
             "outlinewidth": 0,
             "ticks": ""
            },
            "colorscale": [
             [
              0,
              "#0d0887"
             ],
             [
              0.1111111111111111,
              "#46039f"
             ],
             [
              0.2222222222222222,
              "#7201a8"
             ],
             [
              0.3333333333333333,
              "#9c179e"
             ],
             [
              0.4444444444444444,
              "#bd3786"
             ],
             [
              0.5555555555555556,
              "#d8576b"
             ],
             [
              0.6666666666666666,
              "#ed7953"
             ],
             [
              0.7777777777777778,
              "#fb9f3a"
             ],
             [
              0.8888888888888888,
              "#fdca26"
             ],
             [
              1,
              "#f0f921"
             ]
            ],
            "type": "contour"
           }
          ],
          "contourcarpet": [
           {
            "colorbar": {
             "outlinewidth": 0,
             "ticks": ""
            },
            "type": "contourcarpet"
           }
          ],
          "heatmap": [
           {
            "colorbar": {
             "outlinewidth": 0,
             "ticks": ""
            },
            "colorscale": [
             [
              0,
              "#0d0887"
             ],
             [
              0.1111111111111111,
              "#46039f"
             ],
             [
              0.2222222222222222,
              "#7201a8"
             ],
             [
              0.3333333333333333,
              "#9c179e"
             ],
             [
              0.4444444444444444,
              "#bd3786"
             ],
             [
              0.5555555555555556,
              "#d8576b"
             ],
             [
              0.6666666666666666,
              "#ed7953"
             ],
             [
              0.7777777777777778,
              "#fb9f3a"
             ],
             [
              0.8888888888888888,
              "#fdca26"
             ],
             [
              1,
              "#f0f921"
             ]
            ],
            "type": "heatmap"
           }
          ],
          "heatmapgl": [
           {
            "colorbar": {
             "outlinewidth": 0,
             "ticks": ""
            },
            "colorscale": [
             [
              0,
              "#0d0887"
             ],
             [
              0.1111111111111111,
              "#46039f"
             ],
             [
              0.2222222222222222,
              "#7201a8"
             ],
             [
              0.3333333333333333,
              "#9c179e"
             ],
             [
              0.4444444444444444,
              "#bd3786"
             ],
             [
              0.5555555555555556,
              "#d8576b"
             ],
             [
              0.6666666666666666,
              "#ed7953"
             ],
             [
              0.7777777777777778,
              "#fb9f3a"
             ],
             [
              0.8888888888888888,
              "#fdca26"
             ],
             [
              1,
              "#f0f921"
             ]
            ],
            "type": "heatmapgl"
           }
          ],
          "histogram": [
           {
            "marker": {
             "pattern": {
              "fillmode": "overlay",
              "size": 10,
              "solidity": 0.2
             }
            },
            "type": "histogram"
           }
          ],
          "histogram2d": [
           {
            "colorbar": {
             "outlinewidth": 0,
             "ticks": ""
            },
            "colorscale": [
             [
              0,
              "#0d0887"
             ],
             [
              0.1111111111111111,
              "#46039f"
             ],
             [
              0.2222222222222222,
              "#7201a8"
             ],
             [
              0.3333333333333333,
              "#9c179e"
             ],
             [
              0.4444444444444444,
              "#bd3786"
             ],
             [
              0.5555555555555556,
              "#d8576b"
             ],
             [
              0.6666666666666666,
              "#ed7953"
             ],
             [
              0.7777777777777778,
              "#fb9f3a"
             ],
             [
              0.8888888888888888,
              "#fdca26"
             ],
             [
              1,
              "#f0f921"
             ]
            ],
            "type": "histogram2d"
           }
          ],
          "histogram2dcontour": [
           {
            "colorbar": {
             "outlinewidth": 0,
             "ticks": ""
            },
            "colorscale": [
             [
              0,
              "#0d0887"
             ],
             [
              0.1111111111111111,
              "#46039f"
             ],
             [
              0.2222222222222222,
              "#7201a8"
             ],
             [
              0.3333333333333333,
              "#9c179e"
             ],
             [
              0.4444444444444444,
              "#bd3786"
             ],
             [
              0.5555555555555556,
              "#d8576b"
             ],
             [
              0.6666666666666666,
              "#ed7953"
             ],
             [
              0.7777777777777778,
              "#fb9f3a"
             ],
             [
              0.8888888888888888,
              "#fdca26"
             ],
             [
              1,
              "#f0f921"
             ]
            ],
            "type": "histogram2dcontour"
           }
          ],
          "mesh3d": [
           {
            "colorbar": {
             "outlinewidth": 0,
             "ticks": ""
            },
            "type": "mesh3d"
           }
          ],
          "parcoords": [
           {
            "line": {
             "colorbar": {
              "outlinewidth": 0,
              "ticks": ""
             }
            },
            "type": "parcoords"
           }
          ],
          "pie": [
           {
            "automargin": true,
            "type": "pie"
           }
          ],
          "scatter": [
           {
            "fillpattern": {
             "fillmode": "overlay",
             "size": 10,
             "solidity": 0.2
            },
            "type": "scatter"
           }
          ],
          "scatter3d": [
           {
            "line": {
             "colorbar": {
              "outlinewidth": 0,
              "ticks": ""
             }
            },
            "marker": {
             "colorbar": {
              "outlinewidth": 0,
              "ticks": ""
             }
            },
            "type": "scatter3d"
           }
          ],
          "scattercarpet": [
           {
            "marker": {
             "colorbar": {
              "outlinewidth": 0,
              "ticks": ""
             }
            },
            "type": "scattercarpet"
           }
          ],
          "scattergeo": [
           {
            "marker": {
             "colorbar": {
              "outlinewidth": 0,
              "ticks": ""
             }
            },
            "type": "scattergeo"
           }
          ],
          "scattergl": [
           {
            "marker": {
             "colorbar": {
              "outlinewidth": 0,
              "ticks": ""
             }
            },
            "type": "scattergl"
           }
          ],
          "scattermapbox": [
           {
            "marker": {
             "colorbar": {
              "outlinewidth": 0,
              "ticks": ""
             }
            },
            "type": "scattermapbox"
           }
          ],
          "scatterpolar": [
           {
            "marker": {
             "colorbar": {
              "outlinewidth": 0,
              "ticks": ""
             }
            },
            "type": "scatterpolar"
           }
          ],
          "scatterpolargl": [
           {
            "marker": {
             "colorbar": {
              "outlinewidth": 0,
              "ticks": ""
             }
            },
            "type": "scatterpolargl"
           }
          ],
          "scatterternary": [
           {
            "marker": {
             "colorbar": {
              "outlinewidth": 0,
              "ticks": ""
             }
            },
            "type": "scatterternary"
           }
          ],
          "surface": [
           {
            "colorbar": {
             "outlinewidth": 0,
             "ticks": ""
            },
            "colorscale": [
             [
              0,
              "#0d0887"
             ],
             [
              0.1111111111111111,
              "#46039f"
             ],
             [
              0.2222222222222222,
              "#7201a8"
             ],
             [
              0.3333333333333333,
              "#9c179e"
             ],
             [
              0.4444444444444444,
              "#bd3786"
             ],
             [
              0.5555555555555556,
              "#d8576b"
             ],
             [
              0.6666666666666666,
              "#ed7953"
             ],
             [
              0.7777777777777778,
              "#fb9f3a"
             ],
             [
              0.8888888888888888,
              "#fdca26"
             ],
             [
              1,
              "#f0f921"
             ]
            ],
            "type": "surface"
           }
          ],
          "table": [
           {
            "cells": {
             "fill": {
              "color": "#EBF0F8"
             },
             "line": {
              "color": "white"
             }
            },
            "header": {
             "fill": {
              "color": "#C8D4E3"
             },
             "line": {
              "color": "white"
             }
            },
            "type": "table"
           }
          ]
         },
         "layout": {
          "annotationdefaults": {
           "arrowcolor": "#2a3f5f",
           "arrowhead": 0,
           "arrowwidth": 1
          },
          "autotypenumbers": "strict",
          "coloraxis": {
           "colorbar": {
            "outlinewidth": 0,
            "ticks": ""
           }
          },
          "colorscale": {
           "diverging": [
            [
             0,
             "#8e0152"
            ],
            [
             0.1,
             "#c51b7d"
            ],
            [
             0.2,
             "#de77ae"
            ],
            [
             0.3,
             "#f1b6da"
            ],
            [
             0.4,
             "#fde0ef"
            ],
            [
             0.5,
             "#f7f7f7"
            ],
            [
             0.6,
             "#e6f5d0"
            ],
            [
             0.7,
             "#b8e186"
            ],
            [
             0.8,
             "#7fbc41"
            ],
            [
             0.9,
             "#4d9221"
            ],
            [
             1,
             "#276419"
            ]
           ],
           "sequential": [
            [
             0,
             "#0d0887"
            ],
            [
             0.1111111111111111,
             "#46039f"
            ],
            [
             0.2222222222222222,
             "#7201a8"
            ],
            [
             0.3333333333333333,
             "#9c179e"
            ],
            [
             0.4444444444444444,
             "#bd3786"
            ],
            [
             0.5555555555555556,
             "#d8576b"
            ],
            [
             0.6666666666666666,
             "#ed7953"
            ],
            [
             0.7777777777777778,
             "#fb9f3a"
            ],
            [
             0.8888888888888888,
             "#fdca26"
            ],
            [
             1,
             "#f0f921"
            ]
           ],
           "sequentialminus": [
            [
             0,
             "#0d0887"
            ],
            [
             0.1111111111111111,
             "#46039f"
            ],
            [
             0.2222222222222222,
             "#7201a8"
            ],
            [
             0.3333333333333333,
             "#9c179e"
            ],
            [
             0.4444444444444444,
             "#bd3786"
            ],
            [
             0.5555555555555556,
             "#d8576b"
            ],
            [
             0.6666666666666666,
             "#ed7953"
            ],
            [
             0.7777777777777778,
             "#fb9f3a"
            ],
            [
             0.8888888888888888,
             "#fdca26"
            ],
            [
             1,
             "#f0f921"
            ]
           ]
          },
          "colorway": [
           "#636efa",
           "#EF553B",
           "#00cc96",
           "#ab63fa",
           "#FFA15A",
           "#19d3f3",
           "#FF6692",
           "#B6E880",
           "#FF97FF",
           "#FECB52"
          ],
          "font": {
           "color": "#2a3f5f"
          },
          "geo": {
           "bgcolor": "white",
           "lakecolor": "white",
           "landcolor": "#E5ECF6",
           "showlakes": true,
           "showland": true,
           "subunitcolor": "white"
          },
          "hoverlabel": {
           "align": "left"
          },
          "hovermode": "closest",
          "mapbox": {
           "style": "light"
          },
          "paper_bgcolor": "white",
          "plot_bgcolor": "#E5ECF6",
          "polar": {
           "angularaxis": {
            "gridcolor": "white",
            "linecolor": "white",
            "ticks": ""
           },
           "bgcolor": "#E5ECF6",
           "radialaxis": {
            "gridcolor": "white",
            "linecolor": "white",
            "ticks": ""
           }
          },
          "scene": {
           "xaxis": {
            "backgroundcolor": "#E5ECF6",
            "gridcolor": "white",
            "gridwidth": 2,
            "linecolor": "white",
            "showbackground": true,
            "ticks": "",
            "zerolinecolor": "white"
           },
           "yaxis": {
            "backgroundcolor": "#E5ECF6",
            "gridcolor": "white",
            "gridwidth": 2,
            "linecolor": "white",
            "showbackground": true,
            "ticks": "",
            "zerolinecolor": "white"
           },
           "zaxis": {
            "backgroundcolor": "#E5ECF6",
            "gridcolor": "white",
            "gridwidth": 2,
            "linecolor": "white",
            "showbackground": true,
            "ticks": "",
            "zerolinecolor": "white"
           }
          },
          "shapedefaults": {
           "line": {
            "color": "#2a3f5f"
           }
          },
          "ternary": {
           "aaxis": {
            "gridcolor": "white",
            "linecolor": "white",
            "ticks": ""
           },
           "baxis": {
            "gridcolor": "white",
            "linecolor": "white",
            "ticks": ""
           },
           "bgcolor": "#E5ECF6",
           "caxis": {
            "gridcolor": "white",
            "linecolor": "white",
            "ticks": ""
           }
          },
          "title": {
           "x": 0.05
          },
          "xaxis": {
           "automargin": true,
           "gridcolor": "white",
           "linecolor": "white",
           "ticks": "",
           "title": {
            "standoff": 15
           },
           "zerolinecolor": "white",
           "zerolinewidth": 2
          },
          "yaxis": {
           "automargin": true,
           "gridcolor": "white",
           "linecolor": "white",
           "ticks": "",
           "title": {
            "standoff": 15
           },
           "zerolinecolor": "white",
           "zerolinewidth": 2
          }
         }
        },
        "width": 600,
        "xaxis": {
         "anchor": "y",
         "domain": [
          0,
          1
         ],
         "gridcolor": "lightgrey",
         "linecolor": "black",
         "mirror": true,
         "showline": true,
         "title": {
          "font": {
           "size": 25
          }
         },
         "zerolinecolor": "lightgrey",
         "zerolinewidth": 1
        },
        "yaxis": {
         "anchor": "x",
         "domain": [
          0,
          1
         ],
         "gridcolor": "lightgrey",
         "linecolor": "black",
         "mirror": true,
         "showline": true,
         "title": {
          "font": {
           "size": 25
          }
         },
         "zerolinecolor": "lightgrey",
         "zerolinewidth": 1
        }
       }
      }
     },
     "metadata": {},
     "output_type": "display_data"
    }
   ],
   "source": [
    "plot_trajectory(mean_0, std_0, mean_1, std_1, effort_eps, beta, true_df1, be_df1, ei_df1, rei_df1)"
   ]
  },
  {
   "cell_type": "markdown",
   "metadata": {},
   "source": [
    "# $\\mathcal{N}(0,2), \\mathcal{N}(1,0.5)$"
   ]
  },
  {
   "cell_type": "code",
   "execution_count": 352,
   "metadata": {},
   "outputs": [
    {
     "name": "stdout",
     "output_type": "stream",
     "text": [
      "ERM\n",
      "BE\n",
      "EI\n",
      "REI\n"
     ]
    }
   ],
   "source": [
    "mean_0, std_0, mean_1, std_1 = 0, 2, 1, 0.5\n",
    "effort_eps = 0.6\n",
    "beta = 0.2\n",
    "model2 = populationDynamics_gaussian(mean_0, std_0, mean_1, std_1, frac = 0.2, eps = 0.25)\n",
    "\n",
    "print('ERM')\n",
    "true_df2, true_data2 = model2.run('true', n_iter, plot=False, effort_eps=effort_eps)\n",
    "print('BE')\n",
    "be_df2, be_data2 = model2.run('be', n_iter, select_delta = 'mean', plot=False, effort_eps=effort_eps)\n",
    "print('EI')\n",
    "ei_df2, ei_data2 = model2.run('ef', n_iter, select_delta = 'mean', plot=False, effort_eps=effort_eps)\n",
    "print('REI')\n",
    "rei_df2, rei_data2 = model2.run('rei', n_iter, select_delta = 'mean', plot=False, effort_eps=effort_eps, beta=beta)"
   ]
  },
  {
   "cell_type": "code",
   "execution_count": 353,
   "metadata": {},
   "outputs": [
    {
     "data": {
      "application/vnd.plotly.v1+json": {
       "config": {
        "plotlyServerURL": "https://plot.ly"
       },
       "data": [
        {
         "line": {
          "dash": "dashdot"
         },
         "marker": {
          "color": "#073B4C",
          "size": 15,
          "symbol": "triangle-down"
         },
         "name": "ERM",
         "showlegend": true,
         "type": "scatter",
         "xaxis": "x",
         "y": [
          0.6215405681551922,
          0.5259160825560646,
          0.5427410978849915,
          0.558815679540356,
          0.5740562646306693,
          0.5884713732427437,
          0.6022107501248759,
          0.615335833933174,
          0.6279204156431679,
          0.6400168017996911,
          0.6516642178291119,
          0.6628942853934484,
          0.6737319765287376,
          0.6841774315742974,
          0.6942851936415655,
          0.7040235666009284,
          0.7133962885775486,
          0.722470820490804,
          0.7311955456652585
         ],
         "yaxis": "y"
        },
        {
         "line": {
          "dash": "dash"
         },
         "marker": {
          "color": "#FFD166",
          "size": 15,
          "symbol": "circle"
         },
         "name": "BE",
         "showlegend": true,
         "type": "scatter",
         "xaxis": "x",
         "y": [
          0.6215405681551922,
          0.5360015318099192,
          0.516248543633565,
          0.5076378146709472,
          0.5037150633876866,
          0.5021639861122444,
          0.5018206212814165,
          0.4994636884616394,
          0.49761424605125765,
          0.49617001580018455,
          0.49505896084083806,
          0.5037633622900718,
          0.5121171954395501,
          0.5201437261040763,
          0.5278769452674421,
          0.5353454557632256,
          0.5425735601358054,
          0.5495983655367757,
          0.5564224507947122
         ],
         "yaxis": "y"
        },
        {
         "line": {
          "dash": "solid"
         },
         "marker": {
          "color": "#DD3497",
          "size": 10,
          "symbol": "square"
         },
         "name": "EI",
         "showlegend": true,
         "type": "scatter",
         "xaxis": "x",
         "y": [
          0.6215405681551922,
          0.5126504118050649,
          0.3700069563453221,
          0.332212067171593,
          0.32186436215391595,
          0.31808343073095097,
          0.31629157660826807,
          0.3143671600324769,
          0.3137858405873204,
          0.31426538191907905,
          0.3150104220553453,
          0.3157379645410131,
          0.31661799346570235,
          0.3175299769440344,
          0.31848837663323787,
          0.31939426074572724,
          0.3203664645085558,
          0.3217627531246516,
          0.32265167895378394
         ],
         "yaxis": "y"
        },
        {
         "line": {
          "dash": "dot"
         },
         "marker": {
          "color": "#3e3e3e",
          "size": 10,
          "symbol": "cross"
         },
         "name": "REI",
         "showlegend": true,
         "type": "scatter",
         "xaxis": "x",
         "y": [
          0.6215405681551922,
          0.5126500205583249,
          0.3826163905226987,
          0.33591231009458433,
          0.3187739202129763,
          0.31117248241472395,
          0.306870327500607,
          0.30463048626799033,
          0.30270235240367505,
          0.30131205094651337,
          0.30049466096533245,
          0.2996927649214381,
          0.2990898187739278,
          0.29860655800326696,
          0.29822845250889884,
          0.2978987557295982,
          0.2976552893786495,
          0.29745010296794305,
          0.2972775838090829
         ],
         "yaxis": "y"
        }
       ],
       "layout": {
        "annotations": [
         {
          "font": {
           "size": 20
          },
          "showarrow": false,
          "text": "N(0, 2), N(1, 0.5) | effort-eps: 0.6 | alpha: 0.2",
          "x": 0.5,
          "xanchor": "center",
          "xref": "paper",
          "y": 1.05,
          "yanchor": "bottom",
          "yref": "paper"
         },
         {
          "font": {
           "size": 25
          },
          "showarrow": false,
          "text": "Round",
          "x": 0.5,
          "xanchor": "center",
          "xref": "paper",
          "y": 0,
          "yanchor": "top",
          "yref": "paper",
          "yshift": -30
         },
         {
          "font": {
           "size": 25
          },
          "showarrow": false,
          "text": "Long-term Unfairness",
          "textangle": -90,
          "x": 0,
          "xanchor": "right",
          "xref": "paper",
          "xshift": -40,
          "y": 0.5,
          "yanchor": "middle",
          "yref": "paper"
         }
        ],
        "font": {
         "color": "black",
         "family": "Times New Roman"
        },
        "height": 450,
        "legend": {
         "bgcolor": "rgba(255, 255, 255, 0.7)",
         "bordercolor": "lightgrey",
         "borderwidth": 1,
         "entrywidth": 0.1,
         "entrywidthmode": "pixels",
         "font": {
          "size": 15
         },
         "x": 1.05,
         "xanchor": "left",
         "y": 0.975
        },
        "paper_bgcolor": "white",
        "plot_bgcolor": "white",
        "template": {
         "data": {
          "bar": [
           {
            "error_x": {
             "color": "#2a3f5f"
            },
            "error_y": {
             "color": "#2a3f5f"
            },
            "marker": {
             "line": {
              "color": "#E5ECF6",
              "width": 0.5
             },
             "pattern": {
              "fillmode": "overlay",
              "size": 10,
              "solidity": 0.2
             }
            },
            "type": "bar"
           }
          ],
          "barpolar": [
           {
            "marker": {
             "line": {
              "color": "#E5ECF6",
              "width": 0.5
             },
             "pattern": {
              "fillmode": "overlay",
              "size": 10,
              "solidity": 0.2
             }
            },
            "type": "barpolar"
           }
          ],
          "carpet": [
           {
            "aaxis": {
             "endlinecolor": "#2a3f5f",
             "gridcolor": "white",
             "linecolor": "white",
             "minorgridcolor": "white",
             "startlinecolor": "#2a3f5f"
            },
            "baxis": {
             "endlinecolor": "#2a3f5f",
             "gridcolor": "white",
             "linecolor": "white",
             "minorgridcolor": "white",
             "startlinecolor": "#2a3f5f"
            },
            "type": "carpet"
           }
          ],
          "choropleth": [
           {
            "colorbar": {
             "outlinewidth": 0,
             "ticks": ""
            },
            "type": "choropleth"
           }
          ],
          "contour": [
           {
            "colorbar": {
             "outlinewidth": 0,
             "ticks": ""
            },
            "colorscale": [
             [
              0,
              "#0d0887"
             ],
             [
              0.1111111111111111,
              "#46039f"
             ],
             [
              0.2222222222222222,
              "#7201a8"
             ],
             [
              0.3333333333333333,
              "#9c179e"
             ],
             [
              0.4444444444444444,
              "#bd3786"
             ],
             [
              0.5555555555555556,
              "#d8576b"
             ],
             [
              0.6666666666666666,
              "#ed7953"
             ],
             [
              0.7777777777777778,
              "#fb9f3a"
             ],
             [
              0.8888888888888888,
              "#fdca26"
             ],
             [
              1,
              "#f0f921"
             ]
            ],
            "type": "contour"
           }
          ],
          "contourcarpet": [
           {
            "colorbar": {
             "outlinewidth": 0,
             "ticks": ""
            },
            "type": "contourcarpet"
           }
          ],
          "heatmap": [
           {
            "colorbar": {
             "outlinewidth": 0,
             "ticks": ""
            },
            "colorscale": [
             [
              0,
              "#0d0887"
             ],
             [
              0.1111111111111111,
              "#46039f"
             ],
             [
              0.2222222222222222,
              "#7201a8"
             ],
             [
              0.3333333333333333,
              "#9c179e"
             ],
             [
              0.4444444444444444,
              "#bd3786"
             ],
             [
              0.5555555555555556,
              "#d8576b"
             ],
             [
              0.6666666666666666,
              "#ed7953"
             ],
             [
              0.7777777777777778,
              "#fb9f3a"
             ],
             [
              0.8888888888888888,
              "#fdca26"
             ],
             [
              1,
              "#f0f921"
             ]
            ],
            "type": "heatmap"
           }
          ],
          "heatmapgl": [
           {
            "colorbar": {
             "outlinewidth": 0,
             "ticks": ""
            },
            "colorscale": [
             [
              0,
              "#0d0887"
             ],
             [
              0.1111111111111111,
              "#46039f"
             ],
             [
              0.2222222222222222,
              "#7201a8"
             ],
             [
              0.3333333333333333,
              "#9c179e"
             ],
             [
              0.4444444444444444,
              "#bd3786"
             ],
             [
              0.5555555555555556,
              "#d8576b"
             ],
             [
              0.6666666666666666,
              "#ed7953"
             ],
             [
              0.7777777777777778,
              "#fb9f3a"
             ],
             [
              0.8888888888888888,
              "#fdca26"
             ],
             [
              1,
              "#f0f921"
             ]
            ],
            "type": "heatmapgl"
           }
          ],
          "histogram": [
           {
            "marker": {
             "pattern": {
              "fillmode": "overlay",
              "size": 10,
              "solidity": 0.2
             }
            },
            "type": "histogram"
           }
          ],
          "histogram2d": [
           {
            "colorbar": {
             "outlinewidth": 0,
             "ticks": ""
            },
            "colorscale": [
             [
              0,
              "#0d0887"
             ],
             [
              0.1111111111111111,
              "#46039f"
             ],
             [
              0.2222222222222222,
              "#7201a8"
             ],
             [
              0.3333333333333333,
              "#9c179e"
             ],
             [
              0.4444444444444444,
              "#bd3786"
             ],
             [
              0.5555555555555556,
              "#d8576b"
             ],
             [
              0.6666666666666666,
              "#ed7953"
             ],
             [
              0.7777777777777778,
              "#fb9f3a"
             ],
             [
              0.8888888888888888,
              "#fdca26"
             ],
             [
              1,
              "#f0f921"
             ]
            ],
            "type": "histogram2d"
           }
          ],
          "histogram2dcontour": [
           {
            "colorbar": {
             "outlinewidth": 0,
             "ticks": ""
            },
            "colorscale": [
             [
              0,
              "#0d0887"
             ],
             [
              0.1111111111111111,
              "#46039f"
             ],
             [
              0.2222222222222222,
              "#7201a8"
             ],
             [
              0.3333333333333333,
              "#9c179e"
             ],
             [
              0.4444444444444444,
              "#bd3786"
             ],
             [
              0.5555555555555556,
              "#d8576b"
             ],
             [
              0.6666666666666666,
              "#ed7953"
             ],
             [
              0.7777777777777778,
              "#fb9f3a"
             ],
             [
              0.8888888888888888,
              "#fdca26"
             ],
             [
              1,
              "#f0f921"
             ]
            ],
            "type": "histogram2dcontour"
           }
          ],
          "mesh3d": [
           {
            "colorbar": {
             "outlinewidth": 0,
             "ticks": ""
            },
            "type": "mesh3d"
           }
          ],
          "parcoords": [
           {
            "line": {
             "colorbar": {
              "outlinewidth": 0,
              "ticks": ""
             }
            },
            "type": "parcoords"
           }
          ],
          "pie": [
           {
            "automargin": true,
            "type": "pie"
           }
          ],
          "scatter": [
           {
            "fillpattern": {
             "fillmode": "overlay",
             "size": 10,
             "solidity": 0.2
            },
            "type": "scatter"
           }
          ],
          "scatter3d": [
           {
            "line": {
             "colorbar": {
              "outlinewidth": 0,
              "ticks": ""
             }
            },
            "marker": {
             "colorbar": {
              "outlinewidth": 0,
              "ticks": ""
             }
            },
            "type": "scatter3d"
           }
          ],
          "scattercarpet": [
           {
            "marker": {
             "colorbar": {
              "outlinewidth": 0,
              "ticks": ""
             }
            },
            "type": "scattercarpet"
           }
          ],
          "scattergeo": [
           {
            "marker": {
             "colorbar": {
              "outlinewidth": 0,
              "ticks": ""
             }
            },
            "type": "scattergeo"
           }
          ],
          "scattergl": [
           {
            "marker": {
             "colorbar": {
              "outlinewidth": 0,
              "ticks": ""
             }
            },
            "type": "scattergl"
           }
          ],
          "scattermapbox": [
           {
            "marker": {
             "colorbar": {
              "outlinewidth": 0,
              "ticks": ""
             }
            },
            "type": "scattermapbox"
           }
          ],
          "scatterpolar": [
           {
            "marker": {
             "colorbar": {
              "outlinewidth": 0,
              "ticks": ""
             }
            },
            "type": "scatterpolar"
           }
          ],
          "scatterpolargl": [
           {
            "marker": {
             "colorbar": {
              "outlinewidth": 0,
              "ticks": ""
             }
            },
            "type": "scatterpolargl"
           }
          ],
          "scatterternary": [
           {
            "marker": {
             "colorbar": {
              "outlinewidth": 0,
              "ticks": ""
             }
            },
            "type": "scatterternary"
           }
          ],
          "surface": [
           {
            "colorbar": {
             "outlinewidth": 0,
             "ticks": ""
            },
            "colorscale": [
             [
              0,
              "#0d0887"
             ],
             [
              0.1111111111111111,
              "#46039f"
             ],
             [
              0.2222222222222222,
              "#7201a8"
             ],
             [
              0.3333333333333333,
              "#9c179e"
             ],
             [
              0.4444444444444444,
              "#bd3786"
             ],
             [
              0.5555555555555556,
              "#d8576b"
             ],
             [
              0.6666666666666666,
              "#ed7953"
             ],
             [
              0.7777777777777778,
              "#fb9f3a"
             ],
             [
              0.8888888888888888,
              "#fdca26"
             ],
             [
              1,
              "#f0f921"
             ]
            ],
            "type": "surface"
           }
          ],
          "table": [
           {
            "cells": {
             "fill": {
              "color": "#EBF0F8"
             },
             "line": {
              "color": "white"
             }
            },
            "header": {
             "fill": {
              "color": "#C8D4E3"
             },
             "line": {
              "color": "white"
             }
            },
            "type": "table"
           }
          ]
         },
         "layout": {
          "annotationdefaults": {
           "arrowcolor": "#2a3f5f",
           "arrowhead": 0,
           "arrowwidth": 1
          },
          "autotypenumbers": "strict",
          "coloraxis": {
           "colorbar": {
            "outlinewidth": 0,
            "ticks": ""
           }
          },
          "colorscale": {
           "diverging": [
            [
             0,
             "#8e0152"
            ],
            [
             0.1,
             "#c51b7d"
            ],
            [
             0.2,
             "#de77ae"
            ],
            [
             0.3,
             "#f1b6da"
            ],
            [
             0.4,
             "#fde0ef"
            ],
            [
             0.5,
             "#f7f7f7"
            ],
            [
             0.6,
             "#e6f5d0"
            ],
            [
             0.7,
             "#b8e186"
            ],
            [
             0.8,
             "#7fbc41"
            ],
            [
             0.9,
             "#4d9221"
            ],
            [
             1,
             "#276419"
            ]
           ],
           "sequential": [
            [
             0,
             "#0d0887"
            ],
            [
             0.1111111111111111,
             "#46039f"
            ],
            [
             0.2222222222222222,
             "#7201a8"
            ],
            [
             0.3333333333333333,
             "#9c179e"
            ],
            [
             0.4444444444444444,
             "#bd3786"
            ],
            [
             0.5555555555555556,
             "#d8576b"
            ],
            [
             0.6666666666666666,
             "#ed7953"
            ],
            [
             0.7777777777777778,
             "#fb9f3a"
            ],
            [
             0.8888888888888888,
             "#fdca26"
            ],
            [
             1,
             "#f0f921"
            ]
           ],
           "sequentialminus": [
            [
             0,
             "#0d0887"
            ],
            [
             0.1111111111111111,
             "#46039f"
            ],
            [
             0.2222222222222222,
             "#7201a8"
            ],
            [
             0.3333333333333333,
             "#9c179e"
            ],
            [
             0.4444444444444444,
             "#bd3786"
            ],
            [
             0.5555555555555556,
             "#d8576b"
            ],
            [
             0.6666666666666666,
             "#ed7953"
            ],
            [
             0.7777777777777778,
             "#fb9f3a"
            ],
            [
             0.8888888888888888,
             "#fdca26"
            ],
            [
             1,
             "#f0f921"
            ]
           ]
          },
          "colorway": [
           "#636efa",
           "#EF553B",
           "#00cc96",
           "#ab63fa",
           "#FFA15A",
           "#19d3f3",
           "#FF6692",
           "#B6E880",
           "#FF97FF",
           "#FECB52"
          ],
          "font": {
           "color": "#2a3f5f"
          },
          "geo": {
           "bgcolor": "white",
           "lakecolor": "white",
           "landcolor": "#E5ECF6",
           "showlakes": true,
           "showland": true,
           "subunitcolor": "white"
          },
          "hoverlabel": {
           "align": "left"
          },
          "hovermode": "closest",
          "mapbox": {
           "style": "light"
          },
          "paper_bgcolor": "white",
          "plot_bgcolor": "#E5ECF6",
          "polar": {
           "angularaxis": {
            "gridcolor": "white",
            "linecolor": "white",
            "ticks": ""
           },
           "bgcolor": "#E5ECF6",
           "radialaxis": {
            "gridcolor": "white",
            "linecolor": "white",
            "ticks": ""
           }
          },
          "scene": {
           "xaxis": {
            "backgroundcolor": "#E5ECF6",
            "gridcolor": "white",
            "gridwidth": 2,
            "linecolor": "white",
            "showbackground": true,
            "ticks": "",
            "zerolinecolor": "white"
           },
           "yaxis": {
            "backgroundcolor": "#E5ECF6",
            "gridcolor": "white",
            "gridwidth": 2,
            "linecolor": "white",
            "showbackground": true,
            "ticks": "",
            "zerolinecolor": "white"
           },
           "zaxis": {
            "backgroundcolor": "#E5ECF6",
            "gridcolor": "white",
            "gridwidth": 2,
            "linecolor": "white",
            "showbackground": true,
            "ticks": "",
            "zerolinecolor": "white"
           }
          },
          "shapedefaults": {
           "line": {
            "color": "#2a3f5f"
           }
          },
          "ternary": {
           "aaxis": {
            "gridcolor": "white",
            "linecolor": "white",
            "ticks": ""
           },
           "baxis": {
            "gridcolor": "white",
            "linecolor": "white",
            "ticks": ""
           },
           "bgcolor": "#E5ECF6",
           "caxis": {
            "gridcolor": "white",
            "linecolor": "white",
            "ticks": ""
           }
          },
          "title": {
           "x": 0.05
          },
          "xaxis": {
           "automargin": true,
           "gridcolor": "white",
           "linecolor": "white",
           "ticks": "",
           "title": {
            "standoff": 15
           },
           "zerolinecolor": "white",
           "zerolinewidth": 2
          },
          "yaxis": {
           "automargin": true,
           "gridcolor": "white",
           "linecolor": "white",
           "ticks": "",
           "title": {
            "standoff": 15
           },
           "zerolinecolor": "white",
           "zerolinewidth": 2
          }
         }
        },
        "width": 600,
        "xaxis": {
         "anchor": "y",
         "domain": [
          0,
          1
         ],
         "gridcolor": "lightgrey",
         "linecolor": "black",
         "mirror": true,
         "showline": true,
         "title": {
          "font": {
           "size": 25
          }
         },
         "zerolinecolor": "lightgrey",
         "zerolinewidth": 1
        },
        "yaxis": {
         "anchor": "x",
         "domain": [
          0,
          1
         ],
         "gridcolor": "lightgrey",
         "linecolor": "black",
         "mirror": true,
         "showline": true,
         "title": {
          "font": {
           "size": 25
          }
         },
         "zerolinecolor": "lightgrey",
         "zerolinewidth": 1
        }
       }
      }
     },
     "metadata": {},
     "output_type": "display_data"
    }
   ],
   "source": [
    "plot_trajectory(mean_0, std_0, mean_1, std_1, effort_eps, beta, true_df2, be_df2, ei_df2, rei_df2, n_iters=19)"
   ]
  },
  {
   "cell_type": "code",
   "execution_count": 355,
   "metadata": {},
   "outputs": [
    {
     "name": "stdout",
     "output_type": "stream",
     "text": [
      "t = 3\n"
     ]
    },
    {
     "data": {
      "image/png": "[encoded data removed]",
      "text/plain": [
       "<Figure size 2200x300 with 12 Axes>"
      ]
     },
     "metadata": {},
     "output_type": "display_data"
    },
    {
     "name": "stdout",
     "output_type": "stream",
     "text": [
      "t = 10\n"
     ]
    },
    {
     "data": {
      "image/png": "[encoded data removed]",
      "text/plain": [
       "<Figure size 2200x300 with 12 Axes>"
      ]
     },
     "metadata": {},
     "output_type": "display_data"
    },
    {
     "name": "stdout",
     "output_type": "stream",
     "text": [
      "t = 20\n"
     ]
    },
    {
     "data": {
      "image/png": "[encoded data removed]",
      "text/plain": [
       "<Figure size 2200x300 with 12 Axes>"
      ]
     },
     "metadata": {},
     "output_type": "display_data"
    }
   ],
   "source": [
    "for i in [3,10,20]:\n",
    "    all_data = [\n",
    "        [model1.init_data, true_data1[i], be_data1[i], ei_data1[i], rei_data1[i]],\n",
    "        [model2.init_data, true_data2[i], be_data2[i], ei_data2[i], rei_data2[i]],\n",
    "                ]\n",
    "    data = []\n",
    "    for d in all_data:\n",
    "        row = []\n",
    "        for f_data in d:\n",
    "            row.append([f_data[0]['mean'], f_data[0]['std'], f_data[1]['mean'], f_data[1]['std']])\n",
    "        data.append(row)\n",
    "    data = np.array(data)\n",
    "    print(f't = {i}')\n",
    "    plot_fig(data, i, True)"
   ]
  },
  {
   "cell_type": "code",
   "execution_count": 356,
   "metadata": {},
   "outputs": [
    {
     "data": {
      "application/vnd.plotly.v1+json": {
       "config": {
        "plotlyServerURL": "https://plot.ly"
       },
       "data": [
        {
         "line": {
          "dash": "dashdot"
         },
         "marker": {
          "color": "#073B4C",
          "size": 15,
          "symbol": "triangle-down"
         },
         "name": "ERM",
         "showlegend": false,
         "type": "scatter",
         "xaxis": "x",
         "y": [
          0.19741265136579783,
          0.20087735992575179,
          0.20559156819736862,
          0.21031503579633107,
          0.21480946577216192,
          0.21903213230602342,
          0.22299322211603514,
          0.22672380956619323,
          0.23024939749644224,
          0.23358952002805247,
          0.2367667553195288,
          0.23979955936454794,
          0.24269744241065966,
          0.24547770340349392
         ],
         "yaxis": "y"
        },
        {
         "line": {
          "dash": "dash"
         },
         "marker": {
          "color": "#FFD166",
          "size": 15,
          "symbol": "circle"
         },
         "name": "BE",
         "showlegend": false,
         "type": "scatter",
         "xaxis": "x",
         "y": [
          0.19741265136579783,
          0.1768468670377704,
          0.17036863491298423,
          0.16721771436538962,
          0.1654437849347335,
          0.1643743393049395,
          0.16371210871917785,
          0.1633043170005496,
          0.16306393996335652,
          0.1629494228193521,
          0.1629035198364336,
          0.1629160341437004,
          0.1629712190360403,
          0.163058125930373
         ],
         "yaxis": "y"
        },
        {
         "line": {
          "dash": "solid"
         },
         "marker": {
          "color": "#DD3497",
          "size": 10,
          "symbol": "square"
         },
         "name": "EI",
         "showlegend": false,
         "type": "scatter",
         "xaxis": "x",
         "y": [
          0.19741265136579783,
          0.1760542545407201,
          0.16906526040013303,
          0.16556706312810826,
          0.16353063616511154,
          0.16225046583066466,
          0.16141215025212438,
          0.1608523863776802,
          0.16047825327148266,
          0.16023280314664717,
          0.16007939804871527,
          0.1599931627957579,
          0.15995740646526455,
          0.15995984156868434
         ],
         "yaxis": "y"
        },
        {
         "line": {
          "dash": "dot"
         },
         "marker": {
          "color": "#3e3e3e",
          "size": 10,
          "symbol": "cross"
         },
         "name": "REI",
         "showlegend": false,
         "type": "scatter",
         "xaxis": "x",
         "y": [
          0.19741265136579783,
          0.17398471511555919,
          0.16417810277446718,
          0.15844823916477332,
          0.15460375983890715,
          0.15293687432640893,
          0.15075665627019041,
          0.14992491546119283,
          0.14928324031807325,
          0.14877184493214712,
          0.1477069329160528,
          0.14727767065634312,
          0.1468033267497778,
          0.1460744082484961
         ],
         "yaxis": "y"
        },
        {
         "line": {
          "dash": "dashdot"
         },
         "marker": {
          "color": "#073B4C",
          "size": 15,
          "symbol": "triangle-down"
         },
         "name": "ERM",
         "type": "scatter",
         "xaxis": "x2",
         "y": [
          0.6215405681551922,
          0.5259160825560646,
          0.5427410978849915,
          0.558815679540356,
          0.5740562646306693,
          0.5884713732427437,
          0.6022107501248759,
          0.615335833933174,
          0.6279204156431679,
          0.6400168017996911,
          0.6516642178291119,
          0.6628942853934484,
          0.6737319765287376,
          0.6841774315742974
         ],
         "yaxis": "y2"
        },
        {
         "line": {
          "dash": "dash"
         },
         "marker": {
          "color": "#FFD166",
          "size": 15,
          "symbol": "circle"
         },
         "name": "BE",
         "type": "scatter",
         "xaxis": "x2",
         "y": [
          0.6215405681551922,
          0.5360015318099192,
          0.516248543633565,
          0.5076378146709472,
          0.5037150633876866,
          0.5021639861122444,
          0.5018206212814165,
          0.4994636884616394,
          0.49761424605125765,
          0.49617001580018455,
          0.49505896084083806,
          0.5037633622900718,
          0.5121171954395501,
          0.5201437261040763
         ],
         "yaxis": "y2"
        },
        {
         "line": {
          "dash": "solid"
         },
         "marker": {
          "color": "#DD3497",
          "size": 10,
          "symbol": "square"
         },
         "name": "EI",
         "type": "scatter",
         "xaxis": "x2",
         "y": [
          0.6215405681551922,
          0.5126504118050649,
          0.3700069563453221,
          0.332212067171593,
          0.32186436215391595,
          0.31808343073095097,
          0.31629157660826807,
          0.3143671600324769,
          0.3137858405873204,
          0.31426538191907905,
          0.3150104220553453,
          0.3157379645410131,
          0.31661799346570235,
          0.3175299769440344
         ],
         "yaxis": "y2"
        },
        {
         "line": {
          "dash": "dot"
         },
         "marker": {
          "color": "#3e3e3e",
          "size": 10,
          "symbol": "cross"
         },
         "name": "REI",
         "type": "scatter",
         "xaxis": "x2",
         "y": [
          0.6215405681551922,
          0.5126500205583249,
          0.3826163905226987,
          0.33591231009458433,
          0.3187739202129763,
          0.31117248241472395,
          0.306870327500607,
          0.30463048626799033,
          0.30270235240367505,
          0.30131205094651337,
          0.30049466096533245,
          0.2996927649214381,
          0.2990898187739278,
          0.29860655800326696
         ],
         "yaxis": "y2"
        }
       ],
       "layout": {
        "annotations": [
         {
          "font": {
           "size": 20
          },
          "showarrow": false,
          "text": "(i)",
          "x": 0.225,
          "xanchor": "center",
          "xref": "paper",
          "y": 1,
          "yanchor": "bottom",
          "yref": "paper"
         },
         {
          "font": {
           "size": 20
          },
          "showarrow": false,
          "text": "(ii)",
          "x": 0.775,
          "xanchor": "center",
          "xref": "paper",
          "y": 1,
          "yanchor": "bottom",
          "yref": "paper"
         },
         {
          "font": {
           "size": 25
          },
          "showarrow": false,
          "text": "Round",
          "x": 0.5,
          "xanchor": "center",
          "xref": "paper",
          "y": 0,
          "yanchor": "top",
          "yref": "paper",
          "yshift": -30
         },
         {
          "font": {
           "size": 25
          },
          "showarrow": false,
          "text": "Long-term Unfairness",
          "textangle": -90,
          "x": 0,
          "xanchor": "right",
          "xref": "paper",
          "xshift": -40,
          "y": 0.5,
          "yanchor": "middle",
          "yref": "paper"
         }
        ],
        "font": {
         "color": "black",
         "family": "Times New Roman"
        },
        "height": 450,
        "legend": {
         "bgcolor": "rgba(255, 255, 255, 0.7)",
         "bordercolor": "lightgrey",
         "borderwidth": 1,
         "entrywidth": 0.1,
         "entrywidthmode": "pixels",
         "font": {
          "size": 15
         },
         "x": 0.983,
         "xanchor": "right",
         "y": 0.975
        },
        "paper_bgcolor": "white",
        "plot_bgcolor": "white",
        "template": {
         "data": {
          "bar": [
           {
            "error_x": {
             "color": "#2a3f5f"
            },
            "error_y": {
             "color": "#2a3f5f"
            },
            "marker": {
             "line": {
              "color": "#E5ECF6",
              "width": 0.5
             },
             "pattern": {
              "fillmode": "overlay",
              "size": 10,
              "solidity": 0.2
             }
            },
            "type": "bar"
           }
          ],
          "barpolar": [
           {
            "marker": {
             "line": {
              "color": "#E5ECF6",
              "width": 0.5
             },
             "pattern": {
              "fillmode": "overlay",
              "size": 10,
              "solidity": 0.2
             }
            },
            "type": "barpolar"
           }
          ],
          "carpet": [
           {
            "aaxis": {
             "endlinecolor": "#2a3f5f",
             "gridcolor": "white",
             "linecolor": "white",
             "minorgridcolor": "white",
             "startlinecolor": "#2a3f5f"
            },
            "baxis": {
             "endlinecolor": "#2a3f5f",
             "gridcolor": "white",
             "linecolor": "white",
             "minorgridcolor": "white",
             "startlinecolor": "#2a3f5f"
            },
            "type": "carpet"
           }
          ],
          "choropleth": [
           {
            "colorbar": {
             "outlinewidth": 0,
             "ticks": ""
            },
            "type": "choropleth"
           }
          ],
          "contour": [
           {
            "colorbar": {
             "outlinewidth": 0,
             "ticks": ""
            },
            "colorscale": [
             [
              0,
              "#0d0887"
             ],
             [
              0.1111111111111111,
              "#46039f"
             ],
             [
              0.2222222222222222,
              "#7201a8"
             ],
             [
              0.3333333333333333,
              "#9c179e"
             ],
             [
              0.4444444444444444,
              "#bd3786"
             ],
             [
              0.5555555555555556,
              "#d8576b"
             ],
             [
              0.6666666666666666,
              "#ed7953"
             ],
             [
              0.7777777777777778,
              "#fb9f3a"
             ],
             [
              0.8888888888888888,
              "#fdca26"
             ],
             [
              1,
              "#f0f921"
             ]
            ],
            "type": "contour"
           }
          ],
          "contourcarpet": [
           {
            "colorbar": {
             "outlinewidth": 0,
             "ticks": ""
            },
            "type": "contourcarpet"
           }
          ],
          "heatmap": [
           {
            "colorbar": {
             "outlinewidth": 0,
             "ticks": ""
            },
            "colorscale": [
             [
              0,
              "#0d0887"
             ],
             [
              0.1111111111111111,
              "#46039f"
             ],
             [
              0.2222222222222222,
              "#7201a8"
             ],
             [
              0.3333333333333333,
              "#9c179e"
             ],
             [
              0.4444444444444444,
              "#bd3786"
             ],
             [
              0.5555555555555556,
              "#d8576b"
             ],
             [
              0.6666666666666666,
              "#ed7953"
             ],
             [
              0.7777777777777778,
              "#fb9f3a"
             ],
             [
              0.8888888888888888,
              "#fdca26"
             ],
             [
              1,
              "#f0f921"
             ]
            ],
            "type": "heatmap"
           }
          ],
          "heatmapgl": [
           {
            "colorbar": {
             "outlinewidth": 0,
             "ticks": ""
            },
            "colorscale": [
             [
              0,
              "#0d0887"
             ],
             [
              0.1111111111111111,
              "#46039f"
             ],
             [
              0.2222222222222222,
              "#7201a8"
             ],
             [
              0.3333333333333333,
              "#9c179e"
             ],
             [
              0.4444444444444444,
              "#bd3786"
             ],
             [
              0.5555555555555556,
              "#d8576b"
             ],
             [
              0.6666666666666666,
              "#ed7953"
             ],
             [
              0.7777777777777778,
              "#fb9f3a"
             ],
             [
              0.8888888888888888,
              "#fdca26"
             ],
             [
              1,
              "#f0f921"
             ]
            ],
            "type": "heatmapgl"
           }
          ],
          "histogram": [
           {
            "marker": {
             "pattern": {
              "fillmode": "overlay",
              "size": 10,
              "solidity": 0.2
             }
            },
            "type": "histogram"
           }
          ],
          "histogram2d": [
           {
            "colorbar": {
             "outlinewidth": 0,
             "ticks": ""
            },
            "colorscale": [
             [
              0,
              "#0d0887"
             ],
             [
              0.1111111111111111,
              "#46039f"
             ],
             [
              0.2222222222222222,
              "#7201a8"
             ],
             [
              0.3333333333333333,
              "#9c179e"
             ],
             [
              0.4444444444444444,
              "#bd3786"
             ],
             [
              0.5555555555555556,
              "#d8576b"
             ],
             [
              0.6666666666666666,
              "#ed7953"
             ],
             [
              0.7777777777777778,
              "#fb9f3a"
             ],
             [
              0.8888888888888888,
              "#fdca26"
             ],
             [
              1,
              "#f0f921"
             ]
            ],
            "type": "histogram2d"
           }
          ],
          "histogram2dcontour": [
           {
            "colorbar": {
             "outlinewidth": 0,
             "ticks": ""
            },
            "colorscale": [
             [
              0,
              "#0d0887"
             ],
             [
              0.1111111111111111,
              "#46039f"
             ],
             [
              0.2222222222222222,
              "#7201a8"
             ],
             [
              0.3333333333333333,
              "#9c179e"
             ],
             [
              0.4444444444444444,
              "#bd3786"
             ],
             [
              0.5555555555555556,
              "#d8576b"
             ],
             [
              0.6666666666666666,
              "#ed7953"
             ],
             [
              0.7777777777777778,
              "#fb9f3a"
             ],
             [
              0.8888888888888888,
              "#fdca26"
             ],
             [
              1,
              "#f0f921"
             ]
            ],
            "type": "histogram2dcontour"
           }
          ],
          "mesh3d": [
           {
            "colorbar": {
             "outlinewidth": 0,
             "ticks": ""
            },
            "type": "mesh3d"
           }
          ],
          "parcoords": [
           {
            "line": {
             "colorbar": {
              "outlinewidth": 0,
              "ticks": ""
             }
            },
            "type": "parcoords"
           }
          ],
          "pie": [
           {
            "automargin": true,
            "type": "pie"
           }
          ],
          "scatter": [
           {
            "fillpattern": {
             "fillmode": "overlay",
             "size": 10,
             "solidity": 0.2
            },
            "type": "scatter"
           }
          ],
          "scatter3d": [
           {
            "line": {
             "colorbar": {
              "outlinewidth": 0,
              "ticks": ""
             }
            },
            "marker": {
             "colorbar": {
              "outlinewidth": 0,
              "ticks": ""
             }
            },
            "type": "scatter3d"
           }
          ],
          "scattercarpet": [
           {
            "marker": {
             "colorbar": {
              "outlinewidth": 0,
              "ticks": ""
             }
            },
            "type": "scattercarpet"
           }
          ],
          "scattergeo": [
           {
            "marker": {
             "colorbar": {
              "outlinewidth": 0,
              "ticks": ""
             }
            },
            "type": "scattergeo"
           }
          ],
          "scattergl": [
           {
            "marker": {
             "colorbar": {
              "outlinewidth": 0,
              "ticks": ""
             }
            },
            "type": "scattergl"
           }
          ],
          "scattermapbox": [
           {
            "marker": {
             "colorbar": {
              "outlinewidth": 0,
              "ticks": ""
             }
            },
            "type": "scattermapbox"
           }
          ],
          "scatterpolar": [
           {
            "marker": {
             "colorbar": {
              "outlinewidth": 0,
              "ticks": ""
             }
            },
            "type": "scatterpolar"
           }
          ],
          "scatterpolargl": [
           {
            "marker": {
             "colorbar": {
              "outlinewidth": 0,
              "ticks": ""
             }
            },
            "type": "scatterpolargl"
           }
          ],
          "scatterternary": [
           {
            "marker": {
             "colorbar": {
              "outlinewidth": 0,
              "ticks": ""
             }
            },
            "type": "scatterternary"
           }
          ],
          "surface": [
           {
            "colorbar": {
             "outlinewidth": 0,
             "ticks": ""
            },
            "colorscale": [
             [
              0,
              "#0d0887"
             ],
             [
              0.1111111111111111,
              "#46039f"
             ],
             [
              0.2222222222222222,
              "#7201a8"
             ],
             [
              0.3333333333333333,
              "#9c179e"
             ],
             [
              0.4444444444444444,
              "#bd3786"
             ],
             [
              0.5555555555555556,
              "#d8576b"
             ],
             [
              0.6666666666666666,
              "#ed7953"
             ],
             [
              0.7777777777777778,
              "#fb9f3a"
             ],
             [
              0.8888888888888888,
              "#fdca26"
             ],
             [
              1,
              "#f0f921"
             ]
            ],
            "type": "surface"
           }
          ],
          "table": [
           {
            "cells": {
             "fill": {
              "color": "#EBF0F8"
             },
             "line": {
              "color": "white"
             }
            },
            "header": {
             "fill": {
              "color": "#C8D4E3"
             },
             "line": {
              "color": "white"
             }
            },
            "type": "table"
           }
          ]
         },
         "layout": {
          "annotationdefaults": {
           "arrowcolor": "#2a3f5f",
           "arrowhead": 0,
           "arrowwidth": 1
          },
          "autotypenumbers": "strict",
          "coloraxis": {
           "colorbar": {
            "outlinewidth": 0,
            "ticks": ""
           }
          },
          "colorscale": {
           "diverging": [
            [
             0,
             "#8e0152"
            ],
            [
             0.1,
             "#c51b7d"
            ],
            [
             0.2,
             "#de77ae"
            ],
            [
             0.3,
             "#f1b6da"
            ],
            [
             0.4,
             "#fde0ef"
            ],
            [
             0.5,
             "#f7f7f7"
            ],
            [
             0.6,
             "#e6f5d0"
            ],
            [
             0.7,
             "#b8e186"
            ],
            [
             0.8,
             "#7fbc41"
            ],
            [
             0.9,
             "#4d9221"
            ],
            [
             1,
             "#276419"
            ]
           ],
           "sequential": [
            [
             0,
             "#0d0887"
            ],
            [
             0.1111111111111111,
             "#46039f"
            ],
            [
             0.2222222222222222,
             "#7201a8"
            ],
            [
             0.3333333333333333,
             "#9c179e"
            ],
            [
             0.4444444444444444,
             "#bd3786"
            ],
            [
             0.5555555555555556,
             "#d8576b"
            ],
            [
             0.6666666666666666,
             "#ed7953"
            ],
            [
             0.7777777777777778,
             "#fb9f3a"
            ],
            [
             0.8888888888888888,
             "#fdca26"
            ],
            [
             1,
             "#f0f921"
            ]
           ],
           "sequentialminus": [
            [
             0,
             "#0d0887"
            ],
            [
             0.1111111111111111,
             "#46039f"
            ],
            [
             0.2222222222222222,
             "#7201a8"
            ],
            [
             0.3333333333333333,
             "#9c179e"
            ],
            [
             0.4444444444444444,
             "#bd3786"
            ],
            [
             0.5555555555555556,
             "#d8576b"
            ],
            [
             0.6666666666666666,
             "#ed7953"
            ],
            [
             0.7777777777777778,
             "#fb9f3a"
            ],
            [
             0.8888888888888888,
             "#fdca26"
            ],
            [
             1,
             "#f0f921"
            ]
           ]
          },
          "colorway": [
           "#636efa",
           "#EF553B",
           "#00cc96",
           "#ab63fa",
           "#FFA15A",
           "#19d3f3",
           "#FF6692",
           "#B6E880",
           "#FF97FF",
           "#FECB52"
          ],
          "font": {
           "color": "#2a3f5f"
          },
          "geo": {
           "bgcolor": "white",
           "lakecolor": "white",
           "landcolor": "#E5ECF6",
           "showlakes": true,
           "showland": true,
           "subunitcolor": "white"
          },
          "hoverlabel": {
           "align": "left"
          },
          "hovermode": "closest",
          "mapbox": {
           "style": "light"
          },
          "paper_bgcolor": "white",
          "plot_bgcolor": "#E5ECF6",
          "polar": {
           "angularaxis": {
            "gridcolor": "white",
            "linecolor": "white",
            "ticks": ""
           },
           "bgcolor": "#E5ECF6",
           "radialaxis": {
            "gridcolor": "white",
            "linecolor": "white",
            "ticks": ""
           }
          },
          "scene": {
           "xaxis": {
            "backgroundcolor": "#E5ECF6",
            "gridcolor": "white",
            "gridwidth": 2,
            "linecolor": "white",
            "showbackground": true,
            "ticks": "",
            "zerolinecolor": "white"
           },
           "yaxis": {
            "backgroundcolor": "#E5ECF6",
            "gridcolor": "white",
            "gridwidth": 2,
            "linecolor": "white",
            "showbackground": true,
            "ticks": "",
            "zerolinecolor": "white"
           },
           "zaxis": {
            "backgroundcolor": "#E5ECF6",
            "gridcolor": "white",
            "gridwidth": 2,
            "linecolor": "white",
            "showbackground": true,
            "ticks": "",
            "zerolinecolor": "white"
           }
          },
          "shapedefaults": {
           "line": {
            "color": "#2a3f5f"
           }
          },
          "ternary": {
           "aaxis": {
            "gridcolor": "white",
            "linecolor": "white",
            "ticks": ""
           },
           "baxis": {
            "gridcolor": "white",
            "linecolor": "white",
            "ticks": ""
           },
           "bgcolor": "#E5ECF6",
           "caxis": {
            "gridcolor": "white",
            "linecolor": "white",
            "ticks": ""
           }
          },
          "title": {
           "x": 0.05
          },
          "xaxis": {
           "automargin": true,
           "gridcolor": "white",
           "linecolor": "white",
           "ticks": "",
           "title": {
            "standoff": 15
           },
           "zerolinecolor": "white",
           "zerolinewidth": 2
          },
          "yaxis": {
           "automargin": true,
           "gridcolor": "white",
           "linecolor": "white",
           "ticks": "",
           "title": {
            "standoff": 15
           },
           "zerolinecolor": "white",
           "zerolinewidth": 2
          }
         }
        },
        "width": 800,
        "xaxis": {
         "anchor": "y",
         "domain": [
          0,
          0.45
         ],
         "gridcolor": "lightgrey",
         "linecolor": "black",
         "mirror": true,
         "showline": true,
         "title": {
          "font": {
           "size": 25
          }
         },
         "zerolinecolor": "lightgrey",
         "zerolinewidth": 1
        },
        "xaxis2": {
         "anchor": "y2",
         "domain": [
          0.55,
          1
         ],
         "gridcolor": "lightgrey",
         "linecolor": "black",
         "mirror": true,
         "showline": true,
         "title": {
          "font": {
           "size": 25
          }
         },
         "zerolinecolor": "lightgrey",
         "zerolinewidth": 1
        },
        "yaxis": {
         "anchor": "x",
         "domain": [
          0,
          1
         ],
         "gridcolor": "lightgrey",
         "linecolor": "black",
         "mirror": true,
         "showline": true,
         "title": {
          "font": {
           "size": 25
          }
         },
         "zerolinecolor": "lightgrey",
         "zerolinewidth": 1
        },
        "yaxis2": {
         "anchor": "x2",
         "domain": [
          0,
          1
         ],
         "gridcolor": "lightgrey",
         "linecolor": "black",
         "mirror": true,
         "showline": true,
         "title": {
          "font": {
           "size": 25
          }
         },
         "zerolinecolor": "lightgrey",
         "zerolinewidth": 1
        }
       }
      }
     },
     "metadata": {},
     "output_type": "display_data"
    }
   ],
   "source": [
    "colors = [\n",
    "    '#073B4C',\n",
    "    '#FFD166',\n",
    "    '#06D6A0',\n",
    "    '#118AB2',\n",
    "    '#DD3497',\n",
    "    '#3e3e3e',\n",
    "    '#AE017E',\n",
    "    '#7A0177',\n",
    "    '#49006A',\n",
    "]\n",
    "\n",
    "fig = make_subplots(rows=1, cols=2, subplot_titles=['(i)', '(ii)'], x_title='Round', y_title='Long-term Unfairness', )\n",
    "n = 14\n",
    "fig.add_traces([\n",
    "    go.Scatter(y=true_df1[:n]['wd'], name='ERM', marker=dict(color=colors[0], symbol='triangle-down', size=15), line=dict(dash='dashdot'), showlegend=False), \n",
    "    go.Scatter(y=be_df1[:n]['wd'], name='BE', marker=dict(color=colors[1], symbol='circle', size=15), line=dict(dash='dash'), showlegend=False), \n",
    "    go.Scatter(y=ei_df1[:n]['wd'], name='EI', marker=dict(color=colors[4], symbol='square', size=10), line=dict(dash='solid'), showlegend=False), \n",
    "    go.Scatter(y=rei_df1[:n]['wd'], name='REI', marker=dict(color=colors[5], symbol='cross', size=10), line=dict(dash='dot'), showlegend=False), \n",
    "    \n",
    "    go.Scatter(y=true_df2[:n]['wd'], name='ERM', marker=dict(color=colors[0], symbol='triangle-down', size=15), line=dict(dash='dashdot')), \n",
    "    go.Scatter(y=be_df2[:n]['wd'], name='BE', marker=dict(color=colors[1], symbol='circle', size=15), line=dict(dash='dash')), \n",
    "    go.Scatter(y=ei_df2[:n]['wd'], name='EI', marker=dict(color=colors[4], symbol='square', size=10), line=dict(dash='solid')), \n",
    "    go.Scatter(y=rei_df2[:n]['wd'], name='REI', marker=dict(color=colors[5], symbol='cross', size=10), line=dict(dash='dot')), \n",
    "    ],\n",
    "    rows=[1,1,1,1,1,1,1,1], \n",
    "    cols=[1,1,1,1,2,2,2,2]\n",
    ")\n",
    "\n",
    "fig.update_layout(\n",
    "        width = 800,\n",
    "        height = 450,\n",
    "        plot_bgcolor='white',\n",
    "        paper_bgcolor='white',\n",
    "        font=dict(\n",
    "            family='Times New Roman', \n",
    "            color='black'\n",
    "            ),\n",
    "        legend=dict(\n",
    "            x=0.983, \n",
    "            y=0.975, \n",
    "            xanchor='right',\n",
    "            font=dict(size=15), \n",
    "            bgcolor='rgba(255, 255, 255, 0.7)',\n",
    "            bordercolor='lightgrey',\n",
    "            borderwidth=1,\n",
    "            entrywidth=0.1,\n",
    "            entrywidthmode='pixels',\n",
    "            ),\n",
    "        )\n",
    "    \n",
    "fig.update_xaxes(\n",
    "    title=dict(\n",
    "        font=dict(size=25)\n",
    "        ), \n",
    "    showline=True, \n",
    "    mirror=True,\n",
    "    linecolor='black', \n",
    "    gridcolor='lightgrey', \n",
    "    zerolinewidth=1,\n",
    "    zerolinecolor='lightgrey',\n",
    "    )\n",
    "\n",
    "fig.update_yaxes(\n",
    "    title=dict(\n",
    "        font=dict(size=25), \n",
    "        ), \n",
    "    showline=True, \n",
    "    mirror=True,\n",
    "    linecolor='black', \n",
    "    gridcolor='lightgrey',\n",
    "    zerolinewidth=1,\n",
    "    zerolinecolor='lightgrey',\n",
    "    )\n",
    "\n",
    "fig.layout.annotations[-4]['font'] = dict(size=20)\n",
    "fig.layout.annotations[-3]['font'] = dict(size=20)\n",
    "fig.layout.annotations[-2]['font'] = dict(size=25)\n",
    "fig.layout.annotations[-1]['font'] = dict(size=25)\n",
    "\n",
    "fig.show()"
   ]
  },
  {
   "cell_type": "code",
   "execution_count": 357,
   "metadata": {},
   "outputs": [],
   "source": [
    "fig.write_image(f'../figs/long-term-unfairness.pdf')"
   ]
  },
  {
   "cell_type": "code",
   "execution_count": 359,
   "metadata": {},
   "outputs": [
    {
     "name": "stdout",
     "output_type": "stream",
     "text": [
      "This is the format of your plot grid:\n",
      "[ (1,1) x,y     ]  [ (1,2) x2,y2   ]  [ (1,3) x3,y3   ]  [ (1,4) x4,y4   ]  [ (1,5) x5,y5   ]\n",
      "[ (2,1) x6,y6   ]  [ (2,2) x7,y7   ]  [ (2,3) x8,y8   ]  [ (2,4) x9,y9   ]  [ (2,5) x10,y10 ]\n",
      "[ (3,1) x11,y11 ]  [ (3,2) x12,y12 ]  [ (3,3) x13,y13 ]  [ (3,4) x14,y14 ]  [ (3,5) x15,y15 ]\n",
      "[ (4,1) x16,y16 ]  [ (4,2) x17,y17 ]  [ (4,3) x18,y18 ]  [ (4,4) x19,y19 ]  [ (4,5) x20,y20 ]\n",
      "\n"
     ]
    },
    {
     "data": {
      "application/vnd.plotly.v1+json": {
       "config": {
        "plotlyServerURL": "https://plot.ly"
       },
       "data": [
        {
         "marker": {
          "color": "#073B4C"
         },
         "mode": "lines",
         "name": "Group 0",
         "showlegend": false,
         "type": "scatter",
         "x": [
          -8,
          -7.838383838383838,
          -7.6767676767676765,
          -7.515151515151516,
          -7.353535353535354,
          -7.191919191919192,
          -7.03030303030303,
          -6.8686868686868685,
          -6.707070707070707,
          -6.545454545454545,
          -6.383838383838384,
          -6.222222222222222,
          -6.0606060606060606,
          -5.898989898989899,
          -5.737373737373737,
          -5.575757575757576,
          -5.4141414141414135,
          -5.252525252525253,
          -5.090909090909091,
          -4.929292929292929,
          -4.767676767676767,
          -4.6060606060606055,
          -4.444444444444445,
          -4.282828282828282,
          -4.121212121212121,
          -3.9595959595959593,
          -3.7979797979797976,
          -3.636363636363636,
          -3.474747474747474,
          -3.313131313131313,
          -3.1515151515151514,
          -2.9898989898989896,
          -2.828282828282828,
          -2.666666666666666,
          -2.5050505050505043,
          -2.3434343434343425,
          -2.1818181818181817,
          -2.02020202020202,
          -1.8585858585858581,
          -1.6969696969696964,
          -1.5353535353535346,
          -1.3737373737373728,
          -1.212121212121212,
          -1.0505050505050502,
          -0.8888888888888884,
          -0.7272727272727266,
          -0.5656565656565649,
          -0.4040404040404031,
          -0.2424242424242422,
          -0.08080808080808044,
          0.08080808080808133,
          0.24242424242424399,
          0.40404040404040487,
          0.5656565656565657,
          0.7272727272727284,
          0.8888888888888893,
          1.050505050505052,
          1.2121212121212128,
          1.3737373737373737,
          1.5353535353535364,
          1.6969696969696972,
          1.85858585858586,
          2.0202020202020208,
          2.1818181818181834,
          2.3434343434343443,
          2.505050505050505,
          2.666666666666668,
          2.8282828282828287,
          2.9898989898989914,
          3.1515151515151523,
          3.313131313131315,
          3.474747474747476,
          3.6363636363636367,
          3.7979797979797993,
          3.9595959595959602,
          4.121212121212123,
          4.282828282828284,
          4.444444444444445,
          4.606060606060607,
          4.767676767676768,
          4.929292929292931,
          5.090909090909092,
          5.252525252525254,
          5.414141414141415,
          5.575757575757576,
          5.737373737373739,
          5.8989898989899,
          6.060606060606062,
          6.222222222222223,
          6.383838383838386,
          6.545454545454547,
          6.707070707070708,
          6.86868686868687,
          7.030303030303031,
          7.191919191919194,
          7.353535353535355,
          7.515151515151516,
          7.676767676767678,
          7.838383838383839,
          8
         ],
         "xaxis": "x",
         "y": [
          0.00006691511288244268,
          0.00009214765115907566,
          0.00012606902807632927,
          0.00017135493647929596,
          0.0002313923072298501,
          0.0003104311495832036,
          0.0004137573773409701,
          0.0005478861071560304,
          0.0007207736582685475,
          0.0009420449050769076,
          0.0012232307341591908,
          0.0015780081582090222,
          0.002022433192943239,
          0.0025751539961804456,
          0.0032575891261339457,
          0.004094053263393622,
          0.005111810560980302,
          0.0063410341745799,
          0.007814649738427805,
          0.009568040856998061,
          0.011638596333042307,
          0.014065082068639235,
          0.016886825517635318,
          0.020142707308161718,
          0.023869963153426772,
          0.02810280925447194,
          0.032870915748228306,
          0.038197764892533397,
          0.044098942984474386,
          0.05058042673106218,
          0.05763693509221288,
          0.06525042561342526,
          0.07338881909582598,
          0.08200503733799686,
          0.09103643501011349,
          0.10040469809814677,
          0.11001626768499537,
          0.1197633293506375,
          0.12952538576484968,
          0.13917140405585643,
          0.1485625015274872,
          0.15755510478365997,
          0.1660044899875042,
          0.17376858757559924,
          0.1807119149413718,
          0.18670948687698946,
          0.1916505470862426,
          0.1954419655999759,
          0.1980111566953164,
          0.19930838966190523,
          0.19930838966190523,
          0.19801115669531638,
          0.19544196559997587,
          0.19165054708624257,
          0.18670948687698938,
          0.18071191494137176,
          0.17376858757559915,
          0.16600448998750414,
          0.1575551047836599,
          0.1485625015274871,
          0.1391714040558564,
          0.12952538576484957,
          0.11976332935063747,
          0.11001626768499526,
          0.10040469809814666,
          0.09103643501011344,
          0.08200503733799676,
          0.07338881909582592,
          0.06525042561342517,
          0.05763693509221285,
          0.050580426731062104,
          0.04409894298447432,
          0.03819776489253336,
          0.032870915748228244,
          0.02810280925447192,
          0.023869963153426727,
          0.020142707308161673,
          0.016886825517635318,
          0.01406508206863921,
          0.011638596333042291,
          0.00956804085699804,
          0.007814649738427795,
          0.006341034174579886,
          0.00511181056098029,
          0.004094053263393622,
          0.0032575891261339366,
          0.0025751539961804434,
          0.002022433192943234,
          0.001578008158209019,
          0.0012232307341591864,
          0.000942044905076905,
          0.0007207736582685462,
          0.0005478861071560283,
          0.0004137573773409694,
          0.0003104311495832025,
          0.00023139230722984968,
          0.00017135493647929596,
          0.0001260690280763288,
          0.00009214765115907548,
          0.00006691511288244268
         ],
         "yaxis": "y"
        },
        {
         "marker": {
          "color": "#DD3497"
         },
         "mode": "lines",
         "name": "Group 1",
         "showlegend": false,
         "type": "scatter",
         "x": [
          -1,
          -0.9595959595959596,
          -0.9191919191919192,
          -0.8787878787878788,
          -0.8383838383838383,
          -0.797979797979798,
          -0.7575757575757576,
          -0.7171717171717171,
          -0.6767676767676767,
          -0.6363636363636364,
          -0.5959595959595959,
          -0.5555555555555556,
          -0.5151515151515151,
          -0.4747474747474747,
          -0.43434343434343425,
          -0.3939393939393939,
          -0.3535353535353535,
          -0.31313131313131304,
          -0.2727272727272727,
          -0.23232323232323226,
          -0.19191919191919182,
          -0.1515151515151515,
          -0.11111111111111105,
          -0.07070707070707061,
          -0.030303030303030276,
          0.010101010101010166,
          0.05050505050505061,
          0.09090909090909105,
          0.1313131313131315,
          0.1717171717171717,
          0.21212121212121215,
          0.2525252525252526,
          0.29292929292929304,
          0.3333333333333335,
          0.3737373737373739,
          0.41414141414141437,
          0.4545454545454546,
          0.49494949494949503,
          0.5353535353535355,
          0.5757575757575759,
          0.6161616161616164,
          0.6565656565656568,
          0.696969696969697,
          0.7373737373737375,
          0.7777777777777779,
          0.8181818181818183,
          0.8585858585858588,
          0.8989898989898992,
          0.9393939393939394,
          0.9797979797979799,
          1.0202020202020203,
          1.060606060606061,
          1.1010101010101012,
          1.1414141414141414,
          1.181818181818182,
          1.2222222222222223,
          1.262626262626263,
          1.3030303030303032,
          1.3434343434343434,
          1.383838383838384,
          1.4242424242424243,
          1.464646464646465,
          1.5050505050505052,
          1.5454545454545459,
          1.585858585858586,
          1.6262626262626263,
          1.666666666666667,
          1.7070707070707072,
          1.7474747474747478,
          1.787878787878788,
          1.8282828282828287,
          1.868686868686869,
          1.9090909090909092,
          1.9494949494949498,
          1.98989898989899,
          2.0303030303030307,
          2.070707070707071,
          2.111111111111111,
          2.151515151515152,
          2.191919191919192,
          2.2323232323232327,
          2.272727272727273,
          2.3131313131313136,
          2.353535353535354,
          2.393939393939394,
          2.4343434343434347,
          2.474747474747475,
          2.5151515151515156,
          2.555555555555556,
          2.5959595959595965,
          2.6363636363636367,
          2.676767676767677,
          2.7171717171717176,
          2.757575757575758,
          2.7979797979797985,
          2.8383838383838387,
          2.878787878787879,
          2.9191919191919196,
          2.95959595959596,
          3
         ],
         "xaxis": "x",
         "y": [
          0.00026766045152977074,
          0.00036859060463630263,
          0.0005042761123053171,
          0.0006854197459171839,
          0.0009255692289194021,
          0.0012417245983328143,
          0.0016550295093638804,
          0.0021915444286241216,
          0.00288309463307419,
          0.0037681796203076303,
          0.004892922936636763,
          0.006312032632836089,
          0.008089732771772957,
          0.010300615984721782,
          0.013030356504535783,
          0.01637621305357449,
          0.020447242243921207,
          0.0253641366983196,
          0.03125859895371122,
          0.038272163427992244,
          0.046554385332169226,
          0.05626032827455694,
          0.06754730207054127,
          0.08057082923264687,
          0.09547985261370709,
          0.11241123701788776,
          0.13148366299291323,
          0.15279105957013359,
          0.17639577193789754,
          0.20232170692424872,
          0.23054774036885153,
          0.261001702453701,
          0.2935552763833039,
          0.3280201493519874,
          0.36414574004045397,
          0.4016187923925871,
          0.44006507073998147,
          0.47905331740255,
          0.5181015430593987,
          0.5566856162234257,
          0.5942500061099488,
          0.6302204191346399,
          0.6640179599500168,
          0.695074350302397,
          0.7228476597654871,
          0.7468379475079578,
          0.7666021883449704,
          0.7817678623999036,
          0.7920446267812656,
          0.7972335586476209,
          0.7972335586476209,
          0.7920446267812655,
          0.7817678623999035,
          0.7666021883449703,
          0.7468379475079575,
          0.722847659765487,
          0.6950743503023966,
          0.6640179599500166,
          0.6302204191346396,
          0.5942500061099484,
          0.5566856162234256,
          0.5181015430593983,
          0.47905331740254986,
          0.440065070739981,
          0.40161879239258663,
          0.36414574004045375,
          0.32802014935198703,
          0.2935552763833037,
          0.2610017024537007,
          0.2305477403688514,
          0.20232170692424842,
          0.17639577193789727,
          0.15279105957013345,
          0.13148366299291298,
          0.11241123701788767,
          0.09547985261370691,
          0.08057082923264669,
          0.06754730207054127,
          0.05626032827455684,
          0.046554385332169164,
          0.03827216342799216,
          0.03125859895371118,
          0.025364136698319543,
          0.02044724224392116,
          0.01637621305357449,
          0.013030356504535746,
          0.010300615984721774,
          0.008089732771772936,
          0.006312032632836076,
          0.004892922936636746,
          0.00376817962030762,
          0.0028830946330741848,
          0.0021915444286241133,
          0.0016550295093638776,
          0.00124172459833281,
          0.0009255692289193987,
          0.0006854197459171839,
          0.0005042761123053152,
          0.00036859060463630193,
          0.00026766045152977074
         ],
         "yaxis": "y"
        },
        {
         "marker": {
          "color": "#073B4C"
         },
         "mode": "lines",
         "name": "Group 0",
         "showlegend": false,
         "type": "scatter",
         "x": [
          -8,
          -7.838383838383838,
          -7.6767676767676765,
          -7.515151515151516,
          -7.353535353535354,
          -7.191919191919192,
          -7.03030303030303,
          -6.8686868686868685,
          -6.707070707070707,
          -6.545454545454545,
          -6.383838383838384,
          -6.222222222222222,
          -6.0606060606060606,
          -5.898989898989899,
          -5.737373737373737,
          -5.575757575757576,
          -5.4141414141414135,
          -5.252525252525253,
          -5.090909090909091,
          -4.929292929292929,
          -4.767676767676767,
          -4.6060606060606055,
          -4.444444444444445,
          -4.282828282828282,
          -4.121212121212121,
          -3.9595959595959593,
          -3.7979797979797976,
          -3.636363636363636,
          -3.474747474747474,
          -3.313131313131313,
          -3.1515151515151514,
          -2.9898989898989896,
          -2.828282828282828,
          -2.666666666666666,
          -2.5050505050505043,
          -2.3434343434343425,
          -2.1818181818181817,
          -2.02020202020202,
          -1.8585858585858581,
          -1.6969696969696964,
          -1.5353535353535346,
          -1.3737373737373728,
          -1.212121212121212,
          -1.0505050505050502,
          -0.8888888888888884,
          -0.7272727272727266,
          -0.5656565656565649,
          -0.4040404040404031,
          -0.2424242424242422,
          -0.08080808080808044,
          0.08080808080808133,
          0.24242424242424399,
          0.40404040404040487,
          0.5656565656565657,
          0.7272727272727284,
          0.8888888888888893,
          1.050505050505052,
          1.2121212121212128,
          1.3737373737373737,
          1.5353535353535364,
          1.6969696969696972,
          1.85858585858586,
          2.0202020202020208,
          2.1818181818181834,
          2.3434343434343443,
          2.505050505050505,
          2.666666666666668,
          2.8282828282828287,
          2.9898989898989914,
          3.1515151515151523,
          3.313131313131315,
          3.474747474747476,
          3.6363636363636367,
          3.7979797979797993,
          3.9595959595959602,
          4.121212121212123,
          4.282828282828284,
          4.444444444444445,
          4.606060606060607,
          4.767676767676768,
          4.929292929292931,
          5.090909090909092,
          5.252525252525254,
          5.414141414141415,
          5.575757575757576,
          5.737373737373739,
          5.8989898989899,
          6.060606060606062,
          6.222222222222223,
          6.383838383838386,
          6.545454545454547,
          6.707070707070708,
          6.86868686868687,
          7.030303030303031,
          7.191919191919194,
          7.353535353535355,
          7.515151515151516,
          7.676767676767678,
          7.838383838383839,
          8
         ],
         "xaxis": "x6",
         "y": [
          0.00006691511288244268,
          0.00009214765115907566,
          0.00012606902807632927,
          0.00017135493647929596,
          0.0002313923072298501,
          0.0003104311495832036,
          0.0004137573773409701,
          0.0005478861071560304,
          0.0007207736582685475,
          0.0009420449050769076,
          0.0012232307341591908,
          0.0015780081582090222,
          0.002022433192943239,
          0.0025751539961804456,
          0.0032575891261339457,
          0.004094053263393622,
          0.005111810560980302,
          0.0063410341745799,
          0.007814649738427805,
          0.009568040856998061,
          0.011638596333042307,
          0.014065082068639235,
          0.016886825517635318,
          0.020142707308161718,
          0.023869963153426772,
          0.02810280925447194,
          0.032870915748228306,
          0.038197764892533397,
          0.044098942984474386,
          0.05058042673106218,
          0.05763693509221288,
          0.06525042561342526,
          0.07338881909582598,
          0.08200503733799686,
          0.09103643501011349,
          0.10040469809814677,
          0.11001626768499537,
          0.1197633293506375,
          0.12952538576484968,
          0.13917140405585643,
          0.1485625015274872,
          0.15755510478365997,
          0.1660044899875042,
          0.17376858757559924,
          0.1807119149413718,
          0.18670948687698946,
          0.1916505470862426,
          0.1954419655999759,
          0.1980111566953164,
          0.19930838966190523,
          0.19930838966190523,
          0.19801115669531638,
          0.19544196559997587,
          0.19165054708624257,
          0.18670948687698938,
          0.18071191494137176,
          0.17376858757559915,
          0.16600448998750414,
          0.1575551047836599,
          0.1485625015274871,
          0.1391714040558564,
          0.12952538576484957,
          0.11976332935063747,
          0.11001626768499526,
          0.10040469809814666,
          0.09103643501011344,
          0.08200503733799676,
          0.07338881909582592,
          0.06525042561342517,
          0.05763693509221285,
          0.050580426731062104,
          0.04409894298447432,
          0.03819776489253336,
          0.032870915748228244,
          0.02810280925447192,
          0.023869963153426727,
          0.020142707308161673,
          0.016886825517635318,
          0.01406508206863921,
          0.011638596333042291,
          0.00956804085699804,
          0.007814649738427795,
          0.006341034174579886,
          0.00511181056098029,
          0.004094053263393622,
          0.0032575891261339366,
          0.0025751539961804434,
          0.002022433192943234,
          0.001578008158209019,
          0.0012232307341591864,
          0.000942044905076905,
          0.0007207736582685462,
          0.0005478861071560283,
          0.0004137573773409694,
          0.0003104311495832025,
          0.00023139230722984968,
          0.00017135493647929596,
          0.0001260690280763288,
          0.00009214765115907548,
          0.00006691511288244268
         ],
         "yaxis": "y6"
        },
        {
         "marker": {
          "color": "#DD3497"
         },
         "mode": "lines",
         "name": "Group 1",
         "showlegend": false,
         "type": "scatter",
         "x": [
          -1,
          -0.9595959595959596,
          -0.9191919191919192,
          -0.8787878787878788,
          -0.8383838383838383,
          -0.797979797979798,
          -0.7575757575757576,
          -0.7171717171717171,
          -0.6767676767676767,
          -0.6363636363636364,
          -0.5959595959595959,
          -0.5555555555555556,
          -0.5151515151515151,
          -0.4747474747474747,
          -0.43434343434343425,
          -0.3939393939393939,
          -0.3535353535353535,
          -0.31313131313131304,
          -0.2727272727272727,
          -0.23232323232323226,
          -0.19191919191919182,
          -0.1515151515151515,
          -0.11111111111111105,
          -0.07070707070707061,
          -0.030303030303030276,
          0.010101010101010166,
          0.05050505050505061,
          0.09090909090909105,
          0.1313131313131315,
          0.1717171717171717,
          0.21212121212121215,
          0.2525252525252526,
          0.29292929292929304,
          0.3333333333333335,
          0.3737373737373739,
          0.41414141414141437,
          0.4545454545454546,
          0.49494949494949503,
          0.5353535353535355,
          0.5757575757575759,
          0.6161616161616164,
          0.6565656565656568,
          0.696969696969697,
          0.7373737373737375,
          0.7777777777777779,
          0.8181818181818183,
          0.8585858585858588,
          0.8989898989898992,
          0.9393939393939394,
          0.9797979797979799,
          1.0202020202020203,
          1.060606060606061,
          1.1010101010101012,
          1.1414141414141414,
          1.181818181818182,
          1.2222222222222223,
          1.262626262626263,
          1.3030303030303032,
          1.3434343434343434,
          1.383838383838384,
          1.4242424242424243,
          1.464646464646465,
          1.5050505050505052,
          1.5454545454545459,
          1.585858585858586,
          1.6262626262626263,
          1.666666666666667,
          1.7070707070707072,
          1.7474747474747478,
          1.787878787878788,
          1.8282828282828287,
          1.868686868686869,
          1.9090909090909092,
          1.9494949494949498,
          1.98989898989899,
          2.0303030303030307,
          2.070707070707071,
          2.111111111111111,
          2.151515151515152,
          2.191919191919192,
          2.2323232323232327,
          2.272727272727273,
          2.3131313131313136,
          2.353535353535354,
          2.393939393939394,
          2.4343434343434347,
          2.474747474747475,
          2.5151515151515156,
          2.555555555555556,
          2.5959595959595965,
          2.6363636363636367,
          2.676767676767677,
          2.7171717171717176,
          2.757575757575758,
          2.7979797979797985,
          2.8383838383838387,
          2.878787878787879,
          2.9191919191919196,
          2.95959595959596,
          3
         ],
         "xaxis": "x6",
         "y": [
          0.00026766045152977074,
          0.00036859060463630263,
          0.0005042761123053171,
          0.0006854197459171839,
          0.0009255692289194021,
          0.0012417245983328143,
          0.0016550295093638804,
          0.0021915444286241216,
          0.00288309463307419,
          0.0037681796203076303,
          0.004892922936636763,
          0.006312032632836089,
          0.008089732771772957,
          0.010300615984721782,
          0.013030356504535783,
          0.01637621305357449,
          0.020447242243921207,
          0.0253641366983196,
          0.03125859895371122,
          0.038272163427992244,
          0.046554385332169226,
          0.05626032827455694,
          0.06754730207054127,
          0.08057082923264687,
          0.09547985261370709,
          0.11241123701788776,
          0.13148366299291323,
          0.15279105957013359,
          0.17639577193789754,
          0.20232170692424872,
          0.23054774036885153,
          0.261001702453701,
          0.2935552763833039,
          0.3280201493519874,
          0.36414574004045397,
          0.4016187923925871,
          0.44006507073998147,
          0.47905331740255,
          0.5181015430593987,
          0.5566856162234257,
          0.5942500061099488,
          0.6302204191346399,
          0.6640179599500168,
          0.695074350302397,
          0.7228476597654871,
          0.7468379475079578,
          0.7666021883449704,
          0.7817678623999036,
          0.7920446267812656,
          0.7972335586476209,
          0.7972335586476209,
          0.7920446267812655,
          0.7817678623999035,
          0.7666021883449703,
          0.7468379475079575,
          0.722847659765487,
          0.6950743503023966,
          0.6640179599500166,
          0.6302204191346396,
          0.5942500061099484,
          0.5566856162234256,
          0.5181015430593983,
          0.47905331740254986,
          0.440065070739981,
          0.40161879239258663,
          0.36414574004045375,
          0.32802014935198703,
          0.2935552763833037,
          0.2610017024537007,
          0.2305477403688514,
          0.20232170692424842,
          0.17639577193789727,
          0.15279105957013345,
          0.13148366299291298,
          0.11241123701788767,
          0.09547985261370691,
          0.08057082923264669,
          0.06754730207054127,
          0.05626032827455684,
          0.046554385332169164,
          0.03827216342799216,
          0.03125859895371118,
          0.025364136698319543,
          0.02044724224392116,
          0.01637621305357449,
          0.013030356504535746,
          0.010300615984721774,
          0.008089732771772936,
          0.006312032632836076,
          0.004892922936636746,
          0.00376817962030762,
          0.0028830946330741848,
          0.0021915444286241133,
          0.0016550295093638776,
          0.00124172459833281,
          0.0009255692289193987,
          0.0006854197459171839,
          0.0005042761123053152,
          0.00036859060463630193,
          0.00026766045152977074
         ],
         "yaxis": "y6"
        },
        {
         "marker": {
          "color": "#073B4C"
         },
         "mode": "lines",
         "name": "Group 0",
         "showlegend": false,
         "type": "scatter",
         "x": [
          -8,
          -7.838383838383838,
          -7.6767676767676765,
          -7.515151515151516,
          -7.353535353535354,
          -7.191919191919192,
          -7.03030303030303,
          -6.8686868686868685,
          -6.707070707070707,
          -6.545454545454545,
          -6.383838383838384,
          -6.222222222222222,
          -6.0606060606060606,
          -5.898989898989899,
          -5.737373737373737,
          -5.575757575757576,
          -5.4141414141414135,
          -5.252525252525253,
          -5.090909090909091,
          -4.929292929292929,
          -4.767676767676767,
          -4.6060606060606055,
          -4.444444444444445,
          -4.282828282828282,
          -4.121212121212121,
          -3.9595959595959593,
          -3.7979797979797976,
          -3.636363636363636,
          -3.474747474747474,
          -3.313131313131313,
          -3.1515151515151514,
          -2.9898989898989896,
          -2.828282828282828,
          -2.666666666666666,
          -2.5050505050505043,
          -2.3434343434343425,
          -2.1818181818181817,
          -2.02020202020202,
          -1.8585858585858581,
          -1.6969696969696964,
          -1.5353535353535346,
          -1.3737373737373728,
          -1.212121212121212,
          -1.0505050505050502,
          -0.8888888888888884,
          -0.7272727272727266,
          -0.5656565656565649,
          -0.4040404040404031,
          -0.2424242424242422,
          -0.08080808080808044,
          0.08080808080808133,
          0.24242424242424399,
          0.40404040404040487,
          0.5656565656565657,
          0.7272727272727284,
          0.8888888888888893,
          1.050505050505052,
          1.2121212121212128,
          1.3737373737373737,
          1.5353535353535364,
          1.6969696969696972,
          1.85858585858586,
          2.0202020202020208,
          2.1818181818181834,
          2.3434343434343443,
          2.505050505050505,
          2.666666666666668,
          2.8282828282828287,
          2.9898989898989914,
          3.1515151515151523,
          3.313131313131315,
          3.474747474747476,
          3.6363636363636367,
          3.7979797979797993,
          3.9595959595959602,
          4.121212121212123,
          4.282828282828284,
          4.444444444444445,
          4.606060606060607,
          4.767676767676768,
          4.929292929292931,
          5.090909090909092,
          5.252525252525254,
          5.414141414141415,
          5.575757575757576,
          5.737373737373739,
          5.8989898989899,
          6.060606060606062,
          6.222222222222223,
          6.383838383838386,
          6.545454545454547,
          6.707070707070708,
          6.86868686868687,
          7.030303030303031,
          7.191919191919194,
          7.353535353535355,
          7.515151515151516,
          7.676767676767678,
          7.838383838383839,
          8
         ],
         "xaxis": "x11",
         "y": [
          0.00006691511288244268,
          0.00009214765115907566,
          0.00012606902807632927,
          0.00017135493647929596,
          0.0002313923072298501,
          0.0003104311495832036,
          0.0004137573773409701,
          0.0005478861071560304,
          0.0007207736582685475,
          0.0009420449050769076,
          0.0012232307341591908,
          0.0015780081582090222,
          0.002022433192943239,
          0.0025751539961804456,
          0.0032575891261339457,
          0.004094053263393622,
          0.005111810560980302,
          0.0063410341745799,
          0.007814649738427805,
          0.009568040856998061,
          0.011638596333042307,
          0.014065082068639235,
          0.016886825517635318,
          0.020142707308161718,
          0.023869963153426772,
          0.02810280925447194,
          0.032870915748228306,
          0.038197764892533397,
          0.044098942984474386,
          0.05058042673106218,
          0.05763693509221288,
          0.06525042561342526,
          0.07338881909582598,
          0.08200503733799686,
          0.09103643501011349,
          0.10040469809814677,
          0.11001626768499537,
          0.1197633293506375,
          0.12952538576484968,
          0.13917140405585643,
          0.1485625015274872,
          0.15755510478365997,
          0.1660044899875042,
          0.17376858757559924,
          0.1807119149413718,
          0.18670948687698946,
          0.1916505470862426,
          0.1954419655999759,
          0.1980111566953164,
          0.19930838966190523,
          0.19930838966190523,
          0.19801115669531638,
          0.19544196559997587,
          0.19165054708624257,
          0.18670948687698938,
          0.18071191494137176,
          0.17376858757559915,
          0.16600448998750414,
          0.1575551047836599,
          0.1485625015274871,
          0.1391714040558564,
          0.12952538576484957,
          0.11976332935063747,
          0.11001626768499526,
          0.10040469809814666,
          0.09103643501011344,
          0.08200503733799676,
          0.07338881909582592,
          0.06525042561342517,
          0.05763693509221285,
          0.050580426731062104,
          0.04409894298447432,
          0.03819776489253336,
          0.032870915748228244,
          0.02810280925447192,
          0.023869963153426727,
          0.020142707308161673,
          0.016886825517635318,
          0.01406508206863921,
          0.011638596333042291,
          0.00956804085699804,
          0.007814649738427795,
          0.006341034174579886,
          0.00511181056098029,
          0.004094053263393622,
          0.0032575891261339366,
          0.0025751539961804434,
          0.002022433192943234,
          0.001578008158209019,
          0.0012232307341591864,
          0.000942044905076905,
          0.0007207736582685462,
          0.0005478861071560283,
          0.0004137573773409694,
          0.0003104311495832025,
          0.00023139230722984968,
          0.00017135493647929596,
          0.0001260690280763288,
          0.00009214765115907548,
          0.00006691511288244268
         ],
         "yaxis": "y11"
        },
        {
         "marker": {
          "color": "#DD3497"
         },
         "mode": "lines",
         "name": "Group 1",
         "showlegend": false,
         "type": "scatter",
         "x": [
          -1,
          -0.9595959595959596,
          -0.9191919191919192,
          -0.8787878787878788,
          -0.8383838383838383,
          -0.797979797979798,
          -0.7575757575757576,
          -0.7171717171717171,
          -0.6767676767676767,
          -0.6363636363636364,
          -0.5959595959595959,
          -0.5555555555555556,
          -0.5151515151515151,
          -0.4747474747474747,
          -0.43434343434343425,
          -0.3939393939393939,
          -0.3535353535353535,
          -0.31313131313131304,
          -0.2727272727272727,
          -0.23232323232323226,
          -0.19191919191919182,
          -0.1515151515151515,
          -0.11111111111111105,
          -0.07070707070707061,
          -0.030303030303030276,
          0.010101010101010166,
          0.05050505050505061,
          0.09090909090909105,
          0.1313131313131315,
          0.1717171717171717,
          0.21212121212121215,
          0.2525252525252526,
          0.29292929292929304,
          0.3333333333333335,
          0.3737373737373739,
          0.41414141414141437,
          0.4545454545454546,
          0.49494949494949503,
          0.5353535353535355,
          0.5757575757575759,
          0.6161616161616164,
          0.6565656565656568,
          0.696969696969697,
          0.7373737373737375,
          0.7777777777777779,
          0.8181818181818183,
          0.8585858585858588,
          0.8989898989898992,
          0.9393939393939394,
          0.9797979797979799,
          1.0202020202020203,
          1.060606060606061,
          1.1010101010101012,
          1.1414141414141414,
          1.181818181818182,
          1.2222222222222223,
          1.262626262626263,
          1.3030303030303032,
          1.3434343434343434,
          1.383838383838384,
          1.4242424242424243,
          1.464646464646465,
          1.5050505050505052,
          1.5454545454545459,
          1.585858585858586,
          1.6262626262626263,
          1.666666666666667,
          1.7070707070707072,
          1.7474747474747478,
          1.787878787878788,
          1.8282828282828287,
          1.868686868686869,
          1.9090909090909092,
          1.9494949494949498,
          1.98989898989899,
          2.0303030303030307,
          2.070707070707071,
          2.111111111111111,
          2.151515151515152,
          2.191919191919192,
          2.2323232323232327,
          2.272727272727273,
          2.3131313131313136,
          2.353535353535354,
          2.393939393939394,
          2.4343434343434347,
          2.474747474747475,
          2.5151515151515156,
          2.555555555555556,
          2.5959595959595965,
          2.6363636363636367,
          2.676767676767677,
          2.7171717171717176,
          2.757575757575758,
          2.7979797979797985,
          2.8383838383838387,
          2.878787878787879,
          2.9191919191919196,
          2.95959595959596,
          3
         ],
         "xaxis": "x11",
         "y": [
          0.00026766045152977074,
          0.00036859060463630263,
          0.0005042761123053171,
          0.0006854197459171839,
          0.0009255692289194021,
          0.0012417245983328143,
          0.0016550295093638804,
          0.0021915444286241216,
          0.00288309463307419,
          0.0037681796203076303,
          0.004892922936636763,
          0.006312032632836089,
          0.008089732771772957,
          0.010300615984721782,
          0.013030356504535783,
          0.01637621305357449,
          0.020447242243921207,
          0.0253641366983196,
          0.03125859895371122,
          0.038272163427992244,
          0.046554385332169226,
          0.05626032827455694,
          0.06754730207054127,
          0.08057082923264687,
          0.09547985261370709,
          0.11241123701788776,
          0.13148366299291323,
          0.15279105957013359,
          0.17639577193789754,
          0.20232170692424872,
          0.23054774036885153,
          0.261001702453701,
          0.2935552763833039,
          0.3280201493519874,
          0.36414574004045397,
          0.4016187923925871,
          0.44006507073998147,
          0.47905331740255,
          0.5181015430593987,
          0.5566856162234257,
          0.5942500061099488,
          0.6302204191346399,
          0.6640179599500168,
          0.695074350302397,
          0.7228476597654871,
          0.7468379475079578,
          0.7666021883449704,
          0.7817678623999036,
          0.7920446267812656,
          0.7972335586476209,
          0.7972335586476209,
          0.7920446267812655,
          0.7817678623999035,
          0.7666021883449703,
          0.7468379475079575,
          0.722847659765487,
          0.6950743503023966,
          0.6640179599500166,
          0.6302204191346396,
          0.5942500061099484,
          0.5566856162234256,
          0.5181015430593983,
          0.47905331740254986,
          0.440065070739981,
          0.40161879239258663,
          0.36414574004045375,
          0.32802014935198703,
          0.2935552763833037,
          0.2610017024537007,
          0.2305477403688514,
          0.20232170692424842,
          0.17639577193789727,
          0.15279105957013345,
          0.13148366299291298,
          0.11241123701788767,
          0.09547985261370691,
          0.08057082923264669,
          0.06754730207054127,
          0.05626032827455684,
          0.046554385332169164,
          0.03827216342799216,
          0.03125859895371118,
          0.025364136698319543,
          0.02044724224392116,
          0.01637621305357449,
          0.013030356504535746,
          0.010300615984721774,
          0.008089732771772936,
          0.006312032632836076,
          0.004892922936636746,
          0.00376817962030762,
          0.0028830946330741848,
          0.0021915444286241133,
          0.0016550295093638776,
          0.00124172459833281,
          0.0009255692289193987,
          0.0006854197459171839,
          0.0005042761123053152,
          0.00036859060463630193,
          0.00026766045152977074
         ],
         "yaxis": "y11"
        },
        {
         "marker": {
          "color": "#073B4C"
         },
         "mode": "lines",
         "name": "Group 0",
         "showlegend": false,
         "type": "scatter",
         "x": [
          -8,
          -7.838383838383838,
          -7.6767676767676765,
          -7.515151515151516,
          -7.353535353535354,
          -7.191919191919192,
          -7.03030303030303,
          -6.8686868686868685,
          -6.707070707070707,
          -6.545454545454545,
          -6.383838383838384,
          -6.222222222222222,
          -6.0606060606060606,
          -5.898989898989899,
          -5.737373737373737,
          -5.575757575757576,
          -5.4141414141414135,
          -5.252525252525253,
          -5.090909090909091,
          -4.929292929292929,
          -4.767676767676767,
          -4.6060606060606055,
          -4.444444444444445,
          -4.282828282828282,
          -4.121212121212121,
          -3.9595959595959593,
          -3.7979797979797976,
          -3.636363636363636,
          -3.474747474747474,
          -3.313131313131313,
          -3.1515151515151514,
          -2.9898989898989896,
          -2.828282828282828,
          -2.666666666666666,
          -2.5050505050505043,
          -2.3434343434343425,
          -2.1818181818181817,
          -2.02020202020202,
          -1.8585858585858581,
          -1.6969696969696964,
          -1.5353535353535346,
          -1.3737373737373728,
          -1.212121212121212,
          -1.0505050505050502,
          -0.8888888888888884,
          -0.7272727272727266,
          -0.5656565656565649,
          -0.4040404040404031,
          -0.2424242424242422,
          -0.08080808080808044,
          0.08080808080808133,
          0.24242424242424399,
          0.40404040404040487,
          0.5656565656565657,
          0.7272727272727284,
          0.8888888888888893,
          1.050505050505052,
          1.2121212121212128,
          1.3737373737373737,
          1.5353535353535364,
          1.6969696969696972,
          1.85858585858586,
          2.0202020202020208,
          2.1818181818181834,
          2.3434343434343443,
          2.505050505050505,
          2.666666666666668,
          2.8282828282828287,
          2.9898989898989914,
          3.1515151515151523,
          3.313131313131315,
          3.474747474747476,
          3.6363636363636367,
          3.7979797979797993,
          3.9595959595959602,
          4.121212121212123,
          4.282828282828284,
          4.444444444444445,
          4.606060606060607,
          4.767676767676768,
          4.929292929292931,
          5.090909090909092,
          5.252525252525254,
          5.414141414141415,
          5.575757575757576,
          5.737373737373739,
          5.8989898989899,
          6.060606060606062,
          6.222222222222223,
          6.383838383838386,
          6.545454545454547,
          6.707070707070708,
          6.86868686868687,
          7.030303030303031,
          7.191919191919194,
          7.353535353535355,
          7.515151515151516,
          7.676767676767678,
          7.838383838383839,
          8
         ],
         "xaxis": "x16",
         "y": [
          0.00006691511288244268,
          0.00009214765115907566,
          0.00012606902807632927,
          0.00017135493647929596,
          0.0002313923072298501,
          0.0003104311495832036,
          0.0004137573773409701,
          0.0005478861071560304,
          0.0007207736582685475,
          0.0009420449050769076,
          0.0012232307341591908,
          0.0015780081582090222,
          0.002022433192943239,
          0.0025751539961804456,
          0.0032575891261339457,
          0.004094053263393622,
          0.005111810560980302,
          0.0063410341745799,
          0.007814649738427805,
          0.009568040856998061,
          0.011638596333042307,
          0.014065082068639235,
          0.016886825517635318,
          0.020142707308161718,
          0.023869963153426772,
          0.02810280925447194,
          0.032870915748228306,
          0.038197764892533397,
          0.044098942984474386,
          0.05058042673106218,
          0.05763693509221288,
          0.06525042561342526,
          0.07338881909582598,
          0.08200503733799686,
          0.09103643501011349,
          0.10040469809814677,
          0.11001626768499537,
          0.1197633293506375,
          0.12952538576484968,
          0.13917140405585643,
          0.1485625015274872,
          0.15755510478365997,
          0.1660044899875042,
          0.17376858757559924,
          0.1807119149413718,
          0.18670948687698946,
          0.1916505470862426,
          0.1954419655999759,
          0.1980111566953164,
          0.19930838966190523,
          0.19930838966190523,
          0.19801115669531638,
          0.19544196559997587,
          0.19165054708624257,
          0.18670948687698938,
          0.18071191494137176,
          0.17376858757559915,
          0.16600448998750414,
          0.1575551047836599,
          0.1485625015274871,
          0.1391714040558564,
          0.12952538576484957,
          0.11976332935063747,
          0.11001626768499526,
          0.10040469809814666,
          0.09103643501011344,
          0.08200503733799676,
          0.07338881909582592,
          0.06525042561342517,
          0.05763693509221285,
          0.050580426731062104,
          0.04409894298447432,
          0.03819776489253336,
          0.032870915748228244,
          0.02810280925447192,
          0.023869963153426727,
          0.020142707308161673,
          0.016886825517635318,
          0.01406508206863921,
          0.011638596333042291,
          0.00956804085699804,
          0.007814649738427795,
          0.006341034174579886,
          0.00511181056098029,
          0.004094053263393622,
          0.0032575891261339366,
          0.0025751539961804434,
          0.002022433192943234,
          0.001578008158209019,
          0.0012232307341591864,
          0.000942044905076905,
          0.0007207736582685462,
          0.0005478861071560283,
          0.0004137573773409694,
          0.0003104311495832025,
          0.00023139230722984968,
          0.00017135493647929596,
          0.0001260690280763288,
          0.00009214765115907548,
          0.00006691511288244268
         ],
         "yaxis": "y16"
        },
        {
         "marker": {
          "color": "#DD3497"
         },
         "mode": "lines",
         "name": "Group 1",
         "showlegend": false,
         "type": "scatter",
         "x": [
          -1,
          -0.9595959595959596,
          -0.9191919191919192,
          -0.8787878787878788,
          -0.8383838383838383,
          -0.797979797979798,
          -0.7575757575757576,
          -0.7171717171717171,
          -0.6767676767676767,
          -0.6363636363636364,
          -0.5959595959595959,
          -0.5555555555555556,
          -0.5151515151515151,
          -0.4747474747474747,
          -0.43434343434343425,
          -0.3939393939393939,
          -0.3535353535353535,
          -0.31313131313131304,
          -0.2727272727272727,
          -0.23232323232323226,
          -0.19191919191919182,
          -0.1515151515151515,
          -0.11111111111111105,
          -0.07070707070707061,
          -0.030303030303030276,
          0.010101010101010166,
          0.05050505050505061,
          0.09090909090909105,
          0.1313131313131315,
          0.1717171717171717,
          0.21212121212121215,
          0.2525252525252526,
          0.29292929292929304,
          0.3333333333333335,
          0.3737373737373739,
          0.41414141414141437,
          0.4545454545454546,
          0.49494949494949503,
          0.5353535353535355,
          0.5757575757575759,
          0.6161616161616164,
          0.6565656565656568,
          0.696969696969697,
          0.7373737373737375,
          0.7777777777777779,
          0.8181818181818183,
          0.8585858585858588,
          0.8989898989898992,
          0.9393939393939394,
          0.9797979797979799,
          1.0202020202020203,
          1.060606060606061,
          1.1010101010101012,
          1.1414141414141414,
          1.181818181818182,
          1.2222222222222223,
          1.262626262626263,
          1.3030303030303032,
          1.3434343434343434,
          1.383838383838384,
          1.4242424242424243,
          1.464646464646465,
          1.5050505050505052,
          1.5454545454545459,
          1.585858585858586,
          1.6262626262626263,
          1.666666666666667,
          1.7070707070707072,
          1.7474747474747478,
          1.787878787878788,
          1.8282828282828287,
          1.868686868686869,
          1.9090909090909092,
          1.9494949494949498,
          1.98989898989899,
          2.0303030303030307,
          2.070707070707071,
          2.111111111111111,
          2.151515151515152,
          2.191919191919192,
          2.2323232323232327,
          2.272727272727273,
          2.3131313131313136,
          2.353535353535354,
          2.393939393939394,
          2.4343434343434347,
          2.474747474747475,
          2.5151515151515156,
          2.555555555555556,
          2.5959595959595965,
          2.6363636363636367,
          2.676767676767677,
          2.7171717171717176,
          2.757575757575758,
          2.7979797979797985,
          2.8383838383838387,
          2.878787878787879,
          2.9191919191919196,
          2.95959595959596,
          3
         ],
         "xaxis": "x16",
         "y": [
          0.00026766045152977074,
          0.00036859060463630263,
          0.0005042761123053171,
          0.0006854197459171839,
          0.0009255692289194021,
          0.0012417245983328143,
          0.0016550295093638804,
          0.0021915444286241216,
          0.00288309463307419,
          0.0037681796203076303,
          0.004892922936636763,
          0.006312032632836089,
          0.008089732771772957,
          0.010300615984721782,
          0.013030356504535783,
          0.01637621305357449,
          0.020447242243921207,
          0.0253641366983196,
          0.03125859895371122,
          0.038272163427992244,
          0.046554385332169226,
          0.05626032827455694,
          0.06754730207054127,
          0.08057082923264687,
          0.09547985261370709,
          0.11241123701788776,
          0.13148366299291323,
          0.15279105957013359,
          0.17639577193789754,
          0.20232170692424872,
          0.23054774036885153,
          0.261001702453701,
          0.2935552763833039,
          0.3280201493519874,
          0.36414574004045397,
          0.4016187923925871,
          0.44006507073998147,
          0.47905331740255,
          0.5181015430593987,
          0.5566856162234257,
          0.5942500061099488,
          0.6302204191346399,
          0.6640179599500168,
          0.695074350302397,
          0.7228476597654871,
          0.7468379475079578,
          0.7666021883449704,
          0.7817678623999036,
          0.7920446267812656,
          0.7972335586476209,
          0.7972335586476209,
          0.7920446267812655,
          0.7817678623999035,
          0.7666021883449703,
          0.7468379475079575,
          0.722847659765487,
          0.6950743503023966,
          0.6640179599500166,
          0.6302204191346396,
          0.5942500061099484,
          0.5566856162234256,
          0.5181015430593983,
          0.47905331740254986,
          0.440065070739981,
          0.40161879239258663,
          0.36414574004045375,
          0.32802014935198703,
          0.2935552763833037,
          0.2610017024537007,
          0.2305477403688514,
          0.20232170692424842,
          0.17639577193789727,
          0.15279105957013345,
          0.13148366299291298,
          0.11241123701788767,
          0.09547985261370691,
          0.08057082923264669,
          0.06754730207054127,
          0.05626032827455684,
          0.046554385332169164,
          0.03827216342799216,
          0.03125859895371118,
          0.025364136698319543,
          0.02044724224392116,
          0.01637621305357449,
          0.013030356504535746,
          0.010300615984721774,
          0.008089732771772936,
          0.006312032632836076,
          0.004892922936636746,
          0.00376817962030762,
          0.0028830946330741848,
          0.0021915444286241133,
          0.0016550295093638776,
          0.00124172459833281,
          0.0009255692289193987,
          0.0006854197459171839,
          0.0005042761123053152,
          0.00036859060463630193,
          0.00026766045152977074
         ],
         "yaxis": "y16"
        },
        {
         "marker": {
          "color": "#073B4C"
         },
         "mode": "lines",
         "name": "Group 0",
         "showlegend": false,
         "type": "scatter",
         "x": [
          -13.747601356309579,
          -13.45756820862811,
          -13.167535060946642,
          -12.877501913265174,
          -12.587468765583706,
          -12.297435617902238,
          -12.00740247022077,
          -11.717369322539302,
          -11.427336174857835,
          -11.137303027176365,
          -10.847269879494899,
          -10.55723673181343,
          -10.267203584131963,
          -9.977170436450495,
          -9.687137288769026,
          -9.397104141087558,
          -9.10707099340609,
          -8.817037845724622,
          -8.527004698043154,
          -8.236971550361686,
          -7.9469384026802175,
          -7.65690525499875,
          -7.366872107317282,
          -7.076838959635814,
          -6.786805811954346,
          -6.496772664272878,
          -6.206739516591409,
          -5.916706368909941,
          -5.626673221228474,
          -5.336640073547006,
          -5.046606925865538,
          -4.75657377818407,
          -4.466540630502601,
          -4.176507482821133,
          -3.886474335139665,
          -3.596441187458197,
          -3.306408039776729,
          -3.0163748920952607,
          -2.7263417444137925,
          -2.4363085967323244,
          -2.146275449050856,
          -1.8562423013693898,
          -1.5662091536879217,
          -1.2761760060064535,
          -0.9861428583249854,
          -0.6961097106435172,
          -0.4060765629620491,
          -0.11604341528058093,
          0.17398973240088722,
          0.46402288008235537,
          0.7540560277638235,
          1.0440891754452917,
          1.3341223231267598,
          1.624155470808228,
          1.9141886184896961,
          2.2042217661711643,
          2.4942549138526307,
          2.7842880615341006,
          3.074321209215567,
          3.364354356897037,
          3.6543875045785033,
          3.944420652259973,
          4.2344537999414396,
          4.5244869476229095,
          4.814520095304376,
          5.104553242985842,
          5.394586390667312,
          5.6846195383487785,
          5.9746526860302485,
          6.264685833711715,
          6.554718981393185,
          6.844752129074651,
          7.134785276756121,
          7.424818424437587,
          7.714851572119057,
          8.004884719800524,
          8.294917867481994,
          8.58495101516346,
          8.87498416284493,
          9.165017310526396,
          9.455050458207866,
          9.745083605889333,
          10.035116753570799,
          10.325149901252269,
          10.615183048933735,
          10.905216196615205,
          11.195249344296672,
          11.485282491978142,
          11.775315639659608,
          12.065348787341078,
          12.355381935022544,
          12.645415082704014,
          12.93544823038548,
          13.22548137806695,
          13.515514525748417,
          13.805547673429887,
          14.095580821111353,
          14.38561396879282,
          14.67564711647429,
          14.96568026415576
         ],
         "xaxis": "x2",
         "y": [
          0.00003728733692898359,
          0.00005134775042551603,
          0.00007024987515824666,
          0.00009548469659123234,
          0.00012893952577816174,
          0.00017298260989406065,
          0.00023055943674292682,
          0.00030530044703244263,
          0.0004016391677110518,
          0.0005249389004176893,
          0.0006816250404689851,
          0.0008793188763679591,
          0.0011269673565987685,
          0.0014349618578435184,
          0.0018152375164597566,
          0.00228134328496989,
          0.002848471660494208,
          0.0035334361336450456,
          0.004354583968059118,
          0.005331632090525498,
          0.006485414791319105,
          0.00783753372647694,
          0.009409903467445819,
          0.011224189599452832,
          0.013301141106163776,
          0.015659824398165177,
          0.01831677266721034,
          0.021285071012047876,
          0.0245734046382454,
          0.028185103966666663,
          0.032117226225305995,
          0.036359717555609856,
          0.040894702356009734,
          0.045695947079513397,
          0.0507285436549906,
          0.05594885289688848,
          0.061304740650239824,
          0.06673612911748905,
          0.07217587315970497,
          0.07755095688214877,
          0.08278399020561941,
          0.08779496923618108,
          0.09250324901584764,
          0.0968296636364941,
          0.10069871766246023,
          0.10404076515944458,
          0.10679408901817422,
          0.10890679410781105,
          0.11033843323805068,
          0.11106129479528305,
          0.11106129479528305,
          0.11033843323805069,
          0.10890679410781105,
          0.10679408901817422,
          0.1040407651594446,
          0.10069871766246026,
          0.09682966363649415,
          0.09250324901584767,
          0.08779496923618113,
          0.08278399020561941,
          0.07755095688214883,
          0.07217587315970497,
          0.06673612911748907,
          0.061304740650239824,
          0.05594885289688853,
          0.050728543654990646,
          0.04569594707951343,
          0.0408947023560098,
          0.0363597175556099,
          0.032117226225306036,
          0.02818510396666668,
          0.024573404638245446,
          0.021285071012047893,
          0.018316772667210365,
          0.015659824398165184,
          0.013301141106163787,
          0.011224189599452832,
          0.00940990346744583,
          0.00783753372647694,
          0.006485414791319111,
          0.005331632090525498,
          0.004354583968059121,
          0.0035334361336450534,
          0.0028484716604942114,
          0.0022813432849698952,
          0.0018152375164597586,
          0.0014349618578435237,
          0.0011269673565987696,
          0.0008793188763679614,
          0.0006816250404689857,
          0.0005249389004176897,
          0.00040163916771105253,
          0.0003053004470324428,
          0.00023055943674292682,
          0.0001729826098940611,
          0.00012893952577816174,
          0.00009548469659123242,
          0.00007024987515824691,
          0.000051347750425516115,
          0.00003728733692898359
         ],
         "yaxis": "y2"
        },
        {
         "marker": {
          "color": "#DD3497"
         },
         "mode": "lines",
         "name": "Group 1",
         "showlegend": false,
         "type": "scatter",
         "x": [
          -9.795799041253558,
          -9.461897258488081,
          -9.127995475722606,
          -8.79409369295713,
          -8.460191910191655,
          -8.126290127426179,
          -7.792388344660704,
          -7.458486561895228,
          -7.124584779129753,
          -6.790682996364277,
          -6.456781213598802,
          -6.122879430833326,
          -5.78897764806785,
          -5.4550758653023745,
          -5.121174082536899,
          -4.787272299771423,
          -4.453370517005948,
          -4.119468734240472,
          -3.7855669514749968,
          -3.4516651687095212,
          -3.1177633859440457,
          -2.78386160317857,
          -2.4499598204130946,
          -2.116058037647619,
          -1.7821562548821426,
          -1.448254472116668,
          -1.1143526893511915,
          -0.7804509065857168,
          -0.44654912382024037,
          -0.1126473410547657,
          0.22125444171071074,
          0.5551562244761854,
          0.8890580072416618,
          1.2229597900071383,
          1.556861572772613,
          1.8907633555380894,
          2.224665138303564,
          2.5585669210690405,
          2.892468703834515,
          3.2263704865999916,
          3.5602722693654663,
          3.8941740521309427,
          4.228075834896417,
          4.561977617661894,
          4.8958794004273685,
          5.229781183192845,
          5.56368296595832,
          5.897584748723796,
          6.2314865314892725,
          6.565388314254749,
          6.899290097020222,
          7.233191879785698,
          7.567093662551175,
          7.900995445316651,
          8.234897228082124,
          8.5687990108476,
          8.902700793613077,
          9.236602576378553,
          9.570504359144026,
          9.904406141909503,
          10.238307924674979,
          10.572209707440456,
          10.906111490205928,
          11.240013272971405,
          11.573915055736881,
          11.907816838502358,
          12.241718621267834,
          12.575620404033307,
          12.909522186798783,
          13.24342396956426,
          13.577325752329736,
          13.91122753509521,
          14.245129317860686,
          14.579031100626162,
          14.912932883391639,
          15.246834666157111,
          15.580736448922588,
          15.914638231688064,
          16.24854001445354,
          16.582441797219012,
          16.916343579984492,
          17.250245362749965,
          17.584147145515445,
          17.918048928280918,
          18.25195071104639,
          18.58585249381187,
          18.919754276577343,
          19.253656059342823,
          19.587557842108296,
          19.92145962487377,
          20.25536140763925,
          20.589263190404722,
          20.923164973170195,
          21.257066755935675,
          21.590968538701148,
          21.924870321466628,
          22.2587721042321,
          22.592673886997574,
          22.926575669763054,
          23.260477452528526
         ],
         "xaxis": "x2",
         "y": [
          0.00003238845749370688,
          0.000044601587805043296,
          0.00006102031635658322,
          0.00008293974017867538,
          0.00011199921190077179,
          0.00015025583399465862,
          0.0002002681106173822,
          0.0002651895084476744,
          0.00034887106944625143,
          0.0004559714547422095,
          0.0005920718793064459,
          0.0007637923326329131,
          0.0009789042965313583,
          0.0012464339093556816,
          0.00157674824712781,
          0.001981616175875691,
          0.0024742341742896934,
          0.0030692067454228386,
          0.003782470655409842,
          0.0046311523846542454,
          0.005633348975759697,
          0.006807824019155878,
          0.00817361290927573,
          0.009749534766603521,
          0.011553612534874209,
          0.01360240764431316,
          0.015910281125297986,
          0.018488598932051355,
          0.021344905191735986,
          0.02448209276834982,
          0.027897605516727545,
          0.0315827104728865,
          0.035521880564923496,
          0.0396923288578722,
          0.0440637335676872,
          0.04859818890589589,
          0.05325041019943767,
          0.057968212783150015,
          0.06269327317090342,
          0.06736216843153991,
          0.07190767613790108,
          0.07626030345591822,
          0.08035000071165535,
          0.08410800296072558,
          0.0874687334977314,
          0.09037169660030386,
          0.0927632836673748,
          0.09459841764657972,
          0.09584196537444258,
          0.09646985604051096,
          0.09646985604051096,
          0.09584196537444258,
          0.09459841764657972,
          0.0927632836673748,
          0.09037169660030388,
          0.08746873349773142,
          0.08410800296072558,
          0.08035000071165535,
          0.07626030345591826,
          0.07190767613790111,
          0.06736216843153991,
          0.06269327317090342,
          0.057968212783150036,
          0.0532504101994377,
          0.04859818890589589,
          0.0440637335676872,
          0.039692328857872175,
          0.035521880564923516,
          0.03158271047288652,
          0.027897605516727545,
          0.02448209276834982,
          0.021344905191736006,
          0.018488598932051372,
          0.015910281125297986,
          0.01360240764431316,
          0.011553612534874217,
          0.00974953476660353,
          0.00817361290927573,
          0.006807824019155885,
          0.005633348975759714,
          0.0046311523846542454,
          0.0037824706554098453,
          0.0030692067454228342,
          0.0024742341742896965,
          0.001981616175875696,
          0.0015767482471278082,
          0.001246433909355684,
          0.0009789042965313566,
          0.0007637923326329131,
          0.0005920718793064474,
          0.0004559714547422086,
          0.0003488710694462521,
          0.0002651895084476751,
          0.0002002681106173822,
          0.00015025583399465891,
          0.0001119992119007716,
          0.00008293974017867538,
          0.00006102031635658344,
          0.000044601587805043296,
          0.000032388457493706996
         ],
         "yaxis": "y2"
        },
        {
         "marker": {
          "color": "#073B4C"
         },
         "mode": "lines",
         "name": "Group 0",
         "showlegend": false,
         "type": "scatter",
         "x": [
          -15.79549266984097,
          -15.454736364133238,
          -15.113980058425506,
          -14.773223752717774,
          -14.432467447010042,
          -14.09171114130231,
          -13.75095483559458,
          -13.410198529886848,
          -13.069442224179117,
          -12.728685918471385,
          -12.387929612763653,
          -12.047173307055921,
          -11.70641700134819,
          -11.365660695640457,
          -11.024904389932725,
          -10.684148084224994,
          -10.343391778517262,
          -10.00263547280953,
          -9.661879167101798,
          -9.321122861394066,
          -8.980366555686334,
          -8.639610249978602,
          -8.29885394427087,
          -7.95809763856314,
          -7.617341332855409,
          -7.276585027147677,
          -6.935828721439945,
          -6.595072415732213,
          -6.254316110024481,
          -5.913559804316749,
          -5.572803498609018,
          -5.232047192901286,
          -4.891290887193554,
          -4.550534581485822,
          -4.20977827577809,
          -3.8690219700703583,
          -3.5282656643626265,
          -3.1875093586548946,
          -2.8467530529471627,
          -2.505996747239431,
          -2.165240441531699,
          -1.824484135823969,
          -1.483727830116237,
          -1.1429715244085052,
          -0.8022152187007734,
          -0.46145891299304154,
          -0.12070260728530968,
          0.22005369842242395,
          0.5608100041301523,
          0.9015663098378841,
          1.242322615545616,
          1.5830789212533478,
          1.9238352269610797,
          2.2645915326688115,
          2.6053478383765434,
          2.9461041440842752,
          3.286860449792007,
          3.627616755499739,
          3.968373061207471,
          4.309129366915203,
          4.6498856726229345,
          4.990641978330666,
          5.331398284038398,
          5.67215458974613,
          6.012910895453862,
          6.353667201161594,
          6.694423506869326,
          7.0351798125770575,
          7.375936118284789,
          7.716692423992521,
          8.057448729700253,
          8.398205035407985,
          8.738961341115717,
          9.079717646823449,
          9.42047395253118,
          9.761230258238912,
          10.101986563946644,
          10.442742869654376,
          10.783499175362108,
          11.12425548106984,
          11.465011786777572,
          11.8057680924853,
          12.146524398193032,
          12.487280703900764,
          12.828037009608495,
          13.168793315316227,
          13.50954962102396,
          13.850305926731691,
          14.191062232439423,
          14.531818538147155,
          14.872574843854887,
          15.213331149562618,
          15.55408745527035,
          15.894843760978082,
          16.23560006668582,
          16.576356372393548,
          16.917112678101276,
          17.25786898380901,
          17.59862528951674,
          17.939381595224475
         ],
         "xaxis": "x7",
         "y": [
          0.00003173694372496295,
          0.000043704399398695974,
          0.000059792855114035664,
          0.00008127135622698673,
          0.00010974627877927342,
          0.00014723334535960577,
          0.00019623959423827031,
          0.0002598550581697111,
          0.0003418533130339612,
          0.00044679930812249177,
          0.0005801619888299022,
          0.0007484281794845865,
          0.0009592130337536639,
          0.0012213611236593473,
          0.0015450309851048726,
          0.0019417547461302472,
          0.0024244634301299967,
          0.003007467761584129,
          0.0037063839287619863,
          0.004537993902366542,
          0.005520030691844514,
          0.006670880446448618,
          0.008009195651929939,
          0.00955341687057453,
          0.011321204503504826,
          0.01332878683757793,
          0.015590236022201229,
          0.01811668937842855,
          0.02091553927865872,
          0.023989620395148816,
          0.02733642800116768,
          0.030947404801681372,
          0.03480733606140024,
          0.03889389321858805,
          0.043177364430558945,
          0.04762060640711954,
          0.05217924540429619,
          0.056802146483603703,
          0.06143215937175434,
          0.06600713692890899,
          0.07046120894843012,
          0.07472628048740312,
          0.07873371096422296,
          0.0824161186837076,
          0.08570924605627366,
          0.0885538142682636,
          0.09089729308863433,
          0.09269551221769012,
          0.0939140452171748,
          0.0945293054758121,
          0.09452930547581212,
          0.09391404521717481,
          0.09269551221769014,
          0.09089729308863434,
          0.08855381426826361,
          0.08570924605627367,
          0.08241611868370764,
          0.07873371096422299,
          0.07472628048740317,
          0.07046120894843015,
          0.066007136928909,
          0.06143215937175436,
          0.056802146483603703,
          0.05217924540429619,
          0.04762060640711954,
          0.043177364430558945,
          0.03889389321858805,
          0.03480733606140024,
          0.030947404801681372,
          0.02733642800116768,
          0.023989620395148816,
          0.02091553927865872,
          0.01811668937842855,
          0.015590236022201229,
          0.01332878683757793,
          0.011321204503504826,
          0.00955341687057453,
          0.008009195651929932,
          0.006670880446448611,
          0.0055200306918445075,
          0.004537993902366538,
          0.0037063839287619894,
          0.0030074677615841323,
          0.00242446343013,
          0.00194175474613025,
          0.0015450309851048742,
          0.0012213611236593497,
          0.0009592130337536648,
          0.0007484281794845877,
          0.0005801619888299027,
          0.0004467993081224926,
          0.00034185331303396185,
          0.0002598550581697116,
          0.00019623959423827067,
          0.00014723334535960526,
          0.0001097462787792732,
          0.00008127135622698681,
          0.000059792855114035664,
          0.00004370439939869613,
          0.00003173694372496295
         ],
         "yaxis": "y7"
        },
        {
         "marker": {
          "color": "#DD3497"
         },
         "mode": "lines",
         "name": "Group 1",
         "showlegend": false,
         "type": "scatter",
         "x": [
          -10.392052256153931,
          -10.043176733440115,
          -9.6943012107263,
          -9.345425688012483,
          -8.996550165298666,
          -8.647674642584851,
          -8.298799119871035,
          -7.949923597157219,
          -7.601048074443403,
          -7.252172551729586,
          -6.9032970290157705,
          -6.554421506301955,
          -6.205545983588138,
          -5.856670460874322,
          -5.507794938160506,
          -5.1589194154466895,
          -4.810043892732874,
          -4.461168370019058,
          -4.112292847305241,
          -3.7634173245914253,
          -3.4145418018776095,
          -3.0656662791637928,
          -2.716790756449977,
          -2.367915233736161,
          -2.0190397110223444,
          -1.6701641883085294,
          -1.3212886655947127,
          -0.972413142880896,
          -0.623537620167081,
          -0.2746620974532643,
          0.07421342526055241,
          0.42308894797436736,
          0.7719644706881841,
          1.1208399934020008,
          1.4697155161158157,
          1.8185910388296325,
          2.167466561543449,
          2.516342084257264,
          2.865217606971081,
          3.2140931296848976,
          3.5629686523987125,
          3.9118441751125292,
          4.260719697826346,
          4.609595220540161,
          4.958470743253978,
          5.307346265967794,
          5.656221788681609,
          6.005097311395424,
          6.353972834109243,
          6.702848356823058,
          7.051723879536873,
          7.400599402250691,
          7.749474924964506,
          8.098350447678321,
          8.44722597039214,
          8.796101493105954,
          9.14497701581977,
          9.493852538533588,
          9.842728061247403,
          10.191603583961218,
          10.540479106675036,
          10.889354629388851,
          11.238230152102666,
          11.587105674816485,
          11.9359811975303,
          12.284856720244115,
          12.633732242957933,
          12.982607765671748,
          13.331483288385563,
          13.680358811099381,
          14.029234333813196,
          14.378109856527011,
          14.72698537924083,
          15.075860901954645,
          15.42473642466846,
          15.773611947382278,
          16.122487470096093,
          16.471362992809908,
          16.820238515523727,
          17.16911403823754,
          17.517989560951357,
          17.866865083665175,
          18.21574060637899,
          18.564616129092805,
          18.913491651806623,
          19.26236717452044,
          19.611242697234253,
          19.960118219948072,
          20.308993742661887,
          20.6578692653757,
          21.00674478808952,
          21.355620310803335,
          21.70449583351715,
          22.05337135623097,
          22.40224687894478,
          22.7511224016586,
          23.099997924372417,
          23.44887344708623,
          23.797748969800047,
          24.146624492513865
         ],
         "xaxis": "x7",
         "y": [
          0.00003099834466473528,
          0.000042687287335119924,
          0.00005840132393893936,
          0.00007937996593266954,
          0.00010719220491909561,
          0.00014380685251709385,
          0.0001916726018668584,
          0.0002538075728345497,
          0.0003338975206321863,
          0.00043640115661964,
          0.0005666601499810487,
          0.0007310103602135874,
          0.000936889717071745,
          0.001192936956986238,
          0.0015090742010014434,
          0.0018965651953306106,
          0.0023680400257036316,
          0.0029374763697972758,
          0.003620126987628952,
          0.004432383290939879,
          0.005391565597134788,
          0.006515632163206938,
          0.007822801384323059,
          0.009331084664180646,
          0.011057731401639743,
          0.013018592210221086,
          0.015227411744775026,
          0.01769506813268714,
          0.02042878170712792,
          0.023431321170351713,
          0.026700240086962104,
          0.030227180311853487,
          0.0339972811951606,
          0.03798873381733009,
          0.04217251780550616,
          0.046512354287930574,
          0.05096490221003678,
          0.05548021667286688,
          0.06000247743473638,
          0.06447098367714943,
          0.06882139816000558,
          0.07298721068217506,
          0.07690137810223187,
          0.08049808686769756,
          0.08371457482584281,
          0.08649294273113857,
          0.0887818828640607,
          0.09053825287965697,
          0.09172842753008086,
          0.09232936912423795,
          0.09232936912423796,
          0.09172842753008086,
          0.090538252879657,
          0.08878188286406072,
          0.08649294273113858,
          0.08371457482584284,
          0.08049808686769762,
          0.07690137810223188,
          0.07298721068217512,
          0.06882139816000565,
          0.06447098367714946,
          0.06000247743473643,
          0.05548021667286696,
          0.05096490221003681,
          0.04651235428793062,
          0.042172517805506224,
          0.03798873381733012,
          0.03399728119516064,
          0.030227180311853542,
          0.02670024008696213,
          0.023431321170351748,
          0.020428781707127964,
          0.017695068132687154,
          0.015227411744775049,
          0.013018592210221109,
          0.011057731401639743,
          0.009331084664180667,
          0.007822801384323067,
          0.006515632163206938,
          0.005391565597134799,
          0.004432383290939889,
          0.003620126987628952,
          0.0029374763697972836,
          0.002368040025703635,
          0.0018965651953306106,
          0.0015090742010014477,
          0.0011929369569862412,
          0.000936889717071745,
          0.0007310103602135901,
          0.0005666601499810501,
          0.00043640115661964,
          0.00033389752063218747,
          0.00025380757283455035,
          0.0001916726018668584,
          0.00014380685251709477,
          0.00010719220491909599,
          0.00007937996593266954,
          0.000058401323938939785,
          0.00004268728733512008,
          0.00003099834466473528
         ],
         "yaxis": "y7"
        },
        {
         "marker": {
          "color": "#073B4C"
         },
         "mode": "lines",
         "name": "Group 0",
         "showlegend": false,
         "type": "scatter",
         "x": [
          -15.838024830628092,
          -15.497086399334583,
          -15.156147968041076,
          -14.815209536747567,
          -14.47427110545406,
          -14.13333267416055,
          -13.792394242867044,
          -13.451455811573535,
          -13.110517380280026,
          -12.769578948986519,
          -12.428640517693012,
          -12.087702086399503,
          -11.746763655105994,
          -11.405825223812485,
          -11.064886792518978,
          -10.723948361225471,
          -10.383009929931962,
          -10.042071498638453,
          -9.701133067344946,
          -9.360194636051439,
          -9.01925620475793,
          -8.678317773464421,
          -8.337379342170912,
          -7.996440910877405,
          -7.655502479583896,
          -7.314564048290389,
          -6.97362561699688,
          -6.632687185703373,
          -6.2917487544098645,
          -5.950810323116357,
          -5.6098718918228485,
          -5.268933460529341,
          -4.9279950292358325,
          -4.587056597942324,
          -4.246118166648817,
          -3.9051797353553077,
          -3.5642413040618006,
          -3.2233028727682917,
          -2.8823644414747847,
          -2.541426010181276,
          -2.2004875788877687,
          -1.8595491475942598,
          -1.518610716300751,
          -1.1776722850072439,
          -0.836733853713735,
          -0.4957954224202279,
          -0.15485699112671902,
          0.18608144016678985,
          0.5270198714602987,
          0.867958302753804,
          1.208896734047313,
          1.5498351653408218,
          1.8907735966343306,
          2.231712027927836,
          2.572650459221345,
          2.9135888905148537,
          3.2545273218083626,
          3.5954657531018714,
          3.9364041843953768,
          4.277342615688886,
          4.6182810469823945,
          4.959219478275903,
          5.300157909569409,
          5.641096340862918,
          5.982034772156426,
          6.322973203449935,
          6.663911634743444,
          7.0048500660369495,
          7.345788497330458,
          7.686726928623967,
          8.027665359917476,
          8.368603791210981,
          8.70954222250449,
          9.050480653798,
          9.391419085091508,
          9.732357516385017,
          10.073295947678522,
          10.414234378972031,
          10.75517281026554,
          11.096111241559049,
          11.437049672852554,
          11.777988104146063,
          12.118926535439572,
          12.45986496673308,
          12.80080339802659,
          13.141741829320095,
          13.482680260613604,
          13.823618691907113,
          14.164557123200622,
          14.50549555449413,
          14.846433985787636,
          15.187372417081145,
          15.528310848374653,
          15.869249279668162,
          16.21018771096167,
          16.55112614225518,
          16.892064573548687,
          17.23300300484219,
          17.573941436135698,
          17.91487986742921
         ],
         "xaxis": "x12",
         "y": [
          0.000031719990196301695,
          0.0000436810529859396,
          0.00005976091442397733,
          0.0000812279419562531,
          0.00010968765351595626,
          0.00014715469491480935,
          0.00019613476519064012,
          0.00025971624643614857,
          0.0003416706987283534,
          0.0004465606328126784,
          0.0005798520726328342,
          0.0007480283773265164,
          0.0009587006326289392,
          0.0012207086858885563,
          0.0015442056464296853,
          0.0019407174819555068,
          0.002423168308249103,
          0.003005861205157789,
          0.003704404018953706,
          0.0045355697555944,
          0.00551708195174665,
          0.0066673169349830905,
          0.008004917227100651,
          0.009548313539638463,
          0.011315156839725577,
          0.013321666745245514,
          0.015581907888417196,
          0.01810701164085918,
          0.02090436642604572,
          0.02397680540198292,
          0.027321825179937306,
          0.03093087303608845,
          0.0347887423626921,
          0.03887311652568582,
          0.043154299554125516,
          0.047595167999357736,
          0.0521513718213781,
          0.056771803397427024,
          0.06139934298326847,
          0.06597187663738659,
          0.07042356934028869,
          0.07468636252463486,
          0.07869165227586891,
          0.08237209289337434,
          0.08566346111327026,
          0.08850650978799382,
          0.09084873674757755,
          0.09264599528761734,
          0.09386387736008427,
          0.09447880895341217,
          0.09447880895341217,
          0.09386387736008427,
          0.09264599528761734,
          0.09084873674757755,
          0.08850650978799382,
          0.08566346111327025,
          0.08237209289337434,
          0.07869165227586887,
          0.07468636252463486,
          0.07042356934028869,
          0.06597187663738657,
          0.06139934298326846,
          0.056771803397427024,
          0.0521513718213781,
          0.0475951679993577,
          0.043154299554125496,
          0.03887311652568577,
          0.0347887423626921,
          0.03093087303608845,
          0.027321825179937288,
          0.0239768054019829,
          0.02090436642604572,
          0.01810701164085918,
          0.015581907888417184,
          0.013321666745245505,
          0.011315156839725558,
          0.009548313539638463,
          0.008004917227100642,
          0.0066673169349830835,
          0.00551708195174665,
          0.0045355697555944045,
          0.003704404018953706,
          0.0030058612051577856,
          0.002423168308249101,
          0.0019407174819555044,
          0.0015442056464296853,
          0.001220708685888554,
          0.0009587006326289376,
          0.0007480283773265148,
          0.0005798520726328332,
          0.0004465606328126784,
          0.00034167069872835276,
          0.0002597162464361481,
          0.00019613476519063976,
          0.0001471546949148091,
          0.00010968765351595607,
          0.0000812279419562528,
          0.00005976091442397766,
          0.00004368105298593975,
          0.000031719990196301695
         ],
         "yaxis": "y12"
        },
        {
         "marker": {
          "color": "#DD3497"
         },
         "mode": "lines",
         "name": "Group 1",
         "showlegend": false,
         "type": "scatter",
         "x": [
          -8.793146738471915,
          -8.535988869238519,
          -8.278831000005122,
          -8.021673130771726,
          -7.76451526153833,
          -7.507357392304933,
          -7.250199523071537,
          -6.993041653838141,
          -6.735883784604744,
          -6.4787259153713475,
          -6.221568046137952,
          -5.964410176904555,
          -5.707252307671158,
          -5.4500944384377625,
          -5.192936569204366,
          -4.935778699970969,
          -4.678620830737573,
          -4.421462961504177,
          -4.164305092270781,
          -3.9071472230373843,
          -3.6499893538039885,
          -3.392831484570592,
          -3.135673615337195,
          -2.8785157461037993,
          -2.6213578768704027,
          -2.364200007637006,
          -2.10704213840361,
          -1.8498842691702135,
          -1.5927263999368169,
          -1.335568530703421,
          -1.0784106614700244,
          -0.8212527922366286,
          -0.5640949230032319,
          -0.30693705376983615,
          -0.04977918453643859,
          0.2073786846969572,
          0.464536553930353,
          0.7216944231637505,
          0.9788522923971463,
          1.2360101616305421,
          1.493168030863938,
          1.7503259000973355,
          2.0074837693307312,
          2.264641638564127,
          2.5217995077975246,
          2.7789573770309204,
          3.036115246264316,
          3.2932731154977137,
          3.5504309847311095,
          3.8075888539645053,
          4.064746723197903,
          4.321904592431299,
          4.579062461664694,
          4.836220330898092,
          5.093378200131488,
          5.350536069364884,
          5.607693938598281,
          5.864851807831677,
          6.122009677065073,
          6.3791675462984685,
          6.636325415531866,
          6.893483284765262,
          7.150641153998658,
          7.407799023232055,
          7.664956892465451,
          7.922114761698847,
          8.179272630932243,
          8.436430500165638,
          8.693588369399038,
          8.950746238632433,
          9.20790410786583,
          9.465061977099225,
          9.72221984633262,
          9.979377715566017,
          10.236535584799416,
          10.493693454032812,
          10.750851323266208,
          11.008009192499603,
          11.265167061732999,
          11.522324930966395,
          11.77948280019979,
          12.03664066943319,
          12.293798538666586,
          12.550956407899982,
          12.808114277133377,
          13.065272146366773,
          13.322430015600169,
          13.579587884833568,
          13.836745754066964,
          14.09390362330036,
          14.351061492533756,
          14.608219361767151,
          14.865377231000547,
          15.122535100233947,
          15.379692969467342,
          15.636850838700738,
          15.894008707934134,
          16.15116657716753,
          16.408324446400925,
          16.66548231563432
         ],
         "xaxis": "x12",
         "y": [
          0.00004205418146608325,
          0.00005791209005841605,
          0.00007923067832656638,
          0.00010769154057125216,
          0.0001454232632797821,
          0.00019509685233935065,
          0.0002600343491939822,
          0.00034433031314710894,
          0.0004529850569638861,
          0.0005920475312789647,
          0.0007687645593543979,
          0.0009917317416301375,
          0.0012710398120150401,
          0.0016184085895324973,
          0.0020472990084176006,
          0.002572992130687129,
          0.003212622675080492,
          0.003985153583001538,
          0.004911277647712853,
          0.006013232424519624,
          0.007314515676901366,
          0.008839490634784623,
          0.010612873446875035,
          0.012659099445050673,
          0.015001570180513261,
          0.01766178952982653,
          0.02065840430189324,
          0.02400617240549956,
          0.027714889370203,
          0.03178831138067369,
          0.03622311945845592,
          0.041007974451256486,
          0.046122715525556746,
          0.05153775541563669,
          0.05721372337317131,
          0.06310140134239628,
          0.06914199029409294,
          0.07526773203449987,
          0.08140289753360995,
          0.08746513648324478,
          0.09336716519134038,
          0.09901875199882239,
          0.10432894222839811,
          0.10920844933561542,
          0.11357212648477609,
          0.11734142414671775,
          0.12044673524497182,
          0.12282953033149471,
          0.12444419141312973,
          0.1252594642002586,
          0.1252594642002586,
          0.12444419141312972,
          0.12282953033149469,
          0.1204467352449718,
          0.11734142414671771,
          0.11357212648477606,
          0.10920844933561538,
          0.10432894222839806,
          0.09901875199882232,
          0.09336716519134038,
          0.08746513648324472,
          0.08140289753360988,
          0.07526773203449981,
          0.06914199029409289,
          0.06310140134239621,
          0.057213723373171245,
          0.05153775541563669,
          0.046122715525556746,
          0.04100797445125642,
          0.03622311945845586,
          0.03178831138067365,
          0.02771488937020297,
          0.024006172405499532,
          0.02065840430189324,
          0.017661789529826492,
          0.015001570180513221,
          0.012659099445050656,
          0.010612873446875015,
          0.008839490634784614,
          0.007314515676901366,
          0.006013232424519624,
          0.004911277647712839,
          0.003985153583001527,
          0.003212622675080489,
          0.0025729921306871253,
          0.002047299008417595,
          0.0016184085895324973,
          0.0012710398120150369,
          0.000991731741630133,
          0.0007687645593543965,
          0.0005920475312789636,
          0.0004529850569638853,
          0.00034433031314710894,
          0.0002600343491939813,
          0.0001950968523393496,
          0.00014542326327978187,
          0.00010769154057125177,
          0.00007923067832656625,
          0.00005791209005841605,
          0.00004205418146608325
         ],
         "yaxis": "y12"
        },
        {
         "marker": {
          "color": "#073B4C"
         },
         "mode": "lines",
         "name": "Group 0",
         "showlegend": false,
         "type": "scatter",
         "x": [
          -15.799823339824309,
          -15.4608128768547,
          -15.12180241388509,
          -14.782791950915481,
          -14.44378148794587,
          -14.10477102497626,
          -13.765760562006651,
          -13.426750099037042,
          -13.087739636067433,
          -12.748729173097821,
          -12.409718710128212,
          -12.070708247158603,
          -11.731697784188993,
          -11.392687321219384,
          -11.053676858249773,
          -10.714666395280164,
          -10.375655932310554,
          -10.036645469340945,
          -9.697635006371335,
          -9.358624543401724,
          -9.019614080432115,
          -8.680603617462506,
          -8.341593154492896,
          -8.002582691523287,
          -7.663572228553678,
          -7.3245617655840665,
          -6.985551302614457,
          -6.646540839644848,
          -6.307530376675238,
          -5.968519913705629,
          -5.629509450736018,
          -5.290498987766409,
          -4.951488524796799,
          -4.61247806182719,
          -4.2734675988575805,
          -3.9344571358879694,
          -3.59544667291836,
          -3.2564362099487507,
          -2.9174257469791414,
          -2.578415284009532,
          -2.239404821039921,
          -1.9003943580703115,
          -1.5613838951007022,
          -1.2223734321310928,
          -0.8833629691614835,
          -0.5443525061918741,
          -0.20534204322226302,
          0.13366841974734633,
          0.4726788827169539,
          0.811689345686565,
          1.1506998086561762,
          1.4897102716257837,
          1.8287207345953949,
          2.1677311975650024,
          2.5067416605346136,
          2.8457521235042247,
          3.1847625864738323,
          3.5237730494434434,
          3.862783512413051,
          4.201793975382662,
          4.540804438352273,
          4.879814901321881,
          5.218825364291492,
          5.5578358272610995,
          5.896846290230711,
          6.235856753200322,
          6.574867216169929,
          6.91387767913954,
          7.252888142109148,
          7.591898605078759,
          7.93090906804837,
          8.269919531017978,
          8.608929993987589,
          8.947940456957197,
          9.286950919926808,
          9.625961382896419,
          9.964971845866026,
          10.303982308835637,
          10.642992771805245,
          10.982003234774856,
          11.321013697744467,
          11.660024160714075,
          11.999034623683686,
          12.338045086653294,
          12.677055549622905,
          13.016066012592512,
          13.355076475562123,
          13.694086938531735,
          14.033097401501342,
          14.372107864470953,
          14.71111832744056,
          15.050128790410172,
          15.389139253379783,
          15.72814971634939,
          16.067160179319004,
          16.406170642288615,
          16.74518110525822,
          17.08419156822783,
          17.42320203119744,
          17.762212494167052
         ],
         "xaxis": "x17",
         "y": [
          0.000031900383260861235,
          0.00004392946917278437,
          0.00006010077753323765,
          0.0000816898890529157,
          0.00011031145232042128,
          0.00014799157053222686,
          0.00019725019275352538,
          0.00026119326485010653,
          0.00034361379593715943,
          0.00044910024397164233,
          0.0005831497184305191,
          0.0007522824496174708,
          0.0009641528078674824,
          0.001227650913153414,
          0.0015529876160061474,
          0.0019517544328450799,
          0.0024369489795028915,
          0.003022955678109491,
          0.003725471137487163,
          0.004561363752461107,
          0.005548457854278235,
          0.006705234277543662,
          0.00805044156494582,
          0.009602615244340489,
          0.011379506664730484,
          0.013397427685723232,
          0.015670522925757383,
          0.018209987061081418,
          0.021023250533478678,
          0.02411316261325706,
          0.027477205674794565,
          0.031106778354531215,
          0.034986587564034874,
          0.03909418975350368,
          0.04339972006962101,
          0.04786584394094838,
          0.052447959106734166,
          0.057094667292783056,
          0.06174852391220789,
          0.06634706177860863,
          0.07082407146566443,
          0.0751111073537866,
          0.07913917537475539,
          0.08284054682981191,
          0.08615063321437642,
          0.08900985043959296,
          0.09136539775320325,
          0.09317287738643498,
          0.0943976856110843,
          0.0950161143490812,
          0.0950161143490812,
          0.09439768561108432,
          0.09317287738643498,
          0.09136539775320328,
          0.08900985043959299,
          0.08615063321437645,
          0.08284054682981196,
          0.0791391753747554,
          0.07511110735378665,
          0.07082407146566445,
          0.06634706177860866,
          0.06174852391220794,
          0.05709466729278308,
          0.05244795910673421,
          0.047865843940948394,
          0.04339972006962103,
          0.03909418975350373,
          0.034986587564034895,
          0.031106778354531257,
          0.02747720567479459,
          0.02411316261325708,
          0.02102325053347871,
          0.018209987061081435,
          0.015670522925757407,
          0.013397427685723232,
          0.011379506664730484,
          0.009602615244340498,
          0.00805044156494582,
          0.006705234277543668,
          0.005548457854278235,
          0.0045613637524611035,
          0.003725471137487168,
          0.003022955678109491,
          0.0024369489795028946,
          0.0019517544328450799,
          0.0015529876160061498,
          0.0012276509131534151,
          0.0009641528078674824,
          0.000752282449617472,
          0.0005831497184305191,
          0.0004491002439716427,
          0.00034361379593716003,
          0.00026119326485010653,
          0.0001972501927535256,
          0.0001479915705322266,
          0.00011031145232042089,
          0.00008168988905291595,
          0.00006010077753323786,
          0.00004392946917278453,
          0.000031900383260861235
         ],
         "yaxis": "y17"
        },
        {
         "marker": {
          "color": "#DD3497"
         },
         "mode": "lines",
         "name": "Group 1",
         "showlegend": false,
         "type": "scatter",
         "x": [
          -8.345347388557931,
          -8.10207144821681,
          -7.858795507875691,
          -7.6155195675345695,
          -7.372243627193449,
          -7.128967686852329,
          -6.885691746511209,
          -6.642415806170089,
          -6.399139865828968,
          -6.155863925487848,
          -5.912587985146727,
          -5.669312044805608,
          -5.426036104464487,
          -5.1827601641233665,
          -4.939484223782246,
          -4.696208283441125,
          -4.452932343100006,
          -4.209656402758885,
          -3.9663804624177645,
          -3.7231045220766443,
          -3.479828581735524,
          -3.236552641394404,
          -2.9932767010532837,
          -2.7500007607121626,
          -2.5067248203710424,
          -2.263448880029922,
          -2.020172939688802,
          -1.7768969993476817,
          -1.5336210590065615,
          -1.2903451186654404,
          -1.0470691783243202,
          -0.8037932379832,
          -0.5605172976420798,
          -0.3172413573009596,
          -0.07396541695983849,
          0.16931052338128083,
          0.41258646372240193,
          0.6558624040635213,
          0.8991383444046424,
          1.1424142847457635,
          1.3856902250868828,
          1.6289661654280039,
          1.8722421057691232,
          2.1155180461102443,
          2.3587939864513636,
          2.6020699267924847,
          2.845345867133606,
          3.088621807474725,
          3.3318977478158462,
          3.5751736881569656,
          3.8184496284980867,
          4.061725568839206,
          4.305001509180327,
          4.548277449521448,
          4.7915533898625675,
          5.034829330203689,
          5.278105270544808,
          5.521381210885929,
          5.76465715122705,
          6.0079330915681695,
          6.251209031909291,
          6.49448497225041,
          6.737760912591531,
          6.98103685293265,
          7.224312793273771,
          7.4675887336148925,
          7.710864673956012,
          7.954140614297133,
          8.197416554638254,
          8.440692494979372,
          8.683968435320493,
          8.927244375661614,
          9.170520316002735,
          9.413796256343856,
          9.657072196684974,
          9.900348137026095,
          10.143624077367216,
          10.386900017708337,
          10.630175958049458,
          10.873451898390575,
          11.116727838731697,
          11.360003779072818,
          11.603279719413939,
          11.846555659755056,
          12.089831600096177,
          12.333107540437299,
          12.57638348077842,
          12.81965942111954,
          13.062935361460658,
          13.30621130180178,
          13.5494872421429,
          13.792763182484022,
          14.036039122825143,
          14.27931506316626,
          14.522591003507381,
          14.765866943848502,
          15.009142884189624,
          15.252418824530745,
          15.495694764871862,
          15.738970705212983
         ],
         "xaxis": "x17",
         "y": [
          0.00004445389742614262,
          0.00006121669763722871,
          0.00008375177745816942,
          0.00011383668713368468,
          0.00015372147557854887,
          0.00020622956290449756,
          0.00027487255448464343,
          0.0003639786553377129,
          0.0004788335084844879,
          0.0006258312326944748,
          0.0008126321729494606,
          0.0010483224159821426,
          0.0013435684980203375,
          0.0017107590000459093,
          0.00216412297060732,
          0.002719813447042954,
          0.003395942897666608,
          0.004212556336378848,
          0.005191527338579018,
          0.006356362389664805,
          0.0077319000938141395,
          0.00934389390731521,
          0.011218470343656778,
          0.013381459075394862,
          0.015857597004318203,
          0.018669615071553382,
          0.021837224119194743,
          0.025376024178928435,
          0.029296369737538016,
          0.03360223131691265,
          0.038290100549449195,
          0.04334799124268428,
          0.048754592135905744,
          0.05447862764058499,
          0.06047848041579145,
          0.06670212390135476,
          0.07308740384952789,
          0.07956269561585813,
          0.08604794888395013,
          0.09245611423267244,
          0.09869492734588048,
          0.10466900772210576,
          0.11028221058444766,
          0.11544015447664574,
          0.12005283387324833,
          0.12403721701402332,
          0.12731972486997534,
          0.12983848815750315,
          0.13154528580755082,
          0.13240708008317076,
          0.13240708008317076,
          0.13154528580755082,
          0.12983848815750315,
          0.1273197248699753,
          0.1240372170140233,
          0.1200528338732483,
          0.1154401544766457,
          0.11028221058444765,
          0.1046690077221057,
          0.09869492734588045,
          0.09245611423267236,
          0.08604794888395009,
          0.07956269561585812,
          0.07308740384952786,
          0.06670212390135473,
          0.06047848041579138,
          0.05447862764058499,
          0.0487545921359057,
          0.04334799124268423,
          0.038290100549449195,
          0.03360223131691265,
          0.029296369737538016,
          0.025376024178928404,
          0.021837224119194715,
          0.018669615071553382,
          0.015857597004318203,
          0.01338145907539485,
          0.011218470343656757,
          0.009343893907315203,
          0.0077319000938141395,
          0.006356362389664805,
          0.005191527338579006,
          0.0042125563363788416,
          0.003395942897666613,
          0.002719813447042954,
          0.00216412297060732,
          0.0017107590000459078,
          0.0013435684980203353,
          0.0010483224159821443,
          0.0008126321729494606,
          0.0006258312326944748,
          0.000478833508484487,
          0.00036397865533771155,
          0.00027487255448464343,
          0.00020622956290449756,
          0.00015372147557854858,
          0.00011383668713368446,
          0.00008375177745816926,
          0.00006121669763722871,
          0.00004445389742614262
         ],
         "yaxis": "y17"
        },
        {
         "marker": {
          "color": "#073B4C"
         },
         "mode": "lines",
         "name": "Group 0",
         "showlegend": false,
         "type": "scatter",
         "x": [
          -14.904626191299267,
          -14.589311784172342,
          -14.273997377045415,
          -13.95868296991849,
          -13.643368562791563,
          -13.328054155664638,
          -13.012739748537712,
          -12.697425341410787,
          -12.38211093428386,
          -12.066796527156935,
          -11.751482120030008,
          -11.436167712903083,
          -11.120853305776158,
          -10.805538898649232,
          -10.490224491522305,
          -10.17491008439538,
          -9.859595677268455,
          -9.544281270141528,
          -9.228966863014602,
          -8.913652455887677,
          -8.598338048760752,
          -8.283023641633825,
          -7.967709234506899,
          -7.652394827379974,
          -7.337080420253049,
          -7.021766013126123,
          -6.706451605999197,
          -6.39113719887227,
          -6.075822791745345,
          -5.760508384618419,
          -5.445193977491494,
          -5.129879570364567,
          -4.814565163237642,
          -4.499250756110717,
          -4.18393634898379,
          -3.8686219418568655,
          -3.5533075347299388,
          -3.237993127603014,
          -2.922678720476087,
          -2.607364313349162,
          -2.2920499062222355,
          -1.9767354990953105,
          -1.6614210919683838,
          -1.346106684841459,
          -1.0307922777145322,
          -0.7154778705876073,
          -0.40016346346068055,
          -0.08484905633375561,
          0.23046535079316932,
          0.545779757920096,
          0.861094165047021,
          1.176408572173946,
          1.4917229793008726,
          1.8070373864277993,
          2.122351793554726,
          2.437666200681649,
          2.752980607808576,
          3.0682950149355026,
          3.3836094220624293,
          3.6989238291893525,
          4.014238236316279,
          4.329552643443206,
          4.644867050570133,
          4.960181457697056,
          5.2754958648239825,
          5.590810271950909,
          5.906124679077832,
          6.221439086204759,
          6.536753493331686,
          6.8520679004586125,
          7.167382307585536,
          7.482696714712462,
          7.798011121839389,
          8.113325528966316,
          8.428639936093239,
          8.743954343220166,
          9.059268750347092,
          9.374583157474019,
          9.689897564600942,
          10.005211971727869,
          10.320526378854796,
          10.635840785981719,
          10.951155193108645,
          11.266469600235572,
          11.581784007362499,
          11.897098414489422,
          12.212412821616349,
          12.527727228743275,
          12.843041635870202,
          13.158356042997125,
          13.473670450124052,
          13.788984857250979,
          14.104299264377905,
          14.419613671504829,
          14.734928078631755,
          15.050242485758682,
          15.365556892885605,
          15.680871300012532,
          15.996185707139459,
          16.311500114266384
         ],
         "xaxis": "x3",
         "y": [
          0.00003429771508607056,
          0.00004723079360049673,
          0.00006461738492074305,
          0.00008782893036859319,
          0.00011860142028633155,
          0.00015911322067035873,
          0.00021207365618184325,
          0.0002808220862731943,
          0.00036943656683759016,
          0.00048285038103985115,
          0.0006269737492399098,
          0.0008088169007325795,
          0.0010366094361081045,
          0.0013199095728780729,
          0.0016696955127597044,
          0.002098429881180322,
          0.0026200870721458554,
          0.0032501325052362215,
          0.004005442398295016,
          0.004904152815548872,
          0.0059654275968083585,
          0.007209136421840535,
          0.008655436796909421,
          0.010324257205261445,
          0.012234683019806158,
          0.014404251945616392,
          0.016848171577197955,
          0.019578477877044195,
          0.022603159688836492,
          0.025925280407156234,
          0.029542133205393426,
          0.03344447032265706,
          0.037615849386278884,
          0.04203214020100928,
          0.046661233552931745,
          0.051462989156470795,
          0.056389452865779906,
          0.061385363797318786,
          0.06638896037104058,
          0.07133308095619435,
          0.07614654045066413,
          0.08075574950787857,
          0.08508652911641076,
          0.08906606072752458,
          0.09262490197402971,
          0.09569899098912873,
          0.09823155901419964,
          0.10017487176306292,
          0.10149172501778977,
          0.10215662902484848,
          0.10215662902484847,
          0.10149172501778977,
          0.10017487176306292,
          0.09823155901419962,
          0.0956989909891287,
          0.09262490197402971,
          0.08906606072752456,
          0.08508652911641072,
          0.08075574950787853,
          0.0761465404506641,
          0.07133308095619434,
          0.06638896037104053,
          0.06138536379731873,
          0.05638945286577988,
          0.05146298915647076,
          0.0466612335529317,
          0.04203214020100928,
          0.037615849386278856,
          0.033444470322657,
          0.02954213320539339,
          0.025925280407156217,
          0.022603159688836475,
          0.019578477877044156,
          0.016848171577197927,
          0.014404251945616387,
          0.012234683019806144,
          0.010324257205261422,
          0.008655436796909407,
          0.007209136421840528,
          0.005965427596808353,
          0.004904152815548861,
          0.004005442398295012,
          0.003250132505236217,
          0.0026200870721458528,
          0.0020984298811803164,
          0.0016696955127597027,
          0.0013199095728780718,
          0.0010366094361081036,
          0.0008088169007325771,
          0.0006269737492399092,
          0.00048285038103985066,
          0.0003694365668375888,
          0.00028082208627319325,
          0.00021207365618184287,
          0.00015911322067035846,
          0.00011860142028633122,
          0.00008782893036859319,
          0.00006461738492074294,
          0.00004723079360049665,
          0.00003429771508607044
         ],
         "yaxis": "y3"
        },
        {
         "marker": {
          "color": "#DD3497"
         },
         "mode": "lines",
         "name": "Group 1",
         "showlegend": false,
         "type": "scatter",
         "x": [
          -10.700541742884162,
          -10.324865437372653,
          -9.949189131861145,
          -9.573512826349635,
          -9.197836520838127,
          -8.822160215326617,
          -8.44648390981511,
          -8.0708076043036,
          -7.6951312987920915,
          -7.319454993280582,
          -6.943778687769074,
          -6.568102382257564,
          -6.192426076746055,
          -5.816749771234546,
          -5.441073465723037,
          -5.065397160211528,
          -4.6897208547000195,
          -4.314044549188511,
          -3.938368243677002,
          -3.562691938165493,
          -3.187015632653984,
          -2.811339327142475,
          -2.4356630216309654,
          -2.0599867161194574,
          -1.6843104106079476,
          -1.3086341050964396,
          -0.9329577995849299,
          -0.5572814940734219,
          -0.1816051885619121,
          0.1940711169495959,
          0.5697474224611057,
          0.9454237279726136,
          1.3211000334841234,
          1.6967763389956332,
          2.072452644507141,
          2.448128950018651,
          2.823805255530159,
          3.1994815610416687,
          3.5751578665531767,
          3.9508341720646865,
          4.3265104775761944,
          4.702186783087704,
          5.077863088599212,
          5.45353939411072,
          5.829215699622232,
          6.20489200513374,
          6.580568310645248,
          6.956244616156756,
          7.331920921668267,
          7.707597227179775,
          8.083273532691283,
          8.458949838202795,
          8.834626143714303,
          9.21030244922581,
          9.585978754737319,
          9.96165506024883,
          10.337331365760338,
          10.713007671271846,
          11.088683976783354,
          11.464360282294866,
          11.840036587806374,
          12.215712893317882,
          12.59138919882939,
          12.967065504340901,
          13.34274180985241,
          13.718418115363917,
          14.094094420875429,
          14.469770726386937,
          14.845447031898445,
          15.221123337409953,
          15.596799642921464,
          15.972475948432972,
          16.34815225394448,
          16.72382855945599,
          17.0995048649675,
          17.475181170479008,
          17.850857475990516,
          18.226533781502024,
          18.602210087013535,
          18.977886392525043,
          19.35356269803655,
          19.729239003548063,
          20.10491530905957,
          20.48059161457108,
          20.856267920082587,
          21.2319442255941,
          21.607620531105603,
          21.983296836617114,
          22.358973142128626,
          22.73464944764013,
          23.110325753151642,
          23.486002058663153,
          23.861678364174658,
          24.23735466968617,
          24.613030975197674,
          24.988707280709185,
          25.364383586220697,
          25.7400598917322,
          26.115736197243713,
          26.491412502755225
         ],
         "xaxis": "x3",
         "y": [
          0.000028786919854974053,
          0.000039641972261193466,
          0.00005423496802289613,
          0.00007371699173323736,
          0.00009954510298720534,
          0.00013354765819850988,
          0.00017799866050952973,
          0.0002357009168326853,
          0.00031007724025819015,
          0.00040526825726017716,
          0.0005262345618432184,
          0.0006788600126949393,
          0.0008700519169649653,
          0.0011078327228184852,
          0.0014014167062558743,
          0.0017612640567812633,
          0.0021991038286264335,
          0.0027279165306344157,
          0.0033618667894953296,
          0.004116176652102595,
          0.0050069308027961505,
          0.006050806354834473,
          0.00726472200136791,
          0.008665404210868368,
          0.010268871808466671,
          0.012089844623431429,
          0.014141086765649492,
          0.016432700315880556,
          0.018971390508051002,
          0.021759728524937093,
          0.02479544246007265,
          0.0280707704392062,
          0.03157191197262478,
          0.035278613991137235,
          0.03916392643800356,
          0.043194158579572386,
          0.047329061316166494,
          0.05152225282259452,
          0.05572189507843825,
          0.05987161766727489,
          0.06391167317373457,
          0.0677802962406613,
          0.0714152265906135,
          0.07475534581610661,
          0.07774236922226137,
          0.08032252810114399,
          0.08244817503074353,
          0.08407924544503469,
          0.08518451292449951,
          0.08574258328908257,
          0.08574258328908259,
          0.08518451292449951,
          0.08407924544503469,
          0.08244817503074353,
          0.080322528101144,
          0.07774236922226135,
          0.07475534581610663,
          0.07141522659061351,
          0.06778029624066133,
          0.06391167317373457,
          0.05987161766727489,
          0.055721895078438284,
          0.05152225282259454,
          0.047329061316166494,
          0.043194158579572386,
          0.03916392643800358,
          0.035278613991137214,
          0.03157191197262478,
          0.02807077043920621,
          0.02479544246007267,
          0.021759728524937093,
          0.018971390508051002,
          0.01643270031588058,
          0.01414108676564951,
          0.012089844623431429,
          0.010268871808466671,
          0.008665404210868375,
          0.007264722001367927,
          0.006050806354834473,
          0.005006930802796155,
          0.004116176652102605,
          0.0033618667894953296,
          0.0027279165306344157,
          0.0021991038286264366,
          0.0017612640567812674,
          0.0014014167062558743,
          0.0011078327228184863,
          0.000870051916964966,
          0.0006788600126949393,
          0.0005262345618432193,
          0.00040526825726017716,
          0.00031007724025819015,
          0.0002357009168326859,
          0.00017799866050952973,
          0.0001335476581985102,
          0.00009954510298720569,
          0.00007371699173323736,
          0.000054234968022896335,
          0.000039641972261193466,
          0.000028786919854974053
         ],
         "yaxis": "y3"
        },
        {
         "marker": {
          "color": "#073B4C"
         },
         "mode": "lines",
         "name": "Group 0",
         "showlegend": false,
         "type": "scatter",
         "x": [
          -17.95352619405449,
          -17.56200490105412,
          -17.17048360805375,
          -16.77896231505338,
          -16.38744102205301,
          -15.995919729052643,
          -15.604398436052273,
          -15.212877143051903,
          -14.821355850051534,
          -14.429834557051166,
          -14.038313264050796,
          -13.646791971050426,
          -13.255270678050056,
          -12.863749385049687,
          -12.472228092049317,
          -12.080706799048947,
          -11.689185506048577,
          -11.297664213048208,
          -10.90614292004784,
          -10.51462162704747,
          -10.1231003340471,
          -9.73157904104673,
          -9.34005774804636,
          -8.948536455045993,
          -8.557015162045623,
          -8.165493869045253,
          -7.7739725760448835,
          -7.382451283044514,
          -6.990929990044144,
          -6.599408697043776,
          -6.207887404043406,
          -5.8163661110430365,
          -5.424844818042667,
          -5.033323525042297,
          -4.641802232041927,
          -4.2502809390415575,
          -3.8587596460411895,
          -3.4672383530408197,
          -3.07571706004045,
          -2.6841957670400802,
          -2.2926744740397105,
          -1.9011531810393407,
          -1.509631888038971,
          -1.1181105950386012,
          -0.7265893020382315,
          -0.33506800903786527,
          0.056453283962504486,
          0.44797457696287424,
          0.839495869963244,
          1.2310171629636137,
          1.6225384559639835,
          2.0140597489643532,
          2.405581041964723,
          2.7971023349650928,
          3.1886236279654625,
          3.5801449209658323,
          3.971666213966202,
          4.363187506966572,
          4.754708799966938,
          5.146230092967308,
          5.5377513859676775,
          5.929272678968047,
          6.320793971968417,
          6.712315264968787,
          7.1038365579691565,
          7.495357850969526,
          7.886879143969896,
          8.278400436970266,
          8.669921729970635,
          9.061443022971005,
          9.452964315971375,
          9.844485608971741,
          10.236006901972111,
          10.62752819497248,
          11.01904948797285,
          11.41057078097322,
          11.80209207397359,
          12.19361336697396,
          12.58513465997433,
          12.9766559529747,
          13.368177245975069,
          13.759698538975439,
          14.151219831975808,
          14.542741124976175,
          14.934262417976548,
          15.325783710976914,
          15.717305003977287,
          16.108826296977654,
          16.500347589978027,
          16.891868882978393,
          17.28339017597876,
          17.674911468979133,
          18.0664327619795,
          18.457954054979872,
          18.84947534798024,
          19.24099664098061,
          19.632517933980978,
          20.02403922698135,
          20.415560519981717,
          20.80708181298209
         ],
         "xaxis": "x8",
         "y": [
          0.000027621904329383047,
          0.00003803764941658179,
          0.00005204006213873333,
          0.00007073364234046633,
          0.00009551648196554344,
          0.00012814294327967096,
          0.00017079499981666175,
          0.00022616202802868993,
          0.00029752831870447327,
          0.00038886692588759703,
          0.0005049376868132207,
          0.0006513863385930588,
          0.0008348406475258954,
          0.0010629983908252228,
          0.0013447009398996279,
          0.001689985157157657,
          0.002110105418388607,
          0.002617516907238917,
          0.0032258110035876166,
          0.003949593713395239,
          0.0048042987688653085,
          0.005805928355338844,
          0.006970716461235982,
          0.008314712629690421,
          0.00985328739903911,
          0.01160056488251997,
          0.01356879262255573,
          0.015767663865581864,
          0.018203612482639547,
          0.020879105599945106,
          0.02379196325578772,
          0.026934737701361004,
          0.03029418695702728,
          0.03385087760155244,
          0.03757895025530528,
          0.04144607765901683,
          0.04541363960648832,
          0.04943713135929991,
          0.05346681279770869,
          0.05744859483343143,
          0.06132514804742679,
          0.06503720674559384,
          0.06852503034312271,
          0.07172997391333112,
          0.07459611156091894,
          0.07707185061414691,
          0.07911147195686936,
          0.08067653244840553,
          0.08173706941206682,
          0.08227255449686358,
          0.08227255449686359,
          0.08173706941206683,
          0.08067653244840553,
          0.07911147195686938,
          0.07707185061414695,
          0.07459611156091894,
          0.07172997391333114,
          0.06852503034312273,
          0.06503720674559388,
          0.06132514804742683,
          0.05744859483343146,
          0.05346681279770874,
          0.04943713135929994,
          0.04541363960648836,
          0.041446077659016846,
          0.0375789502553053,
          0.03385087760155246,
          0.030294186957027305,
          0.02693473770136102,
          0.023791963255787734,
          0.020879105599945113,
          0.018203612482639575,
          0.01576766386558189,
          0.013568792622555748,
          0.011600564882519985,
          0.009853287399039127,
          0.00831471262969044,
          0.006970716461235989,
          0.00580592835533885,
          0.0048042987688653145,
          0.0039495937133952426,
          0.0032258110035876166,
          0.002617516907238917,
          0.0021101054183886125,
          0.001689985157157657,
          0.00134470093989963,
          0.0010629983908252228,
          0.0008348406475258962,
          0.0006513863385930588,
          0.0005049376868132212,
          0.00038886692588759877,
          0.0002975283187044741,
          0.0002261620280286909,
          0.0001707949998166622,
          0.00012814294327967153,
          0.00009551648196554344,
          0.0000707336423404664,
          0.00005204006213873333,
          0.00003803764941658193,
          0.000027621904329383047
         ],
         "yaxis": "y8"
        },
        {
         "marker": {
          "color": "#DD3497"
         },
         "mode": "lines",
         "name": "Group 1",
         "showlegend": false,
         "type": "scatter",
         "x": [
          -11.342062120409642,
          -10.951703005844804,
          -10.561343891279966,
          -10.170984776715128,
          -9.780625662150292,
          -9.390266547585455,
          -8.999907433020617,
          -8.60954831845578,
          -8.219189203890942,
          -7.828830089326104,
          -7.438470974761266,
          -7.048111860196429,
          -6.6577527456315915,
          -6.267393631066754,
          -5.877034516501917,
          -5.486675401937079,
          -5.096316287372241,
          -4.705957172807404,
          -4.315598058242566,
          -3.925238943677729,
          -3.5348798291128913,
          -3.1445207145480545,
          -2.7541615999832167,
          -2.363802485418379,
          -1.9734433708535413,
          -1.5830842562887035,
          -1.1927251417238658,
          -0.802366027159028,
          -0.4120069125941921,
          -0.021647798029354348,
          0.3687113165354834,
          0.7590704311003211,
          1.1494295456651589,
          1.5397886602299966,
          1.9301477747948343,
          2.320506889359672,
          2.71086600392451,
          3.101225118489346,
          3.4915842330541835,
          3.8819433476190213,
          4.272302462183859,
          4.662661576748695,
          5.053020691313533,
          5.4433798058783704,
          5.833738920443208,
          6.224098035008046,
          6.614457149572884,
          7.004816264137721,
          7.395175378702559,
          7.785534493267397,
          8.175893607832235,
          8.566252722397072,
          8.95661183696191,
          9.346970951526748,
          9.737330066091586,
          10.127689180656423,
          10.518048295221258,
          10.908407409786095,
          11.298766524350933,
          11.68912563891577,
          12.079484753480608,
          12.469843868045446,
          12.860202982610284,
          13.250562097175122,
          13.64092121173996,
          14.031280326304797,
          14.421639440869635,
          14.811998555434473,
          15.20235766999931,
          15.592716784564148,
          15.983075899128986,
          16.373435013693822,
          16.76379412825866,
          17.154153242823497,
          17.544512357388335,
          17.934871471953173,
          18.32523058651801,
          18.71558970108285,
          19.105948815647686,
          19.496307930212524,
          19.88666704477736,
          20.2770261593422,
          20.66738527390703,
          21.057744388471868,
          21.448103503036705,
          21.838462617601543,
          22.22882173216638,
          22.61918084673122,
          23.009539961296056,
          23.399899075860894,
          23.79025819042573,
          24.18061730499057,
          24.570976419555407,
          24.961335534120245,
          25.351694648685083,
          25.74205376324992,
          26.132412877814758,
          26.522771992379596,
          26.913131106944434,
          27.30349022150927
         ],
         "xaxis": "x8",
         "y": [
          0.000027704140353500795,
          0.00003815089523111736,
          0.00005219499598232707,
          0.00007094423077231673,
          0.0000958008539487671,
          0.00012852445087047342,
          0.0001713034912500053,
          0.00022683535835992696,
          0.00029841412099025855,
          0.0003900246617741082,
          0.0005064409889496545,
          0.0006533256481356498,
          0.0008373261378384277,
          0.001066163153119038,
          0.0013487043879460057,
          0.0016950165865075423,
          0.0021163876311574422,
          0.0026253097871557205,
          0.003235414898682139,
          0.003961352456746061,
          0.004818602142909117,
          0.005823213784270971,
          0.006991469701135317,
          0.008339467219388292,
          0.009882622638583936,
          0.011635102122316415,
          0.013609189676431927,
          0.015814607406131,
          0.018257808337396743,
          0.02094126694158177,
          0.023862796766786105,
          0.027014927890741187,
          0.030384378909744162,
          0.03395165854531551,
          0.037690830429194216,
          0.04156947105728906,
          0.04554884524319679,
          0.04958431574884437,
          0.05362599436804143,
          0.057619630978293715,
          0.061507725479225644,
          0.0652308357307175,
          0.06872904328809448,
          0.07194352862680636,
          0.07481819934879415,
          0.07730130918044724,
          0.07934700289051738,
          0.08091672288527942,
          0.08198041728306552,
          0.0825174966158121,
          0.0825174966158121,
          0.08198041728306552,
          0.08091672288527942,
          0.07934700289051738,
          0.07730130918044724,
          0.07481819934879415,
          0.07194352862680639,
          0.06872904328809452,
          0.06523083573071753,
          0.06150772547922567,
          0.05761963097829373,
          0.05362599436804145,
          0.049584315748844386,
          0.04554884524319679,
          0.04156947105728906,
          0.037690830429194216,
          0.03395165854531551,
          0.030384378909744162,
          0.027014927890741187,
          0.023862796766786105,
          0.02094126694158177,
          0.018257808337396753,
          0.015814607406131,
          0.013609189676431927,
          0.011635102122316415,
          0.009882622638583936,
          0.008339467219388292,
          0.006991469701135317,
          0.005823213784270971,
          0.00481860214290911,
          0.003961352456746057,
          0.0032354148986821346,
          0.002625309787155729,
          0.0021163876311574496,
          0.0016950165865075484,
          0.0013487043879460104,
          0.0010661631531190417,
          0.0008373261378384313,
          0.0006533256481356516,
          0.0005064409889496558,
          0.0003900246617741086,
          0.00029841412099025855,
          0.00022683535835992696,
          0.0001713034912500053,
          0.00012852445087047342,
          0.0000958008539487671,
          0.00007094423077231673,
          0.00005219499598232707,
          0.00003815089523111736,
          0.000027704140353500795
         ],
         "yaxis": "y8"
        },
        {
         "marker": {
          "color": "#073B4C"
         },
         "mode": "lines",
         "name": "Group 0",
         "showlegend": false,
         "type": "scatter",
         "x": [
          -18.071863198777802,
          -17.679829216038627,
          -17.287795233299452,
          -16.895761250560277,
          -16.5037272678211,
          -16.111693285081927,
          -15.719659302342752,
          -15.327625319603577,
          -14.935591336864402,
          -14.543557354125227,
          -14.151523371386052,
          -13.759489388646877,
          -13.367455405907704,
          -12.975421423168529,
          -12.583387440429354,
          -12.191353457690179,
          -11.799319474951004,
          -11.407285492211829,
          -11.015251509472654,
          -10.623217526733479,
          -10.231183543994304,
          -9.839149561255129,
          -9.447115578515954,
          -9.055081595776779,
          -8.663047613037605,
          -8.27101363029843,
          -7.878979647559255,
          -7.48694566482008,
          -7.094911682080905,
          -6.70287769934173,
          -6.310843716602555,
          -5.91880973386338,
          -5.526775751124205,
          -5.13474176838503,
          -4.742707785645855,
          -4.35067380290668,
          -3.9586398201675053,
          -3.5666058374283303,
          -3.1745718546891553,
          -2.7825378719499803,
          -2.3905038892108053,
          -1.9984699064716303,
          -1.6064359237324553,
          -1.2144019409932802,
          -0.8223679582541052,
          -0.43033397551493024,
          -0.03829999277575524,
          0.35373398996341976,
          0.7457679727025912,
          1.1378019554417662,
          1.5298359381809412,
          1.9218699209201162,
          2.313903903659291,
          2.705937886398466,
          3.097971869137641,
          3.4900058518768162,
          3.8820398346159912,
          4.274073817355166,
          4.666107800094341,
          5.058141782833516,
          5.450175765572691,
          5.842209748311866,
          6.234243731051041,
          6.626277713790216,
          7.018311696529391,
          7.410345679268566,
          7.802379662007741,
          8.194413644746916,
          8.586447627486091,
          8.978481610225266,
          9.370515592964441,
          9.762549575703616,
          10.154583558442791,
          10.546617541181966,
          10.938651523921141,
          11.330685506660316,
          11.722719489399491,
          12.114753472138666,
          12.506787454877841,
          12.898821437617016,
          13.290855420356191,
          13.682889403095363,
          14.074923385834541,
          14.466957368573713,
          14.858991351312891,
          15.251025334052063,
          15.643059316791241,
          16.035093299530413,
          16.42712728226959,
          16.819161265008763,
          17.21119524774794,
          17.603229230487113,
          17.99526321322629,
          18.387297195965463,
          18.77933117870464,
          19.171365161443813,
          19.563399144182984,
          19.955433126922163,
          20.347467109661334,
          20.739501092400513
         ],
         "xaxis": "x13",
         "y": [
          0.000027585781269802878,
          0.00003798790497247034,
          0.000051972005778723653,
          0.00007064113910295893,
          0.00009539156850817334,
          0.00012797536196016215,
          0.0001705716394762307,
          0.0002258662604264341,
          0.0002971392205070727,
          0.0003883583779263454,
          0.0005042773451536623,
          0.0006505344759829318,
          0.0008337488691281806,
          0.001061608234891456,
          0.0013429423822132966,
          0.0016877750476085938,
          0.002107345888747203,
          0.0026140938007772887,
          0.0032215923891978355,
          0.0039444285586931905,
          0.004798015857716273,
          0.00579833554445234,
          0.0069616003770209675,
          0.008303838909467067,
          0.009840401579019909,
          0.011585394027845428,
          0.013551047781414765,
          0.01574704340963991,
          0.018179806369547427,
          0.020851800560923395,
          0.023760848872942514,
          0.026899513296730525,
          0.030254569170095127,
          0.03380660848622061,
          0.03752980568356085,
          0.04139187577942199,
          0.045354249073898845,
          0.0493724790304717,
          0.05339689057796518,
          0.057373465364108124,
          0.06124494894347422,
          0.06495215312777719,
          0.0684354154590691,
          0.07163616770466219,
          0.074498557107387,
          0.07697105846678122,
          0.0790080124567243,
          0.08057102621126838,
          0.08163017623797311,
          0.08216496103218193,
          0.08216496103218195,
          0.08163017623797313,
          0.0805710262112684,
          0.07900801245672431,
          0.07697105846678123,
          0.07449855710738702,
          0.07163616770466222,
          0.06843541545906912,
          0.06495215312777725,
          0.06124494894347426,
          0.05737346536410817,
          0.05339689057796523,
          0.049372479030471726,
          0.04535424907389889,
          0.04139187577942202,
          0.03752980568356089,
          0.03380660848622064,
          0.030254569170095166,
          0.026899513296730557,
          0.023760848872942542,
          0.02085180056092342,
          0.018179806369547455,
          0.01574704340963994,
          0.013551047781414785,
          0.01158539402784544,
          0.009840401579019917,
          0.008303838909467067,
          0.0069616003770209675,
          0.005798335544452346,
          0.004798015857716279,
          0.003944428558693194,
          0.0032215923891978472,
          0.002614093800777292,
          0.002107345888747211,
          0.0016877750476085938,
          0.0013429423822133,
          0.0010616082348914569,
          0.0008337488691281828,
          0.0006505344759829318,
          0.0005042773451536637,
          0.0003883583779263454,
          0.0002971392205070727,
          0.00022586626042643326,
          0.0001705716394762307,
          0.00012797536196016194,
          0.00009539156850817334,
          0.000070641139102959,
          0.000051972005778723653,
          0.00003798790497247048,
          0.000027585781269802878
         ],
         "yaxis": "y13"
        },
        {
         "marker": {
          "color": "#DD3497"
         },
         "mode": "lines",
         "name": "Group 1",
         "showlegend": false,
         "type": "scatter",
         "x": [
          -11.146224231228938,
          -10.823309257756446,
          -10.500394284283953,
          -10.177479310811458,
          -9.854564337338966,
          -9.531649363866473,
          -9.208734390393978,
          -8.885819416921485,
          -8.562904443448993,
          -8.2399894699765,
          -7.917074496504006,
          -7.594159523031513,
          -7.27124454955902,
          -6.948329576086527,
          -6.6254146026140335,
          -6.30249962914154,
          -5.979584655669047,
          -5.656669682196554,
          -5.333754708724061,
          -5.010839735251567,
          -4.687924761779074,
          -4.3650097883065815,
          -4.042094814834088,
          -3.719179841361594,
          -3.3962648678891014,
          -3.0733498944166087,
          -2.750434920944116,
          -2.4275199474716214,
          -2.1046049739991286,
          -1.7816900005266358,
          -1.4587750270541413,
          -1.1358600535816485,
          -0.8129450801091558,
          -0.490030106636663,
          -0.16711513316417026,
          0.15579984030832428,
          0.47871481378081704,
          0.8016297872533098,
          1.1245447607258043,
          1.447459734198297,
          1.7703747076707899,
          2.0932896811432826,
          2.4162046546157754,
          2.73911962808827,
          3.0620346015607627,
          3.3849495750332554,
          3.70786454850575,
          4.030779521978243,
          4.3536944954507355,
          4.676609468923228,
          4.999524442395721,
          5.322439415868214,
          5.6453543893407065,
          5.968269362813203,
          6.291184336285696,
          6.614099309758188,
          6.937014283230681,
          7.259929256703174,
          7.582844230175667,
          7.905759203648159,
          8.228674177120656,
          8.551589150593149,
          8.874504124065641,
          9.197419097538134,
          9.520334071010627,
          9.84324904448312,
          10.166164017955612,
          10.489078991428105,
          10.811993964900598,
          11.134908938373094,
          11.457823911845587,
          11.78073888531808,
          12.103653858790572,
          12.426568832263065,
          12.749483805735558,
          13.07239877920805,
          13.395313752680547,
          13.71822872615304,
          14.041143699625533,
          14.364058673098025,
          14.686973646570518,
          15.00988862004301,
          15.332803593515504,
          15.655718566987996,
          15.97863354046049,
          16.301548513932985,
          16.624463487405478,
          16.94737846087797,
          17.270293434350464,
          17.593208407822956,
          17.91612338129545,
          18.239038354767942,
          18.56195332824044,
          18.88486830171293,
          19.207783275185424,
          19.530698248657917,
          19.85361322213041,
          20.176528195602902,
          20.499443169075395,
          20.822358142547888
         ],
         "xaxis": "x13",
         "y": [
          0.00003349043738008566,
          0.00004611910535496875,
          0.00006309646219645493,
          0.0000857616691166662,
          0.00011580985582627827,
          0.00015536811533455714,
          0.00020708200194969784,
          0.00027421227541472723,
          0.0003607410049485502,
          0.00047148535724856965,
          0.0006122164416837361,
          0.0007897794852503321,
          0.0010122103854575404,
          0.0012888423845995947,
          0.001630395286495319,
          0.0020490383792567024,
          0.002558417136531351,
          0.003173632962733472,
          0.00391116485407273,
          0.004788721999682549,
          0.0058250171731552,
          0.007039452374429469,
          0.008451710655264956,
          0.010081251435001059,
          0.011946710867232856,
          0.014065213865735417,
          0.016451610078370742,
          0.019117652172836404,
          0.02207114095651501,
          0.025315067719763388,
          0.028846789347527043,
          0.03265727574680262,
          0.03673047155498532,
          0.04104281453794528,
          0.045562951247929584,
          0.05025168619576032,
          0.055062193949639474,
          0.059940514321399185,
          0.06482633943560621,
          0.06965408846906686,
          0.0743542518291208,
          0.07885497226822248,
          0.08308381675312533,
          0.086969680691572,
          0.09044475620644651,
          0.09344648927824509,
          0.09591944733511841,
          0.09781701963001921,
          0.09910287763413164,
          0.09975213155545806,
          0.09975213155545808,
          0.09910287763413164,
          0.09781701963001922,
          0.09591944733511841,
          0.09344648927824509,
          0.09044475620644651,
          0.086969680691572,
          0.08308381675312536,
          0.07885497226822251,
          0.07435425182912082,
          0.06965408846906683,
          0.06482633943560619,
          0.059940514321399185,
          0.055062193949639474,
          0.05025168619576032,
          0.045562951247929605,
          0.04104281453794531,
          0.03673047155498535,
          0.03265727574680265,
          0.028846789347527026,
          0.025315067719763388,
          0.02207114095651501,
          0.019117652172836404,
          0.016451610078370756,
          0.014065213865735428,
          0.011946710867232856,
          0.010081251435001036,
          0.00845171065526495,
          0.007039452374429469,
          0.0058250171731552,
          0.004788721999682549,
          0.00391116485407273,
          0.003173632962733472,
          0.002558417136531351,
          0.0020490383792567024,
          0.0016303952864953162,
          0.0012888423845995947,
          0.0010122103854575404,
          0.0007897794852503321,
          0.0006122164416837361,
          0.00047148535724856965,
          0.0003607410049485502,
          0.0002742122754147262,
          0.00020708200194969727,
          0.00015536811533455714,
          0.00011580985582627827,
          0.0000857616691166662,
          0.00006309646219645493,
          0.00004611910535496875,
          0.00003349043738008566
         ],
         "yaxis": "y13"
        },
        {
         "marker": {
          "color": "#073B4C"
         },
         "mode": "lines",
         "name": "Group 0",
         "showlegend": false,
         "type": "scatter",
         "x": [
          -17.95679996783469,
          -17.569144354070026,
          -17.18148874030536,
          -16.7938331265407,
          -16.406177512776036,
          -16.018521899011372,
          -15.630866285246707,
          -15.243210671482045,
          -14.85555505771738,
          -14.467899443952717,
          -14.080243830188053,
          -13.692588216423388,
          -13.304932602658726,
          -12.917276988894063,
          -12.529621375129398,
          -12.141965761364734,
          -11.75431014760007,
          -11.366654533835407,
          -10.978998920070744,
          -10.59134330630608,
          -10.203687692541415,
          -9.816032078776752,
          -9.428376465012088,
          -9.040720851247423,
          -8.65306523748276,
          -8.265409623718096,
          -7.877754009953433,
          -7.490098396188769,
          -7.102442782424104,
          -6.714787168659441,
          -6.327131554894777,
          -5.939475941130114,
          -5.55182032736545,
          -5.164164713600785,
          -4.776509099836122,
          -4.388853486071458,
          -4.001197872306795,
          -3.6135422585421306,
          -3.225886644777466,
          -2.8382310310128034,
          -2.450575417248139,
          -2.062919803483476,
          -1.6752641897188134,
          -1.287608575954149,
          -0.8999529621894844,
          -0.5122973484248199,
          -0.12464173466015538,
          0.2630138791045056,
          0.6506694928691701,
          1.0383251066338346,
          1.425980720398499,
          1.8136363341631636,
          2.2012919479278246,
          2.588947561692489,
          2.9766031754571536,
          3.364258789221818,
          3.7519144029864826,
          4.1395700167511436,
          4.527225630515808,
          4.914881244280473,
          5.302536858045137,
          5.690192471809802,
          6.0778480855744625,
          6.465503699339127,
          6.853159313103792,
          7.240814926868456,
          7.628470540633121,
          8.016126154397782,
          8.403781768162446,
          8.79143738192711,
          9.179092995691775,
          9.56674860945644,
          9.9544042232211,
          10.342059836985765,
          10.72971545075043,
          11.117371064515094,
          11.505026678279759,
          11.89268229204442,
          12.280337905809084,
          12.667993519573749,
          13.055649133338413,
          13.443304747103078,
          13.830960360867739,
          14.218615974632407,
          14.606271588397064,
          14.993927202161728,
          15.381582815926393,
          15.769238429691057,
          16.156894043455722,
          16.544549657220387,
          16.93220527098505,
          17.319860884749716,
          17.70751649851438,
          18.095172112279045,
          18.482827726043702,
          18.870483339808366,
          19.25813895357303,
          19.645794567337695,
          20.03345018110236,
          20.421105794867024
         ],
         "xaxis": "x18",
         "y": [
          0.00002789734835295797,
          0.000038416958644421325,
          0.000052559002611904605,
          0.00007143899410825297,
          0.00009646896676878415,
          0.00012942077725769055,
          0.00017249815762196714,
          0.0002284173026193644,
          0.000300495253795342,
          0.00039274468425734674,
          0.0005099728960606331,
          0.0006578819252790552,
          0.0008431656299114805,
          0.0010735985489580956,
          0.0013581102194689908,
          0.0017068375908609393,
          0.002131147266904099,
          0.0026436186336118643,
          0.003257978603312996,
          0.003988978832210039,
          0.0048522069567864725,
          0.005863824735244885,
          0.007040228040393844,
          0.008397626460477797,
          0.009951543807948058,
          0.01171624504087836,
          0.013704099833472202,
          0.015924898092654797,
          0.018385137847655147,
          0.021087310826728732,
          0.024029215329713343,
          0.027203329339284616,
          0.030596278827554054,
          0.034188436584341175,
          0.037953685361784964,
          0.04185937553506712,
          0.04586650177953867,
          0.04993011555811645,
          0.053999980745476246,
          0.058021468880092034,
          0.061936678857289984,
          0.06568575398891421,
          0.06920835796051747,
          0.07244526104161919,
          0.07533997964714377,
          0.07784040662622985,
          0.07990036695436435,
          0.08148103413810341,
          0.08255214671468905,
          0.08309297162560936,
          0.08309297162560936,
          0.08255214671468904,
          0.08148103413810341,
          0.07990036695436435,
          0.07784040662622983,
          0.07533997964714376,
          0.07244526104161918,
          0.06920835796051748,
          0.06568575398891423,
          0.06193667885728998,
          0.058021468880092034,
          0.05399998074547622,
          0.04993011555811647,
          0.04586650177953869,
          0.04185937553506712,
          0.037953685361784964,
          0.03418843658434116,
          0.03059627882755407,
          0.027203329339284626,
          0.024029215329713343,
          0.021087310826728732,
          0.018385137847655133,
          0.015924898092654804,
          0.013704099833472214,
          0.01171624504087836,
          0.009951543807948058,
          0.008397626460477784,
          0.0070402280403938505,
          0.005863824735244891,
          0.0048522069567864725,
          0.003988978832210039,
          0.003257978603312996,
          0.0026436186336118673,
          0.0021311472669040938,
          0.0017068375908609434,
          0.0013581102194689945,
          0.0010735985489580984,
          0.0008431656299114812,
          0.0006578819252790552,
          0.0005099728960606331,
          0.00039274468425734674,
          0.0003004952537953412,
          0.000228417302619364,
          0.00017249815762196684,
          0.0001294207772576909,
          0.00009646896676878449,
          0.0000714389941082531,
          0.000052559002611904605,
          0.000038416958644421325,
          0.00002789734835295797
         ],
         "yaxis": "y18"
        },
        {
         "marker": {
          "color": "#DD3497"
         },
         "mode": "lines",
         "name": "Group 1",
         "showlegend": false,
         "type": "scatter",
         "x": [
          -10.641834620249277,
          -10.336678289015907,
          -10.031521957782536,
          -9.726365626549166,
          -9.421209295315796,
          -9.116052964082424,
          -8.810896632849055,
          -8.505740301615685,
          -8.200583970382315,
          -7.895427639148943,
          -7.5902713079155735,
          -7.285114976682203,
          -6.979958645448832,
          -6.674802314215462,
          -6.3696459829820915,
          -6.064489651748722,
          -5.759333320515351,
          -5.45417698928198,
          -5.14902065804861,
          -4.84386432681524,
          -4.53870799558187,
          -4.233551664348499,
          -3.9283953331151285,
          -3.6232390018817586,
          -3.318082670648388,
          -3.012926339415017,
          -2.7077700081816474,
          -2.4026136769482775,
          -2.097457345714906,
          -1.7923010144815361,
          -1.4871446832481663,
          -1.1819883520147947,
          -0.8768320207814249,
          -0.571675689548055,
          -0.26651935831468343,
          0.038636972918686396,
          0.3437933041520562,
          0.6489496353854278,
          0.9541059666187977,
          1.2592622978521675,
          1.5644186290855373,
          1.869574960318909,
          2.1747312915522787,
          2.4798876227856486,
          2.78504395401902,
          3.09020028525239,
          3.39535661648576,
          3.7005129477191314,
          4.005669278952501,
          4.310825610185871,
          4.615981941419243,
          4.9211382726526125,
          5.226294603885982,
          5.531450935119352,
          5.836607266352722,
          6.141763597586095,
          6.446919928819465,
          6.752076260052835,
          7.057232591286205,
          7.362388922519575,
          7.6675452537529445,
          7.972701584986318,
          8.277857916219688,
          8.583014247453058,
          8.888170578686427,
          9.193326909919797,
          9.498483241153167,
          9.803639572386537,
          10.10879590361991,
          10.41395223485328,
          10.71910856608665,
          11.02426489732002,
          11.32942122855339,
          11.63457755978676,
          11.939733891020133,
          12.244890222253503,
          12.550046553486872,
          12.855202884720242,
          13.160359215953612,
          13.465515547186982,
          13.770671878420352,
          14.075828209653725,
          14.380984540887095,
          14.686140872120465,
          14.991297203353835,
          15.296453534587204,
          15.601609865820574,
          15.906766197053948,
          16.211922528287317,
          16.517078859520687,
          16.822235190754057,
          17.127391521987427,
          17.432547853220797,
          17.73770418445417,
          18.04286051568754,
          18.34801684692091,
          18.65317317815428,
          18.95832950938765,
          19.26348584062102,
          19.56864217185439
         ],
         "xaxis": "x18",
         "y": [
          0.000035439421015656546,
          0.0000488030172013232,
          0.00006676837519322083,
          0.00009075258899539624,
          0.00012254943677834614,
          0.00016440979821376079,
          0.00021913318624570236,
          0.0002901701212735499,
          0.00038173440994188616,
          0.0004989235550618714,
          0.0006478445170273727,
          0.0008357408823797063,
          0.001071116199514922,
          0.0013638468608895482,
          0.001725276511748616,
          0.0021682826346990833,
          0.0027073048048371915,
          0.0033583232562485357,
          0.004138775984082643,
          0.005067402767770381,
          0.0061640053750277105,
          0.007449114909601442,
          0.008943559882933947,
          0.010667932159707747,
          0.01264195242872345,
          0.014883742192015917,
          0.01740901527608859,
          0.02023020829781403,
          0.023355576034338302,
          0.026788283854842176,
          0.03052553482758822,
          0.03455777335125291,
          0.038868009717745684,
          0.04343131048335183,
          0.04821449757928129,
          0.05317609452593096,
          0.05826655087482823,
          0.06342876621235767,
          0.06859892303253137,
          0.07370762402120454,
          0.07868131445913122,
          0.08344395534986922,
          0.08791889840329511,
          0.09203090107920091,
          0.09570820940560901,
          0.0988846290175949,
          0.10150150143215783,
          0.10350950337920385,
          0.10487019218290367,
          0.10555722958414211,
          0.10555722958414211,
          0.10487019218290367,
          0.10350950337920385,
          0.10150150143215783,
          0.0988846290175949,
          0.09570820940560897,
          0.09203090107920088,
          0.08791889840329509,
          0.08344395534986919,
          0.07868131445913122,
          0.07370762402120454,
          0.06859892303253132,
          0.06342876621235762,
          0.058266550874828196,
          0.053176094525930924,
          0.048214497579281264,
          0.04343131048335183,
          0.038868009717745684,
          0.03455777335125285,
          0.030525534827588196,
          0.026788283854842155,
          0.02335557603433829,
          0.02023020829781403,
          0.01740901527608859,
          0.014883742192015893,
          0.012641952428723437,
          0.010667932159707731,
          0.008943559882933936,
          0.007449114909601435,
          0.0061640053750277105,
          0.005067402767770381,
          0.00413877598408264,
          0.003358323256248531,
          0.002707304804837189,
          0.0021682826346990803,
          0.0017252765117486142,
          0.0013638468608895482,
          0.0010711161995149191,
          0.0008357408823797045,
          0.0006478445170273716,
          0.0004989235550618705,
          0.00038173440994188616,
          0.0002901701212735499,
          0.00021913318624570163,
          0.0001644097982137602,
          0.00012254943677834592,
          0.00009075258899539606,
          0.00006676837519322073,
          0.0000488030172013232,
          0.000035439421015656546
         ],
         "yaxis": "y18"
        },
        {
         "marker": {
          "color": "#073B4C"
         },
         "mode": "lines",
         "name": "Group 0",
         "showlegend": false,
         "type": "scatter",
         "x": [
          -16.68745041195987,
          -16.33324603871959,
          -15.979041665479313,
          -15.624837292239034,
          -15.270632918998757,
          -14.916428545758478,
          -14.5622241725182,
          -14.208019799277922,
          -13.853815426037643,
          -13.499611052797366,
          -13.145406679557087,
          -12.791202306316809,
          -12.436997933076531,
          -12.082793559836254,
          -11.728589186595975,
          -11.374384813355697,
          -11.020180440115418,
          -10.66597606687514,
          -10.311771693634864,
          -9.957567320394585,
          -9.603362947154306,
          -9.249158573914027,
          -8.89495420067375,
          -8.540749827433471,
          -8.186545454193194,
          -7.832341080952915,
          -7.478136707712638,
          -7.123932334472359,
          -6.76972796123208,
          -6.415523587991803,
          -6.061319214751524,
          -5.707114841511247,
          -5.352910468270968,
          -4.998706095030689,
          -4.644501721790412,
          -4.2902973485501334,
          -3.9360929753098564,
          -3.5818886020695775,
          -3.2276842288292986,
          -2.8734798555890215,
          -2.5192754823487427,
          -2.1650711091084656,
          -1.8108667358681867,
          -1.4566623626279078,
          -1.1024579893876307,
          -0.7482536161473519,
          -0.394049242907073,
          -0.03984486966679768,
          0.3143595035734812,
          0.6685638768137601,
          1.022768250054039,
          1.3769726232943178,
          1.7311769965345931,
          2.085381369774872,
          2.439585743015151,
          2.7937901162554297,
          3.1479944894957086,
          3.502198862735984,
          3.8564032359762628,
          4.210607609216542,
          4.5648119824568205,
          4.919016355697099,
          5.273220728937375,
          5.627425102177654,
          5.981629475417932,
          6.335833848658211,
          6.69003822189849,
          7.0442425951387655,
          7.398446968379044,
          7.752651341619323,
          8.106855714859602,
          8.461060088099881,
          8.815264461340156,
          9.169468834580435,
          9.523673207820714,
          9.877877581060993,
          10.232081954301272,
          10.586286327541547,
          10.940490700781826,
          11.294695074022105,
          11.648899447262384,
          12.003103820502663,
          12.357308193742938,
          12.711512566983217,
          13.065716940223496,
          13.419921313463774,
          13.774125686704053,
          14.128330059944329,
          14.482534433184608,
          14.836738806424886,
          15.190943179665165,
          15.545147552905444,
          15.899351926145723,
          16.253556299386002,
          16.607760672626274,
          16.961965045866553,
          17.31616941910683,
          17.67037379234711,
          18.02457816558739,
          18.378782538827668
         ],
         "xaxis": "x4",
         "y": [
          0.000030531988070165315,
          0.00004204507568903544,
          0.00005752270145618717,
          0.00007818572891808618,
          0.00010557954488220708,
          0.00014164334105410965,
          0.00018878897105218835,
          0.0002499891484437199,
          0.0003288741778588384,
          0.00042983569128693595,
          0.0005581349948257701,
          0.0007200126277258806,
          0.0009227946193280819,
          0.0011749897400359836,
          0.0014863708369042962,
          0.0018680321979902552,
          0.0023324138948848214,
          0.0028932833171918977,
          0.003565663753797558,
          0.004365700014792456,
          0.005310451840949592,
          0.006417607315107215,
          0.007705110744611563,
          0.009190702559436149,
          0.01089137264874786,
          0.012822733160490587,
          0.014998321967168724,
          0.01742885353947916,
          0.02012143958382457,
          0.023078807148539732,
          0.02629854660378326,
          0.029772425549102404,
          0.03348580690663677,
          0.03741720986252907,
          0.041538050642793735,
          0.04581259617549733,
          0.050198157453362625,
          0.054645540976683796,
          0.05909976629500065,
          0.06350104580719419,
          0.06778601019892017,
          0.07188914988605705,
          0.07574443036204193,
          0.07928702821062922,
          0.08245512550834211,
          0.08519169407858335,
          0.08744619810412267,
          0.08917614429779759,
          0.09034841328897034,
          0.09094031397857535,
          0.09094031397857535,
          0.09034841328897035,
          0.0891761442977976,
          0.08744619810412269,
          0.08519169407858336,
          0.08245512550834212,
          0.07928702821062922,
          0.07574443036204195,
          0.07188914988605709,
          0.06778601019892018,
          0.0635010458071942,
          0.05909976629500062,
          0.05464554097668382,
          0.050198157453362646,
          0.04581259617549733,
          0.041538050642793735,
          0.03741720986252904,
          0.03348580690663679,
          0.02977242554910242,
          0.02629854660378326,
          0.023078807148539732,
          0.02012143958382456,
          0.017428853539479167,
          0.014998321967168736,
          0.012822733160490587,
          0.01089137264874786,
          0.009190702559436135,
          0.007705110744611571,
          0.006417607315107215,
          0.005310451840949592,
          0.004365700014792456,
          0.003565663753797558,
          0.002893283317191901,
          0.0023324138948848214,
          0.0018680321979902552,
          0.0014863708369042962,
          0.0011749897400359836,
          0.0009227946193280827,
          0.0007200126277258806,
          0.0005581349948257701,
          0.00042983569128693595,
          0.0003288741778588378,
          0.0002499891484437194,
          0.00018878897105218802,
          0.00014164334105411003,
          0.00010557954488220744,
          0.0000781857289180864,
          0.00005752270145618727,
          0.00004204507568903544,
          0.000030531988070165315
         ],
         "yaxis": "y4"
        },
        {
         "marker": {
          "color": "#DD3497"
         },
         "mode": "lines",
         "name": "Group 1",
         "showlegend": false,
         "type": "scatter",
         "x": [
          -12.124027724225884,
          -11.669571334143434,
          -11.215114944060984,
          -10.760658553978534,
          -10.306202163896085,
          -9.851745773813633,
          -9.397289383731184,
          -8.942832993648734,
          -8.488376603566284,
          -8.033920213483833,
          -7.579463823401383,
          -7.125007433318934,
          -6.670551043236483,
          -6.216094653154033,
          -5.761638263071584,
          -5.307181872989133,
          -4.852725482906683,
          -4.398269092824233,
          -3.9438127027417824,
          -3.489356312659332,
          -3.034899922576882,
          -2.5804435324944333,
          -2.125987142411983,
          -1.6715307523295326,
          -1.2170743622470823,
          -0.762617972164632,
          -0.3081615820821817,
          0.14629480800026862,
          0.6007511980827172,
          1.0552075881651675,
          1.5096639782476178,
          1.964120368330068,
          2.4185767584125184,
          2.8730331484949687,
          3.327489538577419,
          3.7819459286598693,
          4.23640231874232,
          4.690858708824768,
          5.14531509890722,
          5.599771488989669,
          6.054227879072121,
          6.508684269154569,
          6.963140659237018,
          7.41759704931947,
          7.872053439401919,
          8.32650982948437,
          8.78096621956682,
          9.235422609649271,
          9.68987899973172,
          10.144335389814168,
          10.59879177989662,
          11.053248169979069,
          11.507704560061521,
          11.96216095014397,
          12.416617340226422,
          12.87107373030887,
          13.325530120391319,
          13.77998651047377,
          14.23444290055622,
          14.688899290638672,
          15.14335568072112,
          15.597812070803572,
          16.05226846088602,
          16.506724850968475,
          16.961181241050923,
          17.41563763113337,
          17.87009402121582,
          18.32455041129827,
          18.779006801380724,
          19.233463191463173,
          19.68791958154562,
          20.142375971628077,
          20.596832361710526,
          21.051288751792974,
          21.505745141875423,
          21.96020153195787,
          22.414657922040327,
          22.869114312122775,
          23.323570702205224,
          23.778027092287672,
          24.232483482370128,
          24.686939872452577,
          25.141396262535025,
          25.595852652617474,
          26.050309042699922,
          26.504765432782378,
          26.959221822864826,
          27.413678212947275,
          27.868134603029723,
          28.322590993112172,
          28.777047383194628,
          29.231503773277076,
          29.685960163359525,
          30.140416553441973,
          30.59487294352443,
          31.049329333606877,
          31.503785723689326,
          31.958242113771774,
          32.41269850385422,
          32.86715489393668
         ],
         "xaxis": "x4",
         "y": [
          0.000023796702905223786,
          0.0000327700303203416,
          0.00004483332803985864,
          0.000060938139967050847,
          0.0000822889441937678,
          0.00011039715127039518,
          0.00014714256554756655,
          0.00019484212693172582,
          0.00025632530334157556,
          0.00033501494302009665,
          0.0004350117202441827,
          0.0005611795259000793,
          0.000719228284388967,
          0.0009157897512623738,
          0.0011584809063699094,
          0.001455948663768936,
          0.0018178888443502973,
          0.002255031783768254,
          0.002779086668514678,
          0.003402636801331121,
          0.004138978584072659,
          0.005001898149869487,
          0.006005381333832553,
          0.007163255068571683,
          0.008488761313436797,
          0.00999406821304655,
          0.011689727216891098,
          0.01358408920848887,
          0.015682697068441838,
          0.01798767626459973,
          0.020497148725828897,
          0.023204698099963856,
          0.026098916214289322,
          0.029163060872249066,
          0.03237485381355156,
          0.035706444598365084,
          0.03912456131458353,
          0.04259086243349025,
          0.046062496063417134,
          0.04949286360823031,
          0.05283257487613184,
          0.056030571544054046,
          0.05903538616315083,
          0.06179649521120178,
          0.06426571765407912,
          0.06639860559757463,
          0.06815577130755389,
          0.06950409541662596,
          0.07041776460986147,
          0.07087909339158241,
          0.07087909339158241,
          0.07041776460986147,
          0.06950409541662596,
          0.0681557713075539,
          0.06639860559757463,
          0.06426571765407915,
          0.0617964952112018,
          0.05903538616315085,
          0.056030571544054074,
          0.05283257487613184,
          0.04949286360823034,
          0.046062496063417134,
          0.04259086243349028,
          0.03912456131458351,
          0.035706444598365084,
          0.03237485381355157,
          0.029163060872249093,
          0.026098916214289367,
          0.023204698099963856,
          0.0204971487258289,
          0.01798767626459975,
          0.01568269706844183,
          0.013584089208488859,
          0.011689727216891098,
          0.00999406821304656,
          0.008488761313436802,
          0.007163255068571674,
          0.006005381333832553,
          0.005001898149869492,
          0.004138978584072659,
          0.003402636801331113,
          0.0027790866685146742,
          0.002255031783768254,
          0.0018178888443502997,
          0.0014559486637689392,
          0.0011584809063699074,
          0.000915789751262373,
          0.000719228284388967,
          0.0005611795259000793,
          0.0004350117202441827,
          0.0003350149430200963,
          0.00025632530334157556,
          0.00019484212693172582,
          0.00014714256554756655,
          0.00011039715127039459,
          0.0000822889441937678,
          0.000060938139967050847,
          0.00004483332803985864,
          0.0000327700303203416,
          0.000023796702905223705
         ],
         "yaxis": "y4"
        },
        {
         "marker": {
          "color": "#073B4C"
         },
         "mode": "lines",
         "name": "Group 0",
         "showlegend": false,
         "type": "scatter",
         "x": [
          -21.860869959848454,
          -21.381526870613076,
          -20.902183781377694,
          -20.422840692142316,
          -19.943497602906934,
          -19.464154513671556,
          -18.984811424436174,
          -18.505468335200796,
          -18.026125245965417,
          -17.546782156730035,
          -17.067439067494654,
          -16.588095978259275,
          -16.108752889023897,
          -15.629409799788515,
          -15.150066710553137,
          -14.670723621317757,
          -14.191380532082377,
          -13.712037442846997,
          -13.232694353611617,
          -12.753351264376237,
          -12.274008175140857,
          -11.794665085905478,
          -11.315321996670098,
          -10.835978907434718,
          -10.356635818199338,
          -9.877292728963958,
          -9.397949639728578,
          -8.918606550493198,
          -8.43926346125782,
          -7.95992037202244,
          -7.48057728278706,
          -7.00123419355168,
          -6.5218911043163,
          -6.04254801508092,
          -5.56320492584554,
          -5.083861836610161,
          -4.6045187473747795,
          -4.125175658139401,
          -3.6458325689040194,
          -3.166489479668641,
          -2.6871463904332593,
          -2.207803301197881,
          -1.7284602119625028,
          -1.249117122727121,
          -0.7697740334917427,
          -0.29043094425636085,
          0.18891214497901743,
          0.6682552342143993,
          1.1475983234497775,
          1.6269414126851558,
          2.1062845019205376,
          2.585627591155916,
          3.0649706803912977,
          3.544313769626676,
          4.023656858862058,
          4.502999948097436,
          4.982343037332814,
          5.461686126568196,
          5.9410292158035745,
          6.420372305038956,
          6.899715394274335,
          7.379058483509716,
          7.858401572745095,
          8.337744661980476,
          8.817087751215855,
          9.296430840451233,
          9.775773929686615,
          10.255117018921997,
          10.734460108157375,
          11.213803197392753,
          11.693146286628131,
          12.172489375863517,
          12.651832465098895,
          13.131175554334273,
          13.610518643569652,
          14.08986173280503,
          14.569204822040415,
          15.048547911275794,
          15.527891000511172,
          16.00723408974655,
          16.486577178981936,
          16.965920268217314,
          17.445263357452692,
          17.92460644668807,
          18.40394953592345,
          18.883292625158834,
          19.362635714394212,
          19.84197880362959,
          20.32132189286497,
          20.800664982100347,
          21.280008071335732,
          21.75935116057111,
          22.23869424980649,
          22.718037339041867,
          23.197380428277253,
          23.67672351751263,
          24.15606660674801,
          24.635409695983387,
          25.114752785218766,
          25.59409587445415
         ],
         "xaxis": "x9",
         "y": [
          0.000022561217510037155,
          0.000031068664630235,
          0.000042505655915217486,
          0.000057774332685051165,
          0.0000780166385242961,
          0.00010466551405123882,
          0.00013950316728855803,
          0.00018472624646080548,
          0.00024301731819940774,
          0.0003176215221365779,
          0.00041242663233359155,
          0.0005320440145190002,
          0.0006818871432776644,
          0.0008682434643984954,
          0.0010983344967549706,
          0.00138035822095036,
          0.0017235070669161443,
          0.002137954269054412,
          0.00263480109229084,
          0.0032259775351331,
          0.0039240896722776775,
          0.00474220788365962,
          0.005693591882998688,
          0.006791350731468153,
          0.008048038887824035,
          0.009475192746773137,
          0.011082815944026735,
          0.012878825799064363,
          0.014868477415309028,
          0.01705378590984056,
          0.01943297071786752,
          0.021999948613600065,
          0.02474390371775245,
          0.027648963060879883,
          0.030694005033060856,
          0.033852625143164984,
          0.037093278901647216,
          0.04037961540844844,
          0.04367100757113107,
          0.04692327611548108,
          0.050089595106643015,
          0.05312155708510385,
          0.05597036670670485,
          0.0585881235468062,
          0.060929148050759316,
          0.06295129998539453,
          0.06461723656248725,
          0.06589555791733864,
          0.0667617909195703,
          0.06719916827514344,
          0.06719916827514344,
          0.0667617909195703,
          0.06589555791733864,
          0.06461723656248725,
          0.0629512999853945,
          0.060929148050759316,
          0.0585881235468062,
          0.05597036670670485,
          0.05312155708510385,
          0.050089595106643,
          0.04692327611548108,
          0.04367100757113103,
          0.04037961540844844,
          0.03709327890164718,
          0.033852625143164984,
          0.030694005033060856,
          0.027648963060879866,
          0.02474390371775242,
          0.021999948613600058,
          0.01943297071786752,
          0.01705378590984057,
          0.014868477415309013,
          0.012878825799064348,
          0.011082815944026728,
          0.009475192746773137,
          0.008048038887824042,
          0.006791350731468144,
          0.005693591882998682,
          0.00474220788365962,
          0.0039240896722776775,
          0.0032259775351330925,
          0.002634801092290834,
          0.0021379542690544095,
          0.0017235070669161464,
          0.001380358220950361,
          0.0010983344967549706,
          0.0008682434643984954,
          0.0006818871432776662,
          0.0005320440145190016,
          0.0004124266323335923,
          0.0003176215221365779,
          0.00024301731819940817,
          0.0001847262464608056,
          0.0001395031672885584,
          0.00010466551405123882,
          0.0000780166385242961,
          0.00005777433268505128,
          0.00004250565591521756,
          0.00003106866463023517,
          0.000022561217510037155
         ],
         "yaxis": "y9"
        },
        {
         "marker": {
          "color": "#DD3497"
         },
         "mode": "lines",
         "name": "Group 1",
         "showlegend": false,
         "type": "scatter",
         "x": [
          -14.071404606583306,
          -13.585185810355656,
          -13.098967014128005,
          -12.612748217900355,
          -12.126529421672705,
          -11.640310625445055,
          -11.154091829217407,
          -10.667873032989757,
          -10.181654236762107,
          -9.695435440534457,
          -9.209216644306807,
          -8.722997848079157,
          -8.236779051851506,
          -7.750560255623856,
          -7.264341459396206,
          -6.778122663168556,
          -6.291903866940906,
          -5.805685070713256,
          -5.319466274485606,
          -4.833247478257956,
          -4.347028682030306,
          -3.860809885802656,
          -3.3745910895750058,
          -2.8883722933473557,
          -2.4021534971197074,
          -1.9159347008920573,
          -1.4297159046644072,
          -0.9434971084367572,
          -0.4572783122091071,
          0.02894048401854299,
          0.5151592802461931,
          1.0013780764738431,
          1.4875968727014932,
          1.9738156689291433,
          2.4600344651567934,
          2.9462532613844434,
          3.4324720576120935,
          3.9186908538397436,
          4.404909650067394,
          4.891128446295044,
          5.377347242522694,
          5.863566038750344,
          6.349784834977994,
          6.836003631205644,
          7.322222427433294,
          7.808441223660944,
          8.294660019888594,
          8.780878816116244,
          9.26709761234389,
          9.753316408571541,
          10.239535204799191,
          10.725754001026841,
          11.211972797254491,
          11.698191593482141,
          12.184410389709791,
          12.670629185937441,
          13.156847982165091,
          13.643066778392742,
          14.129285574620392,
          14.615504370848042,
          15.101723167075692,
          15.587941963303342,
          16.07416075953099,
          16.560379555758644,
          17.04659835198629,
          17.532817148213944,
          18.01903594444159,
          18.505254740669237,
          18.99147353689689,
          19.477692333124537,
          19.96391112935219,
          20.450129925579837,
          20.93634872180749,
          21.422567518035137,
          21.90878631426279,
          22.395005110490438,
          22.88122390671809,
          23.367442702945738,
          23.85366149917339,
          24.339880295401038,
          24.82609909162869,
          25.312317887856338,
          25.79853668408399,
          26.284755480311638,
          26.77097427653929,
          27.25719307276694,
          27.743411868994592,
          28.22963066522224,
          28.715849461449892,
          29.20206825767754,
          29.688287053905192,
          30.17450585013284,
          30.660724646360492,
          31.14694344258814,
          31.633162238815792,
          32.11938103504344,
          32.605599831271086,
          33.09181862749874,
          33.578037423726386,
          34.06425621995404
         ],
         "xaxis": "x9",
         "y": [
          0.00002224217529654926,
          0.00003062931708485842,
          0.00004190457582976054,
          0.00005695733550950326,
          0.00007691339128009902,
          0.00010318542029016854,
          0.00013753042803986662,
          0.00018211399955817472,
          0.00023958076682181794,
          0.00031312997936284363,
          0.00040659443353392445,
          0.0005245202849157713,
          0.0006722444551805601,
          0.0008559654782213365,
          0.001082802752121114,
          0.0013608383283726505,
          0.0016991346451110587,
          0.002107721075210524,
          0.0025975418986231725,
          0.003180358409613247,
          0.003868598418119453,
          0.004675147473495612,
          0.005613077781477322,
          0.006695313025658336,
          0.00793423012994713,
          0.00934120235082885,
          0.010926091860812328,
          0.01269670401914576,
          0.014658219615894403,
          0.01681262527200691,
          0.019158165601977133,
          0.02168884340399954,
          0.024393995748072567,
          0.027257974127252345,
          0.03025995561608237,
          0.03337390911406565,
          0.036568736207927756,
          0.039808600042191285,
          0.0430534480394018,
          0.04625972567236663,
          0.04938126918015317,
          0.05237035564179454,
          0.05517887973682426,
          0.05775961840907772,
          0.0600675380666617,
          0.06206109438898353,
          0.06370347265886833,
          0.06496371704272208,
          0.06581770048908178,
          0.06624889281321372,
          0.06624889281321374,
          0.0658177004890818,
          0.06496371704272208,
          0.06370347265886833,
          0.06206109438898353,
          0.0600675380666617,
          0.05775961840907772,
          0.05517887973682426,
          0.05237035564179454,
          0.04938126918015317,
          0.04625972567236663,
          0.0430534480394018,
          0.0398086000421913,
          0.03656873620792774,
          0.03337390911406566,
          0.030259955616082364,
          0.027257974127252355,
          0.0243939957480726,
          0.02168884340399956,
          0.019158165601977157,
          0.016812625272006915,
          0.014658219615894426,
          0.01269670401914577,
          0.010926091860812342,
          0.009341202350828854,
          0.007934230129947144,
          0.006695313025658336,
          0.005613077781477336,
          0.004675147473495612,
          0.0038685984181194566,
          0.003180358409613247,
          0.0025975418986231747,
          0.002107721075210524,
          0.0016991346451110587,
          0.0013608383283726505,
          0.001082802752121114,
          0.0008559654782213365,
          0.0006722444551805601,
          0.0005245202849157713,
          0.00040659443353392445,
          0.00031312997936284363,
          0.00023958076682181794,
          0.00018211399955817472,
          0.00013753042803986662,
          0.00010318542029016835,
          0.00007691339128009902,
          0.000056957335509503315,
          0.00004190457582976054,
          0.00003062931708485847,
          0.00002224217529654926
         ],
         "yaxis": "y9"
        },
        {
         "marker": {
          "color": "#073B4C"
         },
         "mode": "lines",
         "name": "Group 0",
         "showlegend": false,
         "type": "scatter",
         "x": [
          -22.382185632821056,
          -21.89173249640748,
          -21.401279359993907,
          -20.910826223580333,
          -20.42037308716676,
          -19.929919950753188,
          -19.439466814339614,
          -18.94901367792604,
          -18.458560541512465,
          -17.96810740509889,
          -17.477654268685317,
          -16.987201132271743,
          -16.496747995858172,
          -16.006294859444594,
          -15.515841723031023,
          -15.02538858661745,
          -14.534935450203875,
          -14.0444823137903,
          -13.554029177376727,
          -13.063576040963154,
          -12.57312290454958,
          -12.082669768136006,
          -11.592216631722433,
          -11.101763495308859,
          -10.611310358895285,
          -10.12085722248171,
          -9.630404086068136,
          -9.139950949654564,
          -8.64949781324099,
          -8.159044676827415,
          -7.668591540413843,
          -7.1781384040002685,
          -6.687685267586694,
          -6.19723213117312,
          -5.706778994759546,
          -5.2163258583459715,
          -4.725872721932397,
          -4.235419585518827,
          -3.7449664491052523,
          -3.254513312691678,
          -2.764060176278104,
          -2.2736070398645296,
          -1.7831539034509554,
          -1.2927007670373811,
          -0.8022476306238104,
          -0.3117944942102362,
          0.17865864220333805,
          0.6691117786169123,
          1.1595649150304865,
          1.6500180514440608,
          2.140471187857635,
          2.6309243242712093,
          3.1213774606847835,
          3.611830597098354,
          4.102283733511928,
          4.592736869925503,
          5.083190006339077,
          5.573643142752651,
          6.064096279166225,
          6.5545494155798,
          7.04500255199337,
          7.535455688406945,
          8.025908824820519,
          8.516361961234093,
          9.006815097647667,
          9.497268234061242,
          9.987721370474816,
          10.478174506888386,
          10.968627643301964,
          11.459080779715535,
          11.949533916129113,
          12.439987052542683,
          12.930440188956261,
          13.420893325369832,
          13.911346461783403,
          14.40179959819698,
          14.892252734610551,
          15.382705871024129,
          15.8731590074377,
          16.363612143851277,
          16.854065280264848,
          17.34451841667842,
          17.834971553091997,
          18.325424689505567,
          18.815877825919145,
          19.306330962332716,
          19.796784098746294,
          20.287237235159864,
          20.777690371573435,
          21.268143507987013,
          21.758596644400583,
          22.24904978081416,
          22.739502917227732,
          23.22995605364131,
          23.72040919005488,
          24.210862326468458,
          24.70131546288203,
          25.1917685992956,
          25.682221735709177,
          26.172674872122748
         ],
         "xaxis": "x14",
         "y": [
          0.000022050146885090348,
          0.00003036487806190057,
          0.00004154279156081375,
          0.000056465592839867924,
          0.00007624935747268075,
          0.00010229456622217117,
          0.00013634305543482034,
          0.00018054171350371655,
          0.00023751233990513773,
          0.0003104265633652852,
          0.0004030840896876699,
          0.0005199918250979973,
          0.0006664406148133619,
          0.0008485754775197431,
          0.0010734543457876092,
          0.0013490894945034045,
          0.00168446512100178,
          0.0020895240092997144,
          0.002575115951617534,
          0.003152900700772926,
          0.003835198770877252,
          0.004634784463551579,
          0.005564617125295932,
          0.006637508862738324,
          0.007865729743285784,
          0.009260554832111379,
          0.010831761156395517,
          0.01258708668760991,
          0.014531667487331128,
          0.01666747302496307,
          0.018992763070166997,
          0.021501592198138533,
          0.024183389537565617,
          0.02702264168330492,
          0.029998705485180174,
          0.03308577458289225,
          0.03625301905214409,
          0.03946491143590235,
          0.042681744951704355,
          0.04586034110152532,
          0.04895493468048934,
          0.05191821478473583,
          0.05470249141236085,
          0.05726094920871004,
          0.059548943380602445,
          0.0615252882814412,
          0.06315348703489042,
          0.06440285106536799,
          0.06524946162295085,
          0.06567693123669442,
          0.06567693123669441,
          0.06524946162295084,
          0.06440285106536799,
          0.06315348703489042,
          0.061525288281441194,
          0.05954894338060244,
          0.05726094920871001,
          0.054702491412360825,
          0.0519182147847358,
          0.048954934680489295,
          0.045860341101525315,
          0.04268174495170435,
          0.03946491143590234,
          0.03625301905214406,
          0.03308577458289221,
          0.029998705485180143,
          0.027022641683304878,
          0.024183389537565592,
          0.0215015921981385,
          0.018992763070166972,
          0.01666747302496303,
          0.014531667487331106,
          0.01258708668760988,
          0.010831761156395493,
          0.00926055483211137,
          0.007865729743285763,
          0.006637508862738308,
          0.005564617125295917,
          0.0046347844635515716,
          0.003835198770877239,
          0.003152900700772919,
          0.002575115951617532,
          0.002089524009299707,
          0.00168446512100178,
          0.0013490894945034028,
          0.0010734543457876092,
          0.0008485754775197393,
          0.0006664406148133619,
          0.0005199918250979973,
          0.0004030840896876688,
          0.0003104265633652852,
          0.00023751233990513686,
          0.00018054171350371655,
          0.00013634305543481988,
          0.00010229456622217117,
          0.0000762493574726804,
          0.000056465592839867816,
          0.00004154279156081375,
          0.00003036487806190051,
          0.000022050146885090348
         ],
         "yaxis": "y14"
        },
        {
         "marker": {
          "color": "#DD3497"
         },
         "mode": "lines",
         "name": "Group 1",
         "showlegend": false,
         "type": "scatter",
         "x": [
          -15.1587548836367,
          -14.720745586701568,
          -14.282736289766436,
          -13.844726992831305,
          -13.406717695896171,
          -12.96870839896104,
          -12.530699102025908,
          -12.092689805090776,
          -11.654680508155643,
          -11.216671211220511,
          -10.77866191428538,
          -10.340652617350248,
          -9.902643320415116,
          -9.464634023479984,
          -9.026624726544853,
          -8.58861542960972,
          -8.150606132674588,
          -7.712596835739456,
          -7.274587538804323,
          -6.836578241869191,
          -6.398568944934059,
          -5.960559647998927,
          -5.522550351063796,
          -5.084541054128664,
          -4.646531757193532,
          -4.208522460258399,
          -3.770513163323267,
          -3.3325038663881354,
          -2.8944945694530038,
          -2.456485272517872,
          -2.0184759755827386,
          -1.580466678647607,
          -1.1424573817124752,
          -0.7044480847773436,
          -0.26643878784221187,
          0.1715705090929216,
          0.6095798060280533,
          1.0475891029631832,
          1.4855983998983184,
          1.9236076968334501,
          2.361616993768582,
          2.7996262907037135,
          3.237635587638845,
          3.675644884573977,
          4.1136541815091086,
          4.55166347844424,
          4.989672775379372,
          5.427682072314504,
          5.865691369249635,
          6.3037006661847705,
          6.741709963119902,
          7.179719260055034,
          7.617728556990166,
          8.055737853925297,
          8.493747150860429,
          8.93175644779556,
          9.369765744730692,
          9.807775041665824,
          10.245784338600956,
          10.683793635536091,
          11.121802932471223,
          11.559812229406354,
          11.997821526341486,
          12.435830823276618,
          12.87384012021175,
          13.311849417146881,
          13.749858714082013,
          14.187868011017144,
          14.625877307952276,
          15.063886604887408,
          15.501895901822543,
          15.939905198757675,
          16.377914495692806,
          16.815923792627938,
          17.253933089563066,
          17.6919423864982,
          18.129951683433337,
          18.567960980368465,
          19.0059702773036,
          19.44397957423873,
          19.881988871173863,
          20.31999816810899,
          20.758007465044127,
          21.196016761979255,
          21.63402605891439,
          22.07203535584952,
          22.510044652784654,
          22.94805394971979,
          23.386063246654917,
          23.824072543590052,
          24.26208184052518,
          24.700091137460316,
          25.138100434395444,
          25.57610973133058,
          26.014119028265707,
          26.452128325200842,
          26.89013762213597,
          27.328146919071106,
          27.76615621600624,
          28.20416551294137
         ],
         "xaxis": "x14",
         "y": [
          0.000024690260626532233,
          0.000034000533291147014,
          0.00004651680354491166,
          0.0000632263454258743,
          0.00008537886474938088,
          0.00011454252499384717,
          0.00015266771649397366,
          0.00020215837942474564,
          0.00026595022721778727,
          0.00034759463484890116,
          0.0004513462554540383,
          0.0005822516172904438,
          0.0007462350503875517,
          0.0009501773303566181,
          0.001201981451928597,
          0.001510619017704981,
          0.0018861499231988764,
          0.002339707424347847,
          0.002883440383427492,
          0.0035304046017170417,
          0.004294395756227065,
          0.005189717644478268,
          0.006230881264710361,
          0.007432232745929626,
          0.008807511278344782,
          0.010369341916072475,
          0.012128672311774372,
          0.01409416692167171,
          0.016271576759559526,
          0.01866310710384854,
          0.02126680936250272,
          0.024076026251617283,
          0.027078921225653366,
          0.03025812342453509,
          0.03359051804722911,
          0.037047208879804165,
          0.04059367466170093,
          0.04419013415345095,
          0.04779212639011132,
          0.05135130301485468,
          0.054816419251766384,
          0.05813449955592684,
          0.06125214389411068,
          0.06411693160382692,
          0.06667887247027114,
          0.06889184959663312,
          0.07071499625338572,
          0.07211394945268453,
          0.07306192659881541,
          0.07354057811203452,
          0.0735405781120345,
          0.07306192659881541,
          0.07211394945268453,
          0.07071499625338572,
          0.06889184959663312,
          0.06667887247027114,
          0.06411693160382692,
          0.06125214389411068,
          0.05813449955592684,
          0.054816419251766356,
          0.05135130301485466,
          0.04779212639011128,
          0.04419013415345095,
          0.040593674661700926,
          0.03704720887980414,
          0.03359051804722911,
          0.03025812342453509,
          0.027078921225653366,
          0.024076026251617283,
          0.02126680936250272,
          0.018663107103848525,
          0.016271576759559526,
          0.014094166921671697,
          0.012128672311774369,
          0.010369341916072484,
          0.008807511278344782,
          0.007432232745929609,
          0.006230881264710361,
          0.005189717644478258,
          0.004294395756227065,
          0.003530404601717038,
          0.002883440383427492,
          0.0023397074243478437,
          0.001886149923198879,
          0.001510619017704979,
          0.0012019814519286002,
          0.0009501773303566181,
          0.0007462350503875498,
          0.0005822516172904438,
          0.00045134625545403747,
          0.00034759463484890116,
          0.0002659502272177868,
          0.000202158379424746,
          0.00015266771649397325,
          0.00011454252499384759,
          0.00008537886474938071,
          0.00006322634542587449,
          0.00004651680354491166,
          0.00003400053329114689,
          0.000024690260626532233
         ],
         "yaxis": "y14"
        },
        {
         "marker": {
          "color": "#073B4C"
         },
         "mode": "lines",
         "name": "Group 0",
         "showlegend": false,
         "type": "scatter",
         "x": [
          -22.180635337561263,
          -21.69746746294176,
          -21.214299588322255,
          -20.731131713702748,
          -20.247963839083244,
          -19.76479596446374,
          -19.281628089844236,
          -18.79846021522473,
          -18.315292340605225,
          -17.83212446598572,
          -17.348956591366218,
          -16.865788716746714,
          -16.38262084212721,
          -15.899452967507703,
          -15.416285092888199,
          -14.933117218268695,
          -14.44994934364919,
          -13.966781469029685,
          -13.48361359441018,
          -13.000445719790676,
          -12.51727784517117,
          -12.034109970551667,
          -11.550942095932161,
          -11.067774221312657,
          -10.584606346693153,
          -10.101438472073648,
          -9.618270597454144,
          -9.135102722834638,
          -8.651934848215134,
          -8.168766973595629,
          -7.685599098976125,
          -7.202431224356619,
          -6.7192633497371155,
          -6.236095475117612,
          -5.752927600498108,
          -5.2697597258786,
          -4.786591851259097,
          -4.303423976639593,
          -3.820256102020089,
          -3.3370882274005815,
          -2.8539203527810777,
          -2.370752478161574,
          -1.88758460354207,
          -1.4044167289225662,
          -0.9212488543030588,
          -0.43808097968355497,
          0.04508689493594886,
          0.5282547695554527,
          1.0114226441749565,
          1.494590518794464,
          1.9777583934139678,
          2.4609262680334716,
          2.9440941426529754,
          3.427262017272483,
          3.9104298918919866,
          4.3935977665114905,
          4.876765641130994,
          5.359933515750498,
          5.8431013903700055,
          6.326269264989509,
          6.809437139609013,
          7.292605014228517,
          7.775772888848024,
          8.258940763467528,
          8.742108638087032,
          9.225276512706536,
          9.70844438732604,
          10.191612261945544,
          10.674780136565047,
          11.157948011184558,
          11.641115885804062,
          12.124283760423566,
          12.60745163504307,
          13.090619509662574,
          13.573787384282078,
          14.056955258901581,
          14.540123133521085,
          15.023291008140589,
          15.5064588827601,
          15.989626757379604,
          16.472794631999108,
          16.95596250661861,
          17.439130381238115,
          17.92229825585762,
          18.405466130477123,
          18.888634005096627,
          19.37180187971613,
          19.85496975433564,
          20.338137628955145,
          20.82130550357465,
          21.304473378194153,
          21.787641252813657,
          22.27080912743316,
          22.753977002052665,
          23.23714487667217,
          23.720312751291672,
          24.203480625911176,
          24.686648500530687,
          25.16981637515019,
          25.652984249769695
         ],
         "xaxis": "x19",
         "y": [
          0.000022382621581968873,
          0.00003082272324914556,
          0.000042169178636765925,
          0.00005731698766101514,
          0.00007739905421370565,
          0.00010383697567070112,
          0.00013839885199088932,
          0.00018326394260195742,
          0.000241093578779708,
          0.00031510721143968376,
          0.0004091618387944604,
          0.0005278323227295868,
          0.000676489284445918,
          0.0008613703979407795,
          0.0010896400161184492,
          0.0013694312238843689,
          0.0017098636833526822,
          0.0021210300970021054,
          0.0026139438514906164,
          0.0032004405067542776,
          0.003893026347059001,
          0.0047046682864415965,
          0.0056485210739462095,
          0.0067375899986449285,
          0.007984330137458003,
          0.009400186562311548,
          0.010995083719546694,
          0.012776876254675173,
          0.014750777671411421,
          0.01691878713504967,
          0.019279138175854336,
          0.021825795723209623,
          0.024548029516967922,
          0.027430092239046484,
          0.03045102947943333,
          0.03358464576650673,
          0.03679964631876075,
          0.04005996799200455,
          0.043325305300259645,
          0.046551828695051756,
          0.04969308291838651,
          0.05270104370705473,
          0.05552730198371909,
          0.058124336506325494,
          0.06044682932227341,
          0.06245297378296353,
          0.06410572270788471,
          0.06537392479551848,
          0.06623330064622947,
          0.06666721569686718,
          0.06666721569686718,
          0.06623330064622948,
          0.06537392479551848,
          0.06410572270788471,
          0.06245297378296353,
          0.06044682932227341,
          0.05812433650632552,
          0.05552730198371911,
          0.05270104370705473,
          0.04969308291838651,
          0.046551828695051756,
          0.04332530530025968,
          0.04005996799200455,
          0.03679964631876075,
          0.03358464576650673,
          0.03045102947943336,
          0.027430092239046504,
          0.024548029516967936,
          0.021825795723209637,
          0.01927913817585433,
          0.016918787135049664,
          0.014750777671411421,
          0.012776876254675173,
          0.010995083719546703,
          0.009400186562311556,
          0.007984330137458017,
          0.0067375899986449345,
          0.005648521073946223,
          0.0047046682864415965,
          0.0038930263470589956,
          0.0032004405067542776,
          0.0026139438514906164,
          0.0021210300970021054,
          0.0017098636833526846,
          0.001369431223884371,
          0.001089640016118452,
          0.000861370397940781,
          0.000676489284445918,
          0.0005278323227295868,
          0.0004091618387944604,
          0.00031510721143968376,
          0.000241093578779708,
          0.00018326394260195742,
          0.00013839885199088946,
          0.00010383697567070132,
          0.00007739905421370592,
          0.00005731698766101519,
          0.000042169178636765925,
          0.00003082272324914556,
          0.000022382621581968873
         ],
         "yaxis": "y19"
        },
        {
         "marker": {
          "color": "#DD3497"
         },
         "mode": "lines",
         "name": "Group 1",
         "showlegend": false,
         "type": "scatter",
         "x": [
          -14.717290676274924,
          -14.299768905517457,
          -13.88224713475999,
          -13.464725364002522,
          -13.047203593245053,
          -12.629681822487585,
          -12.212160051730118,
          -11.79463828097265,
          -11.377116510215183,
          -10.959594739457714,
          -10.542072968700246,
          -10.124551197942779,
          -9.707029427185311,
          -9.289507656427844,
          -8.871985885670377,
          -8.45446411491291,
          -8.036942344155442,
          -7.619420573397973,
          -7.201898802640505,
          -6.784377031883038,
          -6.36685526112557,
          -5.949333490368103,
          -5.531811719610635,
          -5.114289948853166,
          -4.696768178095699,
          -4.279246407338231,
          -3.861724636580764,
          -3.4442028658232964,
          -3.026681095065829,
          -2.6091593243083597,
          -2.1916375535508923,
          -1.7741157827934249,
          -1.3565940120359574,
          -0.93907224127849,
          -0.5215504705210225,
          -0.10402869976355511,
          0.3134930709939141,
          0.7310148417513815,
          1.148536612508849,
          1.5660583832663164,
          1.9835801540237838,
          2.4011019247812513,
          2.8186236955387187,
          3.236145466296186,
          3.6536672370536536,
          4.071189007811125,
          4.488710778568592,
          4.9062325493260595,
          5.323754320083527,
          5.741276090840994,
          6.158797861598462,
          6.576319632355929,
          6.993841403113397,
          7.411363173870864,
          7.8288849446283315,
          8.246406715385799,
          8.663928486143266,
          9.081450256900734,
          9.498972027658205,
          9.916493798415672,
          10.33401556917314,
          10.751537339930607,
          11.169059110688075,
          11.586580881445542,
          12.00410265220301,
          12.421624422960477,
          12.839146193717944,
          13.256667964475412,
          13.67418973523288,
          14.091711505990347,
          14.509233276747814,
          14.926755047505285,
          15.344276818262752,
          15.76179858902022,
          16.179320359777687,
          16.596842130535155,
          17.014363901292622,
          17.43188567205009,
          17.849407442807557,
          18.266929213565025,
          18.684450984322492,
          19.10197275507996,
          19.519494525837427,
          19.937016296594894,
          20.35453806735236,
          20.77205983810983,
          21.189581608867297,
          21.607103379624764,
          22.02462515038223,
          22.4421469211397,
          22.859668691897173,
          23.27719046265464,
          23.69471223341211,
          24.112234004169576,
          24.529755774927043,
          24.94727754568451,
          25.364799316441978,
          25.782321087199445,
          26.199842857956913,
          26.61736462871438
         ],
         "xaxis": "x19",
         "y": [
          0.000025901795919654153,
          0.00003566891770758876,
          0.00004879935333530627,
          0.00006632882174628418,
          0.00008956835102071662,
          0.00012016305341565862,
          0.0001601590236717529,
          0.00021207816177043004,
          0.0002790002347232527,
          0.00036465088120406236,
          0.00047349352745623756,
          0.0006108223316500422,
          0.000782852326899311,
          0.0009968019240725054,
          0.0012609619127960105,
          0.0015847441264713095,
          0.0019787020932484313,
          0.0024545153708111864,
          0.0030249289583346955,
          0.003703639296914383,
          0.0045051190086058245,
          0.005444373769123076,
          0.006536626622105934,
          0.007796927651932928,
          0.009239690222086568,
          0.010878158890011995,
          0.012723818502683136,
          0.01478575867564482,
          0.01707001262125977,
          0.019578893829539458,
          0.022310358092283246,
          0.025257421456924237,
          0.02840766656620652,
          0.03174287018306342,
          0.035238783277962836,
          0.038865091718242484,
          0.04258558030717275,
          0.04635851576531481,
          0.0501372554566203,
          0.053871078601323744,
          0.05750622587514062,
          0.06098712225705375,
          0.06425774740837055,
          0.0672631084182282,
          0.06995076208396354,
          0.07227232858214358,
          0.07418493587896813,
          0.07565253481676332,
          0.07664702859497771,
          0.07714916723172875,
          0.07714916723172875,
          0.07664702859497771,
          0.07565253481676332,
          0.07418493587896813,
          0.07227232858214358,
          0.06995076208396354,
          0.06726310841822822,
          0.06425774740837056,
          0.060987122257053744,
          0.05750622587514062,
          0.05387107860132374,
          0.05013725545662028,
          0.04635851576531481,
          0.04258558030717273,
          0.038865091718242484,
          0.035238783277962836,
          0.03174287018306342,
          0.02840766656620652,
          0.025257421456924237,
          0.022310358092283246,
          0.019578893829539458,
          0.01707001262125977,
          0.01478575867564482,
          0.012723818502683136,
          0.010878158890011995,
          0.009239690222086568,
          0.007796927651932928,
          0.006536626622105934,
          0.005444373769123076,
          0.0045051190086058245,
          0.003703639296914383,
          0.0030249289583346955,
          0.0024545153708111895,
          0.0019787020932484343,
          0.0015847441264713131,
          0.0012609619127960138,
          0.0009968019240725072,
          0.0007828523268993131,
          0.0006108223316500438,
          0.0004734935274562384,
          0.0003646508812040614,
          0.00027900023472325223,
          0.00021207816177042966,
          0.00016015902367175246,
          0.00012016305341565839,
          0.00008956835102071645,
          0.00006632882174628418,
          0.00004879935333530627,
          0.00003566891770758876,
          0.000025901795919654153
         ],
         "yaxis": "y19"
        },
        {
         "marker": {
          "color": "#073B4C"
         },
         "mode": "lines",
         "name": "Group 0",
         "showlegend": false,
         "type": "scatter",
         "x": [
          -17.974617532331433,
          -17.592219860123006,
          -17.20982218791458,
          -16.827424515706152,
          -16.445026843497725,
          -16.062629171289302,
          -15.680231499080874,
          -15.297833826872447,
          -14.915436154664022,
          -14.533038482455595,
          -14.150640810247168,
          -13.768243138038741,
          -13.385845465830315,
          -13.003447793621888,
          -12.621050121413461,
          -12.238652449205036,
          -11.85625477699661,
          -11.473857104788182,
          -11.091459432579757,
          -10.70906176037133,
          -10.326664088162904,
          -9.944266415954477,
          -9.56186874374605,
          -9.179471071537623,
          -8.797073399329197,
          -8.414675727120771,
          -8.032278054912345,
          -7.649880382703918,
          -7.267482710495491,
          -6.885085038287064,
          -6.502687366078639,
          -6.1202896938702125,
          -5.737892021661786,
          -5.355494349453359,
          -4.973096677244932,
          -4.590699005036507,
          -4.20830133282808,
          -3.8259036606196535,
          -3.4435059884112267,
          -3.0611083162028,
          -2.678710643994375,
          -2.296312971785948,
          -1.9139152995775213,
          -1.5315176273690945,
          -1.1491199551606677,
          -0.7667222829522409,
          -0.3843246107438141,
          -0.0019269385353872792,
          0.3804707336730395,
          0.7628684058814628,
          1.1452660780898896,
          1.5276637502983164,
          1.9100614225067432,
          2.29245909471517,
          2.6748567669235968,
          3.0572544391320235,
          3.4396521113404503,
          3.822049783548877,
          4.204447455757304,
          4.586845127965727,
          4.969242800174154,
          5.351640472382581,
          5.734038144591008,
          6.116435816799434,
          6.498833489007861,
          6.881231161216288,
          7.263628833424715,
          7.646026505633142,
          8.028424177841568,
          8.410821850049995,
          8.793219522258418,
          9.175617194466845,
          9.558014866675272,
          9.940412538883699,
          10.322810211092126,
          10.705207883300552,
          11.08760555550898,
          11.470003227717406,
          11.852400899925833,
          12.23479857213426,
          12.617196244342683,
          12.99959391655111,
          13.381991588759536,
          13.764389260967963,
          14.14678693317639,
          14.529184605384817,
          14.911582277593244,
          15.29397994980167,
          15.676377622010097,
          16.058775294218524,
          16.44117296642695,
          16.823570638635378,
          17.205968310843804,
          17.58836598305223,
          17.970763655260658,
          18.353161327469085,
          18.73555899967751,
          19.11795667188593,
          19.500354344094358,
          19.882752016302785
         ],
         "xaxis": "x5",
         "y": [
          0.00002828093496415967,
          0.00003894518916986934,
          0.000053281685264211376,
          0.0000724212753383879,
          0.00009779540839258273,
          0.0001312003039976252,
          0.0001748699953638048,
          0.0002315580247390096,
          0.00030462704276062926,
          0.00039814489651392783,
          0.0005169849881250701,
          0.0006669277562697229,
          0.0008547590990314656,
          0.0010883604547842545,
          0.0013767841410952844,
          0.001730306489735,
          0.002160450394489583,
          0.0026799682070604573,
          0.0033027755838719057,
          0.004043827015379413,
          0.004918924466990472,
          0.005944451919965649,
          0.007137030689231101,
          0.00851309324374901,
          0.010088376847318678,
          0.011877342600201147,
          0.013892530258765079,
          0.01614386434047907,
          0.018637932222024794,
          0.02137725989274899,
          0.024359615379264402,
          0.027577373237028517,
          0.031016975546193957,
          0.03465852522379715,
          0.03847554591162461,
          0.04243493905477392,
          0.046497163008078844,
          0.050616651195178754,
          0.05474247674749924,
          0.058819260065944984,
          0.0627883039096558,
          0.06658892856515183,
          0.07015996809783343,
          0.07344137837252067,
          0.07637589915874811,
          0.07891070683593246,
          0.0809989914761658,
          0.08260139272440364,
          0.08368723302486718,
          0.08423549424092333,
          0.08423549424092333,
          0.08368723302486718,
          0.08260139272440363,
          0.08099899147616578,
          0.07891070683593245,
          0.07637589915874811,
          0.07344137837252065,
          0.0701599680978334,
          0.06658892856515182,
          0.06278830390965581,
          0.058819260065944984,
          0.05474247674749924,
          0.050616651195178754,
          0.046497163008078844,
          0.04243493905477392,
          0.03847554591162459,
          0.03465852522379713,
          0.031016975546193933,
          0.0275773732370285,
          0.02435961537926439,
          0.02137725989274899,
          0.018637932222024783,
          0.01614386434047906,
          0.013892530258765077,
          0.011877342600201143,
          0.010088376847318661,
          0.00851309324374899,
          0.007137030689231088,
          0.005944451919965638,
          0.004918924466990462,
          0.004043827015379413,
          0.0033027755838719057,
          0.0026799682070604573,
          0.002160450394489583,
          0.001730306489735,
          0.0013767841410952828,
          0.0010883604547842537,
          0.0008547590990314642,
          0.0006669277562697216,
          0.0005169849881250692,
          0.00039814489651392746,
          0.00030462704276062867,
          0.00023155802473900913,
          0.0001748699953638045,
          0.00013120030399762497,
          0.00009779540839258228,
          0.00007242127533838752,
          0.000053281685264211376,
          0.00003894518916986934,
          0.00002828093496415967
         ],
         "yaxis": "y5"
        },
        {
         "marker": {
          "color": "#DD3497"
         },
         "mode": "lines",
         "name": "Group 1",
         "showlegend": false,
         "type": "scatter",
         "x": [
          -13.533766944461563,
          -12.969423985726843,
          -12.405081026992123,
          -11.840738068257405,
          -11.276395109522685,
          -10.712052150787965,
          -10.147709192053245,
          -9.583366233318525,
          -9.019023274583805,
          -8.454680315849085,
          -7.890337357114367,
          -7.325994398379647,
          -6.761651439644927,
          -6.197308480910208,
          -5.632965522175488,
          -5.068622563440769,
          -4.504279604706049,
          -3.939936645971329,
          -3.3755936872366092,
          -2.811250728501891,
          -2.246907769767171,
          -1.6825648110324511,
          -1.1182218522977312,
          -0.5538788935630112,
          0.010464065171708725,
          0.5748070239064269,
          1.1391499826411469,
          1.7034929413758668,
          2.2678359001105868,
          2.832178858845305,
          3.396521817580025,
          3.960864776314745,
          4.525207735049465,
          5.089550693784185,
          5.653893652518905,
          6.218236611253625,
          6.782579569988345,
          7.346922528723065,
          7.911265487457781,
          8.475608446192501,
          9.039951404927221,
          9.604294363661941,
          10.16863732239666,
          10.73298028113138,
          11.2973232398661,
          11.86166619860082,
          12.42600915733554,
          12.99035211607026,
          13.55469507480498,
          14.119038033539697,
          14.683380992274417,
          15.247723951009137,
          15.812066909743857,
          16.376409868478575,
          16.940752827213295,
          17.505095785948015,
          18.069438744682735,
          18.633781703417455,
          19.198124662152175,
          19.762467620886895,
          20.326810579621615,
          20.891153538356335,
          21.455496497091055,
          22.019839455825775,
          22.584182414560495,
          23.148525373295215,
          23.712868332029934,
          24.277211290764654,
          24.841554249499374,
          25.405897208234094,
          25.970240166968814,
          26.534583125703534,
          27.098926084438254,
          27.663269043172974,
          28.227612001907694,
          28.791954960642407,
          29.356297919377127,
          29.920640878111847,
          30.484983836846567,
          31.049326795581287,
          31.613669754316007,
          32.17801271305073,
          32.74235567178545,
          33.30669863052017,
          33.87104158925489,
          34.43538454798961,
          34.99972750672433,
          35.56407046545905,
          36.128413424193766,
          36.692756382928486,
          37.257099341663206,
          37.821442300397926,
          38.385785259132646,
          38.950128217867366,
          39.514471176602086,
          40.078814135336806,
          40.643157094071526,
          41.20750005280624,
          41.77184301154096,
          42.33618597027568
         ],
         "xaxis": "x5",
         "y": [
          0.0000191631055739922,
          0.000026389183123086306,
          0.00003610356450988169,
          0.00004907251287383039,
          0.00006626597522513807,
          0.0000889010663909314,
          0.00011849156285415966,
          0.00015690325939372987,
          0.0002064146814280702,
          0.0002697821940933599,
          0.0003503080050275911,
          0.00045190892804000313,
          0.0005791830742451953,
          0.0007374708906908501,
          0.000932906209849242,
          0.0011724522537948881,
          0.0014639169125576733,
          0.0018159411544181995,
          0.0022379542006355194,
          0.002740089184352751,
          0.0033330534860636493,
          0.00402794885905241,
          0.004836037873425435,
          0.005768455137637607,
          0.006835864190500984,
          0.008048063844939175,
          0.009413551015055945,
          0.010939050534250991,
          0.012629025995929789,
          0.014485189005475664,
          0.016506027182137697,
          0.018686373539781854,
          0.021017041258745765,
          0.023484548114982424,
          0.026070953780553505,
          0.028753830740147195,
          0.0315063856532374,
          0.03429774269784191,
          0.03709339392858052,
          0.039855814238682445,
          0.042545230493881356,
          0.04512052624038647,
          0.047540255561938284,
          0.049763732671344485,
          0.05175215814973892,
          0.05346973881633315,
          0.054884756356596676,
          0.0559705402718312,
          0.05670630351094082,
          0.05707780422613019,
          0.05707780422613019,
          0.05670630351094082,
          0.0559705402718312,
          0.05488475635659667,
          0.05346973881633314,
          0.05175215814973892,
          0.04976373267134448,
          0.04754025556193828,
          0.04512052624038646,
          0.042545230493881356,
          0.03985581423868244,
          0.03709339392858051,
          0.03429774269784189,
          0.03150638565323737,
          0.028753830740147167,
          0.02607095378055349,
          0.023484548114982403,
          0.021017041258745737,
          0.01868637353978183,
          0.016506027182137676,
          0.014485189005475642,
          0.012629025995929768,
          0.01093905053425097,
          0.009413551015055928,
          0.008048063844939161,
          0.006835864190500984,
          0.005768455137637607,
          0.004836037873425435,
          0.00402794885905241,
          0.0033330534860636493,
          0.002740089184352751,
          0.0022379542006355194,
          0.0018159411544181995,
          0.0014639169125576733,
          0.0011724522537948881,
          0.000932906209849241,
          0.0007374708906908495,
          0.0005791830742451943,
          0.0004519089280400022,
          0.0003503080050275905,
          0.00026978219409335916,
          0.00020641468142806928,
          0.0001569032593937292,
          0.00011849156285415914,
          0.00008890106639093091,
          0.00006626597522513776,
          0.000049072512873830204,
          0.00003610356450988169,
          0.000026389183123086306,
          0.0000191631055739922
         ],
         "yaxis": "y5"
        },
        {
         "marker": {
          "color": "#073B4C"
         },
         "mode": "lines",
         "name": "Group 0",
         "showlegend": false,
         "type": "scatter",
         "x": [
          -25.855688577123036,
          -25.288565468188448,
          -24.72144235925386,
          -24.154319250319272,
          -23.587196141384684,
          -23.020073032450092,
          -22.452949923515504,
          -21.885826814580916,
          -21.318703705646328,
          -20.75158059671174,
          -20.184457487777152,
          -19.617334378842564,
          -19.050211269907976,
          -18.483088160973388,
          -17.9159650520388,
          -17.348841943104212,
          -16.781718834169624,
          -16.214595725235036,
          -15.647472616300446,
          -15.080349507365856,
          -14.513226398431268,
          -13.94610328949668,
          -13.378980180562092,
          -12.811857071627504,
          -12.244733962692916,
          -11.677610853758326,
          -11.110487744823738,
          -10.54336463588915,
          -9.976241526954562,
          -9.409118418019972,
          -8.841995309085384,
          -8.274872200150796,
          -7.707749091216208,
          -7.14062598228162,
          -6.5735028733470315,
          -6.0063797644124435,
          -5.439256655477855,
          -4.872133546543267,
          -4.305010437608676,
          -3.7378873286740877,
          -3.1707642197394996,
          -2.6036411108049116,
          -2.0365180018703235,
          -1.4693948929357354,
          -0.9022717840011474,
          -0.3351486750665593,
          0.23197443386802874,
          0.7990975428026168,
          1.3662206517372049,
          1.9333437606717965,
          2.5004668696063845,
          3.0675899785409726,
          3.6347130874755607,
          4.201836196410149,
          4.768959305344737,
          5.336082414279325,
          5.903205523213913,
          6.4703286321485045,
          7.037451741083093,
          7.604574850017681,
          8.171697958952269,
          8.738821067886857,
          9.305944176821445,
          9.873067285756033,
          10.440190394690621,
          11.007313503625209,
          11.574436612559797,
          12.141559721494385,
          12.708682830428973,
          13.275805939363561,
          13.84292904829815,
          14.410052157232737,
          14.977175266167325,
          15.544298375101913,
          16.1114214840365,
          16.678544592971097,
          17.245667701905685,
          17.812790810840273,
          18.37991391977486,
          18.94703702870945,
          19.514160137644037,
          20.081283246578625,
          20.648406355513213,
          21.2155294644478,
          21.78265257338239,
          22.349775682316977,
          22.916898791251565,
          23.484021900186153,
          24.05114500912074,
          24.61826811805533,
          25.185391226989918,
          25.752514335924506,
          26.319637444859094,
          26.886760553793682,
          27.45388366272827,
          28.021006771662858,
          28.588129880597446,
          29.15525298953204,
          29.72237609846663,
          30.28949920740121
         ],
         "xaxis": "x10",
         "y": [
          0.00001906916422166091,
          0.00002625981810237352,
          0.00003592657766080632,
          0.000048831949662201444,
          0.00006594112624373642,
          0.00008846525569374501,
          0.00011791069366198265,
          0.0001561340884305098,
          0.00020540279563327995,
          0.00026845966815672735,
          0.0003485907255606646,
          0.0004496935806545419,
          0.0005763438036983676,
          0.000733855661806943,
          0.0009283329181866185,
          0.0011667046598133133,
          0.0014567405008881077,
          0.0018070390499476375,
          0.0022269833043342133,
          0.0027266567225582607,
          0.0033167141954061744,
          0.004008203053161,
          0.004812330654571958,
          0.005740177024030201,
          0.006802353425561076,
          0.008008610636359652,
          0.009367403916967934,
          0.010885425134315677,
          0.012567116000386324,
          0.01441417972993343,
          0.016425111356197078,
          0.018594769222636247,
          0.020914011545204517,
          0.023369422192396846,
          0.02594314878332823,
          0.02861287374682454,
          0.031351935088640315,
          0.034129608346209525,
          0.036911554738958935,
          0.03966043311564946,
          0.042336665317824214,
          0.04489933645272106,
          0.047307203780199696,
          0.04951978096288323,
          0.05149845878436844,
          0.05320761952915329,
          0.05461570037218934,
          0.055696161558863894,
          0.05642831794033706,
          0.056797997485182085,
          0.05679799748518208,
          0.05642831794033705,
          0.055696161558863894,
          0.05461570037218934,
          0.05320761952915329,
          0.051498458784368435,
          0.049519780962883224,
          0.04730720378019967,
          0.044899336452721046,
          0.04233666531782418,
          0.039660433115649436,
          0.0369115547389589,
          0.03412960834620952,
          0.03135193508864031,
          0.02861287374682452,
          0.025943148783328217,
          0.023369422192396832,
          0.0209140115452045,
          0.018594769222636236,
          0.016425111356197064,
          0.014414179729933415,
          0.012567116000386324,
          0.010885425134315677,
          0.009367403916967934,
          0.008008610636359652,
          0.006802353425561063,
          0.005740177024030188,
          0.0048123306545719505,
          0.004008203053160987,
          0.0033167141954061675,
          0.0027266567225582546,
          0.002226983304334211,
          0.001807039049947635,
          0.0014567405008881062,
          0.0011667046598133118,
          0.0009283329181866168,
          0.0007338556618069423,
          0.0005763438036983665,
          0.000449693580654541,
          0.00034859072556066366,
          0.00026845966815672686,
          0.0002054027956332796,
          0.00015613408843050952,
          0.00011791069366198232,
          0.00008846525569374485,
          0.00006594112624373642,
          0.000048831949662201444,
          0.00003592657766080622,
          0.00002625981810237338,
          0.00001906916422166091
         ],
         "yaxis": "y10"
        },
        {
         "marker": {
          "color": "#DD3497"
         },
         "mode": "lines",
         "name": "Group 1",
         "showlegend": false,
         "type": "scatter",
         "x": [
          -15.866099653896004,
          -15.268121375336479,
          -14.670143096776954,
          -14.072164818217429,
          -13.474186539657904,
          -12.876208261098379,
          -12.278229982538853,
          -11.680251703979327,
          -11.082273425419803,
          -10.484295146860276,
          -9.886316868300753,
          -9.288338589741226,
          -8.690360311181701,
          -8.092382032622176,
          -7.494403754062651,
          -6.896425475503126,
          -6.2984471969436004,
          -5.700468918384075,
          -5.10249063982455,
          -4.504512361265025,
          -3.9065340827055,
          -3.308555804145975,
          -2.7105775255864497,
          -2.1125992470269246,
          -1.5146209684673977,
          -0.9166426899078726,
          -0.31866441134834744,
          0.2793138672111759,
          0.8772921457707028,
          1.4752704243302261,
          2.073248702889753,
          2.6712269814492764,
          3.2692052600088033,
          3.86718353856833,
          4.4651618171278535,
          5.06314009568738,
          5.661118374246904,
          6.259096652806431,
          6.857074931365954,
          7.455053209925481,
          8.053031488485004,
          8.651009767044531,
          9.248988045604055,
          9.846966324163581,
          10.444944602723105,
          11.042922881282632,
          11.640901159842155,
          12.238879438401682,
          12.836857716961209,
          13.434835995520732,
          14.032814274080259,
          14.630792552639782,
          15.22877083119931,
          15.826749109758833,
          16.424727388318356,
          17.022705666877886,
          17.62068394543741,
          18.218662223996933,
          18.816640502556456,
          19.414618781115987,
          20.01259705967551,
          20.610575338235034,
          21.208553616794557,
          21.806531895354087,
          22.40451017391361,
          23.002488452473134,
          23.600466731032665,
          24.198445009592188,
          24.79642328815171,
          25.394401566711235,
          25.992379845270765,
          26.59035812383029,
          27.18833640238981,
          27.786314680949335,
          28.384292959508866,
          28.98227123806839,
          29.580249516627912,
          30.178227795187436,
          30.776206073746966,
          31.37418435230649,
          31.972162630866013,
          32.57014090942555,
          33.16811918798507,
          33.76609746654459,
          34.36407574510412,
          34.96205402366364,
          35.56003230222316,
          36.15801058078269,
          36.75598885934221,
          37.35396713790175,
          37.95194541646127,
          38.549923695020794,
          39.14790197358032,
          39.74588025213984,
          40.343858530699364,
          40.94183680925889,
          41.539815087818425,
          42.13779336637795,
          42.73577164493747,
          43.333749923496995
         ],
         "xaxis": "x10",
         "y": [
          0.000018085211597022964,
          0.000024904833864784538,
          0.000034072796867233124,
          0.00004631226267027074,
          0.00006253862031925521,
          0.00008390052388288479,
          0.00011182660234298274,
          0.00014807770251234017,
          0.00019480418640625529,
          0.00025460737803946097,
          0.0003306037411625622,
          0.00042648977508527336,
          0.0005466049545411164,
          0.0006959893349901578,
          0.0008804317306584349,
          0.0011065036935383158,
          0.0013815739323587398,
          0.001713797374782895,
          0.002112072863485662,
          0.0025859635591106277,
          0.0031455745691588493,
          0.003801383191084415,
          0.004564018493475094,
          0.005443988780904935,
          0.006451357785217654,
          0.00759537315181388,
          0.008884053856996534,
          0.01032374647306406,
          0.011918663523446437,
          0.013670420338467248,
          0.015577589606369013,
          0.01763529497570691,
          0.019834866370701424,
          0.022163579920801046,
          0.024604504412762043,
          0.027136473843065684,
          0.029734201953650355,
          0.032368549638037536,
          0.03500694996747081,
          0.03761398856229598,
          0.04015212946330718,
          0.042582568951344484,
          0.04486619237651505,
          0.04696460246195147,
          0.04884118219391729,
          0.050462151700679816,
          0.05179757677206783,
          0.05282228708219163,
          0.053516664818265246,
          0.05386726921360728,
          0.05386726921360728,
          0.053516664818265246,
          0.05282228708219163,
          0.05179757677206783,
          0.050462151700679816,
          0.048841182193917275,
          0.04696460246195146,
          0.04486619237651505,
          0.042582568951344484,
          0.040152129463307165,
          0.03761398856229597,
          0.03500694996747081,
          0.032368549638037536,
          0.029734201953650334,
          0.027136473843065664,
          0.024604504412762043,
          0.022163579920801018,
          0.01983486637070141,
          0.01763529497570691,
          0.015577589606369013,
          0.013670420338467233,
          0.01191866352344643,
          0.01032374647306406,
          0.008884053856996534,
          0.007595373151813871,
          0.006451357785217647,
          0.005443988780904935,
          0.004564018493475094,
          0.003801383191084412,
          0.0031455745691588493,
          0.0025859635591106277,
          0.0021120728634856545,
          0.0017137973747828913,
          0.0013815739323587383,
          0.0011065036935383127,
          0.0008804317306584339,
          0.0006959893349901578,
          0.0005466049545411168,
          0.00042648977508527407,
          0.000330603741162561,
          0.00025460737803946026,
          0.00019480418640625493,
          0.0001480777025123399,
          0.00011182660234298274,
          0.0000839005238828851,
          0.00006253862031925533,
          0.00004631226267027049,
          0.00003407279686723297,
          0.000024904833864784494,
          0.000018085211597022903
         ],
         "yaxis": "y10"
        },
        {
         "marker": {
          "color": "#073B4C"
         },
         "mode": "lines",
         "name": "Group 0",
         "showlegend": false,
         "type": "scatter",
         "x": [
          -28.649802145909554,
          -28.015058073671653,
          -27.380314001433756,
          -26.745569929195856,
          -26.110825856957955,
          -25.47608178472006,
          -24.841337712482158,
          -24.206593640244257,
          -23.571849568006357,
          -22.93710549576846,
          -22.30236142353056,
          -21.667617351292662,
          -21.032873279054762,
          -20.39812920681686,
          -19.76338513457896,
          -19.12864106234106,
          -18.493896990103163,
          -17.859152917865266,
          -17.224408845627366,
          -16.589664773389465,
          -15.954920701151565,
          -15.320176628913666,
          -14.685432556675767,
          -14.050688484437867,
          -13.415944412199968,
          -12.78120033996207,
          -12.146456267724169,
          -11.511712195486268,
          -10.876968123248371,
          -10.24222405101047,
          -9.60747997877257,
          -8.972735906534673,
          -8.337991834296773,
          -7.703247762058872,
          -7.068503689820975,
          -6.433759617583075,
          -5.799015545345174,
          -5.164271473107277,
          -4.529527400869377,
          -3.894783328631476,
          -3.2600392563935756,
          -2.6252951841556786,
          -1.9905511119177781,
          -1.3558070396798776,
          -0.7210629674419806,
          -0.08631889520408009,
          0.5484251770338204,
          1.1831692492717174,
          1.817913321509618,
          2.4526573937475185,
          3.0874014659854154,
          3.722145538223316,
          4.3568896104612165,
          4.991633682699117,
          5.6263777549370175,
          6.261121827174911,
          6.8958658994128115,
          7.530609971650712,
          8.165354043888613,
          8.800098116126513,
          9.434842188364414,
          10.069586260602307,
          10.704330332840208,
          11.339074405078108,
          11.973818477316009,
          12.608562549553909,
          13.24330662179181,
          13.87805069402971,
          14.512794766267604,
          15.147538838505504,
          15.782282910743405,
          16.417026982981305,
          17.051771055219206,
          17.686515127457106,
          18.321259199695,
          18.9560032719329,
          19.5907473441708,
          20.2254914164087,
          20.8602354886466,
          21.494979560884502,
          22.129723633122403,
          22.764467705360296,
          23.399211777598197,
          24.033955849836097,
          24.668699922073998,
          25.3034439943119,
          25.9381880665498,
          26.572932138787692,
          27.207676211025593,
          27.842420283263493,
          28.477164355501394,
          29.111908427739294,
          29.746652499977195,
          30.38139657221509,
          31.01614064445299,
          31.65088471669089,
          32.28562878892879,
          32.92037286116669,
          33.55511693340459,
          34.18986100564249
         ],
         "xaxis": "x15",
         "y": [
          0.000017037675767564004,
          0.000023462290289326543,
          0.00003209922440794384,
          0.000043629753028060675,
          0.00005891624381799656,
          0.00007904081823851378,
          0.00010534935589151093,
          0.00013950071141143562,
          0.00018352069304515244,
          0.00023985995031321628,
          0.00031145443442854735,
          0.0004017865352087062,
          0.0005149443753231292,
          0.0006556760789681205,
          0.0008294351593266905,
          0.0010424125294293558,
          0.0013015500859454362,
          0.0016145304049226502,
          0.0019897368882022173,
          0.0024361787768142702,
          0.0029633758678745815,
          0.0035811985903789743,
          0.0042996603535340894,
          0.005128660797454125,
          0.006077680740167932,
          0.007155432182809934,
          0.008369469624673873,
          0.009725772030422469,
          0.011228307924724493,
          0.012878599074365137,
          0.014675300840670244,
          0.016613819321356724,
          0.01868598663078947,
          0.020879815893404312,
          0.02317935658962614,
          0.02556466869811141,
          0.028011930597314955,
          0.03049369098285614,
          0.03297926927519517,
          0.035435302374607104,
          0.037826428488439263,
          0.040116091495571556,
          0.042267442353953265,
          0.044244307842711904,
          0.046012191887291096,
          0.04753927122153977,
          0.048797345491565475,
          0.04976270229294474,
          0.05041686012040332,
          0.05074715672647143,
          0.05074715672647143,
          0.05041686012040332,
          0.04976270229294474,
          0.048797345491565475,
          0.04753927122153976,
          0.0460121918872911,
          0.044244307842711904,
          0.042267442353953265,
          0.040116091495571556,
          0.03782642848843925,
          0.03543530237460709,
          0.032979269275195185,
          0.03049369098285615,
          0.028011930597314955,
          0.02556466869811141,
          0.02317935658962614,
          0.020879815893404298,
          0.018685986630789457,
          0.016613819321356738,
          0.014675300840670244,
          0.012878599074365137,
          0.011228307924724493,
          0.00972577203042246,
          0.008369469624673866,
          0.007155432182809941,
          0.006077680740167937,
          0.005128660797454125,
          0.0042996603535340894,
          0.0035811985903789743,
          0.0029633758678745815,
          0.0024361787768142702,
          0.0019897368882022216,
          0.0016145304049226543,
          0.0013015500859454362,
          0.0010424125294293558,
          0.0008294351593266905,
          0.0006556760789681205,
          0.0005149443753231305,
          0.00040178653520870765,
          0.00031145443442854735,
          0.00023985995031321628,
          0.00018352069304515244,
          0.00013950071141143562,
          0.00010534935589151122,
          0.00007904081823851399,
          0.00005891624381799656,
          0.000043629753028060675,
          0.00003209922440794384,
          0.000023462290289326543,
          0.000017037675767564004
         ],
         "yaxis": "y15"
        },
        {
         "marker": {
          "color": "#DD3497"
         },
         "mode": "lines",
         "name": "Group 1",
         "showlegend": false,
         "type": "scatter",
         "x": [
          -20.473721022651368,
          -19.875083536554012,
          -19.27644605045666,
          -18.677808564359303,
          -18.079171078261947,
          -17.48053359216459,
          -16.881896106067238,
          -16.28325861996988,
          -15.684621133872527,
          -15.085983647775173,
          -14.487346161677817,
          -13.888708675580462,
          -13.290071189483108,
          -12.691433703385751,
          -12.092796217288397,
          -11.49415873119104,
          -10.895521245093686,
          -10.296883758996332,
          -9.698246272898976,
          -9.099608786801621,
          -8.500971300704265,
          -7.90233381460691,
          -7.303696328509556,
          -6.7050588424122,
          -6.106421356314845,
          -5.507783870217491,
          -4.909146384120135,
          -4.310508898022778,
          -3.7118714119254257,
          -3.1132339258280695,
          -2.5145964397307132,
          -1.9159589536333606,
          -1.3173214675360043,
          -0.7186839814386481,
          -0.12004649534129541,
          0.4785909907560608,
          1.077228476853417,
          1.6758659629507697,
          2.274503449048126,
          2.873140935145482,
          3.4717784212428384,
          4.070415907340191,
          4.669053393437547,
          5.267690879534904,
          5.866328365632256,
          6.4649658517296125,
          7.063603337826969,
          7.662240823924321,
          8.260878310021678,
          8.859515796119034,
          9.458153282216387,
          10.056790768313743,
          10.655428254411099,
          11.254065740508452,
          11.852703226605811,
          12.451340712703164,
          13.049978198800517,
          13.648615684897877,
          14.24725317099523,
          14.845890657092582,
          15.444528143189942,
          16.043165629287294,
          16.641803115384647,
          17.240440601482007,
          17.83907808757936,
          18.437715573676712,
          19.036353059774072,
          19.634990545871425,
          20.233628031968777,
          20.832265518066137,
          21.43090300416349,
          22.029540490260842,
          22.628177976358202,
          23.226815462455555,
          23.825452948552908,
          24.424090434650267,
          25.02272792074762,
          25.621365406844973,
          26.220002892942333,
          26.818640379039685,
          27.417277865137045,
          28.015915351234398,
          28.61455283733175,
          29.21319032342911,
          29.811827809526463,
          30.410465295623816,
          31.009102781721175,
          31.607740267818528,
          32.20637775391588,
          32.80501524001324,
          33.40365272611059,
          34.002290212207946,
          34.600927698305306,
          35.19956518440266,
          35.79820267050001,
          36.39684015659737,
          36.99547764269472,
          37.594115128792076,
          38.192752614889436,
          38.79139010098679
         ],
         "xaxis": "x15",
         "y": [
          0.00001806529652640865,
          0.000024877409163536595,
          0.00003403527658985075,
          0.00004626126453975726,
          0.00006246975405064141,
          0.00008380813431648485,
          0.00011170346114166076,
          0.00014791464232992988,
          0.00019458967196126623,
          0.00025432700952481084,
          0.0003302396869840812,
          0.0004260201331382305,
          0.0005460030441786402,
          0.0006952229255578556,
          0.000879462216976325,
          0.001105285233965775,
          0.0013800525709815605,
          0.0017119101756448384,
          0.002109747091404245,
          0.0025831159481435424,
          0.0031421107258230246,
          0.003797197184507919,
          0.004558992688269826,
          0.005437993970149548,
          0.0064442536800120515,
          0.00758700927993718,
          0.008874270915892726,
          0.010312378171459611,
          0.011905538931321846,
          0.013655366747033859,
          0.015560435878565098,
          0.017615875344210684,
          0.019813024615503872,
          0.022139173833163033,
          0.024577410428255324,
          0.027106591704838597,
          0.029701459249569146,
          0.032332906043365355,
          0.034968401019516614,
          0.03757256879597001,
          0.040107914747361674,
          0.0425356778844053,
          0.04481678662947248,
          0.04691288598800338,
          0.048787399268179286,
          0.050406583795981647,
          0.051740538324188345,
          0.05276412024396538,
          0.05345773334526695,
          0.05380795166211311,
          0.05380795166211311,
          0.05345773334526695,
          0.05276412024396538,
          0.051740538324188345,
          0.05040658379598164,
          0.048787399268179286,
          0.04691288598800338,
          0.044816786629472465,
          0.0425356778844053,
          0.040107914747361674,
          0.037572568795970006,
          0.034968401019516614,
          0.032332906043365375,
          0.02970145924956913,
          0.027106591704838597,
          0.02457741042825534,
          0.022139173833163016,
          0.019813024615503872,
          0.017615875344210698,
          0.01556043587856508,
          0.013655366747033859,
          0.011905538931321858,
          0.010312378171459602,
          0.008874270915892726,
          0.007587009279937187,
          0.0064442536800120446,
          0.005437993970149548,
          0.0045589926882698304,
          0.003797197184507915,
          0.0031421107258230246,
          0.00258311594814354,
          0.0021097470914042435,
          0.0017119101756448405,
          0.001380052570981559,
          0.0011052852339657733,
          0.000879462216976326,
          0.000695222925557855,
          0.0005460030441786402,
          0.0004260201331382312,
          0.0003302396869840806,
          0.00025432700952481084,
          0.00019458967196126658,
          0.0001479146423299296,
          0.00011170346114166076,
          0.00008380813431648485,
          0.0000624697540506413,
          0.00004626126453975726,
          0.000034035276589850804,
          0.000024877409163536547,
          0.00001806529652640865
         ],
         "yaxis": "y15"
        },
        {
         "marker": {
          "color": "#073B4C"
         },
         "mode": "lines",
         "name": "Group 0",
         "showlegend": false,
         "type": "scatter",
         "x": [
          -28.3185593481497,
          -27.696574535102812,
          -27.074589722055922,
          -26.452604909009032,
          -25.830620095962143,
          -25.208635282915253,
          -24.586650469868363,
          -23.964665656821474,
          -23.342680843774588,
          -22.720696030727694,
          -22.09871121768081,
          -21.47672640463392,
          -20.85474159158703,
          -20.23275677854014,
          -19.61077196549325,
          -18.98878715244636,
          -18.36680233939947,
          -17.74481752635258,
          -17.12283271330569,
          -16.5008479002588,
          -15.878863087211911,
          -15.256878274165024,
          -14.634893461118134,
          -14.012908648071244,
          -13.390923835024354,
          -12.768939021977465,
          -12.146954208930577,
          -11.524969395883687,
          -10.902984582836798,
          -10.280999769789908,
          -9.659014956743018,
          -9.037030143696128,
          -8.415045330649239,
          -7.793060517602349,
          -7.171075704555459,
          -6.54909089150857,
          -5.92710607846168,
          -5.30512126541479,
          -4.683136452367901,
          -4.061151639321011,
          -3.4391668262741213,
          -2.817182013227235,
          -2.1951972001803455,
          -1.5732123871334558,
          -0.9512275740865661,
          -0.3292427610396764,
          0.29274205200721326,
          0.9147268650541029,
          1.5367116781009926,
          2.1586964911478823,
          2.780681304194772,
          3.4026661172416617,
          4.024650930288548,
          4.646635743335441,
          5.268620556382327,
          5.89060536942922,
          6.5125901824761065,
          7.134574995523,
          7.756559808569886,
          8.37854462161678,
          9.000529434663665,
          9.622514247710559,
          10.244499060757445,
          10.866483873804338,
          11.488468686851224,
          12.11045349989811,
          12.732438312945003,
          13.35442312599189,
          13.976407939038783,
          14.598392752085669,
          15.220377565132562,
          15.842362378179448,
          16.46434719122634,
          17.086332004273228,
          17.70831681732012,
          18.330301630367007,
          18.9522864434139,
          19.574271256460786,
          20.19625606950768,
          20.818240882554566,
          21.44022569560146,
          22.062210508648345,
          22.68419532169523,
          23.306180134742124,
          23.92816494778901,
          24.550149760835904,
          25.17213457388279,
          25.794119386929683,
          26.41610419997657,
          27.038089013023463,
          27.66007382607035,
          28.282058639117242,
          28.904043452164128,
          29.52602826521102,
          30.148013078257907,
          30.7699978913048,
          31.391982704351687,
          32.01396751739857,
          32.63595233044546,
          33.257937143492356
         ],
         "xaxis": "x20",
         "y": [
          0.00001738718288826978,
          0.000023943590534504178,
          0.00003275770081357349,
          0.00004452476415316802,
          0.00006012483864164191,
          0.00008066224414059393,
          0.00010751046932905784,
          0.0001423623982193651,
          0.00018728539604168708,
          0.00024478038440001827,
          0.0003178435419625339,
          0.00041002869552299635,
          0.0005255078305970849,
          0.0006691264733530205,
          0.0008464500091397316,
          0.0010637963500113895,
          0.0013282497971736041,
          0.0016476505253436976,
          0.002030553911618147,
          0.002486154010609358,
          0.0030241659064502427,
          0.0036546625079387713,
          0.004387862637148227,
          0.005233869013225388,
          0.006202356941607863,
          0.00730221713949871,
          0.008541159077523012,
          0.0099252843715051,
          0.011458642955553017,
          0.01314278781363992,
          0.014976346723470656,
          0.01695463154446452,
          0.01906930683678301,
          0.021308139828741978,
          0.023654852795327853,
          0.026089096669999697,
          0.028586561159725125,
          0.031119231830123568,
          0.033655798727017336,
          0.03616221434741653,
          0.038602391494657884,
          0.04093902414342011,
          0.043134507338535924,
          0.045151925809662846,
          0.0469560758373839,
          0.048514481340089094,
          0.04979836346804974,
          0.050783523385811005,
          0.05145110046257808,
          0.05178817270033098,
          0.05178817270033098,
          0.05145110046257808,
          0.05078352338581101,
          0.04979836346804974,
          0.04851448134008911,
          0.046956075837383905,
          0.04515192580966287,
          0.04313450733853594,
          0.040939024143420134,
          0.038602391494657884,
          0.03616221434741655,
          0.033655798727017336,
          0.031119231830123578,
          0.028586561159725125,
          0.026089096669999718,
          0.02365485279532788,
          0.021308139828741992,
          0.01906930683678303,
          0.01695463154446454,
          0.014976346723470675,
          0.01314278781363993,
          0.011458642955553034,
          0.00992528437150511,
          0.008541159077523024,
          0.007302217139498713,
          0.006202356941607867,
          0.005233869013225388,
          0.004387862637148232,
          0.0036546625079387713,
          0.0030241659064502453,
          0.002486154010609358,
          0.0020305539116181486,
          0.0016476505253437013,
          0.001328249797173606,
          0.001063796350011392,
          0.0008464500091397326,
          0.0006691264733530224,
          0.0005255078305970853,
          0.00041002869552299743,
          0.00031784354196253415,
          0.00024478038440001854,
          0.00018728539604168743,
          0.00014236239821936521,
          0.00010751046932905784,
          0.00008066224414059407,
          0.00006012483864164191,
          0.00004452476415316806,
          0.00003275770081357367,
          0.000023943590534504263,
          0.00001738718288826981
         ],
         "yaxis": "y20"
        },
        {
         "marker": {
          "color": "#DD3497"
         },
         "mode": "lines",
         "name": "Group 1",
         "showlegend": false,
         "type": "scatter",
         "x": [
          -20.154619041970427,
          -19.584720308551805,
          -19.014821575133183,
          -18.44492284171456,
          -17.87502410829594,
          -17.305125374877314,
          -16.73522664145869,
          -16.16532790804007,
          -15.595429174621447,
          -15.025530441202825,
          -14.455631707784203,
          -13.88573297436558,
          -13.315834240946957,
          -12.745935507528335,
          -12.176036774109711,
          -11.60613804069109,
          -11.036239307272467,
          -10.466340573853845,
          -9.896441840435223,
          -9.3265431070166,
          -8.756644373597977,
          -8.186745640179355,
          -7.616846906760731,
          -7.046948173342109,
          -6.477049439923487,
          -5.907150706504865,
          -5.337251973086243,
          -4.767353239667619,
          -4.197454506248997,
          -3.627555772830373,
          -3.057657039411751,
          -2.487758305993129,
          -1.917859572574507,
          -1.3479608391558848,
          -0.7780621057372628,
          -0.20816337231864068,
          0.3617353610999814,
          0.931634094518607,
          1.501532827937229,
          2.071431561355851,
          2.6413302947744732,
          3.2112290281930953,
          3.7811277616117174,
          4.3510264950303394,
          4.920925228448965,
          5.490823961867587,
          6.060722695286209,
          6.630621428704831,
          7.200520162123453,
          7.770418895542075,
          8.340317628960698,
          8.91021636237932,
          9.480115095797942,
          10.050013829216567,
          10.61991256263519,
          11.189811296053811,
          11.759710029472433,
          12.329608762891056,
          12.899507496309681,
          13.4694062297283,
          14.039304963146925,
          14.609203696565544,
          15.17910242998417,
          15.749001163402788,
          16.318899896821414,
          16.88879863024004,
          17.458697363658658,
          18.028596097077283,
          18.598494830495902,
          19.168393563914528,
          19.738292297333146,
          20.30819103075177,
          20.87808976417039,
          21.447988497589016,
          22.01788723100764,
          22.58778596442626,
          23.157684697844886,
          23.727583431263504,
          24.29748216468213,
          24.86738089810075,
          25.437279631519374,
          26.007178364938,
          26.577077098356618,
          27.146975831775244,
          27.716874565193862,
          28.286773298612488,
          28.856672032031106,
          29.426570765449732,
          29.996469498868358,
          30.566368232286976,
          31.1362669657056,
          31.70616569912422,
          32.276064432542846,
          32.845963165961464,
          33.41586189938009,
          33.98576063279871,
          34.555659366217334,
          35.12555809963596,
          35.69545683305458,
          36.2653555664732
         ],
         "xaxis": "x20",
         "y": [
          0.00001897629010912129,
          0.000026131922759223637,
          0.00003575160150673644,
          0.00004859411941774288,
          0.00006561996777509239,
          0.00008803439611239983,
          0.00011733642355210783,
          0.00015537365579006428,
          0.00020440240557234924,
          0.00026715216704430704,
          0.00034689295559551674,
          0.0004475034011724955,
          0.0005735367892606087,
          0.0007302815044642163,
          0.0009238115823317441,
          0.001161022362539219,
          0.0014496456182992426,
          0.00179823807964094,
          0.002216137045126083,
          0.0027133768629711195,
          0.0033005605305750697,
          0.003988681573503378,
          0.0047888927663879075,
          0.005712220169669402,
          0.006769223366464819,
          0.00796960564396033,
          0.009321781082349918,
          0.010832408956615682,
          0.012505909345907333,
          0.014343977169672104,
          0.01634511479091297,
          0.018504205594919942,
          0.02081215232162627,
          0.023255604181211156,
          0.02581679574070258,
          0.028473518124021404,
          0.031199239191016772,
          0.033963384118989415,
          0.036731781370341936,
          0.03946727165950294,
          0.04213046958876264,
          0.04468065953651265,
          0.0470767996305083,
          0.049278600717298046,
          0.05124764162210794,
          0.05294847810131333,
          0.05434970105287805,
          0.05542489998093028,
          0.056153490481204923,
          0.05652136954548077,
          0.05652136954548077,
          0.056153490481204923,
          0.05542489998093028,
          0.05434970105287805,
          0.05294847810131332,
          0.05124764162210793,
          0.049278600717298046,
          0.0470767996305083,
          0.044680659536512644,
          0.04213046958876264,
          0.03946727165950292,
          0.036731781370341936,
          0.0339633841189894,
          0.031199239191016786,
          0.028473518124021404,
          0.025816795740702555,
          0.023255604181211156,
          0.020812152321626254,
          0.018504205594919942,
          0.01634511479091296,
          0.014343977169672104,
          0.01250590934590733,
          0.010832408956615688,
          0.009321781082349918,
          0.007969605643960325,
          0.006769223366464819,
          0.0057122201696693945,
          0.0047888927663879075,
          0.003988681573503375,
          0.0033005605305750697,
          0.0027133768629711134,
          0.0022161370451260778,
          0.00179823807964094,
          0.0014496456182992372,
          0.001161022362539219,
          0.0009238115823317416,
          0.0007302815044642163,
          0.0005735367892606073,
          0.0004475034011724942,
          0.00034689295559551674,
          0.0002671521670443064,
          0.00020440240557234924,
          0.00015537365579006368,
          0.00011733642355210783,
          0.00008803439611239936,
          0.00006561996777509239,
          0.00004859411941774288,
          0.000035751601506736344,
          0.000026131922759223637,
          0.00001897629010912129
         ],
         "yaxis": "y20"
        }
       ],
       "layout": {
        "annotations": [
         {
          "font": {
           "size": 16
          },
          "showarrow": false,
          "text": "Initial Distribution",
          "x": 0.094,
          "xanchor": "center",
          "xref": "paper",
          "y": 1,
          "yanchor": "bottom",
          "yref": "paper"
         },
         {
          "font": {
           "size": 16
          },
          "showarrow": false,
          "text": "t=3",
          "x": 0.29200000000000004,
          "xanchor": "center",
          "xref": "paper",
          "y": 1,
          "yanchor": "bottom",
          "yref": "paper"
         },
         {
          "font": {
           "size": 16
          },
          "showarrow": false,
          "text": "t=5",
          "x": 0.49000000000000005,
          "xanchor": "center",
          "xref": "paper",
          "y": 1,
          "yanchor": "bottom",
          "yref": "paper"
         },
         {
          "font": {
           "size": 16
          },
          "showarrow": false,
          "text": "t=10",
          "x": 0.6880000000000001,
          "xanchor": "center",
          "xref": "paper",
          "y": 1,
          "yanchor": "bottom",
          "yref": "paper"
         },
         {
          "font": {
           "size": 16
          },
          "showarrow": false,
          "text": "t=20",
          "x": 0.886,
          "xanchor": "center",
          "xref": "paper",
          "y": 1,
          "yanchor": "bottom",
          "yref": "paper"
         },
         {
          "font": {
           "size": 16
          },
          "showarrow": false,
          "text": "ERM",
          "textangle": 90,
          "x": 0.98,
          "xanchor": "left",
          "xref": "paper",
          "y": 0.87875,
          "yanchor": "middle",
          "yref": "paper"
         },
         {
          "font": {
           "size": 16
          },
          "showarrow": false,
          "text": "BE",
          "textangle": 90,
          "x": 0.98,
          "xanchor": "left",
          "xref": "paper",
          "y": 0.62625,
          "yanchor": "middle",
          "yref": "paper"
         },
         {
          "font": {
           "size": 16
          },
          "showarrow": false,
          "text": "EI",
          "textangle": 90,
          "x": 0.98,
          "xanchor": "left",
          "xref": "paper",
          "y": 0.37375,
          "yanchor": "middle",
          "yref": "paper"
         },
         {
          "font": {
           "size": 16
          },
          "showarrow": false,
          "text": "REI",
          "textangle": 90,
          "x": 0.98,
          "xanchor": "left",
          "xref": "paper",
          "y": 0.12125,
          "yanchor": "middle",
          "yref": "paper"
         },
         {
          "font": {
           "size": 16
          },
          "showarrow": false,
          "text": "x",
          "x": 0.49,
          "xanchor": "center",
          "xref": "paper",
          "y": 0,
          "yanchor": "top",
          "yref": "paper",
          "yshift": -30
         },
         {
          "font": {
           "size": 16
          },
          "showarrow": false,
          "text": "Density",
          "textangle": -90,
          "x": 0,
          "xanchor": "right",
          "xref": "paper",
          "xshift": -40,
          "y": 0.5,
          "yanchor": "middle",
          "yref": "paper"
         },
         {
          "showarrow": false,
          "text": "$d_{\\mathrm{TV}} = 0.62$",
          "x": 0.3,
          "xref": "x",
          "y": 0.17,
          "yref": "y"
         },
         {
          "showarrow": false,
          "text": "$d_{\\mathrm{TV}} = 0.62$",
          "x": 0.3,
          "xref": "x6",
          "y": 0.17,
          "yref": "y6"
         },
         {
          "showarrow": false,
          "text": "$d_{\\mathrm{TV}} = 0.62$",
          "x": 0.3,
          "xref": "x11",
          "y": 0.17,
          "yref": "y11"
         },
         {
          "showarrow": false,
          "text": "$d_{\\mathrm{TV}} = 0.62$",
          "x": 0.3,
          "xref": "x16",
          "y": 0.17,
          "yref": "y16"
         },
         {
          "showarrow": false,
          "text": "$d_{\\mathrm{TV}} = 0.57$",
          "x": 0.3,
          "xref": "x2",
          "y": 0.12,
          "yref": "y2"
         },
         {
          "showarrow": false,
          "text": "$d_{\\mathrm{TV}} = 0.50$",
          "x": 0.3,
          "xref": "x7",
          "y": 0.12,
          "yref": "y7"
         },
         {
          "showarrow": false,
          "text": "$d_{\\mathrm{TV}} = 0.32$",
          "x": 0.3,
          "xref": "x12",
          "y": 0.12,
          "yref": "y12"
         },
         {
          "showarrow": false,
          "text": "$d_{\\mathrm{TV}} = 0.32$",
          "x": 0.3,
          "xref": "x17",
          "y": 0.12,
          "yref": "y17"
         },
         {
          "showarrow": false,
          "text": "$d_{\\mathrm{TV}} = 0.60$",
          "x": 0.3,
          "xref": "x3",
          "y": 0.12,
          "yref": "y3"
         },
         {
          "showarrow": false,
          "text": "$d_{\\mathrm{TV}} = 0.50$",
          "x": 0.3,
          "xref": "x8",
          "y": 0.12,
          "yref": "y8"
         },
         {
          "showarrow": false,
          "text": "$d_{\\mathrm{TV}} = 0.32$",
          "x": 0.3,
          "xref": "x13",
          "y": 0.12,
          "yref": "y13"
         },
         {
          "showarrow": false,
          "text": "$d_{\\mathrm{TV}} = 0.31$",
          "x": 0.3,
          "xref": "x18",
          "y": 0.12,
          "yref": "y18"
         },
         {
          "showarrow": false,
          "text": "$d_{\\mathrm{TV}} = 0.66$",
          "x": 0.3,
          "xref": "x4",
          "y": 0.12,
          "yref": "y4"
         },
         {
          "showarrow": false,
          "text": "$d_{\\mathrm{TV}} = 0.50$",
          "x": 0.3,
          "xref": "x9",
          "y": 0.12,
          "yref": "y9"
         },
         {
          "showarrow": false,
          "text": "$d_{\\mathrm{TV}} = 0.32$",
          "x": 0.3,
          "xref": "x14",
          "y": 0.12,
          "yref": "y14"
         },
         {
          "showarrow": false,
          "text": "$d_{\\mathrm{TV}} = 0.30$",
          "x": 0.3,
          "xref": "x19",
          "y": 0.12,
          "yref": "y19"
         },
         {
          "showarrow": false,
          "text": "$d_{\\mathrm{TV}} = 0.76$",
          "x": 0.3,
          "xref": "x5",
          "y": 0.12,
          "yref": "y5"
         },
         {
          "showarrow": false,
          "text": "$d_{\\mathrm{TV}} = 0.58$",
          "x": 0.3,
          "xref": "x10",
          "y": 0.12,
          "yref": "y10"
         },
         {
          "showarrow": false,
          "text": "$d_{\\mathrm{TV}} = 0.33$",
          "x": 0.3,
          "xref": "x15",
          "y": 0.12,
          "yref": "y15"
         },
         {
          "showarrow": false,
          "text": "$d_{\\mathrm{TV}} = 0.30$",
          "x": 0.3,
          "xref": "x20",
          "y": 0.12,
          "yref": "y20"
         }
        ],
        "font": {
         "color": "black",
         "family": "Times New Roman"
        },
        "height": 768,
        "legend": {
         "bgcolor": "rgba(255, 255, 255, 0.7)",
         "bordercolor": "lightgrey",
         "borderwidth": 1,
         "entrywidthmode": "pixels",
         "font": {
          "size": 10
         },
         "orientation": "h",
         "x": 0.815,
         "xanchor": "left",
         "y": 0.997
        },
        "paper_bgcolor": "white",
        "plot_bgcolor": "white",
        "template": {
         "data": {
          "bar": [
           {
            "error_x": {
             "color": "#2a3f5f"
            },
            "error_y": {
             "color": "#2a3f5f"
            },
            "marker": {
             "line": {
              "color": "#E5ECF6",
              "width": 0.5
             },
             "pattern": {
              "fillmode": "overlay",
              "size": 10,
              "solidity": 0.2
             }
            },
            "type": "bar"
           }
          ],
          "barpolar": [
           {
            "marker": {
             "line": {
              "color": "#E5ECF6",
              "width": 0.5
             },
             "pattern": {
              "fillmode": "overlay",
              "size": 10,
              "solidity": 0.2
             }
            },
            "type": "barpolar"
           }
          ],
          "carpet": [
           {
            "aaxis": {
             "endlinecolor": "#2a3f5f",
             "gridcolor": "white",
             "linecolor": "white",
             "minorgridcolor": "white",
             "startlinecolor": "#2a3f5f"
            },
            "baxis": {
             "endlinecolor": "#2a3f5f",
             "gridcolor": "white",
             "linecolor": "white",
             "minorgridcolor": "white",
             "startlinecolor": "#2a3f5f"
            },
            "type": "carpet"
           }
          ],
          "choropleth": [
           {
            "colorbar": {
             "outlinewidth": 0,
             "ticks": ""
            },
            "type": "choropleth"
           }
          ],
          "contour": [
           {
            "colorbar": {
             "outlinewidth": 0,
             "ticks": ""
            },
            "colorscale": [
             [
              0,
              "#0d0887"
             ],
             [
              0.1111111111111111,
              "#46039f"
             ],
             [
              0.2222222222222222,
              "#7201a8"
             ],
             [
              0.3333333333333333,
              "#9c179e"
             ],
             [
              0.4444444444444444,
              "#bd3786"
             ],
             [
              0.5555555555555556,
              "#d8576b"
             ],
             [
              0.6666666666666666,
              "#ed7953"
             ],
             [
              0.7777777777777778,
              "#fb9f3a"
             ],
             [
              0.8888888888888888,
              "#fdca26"
             ],
             [
              1,
              "#f0f921"
             ]
            ],
            "type": "contour"
           }
          ],
          "contourcarpet": [
           {
            "colorbar": {
             "outlinewidth": 0,
             "ticks": ""
            },
            "type": "contourcarpet"
           }
          ],
          "heatmap": [
           {
            "colorbar": {
             "outlinewidth": 0,
             "ticks": ""
            },
            "colorscale": [
             [
              0,
              "#0d0887"
             ],
             [
              0.1111111111111111,
              "#46039f"
             ],
             [
              0.2222222222222222,
              "#7201a8"
             ],
             [
              0.3333333333333333,
              "#9c179e"
             ],
             [
              0.4444444444444444,
              "#bd3786"
             ],
             [
              0.5555555555555556,
              "#d8576b"
             ],
             [
              0.6666666666666666,
              "#ed7953"
             ],
             [
              0.7777777777777778,
              "#fb9f3a"
             ],
             [
              0.8888888888888888,
              "#fdca26"
             ],
             [
              1,
              "#f0f921"
             ]
            ],
            "type": "heatmap"
           }
          ],
          "heatmapgl": [
           {
            "colorbar": {
             "outlinewidth": 0,
             "ticks": ""
            },
            "colorscale": [
             [
              0,
              "#0d0887"
             ],
             [
              0.1111111111111111,
              "#46039f"
             ],
             [
              0.2222222222222222,
              "#7201a8"
             ],
             [
              0.3333333333333333,
              "#9c179e"
             ],
             [
              0.4444444444444444,
              "#bd3786"
             ],
             [
              0.5555555555555556,
              "#d8576b"
             ],
             [
              0.6666666666666666,
              "#ed7953"
             ],
             [
              0.7777777777777778,
              "#fb9f3a"
             ],
             [
              0.8888888888888888,
              "#fdca26"
             ],
             [
              1,
              "#f0f921"
             ]
            ],
            "type": "heatmapgl"
           }
          ],
          "histogram": [
           {
            "marker": {
             "pattern": {
              "fillmode": "overlay",
              "size": 10,
              "solidity": 0.2
             }
            },
            "type": "histogram"
           }
          ],
          "histogram2d": [
           {
            "colorbar": {
             "outlinewidth": 0,
             "ticks": ""
            },
            "colorscale": [
             [
              0,
              "#0d0887"
             ],
             [
              0.1111111111111111,
              "#46039f"
             ],
             [
              0.2222222222222222,
              "#7201a8"
             ],
             [
              0.3333333333333333,
              "#9c179e"
             ],
             [
              0.4444444444444444,
              "#bd3786"
             ],
             [
              0.5555555555555556,
              "#d8576b"
             ],
             [
              0.6666666666666666,
              "#ed7953"
             ],
             [
              0.7777777777777778,
              "#fb9f3a"
             ],
             [
              0.8888888888888888,
              "#fdca26"
             ],
             [
              1,
              "#f0f921"
             ]
            ],
            "type": "histogram2d"
           }
          ],
          "histogram2dcontour": [
           {
            "colorbar": {
             "outlinewidth": 0,
             "ticks": ""
            },
            "colorscale": [
             [
              0,
              "#0d0887"
             ],
             [
              0.1111111111111111,
              "#46039f"
             ],
             [
              0.2222222222222222,
              "#7201a8"
             ],
             [
              0.3333333333333333,
              "#9c179e"
             ],
             [
              0.4444444444444444,
              "#bd3786"
             ],
             [
              0.5555555555555556,
              "#d8576b"
             ],
             [
              0.6666666666666666,
              "#ed7953"
             ],
             [
              0.7777777777777778,
              "#fb9f3a"
             ],
             [
              0.8888888888888888,
              "#fdca26"
             ],
             [
              1,
              "#f0f921"
             ]
            ],
            "type": "histogram2dcontour"
           }
          ],
          "mesh3d": [
           {
            "colorbar": {
             "outlinewidth": 0,
             "ticks": ""
            },
            "type": "mesh3d"
           }
          ],
          "parcoords": [
           {
            "line": {
             "colorbar": {
              "outlinewidth": 0,
              "ticks": ""
             }
            },
            "type": "parcoords"
           }
          ],
          "pie": [
           {
            "automargin": true,
            "type": "pie"
           }
          ],
          "scatter": [
           {
            "fillpattern": {
             "fillmode": "overlay",
             "size": 10,
             "solidity": 0.2
            },
            "type": "scatter"
           }
          ],
          "scatter3d": [
           {
            "line": {
             "colorbar": {
              "outlinewidth": 0,
              "ticks": ""
             }
            },
            "marker": {
             "colorbar": {
              "outlinewidth": 0,
              "ticks": ""
             }
            },
            "type": "scatter3d"
           }
          ],
          "scattercarpet": [
           {
            "marker": {
             "colorbar": {
              "outlinewidth": 0,
              "ticks": ""
             }
            },
            "type": "scattercarpet"
           }
          ],
          "scattergeo": [
           {
            "marker": {
             "colorbar": {
              "outlinewidth": 0,
              "ticks": ""
             }
            },
            "type": "scattergeo"
           }
          ],
          "scattergl": [
           {
            "marker": {
             "colorbar": {
              "outlinewidth": 0,
              "ticks": ""
             }
            },
            "type": "scattergl"
           }
          ],
          "scattermapbox": [
           {
            "marker": {
             "colorbar": {
              "outlinewidth": 0,
              "ticks": ""
             }
            },
            "type": "scattermapbox"
           }
          ],
          "scatterpolar": [
           {
            "marker": {
             "colorbar": {
              "outlinewidth": 0,
              "ticks": ""
             }
            },
            "type": "scatterpolar"
           }
          ],
          "scatterpolargl": [
           {
            "marker": {
             "colorbar": {
              "outlinewidth": 0,
              "ticks": ""
             }
            },
            "type": "scatterpolargl"
           }
          ],
          "scatterternary": [
           {
            "marker": {
             "colorbar": {
              "outlinewidth": 0,
              "ticks": ""
             }
            },
            "type": "scatterternary"
           }
          ],
          "surface": [
           {
            "colorbar": {
             "outlinewidth": 0,
             "ticks": ""
            },
            "colorscale": [
             [
              0,
              "#0d0887"
             ],
             [
              0.1111111111111111,
              "#46039f"
             ],
             [
              0.2222222222222222,
              "#7201a8"
             ],
             [
              0.3333333333333333,
              "#9c179e"
             ],
             [
              0.4444444444444444,
              "#bd3786"
             ],
             [
              0.5555555555555556,
              "#d8576b"
             ],
             [
              0.6666666666666666,
              "#ed7953"
             ],
             [
              0.7777777777777778,
              "#fb9f3a"
             ],
             [
              0.8888888888888888,
              "#fdca26"
             ],
             [
              1,
              "#f0f921"
             ]
            ],
            "type": "surface"
           }
          ],
          "table": [
           {
            "cells": {
             "fill": {
              "color": "#EBF0F8"
             },
             "line": {
              "color": "white"
             }
            },
            "header": {
             "fill": {
              "color": "#C8D4E3"
             },
             "line": {
              "color": "white"
             }
            },
            "type": "table"
           }
          ]
         },
         "layout": {
          "annotationdefaults": {
           "arrowcolor": "#2a3f5f",
           "arrowhead": 0,
           "arrowwidth": 1
          },
          "autotypenumbers": "strict",
          "coloraxis": {
           "colorbar": {
            "outlinewidth": 0,
            "ticks": ""
           }
          },
          "colorscale": {
           "diverging": [
            [
             0,
             "#8e0152"
            ],
            [
             0.1,
             "#c51b7d"
            ],
            [
             0.2,
             "#de77ae"
            ],
            [
             0.3,
             "#f1b6da"
            ],
            [
             0.4,
             "#fde0ef"
            ],
            [
             0.5,
             "#f7f7f7"
            ],
            [
             0.6,
             "#e6f5d0"
            ],
            [
             0.7,
             "#b8e186"
            ],
            [
             0.8,
             "#7fbc41"
            ],
            [
             0.9,
             "#4d9221"
            ],
            [
             1,
             "#276419"
            ]
           ],
           "sequential": [
            [
             0,
             "#0d0887"
            ],
            [
             0.1111111111111111,
             "#46039f"
            ],
            [
             0.2222222222222222,
             "#7201a8"
            ],
            [
             0.3333333333333333,
             "#9c179e"
            ],
            [
             0.4444444444444444,
             "#bd3786"
            ],
            [
             0.5555555555555556,
             "#d8576b"
            ],
            [
             0.6666666666666666,
             "#ed7953"
            ],
            [
             0.7777777777777778,
             "#fb9f3a"
            ],
            [
             0.8888888888888888,
             "#fdca26"
            ],
            [
             1,
             "#f0f921"
            ]
           ],
           "sequentialminus": [
            [
             0,
             "#0d0887"
            ],
            [
             0.1111111111111111,
             "#46039f"
            ],
            [
             0.2222222222222222,
             "#7201a8"
            ],
            [
             0.3333333333333333,
             "#9c179e"
            ],
            [
             0.4444444444444444,
             "#bd3786"
            ],
            [
             0.5555555555555556,
             "#d8576b"
            ],
            [
             0.6666666666666666,
             "#ed7953"
            ],
            [
             0.7777777777777778,
             "#fb9f3a"
            ],
            [
             0.8888888888888888,
             "#fdca26"
            ],
            [
             1,
             "#f0f921"
            ]
           ]
          },
          "colorway": [
           "#636efa",
           "#EF553B",
           "#00cc96",
           "#ab63fa",
           "#FFA15A",
           "#19d3f3",
           "#FF6692",
           "#B6E880",
           "#FF97FF",
           "#FECB52"
          ],
          "font": {
           "color": "#2a3f5f"
          },
          "geo": {
           "bgcolor": "white",
           "lakecolor": "white",
           "landcolor": "#E5ECF6",
           "showlakes": true,
           "showland": true,
           "subunitcolor": "white"
          },
          "hoverlabel": {
           "align": "left"
          },
          "hovermode": "closest",
          "mapbox": {
           "style": "light"
          },
          "paper_bgcolor": "white",
          "plot_bgcolor": "#E5ECF6",
          "polar": {
           "angularaxis": {
            "gridcolor": "white",
            "linecolor": "white",
            "ticks": ""
           },
           "bgcolor": "#E5ECF6",
           "radialaxis": {
            "gridcolor": "white",
            "linecolor": "white",
            "ticks": ""
           }
          },
          "scene": {
           "xaxis": {
            "backgroundcolor": "#E5ECF6",
            "gridcolor": "white",
            "gridwidth": 2,
            "linecolor": "white",
            "showbackground": true,
            "ticks": "",
            "zerolinecolor": "white"
           },
           "yaxis": {
            "backgroundcolor": "#E5ECF6",
            "gridcolor": "white",
            "gridwidth": 2,
            "linecolor": "white",
            "showbackground": true,
            "ticks": "",
            "zerolinecolor": "white"
           },
           "zaxis": {
            "backgroundcolor": "#E5ECF6",
            "gridcolor": "white",
            "gridwidth": 2,
            "linecolor": "white",
            "showbackground": true,
            "ticks": "",
            "zerolinecolor": "white"
           }
          },
          "shapedefaults": {
           "line": {
            "color": "#2a3f5f"
           }
          },
          "ternary": {
           "aaxis": {
            "gridcolor": "white",
            "linecolor": "white",
            "ticks": ""
           },
           "baxis": {
            "gridcolor": "white",
            "linecolor": "white",
            "ticks": ""
           },
           "bgcolor": "#E5ECF6",
           "caxis": {
            "gridcolor": "white",
            "linecolor": "white",
            "ticks": ""
           }
          },
          "title": {
           "x": 0.05
          },
          "xaxis": {
           "automargin": true,
           "gridcolor": "white",
           "linecolor": "white",
           "ticks": "",
           "title": {
            "standoff": 15
           },
           "zerolinecolor": "white",
           "zerolinewidth": 2
          },
          "yaxis": {
           "automargin": true,
           "gridcolor": "white",
           "linecolor": "white",
           "ticks": "",
           "title": {
            "standoff": 15
           },
           "zerolinecolor": "white",
           "zerolinewidth": 2
          }
         }
        },
        "width": 1056,
        "xaxis": {
         "anchor": "y",
         "domain": [
          0,
          0.188
         ],
         "gridcolor": "lightgrey",
         "linecolor": "black",
         "matches": "x16",
         "mirror": true,
         "showline": true,
         "showticklabels": false,
         "title": {
          "font": {
           "size": 25
          }
         },
         "zerolinecolor": "lightgrey",
         "zerolinewidth": 1
        },
        "xaxis10": {
         "anchor": "y10",
         "domain": [
          0.792,
          0.98
         ],
         "gridcolor": "lightgrey",
         "linecolor": "black",
         "matches": "x20",
         "mirror": true,
         "showline": true,
         "showticklabels": false,
         "title": {
          "font": {
           "size": 25
          }
         },
         "zerolinecolor": "lightgrey",
         "zerolinewidth": 1
        },
        "xaxis11": {
         "anchor": "y11",
         "domain": [
          0,
          0.188
         ],
         "gridcolor": "lightgrey",
         "linecolor": "black",
         "matches": "x16",
         "mirror": true,
         "showline": true,
         "showticklabels": false,
         "title": {
          "font": {
           "size": 25
          }
         },
         "zerolinecolor": "lightgrey",
         "zerolinewidth": 1
        },
        "xaxis12": {
         "anchor": "y12",
         "domain": [
          0.198,
          0.386
         ],
         "gridcolor": "lightgrey",
         "linecolor": "black",
         "matches": "x17",
         "mirror": true,
         "showline": true,
         "showticklabels": false,
         "title": {
          "font": {
           "size": 25
          }
         },
         "zerolinecolor": "lightgrey",
         "zerolinewidth": 1
        },
        "xaxis13": {
         "anchor": "y13",
         "domain": [
          0.396,
          0.5840000000000001
         ],
         "gridcolor": "lightgrey",
         "linecolor": "black",
         "matches": "x18",
         "mirror": true,
         "showline": true,
         "showticklabels": false,
         "title": {
          "font": {
           "size": 25
          }
         },
         "zerolinecolor": "lightgrey",
         "zerolinewidth": 1
        },
        "xaxis14": {
         "anchor": "y14",
         "domain": [
          0.5940000000000001,
          0.782
         ],
         "gridcolor": "lightgrey",
         "linecolor": "black",
         "matches": "x19",
         "mirror": true,
         "showline": true,
         "showticklabels": false,
         "title": {
          "font": {
           "size": 25
          }
         },
         "zerolinecolor": "lightgrey",
         "zerolinewidth": 1
        },
        "xaxis15": {
         "anchor": "y15",
         "domain": [
          0.792,
          0.98
         ],
         "gridcolor": "lightgrey",
         "linecolor": "black",
         "matches": "x20",
         "mirror": true,
         "showline": true,
         "showticklabels": false,
         "title": {
          "font": {
           "size": 25
          }
         },
         "zerolinecolor": "lightgrey",
         "zerolinewidth": 1
        },
        "xaxis16": {
         "anchor": "y16",
         "domain": [
          0,
          0.188
         ],
         "gridcolor": "lightgrey",
         "linecolor": "black",
         "mirror": true,
         "showline": true,
         "title": {
          "font": {
           "size": 25
          }
         },
         "zerolinecolor": "lightgrey",
         "zerolinewidth": 1
        },
        "xaxis17": {
         "anchor": "y17",
         "domain": [
          0.198,
          0.386
         ],
         "gridcolor": "lightgrey",
         "linecolor": "black",
         "mirror": true,
         "showline": true,
         "title": {
          "font": {
           "size": 25
          }
         },
         "zerolinecolor": "lightgrey",
         "zerolinewidth": 1
        },
        "xaxis18": {
         "anchor": "y18",
         "domain": [
          0.396,
          0.5840000000000001
         ],
         "gridcolor": "lightgrey",
         "linecolor": "black",
         "mirror": true,
         "showline": true,
         "title": {
          "font": {
           "size": 25
          }
         },
         "zerolinecolor": "lightgrey",
         "zerolinewidth": 1
        },
        "xaxis19": {
         "anchor": "y19",
         "domain": [
          0.5940000000000001,
          0.782
         ],
         "gridcolor": "lightgrey",
         "linecolor": "black",
         "mirror": true,
         "showline": true,
         "title": {
          "font": {
           "size": 25
          }
         },
         "zerolinecolor": "lightgrey",
         "zerolinewidth": 1
        },
        "xaxis2": {
         "anchor": "y2",
         "domain": [
          0.198,
          0.386
         ],
         "gridcolor": "lightgrey",
         "linecolor": "black",
         "matches": "x17",
         "mirror": true,
         "showline": true,
         "showticklabels": false,
         "title": {
          "font": {
           "size": 25
          }
         },
         "zerolinecolor": "lightgrey",
         "zerolinewidth": 1
        },
        "xaxis20": {
         "anchor": "y20",
         "domain": [
          0.792,
          0.98
         ],
         "gridcolor": "lightgrey",
         "linecolor": "black",
         "mirror": true,
         "showline": true,
         "title": {
          "font": {
           "size": 25
          }
         },
         "zerolinecolor": "lightgrey",
         "zerolinewidth": 1
        },
        "xaxis3": {
         "anchor": "y3",
         "domain": [
          0.396,
          0.5840000000000001
         ],
         "gridcolor": "lightgrey",
         "linecolor": "black",
         "matches": "x18",
         "mirror": true,
         "showline": true,
         "showticklabels": false,
         "title": {
          "font": {
           "size": 25
          }
         },
         "zerolinecolor": "lightgrey",
         "zerolinewidth": 1
        },
        "xaxis4": {
         "anchor": "y4",
         "domain": [
          0.5940000000000001,
          0.782
         ],
         "gridcolor": "lightgrey",
         "linecolor": "black",
         "matches": "x19",
         "mirror": true,
         "showline": true,
         "showticklabels": false,
         "title": {
          "font": {
           "size": 25
          }
         },
         "zerolinecolor": "lightgrey",
         "zerolinewidth": 1
        },
        "xaxis5": {
         "anchor": "y5",
         "domain": [
          0.792,
          0.98
         ],
         "gridcolor": "lightgrey",
         "linecolor": "black",
         "matches": "x20",
         "mirror": true,
         "showline": true,
         "showticklabels": false,
         "title": {
          "font": {
           "size": 25
          }
         },
         "zerolinecolor": "lightgrey",
         "zerolinewidth": 1
        },
        "xaxis6": {
         "anchor": "y6",
         "domain": [
          0,
          0.188
         ],
         "gridcolor": "lightgrey",
         "linecolor": "black",
         "matches": "x16",
         "mirror": true,
         "showline": true,
         "showticklabels": false,
         "title": {
          "font": {
           "size": 25
          }
         },
         "zerolinecolor": "lightgrey",
         "zerolinewidth": 1
        },
        "xaxis7": {
         "anchor": "y7",
         "domain": [
          0.198,
          0.386
         ],
         "gridcolor": "lightgrey",
         "linecolor": "black",
         "matches": "x17",
         "mirror": true,
         "showline": true,
         "showticklabels": false,
         "title": {
          "font": {
           "size": 25
          }
         },
         "zerolinecolor": "lightgrey",
         "zerolinewidth": 1
        },
        "xaxis8": {
         "anchor": "y8",
         "domain": [
          0.396,
          0.5840000000000001
         ],
         "gridcolor": "lightgrey",
         "linecolor": "black",
         "matches": "x18",
         "mirror": true,
         "showline": true,
         "showticklabels": false,
         "title": {
          "font": {
           "size": 25
          }
         },
         "zerolinecolor": "lightgrey",
         "zerolinewidth": 1
        },
        "xaxis9": {
         "anchor": "y9",
         "domain": [
          0.5940000000000001,
          0.782
         ],
         "gridcolor": "lightgrey",
         "linecolor": "black",
         "matches": "x19",
         "mirror": true,
         "showline": true,
         "showticklabels": false,
         "title": {
          "font": {
           "size": 25
          }
         },
         "zerolinecolor": "lightgrey",
         "zerolinewidth": 1
        },
        "yaxis": {
         "anchor": "x",
         "domain": [
          0.7575000000000001,
          1
         ],
         "gridcolor": "lightgrey",
         "linecolor": "black",
         "mirror": true,
         "showline": true,
         "title": {
          "font": {
           "size": 25
          }
         },
         "zerolinecolor": "lightgrey",
         "zerolinewidth": 1
        },
        "yaxis10": {
         "anchor": "x10",
         "domain": [
          0.505,
          0.7475
         ],
         "gridcolor": "lightgrey",
         "linecolor": "black",
         "mirror": true,
         "showline": true,
         "title": {
          "font": {
           "size": 25
          }
         },
         "zerolinecolor": "lightgrey",
         "zerolinewidth": 1
        },
        "yaxis11": {
         "anchor": "x11",
         "domain": [
          0.2525,
          0.495
         ],
         "gridcolor": "lightgrey",
         "linecolor": "black",
         "mirror": true,
         "showline": true,
         "title": {
          "font": {
           "size": 25
          }
         },
         "zerolinecolor": "lightgrey",
         "zerolinewidth": 1
        },
        "yaxis12": {
         "anchor": "x12",
         "domain": [
          0.2525,
          0.495
         ],
         "gridcolor": "lightgrey",
         "linecolor": "black",
         "mirror": true,
         "showline": true,
         "title": {
          "font": {
           "size": 25
          }
         },
         "zerolinecolor": "lightgrey",
         "zerolinewidth": 1
        },
        "yaxis13": {
         "anchor": "x13",
         "domain": [
          0.2525,
          0.495
         ],
         "gridcolor": "lightgrey",
         "linecolor": "black",
         "mirror": true,
         "showline": true,
         "title": {
          "font": {
           "size": 25
          }
         },
         "zerolinecolor": "lightgrey",
         "zerolinewidth": 1
        },
        "yaxis14": {
         "anchor": "x14",
         "domain": [
          0.2525,
          0.495
         ],
         "gridcolor": "lightgrey",
         "linecolor": "black",
         "mirror": true,
         "showline": true,
         "title": {
          "font": {
           "size": 25
          }
         },
         "zerolinecolor": "lightgrey",
         "zerolinewidth": 1
        },
        "yaxis15": {
         "anchor": "x15",
         "domain": [
          0.2525,
          0.495
         ],
         "gridcolor": "lightgrey",
         "linecolor": "black",
         "mirror": true,
         "showline": true,
         "title": {
          "font": {
           "size": 25
          }
         },
         "zerolinecolor": "lightgrey",
         "zerolinewidth": 1
        },
        "yaxis16": {
         "anchor": "x16",
         "domain": [
          0,
          0.2425
         ],
         "gridcolor": "lightgrey",
         "linecolor": "black",
         "mirror": true,
         "showline": true,
         "title": {
          "font": {
           "size": 25
          }
         },
         "zerolinecolor": "lightgrey",
         "zerolinewidth": 1
        },
        "yaxis17": {
         "anchor": "x17",
         "domain": [
          0,
          0.2425
         ],
         "gridcolor": "lightgrey",
         "linecolor": "black",
         "mirror": true,
         "showline": true,
         "title": {
          "font": {
           "size": 25
          }
         },
         "zerolinecolor": "lightgrey",
         "zerolinewidth": 1
        },
        "yaxis18": {
         "anchor": "x18",
         "domain": [
          0,
          0.2425
         ],
         "gridcolor": "lightgrey",
         "linecolor": "black",
         "mirror": true,
         "showline": true,
         "title": {
          "font": {
           "size": 25
          }
         },
         "zerolinecolor": "lightgrey",
         "zerolinewidth": 1
        },
        "yaxis19": {
         "anchor": "x19",
         "domain": [
          0,
          0.2425
         ],
         "gridcolor": "lightgrey",
         "linecolor": "black",
         "mirror": true,
         "showline": true,
         "title": {
          "font": {
           "size": 25
          }
         },
         "zerolinecolor": "lightgrey",
         "zerolinewidth": 1
        },
        "yaxis2": {
         "anchor": "x2",
         "domain": [
          0.7575000000000001,
          1
         ],
         "gridcolor": "lightgrey",
         "linecolor": "black",
         "mirror": true,
         "showline": true,
         "title": {
          "font": {
           "size": 25
          }
         },
         "zerolinecolor": "lightgrey",
         "zerolinewidth": 1
        },
        "yaxis20": {
         "anchor": "x20",
         "domain": [
          0,
          0.2425
         ],
         "gridcolor": "lightgrey",
         "linecolor": "black",
         "mirror": true,
         "showline": true,
         "title": {
          "font": {
           "size": 25
          }
         },
         "zerolinecolor": "lightgrey",
         "zerolinewidth": 1
        },
        "yaxis3": {
         "anchor": "x3",
         "domain": [
          0.7575000000000001,
          1
         ],
         "gridcolor": "lightgrey",
         "linecolor": "black",
         "mirror": true,
         "showline": true,
         "title": {
          "font": {
           "size": 25
          }
         },
         "zerolinecolor": "lightgrey",
         "zerolinewidth": 1
        },
        "yaxis4": {
         "anchor": "x4",
         "domain": [
          0.7575000000000001,
          1
         ],
         "gridcolor": "lightgrey",
         "linecolor": "black",
         "mirror": true,
         "showline": true,
         "title": {
          "font": {
           "size": 25
          }
         },
         "zerolinecolor": "lightgrey",
         "zerolinewidth": 1
        },
        "yaxis5": {
         "anchor": "x5",
         "domain": [
          0.7575000000000001,
          1
         ],
         "gridcolor": "lightgrey",
         "linecolor": "black",
         "mirror": true,
         "showline": true,
         "title": {
          "font": {
           "size": 25
          }
         },
         "zerolinecolor": "lightgrey",
         "zerolinewidth": 1
        },
        "yaxis6": {
         "anchor": "x6",
         "domain": [
          0.505,
          0.7475
         ],
         "gridcolor": "lightgrey",
         "linecolor": "black",
         "mirror": true,
         "showline": true,
         "title": {
          "font": {
           "size": 25
          }
         },
         "zerolinecolor": "lightgrey",
         "zerolinewidth": 1
        },
        "yaxis7": {
         "anchor": "x7",
         "domain": [
          0.505,
          0.7475
         ],
         "gridcolor": "lightgrey",
         "linecolor": "black",
         "mirror": true,
         "showline": true,
         "title": {
          "font": {
           "size": 25
          }
         },
         "zerolinecolor": "lightgrey",
         "zerolinewidth": 1
        },
        "yaxis8": {
         "anchor": "x8",
         "domain": [
          0.505,
          0.7475
         ],
         "gridcolor": "lightgrey",
         "linecolor": "black",
         "mirror": true,
         "showline": true,
         "title": {
          "font": {
           "size": 25
          }
         },
         "zerolinecolor": "lightgrey",
         "zerolinewidth": 1
        },
        "yaxis9": {
         "anchor": "x9",
         "domain": [
          0.505,
          0.7475
         ],
         "gridcolor": "lightgrey",
         "linecolor": "black",
         "mirror": true,
         "showline": true,
         "title": {
          "font": {
           "size": 25
          }
         },
         "zerolinecolor": "lightgrey",
         "zerolinewidth": 1
        }
       }
      }
     },
     "metadata": {},
     "output_type": "display_data"
    }
   ],
   "source": [
    "refs = {\n",
    "    (1,1): ('x', 'y')    ,  (1,2): ('x2','y2')  , (1,3): ('x3', 'y3')  , (1,4): ('x4','y4')  , (1,5): ('x5','y5'),\n",
    "    (2,1): ('x6', 'y6')  ,  (2,2): ('x7','y7')  , (2,3): ('x8', 'y8')  , (2,4): ('x9','y9')  , (2,5): ('x10','y10'),\n",
    "    (3,1): ('x11', 'y11'),  (3,2): ('x12','y12'), (3,3): ('x13', 'y13'), (3,4): ('x14','y14'), (3,5): ('x15','y15'),\n",
    "    (4,1): ('x16', 'y16'),  (4,2): ('x17','y17'), (4,3): ('x18', 'y18'), (4,4): ('x19','y19'), (4,5): ('x20','y20'),\n",
    "}\n",
    "\n",
    "algs = ['ERM', 'BE', 'EI', 'REI']\n",
    "T = [3, 5, 10, 20]\n",
    "\n",
    "fig = make_subplots(\n",
    "    rows=4, \n",
    "    cols=1+len(T), \n",
    "    shared_xaxes=True, \n",
    "    shared_yaxes=False, \n",
    "    horizontal_spacing=0.01, \n",
    "    vertical_spacing=0.01, \n",
    "    column_titles=['Initial Distribution'] + [f't={t}' for t in T],\n",
    "    row_titles=algs,\n",
    "    x_title='x',\n",
    "    y_title='Density',\n",
    "    )\n",
    "\n",
    "init_data = model2.init_data\n",
    "mu0, sigma0, mu1, sigma1 = init_data[0]['mean'], init_data[0]['std'], init_data[1]['mean'], init_data[1]['std']\n",
    "x0, x1 = np.linspace(mu0 - 4*sigma0, mu0 + 4*sigma0, 100), np.linspace(mu1 - 4*sigma1, mu1 + 4*sigma1, 100)\n",
    "for i in range(4):\n",
    "    fig.add_traces([\n",
    "        go.Scatter(\n",
    "            x=x0, \n",
    "            y=norm.pdf(x0, mu0, sigma0), \n",
    "            marker=dict(color=colors[0]),\n",
    "            mode='lines',\n",
    "            name = 'Group 0',\n",
    "            showlegend=False\n",
    "            ),\n",
    "        go.Scatter(\n",
    "            x=x1,\n",
    "            y=norm.pdf(x1, mu1, sigma1), \n",
    "            marker=dict(color=colors[4]),\n",
    "            mode='lines',\n",
    "            name='Group 1',\n",
    "            showlegend=False\n",
    "        ),\n",
    "        ],\n",
    "        rows=[i+1, i+1],\n",
    "        cols=[1, 1]\n",
    "    )\n",
    "    fig.add_annotation(\n",
    "        xref=refs[(i+1,1)][0], yref=refs[(i+1,1)][1], x=0.3, y=0.17, text = r'$d_{\\mathrm{TV}} = %.2f$' % dtv(mu0, sigma0, mu1, sigma1), showarrow=False\n",
    "    )\n",
    "\n",
    "for ti, t in enumerate(T):\n",
    "    for di, d in enumerate([true_data2[t], be_data2[t], ei_data2[t], rei_data2[t]]):\n",
    "        mu0, sigma0, mu1, sigma1 = d[0]['mean'], d[0]['std'], d[1]['mean'], d[1]['std']\n",
    "        x0, x1 = np.linspace(mu0 - 4*sigma0, mu0 + 4*sigma0, 100), np.linspace(mu1 - 4*sigma1, mu1 + 4*sigma1, 100)\n",
    "        fig.add_traces([\n",
    "            go.Scatter(\n",
    "                x=x0, \n",
    "                y=norm.pdf(x0, mu0, sigma0), \n",
    "                marker=dict(color=colors[0]),\n",
    "                mode='lines',\n",
    "                name = 'Group 0',\n",
    "                showlegend=(di==0 and ti==4)\n",
    "                ),\n",
    "            go.Scatter(\n",
    "                x=x1,\n",
    "                y=norm.pdf(x1, mu1, sigma1), \n",
    "                marker=dict(color=colors[4]),\n",
    "                mode='lines',\n",
    "                name='Group 1',\n",
    "                showlegend=(di==0 and ti==4)\n",
    "            ),\n",
    "            ],\n",
    "            rows=[di+1, di+1],\n",
    "            cols=[ti+2, ti+2]\n",
    "        )\n",
    "        fig.add_annotation(\n",
    "            xref=refs[(di+1,ti+2)][0], yref=refs[(di+1,ti+2)][1], x=0.3, y = 0.12,  text = r'$d_{\\mathrm{TV}} = %.2f$' % dtv(mu0, sigma0, mu1, sigma1), showarrow=False, \n",
    "        )\n",
    "    \n",
    "dpi = 96\n",
    "fig.update_layout(\n",
    "    width = 11*dpi,\n",
    "    height = 8*dpi,\n",
    "    plot_bgcolor='white',\n",
    "        paper_bgcolor='white',\n",
    "        font=dict(\n",
    "            family='Times New Roman', \n",
    "            color='black'\n",
    "            ),\n",
    "        legend=dict(\n",
    "            x=0.815, \n",
    "            y=0.997, \n",
    "            # x=1.05, \n",
    "            # y=0.975, \n",
    "            xanchor='left',\n",
    "            font=dict(size=10), \n",
    "            bgcolor='rgba(255, 255, 255, 0.7)',\n",
    "            bordercolor='lightgrey',\n",
    "            borderwidth=1,\n",
    "            # entrywidth=0.1,\n",
    "            entrywidthmode='pixels',\n",
    "            orientation='h'\n",
    "            ),\n",
    ")\n",
    "\n",
    "fig.update_xaxes(\n",
    "    title=dict(\n",
    "        font=dict(size=25)\n",
    "        ), \n",
    "    showline=True, \n",
    "    mirror=True,\n",
    "    linecolor='black', \n",
    "    gridcolor='lightgrey', \n",
    "    zerolinewidth=1,\n",
    "    zerolinecolor='lightgrey',\n",
    "    # range=[-45,45],\n",
    "    # dtick=25\n",
    "    )\n",
    "\n",
    "fig.update_yaxes(\n",
    "    title=dict(\n",
    "        font=dict(size=25), \n",
    "        ), \n",
    "    showline=True, \n",
    "    mirror=True,\n",
    "    linecolor='black', \n",
    "    gridcolor='lightgrey',\n",
    "    zerolinewidth=1,\n",
    "    zerolinecolor='lightgrey',\n",
    "    # range=[-0.01, 0.17]\n",
    "    )\n",
    "  \n",
    "        \n",
    "fig.show()"
   ]
  },
  {
   "cell_type": "code",
   "execution_count": 360,
   "metadata": {},
   "outputs": [],
   "source": [
    "fig.write_image('../figs/distribution_evolution.pdf')"
   ]
  }
 ],
 "metadata": {
  "kernelspec": {
   "display_name": ".env",
   "language": "python",
   "name": "python3"
  },
  "language_info": {
   "codemirror_mode": {
    "name": "ipython",
    "version": 3
   },
   "file_extension": ".py",
   "mimetype": "text/x-python",
   "name": "python",
   "nbconvert_exporter": "python",
   "pygments_lexer": "ipython3",
   "version": "3.12.4"
  }
 },
 "nbformat": 4,
 "nbformat_minor": 2
}
